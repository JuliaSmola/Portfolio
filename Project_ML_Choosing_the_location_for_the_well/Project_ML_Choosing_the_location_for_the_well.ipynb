{
 "cells": [
  {
   "cell_type": "markdown",
   "metadata": {},
   "source": [
    "# Выбор локации для скважины"
   ]
  },
  {
   "cell_type": "markdown",
   "metadata": {},
   "source": [
    "Добывающей компании «ГлавРосГосНефть» нужно решить, где бурить новую скважину.\n",
    "\n",
    "Вам предоставлены пробы нефти в трёх регионах: в каждом 10 000 месторождений, где измерили качество нефти и объём её запасов. Постройте модель машинного обучения, которая поможет определить регион, где добыча принесёт наибольшую прибыль. Проанализируйте возможную прибыль и риски техникой *Bootstrap.*\n",
    "\n",
    "Шаги для выбора локации:\n",
    "\n",
    "- В избранном регионе ищут месторождения, для каждого определяют значения признаков;\n",
    "- Строят модель и оценивают объём запасов;\n",
    "- Выбирают месторождения с самым высокими оценками значений. Количество месторождений зависит от бюджета компании и стоимости разработки одной скважины;\n",
    "- Прибыль равна суммарной прибыли отобранных месторождений."
   ]
  },
  {
   "cell_type": "markdown",
   "metadata": {},
   "source": [
    "## Загрузка и подготовка данных"
   ]
  },
  {
   "cell_type": "markdown",
   "metadata": {},
   "source": [
    "### Импорт библиотек"
   ]
  },
  {
   "cell_type": "code",
   "execution_count": 1,
   "metadata": {},
   "outputs": [],
   "source": [
    "import pandas as pd\n",
    "import matplotlib.pyplot as plt\n",
    "import seaborn as sns\n",
    "import numpy as np\n",
    "\n",
    "from sklearn.model_selection import train_test_split\n",
    "from sklearn.linear_model import LinearRegression\n",
    "from sklearn.preprocessing import StandardScaler\n",
    "from sklearn.metrics import mean_squared_error\n",
    "from numpy.random import RandomState\n",
    "from scipy import stats as st"
   ]
  },
  {
   "cell_type": "code",
   "execution_count": 2,
   "metadata": {},
   "outputs": [],
   "source": [
    "RANDOM_STATE = 42\n",
    "TEST_SIZE = 0.25"
   ]
  },
  {
   "cell_type": "markdown",
   "metadata": {},
   "source": [
    "### Загрузка данных"
   ]
  },
  {
   "cell_type": "code",
   "execution_count": 3,
   "metadata": {},
   "outputs": [],
   "source": [
    "geo_0 = pd.read_csv('/datasets/geo_data_0.csv', sep = ',')\n",
    "geo_1 = pd.read_csv('/datasets/geo_data_1.csv', sep = ',')\n",
    "geo_2 = pd.read_csv('/datasets/geo_data_2.csv', sep = ',')"
   ]
  },
  {
   "cell_type": "markdown",
   "metadata": {},
   "source": [
    "### Общая информация о данных"
   ]
  },
  {
   "cell_type": "code",
   "execution_count": 4,
   "metadata": {},
   "outputs": [],
   "source": [
    "def general_info_data(df):\n",
    "    display(df.head())\n",
    "    display(df.info())"
   ]
  },
  {
   "cell_type": "markdown",
   "metadata": {},
   "source": [
    "Характеристики скважины региона 0:"
   ]
  },
  {
   "cell_type": "code",
   "execution_count": 5,
   "metadata": {},
   "outputs": [
    {
     "data": {
      "text/html": [
       "<div>\n",
       "<style scoped>\n",
       "    .dataframe tbody tr th:only-of-type {\n",
       "        vertical-align: middle;\n",
       "    }\n",
       "\n",
       "    .dataframe tbody tr th {\n",
       "        vertical-align: top;\n",
       "    }\n",
       "\n",
       "    .dataframe thead th {\n",
       "        text-align: right;\n",
       "    }\n",
       "</style>\n",
       "<table border=\"1\" class=\"dataframe\">\n",
       "  <thead>\n",
       "    <tr style=\"text-align: right;\">\n",
       "      <th></th>\n",
       "      <th>id</th>\n",
       "      <th>f0</th>\n",
       "      <th>f1</th>\n",
       "      <th>f2</th>\n",
       "      <th>product</th>\n",
       "    </tr>\n",
       "  </thead>\n",
       "  <tbody>\n",
       "    <tr>\n",
       "      <th>0</th>\n",
       "      <td>txEyH</td>\n",
       "      <td>0.705745</td>\n",
       "      <td>-0.497823</td>\n",
       "      <td>1.221170</td>\n",
       "      <td>105.280062</td>\n",
       "    </tr>\n",
       "    <tr>\n",
       "      <th>1</th>\n",
       "      <td>2acmU</td>\n",
       "      <td>1.334711</td>\n",
       "      <td>-0.340164</td>\n",
       "      <td>4.365080</td>\n",
       "      <td>73.037750</td>\n",
       "    </tr>\n",
       "    <tr>\n",
       "      <th>2</th>\n",
       "      <td>409Wp</td>\n",
       "      <td>1.022732</td>\n",
       "      <td>0.151990</td>\n",
       "      <td>1.419926</td>\n",
       "      <td>85.265647</td>\n",
       "    </tr>\n",
       "    <tr>\n",
       "      <th>3</th>\n",
       "      <td>iJLyR</td>\n",
       "      <td>-0.032172</td>\n",
       "      <td>0.139033</td>\n",
       "      <td>2.978566</td>\n",
       "      <td>168.620776</td>\n",
       "    </tr>\n",
       "    <tr>\n",
       "      <th>4</th>\n",
       "      <td>Xdl7t</td>\n",
       "      <td>1.988431</td>\n",
       "      <td>0.155413</td>\n",
       "      <td>4.751769</td>\n",
       "      <td>154.036647</td>\n",
       "    </tr>\n",
       "  </tbody>\n",
       "</table>\n",
       "</div>"
      ],
      "text/plain": [
       "      id        f0        f1        f2     product\n",
       "0  txEyH  0.705745 -0.497823  1.221170  105.280062\n",
       "1  2acmU  1.334711 -0.340164  4.365080   73.037750\n",
       "2  409Wp  1.022732  0.151990  1.419926   85.265647\n",
       "3  iJLyR -0.032172  0.139033  2.978566  168.620776\n",
       "4  Xdl7t  1.988431  0.155413  4.751769  154.036647"
      ]
     },
     "metadata": {},
     "output_type": "display_data"
    },
    {
     "name": "stdout",
     "output_type": "stream",
     "text": [
      "<class 'pandas.core.frame.DataFrame'>\n",
      "RangeIndex: 100000 entries, 0 to 99999\n",
      "Data columns (total 5 columns):\n",
      " #   Column   Non-Null Count   Dtype  \n",
      "---  ------   --------------   -----  \n",
      " 0   id       100000 non-null  object \n",
      " 1   f0       100000 non-null  float64\n",
      " 2   f1       100000 non-null  float64\n",
      " 3   f2       100000 non-null  float64\n",
      " 4   product  100000 non-null  float64\n",
      "dtypes: float64(4), object(1)\n",
      "memory usage: 3.8+ MB\n"
     ]
    },
    {
     "data": {
      "text/plain": [
       "None"
      ]
     },
     "metadata": {},
     "output_type": "display_data"
    }
   ],
   "source": [
    "general_info_data(geo_0)"
   ]
  },
  {
   "cell_type": "markdown",
   "metadata": {},
   "source": [
    "Характеристики скважины региона 1:"
   ]
  },
  {
   "cell_type": "code",
   "execution_count": 6,
   "metadata": {},
   "outputs": [
    {
     "data": {
      "text/html": [
       "<div>\n",
       "<style scoped>\n",
       "    .dataframe tbody tr th:only-of-type {\n",
       "        vertical-align: middle;\n",
       "    }\n",
       "\n",
       "    .dataframe tbody tr th {\n",
       "        vertical-align: top;\n",
       "    }\n",
       "\n",
       "    .dataframe thead th {\n",
       "        text-align: right;\n",
       "    }\n",
       "</style>\n",
       "<table border=\"1\" class=\"dataframe\">\n",
       "  <thead>\n",
       "    <tr style=\"text-align: right;\">\n",
       "      <th></th>\n",
       "      <th>id</th>\n",
       "      <th>f0</th>\n",
       "      <th>f1</th>\n",
       "      <th>f2</th>\n",
       "      <th>product</th>\n",
       "    </tr>\n",
       "  </thead>\n",
       "  <tbody>\n",
       "    <tr>\n",
       "      <th>0</th>\n",
       "      <td>kBEdx</td>\n",
       "      <td>-15.001348</td>\n",
       "      <td>-8.276000</td>\n",
       "      <td>-0.005876</td>\n",
       "      <td>3.179103</td>\n",
       "    </tr>\n",
       "    <tr>\n",
       "      <th>1</th>\n",
       "      <td>62mP7</td>\n",
       "      <td>14.272088</td>\n",
       "      <td>-3.475083</td>\n",
       "      <td>0.999183</td>\n",
       "      <td>26.953261</td>\n",
       "    </tr>\n",
       "    <tr>\n",
       "      <th>2</th>\n",
       "      <td>vyE1P</td>\n",
       "      <td>6.263187</td>\n",
       "      <td>-5.948386</td>\n",
       "      <td>5.001160</td>\n",
       "      <td>134.766305</td>\n",
       "    </tr>\n",
       "    <tr>\n",
       "      <th>3</th>\n",
       "      <td>KcrkZ</td>\n",
       "      <td>-13.081196</td>\n",
       "      <td>-11.506057</td>\n",
       "      <td>4.999415</td>\n",
       "      <td>137.945408</td>\n",
       "    </tr>\n",
       "    <tr>\n",
       "      <th>4</th>\n",
       "      <td>AHL4O</td>\n",
       "      <td>12.702195</td>\n",
       "      <td>-8.147433</td>\n",
       "      <td>5.004363</td>\n",
       "      <td>134.766305</td>\n",
       "    </tr>\n",
       "  </tbody>\n",
       "</table>\n",
       "</div>"
      ],
      "text/plain": [
       "      id         f0         f1        f2     product\n",
       "0  kBEdx -15.001348  -8.276000 -0.005876    3.179103\n",
       "1  62mP7  14.272088  -3.475083  0.999183   26.953261\n",
       "2  vyE1P   6.263187  -5.948386  5.001160  134.766305\n",
       "3  KcrkZ -13.081196 -11.506057  4.999415  137.945408\n",
       "4  AHL4O  12.702195  -8.147433  5.004363  134.766305"
      ]
     },
     "metadata": {},
     "output_type": "display_data"
    },
    {
     "name": "stdout",
     "output_type": "stream",
     "text": [
      "<class 'pandas.core.frame.DataFrame'>\n",
      "RangeIndex: 100000 entries, 0 to 99999\n",
      "Data columns (total 5 columns):\n",
      " #   Column   Non-Null Count   Dtype  \n",
      "---  ------   --------------   -----  \n",
      " 0   id       100000 non-null  object \n",
      " 1   f0       100000 non-null  float64\n",
      " 2   f1       100000 non-null  float64\n",
      " 3   f2       100000 non-null  float64\n",
      " 4   product  100000 non-null  float64\n",
      "dtypes: float64(4), object(1)\n",
      "memory usage: 3.8+ MB\n"
     ]
    },
    {
     "data": {
      "text/plain": [
       "None"
      ]
     },
     "metadata": {},
     "output_type": "display_data"
    }
   ],
   "source": [
    "general_info_data(geo_1)"
   ]
  },
  {
   "cell_type": "markdown",
   "metadata": {},
   "source": [
    "Характеристики скважины региона 2:"
   ]
  },
  {
   "cell_type": "code",
   "execution_count": 7,
   "metadata": {},
   "outputs": [
    {
     "data": {
      "text/html": [
       "<div>\n",
       "<style scoped>\n",
       "    .dataframe tbody tr th:only-of-type {\n",
       "        vertical-align: middle;\n",
       "    }\n",
       "\n",
       "    .dataframe tbody tr th {\n",
       "        vertical-align: top;\n",
       "    }\n",
       "\n",
       "    .dataframe thead th {\n",
       "        text-align: right;\n",
       "    }\n",
       "</style>\n",
       "<table border=\"1\" class=\"dataframe\">\n",
       "  <thead>\n",
       "    <tr style=\"text-align: right;\">\n",
       "      <th></th>\n",
       "      <th>id</th>\n",
       "      <th>f0</th>\n",
       "      <th>f1</th>\n",
       "      <th>f2</th>\n",
       "      <th>product</th>\n",
       "    </tr>\n",
       "  </thead>\n",
       "  <tbody>\n",
       "    <tr>\n",
       "      <th>0</th>\n",
       "      <td>fwXo0</td>\n",
       "      <td>-1.146987</td>\n",
       "      <td>0.963328</td>\n",
       "      <td>-0.828965</td>\n",
       "      <td>27.758673</td>\n",
       "    </tr>\n",
       "    <tr>\n",
       "      <th>1</th>\n",
       "      <td>WJtFt</td>\n",
       "      <td>0.262778</td>\n",
       "      <td>0.269839</td>\n",
       "      <td>-2.530187</td>\n",
       "      <td>56.069697</td>\n",
       "    </tr>\n",
       "    <tr>\n",
       "      <th>2</th>\n",
       "      <td>ovLUW</td>\n",
       "      <td>0.194587</td>\n",
       "      <td>0.289035</td>\n",
       "      <td>-5.586433</td>\n",
       "      <td>62.871910</td>\n",
       "    </tr>\n",
       "    <tr>\n",
       "      <th>3</th>\n",
       "      <td>q6cA6</td>\n",
       "      <td>2.236060</td>\n",
       "      <td>-0.553760</td>\n",
       "      <td>0.930038</td>\n",
       "      <td>114.572842</td>\n",
       "    </tr>\n",
       "    <tr>\n",
       "      <th>4</th>\n",
       "      <td>WPMUX</td>\n",
       "      <td>-0.515993</td>\n",
       "      <td>1.716266</td>\n",
       "      <td>5.899011</td>\n",
       "      <td>149.600746</td>\n",
       "    </tr>\n",
       "  </tbody>\n",
       "</table>\n",
       "</div>"
      ],
      "text/plain": [
       "      id        f0        f1        f2     product\n",
       "0  fwXo0 -1.146987  0.963328 -0.828965   27.758673\n",
       "1  WJtFt  0.262778  0.269839 -2.530187   56.069697\n",
       "2  ovLUW  0.194587  0.289035 -5.586433   62.871910\n",
       "3  q6cA6  2.236060 -0.553760  0.930038  114.572842\n",
       "4  WPMUX -0.515993  1.716266  5.899011  149.600746"
      ]
     },
     "metadata": {},
     "output_type": "display_data"
    },
    {
     "name": "stdout",
     "output_type": "stream",
     "text": [
      "<class 'pandas.core.frame.DataFrame'>\n",
      "RangeIndex: 100000 entries, 0 to 99999\n",
      "Data columns (total 5 columns):\n",
      " #   Column   Non-Null Count   Dtype  \n",
      "---  ------   --------------   -----  \n",
      " 0   id       100000 non-null  object \n",
      " 1   f0       100000 non-null  float64\n",
      " 2   f1       100000 non-null  float64\n",
      " 3   f2       100000 non-null  float64\n",
      " 4   product  100000 non-null  float64\n",
      "dtypes: float64(4), object(1)\n",
      "memory usage: 3.8+ MB\n"
     ]
    },
    {
     "data": {
      "text/plain": [
       "None"
      ]
     },
     "metadata": {},
     "output_type": "display_data"
    }
   ],
   "source": [
    "general_info_data(geo_2)"
   ]
  },
  {
   "cell_type": "markdown",
   "metadata": {},
   "source": [
    "### Проверка на дубликаты"
   ]
  },
  {
   "cell_type": "code",
   "execution_count": 8,
   "metadata": {
    "scrolled": true
   },
   "outputs": [
    {
     "data": {
      "text/plain": [
       "0"
      ]
     },
     "execution_count": 8,
     "metadata": {},
     "output_type": "execute_result"
    }
   ],
   "source": [
    "geo_0.duplicated().sum()"
   ]
  },
  {
   "cell_type": "code",
   "execution_count": 9,
   "metadata": {
    "scrolled": true
   },
   "outputs": [
    {
     "data": {
      "text/plain": [
       "0"
      ]
     },
     "execution_count": 9,
     "metadata": {},
     "output_type": "execute_result"
    }
   ],
   "source": [
    "geo_1.duplicated().sum()"
   ]
  },
  {
   "cell_type": "code",
   "execution_count": 10,
   "metadata": {
    "scrolled": true
   },
   "outputs": [
    {
     "data": {
      "text/plain": [
       "0"
      ]
     },
     "execution_count": 10,
     "metadata": {},
     "output_type": "execute_result"
    }
   ],
   "source": [
    "geo_2.duplicated().sum()"
   ]
  },
  {
   "cell_type": "markdown",
   "metadata": {},
   "source": [
    "### Поиск пропущенных значений"
   ]
  },
  {
   "cell_type": "code",
   "execution_count": 11,
   "metadata": {},
   "outputs": [
    {
     "data": {
      "text/plain": [
       "id         0\n",
       "f0         0\n",
       "f1         0\n",
       "f2         0\n",
       "product    0\n",
       "dtype: int64"
      ]
     },
     "execution_count": 11,
     "metadata": {},
     "output_type": "execute_result"
    }
   ],
   "source": [
    "geo_0.isna().sum()"
   ]
  },
  {
   "cell_type": "code",
   "execution_count": 12,
   "metadata": {},
   "outputs": [
    {
     "data": {
      "text/plain": [
       "id         0\n",
       "f0         0\n",
       "f1         0\n",
       "f2         0\n",
       "product    0\n",
       "dtype: int64"
      ]
     },
     "execution_count": 12,
     "metadata": {},
     "output_type": "execute_result"
    }
   ],
   "source": [
    "geo_1.isna().sum()"
   ]
  },
  {
   "cell_type": "code",
   "execution_count": 13,
   "metadata": {},
   "outputs": [
    {
     "data": {
      "text/plain": [
       "id         0\n",
       "f0         0\n",
       "f1         0\n",
       "f2         0\n",
       "product    0\n",
       "dtype: int64"
      ]
     },
     "execution_count": 13,
     "metadata": {},
     "output_type": "execute_result"
    }
   ],
   "source": [
    "geo_2.isna().sum()"
   ]
  },
  {
   "cell_type": "markdown",
   "metadata": {},
   "source": [
    "**ВЫВОД:**\n",
    "\n",
    "Датафреймы с характеристиками скважин трех регионов:\n",
    "- содержат 100000 строк;\n",
    "- дубликатов нет;\n",
    "- пропусков нет;\n",
    "- типы данных в столбцах указаны корректно."
   ]
  },
  {
   "cell_type": "markdown",
   "metadata": {},
   "source": [
    "### Исследовательский анализ данных"
   ]
  },
  {
   "cell_type": "code",
   "execution_count": 14,
   "metadata": {},
   "outputs": [
    {
     "data": {
      "text/html": [
       "<div>\n",
       "<style scoped>\n",
       "    .dataframe tbody tr th:only-of-type {\n",
       "        vertical-align: middle;\n",
       "    }\n",
       "\n",
       "    .dataframe tbody tr th {\n",
       "        vertical-align: top;\n",
       "    }\n",
       "\n",
       "    .dataframe thead th {\n",
       "        text-align: right;\n",
       "    }\n",
       "</style>\n",
       "<table border=\"1\" class=\"dataframe\">\n",
       "  <thead>\n",
       "    <tr style=\"text-align: right;\">\n",
       "      <th></th>\n",
       "      <th>f0</th>\n",
       "      <th>f1</th>\n",
       "      <th>f2</th>\n",
       "      <th>product</th>\n",
       "    </tr>\n",
       "  </thead>\n",
       "  <tbody>\n",
       "    <tr>\n",
       "      <th>count</th>\n",
       "      <td>100000.000000</td>\n",
       "      <td>100000.000000</td>\n",
       "      <td>100000.000000</td>\n",
       "      <td>100000.000000</td>\n",
       "    </tr>\n",
       "    <tr>\n",
       "      <th>mean</th>\n",
       "      <td>0.500419</td>\n",
       "      <td>0.250143</td>\n",
       "      <td>2.502647</td>\n",
       "      <td>92.500000</td>\n",
       "    </tr>\n",
       "    <tr>\n",
       "      <th>std</th>\n",
       "      <td>0.871832</td>\n",
       "      <td>0.504433</td>\n",
       "      <td>3.248248</td>\n",
       "      <td>44.288691</td>\n",
       "    </tr>\n",
       "    <tr>\n",
       "      <th>min</th>\n",
       "      <td>-1.408605</td>\n",
       "      <td>-0.848218</td>\n",
       "      <td>-12.088328</td>\n",
       "      <td>0.000000</td>\n",
       "    </tr>\n",
       "    <tr>\n",
       "      <th>25%</th>\n",
       "      <td>-0.072580</td>\n",
       "      <td>-0.200881</td>\n",
       "      <td>0.287748</td>\n",
       "      <td>56.497507</td>\n",
       "    </tr>\n",
       "    <tr>\n",
       "      <th>50%</th>\n",
       "      <td>0.502360</td>\n",
       "      <td>0.250252</td>\n",
       "      <td>2.515969</td>\n",
       "      <td>91.849972</td>\n",
       "    </tr>\n",
       "    <tr>\n",
       "      <th>75%</th>\n",
       "      <td>1.073581</td>\n",
       "      <td>0.700646</td>\n",
       "      <td>4.715088</td>\n",
       "      <td>128.564089</td>\n",
       "    </tr>\n",
       "    <tr>\n",
       "      <th>max</th>\n",
       "      <td>2.362331</td>\n",
       "      <td>1.343769</td>\n",
       "      <td>16.003790</td>\n",
       "      <td>185.364347</td>\n",
       "    </tr>\n",
       "  </tbody>\n",
       "</table>\n",
       "</div>"
      ],
      "text/plain": [
       "                  f0             f1             f2        product\n",
       "count  100000.000000  100000.000000  100000.000000  100000.000000\n",
       "mean        0.500419       0.250143       2.502647      92.500000\n",
       "std         0.871832       0.504433       3.248248      44.288691\n",
       "min        -1.408605      -0.848218     -12.088328       0.000000\n",
       "25%        -0.072580      -0.200881       0.287748      56.497507\n",
       "50%         0.502360       0.250252       2.515969      91.849972\n",
       "75%         1.073581       0.700646       4.715088     128.564089\n",
       "max         2.362331       1.343769      16.003790     185.364347"
      ]
     },
     "execution_count": 14,
     "metadata": {},
     "output_type": "execute_result"
    }
   ],
   "source": [
    "geo_0.describe()"
   ]
  },
  {
   "cell_type": "code",
   "execution_count": 15,
   "metadata": {},
   "outputs": [
    {
     "data": {
      "text/html": [
       "<div>\n",
       "<style scoped>\n",
       "    .dataframe tbody tr th:only-of-type {\n",
       "        vertical-align: middle;\n",
       "    }\n",
       "\n",
       "    .dataframe tbody tr th {\n",
       "        vertical-align: top;\n",
       "    }\n",
       "\n",
       "    .dataframe thead th {\n",
       "        text-align: right;\n",
       "    }\n",
       "</style>\n",
       "<table border=\"1\" class=\"dataframe\">\n",
       "  <thead>\n",
       "    <tr style=\"text-align: right;\">\n",
       "      <th></th>\n",
       "      <th>f0</th>\n",
       "      <th>f1</th>\n",
       "      <th>f2</th>\n",
       "      <th>product</th>\n",
       "    </tr>\n",
       "  </thead>\n",
       "  <tbody>\n",
       "    <tr>\n",
       "      <th>count</th>\n",
       "      <td>100000.000000</td>\n",
       "      <td>100000.000000</td>\n",
       "      <td>100000.000000</td>\n",
       "      <td>100000.000000</td>\n",
       "    </tr>\n",
       "    <tr>\n",
       "      <th>mean</th>\n",
       "      <td>1.141296</td>\n",
       "      <td>-4.796579</td>\n",
       "      <td>2.494541</td>\n",
       "      <td>68.825000</td>\n",
       "    </tr>\n",
       "    <tr>\n",
       "      <th>std</th>\n",
       "      <td>8.965932</td>\n",
       "      <td>5.119872</td>\n",
       "      <td>1.703572</td>\n",
       "      <td>45.944423</td>\n",
       "    </tr>\n",
       "    <tr>\n",
       "      <th>min</th>\n",
       "      <td>-31.609576</td>\n",
       "      <td>-26.358598</td>\n",
       "      <td>-0.018144</td>\n",
       "      <td>0.000000</td>\n",
       "    </tr>\n",
       "    <tr>\n",
       "      <th>25%</th>\n",
       "      <td>-6.298551</td>\n",
       "      <td>-8.267985</td>\n",
       "      <td>1.000021</td>\n",
       "      <td>26.953261</td>\n",
       "    </tr>\n",
       "    <tr>\n",
       "      <th>50%</th>\n",
       "      <td>1.153055</td>\n",
       "      <td>-4.813172</td>\n",
       "      <td>2.011479</td>\n",
       "      <td>57.085625</td>\n",
       "    </tr>\n",
       "    <tr>\n",
       "      <th>75%</th>\n",
       "      <td>8.621015</td>\n",
       "      <td>-1.332816</td>\n",
       "      <td>3.999904</td>\n",
       "      <td>107.813044</td>\n",
       "    </tr>\n",
       "    <tr>\n",
       "      <th>max</th>\n",
       "      <td>29.421755</td>\n",
       "      <td>18.734063</td>\n",
       "      <td>5.019721</td>\n",
       "      <td>137.945408</td>\n",
       "    </tr>\n",
       "  </tbody>\n",
       "</table>\n",
       "</div>"
      ],
      "text/plain": [
       "                  f0             f1             f2        product\n",
       "count  100000.000000  100000.000000  100000.000000  100000.000000\n",
       "mean        1.141296      -4.796579       2.494541      68.825000\n",
       "std         8.965932       5.119872       1.703572      45.944423\n",
       "min       -31.609576     -26.358598      -0.018144       0.000000\n",
       "25%        -6.298551      -8.267985       1.000021      26.953261\n",
       "50%         1.153055      -4.813172       2.011479      57.085625\n",
       "75%         8.621015      -1.332816       3.999904     107.813044\n",
       "max        29.421755      18.734063       5.019721     137.945408"
      ]
     },
     "execution_count": 15,
     "metadata": {},
     "output_type": "execute_result"
    }
   ],
   "source": [
    "geo_1.describe()"
   ]
  },
  {
   "cell_type": "code",
   "execution_count": 16,
   "metadata": {},
   "outputs": [
    {
     "data": {
      "text/html": [
       "<div>\n",
       "<style scoped>\n",
       "    .dataframe tbody tr th:only-of-type {\n",
       "        vertical-align: middle;\n",
       "    }\n",
       "\n",
       "    .dataframe tbody tr th {\n",
       "        vertical-align: top;\n",
       "    }\n",
       "\n",
       "    .dataframe thead th {\n",
       "        text-align: right;\n",
       "    }\n",
       "</style>\n",
       "<table border=\"1\" class=\"dataframe\">\n",
       "  <thead>\n",
       "    <tr style=\"text-align: right;\">\n",
       "      <th></th>\n",
       "      <th>f0</th>\n",
       "      <th>f1</th>\n",
       "      <th>f2</th>\n",
       "      <th>product</th>\n",
       "    </tr>\n",
       "  </thead>\n",
       "  <tbody>\n",
       "    <tr>\n",
       "      <th>count</th>\n",
       "      <td>100000.000000</td>\n",
       "      <td>100000.000000</td>\n",
       "      <td>100000.000000</td>\n",
       "      <td>100000.000000</td>\n",
       "    </tr>\n",
       "    <tr>\n",
       "      <th>mean</th>\n",
       "      <td>0.002023</td>\n",
       "      <td>-0.002081</td>\n",
       "      <td>2.495128</td>\n",
       "      <td>95.000000</td>\n",
       "    </tr>\n",
       "    <tr>\n",
       "      <th>std</th>\n",
       "      <td>1.732045</td>\n",
       "      <td>1.730417</td>\n",
       "      <td>3.473445</td>\n",
       "      <td>44.749921</td>\n",
       "    </tr>\n",
       "    <tr>\n",
       "      <th>min</th>\n",
       "      <td>-8.760004</td>\n",
       "      <td>-7.084020</td>\n",
       "      <td>-11.970335</td>\n",
       "      <td>0.000000</td>\n",
       "    </tr>\n",
       "    <tr>\n",
       "      <th>25%</th>\n",
       "      <td>-1.162288</td>\n",
       "      <td>-1.174820</td>\n",
       "      <td>0.130359</td>\n",
       "      <td>59.450441</td>\n",
       "    </tr>\n",
       "    <tr>\n",
       "      <th>50%</th>\n",
       "      <td>0.009424</td>\n",
       "      <td>-0.009482</td>\n",
       "      <td>2.484236</td>\n",
       "      <td>94.925613</td>\n",
       "    </tr>\n",
       "    <tr>\n",
       "      <th>75%</th>\n",
       "      <td>1.158535</td>\n",
       "      <td>1.163678</td>\n",
       "      <td>4.858794</td>\n",
       "      <td>130.595027</td>\n",
       "    </tr>\n",
       "    <tr>\n",
       "      <th>max</th>\n",
       "      <td>7.238262</td>\n",
       "      <td>7.844801</td>\n",
       "      <td>16.739402</td>\n",
       "      <td>190.029838</td>\n",
       "    </tr>\n",
       "  </tbody>\n",
       "</table>\n",
       "</div>"
      ],
      "text/plain": [
       "                  f0             f1             f2        product\n",
       "count  100000.000000  100000.000000  100000.000000  100000.000000\n",
       "mean        0.002023      -0.002081       2.495128      95.000000\n",
       "std         1.732045       1.730417       3.473445      44.749921\n",
       "min        -8.760004      -7.084020     -11.970335       0.000000\n",
       "25%        -1.162288      -1.174820       0.130359      59.450441\n",
       "50%         0.009424      -0.009482       2.484236      94.925613\n",
       "75%         1.158535       1.163678       4.858794     130.595027\n",
       "max         7.238262       7.844801      16.739402     190.029838"
      ]
     },
     "execution_count": 16,
     "metadata": {},
     "output_type": "execute_result"
    }
   ],
   "source": [
    "geo_2.describe()"
   ]
  },
  {
   "cell_type": "code",
   "execution_count": 17,
   "metadata": {},
   "outputs": [
    {
     "data": {
      "image/png": "[encoded data removed]",
      "text/plain": [
       "<Figure size 1080x720 with 3 Axes>"
      ]
     },
     "metadata": {
      "needs_background": "light"
     },
     "output_type": "display_data"
    }
   ],
   "source": [
    "fig, axs = plt.subplots(nrows=3, ncols=1, sharex=True, figsize = (15,10))\n",
    "    \n",
    "sns.boxplot(data = geo_0, x = 'product', ax=axs[0])\n",
    "axs[0].set_xlabel(' ')\n",
    "axs[0].set_title('Регион 0')\n",
    "\n",
    "sns.boxplot(data = geo_1, x = 'product', ax=axs[1])\n",
    "axs[1].set_xlabel(' ')\n",
    "axs[1].set_title('Регион 1')\n",
    "\n",
    "sns.boxplot(data = geo_2, x = 'product', ax=axs[2])\n",
    "axs[2].set_xlabel(' ')\n",
    "axs[2].set_title('Регион 2')\n",
    "\n",
    "fig.suptitle('Объём запасов в скважине, тыс. баррелей', fontsize = 'xx-large', fontweight = 600)\n",
    "plt.show()"
   ]
  },
  {
   "cell_type": "markdown",
   "metadata": {},
   "source": [
    "**ВЫВОД:**\n",
    "\n",
    "В регионах 0 и 2 запасы объемов в скважине 91.8 тыс.бр и 94.9 тыс.бр соответственно.\n",
    "\n",
    "В регионе 1 запасы объемов в скважине меньше - 57.1 тыс.бр.\n",
    "\n",
    "Выбросов в данных нет."
   ]
  },
  {
   "cell_type": "markdown",
   "metadata": {},
   "source": [
    "## Обучение и проверка модели"
   ]
  },
  {
   "cell_type": "markdown",
   "metadata": {},
   "source": [
    "Создадим функцию:\n",
    "\n",
    "- Разобъем данные на обучающую и валидационную выборки в соотношении 75:25\n",
    "- Масштабируем данные\n",
    "- Обучим модель\n",
    "- Сделаем предсказания на валидационной выборке\n",
    "- Сохраним предсказания и правильные ответы на валидационной выборке\n",
    "- Вычислим средний запас предсказанного сырья и RMSE модели\n"
   ]
  },
  {
   "cell_type": "code",
   "execution_count": 18,
   "metadata": {},
   "outputs": [],
   "source": [
    "def separation_fit(df):\n",
    "    X = df.drop(['id', 'product'], axis=1)\n",
    "    y = df['product']\n",
    "    \n",
    "    X_train, X_valid, y_train, y_valid = train_test_split(X, y, test_size=TEST_SIZE, random_state=RANDOM_STATE)\n",
    "    \n",
    "    scaler = StandardScaler()\n",
    "    X_train_scaler = scaler.fit_transform(X_train)\n",
    "    X_valid_scaler = scaler.transform(X_valid)\n",
    "\n",
    "    model = LinearRegression()\n",
    "    model.fit(X_train_scaler, y_train)\n",
    "    pred_valid = model.predict(X_valid_scaler)\n",
    "    \n",
    "    mean_pred_valid = pred_valid.mean()\n",
    "    rmse = mean_squared_error(y_valid, pred_valid, squared=False)\n",
    "    \n",
    "    return pred_valid, y_valid, mean_pred_valid, rmse"
   ]
  },
  {
   "cell_type": "code",
   "execution_count": 19,
   "metadata": {},
   "outputs": [
    {
     "name": "stdout",
     "output_type": "stream",
     "text": [
      "Средний запас предсказанного сырья в регионе 0: 92.4 тыс.бр\n",
      "Значение метрики RMSE: 37.8\n"
     ]
    }
   ],
   "source": [
    "pred_valid_0, y_valid_0, mean_pred_valid_0, rmse_0 = separation_fit(geo_0)\n",
    "print(f'Средний запас предсказанного сырья в регионе 0: {mean_pred_valid_0.round(1)} тыс.бр\\nЗначение метрики RMSE: {rmse_0.round(1)}')"
   ]
  },
  {
   "cell_type": "code",
   "execution_count": 20,
   "metadata": {},
   "outputs": [
    {
     "name": "stdout",
     "output_type": "stream",
     "text": [
      "Средний запас предсказанного сырья в регионе 1: 68.7 тыс.бр\n",
      "Значение метрики RMSE: 0.9\n"
     ]
    }
   ],
   "source": [
    "pred_valid_1, y_valid_1, mean_pred_valid_1, rmse_1 = separation_fit(geo_1)\n",
    "print(f'Средний запас предсказанного сырья в регионе 1: {mean_pred_valid_1.round(1)} тыс.бр\\nЗначение метрики RMSE: {rmse_1.round(1)}')"
   ]
  },
  {
   "cell_type": "code",
   "execution_count": 21,
   "metadata": {},
   "outputs": [
    {
     "name": "stdout",
     "output_type": "stream",
     "text": [
      "Средний запас предсказанного сырья в регионе 2: 94.8 тыс.бр\n",
      "Значение метрики RMSE: 40.1\n"
     ]
    }
   ],
   "source": [
    "pred_valid_2, y_valid_2, mean_pred_valid_2, rmse_2 = separation_fit(geo_2)\n",
    "print(f'Средний запас предсказанного сырья в регионе 2: {mean_pred_valid_2.round(1)} тыс.бр\\nЗначение метрики RMSE: {rmse_2.round(1)}')"
   ]
  },
  {
   "cell_type": "markdown",
   "metadata": {},
   "source": [
    "**ВЫВОД:**\n",
    "\n",
    "Наибольший средний запас предсказанного сырья в регионе 2 - 94.8 тыс.бр\n",
    "Корень среднеквадратичной ошибки при этом 40.1\n",
    "\n",
    "Близкие результаты показала модель и для региона 0\n",
    "\n",
    "Наименьший средний запас предсказанного сырья в регионе 1 - 68.7 тыс.бр\n",
    "Однако, корень среднеквадратичной ошибки 0.9, модель меньше ошибается\n"
   ]
  },
  {
   "cell_type": "markdown",
   "metadata": {},
   "source": [
    "## Подготовка к расчёту прибыли"
   ]
  },
  {
   "cell_type": "code",
   "execution_count": 22,
   "metadata": {},
   "outputs": [],
   "source": [
    "wildcat = 500 \n",
    "top_wildcat = 200\n",
    "budget = 10**10\n",
    "income = 450000\n",
    "losses_max = 2.5"
   ]
  },
  {
   "cell_type": "markdown",
   "metadata": {},
   "source": [
    "Рассчитаем достаточный объём сырья для безубыточной разработки новой скважины"
   ]
  },
  {
   "cell_type": "code",
   "execution_count": 23,
   "metadata": {},
   "outputs": [
    {
     "name": "stdout",
     "output_type": "stream",
     "text": [
      "Достаточный объём сырья для безубыточной разработки новой скважины: 111.11111111111111 тыс.бр\n"
     ]
    }
   ],
   "source": [
    "volume_raw = budget/(top_wildcat*income)\n",
    "print(f'Достаточный объём сырья для безубыточной разработки новой скважины: {volume_raw} тыс.бр')"
   ]
  },
  {
   "cell_type": "markdown",
   "metadata": {},
   "source": [
    "**ВЫВОД:**\n",
    "\n",
    "Средний запас предсказанного сырья во всех регионах ниже 111.1 тыс.бр. Для безубыточной разработки новых скважин выберем скважины с запасом сырья выше 111 тыс.бр.\n"
   ]
  },
  {
   "cell_type": "markdown",
   "metadata": {},
   "source": [
    "## Расчёт прибыли и рисков "
   ]
  },
  {
   "cell_type": "markdown",
   "metadata": {},
   "source": [
    "Создадим функцию для расчёта прибыли по выбранным скважинам и предсказаниям модели:\n",
    "\n",
    "- Выберем скважины с максимальными значениями предсказаний\n",
    "- Просуммируем целевое значение объёма сырья, соответствующее этим предсказаниям\n",
    "- Рассчитаем прибыль для полученного объёма сырья"
   ]
  },
  {
   "cell_type": "code",
   "execution_count": 24,
   "metadata": {},
   "outputs": [],
   "source": [
    "def revenue(target, probabilities, count):\n",
    "    probs_sorted = probabilities.sort_values(ascending=False)\n",
    "    selected = target[probs_sorted.index][:count]\n",
    "    return (income * selected.sum() - budget)"
   ]
  },
  {
   "cell_type": "code",
   "execution_count": 25,
   "metadata": {},
   "outputs": [],
   "source": [
    "def res_ind_ser(y_true, y_pred):\n",
    "    y_true = y_true.reset_index(drop=True)\n",
    "    y_pred = pd.Series(y_pred)\n",
    "    return y_true, y_pred"
   ]
  },
  {
   "cell_type": "code",
   "execution_count": 26,
   "metadata": {},
   "outputs": [],
   "source": [
    "state = np.random.RandomState(12345)"
   ]
  },
  {
   "cell_type": "code",
   "execution_count": 27,
   "metadata": {},
   "outputs": [],
   "source": [
    "bootstrap_samples = 1000"
   ]
  },
  {
   "cell_type": "code",
   "execution_count": 28,
   "metadata": {},
   "outputs": [],
   "source": [
    "def make_bootstrap(target, probabilities):\n",
    "    \n",
    "    target, probabilities = res_ind_ser(target, probabilities)\n",
    "    \n",
    "    values = []\n",
    "    for i in range(1000):\n",
    "        target_subsample = target.sample(n=wildcat, replace=True, random_state=state)\n",
    "        probs_subsample = probabilities[target_subsample.index]\n",
    "    \n",
    "        values.append(revenue(target_subsample, probs_subsample, top_wildcat))\n",
    "\n",
    "    values = pd.Series(values)\n",
    "    \n",
    "    mean = values.mean()\n",
    "    interval = (values.quantile(0.025), values.quantile(0.975))\n",
    "    loss_probability = values[values < 0].count() / values.count()\n",
    "    \n",
    "    print(f'Средняя прибыль в регионе 0: {mean/10**6:.2f} млн. руб')\n",
    "    print('Доверительный интервал (95%)', interval)    \n",
    "    print('Вероятность убытка региона : {:.2%}'.format(loss_probability))  "
   ]
  },
  {
   "cell_type": "code",
   "execution_count": 29,
   "metadata": {},
   "outputs": [
    {
     "name": "stdout",
     "output_type": "stream",
     "text": [
      "\u001b[1mПрогноз по региону 0:\u001b[0m\n",
      "\n",
      "Средняя прибыль в регионе 0: 435.93 млн. руб\n",
      "Доверительный интервал (95%) (-116231612.77720818, 966504180.707376)\n",
      "Вероятность убытка региона : 6.10%\n",
      "\n",
      "\n",
      "\u001b[1mПрогноз по региону 1:\u001b[0m\n",
      "\n",
      "Средняя прибыль в регионе 0: 498.57 млн. руб\n",
      "Доверительный интервал (95%) (75315573.08898354, 911503695.0245577)\n",
      "Вероятность убытка региона : 1.00%\n",
      "\n",
      "\n",
      "\u001b[1mПрогноз по региону 2:\u001b[0m\n",
      "\n",
      "Средняя прибыль в регионе 0: 412.67 млн. руб\n",
      "Доверительный интервал (95%) (-158939515.7636048, 978191201.7001915)\n",
      "Вероятность убытка региона : 7.00%\n"
     ]
    }
   ],
   "source": [
    "print('\\033[1mПрогноз по региону 0:\\033[0m\\n')\n",
    "make_bootstrap(y_valid_0, pred_valid_0)\n",
    "\n",
    "print('\\n\\n\\033[1mПрогноз по региону 1:\\033[0m\\n')\n",
    "make_bootstrap(y_valid_1, pred_valid_1)\n",
    "\n",
    "print('\\n\\n\\033[1mПрогноз по региону 2:\\033[0m\\n')\n",
    "make_bootstrap(y_valid_2, pred_valid_2)"
   ]
  },
  {
   "cell_type": "markdown",
   "metadata": {},
   "source": [
    "**ВЫВОД:**\n",
    "\n",
    "Наиболее перспективным для разработки является регион 1: \n",
    "- прибыль 498.57 млн. руб, \n",
    "- вероятность убытка 1%\n",
    "- средний запас предсказанного сырья: 68.7 тыс.бр"
   ]
  },
  {
   "cell_type": "code",
   "execution_count": null,
   "metadata": {},
   "outputs": [],
   "source": []
  }
 ],
 "metadata": {
  "ExecuteTimeLog": [
   {
    "duration": 436,
    "start_time": "2024-11-27T11:20:29.226Z"
   },
   {
    "duration": 4,
    "start_time": "2024-11-27T11:26:24.277Z"
   },
   {
    "duration": 49,
    "start_time": "2024-11-28T09:23:15.866Z"
   },
   {
    "duration": 429,
    "start_time": "2024-11-28T09:23:27.416Z"
   },
   {
    "duration": 3,
    "start_time": "2024-11-28T09:23:27.847Z"
   },
   {
    "duration": 541,
    "start_time": "2024-11-28T09:23:27.852Z"
   },
   {
    "duration": 68,
    "start_time": "2024-11-28T09:25:35.119Z"
   },
   {
    "duration": 3,
    "start_time": "2024-11-28T09:25:37.134Z"
   },
   {
    "duration": 30,
    "start_time": "2024-11-28T09:25:39.119Z"
   },
   {
    "duration": 3,
    "start_time": "2024-11-28T09:26:41.936Z"
   },
   {
    "duration": 23,
    "start_time": "2024-11-28T09:26:43.222Z"
   },
   {
    "duration": 3,
    "start_time": "2024-11-28T09:26:46.384Z"
   },
   {
    "duration": 7,
    "start_time": "2024-11-28T09:26:46.390Z"
   },
   {
    "duration": 592,
    "start_time": "2024-11-28T09:26:46.399Z"
   },
   {
    "duration": 3,
    "start_time": "2024-11-28T09:26:46.992Z"
   },
   {
    "duration": 45,
    "start_time": "2024-11-28T09:26:46.998Z"
   },
   {
    "duration": 22,
    "start_time": "2024-11-28T09:27:19.296Z"
   },
   {
    "duration": 2,
    "start_time": "2024-11-28T09:27:42.288Z"
   },
   {
    "duration": 9,
    "start_time": "2024-11-28T09:27:42.292Z"
   },
   {
    "duration": 437,
    "start_time": "2024-11-28T09:27:42.302Z"
   },
   {
    "duration": 3,
    "start_time": "2024-11-28T09:27:42.741Z"
   },
   {
    "duration": 27,
    "start_time": "2024-11-28T09:27:42.746Z"
   },
   {
    "duration": 21,
    "start_time": "2024-11-28T09:27:42.775Z"
   },
   {
    "duration": 46,
    "start_time": "2024-11-28T09:27:42.798Z"
   },
   {
    "duration": 3,
    "start_time": "2024-11-28T09:31:35.256Z"
   },
   {
    "duration": 37,
    "start_time": "2024-11-28T09:31:35.260Z"
   },
   {
    "duration": 440,
    "start_time": "2024-11-28T09:31:35.299Z"
   },
   {
    "duration": 3,
    "start_time": "2024-11-28T09:31:35.740Z"
   },
   {
    "duration": 27,
    "start_time": "2024-11-28T09:31:35.745Z"
   },
   {
    "duration": 21,
    "start_time": "2024-11-28T09:31:35.774Z"
   },
   {
    "duration": 33,
    "start_time": "2024-11-28T09:31:35.797Z"
   },
   {
    "duration": 62,
    "start_time": "2024-11-28T09:37:14.989Z"
   },
   {
    "duration": 5,
    "start_time": "2024-11-28T09:37:30.835Z"
   },
   {
    "duration": 14,
    "start_time": "2024-11-28T09:37:30.842Z"
   },
   {
    "duration": 454,
    "start_time": "2024-11-28T09:37:30.859Z"
   },
   {
    "duration": 2,
    "start_time": "2024-11-28T09:37:31.315Z"
   },
   {
    "duration": 57,
    "start_time": "2024-11-28T09:37:31.319Z"
   },
   {
    "duration": 20,
    "start_time": "2024-11-28T09:37:31.378Z"
   },
   {
    "duration": 26,
    "start_time": "2024-11-28T09:37:31.400Z"
   },
   {
    "duration": 65,
    "start_time": "2024-11-28T09:37:31.428Z"
   },
   {
    "duration": 83,
    "start_time": "2024-11-28T09:37:31.494Z"
   },
   {
    "duration": 45,
    "start_time": "2024-11-28T09:37:31.579Z"
   },
   {
    "duration": 9,
    "start_time": "2024-11-28T09:39:03.700Z"
   },
   {
    "duration": 103,
    "start_time": "2024-11-28T09:47:48.443Z"
   },
   {
    "duration": 11,
    "start_time": "2024-11-28T09:49:03.050Z"
   },
   {
    "duration": 10,
    "start_time": "2024-11-28T09:49:56.570Z"
   },
   {
    "duration": 11,
    "start_time": "2024-11-28T09:49:57.289Z"
   },
   {
    "duration": 12,
    "start_time": "2024-11-28T09:49:58.025Z"
   },
   {
    "duration": 491,
    "start_time": "2024-11-28T09:51:32.618Z"
   },
   {
    "duration": 3,
    "start_time": "2024-11-28T09:51:33.111Z"
   },
   {
    "duration": 484,
    "start_time": "2024-11-28T09:51:33.115Z"
   },
   {
    "duration": 3,
    "start_time": "2024-11-28T09:51:33.601Z"
   },
   {
    "duration": 102,
    "start_time": "2024-11-28T09:51:33.605Z"
   },
   {
    "duration": 60,
    "start_time": "2024-11-28T09:51:33.709Z"
   },
   {
    "duration": 63,
    "start_time": "2024-11-28T09:51:33.772Z"
   },
   {
    "duration": 72,
    "start_time": "2024-11-28T09:51:33.837Z"
   },
   {
    "duration": 52,
    "start_time": "2024-11-28T09:51:33.911Z"
   },
   {
    "duration": 59,
    "start_time": "2024-11-28T09:51:33.967Z"
   },
   {
    "duration": 49,
    "start_time": "2024-11-28T09:51:34.028Z"
   },
   {
    "duration": 28,
    "start_time": "2024-11-28T09:51:34.079Z"
   },
   {
    "duration": 18,
    "start_time": "2024-11-28T09:51:34.109Z"
   },
   {
    "duration": 39,
    "start_time": "2024-11-28T09:57:40.809Z"
   },
   {
    "duration": 3,
    "start_time": "2024-11-28T10:42:56.341Z"
   },
   {
    "duration": 57,
    "start_time": "2024-11-28T10:42:56.346Z"
   },
   {
    "duration": 443,
    "start_time": "2024-11-28T10:42:56.405Z"
   },
   {
    "duration": 3,
    "start_time": "2024-11-28T10:42:56.850Z"
   },
   {
    "duration": 60,
    "start_time": "2024-11-28T10:42:56.855Z"
   },
   {
    "duration": 23,
    "start_time": "2024-11-28T10:42:56.917Z"
   },
   {
    "duration": 21,
    "start_time": "2024-11-28T10:42:56.942Z"
   },
   {
    "duration": 44,
    "start_time": "2024-11-28T10:42:56.964Z"
   },
   {
    "duration": 60,
    "start_time": "2024-11-28T10:42:57.010Z"
   },
   {
    "duration": 41,
    "start_time": "2024-11-28T10:42:57.072Z"
   },
   {
    "duration": 29,
    "start_time": "2024-11-28T10:42:57.115Z"
   },
   {
    "duration": 10,
    "start_time": "2024-11-28T10:42:57.146Z"
   },
   {
    "duration": 14,
    "start_time": "2024-11-28T10:42:57.157Z"
   },
   {
    "duration": 37,
    "start_time": "2024-11-28T10:42:57.174Z"
   },
   {
    "duration": 57,
    "start_time": "2024-11-28T10:42:57.213Z"
   },
   {
    "duration": 56,
    "start_time": "2024-11-28T10:42:57.273Z"
   },
   {
    "duration": 69,
    "start_time": "2024-11-28T10:57:22.413Z"
   },
   {
    "duration": 834,
    "start_time": "2024-11-28T10:57:53.988Z"
   },
   {
    "duration": 3,
    "start_time": "2024-11-28T10:57:54.824Z"
   },
   {
    "duration": 437,
    "start_time": "2024-11-28T10:57:54.829Z"
   },
   {
    "duration": 3,
    "start_time": "2024-11-28T10:57:55.268Z"
   },
   {
    "duration": 95,
    "start_time": "2024-11-28T10:57:55.272Z"
   },
   {
    "duration": 22,
    "start_time": "2024-11-28T10:57:55.369Z"
   },
   {
    "duration": 21,
    "start_time": "2024-11-28T10:57:55.393Z"
   },
   {
    "duration": 72,
    "start_time": "2024-11-28T10:57:55.416Z"
   },
   {
    "duration": 62,
    "start_time": "2024-11-28T10:57:55.489Z"
   },
   {
    "duration": 48,
    "start_time": "2024-11-28T10:57:55.553Z"
   },
   {
    "duration": 18,
    "start_time": "2024-11-28T10:57:55.602Z"
   },
   {
    "duration": 69,
    "start_time": "2024-11-28T10:57:55.621Z"
   },
   {
    "duration": 12,
    "start_time": "2024-11-28T10:57:55.692Z"
   },
   {
    "duration": 41,
    "start_time": "2024-11-28T10:57:55.705Z"
   },
   {
    "duration": 36,
    "start_time": "2024-11-28T10:57:55.748Z"
   },
   {
    "duration": 36,
    "start_time": "2024-11-28T10:57:55.786Z"
   },
   {
    "duration": 293,
    "start_time": "2024-11-28T10:57:55.824Z"
   },
   {
    "duration": 279,
    "start_time": "2024-11-28T10:59:58.124Z"
   },
   {
    "duration": 575,
    "start_time": "2024-11-28T11:00:34.206Z"
   },
   {
    "duration": 3,
    "start_time": "2024-11-28T11:00:36.335Z"
   },
   {
    "duration": 28,
    "start_time": "2024-11-28T11:00:36.340Z"
   },
   {
    "duration": 467,
    "start_time": "2024-11-28T11:00:36.370Z"
   },
   {
    "duration": 4,
    "start_time": "2024-11-28T11:00:36.839Z"
   },
   {
    "duration": 54,
    "start_time": "2024-11-28T11:00:36.845Z"
   },
   {
    "duration": 26,
    "start_time": "2024-11-28T11:00:36.901Z"
   },
   {
    "duration": 112,
    "start_time": "2024-11-28T11:00:36.929Z"
   },
   {
    "duration": 51,
    "start_time": "2024-11-28T11:00:37.043Z"
   },
   {
    "duration": 47,
    "start_time": "2024-11-28T11:00:37.096Z"
   },
   {
    "duration": 42,
    "start_time": "2024-11-28T11:00:37.145Z"
   },
   {
    "duration": 11,
    "start_time": "2024-11-28T11:00:37.189Z"
   },
   {
    "duration": 83,
    "start_time": "2024-11-28T11:00:37.201Z"
   },
   {
    "duration": 126,
    "start_time": "2024-11-28T11:00:37.285Z"
   },
   {
    "duration": 50,
    "start_time": "2024-11-28T11:00:37.413Z"
   },
   {
    "duration": 35,
    "start_time": "2024-11-28T11:00:37.464Z"
   },
   {
    "duration": 45,
    "start_time": "2024-11-28T11:00:37.501Z"
   },
   {
    "duration": 390,
    "start_time": "2024-11-28T11:00:37.548Z"
   },
   {
    "duration": 397,
    "start_time": "2024-11-28T11:00:50.748Z"
   },
   {
    "duration": 383,
    "start_time": "2024-11-28T11:02:24.525Z"
   },
   {
    "duration": 437,
    "start_time": "2024-11-28T11:03:10.411Z"
   },
   {
    "duration": 338,
    "start_time": "2024-11-28T11:03:32.155Z"
   },
   {
    "duration": 369,
    "start_time": "2024-11-28T11:04:02.491Z"
   },
   {
    "duration": 290,
    "start_time": "2024-11-28T11:06:25.388Z"
   },
   {
    "duration": 272,
    "start_time": "2024-11-28T11:07:13.435Z"
   },
   {
    "duration": 280,
    "start_time": "2024-11-28T11:08:28.251Z"
   },
   {
    "duration": 377,
    "start_time": "2024-11-28T11:08:58.091Z"
   },
   {
    "duration": 283,
    "start_time": "2024-11-28T11:10:20.411Z"
   },
   {
    "duration": 279,
    "start_time": "2024-11-28T11:10:31.947Z"
   },
   {
    "duration": 264,
    "start_time": "2024-11-28T11:11:08.363Z"
   },
   {
    "duration": 290,
    "start_time": "2024-11-28T11:12:09.930Z"
   },
   {
    "duration": 300,
    "start_time": "2024-11-28T11:12:19.963Z"
   },
   {
    "duration": 352,
    "start_time": "2024-11-28T11:12:42.409Z"
   },
   {
    "duration": 286,
    "start_time": "2024-11-28T11:13:32.921Z"
   },
   {
    "duration": 308,
    "start_time": "2024-11-28T11:13:39.673Z"
   },
   {
    "duration": 288,
    "start_time": "2024-11-28T11:13:44.505Z"
   },
   {
    "duration": 275,
    "start_time": "2024-11-28T11:13:51.897Z"
   },
   {
    "duration": 307,
    "start_time": "2024-11-28T11:14:09.353Z"
   },
   {
    "duration": 5,
    "start_time": "2024-11-28T11:15:24.970Z"
   },
   {
    "duration": 368,
    "start_time": "2024-11-28T11:15:35.289Z"
   },
   {
    "duration": 275,
    "start_time": "2024-11-28T11:15:49.498Z"
   },
   {
    "duration": 1169,
    "start_time": "2024-11-28T11:15:58.407Z"
   },
   {
    "duration": 2,
    "start_time": "2024-11-28T11:15:59.578Z"
   },
   {
    "duration": 433,
    "start_time": "2024-11-28T11:15:59.582Z"
   },
   {
    "duration": 3,
    "start_time": "2024-11-28T11:16:00.018Z"
   },
   {
    "duration": 39,
    "start_time": "2024-11-28T11:16:00.024Z"
   },
   {
    "duration": 32,
    "start_time": "2024-11-28T11:16:00.065Z"
   },
   {
    "duration": 92,
    "start_time": "2024-11-28T11:16:00.099Z"
   },
   {
    "duration": 53,
    "start_time": "2024-11-28T11:16:00.192Z"
   },
   {
    "duration": 46,
    "start_time": "2024-11-28T11:16:00.246Z"
   },
   {
    "duration": 62,
    "start_time": "2024-11-28T11:16:00.294Z"
   },
   {
    "duration": 11,
    "start_time": "2024-11-28T11:16:00.358Z"
   },
   {
    "duration": 67,
    "start_time": "2024-11-28T11:16:00.370Z"
   },
   {
    "duration": 11,
    "start_time": "2024-11-28T11:16:00.439Z"
   },
   {
    "duration": 158,
    "start_time": "2024-11-28T11:16:00.453Z"
   },
   {
    "duration": 36,
    "start_time": "2024-11-28T11:16:00.613Z"
   },
   {
    "duration": 35,
    "start_time": "2024-11-28T11:16:00.651Z"
   },
   {
    "duration": 348,
    "start_time": "2024-11-28T11:16:00.688Z"
   },
   {
    "duration": 280,
    "start_time": "2024-11-28T11:19:01.625Z"
   },
   {
    "duration": 302,
    "start_time": "2024-11-28T11:20:40.696Z"
   },
   {
    "duration": 324,
    "start_time": "2024-11-28T11:20:51.929Z"
   },
   {
    "duration": 384,
    "start_time": "2024-11-28T11:23:08.968Z"
   },
   {
    "duration": 318,
    "start_time": "2024-11-28T11:24:15.928Z"
   },
   {
    "duration": 315,
    "start_time": "2024-11-28T11:24:54.344Z"
   },
   {
    "duration": 300,
    "start_time": "2024-11-28T11:25:17.640Z"
   },
   {
    "duration": 107,
    "start_time": "2024-11-28T11:32:10.679Z"
   },
   {
    "duration": 3549,
    "start_time": "2024-11-28T11:34:02.289Z"
   },
   {
    "duration": 1654,
    "start_time": "2024-11-28T11:34:05.840Z"
   },
   {
    "duration": 3,
    "start_time": "2024-11-28T11:34:07.542Z"
   },
   {
    "duration": 778,
    "start_time": "2024-11-28T11:34:07.548Z"
   },
   {
    "duration": 2,
    "start_time": "2024-11-28T11:34:08.328Z"
   },
   {
    "duration": 35,
    "start_time": "2024-11-28T11:34:08.332Z"
   },
   {
    "duration": 22,
    "start_time": "2024-11-28T11:34:08.369Z"
   },
   {
    "duration": 21,
    "start_time": "2024-11-28T11:34:08.393Z"
   },
   {
    "duration": 89,
    "start_time": "2024-11-28T11:34:08.444Z"
   },
   {
    "duration": 44,
    "start_time": "2024-11-28T11:34:08.535Z"
   },
   {
    "duration": 79,
    "start_time": "2024-11-28T11:34:08.581Z"
   },
   {
    "duration": 12,
    "start_time": "2024-11-28T11:34:08.661Z"
   },
   {
    "duration": 11,
    "start_time": "2024-11-28T11:34:08.674Z"
   },
   {
    "duration": 13,
    "start_time": "2024-11-28T11:34:08.687Z"
   },
   {
    "duration": 62,
    "start_time": "2024-11-28T11:34:08.702Z"
   },
   {
    "duration": 38,
    "start_time": "2024-11-28T11:34:08.765Z"
   },
   {
    "duration": 60,
    "start_time": "2024-11-28T11:34:08.805Z"
   },
   {
    "duration": 348,
    "start_time": "2024-11-28T11:34:08.866Z"
   },
   {
    "duration": 132545,
    "start_time": "2024-11-28T11:34:09.216Z"
   },
   {
    "duration": 105,
    "start_time": "2024-11-28T11:37:13.047Z"
   },
   {
    "duration": 131633,
    "start_time": "2024-11-28T11:37:26.502Z"
   },
   {
    "duration": 2500,
    "start_time": "2024-11-28T11:56:01.801Z"
   },
   {
    "duration": 1205,
    "start_time": "2024-11-28T11:56:04.304Z"
   },
   {
    "duration": 2,
    "start_time": "2024-11-28T11:56:05.511Z"
   },
   {
    "duration": 521,
    "start_time": "2024-11-28T11:56:05.514Z"
   },
   {
    "duration": 4,
    "start_time": "2024-11-28T11:56:06.038Z"
   },
   {
    "duration": 40,
    "start_time": "2024-11-28T11:56:06.043Z"
   },
   {
    "duration": 32,
    "start_time": "2024-11-28T11:56:06.084Z"
   },
   {
    "duration": 37,
    "start_time": "2024-11-28T11:56:06.118Z"
   },
   {
    "duration": 129,
    "start_time": "2024-11-28T11:56:06.156Z"
   },
   {
    "duration": 45,
    "start_time": "2024-11-28T11:56:06.287Z"
   },
   {
    "duration": 53,
    "start_time": "2024-11-28T11:56:06.335Z"
   },
   {
    "duration": 11,
    "start_time": "2024-11-28T11:56:06.390Z"
   },
   {
    "duration": 28,
    "start_time": "2024-11-28T11:56:06.402Z"
   },
   {
    "duration": 18,
    "start_time": "2024-11-28T11:56:06.433Z"
   },
   {
    "duration": 47,
    "start_time": "2024-11-28T11:56:06.452Z"
   },
   {
    "duration": 101,
    "start_time": "2024-11-28T11:56:06.500Z"
   },
   {
    "duration": 35,
    "start_time": "2024-11-28T11:56:06.602Z"
   },
   {
    "duration": 397,
    "start_time": "2024-11-28T11:56:06.639Z"
   },
   {
    "duration": 1398,
    "start_time": "2024-11-28T12:20:11.695Z"
   },
   {
    "duration": 3,
    "start_time": "2024-11-28T12:20:13.095Z"
   },
   {
    "duration": 462,
    "start_time": "2024-11-28T12:20:13.099Z"
   },
   {
    "duration": 2,
    "start_time": "2024-11-28T12:20:13.563Z"
   },
   {
    "duration": 47,
    "start_time": "2024-11-28T12:20:13.567Z"
   },
   {
    "duration": 79,
    "start_time": "2024-11-28T12:20:13.616Z"
   },
   {
    "duration": 46,
    "start_time": "2024-11-28T12:20:13.696Z"
   },
   {
    "duration": 61,
    "start_time": "2024-11-28T12:20:13.745Z"
   },
   {
    "duration": 59,
    "start_time": "2024-11-28T12:20:13.808Z"
   },
   {
    "duration": 49,
    "start_time": "2024-11-28T12:20:13.870Z"
   },
   {
    "duration": 38,
    "start_time": "2024-11-28T12:20:13.921Z"
   },
   {
    "duration": 17,
    "start_time": "2024-11-28T12:20:13.961Z"
   },
   {
    "duration": 12,
    "start_time": "2024-11-28T12:20:13.980Z"
   },
   {
    "duration": 48,
    "start_time": "2024-11-28T12:20:13.995Z"
   },
   {
    "duration": 36,
    "start_time": "2024-11-28T12:20:14.045Z"
   },
   {
    "duration": 35,
    "start_time": "2024-11-28T12:20:14.083Z"
   },
   {
    "duration": 369,
    "start_time": "2024-11-28T12:20:14.119Z"
   },
   {
    "duration": 9,
    "start_time": "2024-11-28T12:20:14.490Z"
   },
   {
    "duration": 5,
    "start_time": "2024-11-28T12:24:09.584Z"
   },
   {
    "duration": 1466,
    "start_time": "2024-11-28T12:24:14.729Z"
   },
   {
    "duration": 2,
    "start_time": "2024-11-28T12:24:16.197Z"
   },
   {
    "duration": 450,
    "start_time": "2024-11-28T12:24:16.200Z"
   },
   {
    "duration": 2,
    "start_time": "2024-11-28T12:24:16.652Z"
   },
   {
    "duration": 91,
    "start_time": "2024-11-28T12:24:16.656Z"
   },
   {
    "duration": 100,
    "start_time": "2024-11-28T12:24:16.749Z"
   },
   {
    "duration": 31,
    "start_time": "2024-11-28T12:24:16.850Z"
   },
   {
    "duration": 73,
    "start_time": "2024-11-28T12:24:16.882Z"
   },
   {
    "duration": 47,
    "start_time": "2024-11-28T12:24:16.957Z"
   },
   {
    "duration": 65,
    "start_time": "2024-11-28T12:24:17.006Z"
   },
   {
    "duration": 12,
    "start_time": "2024-11-28T12:24:17.073Z"
   },
   {
    "duration": 63,
    "start_time": "2024-11-28T12:24:17.086Z"
   },
   {
    "duration": 11,
    "start_time": "2024-11-28T12:24:17.151Z"
   },
   {
    "duration": 39,
    "start_time": "2024-11-28T12:24:17.165Z"
   },
   {
    "duration": 58,
    "start_time": "2024-11-28T12:24:17.206Z"
   },
   {
    "duration": 35,
    "start_time": "2024-11-28T12:24:17.266Z"
   },
   {
    "duration": 348,
    "start_time": "2024-11-28T12:24:17.303Z"
   },
   {
    "duration": 4,
    "start_time": "2024-11-28T12:24:17.653Z"
   },
   {
    "duration": 4,
    "start_time": "2024-11-28T12:28:40.411Z"
   },
   {
    "duration": 4,
    "start_time": "2024-11-28T12:28:44.330Z"
   },
   {
    "duration": 33,
    "start_time": "2024-11-28T12:28:55.034Z"
   },
   {
    "duration": 6,
    "start_time": "2024-11-28T12:31:02.362Z"
   },
   {
    "duration": 60,
    "start_time": "2024-11-28T12:31:03.482Z"
   },
   {
    "duration": 1309,
    "start_time": "2024-11-28T12:32:56.391Z"
   },
   {
    "duration": 3,
    "start_time": "2024-11-28T12:32:57.703Z"
   },
   {
    "duration": 471,
    "start_time": "2024-11-28T12:32:57.708Z"
   },
   {
    "duration": 3,
    "start_time": "2024-11-28T12:32:58.181Z"
   },
   {
    "duration": 29,
    "start_time": "2024-11-28T12:32:58.186Z"
   },
   {
    "duration": 36,
    "start_time": "2024-11-28T12:32:58.217Z"
   },
   {
    "duration": 24,
    "start_time": "2024-11-28T12:32:58.255Z"
   },
   {
    "duration": 73,
    "start_time": "2024-11-28T12:32:58.280Z"
   },
   {
    "duration": 44,
    "start_time": "2024-11-28T12:32:58.354Z"
   },
   {
    "duration": 64,
    "start_time": "2024-11-28T12:32:58.399Z"
   },
   {
    "duration": 11,
    "start_time": "2024-11-28T12:32:58.464Z"
   },
   {
    "duration": 10,
    "start_time": "2024-11-28T12:32:58.476Z"
   },
   {
    "duration": 9,
    "start_time": "2024-11-28T12:32:58.488Z"
   },
   {
    "duration": 62,
    "start_time": "2024-11-28T12:32:58.500Z"
   },
   {
    "duration": 35,
    "start_time": "2024-11-28T12:32:58.563Z"
   },
   {
    "duration": 47,
    "start_time": "2024-11-28T12:32:58.599Z"
   },
   {
    "duration": 336,
    "start_time": "2024-11-28T12:32:58.648Z"
   },
   {
    "duration": 120,
    "start_time": "2024-11-28T12:32:58.986Z"
   },
   {
    "duration": 0,
    "start_time": "2024-11-28T12:32:59.109Z"
   },
   {
    "duration": 0,
    "start_time": "2024-11-28T12:32:59.110Z"
   },
   {
    "duration": 3,
    "start_time": "2024-11-28T12:33:05.325Z"
   },
   {
    "duration": 30,
    "start_time": "2024-11-28T12:33:07.451Z"
   },
   {
    "duration": 21,
    "start_time": "2024-11-28T12:34:49.402Z"
   },
   {
    "duration": 4,
    "start_time": "2024-11-28T12:39:51.082Z"
   },
   {
    "duration": 129,
    "start_time": "2024-11-28T12:39:54.426Z"
   },
   {
    "duration": 1666,
    "start_time": "2024-11-28T12:41:29.536Z"
   },
   {
    "duration": 3,
    "start_time": "2024-11-28T12:41:31.204Z"
   },
   {
    "duration": 478,
    "start_time": "2024-11-28T12:41:31.209Z"
   },
   {
    "duration": 3,
    "start_time": "2024-11-28T12:41:31.689Z"
   },
   {
    "duration": 84,
    "start_time": "2024-11-28T12:41:31.694Z"
   },
   {
    "duration": 22,
    "start_time": "2024-11-28T12:41:31.779Z"
   },
   {
    "duration": 44,
    "start_time": "2024-11-28T12:41:31.803Z"
   },
   {
    "duration": 66,
    "start_time": "2024-11-28T12:41:31.850Z"
   },
   {
    "duration": 52,
    "start_time": "2024-11-28T12:41:31.917Z"
   },
   {
    "duration": 46,
    "start_time": "2024-11-28T12:41:31.972Z"
   },
   {
    "duration": 41,
    "start_time": "2024-11-28T12:41:32.019Z"
   },
   {
    "duration": 45,
    "start_time": "2024-11-28T12:41:32.063Z"
   },
   {
    "duration": 34,
    "start_time": "2024-11-28T12:41:32.110Z"
   },
   {
    "duration": 52,
    "start_time": "2024-11-28T12:41:32.149Z"
   },
   {
    "duration": 36,
    "start_time": "2024-11-28T12:41:32.203Z"
   },
   {
    "duration": 49,
    "start_time": "2024-11-28T12:41:32.242Z"
   },
   {
    "duration": 394,
    "start_time": "2024-11-28T12:41:32.293Z"
   },
   {
    "duration": 5,
    "start_time": "2024-11-28T12:41:32.689Z"
   },
   {
    "duration": 117,
    "start_time": "2024-11-28T12:41:32.695Z"
   },
   {
    "duration": 169,
    "start_time": "2024-11-28T12:41:32.814Z"
   },
   {
    "duration": 302,
    "start_time": "2024-11-28T12:44:44.858Z"
   },
   {
    "duration": 30,
    "start_time": "2024-11-28T12:44:52.410Z"
   },
   {
    "duration": 33,
    "start_time": "2024-11-28T12:44:56.337Z"
   },
   {
    "duration": 58,
    "start_time": "2024-11-28T12:45:28.586Z"
   },
   {
    "duration": 29,
    "start_time": "2024-11-28T12:45:39.482Z"
   },
   {
    "duration": 30,
    "start_time": "2024-11-28T12:46:01.834Z"
   },
   {
    "duration": 32,
    "start_time": "2024-11-28T12:46:17.291Z"
   },
   {
    "duration": 112,
    "start_time": "2024-11-28T12:47:18.842Z"
   },
   {
    "duration": 32,
    "start_time": "2024-11-28T12:47:49.337Z"
   },
   {
    "duration": 1529,
    "start_time": "2024-11-28T12:47:57.759Z"
   },
   {
    "duration": 2,
    "start_time": "2024-11-28T12:47:59.290Z"
   },
   {
    "duration": 454,
    "start_time": "2024-11-28T12:47:59.294Z"
   },
   {
    "duration": 10,
    "start_time": "2024-11-28T12:47:59.750Z"
   },
   {
    "duration": 61,
    "start_time": "2024-11-28T12:47:59.763Z"
   },
   {
    "duration": 34,
    "start_time": "2024-11-28T12:47:59.826Z"
   },
   {
    "duration": 32,
    "start_time": "2024-11-28T12:47:59.862Z"
   },
   {
    "duration": 83,
    "start_time": "2024-11-28T12:47:59.897Z"
   },
   {
    "duration": 82,
    "start_time": "2024-11-28T12:47:59.983Z"
   },
   {
    "duration": 51,
    "start_time": "2024-11-28T12:48:00.067Z"
   },
   {
    "duration": 26,
    "start_time": "2024-11-28T12:48:00.120Z"
   },
   {
    "duration": 20,
    "start_time": "2024-11-28T12:48:00.156Z"
   },
   {
    "duration": 33,
    "start_time": "2024-11-28T12:48:00.178Z"
   },
   {
    "duration": 48,
    "start_time": "2024-11-28T12:48:00.215Z"
   },
   {
    "duration": 44,
    "start_time": "2024-11-28T12:48:00.265Z"
   },
   {
    "duration": 58,
    "start_time": "2024-11-28T12:48:00.311Z"
   },
   {
    "duration": 394,
    "start_time": "2024-11-28T12:48:00.371Z"
   },
   {
    "duration": 4,
    "start_time": "2024-11-28T12:48:00.767Z"
   },
   {
    "duration": 81,
    "start_time": "2024-11-28T12:48:00.773Z"
   },
   {
    "duration": 118,
    "start_time": "2024-11-28T12:48:00.856Z"
   },
   {
    "duration": 123,
    "start_time": "2024-11-28T12:48:01.047Z"
   },
   {
    "duration": 4,
    "start_time": "2024-11-28T12:53:15.405Z"
   },
   {
    "duration": 58,
    "start_time": "2024-11-28T12:53:15.411Z"
   },
   {
    "duration": 501,
    "start_time": "2024-11-28T12:53:15.471Z"
   },
   {
    "duration": 3,
    "start_time": "2024-11-28T12:53:15.974Z"
   },
   {
    "duration": 95,
    "start_time": "2024-11-28T12:53:15.980Z"
   },
   {
    "duration": 31,
    "start_time": "2024-11-28T12:53:16.076Z"
   },
   {
    "duration": 52,
    "start_time": "2024-11-28T12:53:16.109Z"
   },
   {
    "duration": 62,
    "start_time": "2024-11-28T12:53:16.163Z"
   },
   {
    "duration": 70,
    "start_time": "2024-11-28T12:53:16.227Z"
   },
   {
    "duration": 67,
    "start_time": "2024-11-28T12:53:16.299Z"
   },
   {
    "duration": 10,
    "start_time": "2024-11-28T12:53:16.368Z"
   },
   {
    "duration": 10,
    "start_time": "2024-11-28T12:53:16.380Z"
   },
   {
    "duration": 15,
    "start_time": "2024-11-28T12:53:16.391Z"
   },
   {
    "duration": 67,
    "start_time": "2024-11-28T12:53:16.409Z"
   },
   {
    "duration": 53,
    "start_time": "2024-11-28T12:53:16.477Z"
   },
   {
    "duration": 39,
    "start_time": "2024-11-28T12:53:16.531Z"
   },
   {
    "duration": 355,
    "start_time": "2024-11-28T12:53:16.572Z"
   },
   {
    "duration": 5,
    "start_time": "2024-11-28T12:53:16.928Z"
   },
   {
    "duration": 105,
    "start_time": "2024-11-28T12:53:16.942Z"
   },
   {
    "duration": 127,
    "start_time": "2024-11-28T12:53:17.049Z"
   },
   {
    "duration": 7,
    "start_time": "2024-11-28T12:53:19.046Z"
   },
   {
    "duration": 5,
    "start_time": "2024-11-28T12:53:19.056Z"
   },
   {
    "duration": 451,
    "start_time": "2024-11-28T12:53:19.063Z"
   },
   {
    "duration": 3,
    "start_time": "2024-11-28T12:53:19.516Z"
   },
   {
    "duration": 64,
    "start_time": "2024-11-28T12:53:19.521Z"
   },
   {
    "duration": 25,
    "start_time": "2024-11-28T12:53:19.587Z"
   },
   {
    "duration": 43,
    "start_time": "2024-11-28T12:53:19.614Z"
   },
   {
    "duration": 51,
    "start_time": "2024-11-28T12:53:19.659Z"
   },
   {
    "duration": 65,
    "start_time": "2024-11-28T12:53:19.713Z"
   },
   {
    "duration": 46,
    "start_time": "2024-11-28T12:53:19.780Z"
   },
   {
    "duration": 34,
    "start_time": "2024-11-28T12:53:19.828Z"
   },
   {
    "duration": 17,
    "start_time": "2024-11-28T12:53:19.863Z"
   },
   {
    "duration": 12,
    "start_time": "2024-11-28T12:53:19.882Z"
   },
   {
    "duration": 59,
    "start_time": "2024-11-28T12:53:19.896Z"
   },
   {
    "duration": 41,
    "start_time": "2024-11-28T12:53:19.959Z"
   },
   {
    "duration": 56,
    "start_time": "2024-11-28T12:53:20.002Z"
   },
   {
    "duration": 436,
    "start_time": "2024-11-28T12:53:20.060Z"
   },
   {
    "duration": 4,
    "start_time": "2024-11-28T12:53:20.497Z"
   },
   {
    "duration": 70,
    "start_time": "2024-11-28T12:53:20.503Z"
   },
   {
    "duration": 189,
    "start_time": "2024-11-28T12:53:20.575Z"
   },
   {
    "duration": 190,
    "start_time": "2024-11-28T12:53:20.766Z"
   },
   {
    "duration": 4,
    "start_time": "2024-11-28T13:29:29.199Z"
   },
   {
    "duration": 4,
    "start_time": "2024-11-28T13:29:30.031Z"
   },
   {
    "duration": 3,
    "start_time": "2024-11-28T13:30:11.135Z"
   },
   {
    "duration": 4,
    "start_time": "2024-11-28T13:30:12.030Z"
   },
   {
    "duration": 141,
    "start_time": "2024-11-28T13:57:27.449Z"
   },
   {
    "duration": 3,
    "start_time": "2024-11-28T13:57:30.298Z"
   },
   {
    "duration": 69,
    "start_time": "2024-11-28T13:57:33.994Z"
   },
   {
    "duration": 111,
    "start_time": "2024-11-28T13:58:12.073Z"
   },
   {
    "duration": 3,
    "start_time": "2024-11-28T13:58:13.896Z"
   },
   {
    "duration": 9,
    "start_time": "2024-11-28T13:58:15.210Z"
   },
   {
    "duration": 85,
    "start_time": "2024-11-28T13:58:25.995Z"
   },
   {
    "duration": 3,
    "start_time": "2024-11-28T13:58:33.274Z"
   },
   {
    "duration": 3,
    "start_time": "2024-11-28T14:17:37.639Z"
   },
   {
    "duration": 4,
    "start_time": "2024-11-28T14:17:49.654Z"
   },
   {
    "duration": 22,
    "start_time": "2024-11-28T14:19:37.701Z"
   },
   {
    "duration": 4,
    "start_time": "2024-11-28T14:19:40.212Z"
   },
   {
    "duration": 12,
    "start_time": "2024-11-28T14:19:41.158Z"
   },
   {
    "duration": 5,
    "start_time": "2024-11-28T14:19:49.365Z"
   },
   {
    "duration": 19,
    "start_time": "2024-11-28T14:19:51.397Z"
   },
   {
    "duration": 10,
    "start_time": "2024-11-28T14:22:57.061Z"
   },
   {
    "duration": 4,
    "start_time": "2024-11-28T14:23:14.596Z"
   },
   {
    "duration": 4,
    "start_time": "2024-11-28T14:25:10.851Z"
   },
   {
    "duration": 4,
    "start_time": "2024-11-28T14:25:12.341Z"
   },
   {
    "duration": 27,
    "start_time": "2024-11-28T14:25:13.780Z"
   },
   {
    "duration": 8,
    "start_time": "2024-11-28T14:25:56.356Z"
   },
   {
    "duration": 5,
    "start_time": "2024-11-28T14:27:24.579Z"
   },
   {
    "duration": 27,
    "start_time": "2024-11-28T14:27:25.652Z"
   },
   {
    "duration": 1530,
    "start_time": "2024-11-28T14:27:31.612Z"
   },
   {
    "duration": 2,
    "start_time": "2024-11-28T14:27:33.144Z"
   },
   {
    "duration": 482,
    "start_time": "2024-11-28T14:27:33.147Z"
   },
   {
    "duration": 3,
    "start_time": "2024-11-28T14:27:33.630Z"
   },
   {
    "duration": 44,
    "start_time": "2024-11-28T14:27:33.642Z"
   },
   {
    "duration": 23,
    "start_time": "2024-11-28T14:27:33.688Z"
   },
   {
    "duration": 44,
    "start_time": "2024-11-28T14:27:33.713Z"
   },
   {
    "duration": 53,
    "start_time": "2024-11-28T14:27:33.759Z"
   },
   {
    "duration": 74,
    "start_time": "2024-11-28T14:27:33.814Z"
   },
   {
    "duration": 73,
    "start_time": "2024-11-28T14:27:33.889Z"
   },
   {
    "duration": 10,
    "start_time": "2024-11-28T14:27:33.963Z"
   },
   {
    "duration": 18,
    "start_time": "2024-11-28T14:27:33.975Z"
   },
   {
    "duration": 12,
    "start_time": "2024-11-28T14:27:33.995Z"
   },
   {
    "duration": 60,
    "start_time": "2024-11-28T14:27:34.010Z"
   },
   {
    "duration": 36,
    "start_time": "2024-11-28T14:27:34.071Z"
   },
   {
    "duration": 57,
    "start_time": "2024-11-28T14:27:34.108Z"
   },
   {
    "duration": 368,
    "start_time": "2024-11-28T14:27:34.167Z"
   },
   {
    "duration": 5,
    "start_time": "2024-11-28T14:27:34.537Z"
   },
   {
    "duration": 98,
    "start_time": "2024-11-28T14:27:34.544Z"
   },
   {
    "duration": 124,
    "start_time": "2024-11-28T14:27:34.645Z"
   },
   {
    "duration": 182,
    "start_time": "2024-11-28T14:27:34.771Z"
   },
   {
    "duration": 21,
    "start_time": "2024-11-28T14:27:34.956Z"
   },
   {
    "duration": 13,
    "start_time": "2024-11-28T14:27:35.044Z"
   },
   {
    "duration": 112,
    "start_time": "2024-11-28T14:27:35.060Z"
   },
   {
    "duration": 19,
    "start_time": "2024-11-28T14:27:35.174Z"
   },
   {
    "duration": 37,
    "start_time": "2024-11-28T14:27:35.196Z"
   },
   {
    "duration": 7,
    "start_time": "2024-11-28T14:30:33.460Z"
   },
   {
    "duration": 3,
    "start_time": "2024-11-28T14:30:34.339Z"
   },
   {
    "duration": 6,
    "start_time": "2024-11-28T14:31:38.787Z"
   },
   {
    "duration": 19,
    "start_time": "2024-11-28T14:31:39.668Z"
   },
   {
    "duration": 40,
    "start_time": "2024-11-28T14:33:36.084Z"
   },
   {
    "duration": 17,
    "start_time": "2024-11-28T14:33:39.442Z"
   },
   {
    "duration": 21,
    "start_time": "2024-11-28T14:34:09.394Z"
   },
   {
    "duration": 17,
    "start_time": "2024-11-28T14:34:32.147Z"
   },
   {
    "duration": 16,
    "start_time": "2024-11-28T14:34:59.394Z"
   },
   {
    "duration": 3,
    "start_time": "2024-11-28T14:35:27.458Z"
   },
   {
    "duration": 3,
    "start_time": "2024-11-28T14:35:28.322Z"
   },
   {
    "duration": 3,
    "start_time": "2024-11-28T14:35:29.282Z"
   },
   {
    "duration": 17,
    "start_time": "2024-11-28T14:35:30.226Z"
   },
   {
    "duration": 1455,
    "start_time": "2024-11-28T14:35:57.585Z"
   },
   {
    "duration": 3,
    "start_time": "2024-11-28T14:35:59.042Z"
   },
   {
    "duration": 447,
    "start_time": "2024-11-28T14:35:59.046Z"
   },
   {
    "duration": 3,
    "start_time": "2024-11-28T14:35:59.494Z"
   },
   {
    "duration": 27,
    "start_time": "2024-11-28T14:35:59.500Z"
   },
   {
    "duration": 35,
    "start_time": "2024-11-28T14:35:59.529Z"
   },
   {
    "duration": 62,
    "start_time": "2024-11-28T14:35:59.565Z"
   },
   {
    "duration": 49,
    "start_time": "2024-11-28T14:35:59.629Z"
   },
   {
    "duration": 45,
    "start_time": "2024-11-28T14:35:59.679Z"
   },
   {
    "duration": 57,
    "start_time": "2024-11-28T14:35:59.726Z"
   },
   {
    "duration": 11,
    "start_time": "2024-11-28T14:35:59.784Z"
   },
   {
    "duration": 11,
    "start_time": "2024-11-28T14:35:59.796Z"
   },
   {
    "duration": 36,
    "start_time": "2024-11-28T14:35:59.808Z"
   },
   {
    "duration": 45,
    "start_time": "2024-11-28T14:35:59.847Z"
   },
   {
    "duration": 65,
    "start_time": "2024-11-28T14:35:59.894Z"
   },
   {
    "duration": 42,
    "start_time": "2024-11-28T14:35:59.961Z"
   },
   {
    "duration": 373,
    "start_time": "2024-11-28T14:36:00.005Z"
   },
   {
    "duration": 6,
    "start_time": "2024-11-28T14:36:00.380Z"
   },
   {
    "duration": 60,
    "start_time": "2024-11-28T14:36:00.388Z"
   },
   {
    "duration": 196,
    "start_time": "2024-11-28T14:36:00.450Z"
   },
   {
    "duration": 206,
    "start_time": "2024-11-28T14:36:00.649Z"
   },
   {
    "duration": 85,
    "start_time": "2024-11-28T14:36:00.857Z"
   },
   {
    "duration": 100,
    "start_time": "2024-11-28T14:36:00.944Z"
   },
   {
    "duration": 31,
    "start_time": "2024-11-28T14:36:01.046Z"
   },
   {
    "duration": 70,
    "start_time": "2024-11-28T14:36:01.079Z"
   },
   {
    "duration": 51,
    "start_time": "2024-11-28T14:36:01.151Z"
   },
   {
    "duration": 30,
    "start_time": "2024-11-28T14:36:01.204Z"
   },
   {
    "duration": 17,
    "start_time": "2024-11-28T14:37:08.099Z"
   },
   {
    "duration": 3,
    "start_time": "2024-11-28T14:37:35.218Z"
   },
   {
    "duration": 3,
    "start_time": "2024-11-28T14:37:50.195Z"
   },
   {
    "duration": 23,
    "start_time": "2024-11-28T14:37:50.931Z"
   },
   {
    "duration": 3,
    "start_time": "2024-11-28T14:38:14.962Z"
   },
   {
    "duration": 22,
    "start_time": "2024-11-28T14:38:15.745Z"
   },
   {
    "duration": 4,
    "start_time": "2024-11-28T14:38:58.437Z"
   },
   {
    "duration": 59,
    "start_time": "2024-11-28T14:38:58.443Z"
   },
   {
    "duration": 444,
    "start_time": "2024-11-28T14:38:58.503Z"
   },
   {
    "duration": 3,
    "start_time": "2024-11-28T14:38:58.948Z"
   },
   {
    "duration": 35,
    "start_time": "2024-11-28T14:38:58.953Z"
   },
   {
    "duration": 25,
    "start_time": "2024-11-28T14:38:58.989Z"
   },
   {
    "duration": 42,
    "start_time": "2024-11-28T14:38:59.017Z"
   },
   {
    "duration": 43,
    "start_time": "2024-11-28T14:38:59.061Z"
   },
   {
    "duration": 64,
    "start_time": "2024-11-28T14:38:59.105Z"
   },
   {
    "duration": 61,
    "start_time": "2024-11-28T14:38:59.171Z"
   },
   {
    "duration": 11,
    "start_time": "2024-11-28T14:38:59.244Z"
   },
   {
    "duration": 20,
    "start_time": "2024-11-28T14:38:59.257Z"
   },
   {
    "duration": 17,
    "start_time": "2024-11-28T14:38:59.281Z"
   },
   {
    "duration": 81,
    "start_time": "2024-11-28T14:38:59.300Z"
   },
   {
    "duration": 44,
    "start_time": "2024-11-28T14:38:59.383Z"
   },
   {
    "duration": 48,
    "start_time": "2024-11-28T14:38:59.442Z"
   },
   {
    "duration": 387,
    "start_time": "2024-11-28T14:38:59.491Z"
   },
   {
    "duration": 9,
    "start_time": "2024-11-28T14:38:59.880Z"
   },
   {
    "duration": 56,
    "start_time": "2024-11-28T14:38:59.891Z"
   },
   {
    "duration": 115,
    "start_time": "2024-11-28T14:38:59.950Z"
   },
   {
    "duration": 204,
    "start_time": "2024-11-28T14:39:00.068Z"
   },
   {
    "duration": 72,
    "start_time": "2024-11-28T14:39:00.274Z"
   },
   {
    "duration": 96,
    "start_time": "2024-11-28T14:39:00.349Z"
   },
   {
    "duration": 85,
    "start_time": "2024-11-28T14:39:00.447Z"
   },
   {
    "duration": 9,
    "start_time": "2024-11-28T14:39:00.534Z"
   },
   {
    "duration": 10,
    "start_time": "2024-11-28T14:39:00.545Z"
   },
   {
    "duration": 43,
    "start_time": "2024-11-28T14:39:00.557Z"
   },
   {
    "duration": 4,
    "start_time": "2024-11-28T14:39:00.602Z"
   },
   {
    "duration": 35,
    "start_time": "2024-11-28T14:39:00.608Z"
   },
   {
    "duration": 4,
    "start_time": "2024-11-28T14:39:00.645Z"
   },
   {
    "duration": 53,
    "start_time": "2024-11-28T14:39:00.651Z"
   },
   {
    "duration": 129,
    "start_time": "2024-11-28T14:40:44.721Z"
   },
   {
    "duration": 1508,
    "start_time": "2024-11-28T14:41:05.211Z"
   },
   {
    "duration": 2,
    "start_time": "2024-11-28T14:41:06.721Z"
   },
   {
    "duration": 474,
    "start_time": "2024-11-28T14:41:06.725Z"
   },
   {
    "duration": 2,
    "start_time": "2024-11-28T14:41:07.201Z"
   },
   {
    "duration": 55,
    "start_time": "2024-11-28T14:41:07.205Z"
   },
   {
    "duration": 30,
    "start_time": "2024-11-28T14:41:07.262Z"
   },
   {
    "duration": 24,
    "start_time": "2024-11-28T14:41:07.294Z"
   },
   {
    "duration": 93,
    "start_time": "2024-11-28T14:41:07.320Z"
   },
   {
    "duration": 61,
    "start_time": "2024-11-28T14:41:07.415Z"
   },
   {
    "duration": 46,
    "start_time": "2024-11-28T14:41:07.477Z"
   },
   {
    "duration": 19,
    "start_time": "2024-11-28T14:41:07.525Z"
   },
   {
    "duration": 9,
    "start_time": "2024-11-28T14:41:07.546Z"
   },
   {
    "duration": 76,
    "start_time": "2024-11-28T14:41:07.557Z"
   },
   {
    "duration": 40,
    "start_time": "2024-11-28T14:41:07.636Z"
   },
   {
    "duration": 37,
    "start_time": "2024-11-28T14:41:07.678Z"
   },
   {
    "duration": 55,
    "start_time": "2024-11-28T14:41:07.716Z"
   },
   {
    "duration": 332,
    "start_time": "2024-11-28T14:41:07.772Z"
   },
   {
    "duration": 4,
    "start_time": "2024-11-28T14:41:08.106Z"
   },
   {
    "duration": 45,
    "start_time": "2024-11-28T14:41:08.112Z"
   },
   {
    "duration": 200,
    "start_time": "2024-11-28T14:41:08.158Z"
   },
   {
    "duration": 190,
    "start_time": "2024-11-28T14:41:08.360Z"
   },
   {
    "duration": 7,
    "start_time": "2024-11-28T14:41:08.552Z"
   },
   {
    "duration": 199,
    "start_time": "2024-11-28T14:41:08.561Z"
   },
   {
    "duration": 23,
    "start_time": "2024-11-28T14:41:08.762Z"
   },
   {
    "duration": 29,
    "start_time": "2024-11-28T14:41:08.787Z"
   },
   {
    "duration": 50,
    "start_time": "2024-11-28T14:41:08.818Z"
   },
   {
    "duration": 96,
    "start_time": "2024-11-28T14:41:08.870Z"
   },
   {
    "duration": 4,
    "start_time": "2024-11-28T14:41:08.967Z"
   },
   {
    "duration": 22,
    "start_time": "2024-11-28T14:41:08.972Z"
   },
   {
    "duration": 3,
    "start_time": "2024-11-28T14:41:08.996Z"
   },
   {
    "duration": 33,
    "start_time": "2024-11-28T14:41:09.000Z"
   },
   {
    "duration": 3,
    "start_time": "2024-11-28T14:41:09.043Z"
   },
   {
    "duration": 152,
    "start_time": "2024-11-28T14:58:10.928Z"
   },
   {
    "duration": 4,
    "start_time": "2024-11-28T14:58:15.745Z"
   },
   {
    "duration": 4,
    "start_time": "2024-11-28T14:58:18.400Z"
   },
   {
    "duration": 26,
    "start_time": "2024-11-28T14:58:21.840Z"
   },
   {
    "duration": 1585,
    "start_time": "2024-11-28T14:58:42.417Z"
   },
   {
    "duration": 3,
    "start_time": "2024-11-28T14:58:44.005Z"
   },
   {
    "duration": 573,
    "start_time": "2024-11-28T14:58:44.009Z"
   },
   {
    "duration": 3,
    "start_time": "2024-11-28T14:58:44.583Z"
   },
   {
    "duration": 79,
    "start_time": "2024-11-28T14:58:44.588Z"
   },
   {
    "duration": 22,
    "start_time": "2024-11-28T14:58:44.670Z"
   },
   {
    "duration": 23,
    "start_time": "2024-11-28T14:58:44.694Z"
   },
   {
    "duration": 81,
    "start_time": "2024-11-28T14:58:44.718Z"
   },
   {
    "duration": 73,
    "start_time": "2024-11-28T14:58:44.807Z"
   },
   {
    "duration": 73,
    "start_time": "2024-11-28T14:58:44.882Z"
   },
   {
    "duration": 18,
    "start_time": "2024-11-28T14:58:44.957Z"
   },
   {
    "duration": 97,
    "start_time": "2024-11-28T14:58:44.979Z"
   },
   {
    "duration": 42,
    "start_time": "2024-11-28T14:58:45.078Z"
   },
   {
    "duration": 112,
    "start_time": "2024-11-28T14:58:45.124Z"
   },
   {
    "duration": 90,
    "start_time": "2024-11-28T14:58:45.238Z"
   },
   {
    "duration": 67,
    "start_time": "2024-11-28T14:58:45.330Z"
   },
   {
    "duration": 421,
    "start_time": "2024-11-28T14:58:45.400Z"
   },
   {
    "duration": 5,
    "start_time": "2024-11-28T14:58:45.823Z"
   },
   {
    "duration": 64,
    "start_time": "2024-11-28T14:58:45.830Z"
   },
   {
    "duration": 173,
    "start_time": "2024-11-28T14:58:45.896Z"
   },
   {
    "duration": 100,
    "start_time": "2024-11-28T14:58:46.072Z"
   },
   {
    "duration": 74,
    "start_time": "2024-11-28T14:58:46.174Z"
   },
   {
    "duration": 160,
    "start_time": "2024-11-28T14:58:46.260Z"
   },
   {
    "duration": 36,
    "start_time": "2024-11-28T14:58:46.422Z"
   },
   {
    "duration": 41,
    "start_time": "2024-11-28T14:58:46.462Z"
   },
   {
    "duration": 142,
    "start_time": "2024-11-28T14:58:46.505Z"
   },
   {
    "duration": 0,
    "start_time": "2024-11-28T14:58:46.649Z"
   },
   {
    "duration": 0,
    "start_time": "2024-11-28T14:58:46.651Z"
   },
   {
    "duration": 0,
    "start_time": "2024-11-28T14:58:46.652Z"
   },
   {
    "duration": 0,
    "start_time": "2024-11-28T14:58:46.653Z"
   },
   {
    "duration": 0,
    "start_time": "2024-11-28T14:58:46.654Z"
   },
   {
    "duration": 0,
    "start_time": "2024-11-28T14:58:46.657Z"
   },
   {
    "duration": 0,
    "start_time": "2024-11-28T14:58:46.659Z"
   },
   {
    "duration": 0,
    "start_time": "2024-11-28T14:58:46.660Z"
   },
   {
    "duration": 0,
    "start_time": "2024-11-28T14:58:46.661Z"
   },
   {
    "duration": 21,
    "start_time": "2024-11-28T15:12:45.424Z"
   },
   {
    "duration": 17,
    "start_time": "2024-11-28T15:12:56.589Z"
   },
   {
    "duration": 4,
    "start_time": "2024-11-28T15:18:00.205Z"
   },
   {
    "duration": 4,
    "start_time": "2024-11-28T15:18:01.132Z"
   },
   {
    "duration": 18,
    "start_time": "2024-11-28T15:18:01.820Z"
   },
   {
    "duration": 1547,
    "start_time": "2024-11-28T15:18:10.569Z"
   },
   {
    "duration": 3,
    "start_time": "2024-11-28T15:18:12.118Z"
   },
   {
    "duration": 520,
    "start_time": "2024-11-28T15:18:12.122Z"
   },
   {
    "duration": 3,
    "start_time": "2024-11-28T15:18:12.644Z"
   },
   {
    "duration": 49,
    "start_time": "2024-11-28T15:18:12.649Z"
   },
   {
    "duration": 23,
    "start_time": "2024-11-28T15:18:12.700Z"
   },
   {
    "duration": 40,
    "start_time": "2024-11-28T15:18:12.724Z"
   },
   {
    "duration": 78,
    "start_time": "2024-11-28T15:18:12.766Z"
   },
   {
    "duration": 51,
    "start_time": "2024-11-28T15:18:12.845Z"
   },
   {
    "duration": 74,
    "start_time": "2024-11-28T15:18:12.899Z"
   },
   {
    "duration": 11,
    "start_time": "2024-11-28T15:18:12.974Z"
   },
   {
    "duration": 12,
    "start_time": "2024-11-28T15:18:12.986Z"
   },
   {
    "duration": 85,
    "start_time": "2024-11-28T15:18:13.000Z"
   },
   {
    "duration": 42,
    "start_time": "2024-11-28T15:18:13.087Z"
   },
   {
    "duration": 35,
    "start_time": "2024-11-28T15:18:13.131Z"
   },
   {
    "duration": 32,
    "start_time": "2024-11-28T15:18:13.168Z"
   },
   {
    "duration": 323,
    "start_time": "2024-11-28T15:18:13.201Z"
   },
   {
    "duration": 4,
    "start_time": "2024-11-28T15:18:13.526Z"
   },
   {
    "duration": 111,
    "start_time": "2024-11-28T15:18:13.531Z"
   },
   {
    "duration": 117,
    "start_time": "2024-11-28T15:18:13.644Z"
   },
   {
    "duration": 282,
    "start_time": "2024-11-28T15:18:13.763Z"
   },
   {
    "duration": 3,
    "start_time": "2024-11-28T15:18:14.047Z"
   },
   {
    "duration": 92,
    "start_time": "2024-11-28T15:18:14.052Z"
   },
   {
    "duration": 59,
    "start_time": "2024-11-28T15:18:14.146Z"
   },
   {
    "duration": 4,
    "start_time": "2024-11-28T15:18:14.207Z"
   },
   {
    "duration": 123,
    "start_time": "2024-11-28T15:18:14.213Z"
   },
   {
    "duration": 0,
    "start_time": "2024-11-28T15:18:14.338Z"
   },
   {
    "duration": 0,
    "start_time": "2024-11-28T15:18:14.342Z"
   },
   {
    "duration": 0,
    "start_time": "2024-11-28T15:18:14.343Z"
   },
   {
    "duration": 0,
    "start_time": "2024-11-28T15:18:14.344Z"
   },
   {
    "duration": 0,
    "start_time": "2024-11-28T15:18:14.345Z"
   },
   {
    "duration": 0,
    "start_time": "2024-11-28T15:18:14.347Z"
   },
   {
    "duration": 1,
    "start_time": "2024-11-28T15:18:14.347Z"
   },
   {
    "duration": 0,
    "start_time": "2024-11-28T15:18:14.349Z"
   },
   {
    "duration": 0,
    "start_time": "2024-11-28T15:18:14.350Z"
   },
   {
    "duration": 11,
    "start_time": "2024-11-28T15:23:34.537Z"
   },
   {
    "duration": 3,
    "start_time": "2024-11-28T15:24:08.041Z"
   },
   {
    "duration": 4,
    "start_time": "2024-11-28T15:24:10.960Z"
   },
   {
    "duration": 11,
    "start_time": "2024-11-28T15:24:13.385Z"
   },
   {
    "duration": 3,
    "start_time": "2024-11-28T15:26:43.752Z"
   },
   {
    "duration": 3,
    "start_time": "2024-11-28T15:26:45.576Z"
   },
   {
    "duration": 15,
    "start_time": "2024-11-28T15:26:46.440Z"
   },
   {
    "duration": 1531,
    "start_time": "2024-11-29T09:56:24.623Z"
   },
   {
    "duration": 2,
    "start_time": "2024-11-29T09:56:26.156Z"
   },
   {
    "duration": 1851,
    "start_time": "2024-11-29T09:56:26.160Z"
   },
   {
    "duration": 4,
    "start_time": "2024-11-29T09:56:28.013Z"
   },
   {
    "duration": 44,
    "start_time": "2024-11-29T09:56:28.018Z"
   },
   {
    "duration": 30,
    "start_time": "2024-11-29T09:56:28.064Z"
   },
   {
    "duration": 24,
    "start_time": "2024-11-29T09:56:28.096Z"
   },
   {
    "duration": 64,
    "start_time": "2024-11-29T09:56:28.122Z"
   },
   {
    "duration": 44,
    "start_time": "2024-11-29T09:56:28.188Z"
   },
   {
    "duration": 62,
    "start_time": "2024-11-29T09:56:28.235Z"
   },
   {
    "duration": 11,
    "start_time": "2024-11-29T09:56:28.299Z"
   },
   {
    "duration": 19,
    "start_time": "2024-11-29T09:56:28.311Z"
   },
   {
    "duration": 12,
    "start_time": "2024-11-29T09:56:28.332Z"
   },
   {
    "duration": 65,
    "start_time": "2024-11-29T09:56:28.346Z"
   },
   {
    "duration": 42,
    "start_time": "2024-11-29T09:56:28.414Z"
   },
   {
    "duration": 57,
    "start_time": "2024-11-29T09:56:28.457Z"
   },
   {
    "duration": 347,
    "start_time": "2024-11-29T09:56:28.516Z"
   },
   {
    "duration": 5,
    "start_time": "2024-11-29T09:56:28.864Z"
   },
   {
    "duration": 63,
    "start_time": "2024-11-29T09:56:28.871Z"
   },
   {
    "duration": 178,
    "start_time": "2024-11-29T09:56:28.936Z"
   },
   {
    "duration": 198,
    "start_time": "2024-11-29T09:56:29.116Z"
   },
   {
    "duration": 81,
    "start_time": "2024-11-29T09:56:29.316Z"
   },
   {
    "duration": 102,
    "start_time": "2024-11-29T09:56:29.399Z"
   },
   {
    "duration": 13,
    "start_time": "2024-11-29T09:56:29.503Z"
   },
   {
    "duration": 28,
    "start_time": "2024-11-29T09:56:29.517Z"
   },
   {
    "duration": 121,
    "start_time": "2024-11-29T09:56:29.547Z"
   },
   {
    "duration": 0,
    "start_time": "2024-11-29T09:56:29.670Z"
   },
   {
    "duration": 0,
    "start_time": "2024-11-29T09:56:29.673Z"
   },
   {
    "duration": 0,
    "start_time": "2024-11-29T09:56:29.674Z"
   },
   {
    "duration": 0,
    "start_time": "2024-11-29T09:56:29.675Z"
   },
   {
    "duration": 0,
    "start_time": "2024-11-29T09:56:29.677Z"
   },
   {
    "duration": 0,
    "start_time": "2024-11-29T09:56:29.678Z"
   },
   {
    "duration": 1566,
    "start_time": "2024-11-29T09:56:57.747Z"
   },
   {
    "duration": 4,
    "start_time": "2024-11-29T09:56:59.315Z"
   },
   {
    "duration": 452,
    "start_time": "2024-11-29T09:56:59.321Z"
   },
   {
    "duration": 3,
    "start_time": "2024-11-29T09:56:59.775Z"
   },
   {
    "duration": 40,
    "start_time": "2024-11-29T09:56:59.780Z"
   },
   {
    "duration": 23,
    "start_time": "2024-11-29T09:56:59.822Z"
   },
   {
    "duration": 23,
    "start_time": "2024-11-29T09:56:59.847Z"
   },
   {
    "duration": 73,
    "start_time": "2024-11-29T09:56:59.872Z"
   },
   {
    "duration": 69,
    "start_time": "2024-11-29T09:56:59.946Z"
   },
   {
    "duration": 49,
    "start_time": "2024-11-29T09:57:00.016Z"
   },
   {
    "duration": 28,
    "start_time": "2024-11-29T09:57:00.067Z"
   },
   {
    "duration": 35,
    "start_time": "2024-11-29T09:57:00.096Z"
   },
   {
    "duration": 25,
    "start_time": "2024-11-29T09:57:00.133Z"
   },
   {
    "duration": 42,
    "start_time": "2024-11-29T09:57:00.161Z"
   },
   {
    "duration": 41,
    "start_time": "2024-11-29T09:57:00.205Z"
   },
   {
    "duration": 37,
    "start_time": "2024-11-29T09:57:00.248Z"
   },
   {
    "duration": 344,
    "start_time": "2024-11-29T09:57:00.298Z"
   },
   {
    "duration": 5,
    "start_time": "2024-11-29T09:57:00.644Z"
   },
   {
    "duration": 52,
    "start_time": "2024-11-29T09:57:00.650Z"
   },
   {
    "duration": 207,
    "start_time": "2024-11-29T09:57:00.704Z"
   },
   {
    "duration": 201,
    "start_time": "2024-11-29T09:57:00.914Z"
   },
   {
    "duration": 4,
    "start_time": "2024-11-29T09:57:01.117Z"
   },
   {
    "duration": 177,
    "start_time": "2024-11-29T09:57:01.123Z"
   },
   {
    "duration": 22,
    "start_time": "2024-11-29T09:57:01.302Z"
   },
   {
    "duration": 22,
    "start_time": "2024-11-29T09:57:01.326Z"
   },
   {
    "duration": 40,
    "start_time": "2024-11-29T09:57:01.350Z"
   },
   {
    "duration": 23,
    "start_time": "2024-11-29T09:57:01.392Z"
   },
   {
    "duration": 22,
    "start_time": "2024-11-29T09:57:01.417Z"
   },
   {
    "duration": 22,
    "start_time": "2024-11-29T09:57:01.440Z"
   },
   {
    "duration": 1502,
    "start_time": "2024-11-29T10:00:03.676Z"
   },
   {
    "duration": 2,
    "start_time": "2024-11-29T10:00:05.180Z"
   },
   {
    "duration": 477,
    "start_time": "2024-11-29T10:00:05.184Z"
   },
   {
    "duration": 3,
    "start_time": "2024-11-29T10:00:05.662Z"
   },
   {
    "duration": 40,
    "start_time": "2024-11-29T10:00:05.667Z"
   },
   {
    "duration": 41,
    "start_time": "2024-11-29T10:00:05.709Z"
   },
   {
    "duration": 40,
    "start_time": "2024-11-29T10:00:05.753Z"
   },
   {
    "duration": 81,
    "start_time": "2024-11-29T10:00:05.795Z"
   },
   {
    "duration": 47,
    "start_time": "2024-11-29T10:00:05.878Z"
   },
   {
    "duration": 52,
    "start_time": "2024-11-29T10:00:05.927Z"
   },
   {
    "duration": 23,
    "start_time": "2024-11-29T10:00:05.981Z"
   },
   {
    "duration": 49,
    "start_time": "2024-11-29T10:00:06.005Z"
   },
   {
    "duration": 10,
    "start_time": "2024-11-29T10:00:06.056Z"
   },
   {
    "duration": 50,
    "start_time": "2024-11-29T10:00:06.069Z"
   },
   {
    "duration": 45,
    "start_time": "2024-11-29T10:00:06.121Z"
   },
   {
    "duration": 40,
    "start_time": "2024-11-29T10:00:06.168Z"
   },
   {
    "duration": 347,
    "start_time": "2024-11-29T10:00:06.210Z"
   },
   {
    "duration": 5,
    "start_time": "2024-11-29T10:00:06.558Z"
   },
   {
    "duration": 63,
    "start_time": "2024-11-29T10:00:06.564Z"
   },
   {
    "duration": 122,
    "start_time": "2024-11-29T10:00:06.699Z"
   },
   {
    "duration": 121,
    "start_time": "2024-11-29T10:00:06.897Z"
   },
   {
    "duration": 83,
    "start_time": "2024-11-29T10:00:07.021Z"
   },
   {
    "duration": 144,
    "start_time": "2024-11-29T10:00:07.106Z"
   },
   {
    "duration": 22,
    "start_time": "2024-11-29T10:00:07.251Z"
   },
   {
    "duration": 65,
    "start_time": "2024-11-29T10:00:07.275Z"
   },
   {
    "duration": 55,
    "start_time": "2024-11-29T10:00:07.342Z"
   },
   {
    "duration": 47,
    "start_time": "2024-11-29T10:00:07.400Z"
   },
   {
    "duration": 52,
    "start_time": "2024-11-29T10:00:07.448Z"
   },
   {
    "duration": 35,
    "start_time": "2024-11-29T10:00:07.502Z"
   },
   {
    "duration": 123,
    "start_time": "2024-11-29T12:25:22.742Z"
   },
   {
    "duration": 11,
    "start_time": "2024-11-29T12:25:53.874Z"
   },
   {
    "duration": 1562,
    "start_time": "2024-11-29T12:26:01.206Z"
   },
   {
    "duration": 2,
    "start_time": "2024-11-29T12:26:02.770Z"
   },
   {
    "duration": 511,
    "start_time": "2024-11-29T12:26:02.774Z"
   },
   {
    "duration": 3,
    "start_time": "2024-11-29T12:26:03.287Z"
   },
   {
    "duration": 59,
    "start_time": "2024-11-29T12:26:03.299Z"
   },
   {
    "duration": 26,
    "start_time": "2024-11-29T12:26:03.360Z"
   },
   {
    "duration": 36,
    "start_time": "2024-11-29T12:26:03.387Z"
   },
   {
    "duration": 75,
    "start_time": "2024-11-29T12:26:03.425Z"
   },
   {
    "duration": 48,
    "start_time": "2024-11-29T12:26:03.502Z"
   },
   {
    "duration": 66,
    "start_time": "2024-11-29T12:26:03.551Z"
   },
   {
    "duration": 11,
    "start_time": "2024-11-29T12:26:03.618Z"
   },
   {
    "duration": 12,
    "start_time": "2024-11-29T12:26:03.631Z"
   },
   {
    "duration": 28,
    "start_time": "2024-11-29T12:26:03.645Z"
   },
   {
    "duration": 56,
    "start_time": "2024-11-29T12:26:03.676Z"
   },
   {
    "duration": 41,
    "start_time": "2024-11-29T12:26:03.734Z"
   },
   {
    "duration": 57,
    "start_time": "2024-11-29T12:26:03.777Z"
   },
   {
    "duration": 379,
    "start_time": "2024-11-29T12:26:03.836Z"
   },
   {
    "duration": 6,
    "start_time": "2024-11-29T12:26:04.217Z"
   },
   {
    "duration": 79,
    "start_time": "2024-11-29T12:26:04.225Z"
   },
   {
    "duration": 115,
    "start_time": "2024-11-29T12:26:04.306Z"
   },
   {
    "duration": 194,
    "start_time": "2024-11-29T12:26:04.424Z"
   },
   {
    "duration": 78,
    "start_time": "2024-11-29T12:26:04.620Z"
   },
   {
    "duration": 110,
    "start_time": "2024-11-29T12:26:04.700Z"
   },
   {
    "duration": 13,
    "start_time": "2024-11-29T12:26:04.811Z"
   },
   {
    "duration": 6,
    "start_time": "2024-11-29T12:26:04.826Z"
   },
   {
    "duration": 31,
    "start_time": "2024-11-29T12:26:04.833Z"
   },
   {
    "duration": 20,
    "start_time": "2024-11-29T12:26:04.866Z"
   },
   {
    "duration": 22,
    "start_time": "2024-11-29T12:26:04.888Z"
   },
   {
    "duration": 6,
    "start_time": "2024-11-29T12:26:04.912Z"
   },
   {
    "duration": 134,
    "start_time": "2024-11-29T12:26:04.919Z"
   },
   {
    "duration": 14,
    "start_time": "2024-11-29T12:37:41.792Z"
   },
   {
    "duration": 1441,
    "start_time": "2024-11-29T12:38:39.606Z"
   },
   {
    "duration": 2,
    "start_time": "2024-11-29T12:38:41.049Z"
   },
   {
    "duration": 452,
    "start_time": "2024-11-29T12:38:41.053Z"
   },
   {
    "duration": 2,
    "start_time": "2024-11-29T12:38:41.509Z"
   },
   {
    "duration": 39,
    "start_time": "2024-11-29T12:38:41.513Z"
   },
   {
    "duration": 24,
    "start_time": "2024-11-29T12:38:41.554Z"
   },
   {
    "duration": 36,
    "start_time": "2024-11-29T12:38:41.579Z"
   },
   {
    "duration": 46,
    "start_time": "2024-11-29T12:38:41.617Z"
   },
   {
    "duration": 70,
    "start_time": "2024-11-29T12:38:41.665Z"
   },
   {
    "duration": 48,
    "start_time": "2024-11-29T12:38:41.736Z"
   },
   {
    "duration": 20,
    "start_time": "2024-11-29T12:38:41.785Z"
   },
   {
    "duration": 11,
    "start_time": "2024-11-29T12:38:41.808Z"
   },
   {
    "duration": 11,
    "start_time": "2024-11-29T12:38:41.820Z"
   },
   {
    "duration": 67,
    "start_time": "2024-11-29T12:38:41.832Z"
   },
   {
    "duration": 40,
    "start_time": "2024-11-29T12:38:41.900Z"
   },
   {
    "duration": 37,
    "start_time": "2024-11-29T12:38:41.942Z"
   },
   {
    "duration": 346,
    "start_time": "2024-11-29T12:38:41.997Z"
   },
   {
    "duration": 5,
    "start_time": "2024-11-29T12:38:42.344Z"
   },
   {
    "duration": 50,
    "start_time": "2024-11-29T12:38:42.351Z"
   },
   {
    "duration": 224,
    "start_time": "2024-11-29T12:38:42.403Z"
   },
   {
    "duration": 117,
    "start_time": "2024-11-29T12:38:42.699Z"
   },
   {
    "duration": 3,
    "start_time": "2024-11-29T12:38:42.818Z"
   },
   {
    "duration": 100,
    "start_time": "2024-11-29T12:38:42.899Z"
   },
   {
    "duration": 15,
    "start_time": "2024-11-29T12:38:43.001Z"
   },
   {
    "duration": 6,
    "start_time": "2024-11-29T12:38:43.018Z"
   },
   {
    "duration": 26,
    "start_time": "2024-11-29T12:38:43.025Z"
   },
   {
    "duration": 21,
    "start_time": "2024-11-29T12:38:43.052Z"
   },
   {
    "duration": 36,
    "start_time": "2024-11-29T12:38:43.074Z"
   },
   {
    "duration": 3,
    "start_time": "2024-11-29T12:38:43.112Z"
   },
   {
    "duration": 119,
    "start_time": "2024-11-29T12:38:43.116Z"
   },
   {
    "duration": 10,
    "start_time": "2024-11-29T12:39:03.039Z"
   },
   {
    "duration": 6,
    "start_time": "2024-11-29T12:39:50.447Z"
   },
   {
    "duration": 6,
    "start_time": "2024-11-29T12:40:38.624Z"
   },
   {
    "duration": 12623,
    "start_time": "2024-11-29T12:41:25.943Z"
   },
   {
    "duration": 1440,
    "start_time": "2024-11-29T12:44:07.654Z"
   },
   {
    "duration": 3,
    "start_time": "2024-11-29T12:44:09.095Z"
   },
   {
    "duration": 452,
    "start_time": "2024-11-29T12:44:09.100Z"
   },
   {
    "duration": 3,
    "start_time": "2024-11-29T12:44:09.554Z"
   },
   {
    "duration": 44,
    "start_time": "2024-11-29T12:44:09.559Z"
   },
   {
    "duration": 22,
    "start_time": "2024-11-29T12:44:09.605Z"
   },
   {
    "duration": 21,
    "start_time": "2024-11-29T12:44:09.629Z"
   },
   {
    "duration": 82,
    "start_time": "2024-11-29T12:44:09.652Z"
   },
   {
    "duration": 43,
    "start_time": "2024-11-29T12:44:09.736Z"
   },
   {
    "duration": 58,
    "start_time": "2024-11-29T12:44:09.783Z"
   },
   {
    "duration": 11,
    "start_time": "2024-11-29T12:44:09.843Z"
   },
   {
    "duration": 24,
    "start_time": "2024-11-29T12:44:09.856Z"
   },
   {
    "duration": 23,
    "start_time": "2024-11-29T12:44:09.882Z"
   },
   {
    "duration": 40,
    "start_time": "2024-11-29T12:44:09.907Z"
   },
   {
    "duration": 59,
    "start_time": "2024-11-29T12:44:09.949Z"
   },
   {
    "duration": 36,
    "start_time": "2024-11-29T12:44:10.010Z"
   },
   {
    "duration": 368,
    "start_time": "2024-11-29T12:44:10.048Z"
   },
   {
    "duration": 5,
    "start_time": "2024-11-29T12:44:10.418Z"
   },
   {
    "duration": 174,
    "start_time": "2024-11-29T12:44:10.424Z"
   },
   {
    "duration": 103,
    "start_time": "2024-11-29T12:44:10.600Z"
   },
   {
    "duration": 118,
    "start_time": "2024-11-29T12:44:10.705Z"
   },
   {
    "duration": 75,
    "start_time": "2024-11-29T12:44:10.825Z"
   },
   {
    "duration": 95,
    "start_time": "2024-11-29T12:44:10.902Z"
   },
   {
    "duration": 4,
    "start_time": "2024-11-29T12:44:10.999Z"
   },
   {
    "duration": 4,
    "start_time": "2024-11-29T12:44:11.005Z"
   },
   {
    "duration": 30,
    "start_time": "2024-11-29T12:44:11.011Z"
   },
   {
    "duration": 21,
    "start_time": "2024-11-29T12:44:11.043Z"
   },
   {
    "duration": 50,
    "start_time": "2024-11-29T12:44:11.068Z"
   },
   {
    "duration": 3,
    "start_time": "2024-11-29T12:44:11.120Z"
   },
   {
    "duration": 3,
    "start_time": "2024-11-29T12:44:11.125Z"
   },
   {
    "duration": 145,
    "start_time": "2024-11-29T12:44:11.129Z"
   },
   {
    "duration": 0,
    "start_time": "2024-11-29T12:44:11.276Z"
   },
   {
    "duration": 12,
    "start_time": "2024-11-29T12:44:31.358Z"
   },
   {
    "duration": 12608,
    "start_time": "2024-11-29T12:44:43.517Z"
   },
   {
    "duration": 1456,
    "start_time": "2024-11-29T12:45:04.927Z"
   },
   {
    "duration": 2,
    "start_time": "2024-11-29T12:45:06.385Z"
   },
   {
    "duration": 515,
    "start_time": "2024-11-29T12:45:06.389Z"
   },
   {
    "duration": 3,
    "start_time": "2024-11-29T12:45:06.906Z"
   },
   {
    "duration": 31,
    "start_time": "2024-11-29T12:45:06.911Z"
   },
   {
    "duration": 23,
    "start_time": "2024-11-29T12:45:06.944Z"
   },
   {
    "duration": 47,
    "start_time": "2024-11-29T12:45:06.969Z"
   },
   {
    "duration": 51,
    "start_time": "2024-11-29T12:45:07.017Z"
   },
   {
    "duration": 67,
    "start_time": "2024-11-29T12:45:07.069Z"
   },
   {
    "duration": 65,
    "start_time": "2024-11-29T12:45:07.138Z"
   },
   {
    "duration": 14,
    "start_time": "2024-11-29T12:45:07.204Z"
   },
   {
    "duration": 50,
    "start_time": "2024-11-29T12:45:07.220Z"
   },
   {
    "duration": 13,
    "start_time": "2024-11-29T12:45:07.272Z"
   },
   {
    "duration": 61,
    "start_time": "2024-11-29T12:45:07.288Z"
   },
   {
    "duration": 40,
    "start_time": "2024-11-29T12:45:07.350Z"
   },
   {
    "duration": 40,
    "start_time": "2024-11-29T12:45:07.391Z"
   },
   {
    "duration": 367,
    "start_time": "2024-11-29T12:45:07.432Z"
   },
   {
    "duration": 4,
    "start_time": "2024-11-29T12:45:07.801Z"
   },
   {
    "duration": 90,
    "start_time": "2024-11-29T12:45:07.807Z"
   },
   {
    "duration": 117,
    "start_time": "2024-11-29T12:45:07.900Z"
   },
   {
    "duration": 200,
    "start_time": "2024-11-29T12:45:08.019Z"
   },
   {
    "duration": 80,
    "start_time": "2024-11-29T12:45:08.221Z"
   },
   {
    "duration": 95,
    "start_time": "2024-11-29T12:45:08.304Z"
   },
   {
    "duration": 15,
    "start_time": "2024-11-29T12:45:08.400Z"
   },
   {
    "duration": 12,
    "start_time": "2024-11-29T12:45:08.416Z"
   },
   {
    "duration": 46,
    "start_time": "2024-11-29T12:45:08.430Z"
   },
   {
    "duration": 29,
    "start_time": "2024-11-29T12:45:08.478Z"
   },
   {
    "duration": 44,
    "start_time": "2024-11-29T12:45:08.509Z"
   },
   {
    "duration": 4,
    "start_time": "2024-11-29T12:45:08.554Z"
   },
   {
    "duration": 19,
    "start_time": "2024-11-29T12:45:08.559Z"
   },
   {
    "duration": 12044,
    "start_time": "2024-11-29T12:45:08.580Z"
   },
   {
    "duration": 4,
    "start_time": "2024-11-29T12:45:20.626Z"
   },
   {
    "duration": 4,
    "start_time": "2024-11-29T12:47:09.898Z"
   },
   {
    "duration": 8,
    "start_time": "2024-11-29T12:56:24.012Z"
   },
   {
    "duration": 155,
    "start_time": "2024-11-29T12:57:02.283Z"
   },
   {
    "duration": 3,
    "start_time": "2024-11-29T12:57:55.771Z"
   },
   {
    "duration": 1453,
    "start_time": "2024-11-29T12:58:01.457Z"
   },
   {
    "duration": 3,
    "start_time": "2024-11-29T12:58:02.912Z"
   },
   {
    "duration": 439,
    "start_time": "2024-11-29T12:58:02.916Z"
   },
   {
    "duration": 2,
    "start_time": "2024-11-29T12:58:03.357Z"
   },
   {
    "duration": 55,
    "start_time": "2024-11-29T12:58:03.361Z"
   },
   {
    "duration": 23,
    "start_time": "2024-11-29T12:58:03.417Z"
   },
   {
    "duration": 23,
    "start_time": "2024-11-29T12:58:03.442Z"
   },
   {
    "duration": 76,
    "start_time": "2024-11-29T12:58:03.467Z"
   },
   {
    "duration": 55,
    "start_time": "2024-11-29T12:58:03.544Z"
   },
   {
    "duration": 51,
    "start_time": "2024-11-29T12:58:03.602Z"
   },
   {
    "duration": 12,
    "start_time": "2024-11-29T12:58:03.655Z"
   },
   {
    "duration": 36,
    "start_time": "2024-11-29T12:58:03.668Z"
   },
   {
    "duration": 13,
    "start_time": "2024-11-29T12:58:03.706Z"
   },
   {
    "duration": 38,
    "start_time": "2024-11-29T12:58:03.720Z"
   },
   {
    "duration": 49,
    "start_time": "2024-11-29T12:58:03.760Z"
   },
   {
    "duration": 36,
    "start_time": "2024-11-29T12:58:03.811Z"
   },
   {
    "duration": 362,
    "start_time": "2024-11-29T12:58:03.849Z"
   },
   {
    "duration": 5,
    "start_time": "2024-11-29T12:58:04.212Z"
   },
   {
    "duration": 63,
    "start_time": "2024-11-29T12:58:04.218Z"
   },
   {
    "duration": 200,
    "start_time": "2024-11-29T12:58:04.299Z"
   },
   {
    "duration": 115,
    "start_time": "2024-11-29T12:58:04.505Z"
   },
   {
    "duration": 3,
    "start_time": "2024-11-29T12:58:04.622Z"
   },
   {
    "duration": 78,
    "start_time": "2024-11-29T12:58:04.627Z"
   },
   {
    "duration": 100,
    "start_time": "2024-11-29T12:58:04.708Z"
   },
   {
    "duration": 4,
    "start_time": "2024-11-29T12:58:04.810Z"
   },
   {
    "duration": 31,
    "start_time": "2024-11-29T12:58:04.816Z"
   },
   {
    "duration": 21,
    "start_time": "2024-11-29T12:58:04.848Z"
   },
   {
    "duration": 42,
    "start_time": "2024-11-29T12:58:04.873Z"
   },
   {
    "duration": 3,
    "start_time": "2024-11-29T12:58:04.917Z"
   },
   {
    "duration": 5,
    "start_time": "2024-11-29T12:58:04.922Z"
   },
   {
    "duration": 12125,
    "start_time": "2024-11-29T12:58:04.928Z"
   },
   {
    "duration": 114,
    "start_time": "2024-11-29T12:58:17.055Z"
   },
   {
    "duration": 5,
    "start_time": "2024-11-29T12:59:58.537Z"
   },
   {
    "duration": 5,
    "start_time": "2024-11-29T13:00:54.424Z"
   },
   {
    "duration": 4,
    "start_time": "2024-11-29T13:01:01.621Z"
   },
   {
    "duration": 6,
    "start_time": "2024-11-29T13:01:39.833Z"
   },
   {
    "duration": 3,
    "start_time": "2024-11-29T13:01:41.704Z"
   },
   {
    "duration": 5,
    "start_time": "2024-11-29T13:01:45.594Z"
   },
   {
    "duration": 3,
    "start_time": "2024-11-29T13:01:47.210Z"
   },
   {
    "duration": 72,
    "start_time": "2024-11-29T13:03:02.249Z"
   },
   {
    "duration": 3,
    "start_time": "2024-11-29T13:03:07.897Z"
   },
   {
    "duration": 5,
    "start_time": "2024-11-29T13:03:51.768Z"
   },
   {
    "duration": 3,
    "start_time": "2024-11-29T13:03:52.985Z"
   },
   {
    "duration": 12206,
    "start_time": "2024-11-29T13:04:26.520Z"
   },
   {
    "duration": 5,
    "start_time": "2024-11-29T13:05:38.951Z"
   },
   {
    "duration": 3,
    "start_time": "2024-11-29T13:05:42.936Z"
   },
   {
    "duration": 12,
    "start_time": "2024-11-29T13:06:09.528Z"
   },
   {
    "duration": 16,
    "start_time": "2024-11-29T13:07:14.471Z"
   },
   {
    "duration": 5,
    "start_time": "2024-11-29T13:07:34.583Z"
   },
   {
    "duration": 3,
    "start_time": "2024-11-29T13:07:36.407Z"
   },
   {
    "duration": 4,
    "start_time": "2024-11-29T13:14:45.446Z"
   },
   {
    "duration": 5,
    "start_time": "2024-11-29T13:14:46.422Z"
   },
   {
    "duration": 3,
    "start_time": "2024-11-29T13:14:47.606Z"
   },
   {
    "duration": 9,
    "start_time": "2024-11-29T13:15:21.430Z"
   },
   {
    "duration": 3,
    "start_time": "2024-11-29T13:15:34.182Z"
   },
   {
    "duration": 5,
    "start_time": "2024-11-29T13:15:39.846Z"
   },
   {
    "duration": 3,
    "start_time": "2024-11-29T13:15:41.798Z"
   },
   {
    "duration": 4,
    "start_time": "2024-11-29T13:17:32.438Z"
   },
   {
    "duration": 14,
    "start_time": "2024-11-29T13:19:29.189Z"
   },
   {
    "duration": 5,
    "start_time": "2024-11-29T13:19:33.332Z"
   },
   {
    "duration": 10,
    "start_time": "2024-11-29T13:19:34.452Z"
   },
   {
    "duration": 7,
    "start_time": "2024-11-29T13:19:48.292Z"
   },
   {
    "duration": 5,
    "start_time": "2024-11-29T13:19:49.589Z"
   },
   {
    "duration": 13,
    "start_time": "2024-11-29T13:20:50.741Z"
   },
   {
    "duration": 4,
    "start_time": "2024-11-29T13:20:54.964Z"
   },
   {
    "duration": 5,
    "start_time": "2024-11-29T13:20:55.955Z"
   },
   {
    "duration": 1626,
    "start_time": "2024-11-29T16:29:40.074Z"
   },
   {
    "duration": 3,
    "start_time": "2024-11-29T16:29:41.702Z"
   },
   {
    "duration": 1725,
    "start_time": "2024-11-29T16:29:41.706Z"
   },
   {
    "duration": 3,
    "start_time": "2024-11-29T16:29:43.433Z"
   },
   {
    "duration": 34,
    "start_time": "2024-11-29T16:29:43.438Z"
   },
   {
    "duration": 22,
    "start_time": "2024-11-29T16:29:43.473Z"
   },
   {
    "duration": 21,
    "start_time": "2024-11-29T16:29:43.497Z"
   },
   {
    "duration": 50,
    "start_time": "2024-11-29T16:29:43.519Z"
   },
   {
    "duration": 64,
    "start_time": "2024-11-29T16:29:43.571Z"
   },
   {
    "duration": 64,
    "start_time": "2024-11-29T16:29:43.637Z"
   },
   {
    "duration": 12,
    "start_time": "2024-11-29T16:29:43.704Z"
   },
   {
    "duration": 24,
    "start_time": "2024-11-29T16:29:43.717Z"
   },
   {
    "duration": 12,
    "start_time": "2024-11-29T16:29:43.743Z"
   },
   {
    "duration": 53,
    "start_time": "2024-11-29T16:29:43.758Z"
   },
   {
    "duration": 37,
    "start_time": "2024-11-29T16:29:43.813Z"
   },
   {
    "duration": 61,
    "start_time": "2024-11-29T16:29:43.852Z"
   },
   {
    "duration": 361,
    "start_time": "2024-11-29T16:29:43.915Z"
   },
   {
    "duration": 5,
    "start_time": "2024-11-29T16:29:44.277Z"
   },
   {
    "duration": 49,
    "start_time": "2024-11-29T16:29:44.283Z"
   },
   {
    "duration": 177,
    "start_time": "2024-11-29T16:29:44.335Z"
   },
   {
    "duration": 196,
    "start_time": "2024-11-29T16:29:44.514Z"
   },
   {
    "duration": 3,
    "start_time": "2024-11-29T16:29:44.713Z"
   },
   {
    "duration": 104,
    "start_time": "2024-11-29T16:29:44.799Z"
   },
   {
    "duration": 4,
    "start_time": "2024-11-29T16:29:44.905Z"
   },
   {
    "duration": 5,
    "start_time": "2024-11-29T16:29:44.910Z"
   },
   {
    "duration": 41,
    "start_time": "2024-11-29T16:29:44.916Z"
   },
   {
    "duration": 21,
    "start_time": "2024-11-29T16:29:44.959Z"
   },
   {
    "duration": 32,
    "start_time": "2024-11-29T16:29:44.981Z"
   },
   {
    "duration": 3,
    "start_time": "2024-11-29T16:29:45.015Z"
   },
   {
    "duration": 42,
    "start_time": "2024-11-29T16:29:45.020Z"
   },
   {
    "duration": 12483,
    "start_time": "2024-11-29T16:29:45.064Z"
   },
   {
    "duration": 3,
    "start_time": "2024-11-29T16:29:57.549Z"
   },
   {
    "duration": 5,
    "start_time": "2024-11-29T16:29:57.554Z"
   },
   {
    "duration": 10,
    "start_time": "2024-11-29T16:29:57.561Z"
   },
   {
    "duration": 5,
    "start_time": "2024-11-29T16:29:57.573Z"
   },
   {
    "duration": 4,
    "start_time": "2024-11-29T16:29:57.597Z"
   },
   {
    "duration": 5,
    "start_time": "2024-11-29T16:35:36.554Z"
   },
   {
    "duration": 8,
    "start_time": "2024-11-29T16:36:01.885Z"
   },
   {
    "duration": 6,
    "start_time": "2024-11-29T16:36:30.682Z"
   },
   {
    "duration": 17,
    "start_time": "2024-11-29T16:38:15.129Z"
   },
   {
    "duration": 4,
    "start_time": "2024-11-29T16:47:30.198Z"
   },
   {
    "duration": 1432,
    "start_time": "2024-11-29T16:47:42.146Z"
   },
   {
    "duration": 3,
    "start_time": "2024-11-29T16:47:43.580Z"
   },
   {
    "duration": 463,
    "start_time": "2024-11-29T16:47:43.584Z"
   },
   {
    "duration": 3,
    "start_time": "2024-11-29T16:47:44.049Z"
   },
   {
    "duration": 35,
    "start_time": "2024-11-29T16:47:44.053Z"
   },
   {
    "duration": 24,
    "start_time": "2024-11-29T16:47:44.089Z"
   },
   {
    "duration": 22,
    "start_time": "2024-11-29T16:47:44.115Z"
   },
   {
    "duration": 73,
    "start_time": "2024-11-29T16:47:44.139Z"
   },
   {
    "duration": 48,
    "start_time": "2024-11-29T16:47:44.214Z"
   },
   {
    "duration": 67,
    "start_time": "2024-11-29T16:47:44.265Z"
   },
   {
    "duration": 11,
    "start_time": "2024-11-29T16:47:44.333Z"
   },
   {
    "duration": 15,
    "start_time": "2024-11-29T16:47:44.346Z"
   },
   {
    "duration": 11,
    "start_time": "2024-11-29T16:47:44.362Z"
   },
   {
    "duration": 63,
    "start_time": "2024-11-29T16:47:44.374Z"
   },
   {
    "duration": 39,
    "start_time": "2024-11-29T16:47:44.438Z"
   },
   {
    "duration": 53,
    "start_time": "2024-11-29T16:47:44.478Z"
   },
   {
    "duration": 377,
    "start_time": "2024-11-29T16:47:44.533Z"
   },
   {
    "duration": 4,
    "start_time": "2024-11-29T16:47:44.912Z"
   },
   {
    "duration": 87,
    "start_time": "2024-11-29T16:47:44.918Z"
   },
   {
    "duration": 126,
    "start_time": "2024-11-29T16:47:45.008Z"
   },
   {
    "duration": 190,
    "start_time": "2024-11-29T16:47:45.136Z"
   },
   {
    "duration": 4,
    "start_time": "2024-11-29T16:47:45.329Z"
   },
   {
    "duration": 133,
    "start_time": "2024-11-29T16:47:45.400Z"
   },
   {
    "duration": 18,
    "start_time": "2024-11-29T16:47:45.535Z"
   },
   {
    "duration": 29,
    "start_time": "2024-11-29T16:47:45.555Z"
   },
   {
    "duration": 21,
    "start_time": "2024-11-29T16:47:45.587Z"
   },
   {
    "duration": 150,
    "start_time": "2024-11-29T16:47:45.611Z"
   },
   {
    "duration": 0,
    "start_time": "2024-11-29T16:47:45.764Z"
   },
   {
    "duration": 0,
    "start_time": "2024-11-29T16:47:45.765Z"
   },
   {
    "duration": 0,
    "start_time": "2024-11-29T16:47:45.766Z"
   },
   {
    "duration": 0,
    "start_time": "2024-11-29T16:47:45.768Z"
   },
   {
    "duration": 0,
    "start_time": "2024-11-29T16:47:45.769Z"
   },
   {
    "duration": 0,
    "start_time": "2024-11-29T16:47:45.771Z"
   },
   {
    "duration": 0,
    "start_time": "2024-11-29T16:47:45.772Z"
   },
   {
    "duration": 0,
    "start_time": "2024-11-29T16:47:45.773Z"
   },
   {
    "duration": 0,
    "start_time": "2024-11-29T16:47:45.774Z"
   },
   {
    "duration": 0,
    "start_time": "2024-11-29T16:47:45.775Z"
   },
   {
    "duration": 0,
    "start_time": "2024-11-29T16:47:45.775Z"
   },
   {
    "duration": 0,
    "start_time": "2024-11-29T16:47:45.776Z"
   },
   {
    "duration": 3,
    "start_time": "2024-11-29T16:49:29.130Z"
   },
   {
    "duration": 3,
    "start_time": "2024-11-29T16:49:41.183Z"
   },
   {
    "duration": 4,
    "start_time": "2024-11-29T16:49:44.007Z"
   },
   {
    "duration": 10,
    "start_time": "2024-11-29T16:49:44.013Z"
   },
   {
    "duration": 432,
    "start_time": "2024-11-29T16:49:44.024Z"
   },
   {
    "duration": 3,
    "start_time": "2024-11-29T16:49:44.458Z"
   },
   {
    "duration": 34,
    "start_time": "2024-11-29T16:49:44.462Z"
   },
   {
    "duration": 23,
    "start_time": "2024-11-29T16:49:44.498Z"
   },
   {
    "duration": 22,
    "start_time": "2024-11-29T16:49:44.523Z"
   },
   {
    "duration": 94,
    "start_time": "2024-11-29T16:49:44.548Z"
   },
   {
    "duration": 55,
    "start_time": "2024-11-29T16:49:44.643Z"
   },
   {
    "duration": 53,
    "start_time": "2024-11-29T16:49:44.701Z"
   },
   {
    "duration": 11,
    "start_time": "2024-11-29T16:49:44.756Z"
   },
   {
    "duration": 34,
    "start_time": "2024-11-29T16:49:44.768Z"
   },
   {
    "duration": 12,
    "start_time": "2024-11-29T16:49:44.804Z"
   },
   {
    "duration": 42,
    "start_time": "2024-11-29T16:49:44.817Z"
   },
   {
    "duration": 66,
    "start_time": "2024-11-29T16:49:44.861Z"
   },
   {
    "duration": 36,
    "start_time": "2024-11-29T16:49:44.929Z"
   },
   {
    "duration": 341,
    "start_time": "2024-11-29T16:49:44.967Z"
   },
   {
    "duration": 5,
    "start_time": "2024-11-29T16:49:45.311Z"
   },
   {
    "duration": 79,
    "start_time": "2024-11-29T16:49:45.318Z"
   },
   {
    "duration": 210,
    "start_time": "2024-11-29T16:49:45.400Z"
   },
   {
    "duration": 285,
    "start_time": "2024-11-29T16:49:45.613Z"
   },
   {
    "duration": 4,
    "start_time": "2024-11-29T16:49:45.900Z"
   },
   {
    "duration": 100,
    "start_time": "2024-11-29T16:49:45.906Z"
   },
   {
    "duration": 7,
    "start_time": "2024-11-29T16:49:46.008Z"
   },
   {
    "duration": 20,
    "start_time": "2024-11-29T16:49:46.017Z"
   },
   {
    "duration": 14,
    "start_time": "2024-11-29T16:49:46.039Z"
   },
   {
    "duration": 6,
    "start_time": "2024-11-29T16:49:46.055Z"
   },
   {
    "duration": 3,
    "start_time": "2024-11-29T16:49:46.064Z"
   },
   {
    "duration": 11,
    "start_time": "2024-11-29T16:49:46.069Z"
   },
   {
    "duration": 25,
    "start_time": "2024-11-29T16:49:46.082Z"
   },
   {
    "duration": 0,
    "start_time": "2024-11-29T16:49:46.109Z"
   },
   {
    "duration": 0,
    "start_time": "2024-11-29T16:49:46.110Z"
   },
   {
    "duration": 0,
    "start_time": "2024-11-29T16:49:46.111Z"
   },
   {
    "duration": 0,
    "start_time": "2024-11-29T16:49:46.113Z"
   },
   {
    "duration": 0,
    "start_time": "2024-11-29T16:49:46.113Z"
   },
   {
    "duration": 0,
    "start_time": "2024-11-29T16:49:46.114Z"
   },
   {
    "duration": 0,
    "start_time": "2024-11-29T16:49:46.116Z"
   },
   {
    "duration": 0,
    "start_time": "2024-11-29T16:49:46.117Z"
   },
   {
    "duration": 0,
    "start_time": "2024-11-29T16:49:46.118Z"
   },
   {
    "duration": 6,
    "start_time": "2024-11-29T16:50:06.918Z"
   },
   {
    "duration": 18,
    "start_time": "2024-11-29T16:50:06.927Z"
   },
   {
    "duration": 486,
    "start_time": "2024-11-29T16:50:06.946Z"
   },
   {
    "duration": 3,
    "start_time": "2024-11-29T16:50:07.434Z"
   },
   {
    "duration": 41,
    "start_time": "2024-11-29T16:50:07.440Z"
   },
   {
    "duration": 61,
    "start_time": "2024-11-29T16:50:07.483Z"
   },
   {
    "duration": 28,
    "start_time": "2024-11-29T16:50:07.546Z"
   },
   {
    "duration": 83,
    "start_time": "2024-11-29T16:50:07.577Z"
   },
   {
    "duration": 64,
    "start_time": "2024-11-29T16:50:07.662Z"
   },
   {
    "duration": 53,
    "start_time": "2024-11-29T16:50:07.728Z"
   },
   {
    "duration": 31,
    "start_time": "2024-11-29T16:50:07.783Z"
   },
   {
    "duration": 22,
    "start_time": "2024-11-29T16:50:07.817Z"
   },
   {
    "duration": 12,
    "start_time": "2024-11-29T16:50:07.842Z"
   },
   {
    "duration": 63,
    "start_time": "2024-11-29T16:50:07.857Z"
   },
   {
    "duration": 41,
    "start_time": "2024-11-29T16:50:07.923Z"
   },
   {
    "duration": 67,
    "start_time": "2024-11-29T16:50:07.966Z"
   },
   {
    "duration": 464,
    "start_time": "2024-11-29T16:50:08.035Z"
   },
   {
    "duration": 5,
    "start_time": "2024-11-29T16:50:08.501Z"
   },
   {
    "duration": 45,
    "start_time": "2024-11-29T16:50:08.508Z"
   },
   {
    "duration": 120,
    "start_time": "2024-11-29T16:50:08.599Z"
   },
   {
    "duration": 184,
    "start_time": "2024-11-29T16:50:08.722Z"
   },
   {
    "duration": 5,
    "start_time": "2024-11-29T16:50:08.997Z"
   },
   {
    "duration": 10,
    "start_time": "2024-11-29T16:50:09.005Z"
   },
   {
    "duration": 85,
    "start_time": "2024-11-29T16:50:09.018Z"
   },
   {
    "duration": 9,
    "start_time": "2024-11-29T16:50:09.105Z"
   },
   {
    "duration": 15,
    "start_time": "2024-11-29T16:50:09.116Z"
   },
   {
    "duration": 12,
    "start_time": "2024-11-29T16:50:09.134Z"
   },
   {
    "duration": 6,
    "start_time": "2024-11-29T16:50:09.149Z"
   },
   {
    "duration": 18,
    "start_time": "2024-11-29T16:50:09.157Z"
   },
   {
    "duration": 7,
    "start_time": "2024-11-29T16:50:09.176Z"
   },
   {
    "duration": 4,
    "start_time": "2024-11-29T16:50:09.184Z"
   },
   {
    "duration": 38,
    "start_time": "2024-11-29T16:50:09.198Z"
   },
   {
    "duration": 0,
    "start_time": "2024-11-29T16:50:09.238Z"
   },
   {
    "duration": 0,
    "start_time": "2024-11-29T16:50:09.239Z"
   },
   {
    "duration": 0,
    "start_time": "2024-11-29T16:50:09.241Z"
   },
   {
    "duration": 0,
    "start_time": "2024-11-29T16:50:09.243Z"
   },
   {
    "duration": 0,
    "start_time": "2024-11-29T16:50:09.245Z"
   },
   {
    "duration": 0,
    "start_time": "2024-11-29T16:50:09.247Z"
   },
   {
    "duration": 6,
    "start_time": "2024-11-29T16:55:11.243Z"
   },
   {
    "duration": 11,
    "start_time": "2024-11-29T16:55:15.971Z"
   },
   {
    "duration": 15,
    "start_time": "2024-11-29T16:56:00.674Z"
   },
   {
    "duration": 10,
    "start_time": "2024-11-29T17:19:18.814Z"
   },
   {
    "duration": 25,
    "start_time": "2024-11-29T17:19:21.021Z"
   },
   {
    "duration": 6,
    "start_time": "2024-11-29T17:19:46.380Z"
   },
   {
    "duration": 4286,
    "start_time": "2024-11-29T17:19:48.491Z"
   },
   {
    "duration": 6,
    "start_time": "2024-11-29T17:22:15.929Z"
   },
   {
    "duration": 4253,
    "start_time": "2024-11-29T17:22:18.041Z"
   },
   {
    "duration": 6,
    "start_time": "2024-11-29T17:22:45.945Z"
   },
   {
    "duration": 4214,
    "start_time": "2024-11-29T17:22:47.992Z"
   },
   {
    "duration": 5,
    "start_time": "2024-11-29T17:24:22.361Z"
   },
   {
    "duration": 4292,
    "start_time": "2024-11-29T17:24:24.614Z"
   },
   {
    "duration": 1498,
    "start_time": "2024-11-29T17:27:26.500Z"
   },
   {
    "duration": 3,
    "start_time": "2024-11-29T17:27:28.000Z"
   },
   {
    "duration": 470,
    "start_time": "2024-11-29T17:27:28.005Z"
   },
   {
    "duration": 4,
    "start_time": "2024-11-29T17:27:28.476Z"
   },
   {
    "duration": 43,
    "start_time": "2024-11-29T17:27:28.482Z"
   },
   {
    "duration": 23,
    "start_time": "2024-11-29T17:27:28.527Z"
   },
   {
    "duration": 21,
    "start_time": "2024-11-29T17:27:28.552Z"
   },
   {
    "duration": 48,
    "start_time": "2024-11-29T17:27:28.597Z"
   },
   {
    "duration": 58,
    "start_time": "2024-11-29T17:27:28.647Z"
   },
   {
    "duration": 45,
    "start_time": "2024-11-29T17:27:28.706Z"
   },
   {
    "duration": 11,
    "start_time": "2024-11-29T17:27:28.753Z"
   },
   {
    "duration": 34,
    "start_time": "2024-11-29T17:27:28.765Z"
   },
   {
    "duration": 10,
    "start_time": "2024-11-29T17:27:28.800Z"
   },
   {
    "duration": 40,
    "start_time": "2024-11-29T17:27:28.813Z"
   },
   {
    "duration": 48,
    "start_time": "2024-11-29T17:27:28.855Z"
   },
   {
    "duration": 37,
    "start_time": "2024-11-29T17:27:28.905Z"
   },
   {
    "duration": 380,
    "start_time": "2024-11-29T17:27:28.943Z"
   },
   {
    "duration": 5,
    "start_time": "2024-11-29T17:27:29.324Z"
   },
   {
    "duration": 71,
    "start_time": "2024-11-29T17:27:29.330Z"
   },
   {
    "duration": 118,
    "start_time": "2024-11-29T17:27:29.403Z"
   },
   {
    "duration": 191,
    "start_time": "2024-11-29T17:27:29.523Z"
   },
   {
    "duration": 82,
    "start_time": "2024-11-29T17:27:29.716Z"
   },
   {
    "duration": 5,
    "start_time": "2024-11-29T17:27:29.801Z"
   },
   {
    "duration": 6,
    "start_time": "2024-11-29T17:27:29.898Z"
   },
   {
    "duration": 5,
    "start_time": "2024-11-29T17:27:29.905Z"
   },
   {
    "duration": 4,
    "start_time": "2024-11-29T17:27:29.911Z"
   },
   {
    "duration": 4,
    "start_time": "2024-11-29T17:27:29.916Z"
   },
   {
    "duration": 3,
    "start_time": "2024-11-29T17:27:29.921Z"
   },
   {
    "duration": 4,
    "start_time": "2024-11-29T17:27:29.925Z"
   },
   {
    "duration": 5,
    "start_time": "2024-11-29T17:27:29.930Z"
   },
   {
    "duration": 4,
    "start_time": "2024-11-29T17:27:29.936Z"
   },
   {
    "duration": 5,
    "start_time": "2024-11-29T17:27:29.942Z"
   },
   {
    "duration": 4119,
    "start_time": "2024-11-29T17:27:29.949Z"
   },
   {
    "duration": 115,
    "start_time": "2024-11-29T17:27:34.069Z"
   },
   {
    "duration": 0,
    "start_time": "2024-11-29T17:27:34.185Z"
   },
   {
    "duration": 0,
    "start_time": "2024-11-29T17:27:34.186Z"
   },
   {
    "duration": 0,
    "start_time": "2024-11-29T17:27:34.188Z"
   },
   {
    "duration": 0,
    "start_time": "2024-11-29T17:27:34.189Z"
   },
   {
    "duration": 1,
    "start_time": "2024-11-29T17:27:34.198Z"
   },
   {
    "duration": 4053,
    "start_time": "2024-11-29T17:29:24.001Z"
   },
   {
    "duration": 4054,
    "start_time": "2024-11-29T17:29:48.864Z"
   },
   {
    "duration": 4083,
    "start_time": "2024-11-29T17:30:17.903Z"
   },
   {
    "duration": 1398,
    "start_time": "2024-11-29T17:30:33.361Z"
   },
   {
    "duration": 1477,
    "start_time": "2024-11-29T17:30:45.824Z"
   },
   {
    "duration": 2,
    "start_time": "2024-11-29T17:30:47.303Z"
   },
   {
    "duration": 438,
    "start_time": "2024-11-29T17:30:47.306Z"
   },
   {
    "duration": 3,
    "start_time": "2024-11-29T17:30:47.746Z"
   },
   {
    "duration": 27,
    "start_time": "2024-11-29T17:30:47.751Z"
   },
   {
    "duration": 39,
    "start_time": "2024-11-29T17:30:47.779Z"
   },
   {
    "duration": 21,
    "start_time": "2024-11-29T17:30:47.819Z"
   },
   {
    "duration": 68,
    "start_time": "2024-11-29T17:30:47.842Z"
   },
   {
    "duration": 45,
    "start_time": "2024-11-29T17:30:47.912Z"
   },
   {
    "duration": 59,
    "start_time": "2024-11-29T17:30:47.958Z"
   },
   {
    "duration": 10,
    "start_time": "2024-11-29T17:30:48.019Z"
   },
   {
    "duration": 11,
    "start_time": "2024-11-29T17:30:48.031Z"
   },
   {
    "duration": 10,
    "start_time": "2024-11-29T17:30:48.043Z"
   },
   {
    "duration": 66,
    "start_time": "2024-11-29T17:30:48.056Z"
   },
   {
    "duration": 35,
    "start_time": "2024-11-29T17:30:48.124Z"
   },
   {
    "duration": 51,
    "start_time": "2024-11-29T17:30:48.160Z"
   },
   {
    "duration": 374,
    "start_time": "2024-11-29T17:30:48.213Z"
   },
   {
    "duration": 10,
    "start_time": "2024-11-29T17:30:48.588Z"
   },
   {
    "duration": 45,
    "start_time": "2024-11-29T17:30:48.599Z"
   },
   {
    "duration": 170,
    "start_time": "2024-11-29T17:30:48.645Z"
   },
   {
    "duration": 117,
    "start_time": "2024-11-29T17:30:48.897Z"
   },
   {
    "duration": 4,
    "start_time": "2024-11-29T17:30:49.016Z"
   },
   {
    "duration": 98,
    "start_time": "2024-11-29T17:30:49.100Z"
   },
   {
    "duration": 14,
    "start_time": "2024-11-29T17:30:49.200Z"
   },
   {
    "duration": 6,
    "start_time": "2024-11-29T17:30:49.215Z"
   },
   {
    "duration": 13,
    "start_time": "2024-11-29T17:30:49.223Z"
   },
   {
    "duration": 12,
    "start_time": "2024-11-29T17:30:49.238Z"
   },
   {
    "duration": 15,
    "start_time": "2024-11-29T17:30:49.252Z"
   },
   {
    "duration": 18,
    "start_time": "2024-11-29T17:30:49.269Z"
   },
   {
    "duration": 21,
    "start_time": "2024-11-29T17:30:49.289Z"
   },
   {
    "duration": 11,
    "start_time": "2024-11-29T17:30:49.311Z"
   },
   {
    "duration": 6,
    "start_time": "2024-11-29T17:30:49.323Z"
   },
   {
    "duration": 1366,
    "start_time": "2024-11-29T17:30:49.331Z"
   },
   {
    "duration": 2640,
    "start_time": "2024-11-29T17:30:50.699Z"
   },
   {
    "duration": 118,
    "start_time": "2024-11-29T17:30:53.340Z"
   },
   {
    "duration": 1397,
    "start_time": "2024-11-29T17:31:58.480Z"
   },
   {
    "duration": 1374,
    "start_time": "2024-11-29T17:32:09.793Z"
   },
   {
    "duration": 1451,
    "start_time": "2024-11-29T17:33:42.560Z"
   },
   {
    "duration": 2684,
    "start_time": "2024-11-29T17:34:10.542Z"
   },
   {
    "duration": 2715,
    "start_time": "2024-11-29T17:34:25.437Z"
   },
   {
    "duration": 2795,
    "start_time": "2024-11-29T17:34:37.199Z"
   },
   {
    "duration": 4176,
    "start_time": "2024-11-29T17:34:57.068Z"
   },
   {
    "duration": 6,
    "start_time": "2024-11-29T17:35:19.851Z"
   },
   {
    "duration": 6,
    "start_time": "2024-11-29T17:35:38.892Z"
   },
   {
    "duration": 4083,
    "start_time": "2024-11-29T17:35:40.922Z"
   },
   {
    "duration": 7,
    "start_time": "2024-11-29T17:40:59.923Z"
   },
   {
    "duration": 4395,
    "start_time": "2024-11-29T17:41:01.954Z"
   },
   {
    "duration": 5,
    "start_time": "2024-11-29T17:41:21.970Z"
   },
   {
    "duration": 1516,
    "start_time": "2024-11-29T17:41:58.387Z"
   },
   {
    "duration": 3,
    "start_time": "2024-11-29T17:41:59.905Z"
   },
   {
    "duration": 481,
    "start_time": "2024-11-29T17:41:59.909Z"
   },
   {
    "duration": 8,
    "start_time": "2024-11-29T17:42:00.391Z"
   },
   {
    "duration": 58,
    "start_time": "2024-11-29T17:42:00.404Z"
   },
   {
    "duration": 43,
    "start_time": "2024-11-29T17:42:00.464Z"
   },
   {
    "duration": 39,
    "start_time": "2024-11-29T17:42:00.509Z"
   },
   {
    "duration": 72,
    "start_time": "2024-11-29T17:42:00.550Z"
   },
   {
    "duration": 46,
    "start_time": "2024-11-29T17:42:00.624Z"
   },
   {
    "duration": 66,
    "start_time": "2024-11-29T17:42:00.671Z"
   },
   {
    "duration": 9,
    "start_time": "2024-11-29T17:42:00.739Z"
   },
   {
    "duration": 10,
    "start_time": "2024-11-29T17:42:00.750Z"
   },
   {
    "duration": 45,
    "start_time": "2024-11-29T17:42:00.761Z"
   },
   {
    "duration": 55,
    "start_time": "2024-11-29T17:42:00.809Z"
   },
   {
    "duration": 35,
    "start_time": "2024-11-29T17:42:00.865Z"
   },
   {
    "duration": 34,
    "start_time": "2024-11-29T17:42:00.902Z"
   },
   {
    "duration": 363,
    "start_time": "2024-11-29T17:42:00.938Z"
   },
   {
    "duration": 4,
    "start_time": "2024-11-29T17:42:01.303Z"
   },
   {
    "duration": 188,
    "start_time": "2024-11-29T17:42:01.309Z"
   },
   {
    "duration": 108,
    "start_time": "2024-11-29T17:42:01.499Z"
   },
   {
    "duration": 198,
    "start_time": "2024-11-29T17:42:01.609Z"
   },
   {
    "duration": 93,
    "start_time": "2024-11-29T17:42:01.810Z"
   },
   {
    "duration": 31,
    "start_time": "2024-11-29T17:42:01.905Z"
   },
   {
    "duration": 5,
    "start_time": "2024-11-29T17:42:01.938Z"
   },
   {
    "duration": 10,
    "start_time": "2024-11-29T17:42:01.944Z"
   },
   {
    "duration": 15,
    "start_time": "2024-11-29T17:42:01.955Z"
   },
   {
    "duration": 43,
    "start_time": "2024-11-29T17:42:01.972Z"
   },
   {
    "duration": 13,
    "start_time": "2024-11-29T17:42:02.016Z"
   },
   {
    "duration": 4218,
    "start_time": "2024-11-29T17:42:02.030Z"
   },
   {
    "duration": 1553,
    "start_time": "2024-11-29T17:49:57.167Z"
   },
   {
    "duration": 3,
    "start_time": "2024-11-29T17:49:58.722Z"
   },
   {
    "duration": 440,
    "start_time": "2024-11-29T17:49:58.726Z"
   },
   {
    "duration": 3,
    "start_time": "2024-11-29T17:49:59.169Z"
   },
   {
    "duration": 66,
    "start_time": "2024-11-29T17:49:59.174Z"
   },
   {
    "duration": 31,
    "start_time": "2024-11-29T17:49:59.242Z"
   },
   {
    "duration": 32,
    "start_time": "2024-11-29T17:49:59.274Z"
   },
   {
    "duration": 48,
    "start_time": "2024-11-29T17:49:59.308Z"
   },
   {
    "duration": 67,
    "start_time": "2024-11-29T17:49:59.358Z"
   },
   {
    "duration": 51,
    "start_time": "2024-11-29T17:49:59.428Z"
   },
   {
    "duration": 25,
    "start_time": "2024-11-29T17:49:59.480Z"
   },
   {
    "duration": 38,
    "start_time": "2024-11-29T17:49:59.506Z"
   },
   {
    "duration": 10,
    "start_time": "2024-11-29T17:49:59.546Z"
   },
   {
    "duration": 40,
    "start_time": "2024-11-29T17:49:59.557Z"
   },
   {
    "duration": 37,
    "start_time": "2024-11-29T17:49:59.599Z"
   },
   {
    "duration": 36,
    "start_time": "2024-11-29T17:49:59.637Z"
   },
   {
    "duration": 366,
    "start_time": "2024-11-29T17:49:59.675Z"
   },
   {
    "duration": 5,
    "start_time": "2024-11-29T17:50:00.042Z"
   },
   {
    "duration": 68,
    "start_time": "2024-11-29T17:50:00.048Z"
   },
   {
    "duration": 118,
    "start_time": "2024-11-29T17:50:00.199Z"
   },
   {
    "duration": 197,
    "start_time": "2024-11-29T17:50:00.319Z"
   },
   {
    "duration": 80,
    "start_time": "2024-11-29T17:50:00.519Z"
   },
   {
    "duration": 124,
    "start_time": "2024-11-29T17:50:00.601Z"
   },
   {
    "duration": 9,
    "start_time": "2024-11-29T17:50:00.727Z"
   },
   {
    "duration": 11,
    "start_time": "2024-11-29T17:50:00.738Z"
   },
   {
    "duration": 13,
    "start_time": "2024-11-29T17:50:00.751Z"
   },
   {
    "duration": 7,
    "start_time": "2024-11-29T17:50:00.766Z"
   },
   {
    "duration": 42,
    "start_time": "2024-11-29T17:50:00.776Z"
   },
   {
    "duration": 4271,
    "start_time": "2024-11-29T17:50:00.819Z"
   },
   {
    "duration": 1487,
    "start_time": "2024-11-29T17:53:45.014Z"
   },
   {
    "duration": 2,
    "start_time": "2024-11-29T17:53:46.503Z"
   },
   {
    "duration": 442,
    "start_time": "2024-11-29T17:53:46.506Z"
   },
   {
    "duration": 3,
    "start_time": "2024-11-29T17:53:46.949Z"
   },
   {
    "duration": 32,
    "start_time": "2024-11-29T17:53:46.955Z"
   },
   {
    "duration": 31,
    "start_time": "2024-11-29T17:53:46.988Z"
   },
   {
    "duration": 27,
    "start_time": "2024-11-29T17:53:47.021Z"
   },
   {
    "duration": 81,
    "start_time": "2024-11-29T17:53:47.050Z"
   },
   {
    "duration": 46,
    "start_time": "2024-11-29T17:53:47.133Z"
   },
   {
    "duration": 69,
    "start_time": "2024-11-29T17:53:47.180Z"
   },
   {
    "duration": 11,
    "start_time": "2024-11-29T17:53:47.250Z"
   },
   {
    "duration": 24,
    "start_time": "2024-11-29T17:53:47.263Z"
   },
   {
    "duration": 24,
    "start_time": "2024-11-29T17:53:47.298Z"
   },
   {
    "duration": 65,
    "start_time": "2024-11-29T17:53:47.324Z"
   },
   {
    "duration": 37,
    "start_time": "2024-11-29T17:53:47.390Z"
   },
   {
    "duration": 40,
    "start_time": "2024-11-29T17:53:47.428Z"
   },
   {
    "duration": 399,
    "start_time": "2024-11-29T17:53:47.470Z"
   },
   {
    "duration": 4,
    "start_time": "2024-11-29T17:53:47.871Z"
   },
   {
    "duration": 123,
    "start_time": "2024-11-29T17:53:47.877Z"
   },
   {
    "duration": 193,
    "start_time": "2024-11-29T17:53:48.005Z"
   },
   {
    "duration": 198,
    "start_time": "2024-11-29T17:53:48.200Z"
   },
   {
    "duration": 4,
    "start_time": "2024-11-29T17:53:48.400Z"
   },
   {
    "duration": 11,
    "start_time": "2024-11-29T17:53:48.406Z"
   },
   {
    "duration": 4,
    "start_time": "2024-11-29T17:53:48.419Z"
   },
   {
    "duration": 4,
    "start_time": "2024-11-29T17:53:48.499Z"
   },
   {
    "duration": 4,
    "start_time": "2024-11-29T17:53:48.505Z"
   },
   {
    "duration": 8,
    "start_time": "2024-11-29T17:53:48.511Z"
   },
   {
    "duration": 6,
    "start_time": "2024-11-29T17:53:48.521Z"
   },
   {
    "duration": 4226,
    "start_time": "2024-11-29T17:53:48.528Z"
   }
  ],
  "kernelspec": {
   "display_name": "Python 3 (ipykernel)",
   "language": "python",
   "name": "python3"
  },
  "language_info": {
   "codemirror_mode": {
    "name": "ipython",
    "version": 3
   },
   "file_extension": ".py",
   "mimetype": "text/x-python",
   "name": "python",
   "nbconvert_exporter": "python",
   "pygments_lexer": "ipython3",
   "version": "3.12.7"
  },
  "toc": {
   "base_numbering": 1,
   "nav_menu": {},
   "number_sections": true,
   "sideBar": true,
   "skip_h1_title": true,
   "title_cell": "Table of Contents",
   "title_sidebar": "Contents",
   "toc_cell": false,
   "toc_position": {},
   "toc_section_display": true,
   "toc_window_display": true
  }
 },
 "nbformat": 4,
 "nbformat_minor": 4
}
