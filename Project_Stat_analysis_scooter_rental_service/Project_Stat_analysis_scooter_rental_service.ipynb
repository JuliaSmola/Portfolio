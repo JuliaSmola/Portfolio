{
 "cells": [
  {
   "cell_type": "markdown",
   "id": "0c903935",
   "metadata": {},
   "source": [
    "# **ПРОЕКТ: СТАТИСТИЧЕСКИЙ АНАЛИЗ ДАННЫХ**\n",
    "\n",
    "\n",
    "\n",
    "## **ОПИСАНИЕ ДАННЫХ**\n",
    "\n",
    "Для анализа данных и проверки ряда гипотез, с целью роста бизнеса - популярного сервиса аренды самокатов GoFast, была получена информация о пользователях, их поездках и подписках:\n",
    "\n",
    "Пользователи (users_go.csv):\n",
    "\n",
    "   - **user_id** - уникальный идентификатор пользователя\n",
    "   - **name** - имя пользователя\n",
    "   - **age** - возраст\n",
    "   - **city** - город\n",
    "   - **subscription_type** - тип подписки (free, ultra)\n",
    "   \n",
    "Поездки (rides_go.csv):\n",
    "\n",
    "   - **user_id** - уникальный идентификатор пользователя\n",
    "   - **distance** - расстояние, которое пользователь проехал в текущей сессии (в метрах)\n",
    "   - **duration** - продолжительность сессии (в минутах) — время с того момента, как пользователь нажал кнопку «Начать поездку» до момента, как он нажал кнопку «Завершить поездку»\n",
    "   - **date** -\tдата совершения поездки\n",
    "   \n",
    "Подписки (subscriptions_go.csv):\n",
    "\n",
    "   - **subscription_type** - тип подписки\n",
    "   - **minute_price** - стоимость одной минуты поездки по данной подписке\n",
    "   - **start_ride_price** - стоимость начала поездки\n",
    "   - **subscription_fee** - стоимость ежемесячного платежа\n",
    "   \n",
    "Тарифы сервиса:\n",
    "\n",
    "*Без подписки:*\n",
    "\n",
    "- абонентская плата отсутствует;\n",
    "- стоимость одной минуты поездки — 8 рублей;\n",
    "- стоимость старта (начала поездки) — 50 рублей;\n",
    "\n",
    "*С подпиской Ultra:*\n",
    "\n",
    "- абонентская плата — 199 рублей в месяц;\n",
    "- стоимость одной минуты поездки — 6 рублей;\n",
    "- стоимость старта — бесплатно."
   ]
  },
  {
   "cell_type": "markdown",
   "id": "bfa3233c",
   "metadata": {},
   "source": [
    "## ИМПОРТ БИБЛИОТЕК"
   ]
  },
  {
   "cell_type": "code",
   "execution_count": 1,
   "id": "a1e7c774",
   "metadata": {},
   "outputs": [],
   "source": [
    "import pandas as pd\n",
    "import matplotlib.pyplot as plt\n",
    "import numpy as np\n",
    "from scipy import stats as st"
   ]
  },
  {
   "cell_type": "markdown",
   "id": "7ae4ed86",
   "metadata": {},
   "source": [
    "## АНАЛИЗ ДАННЫХ"
   ]
  },
  {
   "cell_type": "markdown",
   "id": "c42cbe00",
   "metadata": {},
   "source": [
    "### Шаг 1. Загрузка данных"
   ]
  },
  {
   "cell_type": "markdown",
   "id": "d6b01843",
   "metadata": {},
   "source": [
    "Считаем CSV-файлы с данными с помощью библиотеки pandas и сохраним в датафреймы."
   ]
  },
  {
   "cell_type": "code",
   "execution_count": 2,
   "id": "940a70b6",
   "metadata": {},
   "outputs": [],
   "source": [
    "users = pd.read_csv('/datasets/users_go.csv')\n",
    "rides = pd.read_csv('/datasets/rides_go.csv')\n",
    "subscr = pd.read_csv('/datasets/subscriptions_go.csv')"
   ]
  },
  {
   "cell_type": "markdown",
   "id": "ccbbe983",
   "metadata": {},
   "source": [
    "Выведем первые строки каждого набора данных. Изучим общую информацию о каждом датафрейме."
   ]
  },
  {
   "cell_type": "markdown",
   "id": "9aedf348",
   "metadata": {},
   "source": [
    "**ПОЛЬЗОВАТЕЛИ:**"
   ]
  },
  {
   "cell_type": "code",
   "execution_count": 3,
   "id": "5b8d3c04",
   "metadata": {
    "scrolled": true
   },
   "outputs": [
    {
     "data": {
      "text/html": [
       "<div>\n",
       "<style scoped>\n",
       "    .dataframe tbody tr th:only-of-type {\n",
       "        vertical-align: middle;\n",
       "    }\n",
       "\n",
       "    .dataframe tbody tr th {\n",
       "        vertical-align: top;\n",
       "    }\n",
       "\n",
       "    .dataframe thead th {\n",
       "        text-align: right;\n",
       "    }\n",
       "</style>\n",
       "<table border=\"1\" class=\"dataframe\">\n",
       "  <thead>\n",
       "    <tr style=\"text-align: right;\">\n",
       "      <th></th>\n",
       "      <th>user_id</th>\n",
       "      <th>name</th>\n",
       "      <th>age</th>\n",
       "      <th>city</th>\n",
       "      <th>subscription_type</th>\n",
       "    </tr>\n",
       "  </thead>\n",
       "  <tbody>\n",
       "    <tr>\n",
       "      <th>0</th>\n",
       "      <td>1</td>\n",
       "      <td>Кира</td>\n",
       "      <td>22</td>\n",
       "      <td>Тюмень</td>\n",
       "      <td>ultra</td>\n",
       "    </tr>\n",
       "    <tr>\n",
       "      <th>1</th>\n",
       "      <td>2</td>\n",
       "      <td>Станислав</td>\n",
       "      <td>31</td>\n",
       "      <td>Омск</td>\n",
       "      <td>ultra</td>\n",
       "    </tr>\n",
       "    <tr>\n",
       "      <th>2</th>\n",
       "      <td>3</td>\n",
       "      <td>Алексей</td>\n",
       "      <td>20</td>\n",
       "      <td>Москва</td>\n",
       "      <td>ultra</td>\n",
       "    </tr>\n",
       "    <tr>\n",
       "      <th>3</th>\n",
       "      <td>4</td>\n",
       "      <td>Константин</td>\n",
       "      <td>26</td>\n",
       "      <td>Ростов-на-Дону</td>\n",
       "      <td>ultra</td>\n",
       "    </tr>\n",
       "    <tr>\n",
       "      <th>4</th>\n",
       "      <td>5</td>\n",
       "      <td>Адель</td>\n",
       "      <td>28</td>\n",
       "      <td>Омск</td>\n",
       "      <td>ultra</td>\n",
       "    </tr>\n",
       "  </tbody>\n",
       "</table>\n",
       "</div>"
      ],
      "text/plain": [
       "   user_id        name  age            city subscription_type\n",
       "0        1        Кира   22          Тюмень             ultra\n",
       "1        2   Станислав   31            Омск             ultra\n",
       "2        3     Алексей   20          Москва             ultra\n",
       "3        4  Константин   26  Ростов-на-Дону             ultra\n",
       "4        5       Адель   28            Омск             ultra"
      ]
     },
     "execution_count": 3,
     "metadata": {},
     "output_type": "execute_result"
    }
   ],
   "source": [
    "users.head(5)"
   ]
  },
  {
   "cell_type": "code",
   "execution_count": 4,
   "id": "3feb0c16",
   "metadata": {
    "scrolled": true
   },
   "outputs": [
    {
     "name": "stdout",
     "output_type": "stream",
     "text": [
      "<class 'pandas.core.frame.DataFrame'>\n",
      "RangeIndex: 1565 entries, 0 to 1564\n",
      "Data columns (total 5 columns):\n",
      " #   Column             Non-Null Count  Dtype \n",
      "---  ------             --------------  ----- \n",
      " 0   user_id            1565 non-null   int64 \n",
      " 1   name               1565 non-null   object\n",
      " 2   age                1565 non-null   int64 \n",
      " 3   city               1565 non-null   object\n",
      " 4   subscription_type  1565 non-null   object\n",
      "dtypes: int64(2), object(3)\n",
      "memory usage: 61.3+ KB\n"
     ]
    }
   ],
   "source": [
    "users.info()"
   ]
  },
  {
   "cell_type": "markdown",
   "id": "9b001b5c",
   "metadata": {},
   "source": [
    "**ПОЕЗДКИ:**"
   ]
  },
  {
   "cell_type": "code",
   "execution_count": 5,
   "id": "c3e58374",
   "metadata": {},
   "outputs": [
    {
     "data": {
      "text/html": [
       "<div>\n",
       "<style scoped>\n",
       "    .dataframe tbody tr th:only-of-type {\n",
       "        vertical-align: middle;\n",
       "    }\n",
       "\n",
       "    .dataframe tbody tr th {\n",
       "        vertical-align: top;\n",
       "    }\n",
       "\n",
       "    .dataframe thead th {\n",
       "        text-align: right;\n",
       "    }\n",
       "</style>\n",
       "<table border=\"1\" class=\"dataframe\">\n",
       "  <thead>\n",
       "    <tr style=\"text-align: right;\">\n",
       "      <th></th>\n",
       "      <th>user_id</th>\n",
       "      <th>distance</th>\n",
       "      <th>duration</th>\n",
       "      <th>date</th>\n",
       "    </tr>\n",
       "  </thead>\n",
       "  <tbody>\n",
       "    <tr>\n",
       "      <th>0</th>\n",
       "      <td>1</td>\n",
       "      <td>4409.919140</td>\n",
       "      <td>25.599769</td>\n",
       "      <td>2021-01-01</td>\n",
       "    </tr>\n",
       "    <tr>\n",
       "      <th>1</th>\n",
       "      <td>1</td>\n",
       "      <td>2617.592153</td>\n",
       "      <td>15.816871</td>\n",
       "      <td>2021-01-18</td>\n",
       "    </tr>\n",
       "    <tr>\n",
       "      <th>2</th>\n",
       "      <td>1</td>\n",
       "      <td>754.159807</td>\n",
       "      <td>6.232113</td>\n",
       "      <td>2021-04-20</td>\n",
       "    </tr>\n",
       "    <tr>\n",
       "      <th>3</th>\n",
       "      <td>1</td>\n",
       "      <td>2694.783254</td>\n",
       "      <td>18.511000</td>\n",
       "      <td>2021-08-11</td>\n",
       "    </tr>\n",
       "    <tr>\n",
       "      <th>4</th>\n",
       "      <td>1</td>\n",
       "      <td>4028.687306</td>\n",
       "      <td>26.265803</td>\n",
       "      <td>2021-08-28</td>\n",
       "    </tr>\n",
       "  </tbody>\n",
       "</table>\n",
       "</div>"
      ],
      "text/plain": [
       "   user_id     distance   duration        date\n",
       "0        1  4409.919140  25.599769  2021-01-01\n",
       "1        1  2617.592153  15.816871  2021-01-18\n",
       "2        1   754.159807   6.232113  2021-04-20\n",
       "3        1  2694.783254  18.511000  2021-08-11\n",
       "4        1  4028.687306  26.265803  2021-08-28"
      ]
     },
     "execution_count": 5,
     "metadata": {},
     "output_type": "execute_result"
    }
   ],
   "source": [
    "rides.head(5)"
   ]
  },
  {
   "cell_type": "code",
   "execution_count": 6,
   "id": "05258635",
   "metadata": {},
   "outputs": [
    {
     "name": "stdout",
     "output_type": "stream",
     "text": [
      "<class 'pandas.core.frame.DataFrame'>\n",
      "RangeIndex: 18068 entries, 0 to 18067\n",
      "Data columns (total 4 columns):\n",
      " #   Column    Non-Null Count  Dtype  \n",
      "---  ------    --------------  -----  \n",
      " 0   user_id   18068 non-null  int64  \n",
      " 1   distance  18068 non-null  float64\n",
      " 2   duration  18068 non-null  float64\n",
      " 3   date      18068 non-null  object \n",
      "dtypes: float64(2), int64(1), object(1)\n",
      "memory usage: 564.8+ KB\n"
     ]
    }
   ],
   "source": [
    "rides.info()"
   ]
  },
  {
   "cell_type": "markdown",
   "id": "47f91991",
   "metadata": {},
   "source": [
    "**ПОДПИСКИ:**"
   ]
  },
  {
   "cell_type": "code",
   "execution_count": 7,
   "id": "d8f642e8",
   "metadata": {},
   "outputs": [
    {
     "data": {
      "text/html": [
       "<div>\n",
       "<style scoped>\n",
       "    .dataframe tbody tr th:only-of-type {\n",
       "        vertical-align: middle;\n",
       "    }\n",
       "\n",
       "    .dataframe tbody tr th {\n",
       "        vertical-align: top;\n",
       "    }\n",
       "\n",
       "    .dataframe thead th {\n",
       "        text-align: right;\n",
       "    }\n",
       "</style>\n",
       "<table border=\"1\" class=\"dataframe\">\n",
       "  <thead>\n",
       "    <tr style=\"text-align: right;\">\n",
       "      <th></th>\n",
       "      <th>subscription_type</th>\n",
       "      <th>minute_price</th>\n",
       "      <th>start_ride_price</th>\n",
       "      <th>subscription_fee</th>\n",
       "    </tr>\n",
       "  </thead>\n",
       "  <tbody>\n",
       "    <tr>\n",
       "      <th>0</th>\n",
       "      <td>free</td>\n",
       "      <td>8</td>\n",
       "      <td>50</td>\n",
       "      <td>0</td>\n",
       "    </tr>\n",
       "    <tr>\n",
       "      <th>1</th>\n",
       "      <td>ultra</td>\n",
       "      <td>6</td>\n",
       "      <td>0</td>\n",
       "      <td>199</td>\n",
       "    </tr>\n",
       "  </tbody>\n",
       "</table>\n",
       "</div>"
      ],
      "text/plain": [
       "  subscription_type  minute_price  start_ride_price  subscription_fee\n",
       "0              free             8                50                 0\n",
       "1             ultra             6                 0               199"
      ]
     },
     "execution_count": 7,
     "metadata": {},
     "output_type": "execute_result"
    }
   ],
   "source": [
    "subscr.head()"
   ]
  },
  {
   "cell_type": "code",
   "execution_count": 8,
   "id": "efd712fe",
   "metadata": {},
   "outputs": [
    {
     "name": "stdout",
     "output_type": "stream",
     "text": [
      "<class 'pandas.core.frame.DataFrame'>\n",
      "RangeIndex: 2 entries, 0 to 1\n",
      "Data columns (total 4 columns):\n",
      " #   Column             Non-Null Count  Dtype \n",
      "---  ------             --------------  ----- \n",
      " 0   subscription_type  2 non-null      object\n",
      " 1   minute_price       2 non-null      int64 \n",
      " 2   start_ride_price   2 non-null      int64 \n",
      " 3   subscription_fee   2 non-null      int64 \n",
      "dtypes: int64(3), object(1)\n",
      "memory usage: 192.0+ bytes\n"
     ]
    }
   ],
   "source": [
    "subscr.info()"
   ]
  },
  {
   "cell_type": "markdown",
   "id": "43cb0ed4",
   "metadata": {},
   "source": [
    "**ВЫВОД:** \n",
    "\n",
    "Датафрейм users содержит 1565 записей. Типы данных корректны.\n",
    "\n",
    "Датафрейм rides содержит 18068 записей. Тип данных столбца date - object, необходимо привести к типу даты pandas.\n",
    "\n",
    "Датафрейм subscr содержит 2 записи. Типы данных корректны.\n"
   ]
  },
  {
   "cell_type": "markdown",
   "id": "e95ebca7",
   "metadata": {},
   "source": [
    "### Шаг 2. Предобработка данных"
   ]
  },
  {
   "cell_type": "markdown",
   "id": "5c789ec3",
   "metadata": {},
   "source": [
    "#### Приведем столбец date к типу данных pandas."
   ]
  },
  {
   "cell_type": "code",
   "execution_count": 9,
   "id": "af6d202c",
   "metadata": {},
   "outputs": [],
   "source": [
    "rides['date'] =pd.to_datetime(rides['date'], format = '%Y.%m.%d')"
   ]
  },
  {
   "cell_type": "code",
   "execution_count": 10,
   "id": "35aabdaf",
   "metadata": {},
   "outputs": [
    {
     "name": "stdout",
     "output_type": "stream",
     "text": [
      "<class 'pandas.core.frame.DataFrame'>\n",
      "RangeIndex: 18068 entries, 0 to 18067\n",
      "Data columns (total 4 columns):\n",
      " #   Column    Non-Null Count  Dtype         \n",
      "---  ------    --------------  -----         \n",
      " 0   user_id   18068 non-null  int64         \n",
      " 1   distance  18068 non-null  float64       \n",
      " 2   duration  18068 non-null  float64       \n",
      " 3   date      18068 non-null  datetime64[ns]\n",
      "dtypes: datetime64[ns](1), float64(2), int64(1)\n",
      "memory usage: 564.8 KB\n"
     ]
    }
   ],
   "source": [
    "rides.info()"
   ]
  },
  {
   "cell_type": "markdown",
   "id": "fe7700dc",
   "metadata": {},
   "source": [
    "#### Создадим новый столбец с номером месяца на основе столбца date."
   ]
  },
  {
   "cell_type": "code",
   "execution_count": 11,
   "id": "243f3a35",
   "metadata": {},
   "outputs": [
    {
     "data": {
      "text/html": [
       "<div>\n",
       "<style scoped>\n",
       "    .dataframe tbody tr th:only-of-type {\n",
       "        vertical-align: middle;\n",
       "    }\n",
       "\n",
       "    .dataframe tbody tr th {\n",
       "        vertical-align: top;\n",
       "    }\n",
       "\n",
       "    .dataframe thead th {\n",
       "        text-align: right;\n",
       "    }\n",
       "</style>\n",
       "<table border=\"1\" class=\"dataframe\">\n",
       "  <thead>\n",
       "    <tr style=\"text-align: right;\">\n",
       "      <th></th>\n",
       "      <th>user_id</th>\n",
       "      <th>distance</th>\n",
       "      <th>duration</th>\n",
       "      <th>date</th>\n",
       "      <th>month</th>\n",
       "    </tr>\n",
       "  </thead>\n",
       "  <tbody>\n",
       "    <tr>\n",
       "      <th>0</th>\n",
       "      <td>1</td>\n",
       "      <td>4409.919140</td>\n",
       "      <td>25.599769</td>\n",
       "      <td>2021-01-01</td>\n",
       "      <td>1</td>\n",
       "    </tr>\n",
       "    <tr>\n",
       "      <th>1</th>\n",
       "      <td>1</td>\n",
       "      <td>2617.592153</td>\n",
       "      <td>15.816871</td>\n",
       "      <td>2021-01-18</td>\n",
       "      <td>1</td>\n",
       "    </tr>\n",
       "    <tr>\n",
       "      <th>2</th>\n",
       "      <td>1</td>\n",
       "      <td>754.159807</td>\n",
       "      <td>6.232113</td>\n",
       "      <td>2021-04-20</td>\n",
       "      <td>4</td>\n",
       "    </tr>\n",
       "    <tr>\n",
       "      <th>3</th>\n",
       "      <td>1</td>\n",
       "      <td>2694.783254</td>\n",
       "      <td>18.511000</td>\n",
       "      <td>2021-08-11</td>\n",
       "      <td>8</td>\n",
       "    </tr>\n",
       "    <tr>\n",
       "      <th>4</th>\n",
       "      <td>1</td>\n",
       "      <td>4028.687306</td>\n",
       "      <td>26.265803</td>\n",
       "      <td>2021-08-28</td>\n",
       "      <td>8</td>\n",
       "    </tr>\n",
       "  </tbody>\n",
       "</table>\n",
       "</div>"
      ],
      "text/plain": [
       "   user_id     distance   duration       date  month\n",
       "0        1  4409.919140  25.599769 2021-01-01      1\n",
       "1        1  2617.592153  15.816871 2021-01-18      1\n",
       "2        1   754.159807   6.232113 2021-04-20      4\n",
       "3        1  2694.783254  18.511000 2021-08-11      8\n",
       "4        1  4028.687306  26.265803 2021-08-28      8"
      ]
     },
     "execution_count": 11,
     "metadata": {},
     "output_type": "execute_result"
    }
   ],
   "source": [
    "rides['month'] = rides['date'].dt.month\n",
    "rides.head()"
   ]
  },
  {
   "cell_type": "markdown",
   "id": "4e8639af",
   "metadata": {},
   "source": [
    "#### Проведем проверку на наличие пропущенных значений и дубликато в датафреймах."
   ]
  },
  {
   "cell_type": "markdown",
   "id": "9231cceb",
   "metadata": {},
   "source": [
    "**ПОЛЬЗОВАТЕЛИ:**"
   ]
  },
  {
   "cell_type": "code",
   "execution_count": 12,
   "id": "247ed9d9",
   "metadata": {
    "scrolled": true
   },
   "outputs": [
    {
     "data": {
      "text/plain": [
       "user_id              0\n",
       "name                 0\n",
       "age                  0\n",
       "city                 0\n",
       "subscription_type    0\n",
       "dtype: int64"
      ]
     },
     "execution_count": 12,
     "metadata": {},
     "output_type": "execute_result"
    }
   ],
   "source": [
    "users.isna().sum()"
   ]
  },
  {
   "cell_type": "code",
   "execution_count": 13,
   "id": "3b7d5b3f",
   "metadata": {},
   "outputs": [
    {
     "data": {
      "text/plain": [
       "31"
      ]
     },
     "execution_count": 13,
     "metadata": {},
     "output_type": "execute_result"
    }
   ],
   "source": [
    "users.duplicated().sum()"
   ]
  },
  {
   "cell_type": "code",
   "execution_count": 14,
   "id": "9e63a459",
   "metadata": {},
   "outputs": [],
   "source": [
    "users = users.drop_duplicates().reset_index(drop=True)"
   ]
  },
  {
   "cell_type": "code",
   "execution_count": 15,
   "id": "c919a12b",
   "metadata": {
    "scrolled": true
   },
   "outputs": [
    {
     "name": "stdout",
     "output_type": "stream",
     "text": [
      "<class 'pandas.core.frame.DataFrame'>\n",
      "RangeIndex: 1534 entries, 0 to 1533\n",
      "Data columns (total 5 columns):\n",
      " #   Column             Non-Null Count  Dtype \n",
      "---  ------             --------------  ----- \n",
      " 0   user_id            1534 non-null   int64 \n",
      " 1   name               1534 non-null   object\n",
      " 2   age                1534 non-null   int64 \n",
      " 3   city               1534 non-null   object\n",
      " 4   subscription_type  1534 non-null   object\n",
      "dtypes: int64(2), object(3)\n",
      "memory usage: 60.0+ KB\n"
     ]
    }
   ],
   "source": [
    "users.info()"
   ]
  },
  {
   "cell_type": "code",
   "execution_count": 16,
   "id": "4ec9f6d7",
   "metadata": {},
   "outputs": [
    {
     "data": {
      "text/plain": [
       "1534"
      ]
     },
     "execution_count": 16,
     "metadata": {},
     "output_type": "execute_result"
    }
   ],
   "source": [
    "users.shape[0]"
   ]
  },
  {
   "cell_type": "markdown",
   "id": "774daca5",
   "metadata": {},
   "source": [
    "**ПОЕЗДКИ:**"
   ]
  },
  {
   "cell_type": "code",
   "execution_count": 17,
   "id": "1e93c1e4",
   "metadata": {
    "scrolled": true
   },
   "outputs": [
    {
     "data": {
      "text/plain": [
       "user_id     0\n",
       "distance    0\n",
       "duration    0\n",
       "date        0\n",
       "month       0\n",
       "dtype: int64"
      ]
     },
     "execution_count": 17,
     "metadata": {},
     "output_type": "execute_result"
    }
   ],
   "source": [
    "rides.isna().sum()"
   ]
  },
  {
   "cell_type": "code",
   "execution_count": 18,
   "id": "f5a8f114",
   "metadata": {},
   "outputs": [
    {
     "data": {
      "text/plain": [
       "0"
      ]
     },
     "execution_count": 18,
     "metadata": {},
     "output_type": "execute_result"
    }
   ],
   "source": [
    "rides.duplicated().sum()"
   ]
  },
  {
   "cell_type": "markdown",
   "id": "9beafe22",
   "metadata": {},
   "source": [
    "**ПОДПИСКИ:**"
   ]
  },
  {
   "cell_type": "code",
   "execution_count": 19,
   "id": "b901abde",
   "metadata": {
    "scrolled": true
   },
   "outputs": [
    {
     "data": {
      "text/plain": [
       "subscription_type    0\n",
       "minute_price         0\n",
       "start_ride_price     0\n",
       "subscription_fee     0\n",
       "dtype: int64"
      ]
     },
     "execution_count": 19,
     "metadata": {},
     "output_type": "execute_result"
    }
   ],
   "source": [
    "subscr.isna().sum()"
   ]
  },
  {
   "cell_type": "code",
   "execution_count": 20,
   "id": "736752b4",
   "metadata": {},
   "outputs": [
    {
     "data": {
      "text/plain": [
       "0"
      ]
     },
     "execution_count": 20,
     "metadata": {},
     "output_type": "execute_result"
    }
   ],
   "source": [
    "subscr.duplicated().sum()"
   ]
  },
  {
   "cell_type": "markdown",
   "id": "cc6d1dda",
   "metadata": {},
   "source": [
    "**ВЫВОД:** \n",
    "\n",
    "Датафрейм users. Пропуски отсутствуют. 31 дубликат удален. Итоговое количество строк датафрейма - 1534.\n",
    "\n",
    "Датафрейм rides. Пропуски отсутствуют. Дубликатов нет. Обработка не требуется.\n",
    "\n",
    "Датафрейм subscr. Пропуски отсутствуют. Дубликатов нет. Обработка не требуется."
   ]
  },
  {
   "cell_type": "markdown",
   "id": "212593c7",
   "metadata": {},
   "source": [
    "### Шаг 3. Исследовательский анализ данных"
   ]
  },
  {
   "cell_type": "markdown",
   "id": "1d0cc53a",
   "metadata": {},
   "source": [
    "Опишем и визуализируем общую информацию о пользователях и поездках:"
   ]
  },
  {
   "cell_type": "markdown",
   "id": "6dff0ff9",
   "metadata": {},
   "source": [
    "#### Частота встречаемости городов"
   ]
  },
  {
   "cell_type": "code",
   "execution_count": 21,
   "id": "7d8cc39d",
   "metadata": {},
   "outputs": [],
   "source": [
    "users_town = (\n",
    "    users\n",
    "    .pivot_table(index = 'city', values = 'user_id',aggfunc='count')\n",
    "    .sort_values(by='user_id')\n",
    "    )"
   ]
  },
  {
   "cell_type": "code",
   "execution_count": 22,
   "id": "7dba6af5",
   "metadata": {},
   "outputs": [
    {
     "data": {
      "image/png": "[encoded data removed]",
      "text/plain": [
       "<Figure size 1080x504 with 1 Axes>"
      ]
     },
     "metadata": {
      "needs_background": "light"
     },
     "output_type": "display_data"
    }
   ],
   "source": [
    "users_town.plot(grid = True, figsize = (15, 7))\n",
    "plt.title('Частота встречаемости городов')\n",
    "plt.xlabel('Город')\n",
    "plt.ylabel('Частота встречаемости')\n",
    "plt.show()"
   ]
  },
  {
   "cell_type": "code",
   "execution_count": 23,
   "id": "3a49d5fb",
   "metadata": {
    "scrolled": true
   },
   "outputs": [
    {
     "data": {
      "text/html": [
       "<div>\n",
       "<style scoped>\n",
       "    .dataframe tbody tr th:only-of-type {\n",
       "        vertical-align: middle;\n",
       "    }\n",
       "\n",
       "    .dataframe tbody tr th {\n",
       "        vertical-align: top;\n",
       "    }\n",
       "\n",
       "    .dataframe thead th {\n",
       "        text-align: right;\n",
       "    }\n",
       "</style>\n",
       "<table border=\"1\" class=\"dataframe\">\n",
       "  <thead>\n",
       "    <tr style=\"text-align: right;\">\n",
       "      <th></th>\n",
       "      <th>user_id</th>\n",
       "    </tr>\n",
       "    <tr>\n",
       "      <th>city</th>\n",
       "      <th></th>\n",
       "    </tr>\n",
       "  </thead>\n",
       "  <tbody>\n",
       "    <tr>\n",
       "      <th>Москва</th>\n",
       "      <td>168</td>\n",
       "    </tr>\n",
       "    <tr>\n",
       "      <th>Тюмень</th>\n",
       "      <td>180</td>\n",
       "    </tr>\n",
       "    <tr>\n",
       "      <th>Омск</th>\n",
       "      <td>183</td>\n",
       "    </tr>\n",
       "    <tr>\n",
       "      <th>Сочи</th>\n",
       "      <td>189</td>\n",
       "    </tr>\n",
       "    <tr>\n",
       "      <th>Краснодар</th>\n",
       "      <td>193</td>\n",
       "    </tr>\n",
       "    <tr>\n",
       "      <th>Ростов-на-Дону</th>\n",
       "      <td>198</td>\n",
       "    </tr>\n",
       "    <tr>\n",
       "      <th>Екатеринбург</th>\n",
       "      <td>204</td>\n",
       "    </tr>\n",
       "    <tr>\n",
       "      <th>Пятигорск</th>\n",
       "      <td>219</td>\n",
       "    </tr>\n",
       "  </tbody>\n",
       "</table>\n",
       "</div>"
      ],
      "text/plain": [
       "                user_id\n",
       "city                   \n",
       "Москва              168\n",
       "Тюмень              180\n",
       "Омск                183\n",
       "Сочи                189\n",
       "Краснодар           193\n",
       "Ростов-на-Дону      198\n",
       "Екатеринбург        204\n",
       "Пятигорск           219"
      ]
     },
     "execution_count": 23,
     "metadata": {},
     "output_type": "execute_result"
    }
   ],
   "source": [
    "users_town"
   ]
  },
  {
   "cell_type": "code",
   "execution_count": 24,
   "id": "ffbdf70a",
   "metadata": {},
   "outputs": [
    {
     "data": {
      "image/png": "[encoded data removed]",
      "text/plain": [
       "<Figure size 720x360 with 1 Axes>"
      ]
     },
     "metadata": {
      "needs_background": "light"
     },
     "output_type": "display_data"
    }
   ],
   "source": [
    "users_town.plot(grid = True, kind = 'bar', figsize = (10, 5))\n",
    "plt.title('Частота встречаемости городов')\n",
    "plt.xlabel('Город')\n",
    "plt.ylabel('Частота встречаемости')\n",
    "\n",
    "plt.show()"
   ]
  },
  {
   "cell_type": "markdown",
   "id": "162b5935",
   "metadata": {},
   "source": [
    "#### Соотношение пользователей с подпиской и без подписки"
   ]
  },
  {
   "cell_type": "code",
   "execution_count": 25,
   "id": "428463f5",
   "metadata": {
    "scrolled": true
   },
   "outputs": [
    {
     "data": {
      "image/png": "[encoded data removed]",
      "text/plain": [
       "<Figure size 432x288 with 1 Axes>"
      ]
     },
     "metadata": {},
     "output_type": "display_data"
    }
   ],
   "source": [
    "(\n",
    "    users\n",
    "    .pivot_table(index = 'subscription_type', values = 'user_id',aggfunc='count')\n",
    "    .sort_values(by='user_id')\n",
    "    .plot(y = 'user_id', kind = 'pie', autopct='%1.1f%%')\n",
    ")\n",
    "plt.title('Соотношение пользователей с подпиской и без подписки')\n",
    "plt.ylabel('Количество пользователей')\n",
    "plt.show()"
   ]
  },
  {
   "cell_type": "markdown",
   "id": "3f970d40",
   "metadata": {},
   "source": [
    "#### Возраст пользователей"
   ]
  },
  {
   "cell_type": "code",
   "execution_count": 26,
   "id": "6cbdd65c",
   "metadata": {},
   "outputs": [
    {
     "data": {
      "image/png": "[encoded data removed]",
      "text/plain": [
       "<Figure size 1080x504 with 1 Axes>"
      ]
     },
     "metadata": {
      "needs_background": "light"
     },
     "output_type": "display_data"
    }
   ],
   "source": [
    "(\n",
    "    users\n",
    "    .pivot_table(index = 'age', values = 'user_id',aggfunc='count')\n",
    "    .sort_values(by='age')\n",
    "    .plot(grid = True, figsize = (15, 7))\n",
    ")\n",
    "plt.title('Возраст пользователей')\n",
    "plt.xlabel('Возраст')\n",
    "plt.ylabel('Количество пользователей')\n",
    "plt.show()"
   ]
  },
  {
   "cell_type": "code",
   "execution_count": 27,
   "id": "152ee875",
   "metadata": {},
   "outputs": [
    {
     "data": {
      "text/plain": [
       "count    1534.000000\n",
       "mean       24.903520\n",
       "std         4.572367\n",
       "min        12.000000\n",
       "25%        22.000000\n",
       "50%        25.000000\n",
       "75%        28.000000\n",
       "max        43.000000\n",
       "Name: age, dtype: float64"
      ]
     },
     "execution_count": 27,
     "metadata": {},
     "output_type": "execute_result"
    }
   ],
   "source": [
    "users['age'].describe() "
   ]
  },
  {
   "cell_type": "markdown",
   "id": "2561651a",
   "metadata": {},
   "source": [
    "#### Расстояние, которое пользователь преодолел за одну поездку"
   ]
  },
  {
   "cell_type": "code",
   "execution_count": 28,
   "id": "0d1f25bf",
   "metadata": {},
   "outputs": [
    {
     "data": {
      "image/png": "[encoded data removed]",
      "text/plain": [
       "<Figure size 432x288 with 1 Axes>"
      ]
     },
     "metadata": {
      "needs_background": "light"
     },
     "output_type": "display_data"
    }
   ],
   "source": [
    "rides['distance'].hist(bins=200)\n",
    "plt.title('Расстояние, которое пользователь преодолел за одну поездку')\n",
    "plt.xlabel('Дистанция')\n",
    "plt.ylabel('Количество поездок')\n",
    "plt.show()"
   ]
  },
  {
   "cell_type": "code",
   "execution_count": 29,
   "id": "be151b31",
   "metadata": {},
   "outputs": [
    {
     "data": {
      "text/plain": [
       "count    18068.000000\n",
       "mean      3070.659976\n",
       "std       1116.831209\n",
       "min          0.855683\n",
       "25%       2543.226360\n",
       "50%       3133.609994\n",
       "75%       3776.222735\n",
       "max       7211.007745\n",
       "Name: distance, dtype: float64"
      ]
     },
     "execution_count": 29,
     "metadata": {},
     "output_type": "execute_result"
    }
   ],
   "source": [
    "rides['distance'].describe()"
   ]
  },
  {
   "cell_type": "markdown",
   "id": "e1c3b40f",
   "metadata": {},
   "source": [
    "#### Продолжительность поездок"
   ]
  },
  {
   "cell_type": "code",
   "execution_count": 30,
   "id": "e378bd99",
   "metadata": {},
   "outputs": [
    {
     "data": {
      "image/png": "[encoded data removed]",
      "text/plain": [
       "<Figure size 432x288 with 1 Axes>"
      ]
     },
     "metadata": {
      "needs_background": "light"
     },
     "output_type": "display_data"
    }
   ],
   "source": [
    "rides['duration'].hist(bins=200)\n",
    "plt.title('Продолжительность сессии за одну поездку')\n",
    "plt.xlabel('Время сессии')\n",
    "plt.ylabel('Количество поездок')\n",
    "plt.show()"
   ]
  },
  {
   "cell_type": "code",
   "execution_count": 31,
   "id": "b13996d7",
   "metadata": {},
   "outputs": [
    {
     "data": {
      "text/plain": [
       "count    18068.000000\n",
       "mean        17.805011\n",
       "std          6.091051\n",
       "min          0.500000\n",
       "25%         13.597563\n",
       "50%         17.678395\n",
       "75%         21.724800\n",
       "max         40.823963\n",
       "Name: duration, dtype: float64"
      ]
     },
     "execution_count": 31,
     "metadata": {},
     "output_type": "execute_result"
    }
   ],
   "source": [
    "rides['duration'].describe()"
   ]
  },
  {
   "cell_type": "markdown",
   "id": "7db3f121",
   "metadata": {},
   "source": [
    "**ВЫВОД:** \n",
    "\n",
    "Наибольшее количество пользователей в Пятигорске и Екатеринбурге. Наименьшее в Москве и Тюмени.\n",
    "\n",
    "Пользователей без подписки немного больше, чем пользователей с подпиской.\n",
    "\n",
    "Распределение возраст/количество пользователей близко к нормальному. Наибольшее количество пользователей в возрасте 25 лет.\n",
    "\n",
    "Наибольшее количество поездок на дистанцию в 3 км. В общем пользователи преодолевают от 2,5 до 3,7 км за одну поездку.\n",
    "\n",
    "Наибольшее количество поездок продолжительностью в 17,7 мин. В общем пользователи тратят от 13 до 21 мин на одну поездку.\n",
    "\n",
    "Наблюдается выброс - около 100 поездок с продолжительностью в 1 минуту. Учитывая, что при анализе расстояния, которое пользователь преодолел за одну поездку выявлен небольшой пик на которких дистанциях (до 1 км), который соответствует минимальному времени поездок - оставим данные."
   ]
  },
  {
   "cell_type": "markdown",
   "id": "4ef51331",
   "metadata": {},
   "source": [
    "### Шаг 4. Объединение данных"
   ]
  },
  {
   "cell_type": "markdown",
   "id": "3e9f8fd3",
   "metadata": {},
   "source": [
    "#### Объединим данные о пользователях, поездках и подписках в один датафрейм."
   ]
  },
  {
   "cell_type": "code",
   "execution_count": 32,
   "id": "6bf288b5",
   "metadata": {},
   "outputs": [
    {
     "data": {
      "text/html": [
       "<div>\n",
       "<style scoped>\n",
       "    .dataframe tbody tr th:only-of-type {\n",
       "        vertical-align: middle;\n",
       "    }\n",
       "\n",
       "    .dataframe tbody tr th {\n",
       "        vertical-align: top;\n",
       "    }\n",
       "\n",
       "    .dataframe thead th {\n",
       "        text-align: right;\n",
       "    }\n",
       "</style>\n",
       "<table border=\"1\" class=\"dataframe\">\n",
       "  <thead>\n",
       "    <tr style=\"text-align: right;\">\n",
       "      <th></th>\n",
       "      <th>user_id</th>\n",
       "      <th>name</th>\n",
       "      <th>age</th>\n",
       "      <th>city</th>\n",
       "      <th>subscription_type</th>\n",
       "      <th>distance</th>\n",
       "      <th>duration</th>\n",
       "      <th>date</th>\n",
       "      <th>month</th>\n",
       "      <th>minute_price</th>\n",
       "      <th>start_ride_price</th>\n",
       "      <th>subscription_fee</th>\n",
       "    </tr>\n",
       "  </thead>\n",
       "  <tbody>\n",
       "    <tr>\n",
       "      <th>0</th>\n",
       "      <td>1</td>\n",
       "      <td>Кира</td>\n",
       "      <td>22</td>\n",
       "      <td>Тюмень</td>\n",
       "      <td>ultra</td>\n",
       "      <td>4409.919140</td>\n",
       "      <td>25.599769</td>\n",
       "      <td>2021-01-01</td>\n",
       "      <td>1</td>\n",
       "      <td>6</td>\n",
       "      <td>0</td>\n",
       "      <td>199</td>\n",
       "    </tr>\n",
       "    <tr>\n",
       "      <th>1</th>\n",
       "      <td>1</td>\n",
       "      <td>Кира</td>\n",
       "      <td>22</td>\n",
       "      <td>Тюмень</td>\n",
       "      <td>ultra</td>\n",
       "      <td>2617.592153</td>\n",
       "      <td>15.816871</td>\n",
       "      <td>2021-01-18</td>\n",
       "      <td>1</td>\n",
       "      <td>6</td>\n",
       "      <td>0</td>\n",
       "      <td>199</td>\n",
       "    </tr>\n",
       "    <tr>\n",
       "      <th>2</th>\n",
       "      <td>1</td>\n",
       "      <td>Кира</td>\n",
       "      <td>22</td>\n",
       "      <td>Тюмень</td>\n",
       "      <td>ultra</td>\n",
       "      <td>754.159807</td>\n",
       "      <td>6.232113</td>\n",
       "      <td>2021-04-20</td>\n",
       "      <td>4</td>\n",
       "      <td>6</td>\n",
       "      <td>0</td>\n",
       "      <td>199</td>\n",
       "    </tr>\n",
       "    <tr>\n",
       "      <th>3</th>\n",
       "      <td>1</td>\n",
       "      <td>Кира</td>\n",
       "      <td>22</td>\n",
       "      <td>Тюмень</td>\n",
       "      <td>ultra</td>\n",
       "      <td>2694.783254</td>\n",
       "      <td>18.511000</td>\n",
       "      <td>2021-08-11</td>\n",
       "      <td>8</td>\n",
       "      <td>6</td>\n",
       "      <td>0</td>\n",
       "      <td>199</td>\n",
       "    </tr>\n",
       "    <tr>\n",
       "      <th>4</th>\n",
       "      <td>1</td>\n",
       "      <td>Кира</td>\n",
       "      <td>22</td>\n",
       "      <td>Тюмень</td>\n",
       "      <td>ultra</td>\n",
       "      <td>4028.687306</td>\n",
       "      <td>26.265803</td>\n",
       "      <td>2021-08-28</td>\n",
       "      <td>8</td>\n",
       "      <td>6</td>\n",
       "      <td>0</td>\n",
       "      <td>199</td>\n",
       "    </tr>\n",
       "  </tbody>\n",
       "</table>\n",
       "</div>"
      ],
      "text/plain": [
       "   user_id  name  age    city subscription_type     distance   duration  \\\n",
       "0        1  Кира   22  Тюмень             ultra  4409.919140  25.599769   \n",
       "1        1  Кира   22  Тюмень             ultra  2617.592153  15.816871   \n",
       "2        1  Кира   22  Тюмень             ultra   754.159807   6.232113   \n",
       "3        1  Кира   22  Тюмень             ultra  2694.783254  18.511000   \n",
       "4        1  Кира   22  Тюмень             ultra  4028.687306  26.265803   \n",
       "\n",
       "        date  month  minute_price  start_ride_price  subscription_fee  \n",
       "0 2021-01-01      1             6                 0               199  \n",
       "1 2021-01-18      1             6                 0               199  \n",
       "2 2021-04-20      4             6                 0               199  \n",
       "3 2021-08-11      8             6                 0               199  \n",
       "4 2021-08-28      8             6                 0               199  "
      ]
     },
     "execution_count": 32,
     "metadata": {},
     "output_type": "execute_result"
    }
   ],
   "source": [
    "merging_data = (\n",
    "    users\n",
    "    .merge(rides, on = 'user_id')\n",
    "    .merge(subscr, on = 'subscription_type')\n",
    ")\n",
    "merging_data.head()"
   ]
  },
  {
   "cell_type": "code",
   "execution_count": 33,
   "id": "4acb5de9",
   "metadata": {},
   "outputs": [
    {
     "name": "stdout",
     "output_type": "stream",
     "text": [
      "<class 'pandas.core.frame.DataFrame'>\n",
      "Int64Index: 18068 entries, 0 to 18067\n",
      "Data columns (total 12 columns):\n",
      " #   Column             Non-Null Count  Dtype         \n",
      "---  ------             --------------  -----         \n",
      " 0   user_id            18068 non-null  int64         \n",
      " 1   name               18068 non-null  object        \n",
      " 2   age                18068 non-null  int64         \n",
      " 3   city               18068 non-null  object        \n",
      " 4   subscription_type  18068 non-null  object        \n",
      " 5   distance           18068 non-null  float64       \n",
      " 6   duration           18068 non-null  float64       \n",
      " 7   date               18068 non-null  datetime64[ns]\n",
      " 8   month              18068 non-null  int64         \n",
      " 9   minute_price       18068 non-null  int64         \n",
      " 10  start_ride_price   18068 non-null  int64         \n",
      " 11  subscription_fee   18068 non-null  int64         \n",
      "dtypes: datetime64[ns](1), float64(2), int64(6), object(3)\n",
      "memory usage: 1.8+ MB\n"
     ]
    }
   ],
   "source": [
    "merging_data.info()"
   ]
  },
  {
   "cell_type": "code",
   "execution_count": 34,
   "id": "b51b5d4e",
   "metadata": {},
   "outputs": [
    {
     "name": "stdout",
     "output_type": "stream",
     "text": [
      "Количество строк датафрейма merging_data - 18068\n",
      "Количество строк датафрейма rides - 18068\n"
     ]
    }
   ],
   "source": [
    "print('Количество строк датафрейма merging_data -', merging_data.shape[0])\n",
    "print('Количество строк датафрейма rides -', rides.shape[0])"
   ]
  },
  {
   "cell_type": "code",
   "execution_count": 35,
   "id": "41050609",
   "metadata": {
    "scrolled": true
   },
   "outputs": [
    {
     "data": {
      "text/plain": [
       "user_id              0\n",
       "name                 0\n",
       "age                  0\n",
       "city                 0\n",
       "subscription_type    0\n",
       "distance             0\n",
       "duration             0\n",
       "date                 0\n",
       "month                0\n",
       "minute_price         0\n",
       "start_ride_price     0\n",
       "subscription_fee     0\n",
       "dtype: int64"
      ]
     },
     "execution_count": 35,
     "metadata": {},
     "output_type": "execute_result"
    }
   ],
   "source": [
    "merging_data.isna().sum()"
   ]
  },
  {
   "cell_type": "markdown",
   "id": "e44ba40d",
   "metadata": {},
   "source": [
    "**ВЫВОД:** \n",
    "\n",
    "В объединенном датафрейме merging_data, который содержит в себе данные датафреймов users, rides, subscr, количество строк соответствует исходному датасету rides и равно 18068 строк.\n",
    "\n",
    "Пропуски отсутствуют."
   ]
  },
  {
   "cell_type": "markdown",
   "id": "b621f282",
   "metadata": {},
   "source": [
    "Продолжительность каждой поездки в каждой строке исходного датафрейма для подсчета стоимости округлим до следующего целого числа."
   ]
  },
  {
   "cell_type": "code",
   "execution_count": 36,
   "id": "294e162b",
   "metadata": {},
   "outputs": [],
   "source": [
    "merging_data['duration'] = np.ceil(merging_data['duration'])"
   ]
  },
  {
   "cell_type": "markdown",
   "id": "ee027d7b",
   "metadata": {},
   "source": [
    "#### Создадим дополнительно два датафрейма с данными о пользователях с подпиской и без."
   ]
  },
  {
   "cell_type": "markdown",
   "id": "fc3a24f8",
   "metadata": {},
   "source": [
    "Датафрейм с данными о пользователях с подпиской:"
   ]
  },
  {
   "cell_type": "code",
   "execution_count": 37,
   "id": "fb8bc37c",
   "metadata": {},
   "outputs": [
    {
     "data": {
      "text/plain": [
       "1"
      ]
     },
     "execution_count": 37,
     "metadata": {},
     "output_type": "execute_result"
    }
   ],
   "source": [
    "merging_data_ultra = merging_data[merging_data['subscription_type'] == 'ultra']\n",
    "merging_data_ultra['subscription_type'].nunique()"
   ]
  },
  {
   "cell_type": "markdown",
   "id": "a8d9f765",
   "metadata": {},
   "source": [
    "Датафрейм с данными о пользователях без подписки:"
   ]
  },
  {
   "cell_type": "code",
   "execution_count": 38,
   "id": "fd0ac25c",
   "metadata": {},
   "outputs": [
    {
     "data": {
      "text/plain": [
       "1"
      ]
     },
     "execution_count": 38,
     "metadata": {},
     "output_type": "execute_result"
    }
   ],
   "source": [
    "merging_data_free = merging_data[merging_data['subscription_type'] == 'free']\n",
    "merging_data_free['subscription_type'].nunique()"
   ]
  },
  {
   "cell_type": "markdown",
   "id": "5bae5f9b",
   "metadata": {},
   "source": [
    "#### Визуализируем информицию о расстоянии и времени поездок для пользователей обеих категорий"
   ]
  },
  {
   "cell_type": "markdown",
   "id": "087be019",
   "metadata": {},
   "source": [
    "**Расстояние:**"
   ]
  },
  {
   "cell_type": "code",
   "execution_count": 39,
   "id": "170ec380",
   "metadata": {},
   "outputs": [
    {
     "data": {
      "image/png": "[encoded data removed]",
      "text/plain": [
       "<Figure size 432x288 with 1 Axes>"
      ]
     },
     "metadata": {
      "needs_background": "light"
     },
     "output_type": "display_data"
    }
   ],
   "source": [
    "merging_data_free['distance'].hist(bins=200, label='free')\n",
    "merging_data_ultra['distance'].hist(bins=200, label='ultra')\n",
    "plt.title('Расстояние, которое пользователь преодолел за одну поездку')\n",
    "plt.xlabel('Дистанция')\n",
    "plt.ylabel('Количество поездок')\n",
    "plt.legend()\n",
    "plt.show()"
   ]
  },
  {
   "cell_type": "code",
   "execution_count": 40,
   "id": "47f8ebdf",
   "metadata": {},
   "outputs": [
    {
     "data": {
      "text/plain": [
       "count    11568.000000\n",
       "mean      3045.495282\n",
       "std       1246.173806\n",
       "min          0.855683\n",
       "25%       2366.562689\n",
       "50%       3114.648465\n",
       "75%       3905.697894\n",
       "max       7211.007745\n",
       "Name: distance, dtype: float64"
      ]
     },
     "execution_count": 40,
     "metadata": {},
     "output_type": "execute_result"
    }
   ],
   "source": [
    "merging_data_free['distance'].describe()"
   ]
  },
  {
   "cell_type": "code",
   "execution_count": 41,
   "id": "1df108a1",
   "metadata": {},
   "outputs": [
    {
     "data": {
      "text/plain": [
       "count    6500.000000\n",
       "mean     3115.445388\n",
       "std       836.895330\n",
       "min       244.210438\n",
       "25%      2785.444017\n",
       "50%      3148.637229\n",
       "75%      3560.574425\n",
       "max      5699.769662\n",
       "Name: distance, dtype: float64"
      ]
     },
     "execution_count": 41,
     "metadata": {},
     "output_type": "execute_result"
    }
   ],
   "source": [
    "merging_data_ultra['distance'].describe()"
   ]
  },
  {
   "cell_type": "markdown",
   "id": "67257846",
   "metadata": {},
   "source": [
    "**Время поездок:**"
   ]
  },
  {
   "cell_type": "code",
   "execution_count": 42,
   "id": "46b8c298",
   "metadata": {},
   "outputs": [
    {
     "data": {
      "image/png": "[encoded data removed]",
      "text/plain": [
       "<Figure size 432x288 with 1 Axes>"
      ]
     },
     "metadata": {
      "needs_background": "light"
     },
     "output_type": "display_data"
    }
   ],
   "source": [
    "merging_data_free['duration'].hist(bins=50, label='free')\n",
    "merging_data_ultra['duration'].hist(bins=50,label='ultra')\n",
    "\n",
    "plt.title('Продолжительность сессии за одну поездку')\n",
    "plt.xlabel('Время сессии')\n",
    "plt.ylabel('Количество поездок')\n",
    "plt.legend()\n",
    "plt.show()"
   ]
  },
  {
   "cell_type": "code",
   "execution_count": 43,
   "id": "c10fca09",
   "metadata": {},
   "outputs": [
    {
     "data": {
      "text/plain": [
       "count    11568.000000\n",
       "mean        17.890992\n",
       "std          6.330250\n",
       "min          1.000000\n",
       "25%         13.000000\n",
       "50%         18.000000\n",
       "75%         22.000000\n",
       "max         35.000000\n",
       "Name: duration, dtype: float64"
      ]
     },
     "execution_count": 43,
     "metadata": {},
     "output_type": "execute_result"
    }
   ],
   "source": [
    "merging_data_free['duration'].describe()"
   ]
  },
  {
   "cell_type": "code",
   "execution_count": 44,
   "id": "83ffe4f6",
   "metadata": {},
   "outputs": [
    {
     "data": {
      "text/plain": [
       "count    6500.000000\n",
       "mean       19.037692\n",
       "std         5.577439\n",
       "min         4.000000\n",
       "25%        15.000000\n",
       "50%        19.000000\n",
       "75%        22.000000\n",
       "max        41.000000\n",
       "Name: duration, dtype: float64"
      ]
     },
     "execution_count": 44,
     "metadata": {},
     "output_type": "execute_result"
    }
   ],
   "source": [
    "merging_data_ultra['duration'].describe()"
   ]
  },
  {
   "cell_type": "markdown",
   "id": "7c9c4000",
   "metadata": {},
   "source": [
    "**ВЫВОД:** \n",
    "\n",
    "В результате объединения данных о пользователях, их поездках и подписках получен датафрейм **merging_data** на 18068 строк (соответствует данным о поездках) и 12 параметров. Пропусков нет.\n",
    "\n",
    "Созданы два дополнительных датафрейма с данными о пользователях с подпиской и без: **merging_data_ultra**, **merging_data_free**. \n",
    "\n",
    "Визуализация информиции о расстоянии и времени поездок для пользователей обеих категорий показала, что:\n",
    "\n",
    "   - Медианные значения расстояния поездок у пользователей с и без подписки практически равны - 3 км, однако, в случаях пользователей без прописки наблюдается больший разброс значений  - от 2,3 км до 3,9 км, в то время как у пользователей с пропиской диапазон уже - от 2,7 км до 3,5 км.\n",
    "   - Медианные значения времени одной поездки у пользователей с подпиской больше на 1 мин. Так же общий разброс в случаях пользователей с пропиской смещен в сторону увеличения времени сессии по сравнению с пользователями без подписки - от 14,5 мин до 21,8 мин (с подпиской) и от 12,9 мин до 21,5 мин (без подписки)."
   ]
  },
  {
   "cell_type": "markdown",
   "id": "402d620f",
   "metadata": {},
   "source": [
    "### Шаг 5. Подсчёт выручки"
   ]
  },
  {
   "cell_type": "markdown",
   "id": "b9111e09",
   "metadata": {},
   "source": [
    "#### Создадим датафрейм с агрегированными данными о поездках на основе датафрейма с объединенными данными для каждого пользователя на каждый месяц."
   ]
  },
  {
   "cell_type": "markdown",
   "id": "54d3f1e2",
   "metadata": {},
   "source": [
    "Найдем:\n",
    "\n",
    "- суммарное расстояние;\n",
    "- количество поездок;\n",
    "- суммарное время."
   ]
  },
  {
   "cell_type": "code",
   "execution_count": 45,
   "id": "b4441122",
   "metadata": {},
   "outputs": [],
   "source": [
    "md_sum = merging_data.pivot_table(\n",
    "    index=('user_id', 'month'), \n",
    "    values=('distance', \n",
    "        'duration', \n",
    "        'minute_price', \n",
    "        'start_ride_price', \n",
    "        'subscription_fee'), \n",
    "    aggfunc=({'distance':{'count', 'sum'}, \n",
    "             'duration':'sum',\n",
    "             'minute_price': 'mean',\n",
    "             'start_ride_price':'mean',\n",
    "             'subscription_fee':'mean',})\n",
    ")"
   ]
  },
  {
   "cell_type": "code",
   "execution_count": 46,
   "id": "999e1c41",
   "metadata": {},
   "outputs": [
    {
     "data": {
      "text/html": [
       "<div>\n",
       "<style scoped>\n",
       "    .dataframe tbody tr th:only-of-type {\n",
       "        vertical-align: middle;\n",
       "    }\n",
       "\n",
       "    .dataframe tbody tr th {\n",
       "        vertical-align: top;\n",
       "    }\n",
       "\n",
       "    .dataframe thead th {\n",
       "        text-align: right;\n",
       "    }\n",
       "</style>\n",
       "<table border=\"1\" class=\"dataframe\">\n",
       "  <thead>\n",
       "    <tr style=\"text-align: right;\">\n",
       "      <th></th>\n",
       "      <th></th>\n",
       "      <th>number_of_trips</th>\n",
       "      <th>distance</th>\n",
       "      <th>duration</th>\n",
       "      <th>minute_price</th>\n",
       "      <th>start_ride_price</th>\n",
       "      <th>subscription_fee</th>\n",
       "    </tr>\n",
       "    <tr>\n",
       "      <th>user_id</th>\n",
       "      <th>month</th>\n",
       "      <th></th>\n",
       "      <th></th>\n",
       "      <th></th>\n",
       "      <th></th>\n",
       "      <th></th>\n",
       "      <th></th>\n",
       "    </tr>\n",
       "  </thead>\n",
       "  <tbody>\n",
       "    <tr>\n",
       "      <th rowspan=\"5\" valign=\"top\">1</th>\n",
       "      <th>1</th>\n",
       "      <td>2</td>\n",
       "      <td>7027.511294</td>\n",
       "      <td>42.0</td>\n",
       "      <td>6</td>\n",
       "      <td>0</td>\n",
       "      <td>199</td>\n",
       "    </tr>\n",
       "    <tr>\n",
       "      <th>4</th>\n",
       "      <td>1</td>\n",
       "      <td>754.159807</td>\n",
       "      <td>7.0</td>\n",
       "      <td>6</td>\n",
       "      <td>0</td>\n",
       "      <td>199</td>\n",
       "    </tr>\n",
       "    <tr>\n",
       "      <th>8</th>\n",
       "      <td>2</td>\n",
       "      <td>6723.470560</td>\n",
       "      <td>46.0</td>\n",
       "      <td>6</td>\n",
       "      <td>0</td>\n",
       "      <td>199</td>\n",
       "    </tr>\n",
       "    <tr>\n",
       "      <th>10</th>\n",
       "      <td>2</td>\n",
       "      <td>5809.911100</td>\n",
       "      <td>32.0</td>\n",
       "      <td>6</td>\n",
       "      <td>0</td>\n",
       "      <td>199</td>\n",
       "    </tr>\n",
       "    <tr>\n",
       "      <th>11</th>\n",
       "      <td>3</td>\n",
       "      <td>7003.499363</td>\n",
       "      <td>56.0</td>\n",
       "      <td>6</td>\n",
       "      <td>0</td>\n",
       "      <td>199</td>\n",
       "    </tr>\n",
       "  </tbody>\n",
       "</table>\n",
       "</div>"
      ],
      "text/plain": [
       "               number_of_trips     distance  duration  minute_price  \\\n",
       "user_id month                                                         \n",
       "1       1                    2  7027.511294      42.0             6   \n",
       "        4                    1   754.159807       7.0             6   \n",
       "        8                    2  6723.470560      46.0             6   \n",
       "        10                   2  5809.911100      32.0             6   \n",
       "        11                   3  7003.499363      56.0             6   \n",
       "\n",
       "               start_ride_price  subscription_fee  \n",
       "user_id month                                      \n",
       "1       1                     0               199  \n",
       "        4                     0               199  \n",
       "        8                     0               199  \n",
       "        10                    0               199  \n",
       "        11                    0               199  "
      ]
     },
     "execution_count": 46,
     "metadata": {},
     "output_type": "execute_result"
    }
   ],
   "source": [
    "md_sum.columns = [\n",
    "    'number_of_trips', \n",
    "    'distance', \n",
    "    'duration', \n",
    "    'minute_price',\n",
    "    'start_ride_price', \n",
    "    'subscription_fee'\n",
    "]\n",
    "\n",
    "md_sum.head()"
   ]
  },
  {
   "cell_type": "code",
   "execution_count": 47,
   "id": "78733db1",
   "metadata": {},
   "outputs": [
    {
     "data": {
      "text/plain": [
       "number_of_trips     0\n",
       "distance            0\n",
       "duration            0\n",
       "minute_price        0\n",
       "start_ride_price    0\n",
       "subscription_fee    0\n",
       "dtype: int64"
      ]
     },
     "execution_count": 47,
     "metadata": {},
     "output_type": "execute_result"
    }
   ],
   "source": [
    "md_sum.isna().sum()"
   ]
  },
  {
   "cell_type": "markdown",
   "id": "d7a5c1b3",
   "metadata": {},
   "source": [
    "#### В созданный датафрейм добавим столбец с помесячной выручкой, которую принес каждый пользователь"
   ]
  },
  {
   "cell_type": "markdown",
   "id": "6890bc29",
   "metadata": {},
   "source": [
    "Обратимся к информации об условиях оплаты для подписчиков и тех, у кого нет подписки."
   ]
  },
  {
   "cell_type": "code",
   "execution_count": 48,
   "id": "1d242871",
   "metadata": {},
   "outputs": [],
   "source": [
    "md_sum['income'] = (\n",
    "    md_sum['start_ride_price'] * md_sum['number_of_trips']+\n",
    "    md_sum['minute_price'] * md_sum['duration']+\n",
    "    md_sum['subscription_fee']\n",
    ")"
   ]
  },
  {
   "cell_type": "code",
   "execution_count": 49,
   "id": "019ec53e",
   "metadata": {},
   "outputs": [
    {
     "data": {
      "text/html": [
       "<div>\n",
       "<style scoped>\n",
       "    .dataframe tbody tr th:only-of-type {\n",
       "        vertical-align: middle;\n",
       "    }\n",
       "\n",
       "    .dataframe tbody tr th {\n",
       "        vertical-align: top;\n",
       "    }\n",
       "\n",
       "    .dataframe thead th {\n",
       "        text-align: right;\n",
       "    }\n",
       "</style>\n",
       "<table border=\"1\" class=\"dataframe\">\n",
       "  <thead>\n",
       "    <tr style=\"text-align: right;\">\n",
       "      <th></th>\n",
       "      <th></th>\n",
       "      <th>number_of_trips</th>\n",
       "      <th>distance</th>\n",
       "      <th>duration</th>\n",
       "      <th>minute_price</th>\n",
       "      <th>start_ride_price</th>\n",
       "      <th>subscription_fee</th>\n",
       "      <th>income</th>\n",
       "    </tr>\n",
       "    <tr>\n",
       "      <th>user_id</th>\n",
       "      <th>month</th>\n",
       "      <th></th>\n",
       "      <th></th>\n",
       "      <th></th>\n",
       "      <th></th>\n",
       "      <th></th>\n",
       "      <th></th>\n",
       "      <th></th>\n",
       "    </tr>\n",
       "  </thead>\n",
       "  <tbody>\n",
       "    <tr>\n",
       "      <th rowspan=\"6\" valign=\"top\">1</th>\n",
       "      <th>1</th>\n",
       "      <td>2</td>\n",
       "      <td>7027.511294</td>\n",
       "      <td>42.0</td>\n",
       "      <td>6</td>\n",
       "      <td>0</td>\n",
       "      <td>199</td>\n",
       "      <td>451.0</td>\n",
       "    </tr>\n",
       "    <tr>\n",
       "      <th>4</th>\n",
       "      <td>1</td>\n",
       "      <td>754.159807</td>\n",
       "      <td>7.0</td>\n",
       "      <td>6</td>\n",
       "      <td>0</td>\n",
       "      <td>199</td>\n",
       "      <td>241.0</td>\n",
       "    </tr>\n",
       "    <tr>\n",
       "      <th>8</th>\n",
       "      <td>2</td>\n",
       "      <td>6723.470560</td>\n",
       "      <td>46.0</td>\n",
       "      <td>6</td>\n",
       "      <td>0</td>\n",
       "      <td>199</td>\n",
       "      <td>475.0</td>\n",
       "    </tr>\n",
       "    <tr>\n",
       "      <th>10</th>\n",
       "      <td>2</td>\n",
       "      <td>5809.911100</td>\n",
       "      <td>32.0</td>\n",
       "      <td>6</td>\n",
       "      <td>0</td>\n",
       "      <td>199</td>\n",
       "      <td>391.0</td>\n",
       "    </tr>\n",
       "    <tr>\n",
       "      <th>11</th>\n",
       "      <td>3</td>\n",
       "      <td>7003.499363</td>\n",
       "      <td>56.0</td>\n",
       "      <td>6</td>\n",
       "      <td>0</td>\n",
       "      <td>199</td>\n",
       "      <td>535.0</td>\n",
       "    </tr>\n",
       "    <tr>\n",
       "      <th>12</th>\n",
       "      <td>2</td>\n",
       "      <td>6751.629942</td>\n",
       "      <td>28.0</td>\n",
       "      <td>6</td>\n",
       "      <td>0</td>\n",
       "      <td>199</td>\n",
       "      <td>367.0</td>\n",
       "    </tr>\n",
       "    <tr>\n",
       "      <th rowspan=\"4\" valign=\"top\">2</th>\n",
       "      <th>3</th>\n",
       "      <td>3</td>\n",
       "      <td>10187.723006</td>\n",
       "      <td>63.0</td>\n",
       "      <td>6</td>\n",
       "      <td>0</td>\n",
       "      <td>199</td>\n",
       "      <td>577.0</td>\n",
       "    </tr>\n",
       "    <tr>\n",
       "      <th>4</th>\n",
       "      <td>2</td>\n",
       "      <td>6164.381824</td>\n",
       "      <td>40.0</td>\n",
       "      <td>6</td>\n",
       "      <td>0</td>\n",
       "      <td>199</td>\n",
       "      <td>439.0</td>\n",
       "    </tr>\n",
       "    <tr>\n",
       "      <th>6</th>\n",
       "      <td>1</td>\n",
       "      <td>3255.338202</td>\n",
       "      <td>14.0</td>\n",
       "      <td>6</td>\n",
       "      <td>0</td>\n",
       "      <td>199</td>\n",
       "      <td>283.0</td>\n",
       "    </tr>\n",
       "    <tr>\n",
       "      <th>7</th>\n",
       "      <td>2</td>\n",
       "      <td>6780.722964</td>\n",
       "      <td>48.0</td>\n",
       "      <td>6</td>\n",
       "      <td>0</td>\n",
       "      <td>199</td>\n",
       "      <td>487.0</td>\n",
       "    </tr>\n",
       "  </tbody>\n",
       "</table>\n",
       "</div>"
      ],
      "text/plain": [
       "               number_of_trips      distance  duration  minute_price  \\\n",
       "user_id month                                                          \n",
       "1       1                    2   7027.511294      42.0             6   \n",
       "        4                    1    754.159807       7.0             6   \n",
       "        8                    2   6723.470560      46.0             6   \n",
       "        10                   2   5809.911100      32.0             6   \n",
       "        11                   3   7003.499363      56.0             6   \n",
       "        12                   2   6751.629942      28.0             6   \n",
       "2       3                    3  10187.723006      63.0             6   \n",
       "        4                    2   6164.381824      40.0             6   \n",
       "        6                    1   3255.338202      14.0             6   \n",
       "        7                    2   6780.722964      48.0             6   \n",
       "\n",
       "               start_ride_price  subscription_fee  income  \n",
       "user_id month                                              \n",
       "1       1                     0               199   451.0  \n",
       "        4                     0               199   241.0  \n",
       "        8                     0               199   475.0  \n",
       "        10                    0               199   391.0  \n",
       "        11                    0               199   535.0  \n",
       "        12                    0               199   367.0  \n",
       "2       3                     0               199   577.0  \n",
       "        4                     0               199   439.0  \n",
       "        6                     0               199   283.0  \n",
       "        7                     0               199   487.0  "
      ]
     },
     "execution_count": 49,
     "metadata": {},
     "output_type": "execute_result"
    }
   ],
   "source": [
    "md_sum.head(10)"
   ]
  },
  {
   "cell_type": "code",
   "execution_count": 50,
   "id": "27d78c94",
   "metadata": {},
   "outputs": [
    {
     "data": {
      "text/plain": [
       "3878641.0"
      ]
     },
     "execution_count": 50,
     "metadata": {},
     "output_type": "execute_result"
    }
   ],
   "source": [
    "md_sum['income'].sum()"
   ]
  },
  {
   "cell_type": "markdown",
   "id": "99131411",
   "metadata": {},
   "source": [
    "**ВЫВОД:** \n",
    "\n",
    "Выручка за весь период составила 3 878 641 рублей."
   ]
  },
  {
   "cell_type": "markdown",
   "id": "41545ac0",
   "metadata": {},
   "source": [
    "### Шаг 6. Проверка гипотез"
   ]
  },
  {
   "cell_type": "markdown",
   "id": "166ca2f1",
   "metadata": {},
   "source": [
    "Продакт-менеджеры сервиса хотят величить количество пользователей с подпиской. Для этого они будут проводить различные акции, но сначала нужно выяснить несколько важных моментов."
   ]
  },
  {
   "cell_type": "markdown",
   "id": "8aaf08e4",
   "metadata": {},
   "source": [
    "#### Тратят ли пользователи с подпиской больше времени на поездки?"
   ]
  },
  {
   "cell_type": "markdown",
   "id": "58c10c2f",
   "metadata": {},
   "source": [
    "Используем исходные данные о продолжительности каждой сессии - отдельно для подписчиков и тех, у кого нет подписки.\n",
    "\n",
    "- Нулевая гипотеза - Время на поездки у подписчиков и тех, у кого нет подписки равно;\n",
    "- Альтернативная гипотеза - Время на поездки у подписчиков больше, чем у кого нет подписки."
   ]
  },
  {
   "cell_type": "code",
   "execution_count": 51,
   "id": "7472685b",
   "metadata": {},
   "outputs": [
    {
     "name": "stdout",
     "output_type": "stream",
     "text": [
      "p-значение 2.4959453720736625e-34\n",
      "Отвергаем нулевую гипотезу\n"
     ]
    }
   ],
   "source": [
    "alpha = 0.05\n",
    "\n",
    "results = st.ttest_ind(\n",
    "    merging_data_ultra['duration'], \n",
    "    merging_data_free['duration'], \n",
    "    alternative='greater')\n",
    "print('p-значение', results.pvalue)\n",
    "\n",
    "if results.pvalue < alpha:\n",
    "    print('Отвергаем нулевую гипотезу')\n",
    "else:\n",
    "    print('Не отвергаем нулевую гипотезу')"
   ]
  },
  {
   "cell_type": "markdown",
   "id": "2ce57858",
   "metadata": {},
   "source": [
    "**ВЫВОД:** \n",
    "\n",
    "Нулевая гипотеза о равенстве времени поездки у подписчиков и тех, у кого её нет отвергнута. Есть основания полагать, что пользователи с подпиской могут быть \"выгоднее\" для компании."
   ]
  },
  {
   "cell_type": "markdown",
   "id": "5b9175fd",
   "metadata": {},
   "source": [
    "#### Можно ли сказать, что среднее расстояние, которое проезжают пользователи с подпиской за одну поездку, не превышает 3130 метров?"
   ]
  },
  {
   "cell_type": "markdown",
   "id": "e5696d0f",
   "metadata": {},
   "source": [
    "Расстояние одной поездки в 3130 метров - оптимальное с точки зрения износа самоката.\n",
    "\n",
    "- Нулевая гипотеза - Расстояние одной поездки равно 3130 метров;\n",
    "- Альтернативная гипотеза - Расстояние одной поездки больше 3130 метров."
   ]
  },
  {
   "cell_type": "code",
   "execution_count": 52,
   "id": "b4d7d600",
   "metadata": {},
   "outputs": [
    {
     "name": "stdout",
     "output_type": "stream",
     "text": [
      "p-значение 0.9195368847849785\n",
      "Не отвергаем нулевую гипотезу\n"
     ]
    }
   ],
   "source": [
    "value = 3130\n",
    "alpha = 0.05\n",
    "\n",
    "results = st.ttest_1samp(\n",
    "    merging_data_ultra['distance'],\n",
    "    value,\n",
    "    alternative='greater')\n",
    "print('p-значение', results.pvalue)\n",
    "\n",
    "if results.pvalue < alpha:\n",
    "    print('Отвергаем нулевую гипотезу')\n",
    "else:\n",
    "    print('Не отвергаем нулевую гипотезу')"
   ]
  },
  {
   "cell_type": "markdown",
   "id": "fd7c47b0",
   "metadata": {},
   "source": [
    "**ВЫВОД:** \n",
    "\n",
    "Нулевая гипотеза не отвергнута, следовательно, с вероятностью 92% можно сказать, что среднее расстояние, которое проезжает пользователи с подпиской за одну поездку не превышает 3130 метров."
   ]
  },
  {
   "cell_type": "markdown",
   "id": "10a11cd3",
   "metadata": {},
   "source": [
    "#### Будет ли помесячная выручка от пользователей с подпиской по месяцам выше, чем выручка от пользователей без прописки?"
   ]
  },
  {
   "cell_type": "markdown",
   "id": "4d609b30",
   "metadata": {},
   "source": [
    "Проверим гипотезы:\n",
    "\n",
    "- Нулевая гипотеза - Помесячная выручка от пользователей с подпиской по месяцам равна выручке от пользователей без прописки;\n",
    "- Альтернативная гипотеза - Помесячная выручка от пользователей с подпиской по месяцам выше, чем выручка от пользователей без прописки."
   ]
  },
  {
   "cell_type": "code",
   "execution_count": 53,
   "id": "d061b88e",
   "metadata": {},
   "outputs": [
    {
     "name": "stdout",
     "output_type": "stream",
     "text": [
      "p-значение 1.8850394384715216e-31\n",
      "Отвергаем нулевую гипотезу\n"
     ]
    }
   ],
   "source": [
    "alpha = 0.05\n",
    "\n",
    "income_ultra = md_sum[md_sum['subscription_fee'] == 199]\n",
    "income_free = md_sum[md_sum['subscription_fee'] == 0]\n",
    "\n",
    "results = st.ttest_ind(\n",
    "    income_ultra['income'],\n",
    "    income_free['income'], \n",
    "    alternative='greater')\n",
    "print('p-значение', results.pvalue)\n",
    "\n",
    "if results.pvalue < alpha:\n",
    "    print('Отвергаем нулевую гипотезу')\n",
    "else:\n",
    "    print('Не отвергаем нулевую гипотезу')"
   ]
  },
  {
   "cell_type": "markdown",
   "id": "adf875f3",
   "metadata": {},
   "source": [
    "**ВЫВОД:** \n",
    "\n",
    "Нулевая гипотеза о равенстве выручки от пользователей с подпиской и без отвергнута. Есть основания полагать, что пользователи с подпиской приносят больше выручки компании."
   ]
  },
  {
   "cell_type": "markdown",
   "id": "4df4f277",
   "metadata": {},
   "source": [
    "#### Снизится ли количество обращений в техподдержку после обновления сервера, с которым взаимодействует мобильное приложение?"
   ]
  },
  {
   "cell_type": "markdown",
   "id": "1de87ec5",
   "metadata": {},
   "source": [
    "Для проверки гипотезы о сокращении количеств обращений в техподдержку на основании данных о количестве обращений до обновления и после него, нам понадобится тест:\n",
    "\n",
    "***scipy.stats.ttest_rel***\n",
    "\n",
    "т.к. анализ проводится по двум зависимым(парным) выборкам.\n",
    "Гипотеза односторонняя"
   ]
  },
  {
   "cell_type": "markdown",
   "id": "61213c5e",
   "metadata": {},
   "source": [
    "## ВЫВОД"
   ]
  },
  {
   "cell_type": "markdown",
   "id": "fa1461e3",
   "metadata": {},
   "source": [
    "**Анализируемые данные:**\n",
    "\n",
    "- Датафрейм users содержит 1565 записей. Типы данных корректны.\n",
    "- Датафрейм rides содержит 18068 записей. Тип данных столбца date - object, необходимо привести к типу даты pandas.\n",
    "- Датафрейм subscr содержит 2 записи. Типы данных корректны.\n",
    "\n",
    "**Результаты предобработки данных:**\n",
    "\n",
    "- Датафрейм users. Пропуски отсутствуют. 31 дубликат удален. Итоговое количество строк датафрейма - 1534.\n",
    "- Датафрейм rides. Пропуски отсутствуют. Дубликатов нет. Обработка не требуется.\n",
    "- Датафрейм subscr. Пропуски отсутствуют. Дубликатов нет. Обработка не требуется.\n",
    "\n",
    "**Результаты исследовательского анализа данных:**\n",
    "\n",
    "- Наибольшее количество пользователей в Пятигорске и Екатеринбурге. Наименьшее в Москве и Тюмени.\n",
    "- Пользователей без подписки немного больше, чем пользователей с подпиской.\n",
    "- Распределение возраст/количество пользователей близко к нормальному. Наибольшее количество пользователей в возрасте 25 лет.\n",
    "- Наибольшее количество поездок на дистанцию в 3 км. В общем пользователи преодолевают от 2,5 до 3,7 км за одну поездку.\n",
    "- Наибольшее количество поездок продолжительностью в 17,7 мин. В общем пользователи тратят от 13 до 21 мин на одну поездку.\n",
    "\n",
    "**Результаты объединение данных:**\n",
    "\n",
    "В результате объединения данных о пользователях, их поездках и подписках получен датафрейм **merging_data** на 18068 строк (соответствует данным о поездках) и 12 параметров. Пропусков нет.\n",
    "\n",
    "Созданы два дополнительных датафрейма с данными о пользователях с подпиской и без: **merging_data_ultra**, **merging_data_free**. \n",
    "\n",
    "Визуализация информиции о расстоянии и времени поездок для пользователей обеих категорий показала, что:\n",
    "\n",
    "   - Медианные значения расстояния поездок у пользователей с и без подписки практически равны - 3 км, однако, в случаях пользователей без прописки наблюдается больший разброс значений  - от 2,3 км до 3,9 км, в то время как у пользователей с пропиской диапазон уже - от 2,7 км до 3,5 км.\n",
    "   - Медианные значения времени одной поездки у пользователей с подпиской больше на 1 мин. Так же общий разброс в случаях пользователей с пропиской смещен в сторону увеличения времени сессии по сравнению с пользователями без подписки - от 14,5 мин до 21,8 мин (с подпиской) и от 12,9 мин до 21,5 мин (без подписки).\n",
    "\n",
    "\n",
    "**Подсчёт выручки:**\n",
    "\n",
    "Выручка за весь период составила **3 878 641** рублей.\n",
    "\n",
    "**Проверка гипотез:**\n",
    "\n",
    "- Тратят ли пользователи с подпиской больше времени на поездки?\n",
    "\n",
    "Нулевая гипотеза о равенстве времени поездки у подписчиков и тех, у кого её нет отвергнута. **Есть основания полагать, что пользователи с подпиской могут быть \"выгоднее\" для компании.**\n",
    "\n",
    "- Можно ли сказать, что среднее расстояние, которое проезжают пользователи с подпиской за одну поездку, не превышает 3130 метров?\n",
    "\n",
    "Нулевая гипотеза не отвергнута, следовательно, **с вероятностью 92% можно сказать, что среднее расстояние, которое проезжает пользователи с подпиской за одну поездку не превышает 3130 метров.**\n",
    "\n",
    "- Будет ли помесячная выручка от пользователей с подпиской по месяцам выше, чем выручка от пользователей без прописки?\n",
    "\n",
    "Нулевая гипотеза о равенстве выручки от пользователей с подпиской и без отвергнута. **Есть основания полагать, что пользователи с подпиской приносят больше выручки компании.**\n",
    "\n",
    "- Снизится ли количество обращений в техподдержку после обновления сервера, с которым взаимодействует мобильное приложение?\n",
    "\n",
    "Для проверки гипотезы о сокращении количеств обращений в техподдержку на основании данных о количестве обращений до обновления и после него, нам понадобится тест:***scipy.stats.ttest_rel***, т.к. анализ проводится по двум зависимым(парным) выборкам.\n"
   ]
  }
 ],
 "metadata": {
  "ExecuteTimeLog": [
   {
    "duration": 389,
    "start_time": "2024-07-12T11:28:10.824Z"
   },
   {
    "duration": 2,
    "start_time": "2024-07-12T11:28:21.747Z"
   },
   {
    "duration": 2,
    "start_time": "2024-07-12T12:49:23.561Z"
   },
   {
    "duration": 156,
    "start_time": "2024-07-12T12:49:23.566Z"
   },
   {
    "duration": 27,
    "start_time": "2024-07-12T13:17:38.684Z"
   },
   {
    "duration": 58,
    "start_time": "2024-07-12T13:17:45.107Z"
   },
   {
    "duration": 174,
    "start_time": "2024-07-12T13:17:57.580Z"
   },
   {
    "duration": 80,
    "start_time": "2024-07-12T13:18:02.074Z"
   },
   {
    "duration": 115,
    "start_time": "2024-07-12T13:18:38.523Z"
   },
   {
    "duration": 13,
    "start_time": "2024-07-12T13:19:14.418Z"
   },
   {
    "duration": 6,
    "start_time": "2024-07-12T13:19:58.506Z"
   },
   {
    "duration": 2,
    "start_time": "2024-07-12T13:20:03.665Z"
   },
   {
    "duration": 67,
    "start_time": "2024-07-12T13:20:03.669Z"
   },
   {
    "duration": 7,
    "start_time": "2024-07-12T13:20:03.737Z"
   },
   {
    "duration": 7,
    "start_time": "2024-07-12T13:20:27.803Z"
   },
   {
    "duration": 6,
    "start_time": "2024-07-12T13:20:32.850Z"
   },
   {
    "duration": 6,
    "start_time": "2024-07-12T13:20:43.330Z"
   },
   {
    "duration": 2,
    "start_time": "2024-07-12T13:20:50.307Z"
   },
   {
    "duration": 65,
    "start_time": "2024-07-12T13:20:50.311Z"
   },
   {
    "duration": 7,
    "start_time": "2024-07-12T13:20:50.377Z"
   },
   {
    "duration": 10,
    "start_time": "2024-07-12T13:20:50.385Z"
   },
   {
    "duration": 11,
    "start_time": "2024-07-12T13:20:50.397Z"
   },
   {
    "duration": 10,
    "start_time": "2024-07-12T13:21:11.394Z"
   },
   {
    "duration": 10,
    "start_time": "2024-07-12T13:21:26.002Z"
   },
   {
    "duration": 10,
    "start_time": "2024-07-12T13:21:41.593Z"
   },
   {
    "duration": 487,
    "start_time": "2024-07-12T17:51:43.530Z"
   },
   {
    "duration": 293,
    "start_time": "2024-07-12T17:51:44.019Z"
   },
   {
    "duration": 15,
    "start_time": "2024-07-12T17:51:44.314Z"
   },
   {
    "duration": 11,
    "start_time": "2024-07-12T17:51:44.331Z"
   },
   {
    "duration": 12,
    "start_time": "2024-07-12T17:51:44.343Z"
   },
   {
    "duration": 27,
    "start_time": "2024-07-12T17:51:44.356Z"
   },
   {
    "duration": 7,
    "start_time": "2024-07-12T17:51:44.384Z"
   },
   {
    "duration": 16,
    "start_time": "2024-07-12T17:51:44.393Z"
   },
   {
    "duration": 3,
    "start_time": "2024-07-12T19:25:25.543Z"
   },
   {
    "duration": 83,
    "start_time": "2024-07-12T19:25:25.548Z"
   },
   {
    "duration": 9,
    "start_time": "2024-07-12T19:25:25.633Z"
   },
   {
    "duration": 12,
    "start_time": "2024-07-12T19:25:25.643Z"
   },
   {
    "duration": 9,
    "start_time": "2024-07-12T19:25:25.657Z"
   },
   {
    "duration": 12,
    "start_time": "2024-07-12T19:25:25.667Z"
   },
   {
    "duration": 6,
    "start_time": "2024-07-12T19:25:25.681Z"
   },
   {
    "duration": 14,
    "start_time": "2024-07-12T19:25:25.689Z"
   },
   {
    "duration": 454,
    "start_time": "2024-07-13T08:35:56.019Z"
   },
   {
    "duration": 274,
    "start_time": "2024-07-13T08:35:56.475Z"
   },
   {
    "duration": 16,
    "start_time": "2024-07-13T08:35:56.751Z"
   },
   {
    "duration": 32,
    "start_time": "2024-07-13T08:35:56.768Z"
   },
   {
    "duration": 10,
    "start_time": "2024-07-13T08:35:56.803Z"
   },
   {
    "duration": 15,
    "start_time": "2024-07-13T08:35:56.815Z"
   },
   {
    "duration": 29,
    "start_time": "2024-07-13T08:35:56.831Z"
   },
   {
    "duration": 34,
    "start_time": "2024-07-13T08:35:56.862Z"
   },
   {
    "duration": 3,
    "start_time": "2024-07-13T08:48:13.968Z"
   },
   {
    "duration": 72,
    "start_time": "2024-07-13T08:48:13.973Z"
   },
   {
    "duration": 8,
    "start_time": "2024-07-13T08:48:14.047Z"
   },
   {
    "duration": 12,
    "start_time": "2024-07-13T08:48:14.057Z"
   },
   {
    "duration": 14,
    "start_time": "2024-07-13T08:48:14.071Z"
   },
   {
    "duration": 8,
    "start_time": "2024-07-13T08:48:14.086Z"
   },
   {
    "duration": 11,
    "start_time": "2024-07-13T08:48:14.096Z"
   },
   {
    "duration": 41,
    "start_time": "2024-07-13T08:48:14.109Z"
   },
   {
    "duration": 13,
    "start_time": "2024-07-13T08:48:14.152Z"
   },
   {
    "duration": 6,
    "start_time": "2024-07-13T08:48:28.518Z"
   },
   {
    "duration": 3,
    "start_time": "2024-07-13T08:48:51.624Z"
   },
   {
    "duration": 70,
    "start_time": "2024-07-13T08:48:51.629Z"
   },
   {
    "duration": 8,
    "start_time": "2024-07-13T08:48:51.700Z"
   },
   {
    "duration": 17,
    "start_time": "2024-07-13T08:48:51.710Z"
   },
   {
    "duration": 21,
    "start_time": "2024-07-13T08:48:51.729Z"
   },
   {
    "duration": 8,
    "start_time": "2024-07-13T08:48:51.751Z"
   },
   {
    "duration": 12,
    "start_time": "2024-07-13T08:48:51.761Z"
   },
   {
    "duration": 7,
    "start_time": "2024-07-13T08:48:51.774Z"
   },
   {
    "duration": 6,
    "start_time": "2024-07-13T08:48:51.782Z"
   },
   {
    "duration": 13,
    "start_time": "2024-07-13T08:48:51.789Z"
   },
   {
    "duration": 5,
    "start_time": "2024-07-13T08:50:58.896Z"
   },
   {
    "duration": 93,
    "start_time": "2024-07-13T09:03:46.206Z"
   },
   {
    "duration": 2,
    "start_time": "2024-07-13T09:03:51.185Z"
   },
   {
    "duration": 96,
    "start_time": "2024-07-13T09:03:51.189Z"
   },
   {
    "duration": 9,
    "start_time": "2024-07-13T09:03:51.286Z"
   },
   {
    "duration": 21,
    "start_time": "2024-07-13T09:03:51.297Z"
   },
   {
    "duration": 11,
    "start_time": "2024-07-13T09:03:51.320Z"
   },
   {
    "duration": 33,
    "start_time": "2024-07-13T09:03:51.333Z"
   },
   {
    "duration": 12,
    "start_time": "2024-07-13T09:03:51.368Z"
   },
   {
    "duration": 7,
    "start_time": "2024-07-13T09:03:51.382Z"
   },
   {
    "duration": 26,
    "start_time": "2024-07-13T09:03:51.391Z"
   },
   {
    "duration": 18,
    "start_time": "2024-07-13T09:03:51.418Z"
   },
   {
    "duration": 25,
    "start_time": "2024-07-13T09:03:51.438Z"
   },
   {
    "duration": 58,
    "start_time": "2024-07-13T09:03:51.465Z"
   },
   {
    "duration": 7,
    "start_time": "2024-07-13T09:04:04.137Z"
   },
   {
    "duration": 3,
    "start_time": "2024-07-13T09:04:30.203Z"
   },
   {
    "duration": 319,
    "start_time": "2024-07-13T09:04:30.208Z"
   },
   {
    "duration": 184,
    "start_time": "2024-07-13T09:04:30.529Z"
   },
   {
    "duration": 123,
    "start_time": "2024-07-13T09:04:30.715Z"
   },
   {
    "duration": 58,
    "start_time": "2024-07-13T09:04:30.840Z"
   },
   {
    "duration": 42,
    "start_time": "2024-07-13T09:04:30.900Z"
   },
   {
    "duration": 58,
    "start_time": "2024-07-13T09:04:30.944Z"
   },
   {
    "duration": 52,
    "start_time": "2024-07-13T09:04:31.004Z"
   },
   {
    "duration": 36,
    "start_time": "2024-07-13T09:04:31.059Z"
   },
   {
    "duration": 83,
    "start_time": "2024-07-13T09:04:31.097Z"
   },
   {
    "duration": 36,
    "start_time": "2024-07-13T09:04:31.182Z"
   },
   {
    "duration": 54,
    "start_time": "2024-07-13T09:04:31.220Z"
   },
   {
    "duration": 37,
    "start_time": "2024-07-13T09:04:31.276Z"
   },
   {
    "duration": 14,
    "start_time": "2024-07-13T09:10:36.037Z"
   },
   {
    "duration": 3,
    "start_time": "2024-07-13T09:11:05.218Z"
   },
   {
    "duration": 79,
    "start_time": "2024-07-13T09:11:05.223Z"
   },
   {
    "duration": 8,
    "start_time": "2024-07-13T09:11:05.304Z"
   },
   {
    "duration": 20,
    "start_time": "2024-07-13T09:11:05.314Z"
   },
   {
    "duration": 13,
    "start_time": "2024-07-13T09:11:05.339Z"
   },
   {
    "duration": 16,
    "start_time": "2024-07-13T09:11:05.355Z"
   },
   {
    "duration": 21,
    "start_time": "2024-07-13T09:11:05.374Z"
   },
   {
    "duration": 16,
    "start_time": "2024-07-13T09:11:05.397Z"
   },
   {
    "duration": 16,
    "start_time": "2024-07-13T09:11:05.415Z"
   },
   {
    "duration": 24,
    "start_time": "2024-07-13T09:11:05.433Z"
   },
   {
    "duration": 7,
    "start_time": "2024-07-13T09:11:05.460Z"
   },
   {
    "duration": 9,
    "start_time": "2024-07-13T09:11:05.468Z"
   },
   {
    "duration": 13,
    "start_time": "2024-07-13T09:11:05.479Z"
   },
   {
    "duration": 10,
    "start_time": "2024-07-13T09:11:05.495Z"
   },
   {
    "duration": 3,
    "start_time": "2024-07-13T09:16:11.171Z"
   },
   {
    "duration": 90,
    "start_time": "2024-07-13T09:16:11.177Z"
   },
   {
    "duration": 14,
    "start_time": "2024-07-13T09:16:11.270Z"
   },
   {
    "duration": 12,
    "start_time": "2024-07-13T09:16:11.286Z"
   },
   {
    "duration": 11,
    "start_time": "2024-07-13T09:16:11.300Z"
   },
   {
    "duration": 12,
    "start_time": "2024-07-13T09:16:11.313Z"
   },
   {
    "duration": 41,
    "start_time": "2024-07-13T09:16:11.326Z"
   },
   {
    "duration": 14,
    "start_time": "2024-07-13T09:16:11.369Z"
   },
   {
    "duration": 8,
    "start_time": "2024-07-13T09:16:11.385Z"
   },
   {
    "duration": 15,
    "start_time": "2024-07-13T09:16:11.395Z"
   },
   {
    "duration": 42,
    "start_time": "2024-07-13T09:16:11.413Z"
   },
   {
    "duration": 9,
    "start_time": "2024-07-13T09:16:11.462Z"
   },
   {
    "duration": 7,
    "start_time": "2024-07-13T09:16:11.473Z"
   },
   {
    "duration": 6,
    "start_time": "2024-07-13T09:16:11.482Z"
   },
   {
    "duration": 6,
    "start_time": "2024-07-13T09:17:13.401Z"
   },
   {
    "duration": 9,
    "start_time": "2024-07-13T09:18:04.889Z"
   },
   {
    "duration": 7,
    "start_time": "2024-07-13T09:18:19.666Z"
   },
   {
    "duration": 12,
    "start_time": "2024-07-13T09:21:12.743Z"
   },
   {
    "duration": 8,
    "start_time": "2024-07-13T09:21:38.805Z"
   },
   {
    "duration": 77,
    "start_time": "2024-07-13T09:21:38.815Z"
   },
   {
    "duration": 8,
    "start_time": "2024-07-13T09:21:38.894Z"
   },
   {
    "duration": 11,
    "start_time": "2024-07-13T09:21:38.904Z"
   },
   {
    "duration": 8,
    "start_time": "2024-07-13T09:21:38.917Z"
   },
   {
    "duration": 16,
    "start_time": "2024-07-13T09:21:38.927Z"
   },
   {
    "duration": 13,
    "start_time": "2024-07-13T09:21:38.948Z"
   },
   {
    "duration": 27,
    "start_time": "2024-07-13T09:21:38.963Z"
   },
   {
    "duration": 13,
    "start_time": "2024-07-13T09:21:38.992Z"
   },
   {
    "duration": 12,
    "start_time": "2024-07-13T09:21:39.007Z"
   },
   {
    "duration": 16,
    "start_time": "2024-07-13T09:21:39.020Z"
   },
   {
    "duration": 24,
    "start_time": "2024-07-13T09:21:39.037Z"
   },
   {
    "duration": 7,
    "start_time": "2024-07-13T09:21:39.065Z"
   },
   {
    "duration": 6,
    "start_time": "2024-07-13T09:21:39.074Z"
   },
   {
    "duration": 10,
    "start_time": "2024-07-13T09:21:39.083Z"
   },
   {
    "duration": 17,
    "start_time": "2024-07-13T09:21:39.096Z"
   },
   {
    "duration": 37,
    "start_time": "2024-07-13T09:21:39.116Z"
   },
   {
    "duration": 14,
    "start_time": "2024-07-13T09:23:22.390Z"
   },
   {
    "duration": 4,
    "start_time": "2024-07-13T09:23:31.909Z"
   },
   {
    "duration": 464,
    "start_time": "2024-07-13T09:23:31.915Z"
   },
   {
    "duration": 13,
    "start_time": "2024-07-13T09:23:32.382Z"
   },
   {
    "duration": 15,
    "start_time": "2024-07-13T09:23:32.397Z"
   },
   {
    "duration": 14,
    "start_time": "2024-07-13T09:23:32.415Z"
   },
   {
    "duration": 29,
    "start_time": "2024-07-13T09:23:32.431Z"
   },
   {
    "duration": 12,
    "start_time": "2024-07-13T09:23:32.462Z"
   },
   {
    "duration": 10,
    "start_time": "2024-07-13T09:23:32.476Z"
   },
   {
    "duration": 8,
    "start_time": "2024-07-13T09:23:32.488Z"
   },
   {
    "duration": 24,
    "start_time": "2024-07-13T09:23:32.497Z"
   },
   {
    "duration": 45,
    "start_time": "2024-07-13T09:23:32.524Z"
   },
   {
    "duration": 7,
    "start_time": "2024-07-13T09:23:32.576Z"
   },
   {
    "duration": 10,
    "start_time": "2024-07-13T09:23:32.585Z"
   },
   {
    "duration": 12,
    "start_time": "2024-07-13T09:23:32.598Z"
   },
   {
    "duration": 25,
    "start_time": "2024-07-13T09:23:32.611Z"
   },
   {
    "duration": 26,
    "start_time": "2024-07-13T09:23:32.637Z"
   },
   {
    "duration": 11,
    "start_time": "2024-07-13T09:23:32.666Z"
   },
   {
    "duration": 6,
    "start_time": "2024-07-13T09:23:32.679Z"
   },
   {
    "duration": 10,
    "start_time": "2024-07-13T09:23:57.974Z"
   },
   {
    "duration": 6,
    "start_time": "2024-07-13T09:25:01.577Z"
   },
   {
    "duration": 8,
    "start_time": "2024-07-13T09:26:32.771Z"
   },
   {
    "duration": 10,
    "start_time": "2024-07-13T09:26:41.731Z"
   },
   {
    "duration": 4,
    "start_time": "2024-07-13T09:27:01.220Z"
   },
   {
    "duration": 115,
    "start_time": "2024-07-13T09:27:01.227Z"
   },
   {
    "duration": 24,
    "start_time": "2024-07-13T09:27:01.345Z"
   },
   {
    "duration": 16,
    "start_time": "2024-07-13T09:27:01.371Z"
   },
   {
    "duration": 32,
    "start_time": "2024-07-13T09:27:01.390Z"
   },
   {
    "duration": 77,
    "start_time": "2024-07-13T09:27:01.424Z"
   },
   {
    "duration": 109,
    "start_time": "2024-07-13T09:27:01.503Z"
   },
   {
    "duration": 292,
    "start_time": "2024-07-13T09:27:01.615Z"
   },
   {
    "duration": 423,
    "start_time": "2024-07-13T09:27:01.909Z"
   },
   {
    "duration": 169,
    "start_time": "2024-07-13T09:27:02.333Z"
   },
   {
    "duration": 163,
    "start_time": "2024-07-13T09:27:02.504Z"
   },
   {
    "duration": 7,
    "start_time": "2024-07-13T09:27:02.672Z"
   },
   {
    "duration": 30,
    "start_time": "2024-07-13T09:27:02.682Z"
   },
   {
    "duration": 7,
    "start_time": "2024-07-13T09:27:02.715Z"
   },
   {
    "duration": 43,
    "start_time": "2024-07-13T09:27:02.724Z"
   },
   {
    "duration": 38,
    "start_time": "2024-07-13T09:27:02.769Z"
   },
   {
    "duration": 34,
    "start_time": "2024-07-13T09:27:02.809Z"
   },
   {
    "duration": 32,
    "start_time": "2024-07-13T09:27:02.845Z"
   },
   {
    "duration": 13,
    "start_time": "2024-07-13T09:27:02.879Z"
   },
   {
    "duration": 467,
    "start_time": "2024-07-13T09:33:52.641Z"
   },
   {
    "duration": 3,
    "start_time": "2024-07-13T09:33:55.379Z"
   },
   {
    "duration": 86,
    "start_time": "2024-07-13T09:33:55.385Z"
   },
   {
    "duration": 10,
    "start_time": "2024-07-13T09:33:55.473Z"
   },
   {
    "duration": 20,
    "start_time": "2024-07-13T09:33:55.486Z"
   },
   {
    "duration": 12,
    "start_time": "2024-07-13T09:33:55.508Z"
   },
   {
    "duration": 16,
    "start_time": "2024-07-13T09:33:55.521Z"
   },
   {
    "duration": 10,
    "start_time": "2024-07-13T09:33:55.545Z"
   },
   {
    "duration": 25,
    "start_time": "2024-07-13T09:33:55.557Z"
   },
   {
    "duration": 38,
    "start_time": "2024-07-13T09:33:55.584Z"
   },
   {
    "duration": 27,
    "start_time": "2024-07-13T09:33:55.626Z"
   },
   {
    "duration": 16,
    "start_time": "2024-07-13T09:33:55.659Z"
   },
   {
    "duration": 18,
    "start_time": "2024-07-13T09:33:55.677Z"
   },
   {
    "duration": 27,
    "start_time": "2024-07-13T09:33:55.697Z"
   },
   {
    "duration": 29,
    "start_time": "2024-07-13T09:33:55.726Z"
   },
   {
    "duration": 49,
    "start_time": "2024-07-13T09:33:55.759Z"
   },
   {
    "duration": 34,
    "start_time": "2024-07-13T09:33:55.810Z"
   },
   {
    "duration": 38,
    "start_time": "2024-07-13T09:33:55.845Z"
   },
   {
    "duration": 27,
    "start_time": "2024-07-13T09:33:55.885Z"
   },
   {
    "duration": 46,
    "start_time": "2024-07-13T09:33:55.915Z"
   },
   {
    "duration": 145,
    "start_time": "2024-07-13T09:35:30.760Z"
   },
   {
    "duration": 3,
    "start_time": "2024-07-13T09:35:43.058Z"
   },
   {
    "duration": 83,
    "start_time": "2024-07-13T09:35:43.063Z"
   },
   {
    "duration": 8,
    "start_time": "2024-07-13T09:35:43.148Z"
   },
   {
    "duration": 12,
    "start_time": "2024-07-13T09:35:43.158Z"
   },
   {
    "duration": 14,
    "start_time": "2024-07-13T09:35:43.173Z"
   },
   {
    "duration": 11,
    "start_time": "2024-07-13T09:35:43.189Z"
   },
   {
    "duration": 7,
    "start_time": "2024-07-13T09:35:43.202Z"
   },
   {
    "duration": 39,
    "start_time": "2024-07-13T09:35:43.211Z"
   },
   {
    "duration": 7,
    "start_time": "2024-07-13T09:35:43.252Z"
   },
   {
    "duration": 31,
    "start_time": "2024-07-13T09:35:43.261Z"
   },
   {
    "duration": 11,
    "start_time": "2024-07-13T09:35:43.294Z"
   },
   {
    "duration": 5,
    "start_time": "2024-07-13T09:35:43.307Z"
   },
   {
    "duration": 9,
    "start_time": "2024-07-13T09:35:43.313Z"
   },
   {
    "duration": 21,
    "start_time": "2024-07-13T09:35:43.325Z"
   },
   {
    "duration": 11,
    "start_time": "2024-07-13T09:35:43.347Z"
   },
   {
    "duration": 16,
    "start_time": "2024-07-13T09:35:43.359Z"
   },
   {
    "duration": 8,
    "start_time": "2024-07-13T09:35:43.377Z"
   },
   {
    "duration": 6,
    "start_time": "2024-07-13T09:35:43.386Z"
   },
   {
    "duration": 49,
    "start_time": "2024-07-13T09:35:43.393Z"
   },
   {
    "duration": 132,
    "start_time": "2024-07-13T09:35:43.444Z"
   },
   {
    "duration": 381,
    "start_time": "2024-07-13T09:35:58.375Z"
   },
   {
    "duration": 85,
    "start_time": "2024-07-13T09:37:52.737Z"
   },
   {
    "duration": 13,
    "start_time": "2024-07-13T09:38:07.490Z"
   },
   {
    "duration": 220,
    "start_time": "2024-07-13T09:38:25.061Z"
   },
   {
    "duration": 160,
    "start_time": "2024-07-13T09:38:40.143Z"
   },
   {
    "duration": 182,
    "start_time": "2024-07-13T09:38:46.774Z"
   },
   {
    "duration": 194,
    "start_time": "2024-07-13T09:40:59.898Z"
   },
   {
    "duration": 185,
    "start_time": "2024-07-13T09:42:29.063Z"
   },
   {
    "duration": 66,
    "start_time": "2024-07-13T09:44:37.065Z"
   },
   {
    "duration": 65,
    "start_time": "2024-07-13T09:44:56.703Z"
   },
   {
    "duration": 193,
    "start_time": "2024-07-13T09:45:39.160Z"
   },
   {
    "duration": 3,
    "start_time": "2024-07-13T09:45:45.683Z"
   },
   {
    "duration": 74,
    "start_time": "2024-07-13T09:45:45.688Z"
   },
   {
    "duration": 8,
    "start_time": "2024-07-13T09:45:45.764Z"
   },
   {
    "duration": 11,
    "start_time": "2024-07-13T09:45:45.774Z"
   },
   {
    "duration": 9,
    "start_time": "2024-07-13T09:45:45.787Z"
   },
   {
    "duration": 12,
    "start_time": "2024-07-13T09:45:45.797Z"
   },
   {
    "duration": 7,
    "start_time": "2024-07-13T09:45:45.810Z"
   },
   {
    "duration": 33,
    "start_time": "2024-07-13T09:45:45.819Z"
   },
   {
    "duration": 15,
    "start_time": "2024-07-13T09:45:45.854Z"
   },
   {
    "duration": 10,
    "start_time": "2024-07-13T09:45:45.871Z"
   },
   {
    "duration": 10,
    "start_time": "2024-07-13T09:45:45.883Z"
   },
   {
    "duration": 6,
    "start_time": "2024-07-13T09:45:45.895Z"
   },
   {
    "duration": 7,
    "start_time": "2024-07-13T09:45:45.903Z"
   },
   {
    "duration": 35,
    "start_time": "2024-07-13T09:45:45.912Z"
   },
   {
    "duration": 18,
    "start_time": "2024-07-13T09:45:45.949Z"
   },
   {
    "duration": 10,
    "start_time": "2024-07-13T09:45:45.969Z"
   },
   {
    "duration": 38,
    "start_time": "2024-07-13T09:45:45.981Z"
   },
   {
    "duration": 6,
    "start_time": "2024-07-13T09:45:46.020Z"
   },
   {
    "duration": 19,
    "start_time": "2024-07-13T09:45:46.027Z"
   },
   {
    "duration": 231,
    "start_time": "2024-07-13T09:45:46.047Z"
   },
   {
    "duration": 168,
    "start_time": "2024-07-13T09:45:59.959Z"
   },
   {
    "duration": 25,
    "start_time": "2024-07-13T09:47:19.382Z"
   },
   {
    "duration": 298,
    "start_time": "2024-07-13T09:47:48.524Z"
   },
   {
    "duration": 198,
    "start_time": "2024-07-13T09:47:53.360Z"
   },
   {
    "duration": 311,
    "start_time": "2024-07-13T09:48:02.559Z"
   },
   {
    "duration": 22,
    "start_time": "2024-07-13T09:49:02.619Z"
   },
   {
    "duration": 219,
    "start_time": "2024-07-13T09:49:19.518Z"
   },
   {
    "duration": 242,
    "start_time": "2024-07-13T09:49:45.321Z"
   },
   {
    "duration": 217,
    "start_time": "2024-07-13T09:49:55.929Z"
   },
   {
    "duration": 17,
    "start_time": "2024-07-13T09:50:39.742Z"
   },
   {
    "duration": 16,
    "start_time": "2024-07-13T09:51:34.844Z"
   },
   {
    "duration": 211,
    "start_time": "2024-07-13T09:51:40.104Z"
   },
   {
    "duration": 227,
    "start_time": "2024-07-13T09:53:13.177Z"
   },
   {
    "duration": 198,
    "start_time": "2024-07-13T09:53:25.572Z"
   },
   {
    "duration": 3,
    "start_time": "2024-07-13T09:53:30.076Z"
   },
   {
    "duration": 101,
    "start_time": "2024-07-13T09:53:30.082Z"
   },
   {
    "duration": 9,
    "start_time": "2024-07-13T09:53:30.185Z"
   },
   {
    "duration": 64,
    "start_time": "2024-07-13T09:53:30.196Z"
   },
   {
    "duration": 95,
    "start_time": "2024-07-13T09:53:30.263Z"
   },
   {
    "duration": 220,
    "start_time": "2024-07-13T09:53:30.360Z"
   },
   {
    "duration": 295,
    "start_time": "2024-07-13T09:53:30.582Z"
   },
   {
    "duration": 250,
    "start_time": "2024-07-13T09:53:30.879Z"
   },
   {
    "duration": 253,
    "start_time": "2024-07-13T09:53:31.131Z"
   },
   {
    "duration": 140,
    "start_time": "2024-07-13T09:53:31.386Z"
   },
   {
    "duration": 63,
    "start_time": "2024-07-13T09:53:31.527Z"
   },
   {
    "duration": 6,
    "start_time": "2024-07-13T09:53:31.592Z"
   },
   {
    "duration": 11,
    "start_time": "2024-07-13T09:53:31.600Z"
   },
   {
    "duration": 77,
    "start_time": "2024-07-13T09:53:31.614Z"
   },
   {
    "duration": 633,
    "start_time": "2024-07-13T09:53:31.693Z"
   },
   {
    "duration": 10,
    "start_time": "2024-07-13T09:53:32.328Z"
   },
   {
    "duration": 11,
    "start_time": "2024-07-13T09:53:32.339Z"
   },
   {
    "duration": 15,
    "start_time": "2024-07-13T09:53:32.352Z"
   },
   {
    "duration": 7,
    "start_time": "2024-07-13T09:53:32.369Z"
   },
   {
    "duration": 221,
    "start_time": "2024-07-13T09:53:32.377Z"
   },
   {
    "duration": 209,
    "start_time": "2024-07-13T09:54:00.169Z"
   },
   {
    "duration": 3,
    "start_time": "2024-07-13T09:54:10.656Z"
   },
   {
    "duration": 87,
    "start_time": "2024-07-13T09:54:10.661Z"
   },
   {
    "duration": 9,
    "start_time": "2024-07-13T09:54:10.749Z"
   },
   {
    "duration": 41,
    "start_time": "2024-07-13T09:54:10.759Z"
   },
   {
    "duration": 26,
    "start_time": "2024-07-13T09:54:10.802Z"
   },
   {
    "duration": 42,
    "start_time": "2024-07-13T09:54:10.830Z"
   },
   {
    "duration": 51,
    "start_time": "2024-07-13T09:54:10.874Z"
   },
   {
    "duration": 32,
    "start_time": "2024-07-13T09:54:10.927Z"
   },
   {
    "duration": 40,
    "start_time": "2024-07-13T09:54:10.961Z"
   },
   {
    "duration": 48,
    "start_time": "2024-07-13T09:54:11.003Z"
   },
   {
    "duration": 30,
    "start_time": "2024-07-13T09:54:11.053Z"
   },
   {
    "duration": 42,
    "start_time": "2024-07-13T09:54:11.085Z"
   },
   {
    "duration": 44,
    "start_time": "2024-07-13T09:54:11.128Z"
   },
   {
    "duration": 26,
    "start_time": "2024-07-13T09:54:11.174Z"
   },
   {
    "duration": 33,
    "start_time": "2024-07-13T09:54:11.201Z"
   },
   {
    "duration": 60,
    "start_time": "2024-07-13T09:54:11.235Z"
   },
   {
    "duration": 87,
    "start_time": "2024-07-13T09:54:11.296Z"
   },
   {
    "duration": 71,
    "start_time": "2024-07-13T09:54:11.385Z"
   },
   {
    "duration": 56,
    "start_time": "2024-07-13T09:54:11.458Z"
   },
   {
    "duration": 238,
    "start_time": "2024-07-13T09:54:11.516Z"
   },
   {
    "duration": 212,
    "start_time": "2024-07-13T09:54:28.678Z"
   },
   {
    "duration": 281,
    "start_time": "2024-07-13T09:54:40.717Z"
   },
   {
    "duration": 214,
    "start_time": "2024-07-13T09:54:48.262Z"
   },
   {
    "duration": 202,
    "start_time": "2024-07-13T09:57:55.723Z"
   },
   {
    "duration": 3,
    "start_time": "2024-07-13T09:58:12.992Z"
   },
   {
    "duration": 93,
    "start_time": "2024-07-13T09:58:12.997Z"
   },
   {
    "duration": 10,
    "start_time": "2024-07-13T09:58:13.092Z"
   },
   {
    "duration": 22,
    "start_time": "2024-07-13T09:58:13.104Z"
   },
   {
    "duration": 45,
    "start_time": "2024-07-13T09:58:13.129Z"
   },
   {
    "duration": 43,
    "start_time": "2024-07-13T09:58:13.176Z"
   },
   {
    "duration": 46,
    "start_time": "2024-07-13T09:58:13.221Z"
   },
   {
    "duration": 29,
    "start_time": "2024-07-13T09:58:13.269Z"
   },
   {
    "duration": 53,
    "start_time": "2024-07-13T09:58:13.300Z"
   },
   {
    "duration": 26,
    "start_time": "2024-07-13T09:58:13.355Z"
   },
   {
    "duration": 23,
    "start_time": "2024-07-13T09:58:13.383Z"
   },
   {
    "duration": 6,
    "start_time": "2024-07-13T09:58:13.407Z"
   },
   {
    "duration": 28,
    "start_time": "2024-07-13T09:58:13.415Z"
   },
   {
    "duration": 19,
    "start_time": "2024-07-13T09:58:13.446Z"
   },
   {
    "duration": 26,
    "start_time": "2024-07-13T09:58:13.467Z"
   },
   {
    "duration": 21,
    "start_time": "2024-07-13T09:58:13.495Z"
   },
   {
    "duration": 30,
    "start_time": "2024-07-13T09:58:13.517Z"
   },
   {
    "duration": 26,
    "start_time": "2024-07-13T09:58:13.549Z"
   },
   {
    "duration": 19,
    "start_time": "2024-07-13T09:58:13.577Z"
   },
   {
    "duration": 243,
    "start_time": "2024-07-13T09:58:13.598Z"
   },
   {
    "duration": 218,
    "start_time": "2024-07-13T09:58:32.118Z"
   },
   {
    "duration": 196,
    "start_time": "2024-07-13T10:01:27.872Z"
   },
   {
    "duration": 10,
    "start_time": "2024-07-13T10:02:54.782Z"
   },
   {
    "duration": 3,
    "start_time": "2024-07-13T10:02:59.947Z"
   },
   {
    "duration": 85,
    "start_time": "2024-07-13T10:02:59.952Z"
   },
   {
    "duration": 10,
    "start_time": "2024-07-13T10:03:00.039Z"
   },
   {
    "duration": 107,
    "start_time": "2024-07-13T10:03:00.050Z"
   },
   {
    "duration": 42,
    "start_time": "2024-07-13T10:03:00.159Z"
   },
   {
    "duration": 48,
    "start_time": "2024-07-13T10:03:00.203Z"
   },
   {
    "duration": 100,
    "start_time": "2024-07-13T10:03:00.253Z"
   },
   {
    "duration": 232,
    "start_time": "2024-07-13T10:03:00.354Z"
   },
   {
    "duration": 125,
    "start_time": "2024-07-13T10:03:00.587Z"
   },
   {
    "duration": 79,
    "start_time": "2024-07-13T10:03:00.714Z"
   },
   {
    "duration": 84,
    "start_time": "2024-07-13T10:03:00.795Z"
   },
   {
    "duration": 48,
    "start_time": "2024-07-13T10:03:00.880Z"
   },
   {
    "duration": 41,
    "start_time": "2024-07-13T10:03:00.930Z"
   },
   {
    "duration": 70,
    "start_time": "2024-07-13T10:03:00.974Z"
   },
   {
    "duration": 46,
    "start_time": "2024-07-13T10:03:01.046Z"
   },
   {
    "duration": 135,
    "start_time": "2024-07-13T10:03:01.094Z"
   },
   {
    "duration": 37,
    "start_time": "2024-07-13T10:03:01.231Z"
   },
   {
    "duration": 10,
    "start_time": "2024-07-13T10:03:01.270Z"
   },
   {
    "duration": 36,
    "start_time": "2024-07-13T10:03:01.282Z"
   },
   {
    "duration": 250,
    "start_time": "2024-07-13T10:03:01.320Z"
   },
   {
    "duration": 9,
    "start_time": "2024-07-13T10:03:01.572Z"
   },
   {
    "duration": 194,
    "start_time": "2024-07-13T10:03:23.396Z"
   },
   {
    "duration": 173,
    "start_time": "2024-07-13T10:03:31.672Z"
   },
   {
    "duration": 161,
    "start_time": "2024-07-13T10:03:35.871Z"
   },
   {
    "duration": 17,
    "start_time": "2024-07-13T10:04:55.816Z"
   },
   {
    "duration": 17,
    "start_time": "2024-07-13T10:05:28.699Z"
   },
   {
    "duration": 1001,
    "start_time": "2024-07-13T10:05:50.721Z"
   },
   {
    "duration": 3,
    "start_time": "2024-07-13T10:06:55.515Z"
   },
   {
    "duration": 112,
    "start_time": "2024-07-13T10:06:55.519Z"
   },
   {
    "duration": 8,
    "start_time": "2024-07-13T10:06:55.633Z"
   },
   {
    "duration": 32,
    "start_time": "2024-07-13T10:06:55.643Z"
   },
   {
    "duration": 23,
    "start_time": "2024-07-13T10:06:55.677Z"
   },
   {
    "duration": 35,
    "start_time": "2024-07-13T10:06:55.702Z"
   },
   {
    "duration": 23,
    "start_time": "2024-07-13T10:06:55.738Z"
   },
   {
    "duration": 27,
    "start_time": "2024-07-13T10:06:55.763Z"
   },
   {
    "duration": 20,
    "start_time": "2024-07-13T10:06:55.791Z"
   },
   {
    "duration": 23,
    "start_time": "2024-07-13T10:06:55.814Z"
   },
   {
    "duration": 34,
    "start_time": "2024-07-13T10:06:55.839Z"
   },
   {
    "duration": 17,
    "start_time": "2024-07-13T10:06:55.875Z"
   },
   {
    "duration": 23,
    "start_time": "2024-07-13T10:06:55.894Z"
   },
   {
    "duration": 32,
    "start_time": "2024-07-13T10:06:55.918Z"
   },
   {
    "duration": 110,
    "start_time": "2024-07-13T10:06:55.952Z"
   },
   {
    "duration": 38,
    "start_time": "2024-07-13T10:06:56.064Z"
   },
   {
    "duration": 26,
    "start_time": "2024-07-13T10:06:56.104Z"
   },
   {
    "duration": 12,
    "start_time": "2024-07-13T10:06:56.132Z"
   },
   {
    "duration": 24,
    "start_time": "2024-07-13T10:06:56.146Z"
   },
   {
    "duration": 220,
    "start_time": "2024-07-13T10:06:56.172Z"
   },
   {
    "duration": 988,
    "start_time": "2024-07-13T10:06:56.394Z"
   },
   {
    "duration": 224,
    "start_time": "2024-07-13T10:07:26.462Z"
   },
   {
    "duration": 136,
    "start_time": "2024-07-13T10:07:50.050Z"
   },
   {
    "duration": 152,
    "start_time": "2024-07-13T10:08:37.439Z"
   },
   {
    "duration": 154,
    "start_time": "2024-07-13T10:09:38.899Z"
   },
   {
    "duration": 188,
    "start_time": "2024-07-13T10:14:05.984Z"
   },
   {
    "duration": 200,
    "start_time": "2024-07-13T10:14:57.353Z"
   },
   {
    "duration": 201,
    "start_time": "2024-07-13T10:16:53.347Z"
   },
   {
    "duration": 3,
    "start_time": "2024-07-13T10:17:56.910Z"
   },
   {
    "duration": 70,
    "start_time": "2024-07-13T10:17:56.915Z"
   },
   {
    "duration": 8,
    "start_time": "2024-07-13T10:17:56.987Z"
   },
   {
    "duration": 21,
    "start_time": "2024-07-13T10:17:56.998Z"
   },
   {
    "duration": 11,
    "start_time": "2024-07-13T10:17:57.021Z"
   },
   {
    "duration": 12,
    "start_time": "2024-07-13T10:17:57.033Z"
   },
   {
    "duration": 7,
    "start_time": "2024-07-13T10:17:57.047Z"
   },
   {
    "duration": 17,
    "start_time": "2024-07-13T10:17:57.055Z"
   },
   {
    "duration": 16,
    "start_time": "2024-07-13T10:17:57.074Z"
   },
   {
    "duration": 10,
    "start_time": "2024-07-13T10:17:57.093Z"
   },
   {
    "duration": 22,
    "start_time": "2024-07-13T10:17:57.104Z"
   },
   {
    "duration": 19,
    "start_time": "2024-07-13T10:17:57.128Z"
   },
   {
    "duration": 7,
    "start_time": "2024-07-13T10:17:57.148Z"
   },
   {
    "duration": 19,
    "start_time": "2024-07-13T10:17:57.156Z"
   },
   {
    "duration": 10,
    "start_time": "2024-07-13T10:17:57.176Z"
   },
   {
    "duration": 31,
    "start_time": "2024-07-13T10:17:57.188Z"
   },
   {
    "duration": 9,
    "start_time": "2024-07-13T10:17:57.221Z"
   },
   {
    "duration": 5,
    "start_time": "2024-07-13T10:17:57.232Z"
   },
   {
    "duration": 5,
    "start_time": "2024-07-13T10:17:57.239Z"
   },
   {
    "duration": 212,
    "start_time": "2024-07-13T10:17:57.246Z"
   },
   {
    "duration": 157,
    "start_time": "2024-07-13T10:17:57.459Z"
   },
   {
    "duration": 219,
    "start_time": "2024-07-13T10:17:57.618Z"
   },
   {
    "duration": 9,
    "start_time": "2024-07-13T10:20:32.378Z"
   },
   {
    "duration": 503,
    "start_time": "2024-07-13T10:20:39.419Z"
   },
   {
    "duration": 84,
    "start_time": "2024-07-13T10:20:56.115Z"
   },
   {
    "duration": 65,
    "start_time": "2024-07-13T10:21:08.436Z"
   },
   {
    "duration": 59,
    "start_time": "2024-07-13T10:21:13.790Z"
   },
   {
    "duration": 62,
    "start_time": "2024-07-13T10:21:26.569Z"
   },
   {
    "duration": 412,
    "start_time": "2024-07-13T10:21:32.613Z"
   },
   {
    "duration": 851,
    "start_time": "2024-07-13T10:22:58.076Z"
   },
   {
    "duration": 268,
    "start_time": "2024-07-13T10:23:06.799Z"
   },
   {
    "duration": 581,
    "start_time": "2024-07-13T10:24:35.100Z"
   },
   {
    "duration": 299,
    "start_time": "2024-07-13T10:25:01.951Z"
   },
   {
    "duration": 365,
    "start_time": "2024-07-13T10:25:12.524Z"
   },
   {
    "duration": 442,
    "start_time": "2024-07-13T10:25:22.766Z"
   },
   {
    "duration": 439,
    "start_time": "2024-07-13T10:26:10.658Z"
   },
   {
    "duration": 9,
    "start_time": "2024-07-13T10:29:16.354Z"
   },
   {
    "duration": 3,
    "start_time": "2024-07-13T10:30:55.303Z"
   },
   {
    "duration": 82,
    "start_time": "2024-07-13T10:30:55.308Z"
   },
   {
    "duration": 8,
    "start_time": "2024-07-13T10:30:55.392Z"
   },
   {
    "duration": 16,
    "start_time": "2024-07-13T10:30:55.402Z"
   },
   {
    "duration": 9,
    "start_time": "2024-07-13T10:30:55.419Z"
   },
   {
    "duration": 12,
    "start_time": "2024-07-13T10:30:55.430Z"
   },
   {
    "duration": 14,
    "start_time": "2024-07-13T10:30:55.444Z"
   },
   {
    "duration": 11,
    "start_time": "2024-07-13T10:30:55.459Z"
   },
   {
    "duration": 7,
    "start_time": "2024-07-13T10:30:55.471Z"
   },
   {
    "duration": 11,
    "start_time": "2024-07-13T10:30:55.481Z"
   },
   {
    "duration": 133,
    "start_time": "2024-07-13T10:30:55.494Z"
   },
   {
    "duration": 7,
    "start_time": "2024-07-13T10:30:55.629Z"
   },
   {
    "duration": 5,
    "start_time": "2024-07-13T10:30:55.647Z"
   },
   {
    "duration": 4,
    "start_time": "2024-07-13T10:30:55.654Z"
   },
   {
    "duration": 15,
    "start_time": "2024-07-13T10:30:55.659Z"
   },
   {
    "duration": 6,
    "start_time": "2024-07-13T10:30:55.676Z"
   },
   {
    "duration": 8,
    "start_time": "2024-07-13T10:30:55.684Z"
   },
   {
    "duration": 7,
    "start_time": "2024-07-13T10:30:55.694Z"
   },
   {
    "duration": 55,
    "start_time": "2024-07-13T10:30:55.703Z"
   },
   {
    "duration": 223,
    "start_time": "2024-07-13T10:30:55.760Z"
   },
   {
    "duration": 151,
    "start_time": "2024-07-13T10:30:55.985Z"
   },
   {
    "duration": 196,
    "start_time": "2024-07-13T10:30:56.138Z"
   },
   {
    "duration": 410,
    "start_time": "2024-07-13T10:30:56.336Z"
   },
   {
    "duration": 10,
    "start_time": "2024-07-13T10:30:56.747Z"
   },
   {
    "duration": 397,
    "start_time": "2024-07-13T10:32:44.153Z"
   },
   {
    "duration": 478,
    "start_time": "2024-07-13T10:33:21.993Z"
   },
   {
    "duration": 10,
    "start_time": "2024-07-13T10:34:00.381Z"
   },
   {
    "duration": 3,
    "start_time": "2024-07-13T10:37:01.618Z"
   },
   {
    "duration": 100,
    "start_time": "2024-07-13T10:37:01.623Z"
   },
   {
    "duration": 9,
    "start_time": "2024-07-13T10:37:01.725Z"
   },
   {
    "duration": 76,
    "start_time": "2024-07-13T10:37:01.735Z"
   },
   {
    "duration": 47,
    "start_time": "2024-07-13T10:37:01.813Z"
   },
   {
    "duration": 59,
    "start_time": "2024-07-13T10:37:01.862Z"
   },
   {
    "duration": 115,
    "start_time": "2024-07-13T10:37:01.922Z"
   },
   {
    "duration": 73,
    "start_time": "2024-07-13T10:37:02.039Z"
   },
   {
    "duration": 61,
    "start_time": "2024-07-13T10:37:02.114Z"
   },
   {
    "duration": 234,
    "start_time": "2024-07-13T10:37:02.177Z"
   },
   {
    "duration": 43,
    "start_time": "2024-07-13T10:37:02.412Z"
   },
   {
    "duration": 6,
    "start_time": "2024-07-13T10:37:02.457Z"
   },
   {
    "duration": 16,
    "start_time": "2024-07-13T10:37:02.465Z"
   },
   {
    "duration": 33,
    "start_time": "2024-07-13T10:37:02.484Z"
   },
   {
    "duration": 12,
    "start_time": "2024-07-13T10:37:02.519Z"
   },
   {
    "duration": 11,
    "start_time": "2024-07-13T10:37:02.533Z"
   },
   {
    "duration": 12,
    "start_time": "2024-07-13T10:37:02.547Z"
   },
   {
    "duration": 7,
    "start_time": "2024-07-13T10:37:02.561Z"
   },
   {
    "duration": 9,
    "start_time": "2024-07-13T10:37:02.570Z"
   },
   {
    "duration": 239,
    "start_time": "2024-07-13T10:37:02.581Z"
   },
   {
    "duration": 161,
    "start_time": "2024-07-13T10:37:02.822Z"
   },
   {
    "duration": 241,
    "start_time": "2024-07-13T10:37:02.985Z"
   },
   {
    "duration": 410,
    "start_time": "2024-07-13T10:37:03.227Z"
   },
   {
    "duration": 12,
    "start_time": "2024-07-13T10:37:03.639Z"
   },
   {
    "duration": 406,
    "start_time": "2024-07-13T10:37:03.653Z"
   },
   {
    "duration": 9,
    "start_time": "2024-07-13T10:37:04.060Z"
   },
   {
    "duration": 8,
    "start_time": "2024-07-13T10:42:17.054Z"
   },
   {
    "duration": 24,
    "start_time": "2024-07-13T10:42:32.979Z"
   },
   {
    "duration": 16,
    "start_time": "2024-07-13T10:43:06.791Z"
   },
   {
    "duration": 19,
    "start_time": "2024-07-13T10:46:20.200Z"
   },
   {
    "duration": 21,
    "start_time": "2024-07-13T10:47:44.268Z"
   },
   {
    "duration": 60,
    "start_time": "2024-07-13T10:47:50.789Z"
   },
   {
    "duration": 28,
    "start_time": "2024-07-13T10:48:09.686Z"
   },
   {
    "duration": 19,
    "start_time": "2024-07-13T10:49:37.739Z"
   },
   {
    "duration": 19,
    "start_time": "2024-07-13T10:49:47.624Z"
   },
   {
    "duration": 35,
    "start_time": "2024-07-13T10:50:48.050Z"
   },
   {
    "duration": 45,
    "start_time": "2024-07-13T10:50:58.512Z"
   },
   {
    "duration": 16,
    "start_time": "2024-07-13T10:51:28.030Z"
   },
   {
    "duration": 25,
    "start_time": "2024-07-13T10:51:37.163Z"
   },
   {
    "duration": 22,
    "start_time": "2024-07-13T10:52:11.893Z"
   },
   {
    "duration": 2,
    "start_time": "2024-07-13T10:52:15.065Z"
   },
   {
    "duration": 132,
    "start_time": "2024-07-13T10:52:15.069Z"
   },
   {
    "duration": 8,
    "start_time": "2024-07-13T10:52:15.203Z"
   },
   {
    "duration": 71,
    "start_time": "2024-07-13T10:52:15.213Z"
   },
   {
    "duration": 38,
    "start_time": "2024-07-13T10:52:15.286Z"
   },
   {
    "duration": 22,
    "start_time": "2024-07-13T10:52:15.326Z"
   },
   {
    "duration": 18,
    "start_time": "2024-07-13T10:52:15.350Z"
   },
   {
    "duration": 12,
    "start_time": "2024-07-13T10:52:15.370Z"
   },
   {
    "duration": 19,
    "start_time": "2024-07-13T10:52:15.383Z"
   },
   {
    "duration": 20,
    "start_time": "2024-07-13T10:52:15.405Z"
   },
   {
    "duration": 24,
    "start_time": "2024-07-13T10:52:15.427Z"
   },
   {
    "duration": 6,
    "start_time": "2024-07-13T10:52:15.452Z"
   },
   {
    "duration": 16,
    "start_time": "2024-07-13T10:52:15.459Z"
   },
   {
    "duration": 6,
    "start_time": "2024-07-13T10:52:15.476Z"
   },
   {
    "duration": 14,
    "start_time": "2024-07-13T10:52:15.484Z"
   },
   {
    "duration": 10,
    "start_time": "2024-07-13T10:52:15.499Z"
   },
   {
    "duration": 8,
    "start_time": "2024-07-13T10:52:15.511Z"
   },
   {
    "duration": 30,
    "start_time": "2024-07-13T10:52:15.520Z"
   },
   {
    "duration": 12,
    "start_time": "2024-07-13T10:52:15.552Z"
   },
   {
    "duration": 207,
    "start_time": "2024-07-13T10:52:15.565Z"
   },
   {
    "duration": 250,
    "start_time": "2024-07-13T10:52:15.774Z"
   },
   {
    "duration": 249,
    "start_time": "2024-07-13T10:52:16.026Z"
   },
   {
    "duration": 435,
    "start_time": "2024-07-13T10:52:16.277Z"
   },
   {
    "duration": 11,
    "start_time": "2024-07-13T10:52:16.715Z"
   },
   {
    "duration": 439,
    "start_time": "2024-07-13T10:52:16.728Z"
   },
   {
    "duration": 10,
    "start_time": "2024-07-13T10:52:17.168Z"
   },
   {
    "duration": 28,
    "start_time": "2024-07-13T10:52:17.180Z"
   },
   {
    "duration": 20,
    "start_time": "2024-07-13T10:53:00.348Z"
   },
   {
    "duration": 17,
    "start_time": "2024-07-13T11:02:02.338Z"
   },
   {
    "duration": 10,
    "start_time": "2024-07-13T11:02:56.989Z"
   },
   {
    "duration": 9,
    "start_time": "2024-07-13T11:04:36.784Z"
   },
   {
    "duration": 3,
    "start_time": "2024-07-13T11:04:39.596Z"
   },
   {
    "duration": 80,
    "start_time": "2024-07-13T11:04:39.601Z"
   },
   {
    "duration": 12,
    "start_time": "2024-07-13T11:04:39.683Z"
   },
   {
    "duration": 18,
    "start_time": "2024-07-13T11:04:39.698Z"
   },
   {
    "duration": 13,
    "start_time": "2024-07-13T11:04:39.718Z"
   },
   {
    "duration": 21,
    "start_time": "2024-07-13T11:04:39.734Z"
   },
   {
    "duration": 11,
    "start_time": "2024-07-13T11:04:39.757Z"
   },
   {
    "duration": 16,
    "start_time": "2024-07-13T11:04:39.771Z"
   },
   {
    "duration": 12,
    "start_time": "2024-07-13T11:04:39.790Z"
   },
   {
    "duration": 45,
    "start_time": "2024-07-13T11:04:39.807Z"
   },
   {
    "duration": 15,
    "start_time": "2024-07-13T11:04:39.854Z"
   },
   {
    "duration": 8,
    "start_time": "2024-07-13T11:04:39.871Z"
   },
   {
    "duration": 23,
    "start_time": "2024-07-13T11:04:39.881Z"
   },
   {
    "duration": 8,
    "start_time": "2024-07-13T11:04:39.907Z"
   },
   {
    "duration": 40,
    "start_time": "2024-07-13T11:04:39.918Z"
   },
   {
    "duration": 9,
    "start_time": "2024-07-13T11:04:39.960Z"
   },
   {
    "duration": 11,
    "start_time": "2024-07-13T11:04:39.971Z"
   },
   {
    "duration": 8,
    "start_time": "2024-07-13T11:04:39.985Z"
   },
   {
    "duration": 32,
    "start_time": "2024-07-13T11:04:39.995Z"
   },
   {
    "duration": 225,
    "start_time": "2024-07-13T11:04:40.029Z"
   },
   {
    "duration": 186,
    "start_time": "2024-07-13T11:04:40.256Z"
   },
   {
    "duration": 224,
    "start_time": "2024-07-13T11:04:40.446Z"
   },
   {
    "duration": 540,
    "start_time": "2024-07-13T11:04:40.672Z"
   },
   {
    "duration": 13,
    "start_time": "2024-07-13T11:04:41.214Z"
   },
   {
    "duration": 460,
    "start_time": "2024-07-13T11:04:41.230Z"
   },
   {
    "duration": 14,
    "start_time": "2024-07-13T11:04:41.691Z"
   },
   {
    "duration": 47,
    "start_time": "2024-07-13T11:04:41.707Z"
   },
   {
    "duration": 16,
    "start_time": "2024-07-13T11:04:41.758Z"
   },
   {
    "duration": 11,
    "start_time": "2024-07-13T11:04:41.777Z"
   },
   {
    "duration": 11,
    "start_time": "2024-07-13T11:04:41.790Z"
   },
   {
    "duration": 426,
    "start_time": "2024-07-13T11:11:38.905Z"
   },
   {
    "duration": 910,
    "start_time": "2024-07-13T11:12:10.683Z"
   },
   {
    "duration": 785,
    "start_time": "2024-07-13T11:14:14.215Z"
   },
   {
    "duration": 946,
    "start_time": "2024-07-13T11:16:12.211Z"
   },
   {
    "duration": 666,
    "start_time": "2024-07-13T11:19:50.559Z"
   },
   {
    "duration": 963,
    "start_time": "2024-07-13T11:20:18.180Z"
   },
   {
    "duration": 3,
    "start_time": "2024-07-13T11:20:37.381Z"
   },
   {
    "duration": 84,
    "start_time": "2024-07-13T11:20:37.386Z"
   },
   {
    "duration": 10,
    "start_time": "2024-07-13T11:20:37.471Z"
   },
   {
    "duration": 14,
    "start_time": "2024-07-13T11:20:37.483Z"
   },
   {
    "duration": 14,
    "start_time": "2024-07-13T11:20:37.499Z"
   },
   {
    "duration": 21,
    "start_time": "2024-07-13T11:20:37.515Z"
   },
   {
    "duration": 9,
    "start_time": "2024-07-13T11:20:37.548Z"
   },
   {
    "duration": 11,
    "start_time": "2024-07-13T11:20:37.561Z"
   },
   {
    "duration": 10,
    "start_time": "2024-07-13T11:20:37.574Z"
   },
   {
    "duration": 30,
    "start_time": "2024-07-13T11:20:37.588Z"
   },
   {
    "duration": 35,
    "start_time": "2024-07-13T11:20:37.621Z"
   },
   {
    "duration": 6,
    "start_time": "2024-07-13T11:20:37.658Z"
   },
   {
    "duration": 8,
    "start_time": "2024-07-13T11:20:37.666Z"
   },
   {
    "duration": 6,
    "start_time": "2024-07-13T11:20:37.676Z"
   },
   {
    "duration": 11,
    "start_time": "2024-07-13T11:20:37.683Z"
   },
   {
    "duration": 6,
    "start_time": "2024-07-13T11:20:37.696Z"
   },
   {
    "duration": 50,
    "start_time": "2024-07-13T11:20:37.703Z"
   },
   {
    "duration": 8,
    "start_time": "2024-07-13T11:20:37.755Z"
   },
   {
    "duration": 16,
    "start_time": "2024-07-13T11:20:37.765Z"
   },
   {
    "duration": 235,
    "start_time": "2024-07-13T11:20:37.783Z"
   },
   {
    "duration": 211,
    "start_time": "2024-07-13T11:20:38.020Z"
   },
   {
    "duration": 207,
    "start_time": "2024-07-13T11:20:38.233Z"
   },
   {
    "duration": 479,
    "start_time": "2024-07-13T11:20:38.442Z"
   },
   {
    "duration": 9,
    "start_time": "2024-07-13T11:20:38.922Z"
   },
   {
    "duration": 594,
    "start_time": "2024-07-13T11:20:38.946Z"
   },
   {
    "duration": 13,
    "start_time": "2024-07-13T11:20:39.541Z"
   },
   {
    "duration": 30,
    "start_time": "2024-07-13T11:20:39.555Z"
   },
   {
    "duration": 15,
    "start_time": "2024-07-13T11:20:39.588Z"
   },
   {
    "duration": 45,
    "start_time": "2024-07-13T11:20:39.604Z"
   },
   {
    "duration": 10,
    "start_time": "2024-07-13T11:20:39.651Z"
   },
   {
    "duration": 821,
    "start_time": "2024-07-13T11:20:39.662Z"
   },
   {
    "duration": 906,
    "start_time": "2024-07-13T11:20:40.485Z"
   },
   {
    "duration": 820,
    "start_time": "2024-07-13T11:20:41.393Z"
   },
   {
    "duration": 961,
    "start_time": "2024-07-13T11:21:27.009Z"
   },
   {
    "duration": 711,
    "start_time": "2024-07-13T11:23:27.642Z"
   },
   {
    "duration": 826,
    "start_time": "2024-07-13T11:23:51.713Z"
   },
   {
    "duration": 821,
    "start_time": "2024-07-13T11:24:25.041Z"
   },
   {
    "duration": 9,
    "start_time": "2024-07-13T11:27:35.836Z"
   },
   {
    "duration": 19,
    "start_time": "2024-07-13T11:27:48.636Z"
   },
   {
    "duration": 11,
    "start_time": "2024-07-13T11:27:58.086Z"
   },
   {
    "duration": 12,
    "start_time": "2024-07-13T11:28:04.529Z"
   },
   {
    "duration": 9,
    "start_time": "2024-07-13T11:32:33.513Z"
   },
   {
    "duration": 7,
    "start_time": "2024-07-13T11:32:49.405Z"
   },
   {
    "duration": 3,
    "start_time": "2024-07-13T11:40:49.217Z"
   },
   {
    "duration": 67,
    "start_time": "2024-07-13T11:40:49.227Z"
   },
   {
    "duration": 9,
    "start_time": "2024-07-13T11:40:49.296Z"
   },
   {
    "duration": 18,
    "start_time": "2024-07-13T11:40:49.307Z"
   },
   {
    "duration": 11,
    "start_time": "2024-07-13T11:40:49.327Z"
   },
   {
    "duration": 12,
    "start_time": "2024-07-13T11:40:49.340Z"
   },
   {
    "duration": 7,
    "start_time": "2024-07-13T11:40:49.354Z"
   },
   {
    "duration": 22,
    "start_time": "2024-07-13T11:40:49.363Z"
   },
   {
    "duration": 10,
    "start_time": "2024-07-13T11:40:49.387Z"
   },
   {
    "duration": 12,
    "start_time": "2024-07-13T11:40:49.398Z"
   },
   {
    "duration": 11,
    "start_time": "2024-07-13T11:40:49.412Z"
   },
   {
    "duration": 8,
    "start_time": "2024-07-13T11:40:49.446Z"
   },
   {
    "duration": 21,
    "start_time": "2024-07-13T11:40:49.456Z"
   },
   {
    "duration": 10,
    "start_time": "2024-07-13T11:40:49.478Z"
   },
   {
    "duration": 26,
    "start_time": "2024-07-13T11:40:49.491Z"
   },
   {
    "duration": 31,
    "start_time": "2024-07-13T11:40:49.519Z"
   },
   {
    "duration": 24,
    "start_time": "2024-07-13T11:40:49.552Z"
   },
   {
    "duration": 25,
    "start_time": "2024-07-13T11:40:49.578Z"
   },
   {
    "duration": 13,
    "start_time": "2024-07-13T11:40:49.605Z"
   },
   {
    "duration": 215,
    "start_time": "2024-07-13T11:40:49.620Z"
   },
   {
    "duration": 260,
    "start_time": "2024-07-13T11:40:49.836Z"
   },
   {
    "duration": 219,
    "start_time": "2024-07-13T11:40:50.097Z"
   },
   {
    "duration": 436,
    "start_time": "2024-07-13T11:40:50.318Z"
   },
   {
    "duration": 9,
    "start_time": "2024-07-13T11:40:50.756Z"
   },
   {
    "duration": 412,
    "start_time": "2024-07-13T11:40:50.768Z"
   },
   {
    "duration": 9,
    "start_time": "2024-07-13T11:40:51.182Z"
   },
   {
    "duration": 32,
    "start_time": "2024-07-13T11:40:51.192Z"
   },
   {
    "duration": 25,
    "start_time": "2024-07-13T11:40:51.225Z"
   },
   {
    "duration": 9,
    "start_time": "2024-07-13T11:40:51.251Z"
   },
   {
    "duration": 13,
    "start_time": "2024-07-13T11:40:51.262Z"
   },
   {
    "duration": 963,
    "start_time": "2024-07-13T11:40:51.277Z"
   },
   {
    "duration": 10,
    "start_time": "2024-07-13T11:40:52.242Z"
   },
   {
    "duration": 16,
    "start_time": "2024-07-13T11:40:52.254Z"
   },
   {
    "duration": 815,
    "start_time": "2024-07-13T11:40:52.271Z"
   },
   {
    "duration": 9,
    "start_time": "2024-07-13T11:40:53.088Z"
   },
   {
    "duration": 7,
    "start_time": "2024-07-13T11:40:53.099Z"
   },
   {
    "duration": 931,
    "start_time": "2024-07-13T11:46:24.422Z"
   },
   {
    "duration": 6,
    "start_time": "2024-07-13T12:02:52.754Z"
   },
   {
    "duration": 13,
    "start_time": "2024-07-13T12:03:25.280Z"
   },
   {
    "duration": 16,
    "start_time": "2024-07-13T12:07:14.761Z"
   },
   {
    "duration": 88,
    "start_time": "2024-07-13T12:08:13.874Z"
   },
   {
    "duration": 75,
    "start_time": "2024-07-13T12:08:22.220Z"
   },
   {
    "duration": 68,
    "start_time": "2024-07-13T12:08:41.831Z"
   },
   {
    "duration": 15,
    "start_time": "2024-07-13T12:09:04.089Z"
   },
   {
    "duration": 20,
    "start_time": "2024-07-13T12:14:38.009Z"
   },
   {
    "duration": 20,
    "start_time": "2024-07-13T12:15:07.697Z"
   },
   {
    "duration": 9,
    "start_time": "2024-07-13T12:17:21.112Z"
   },
   {
    "duration": 5,
    "start_time": "2024-07-13T12:17:34.232Z"
   },
   {
    "duration": 5,
    "start_time": "2024-07-13T12:17:48.365Z"
   },
   {
    "duration": 6,
    "start_time": "2024-07-13T12:17:56.267Z"
   },
   {
    "duration": 5,
    "start_time": "2024-07-13T12:18:57.291Z"
   },
   {
    "duration": 9,
    "start_time": "2024-07-13T12:20:03.137Z"
   },
   {
    "duration": 7,
    "start_time": "2024-07-13T12:20:14.786Z"
   },
   {
    "duration": 3,
    "start_time": "2024-07-13T12:20:31.488Z"
   },
   {
    "duration": 120,
    "start_time": "2024-07-13T12:20:31.493Z"
   },
   {
    "duration": 8,
    "start_time": "2024-07-13T12:20:31.615Z"
   },
   {
    "duration": 42,
    "start_time": "2024-07-13T12:20:31.625Z"
   },
   {
    "duration": 38,
    "start_time": "2024-07-13T12:20:31.670Z"
   },
   {
    "duration": 40,
    "start_time": "2024-07-13T12:20:31.710Z"
   },
   {
    "duration": 44,
    "start_time": "2024-07-13T12:20:31.752Z"
   },
   {
    "duration": 27,
    "start_time": "2024-07-13T12:20:31.798Z"
   },
   {
    "duration": 41,
    "start_time": "2024-07-13T12:20:31.827Z"
   },
   {
    "duration": 28,
    "start_time": "2024-07-13T12:20:31.870Z"
   },
   {
    "duration": 28,
    "start_time": "2024-07-13T12:20:31.900Z"
   },
   {
    "duration": 22,
    "start_time": "2024-07-13T12:20:31.930Z"
   },
   {
    "duration": 136,
    "start_time": "2024-07-13T12:20:31.954Z"
   },
   {
    "duration": 285,
    "start_time": "2024-07-13T12:20:32.093Z"
   },
   {
    "duration": 406,
    "start_time": "2024-07-13T12:20:32.379Z"
   },
   {
    "duration": 9,
    "start_time": "2024-07-13T12:20:32.787Z"
   },
   {
    "duration": 18,
    "start_time": "2024-07-13T12:20:32.798Z"
   },
   {
    "duration": 12,
    "start_time": "2024-07-13T12:20:32.818Z"
   },
   {
    "duration": 20,
    "start_time": "2024-07-13T12:20:32.832Z"
   },
   {
    "duration": 218,
    "start_time": "2024-07-13T12:20:32.854Z"
   },
   {
    "duration": 151,
    "start_time": "2024-07-13T12:20:33.073Z"
   },
   {
    "duration": 196,
    "start_time": "2024-07-13T12:20:33.226Z"
   },
   {
    "duration": 396,
    "start_time": "2024-07-13T12:20:33.424Z"
   },
   {
    "duration": 9,
    "start_time": "2024-07-13T12:20:33.821Z"
   },
   {
    "duration": 496,
    "start_time": "2024-07-13T12:20:33.831Z"
   },
   {
    "duration": 19,
    "start_time": "2024-07-13T12:20:34.328Z"
   },
   {
    "duration": 24,
    "start_time": "2024-07-13T12:20:34.349Z"
   },
   {
    "duration": 15,
    "start_time": "2024-07-13T12:20:34.374Z"
   },
   {
    "duration": 9,
    "start_time": "2024-07-13T12:20:34.391Z"
   },
   {
    "duration": 10,
    "start_time": "2024-07-13T12:20:34.402Z"
   },
   {
    "duration": 826,
    "start_time": "2024-07-13T12:20:34.446Z"
   },
   {
    "duration": 9,
    "start_time": "2024-07-13T12:20:35.274Z"
   },
   {
    "duration": 8,
    "start_time": "2024-07-13T12:20:35.284Z"
   },
   {
    "duration": 899,
    "start_time": "2024-07-13T12:20:35.293Z"
   },
   {
    "duration": 10,
    "start_time": "2024-07-13T12:20:36.194Z"
   },
   {
    "duration": 8,
    "start_time": "2024-07-13T12:20:36.206Z"
   },
   {
    "duration": 46,
    "start_time": "2024-07-13T12:20:36.216Z"
   },
   {
    "duration": 8,
    "start_time": "2024-07-13T12:20:36.263Z"
   },
   {
    "duration": 8,
    "start_time": "2024-07-13T12:21:33.681Z"
   },
   {
    "duration": 955,
    "start_time": "2024-07-13T12:22:24.477Z"
   },
   {
    "duration": 10,
    "start_time": "2024-07-13T12:23:09.445Z"
   },
   {
    "duration": 7,
    "start_time": "2024-07-13T12:23:33.464Z"
   },
   {
    "duration": 3,
    "start_time": "2024-07-13T12:23:47.023Z"
   },
   {
    "duration": 69,
    "start_time": "2024-07-13T12:23:47.028Z"
   },
   {
    "duration": 8,
    "start_time": "2024-07-13T12:23:47.099Z"
   },
   {
    "duration": 10,
    "start_time": "2024-07-13T12:23:47.109Z"
   },
   {
    "duration": 12,
    "start_time": "2024-07-13T12:23:47.121Z"
   },
   {
    "duration": 14,
    "start_time": "2024-07-13T12:23:47.134Z"
   },
   {
    "duration": 6,
    "start_time": "2024-07-13T12:23:47.150Z"
   },
   {
    "duration": 16,
    "start_time": "2024-07-13T12:23:47.157Z"
   },
   {
    "duration": 15,
    "start_time": "2024-07-13T12:23:47.174Z"
   },
   {
    "duration": 35,
    "start_time": "2024-07-13T12:23:47.191Z"
   },
   {
    "duration": 11,
    "start_time": "2024-07-13T12:23:47.228Z"
   },
   {
    "duration": 7,
    "start_time": "2024-07-13T12:23:47.241Z"
   },
   {
    "duration": 11,
    "start_time": "2024-07-13T12:23:47.250Z"
   },
   {
    "duration": 5,
    "start_time": "2024-07-13T12:23:47.264Z"
   },
   {
    "duration": 12,
    "start_time": "2024-07-13T12:23:47.271Z"
   },
   {
    "duration": 7,
    "start_time": "2024-07-13T12:23:47.285Z"
   },
   {
    "duration": 8,
    "start_time": "2024-07-13T12:23:47.294Z"
   },
   {
    "duration": 6,
    "start_time": "2024-07-13T12:23:47.304Z"
   },
   {
    "duration": 7,
    "start_time": "2024-07-13T12:23:47.312Z"
   },
   {
    "duration": 216,
    "start_time": "2024-07-13T12:23:47.346Z"
   },
   {
    "duration": 151,
    "start_time": "2024-07-13T12:23:47.564Z"
   },
   {
    "duration": 200,
    "start_time": "2024-07-13T12:23:47.717Z"
   },
   {
    "duration": 429,
    "start_time": "2024-07-13T12:23:47.919Z"
   },
   {
    "duration": 11,
    "start_time": "2024-07-13T12:23:48.350Z"
   },
   {
    "duration": 519,
    "start_time": "2024-07-13T12:23:48.363Z"
   },
   {
    "duration": 8,
    "start_time": "2024-07-13T12:23:48.883Z"
   },
   {
    "duration": 35,
    "start_time": "2024-07-13T12:23:48.892Z"
   },
   {
    "duration": 21,
    "start_time": "2024-07-13T12:23:48.928Z"
   },
   {
    "duration": 10,
    "start_time": "2024-07-13T12:23:48.950Z"
   },
   {
    "duration": 19,
    "start_time": "2024-07-13T12:23:48.962Z"
   },
   {
    "duration": 811,
    "start_time": "2024-07-13T12:23:48.982Z"
   },
   {
    "duration": 8,
    "start_time": "2024-07-13T12:23:49.795Z"
   },
   {
    "duration": 21,
    "start_time": "2024-07-13T12:23:49.804Z"
   },
   {
    "duration": 929,
    "start_time": "2024-07-13T12:23:49.827Z"
   },
   {
    "duration": 9,
    "start_time": "2024-07-13T12:23:50.758Z"
   },
   {
    "duration": 36,
    "start_time": "2024-07-13T12:23:50.769Z"
   },
   {
    "duration": 20,
    "start_time": "2024-07-13T12:23:50.807Z"
   },
   {
    "duration": 7,
    "start_time": "2024-07-13T12:23:50.829Z"
   },
   {
    "duration": 16,
    "start_time": "2024-07-13T12:25:01.083Z"
   },
   {
    "duration": 15,
    "start_time": "2024-07-13T12:25:15.018Z"
   },
   {
    "duration": 11,
    "start_time": "2024-07-13T12:27:46.272Z"
   },
   {
    "duration": 21,
    "start_time": "2024-07-13T12:27:58.965Z"
   },
   {
    "duration": 19,
    "start_time": "2024-07-13T12:30:12.314Z"
   },
   {
    "duration": 20,
    "start_time": "2024-07-13T12:30:19.919Z"
   },
   {
    "duration": 10,
    "start_time": "2024-07-13T12:30:43.662Z"
   },
   {
    "duration": 21,
    "start_time": "2024-07-13T12:30:49.912Z"
   },
   {
    "duration": 3,
    "start_time": "2024-07-13T12:44:26.247Z"
   },
   {
    "duration": 79,
    "start_time": "2024-07-13T12:44:26.252Z"
   },
   {
    "duration": 9,
    "start_time": "2024-07-13T12:44:26.333Z"
   },
   {
    "duration": 28,
    "start_time": "2024-07-13T12:44:26.344Z"
   },
   {
    "duration": 31,
    "start_time": "2024-07-13T12:44:26.375Z"
   },
   {
    "duration": 17,
    "start_time": "2024-07-13T12:44:26.408Z"
   },
   {
    "duration": 7,
    "start_time": "2024-07-13T12:44:26.426Z"
   },
   {
    "duration": 13,
    "start_time": "2024-07-13T12:44:26.435Z"
   },
   {
    "duration": 12,
    "start_time": "2024-07-13T12:44:26.450Z"
   },
   {
    "duration": 17,
    "start_time": "2024-07-13T12:44:26.464Z"
   },
   {
    "duration": 12,
    "start_time": "2024-07-13T12:44:26.483Z"
   },
   {
    "duration": 7,
    "start_time": "2024-07-13T12:44:26.496Z"
   },
   {
    "duration": 10,
    "start_time": "2024-07-13T12:44:26.504Z"
   },
   {
    "duration": 5,
    "start_time": "2024-07-13T12:44:26.518Z"
   },
   {
    "duration": 32,
    "start_time": "2024-07-13T12:44:26.525Z"
   },
   {
    "duration": 24,
    "start_time": "2024-07-13T12:44:26.559Z"
   },
   {
    "duration": 8,
    "start_time": "2024-07-13T12:44:26.585Z"
   },
   {
    "duration": 12,
    "start_time": "2024-07-13T12:44:26.594Z"
   },
   {
    "duration": 9,
    "start_time": "2024-07-13T12:44:26.608Z"
   },
   {
    "duration": 221,
    "start_time": "2024-07-13T12:44:26.619Z"
   },
   {
    "duration": 148,
    "start_time": "2024-07-13T12:44:26.842Z"
   },
   {
    "duration": 200,
    "start_time": "2024-07-13T12:44:26.991Z"
   },
   {
    "duration": 411,
    "start_time": "2024-07-13T12:44:27.193Z"
   },
   {
    "duration": 8,
    "start_time": "2024-07-13T12:44:27.606Z"
   },
   {
    "duration": 396,
    "start_time": "2024-07-13T12:44:27.616Z"
   },
   {
    "duration": 10,
    "start_time": "2024-07-13T12:44:28.014Z"
   },
   {
    "duration": 40,
    "start_time": "2024-07-13T12:44:28.025Z"
   },
   {
    "duration": 15,
    "start_time": "2024-07-13T12:44:28.066Z"
   },
   {
    "duration": 9,
    "start_time": "2024-07-13T12:44:28.083Z"
   },
   {
    "duration": 8,
    "start_time": "2024-07-13T12:44:28.094Z"
   },
   {
    "duration": 1009,
    "start_time": "2024-07-13T12:44:28.104Z"
   },
   {
    "duration": 9,
    "start_time": "2024-07-13T12:44:29.114Z"
   },
   {
    "duration": 22,
    "start_time": "2024-07-13T12:44:29.124Z"
   },
   {
    "duration": 883,
    "start_time": "2024-07-13T12:44:29.149Z"
   },
   {
    "duration": 15,
    "start_time": "2024-07-13T12:44:30.034Z"
   },
   {
    "duration": 60,
    "start_time": "2024-07-13T12:44:30.051Z"
   },
   {
    "duration": 65,
    "start_time": "2024-07-13T12:44:30.112Z"
   },
   {
    "duration": 62,
    "start_time": "2024-07-13T12:44:30.179Z"
   },
   {
    "duration": 29,
    "start_time": "2024-07-13T12:44:50.516Z"
   },
   {
    "duration": 15,
    "start_time": "2024-07-13T12:46:11.100Z"
   },
   {
    "duration": 3,
    "start_time": "2024-07-13T12:46:47.538Z"
   },
   {
    "duration": 78,
    "start_time": "2024-07-13T12:46:47.544Z"
   },
   {
    "duration": 9,
    "start_time": "2024-07-13T12:46:47.624Z"
   },
   {
    "duration": 11,
    "start_time": "2024-07-13T12:46:47.636Z"
   },
   {
    "duration": 12,
    "start_time": "2024-07-13T12:46:47.649Z"
   },
   {
    "duration": 28,
    "start_time": "2024-07-13T12:46:47.663Z"
   },
   {
    "duration": 8,
    "start_time": "2024-07-13T12:46:47.692Z"
   },
   {
    "duration": 10,
    "start_time": "2024-07-13T12:46:47.702Z"
   },
   {
    "duration": 15,
    "start_time": "2024-07-13T12:46:47.714Z"
   },
   {
    "duration": 17,
    "start_time": "2024-07-13T12:46:47.732Z"
   },
   {
    "duration": 10,
    "start_time": "2024-07-13T12:46:47.751Z"
   },
   {
    "duration": 6,
    "start_time": "2024-07-13T12:46:47.763Z"
   },
   {
    "duration": 10,
    "start_time": "2024-07-13T12:46:47.770Z"
   },
   {
    "duration": 6,
    "start_time": "2024-07-13T12:46:47.781Z"
   },
   {
    "duration": 11,
    "start_time": "2024-07-13T12:46:47.788Z"
   },
   {
    "duration": 7,
    "start_time": "2024-07-13T12:46:47.801Z"
   },
   {
    "duration": 43,
    "start_time": "2024-07-13T12:46:47.810Z"
   },
   {
    "duration": 7,
    "start_time": "2024-07-13T12:46:47.854Z"
   },
   {
    "duration": 5,
    "start_time": "2024-07-13T12:46:47.862Z"
   },
   {
    "duration": 225,
    "start_time": "2024-07-13T12:46:47.869Z"
   },
   {
    "duration": 154,
    "start_time": "2024-07-13T12:46:48.097Z"
   },
   {
    "duration": 197,
    "start_time": "2024-07-13T12:46:48.252Z"
   },
   {
    "duration": 454,
    "start_time": "2024-07-13T12:46:48.451Z"
   },
   {
    "duration": 8,
    "start_time": "2024-07-13T12:46:48.907Z"
   },
   {
    "duration": 418,
    "start_time": "2024-07-13T12:46:48.917Z"
   },
   {
    "duration": 11,
    "start_time": "2024-07-13T12:46:49.337Z"
   },
   {
    "duration": 24,
    "start_time": "2024-07-13T12:46:49.349Z"
   },
   {
    "duration": 16,
    "start_time": "2024-07-13T12:46:49.376Z"
   },
   {
    "duration": 9,
    "start_time": "2024-07-13T12:46:49.394Z"
   },
   {
    "duration": 42,
    "start_time": "2024-07-13T12:46:49.405Z"
   },
   {
    "duration": 909,
    "start_time": "2024-07-13T12:46:49.448Z"
   },
   {
    "duration": 9,
    "start_time": "2024-07-13T12:46:50.358Z"
   },
   {
    "duration": 14,
    "start_time": "2024-07-13T12:46:50.369Z"
   },
   {
    "duration": 789,
    "start_time": "2024-07-13T12:46:50.385Z"
   },
   {
    "duration": 10,
    "start_time": "2024-07-13T12:46:51.176Z"
   },
   {
    "duration": 9,
    "start_time": "2024-07-13T12:46:51.188Z"
   },
   {
    "duration": 63,
    "start_time": "2024-07-13T12:46:51.198Z"
   },
   {
    "duration": 67,
    "start_time": "2024-07-13T12:47:25.225Z"
   },
   {
    "duration": 62,
    "start_time": "2024-07-13T12:47:32.761Z"
   },
   {
    "duration": 63,
    "start_time": "2024-07-13T12:47:36.869Z"
   },
   {
    "duration": 61,
    "start_time": "2024-07-13T12:47:41.211Z"
   },
   {
    "duration": 61,
    "start_time": "2024-07-13T12:47:43.239Z"
   },
   {
    "duration": 28,
    "start_time": "2024-07-13T12:47:56.270Z"
   },
   {
    "duration": 20,
    "start_time": "2024-07-13T12:48:04.351Z"
   },
   {
    "duration": 13,
    "start_time": "2024-07-13T12:48:06.907Z"
   },
   {
    "duration": 17,
    "start_time": "2024-07-13T12:48:19.304Z"
   },
   {
    "duration": 25,
    "start_time": "2024-07-13T12:48:38.535Z"
   },
   {
    "duration": 3,
    "start_time": "2024-07-13T12:48:40.591Z"
   },
   {
    "duration": 94,
    "start_time": "2024-07-13T12:48:40.596Z"
   },
   {
    "duration": 9,
    "start_time": "2024-07-13T12:48:40.691Z"
   },
   {
    "duration": 35,
    "start_time": "2024-07-13T12:48:40.703Z"
   },
   {
    "duration": 144,
    "start_time": "2024-07-13T12:48:40.740Z"
   },
   {
    "duration": 95,
    "start_time": "2024-07-13T12:48:40.886Z"
   },
   {
    "duration": 6,
    "start_time": "2024-07-13T12:48:40.983Z"
   },
   {
    "duration": 16,
    "start_time": "2024-07-13T12:48:40.991Z"
   },
   {
    "duration": 8,
    "start_time": "2024-07-13T12:48:41.009Z"
   },
   {
    "duration": 12,
    "start_time": "2024-07-13T12:48:41.019Z"
   },
   {
    "duration": 14,
    "start_time": "2024-07-13T12:48:41.033Z"
   },
   {
    "duration": 6,
    "start_time": "2024-07-13T12:48:41.049Z"
   },
   {
    "duration": 10,
    "start_time": "2024-07-13T12:48:41.057Z"
   },
   {
    "duration": 6,
    "start_time": "2024-07-13T12:48:41.071Z"
   },
   {
    "duration": 21,
    "start_time": "2024-07-13T12:48:41.079Z"
   },
   {
    "duration": 7,
    "start_time": "2024-07-13T12:48:41.102Z"
   },
   {
    "duration": 10,
    "start_time": "2024-07-13T12:48:41.111Z"
   },
   {
    "duration": 29,
    "start_time": "2024-07-13T12:48:41.122Z"
   },
   {
    "duration": 9,
    "start_time": "2024-07-13T12:48:41.153Z"
   },
   {
    "duration": 209,
    "start_time": "2024-07-13T12:48:41.164Z"
   },
   {
    "duration": 166,
    "start_time": "2024-07-13T12:48:41.374Z"
   },
   {
    "duration": 206,
    "start_time": "2024-07-13T12:48:41.542Z"
   },
   {
    "duration": 398,
    "start_time": "2024-07-13T12:48:41.750Z"
   },
   {
    "duration": 8,
    "start_time": "2024-07-13T12:48:42.150Z"
   },
   {
    "duration": 391,
    "start_time": "2024-07-13T12:48:42.159Z"
   },
   {
    "duration": 9,
    "start_time": "2024-07-13T12:48:42.552Z"
   },
   {
    "duration": 23,
    "start_time": "2024-07-13T12:48:42.563Z"
   },
   {
    "duration": 14,
    "start_time": "2024-07-13T12:48:42.588Z"
   },
   {
    "duration": 9,
    "start_time": "2024-07-13T12:48:42.603Z"
   },
   {
    "duration": 39,
    "start_time": "2024-07-13T12:48:42.613Z"
   },
   {
    "duration": 914,
    "start_time": "2024-07-13T12:48:42.654Z"
   },
   {
    "duration": 8,
    "start_time": "2024-07-13T12:48:43.570Z"
   },
   {
    "duration": 9,
    "start_time": "2024-07-13T12:48:43.579Z"
   },
   {
    "duration": 779,
    "start_time": "2024-07-13T12:48:43.589Z"
   },
   {
    "duration": 10,
    "start_time": "2024-07-13T12:48:44.369Z"
   },
   {
    "duration": 14,
    "start_time": "2024-07-13T12:48:44.381Z"
   },
   {
    "duration": 14,
    "start_time": "2024-07-13T12:48:44.397Z"
   },
   {
    "duration": 37,
    "start_time": "2024-07-13T12:48:44.413Z"
   },
   {
    "duration": 11,
    "start_time": "2024-07-13T12:49:10.435Z"
   },
   {
    "duration": 19,
    "start_time": "2024-07-13T12:50:00.498Z"
   },
   {
    "duration": 17,
    "start_time": "2024-07-13T12:50:40.833Z"
   },
   {
    "duration": 70,
    "start_time": "2024-07-13T12:51:26.147Z"
   },
   {
    "duration": 14,
    "start_time": "2024-07-13T12:51:50.361Z"
   },
   {
    "duration": 3,
    "start_time": "2024-07-13T12:51:54.079Z"
   },
   {
    "duration": 92,
    "start_time": "2024-07-13T12:51:54.084Z"
   },
   {
    "duration": 9,
    "start_time": "2024-07-13T12:51:54.177Z"
   },
   {
    "duration": 14,
    "start_time": "2024-07-13T12:51:54.188Z"
   },
   {
    "duration": 8,
    "start_time": "2024-07-13T12:51:54.204Z"
   },
   {
    "duration": 12,
    "start_time": "2024-07-13T12:51:54.214Z"
   },
   {
    "duration": 6,
    "start_time": "2024-07-13T12:51:54.228Z"
   },
   {
    "duration": 10,
    "start_time": "2024-07-13T12:51:54.246Z"
   },
   {
    "duration": 8,
    "start_time": "2024-07-13T12:51:54.257Z"
   },
   {
    "duration": 10,
    "start_time": "2024-07-13T12:51:54.266Z"
   },
   {
    "duration": 13,
    "start_time": "2024-07-13T12:51:54.278Z"
   },
   {
    "duration": 6,
    "start_time": "2024-07-13T12:51:54.292Z"
   },
   {
    "duration": 17,
    "start_time": "2024-07-13T12:51:54.299Z"
   },
   {
    "duration": 17,
    "start_time": "2024-07-13T12:51:54.345Z"
   },
   {
    "duration": 17,
    "start_time": "2024-07-13T12:51:54.364Z"
   },
   {
    "duration": 14,
    "start_time": "2024-07-13T12:51:54.383Z"
   },
   {
    "duration": 8,
    "start_time": "2024-07-13T12:51:54.398Z"
   },
   {
    "duration": 6,
    "start_time": "2024-07-13T12:51:54.407Z"
   },
   {
    "duration": 12,
    "start_time": "2024-07-13T12:51:54.415Z"
   },
   {
    "duration": 221,
    "start_time": "2024-07-13T12:51:54.428Z"
   },
   {
    "duration": 266,
    "start_time": "2024-07-13T12:51:54.651Z"
   },
   {
    "duration": 210,
    "start_time": "2024-07-13T12:51:54.918Z"
   },
   {
    "duration": 432,
    "start_time": "2024-07-13T12:51:55.130Z"
   },
   {
    "duration": 9,
    "start_time": "2024-07-13T12:51:55.563Z"
   },
   {
    "duration": 404,
    "start_time": "2024-07-13T12:51:55.574Z"
   },
   {
    "duration": 9,
    "start_time": "2024-07-13T12:51:55.979Z"
   },
   {
    "duration": 23,
    "start_time": "2024-07-13T12:51:55.990Z"
   },
   {
    "duration": 37,
    "start_time": "2024-07-13T12:51:56.015Z"
   },
   {
    "duration": 9,
    "start_time": "2024-07-13T12:51:56.054Z"
   },
   {
    "duration": 11,
    "start_time": "2024-07-13T12:51:56.064Z"
   },
   {
    "duration": 919,
    "start_time": "2024-07-13T12:51:56.076Z"
   },
   {
    "duration": 9,
    "start_time": "2024-07-13T12:51:56.997Z"
   },
   {
    "duration": 18,
    "start_time": "2024-07-13T12:51:57.008Z"
   },
   {
    "duration": 831,
    "start_time": "2024-07-13T12:51:57.028Z"
   },
   {
    "duration": 9,
    "start_time": "2024-07-13T12:51:57.860Z"
   },
   {
    "duration": 15,
    "start_time": "2024-07-13T12:51:57.870Z"
   },
   {
    "duration": 14,
    "start_time": "2024-07-13T12:51:57.886Z"
   },
   {
    "duration": 17,
    "start_time": "2024-07-13T12:51:57.901Z"
   },
   {
    "duration": 13,
    "start_time": "2024-07-13T12:52:24.613Z"
   },
   {
    "duration": 15,
    "start_time": "2024-07-13T12:52:43.876Z"
   },
   {
    "duration": 11,
    "start_time": "2024-07-13T12:53:13.390Z"
   },
   {
    "duration": 3,
    "start_time": "2024-07-13T12:57:42.220Z"
   },
   {
    "duration": 3,
    "start_time": "2024-07-13T12:57:45.917Z"
   },
   {
    "duration": 87,
    "start_time": "2024-07-13T12:57:45.922Z"
   },
   {
    "duration": 9,
    "start_time": "2024-07-13T12:57:46.011Z"
   },
   {
    "duration": 12,
    "start_time": "2024-07-13T12:57:46.023Z"
   },
   {
    "duration": 12,
    "start_time": "2024-07-13T12:57:46.037Z"
   },
   {
    "duration": 25,
    "start_time": "2024-07-13T12:57:46.050Z"
   },
   {
    "duration": 8,
    "start_time": "2024-07-13T12:57:46.076Z"
   },
   {
    "duration": 11,
    "start_time": "2024-07-13T12:57:46.085Z"
   },
   {
    "duration": 9,
    "start_time": "2024-07-13T12:57:46.098Z"
   },
   {
    "duration": 11,
    "start_time": "2024-07-13T12:57:46.110Z"
   },
   {
    "duration": 32,
    "start_time": "2024-07-13T12:57:46.123Z"
   },
   {
    "duration": 7,
    "start_time": "2024-07-13T12:57:46.156Z"
   },
   {
    "duration": 6,
    "start_time": "2024-07-13T12:57:46.164Z"
   },
   {
    "duration": 5,
    "start_time": "2024-07-13T12:57:46.172Z"
   },
   {
    "duration": 11,
    "start_time": "2024-07-13T12:57:46.178Z"
   },
   {
    "duration": 7,
    "start_time": "2024-07-13T12:57:46.190Z"
   },
   {
    "duration": 48,
    "start_time": "2024-07-13T12:57:46.198Z"
   },
   {
    "duration": 6,
    "start_time": "2024-07-13T12:57:46.248Z"
   },
   {
    "duration": 28,
    "start_time": "2024-07-13T12:57:46.256Z"
   },
   {
    "duration": 204,
    "start_time": "2024-07-13T12:57:46.285Z"
   },
   {
    "duration": 155,
    "start_time": "2024-07-13T12:57:46.491Z"
   },
   {
    "duration": 343,
    "start_time": "2024-07-13T12:57:46.647Z"
   },
   {
    "duration": 472,
    "start_time": "2024-07-13T12:57:46.991Z"
   },
   {
    "duration": 9,
    "start_time": "2024-07-13T12:57:47.464Z"
   },
   {
    "duration": 413,
    "start_time": "2024-07-13T12:57:47.475Z"
   },
   {
    "duration": 9,
    "start_time": "2024-07-13T12:57:47.889Z"
   },
   {
    "duration": 24,
    "start_time": "2024-07-13T12:57:47.899Z"
   },
   {
    "duration": 32,
    "start_time": "2024-07-13T12:57:47.926Z"
   },
   {
    "duration": 8,
    "start_time": "2024-07-13T12:57:47.959Z"
   },
   {
    "duration": 9,
    "start_time": "2024-07-13T12:57:47.969Z"
   },
   {
    "duration": 975,
    "start_time": "2024-07-13T12:57:47.980Z"
   },
   {
    "duration": 9,
    "start_time": "2024-07-13T12:57:48.956Z"
   },
   {
    "duration": 8,
    "start_time": "2024-07-13T12:57:48.967Z"
   },
   {
    "duration": 836,
    "start_time": "2024-07-13T12:57:48.977Z"
   },
   {
    "duration": 9,
    "start_time": "2024-07-13T12:57:49.814Z"
   },
   {
    "duration": 24,
    "start_time": "2024-07-13T12:57:49.824Z"
   },
   {
    "duration": 16,
    "start_time": "2024-07-13T12:57:49.849Z"
   },
   {
    "duration": 12,
    "start_time": "2024-07-13T12:57:49.866Z"
   },
   {
    "duration": 4,
    "start_time": "2024-07-13T13:00:25.195Z"
   },
   {
    "duration": 18,
    "start_time": "2024-07-13T13:00:38.071Z"
   },
   {
    "duration": 993,
    "start_time": "2024-07-13T13:06:32.654Z"
   },
   {
    "duration": 17,
    "start_time": "2024-07-13T13:09:44.026Z"
   },
   {
    "duration": 13,
    "start_time": "2024-07-13T13:09:46.278Z"
   },
   {
    "duration": 21,
    "start_time": "2024-07-13T13:10:07.325Z"
   },
   {
    "duration": 20,
    "start_time": "2024-07-13T13:11:52.961Z"
   },
   {
    "duration": 13,
    "start_time": "2024-07-13T13:11:53.790Z"
   },
   {
    "duration": 24,
    "start_time": "2024-07-13T13:14:03.510Z"
   },
   {
    "duration": 14,
    "start_time": "2024-07-13T13:14:04.405Z"
   },
   {
    "duration": 3,
    "start_time": "2024-07-13T13:14:33.739Z"
   },
   {
    "duration": 115,
    "start_time": "2024-07-13T13:14:33.744Z"
   },
   {
    "duration": 8,
    "start_time": "2024-07-13T13:14:33.861Z"
   },
   {
    "duration": 14,
    "start_time": "2024-07-13T13:14:33.870Z"
   },
   {
    "duration": 9,
    "start_time": "2024-07-13T13:14:33.886Z"
   },
   {
    "duration": 12,
    "start_time": "2024-07-13T13:14:33.896Z"
   },
   {
    "duration": 7,
    "start_time": "2024-07-13T13:14:33.909Z"
   },
   {
    "duration": 29,
    "start_time": "2024-07-13T13:14:33.918Z"
   },
   {
    "duration": 46,
    "start_time": "2024-07-13T13:14:33.949Z"
   },
   {
    "duration": 12,
    "start_time": "2024-07-13T13:14:33.997Z"
   },
   {
    "duration": 11,
    "start_time": "2024-07-13T13:14:34.011Z"
   },
   {
    "duration": 6,
    "start_time": "2024-07-13T13:14:34.023Z"
   },
   {
    "duration": 8,
    "start_time": "2024-07-13T13:14:34.030Z"
   },
   {
    "duration": 12,
    "start_time": "2024-07-13T13:14:34.040Z"
   },
   {
    "duration": 13,
    "start_time": "2024-07-13T13:14:34.054Z"
   },
   {
    "duration": 26,
    "start_time": "2024-07-13T13:14:34.068Z"
   },
   {
    "duration": 11,
    "start_time": "2024-07-13T13:14:34.095Z"
   },
   {
    "duration": 6,
    "start_time": "2024-07-13T13:14:34.107Z"
   },
   {
    "duration": 9,
    "start_time": "2024-07-13T13:14:34.114Z"
   },
   {
    "duration": 194,
    "start_time": "2024-07-13T13:14:34.124Z"
   },
   {
    "duration": 150,
    "start_time": "2024-07-13T13:14:34.320Z"
   },
   {
    "duration": 229,
    "start_time": "2024-07-13T13:14:34.471Z"
   },
   {
    "duration": 514,
    "start_time": "2024-07-13T13:14:34.702Z"
   },
   {
    "duration": 9,
    "start_time": "2024-07-13T13:14:35.218Z"
   },
   {
    "duration": 442,
    "start_time": "2024-07-13T13:14:35.229Z"
   },
   {
    "duration": 9,
    "start_time": "2024-07-13T13:14:35.672Z"
   },
   {
    "duration": 24,
    "start_time": "2024-07-13T13:14:35.682Z"
   },
   {
    "duration": 13,
    "start_time": "2024-07-13T13:14:35.708Z"
   },
   {
    "duration": 10,
    "start_time": "2024-07-13T13:14:35.745Z"
   },
   {
    "duration": 8,
    "start_time": "2024-07-13T13:14:35.757Z"
   },
   {
    "duration": 909,
    "start_time": "2024-07-13T13:14:35.766Z"
   },
   {
    "duration": 8,
    "start_time": "2024-07-13T13:14:36.677Z"
   },
   {
    "duration": 8,
    "start_time": "2024-07-13T13:14:36.687Z"
   },
   {
    "duration": 819,
    "start_time": "2024-07-13T13:14:36.696Z"
   },
   {
    "duration": 9,
    "start_time": "2024-07-13T13:14:37.516Z"
   },
   {
    "duration": 27,
    "start_time": "2024-07-13T13:14:37.526Z"
   },
   {
    "duration": 22,
    "start_time": "2024-07-13T13:14:37.555Z"
   },
   {
    "duration": 13,
    "start_time": "2024-07-13T13:14:37.579Z"
   },
   {
    "duration": 6,
    "start_time": "2024-07-13T13:14:37.593Z"
   },
   {
    "duration": 19,
    "start_time": "2024-07-13T13:14:37.601Z"
   },
   {
    "duration": 15,
    "start_time": "2024-07-13T13:15:24.575Z"
   },
   {
    "duration": 21,
    "start_time": "2024-07-13T13:15:25.459Z"
   },
   {
    "duration": 22,
    "start_time": "2024-07-13T13:15:31.747Z"
   },
   {
    "duration": 5,
    "start_time": "2024-07-13T13:15:41.901Z"
   },
   {
    "duration": 19,
    "start_time": "2024-07-13T13:15:46.786Z"
   },
   {
    "duration": 4,
    "start_time": "2024-07-13T13:17:14.463Z"
   },
   {
    "duration": 3,
    "start_time": "2024-07-13T13:17:16.955Z"
   },
   {
    "duration": 73,
    "start_time": "2024-07-13T13:17:16.960Z"
   },
   {
    "duration": 9,
    "start_time": "2024-07-13T13:17:17.035Z"
   },
   {
    "duration": 61,
    "start_time": "2024-07-13T13:17:17.046Z"
   },
   {
    "duration": 14,
    "start_time": "2024-07-13T13:17:17.109Z"
   },
   {
    "duration": 13,
    "start_time": "2024-07-13T13:17:17.125Z"
   },
   {
    "duration": 7,
    "start_time": "2024-07-13T13:17:17.140Z"
   },
   {
    "duration": 10,
    "start_time": "2024-07-13T13:17:17.149Z"
   },
   {
    "duration": 12,
    "start_time": "2024-07-13T13:17:17.161Z"
   },
   {
    "duration": 11,
    "start_time": "2024-07-13T13:17:17.176Z"
   },
   {
    "duration": 10,
    "start_time": "2024-07-13T13:17:17.189Z"
   },
   {
    "duration": 5,
    "start_time": "2024-07-13T13:17:17.201Z"
   },
   {
    "duration": 41,
    "start_time": "2024-07-13T13:17:17.208Z"
   },
   {
    "duration": 6,
    "start_time": "2024-07-13T13:17:17.250Z"
   },
   {
    "duration": 10,
    "start_time": "2024-07-13T13:17:17.257Z"
   },
   {
    "duration": 7,
    "start_time": "2024-07-13T13:17:17.269Z"
   },
   {
    "duration": 9,
    "start_time": "2024-07-13T13:17:17.277Z"
   },
   {
    "duration": 6,
    "start_time": "2024-07-13T13:17:17.288Z"
   },
   {
    "duration": 7,
    "start_time": "2024-07-13T13:17:17.296Z"
   },
   {
    "duration": 258,
    "start_time": "2024-07-13T13:17:17.304Z"
   },
   {
    "duration": 153,
    "start_time": "2024-07-13T13:17:17.565Z"
   },
   {
    "duration": 198,
    "start_time": "2024-07-13T13:17:17.720Z"
   },
   {
    "duration": 544,
    "start_time": "2024-07-13T13:17:17.919Z"
   },
   {
    "duration": 9,
    "start_time": "2024-07-13T13:17:18.465Z"
   },
   {
    "duration": 434,
    "start_time": "2024-07-13T13:17:18.475Z"
   },
   {
    "duration": 12,
    "start_time": "2024-07-13T13:17:18.911Z"
   },
   {
    "duration": 48,
    "start_time": "2024-07-13T13:17:18.926Z"
   },
   {
    "duration": 15,
    "start_time": "2024-07-13T13:17:18.978Z"
   },
   {
    "duration": 13,
    "start_time": "2024-07-13T13:17:18.995Z"
   },
   {
    "duration": 17,
    "start_time": "2024-07-13T13:17:19.010Z"
   },
   {
    "duration": 11,
    "start_time": "2024-07-13T13:17:19.046Z"
   },
   {
    "duration": 931,
    "start_time": "2024-07-13T13:17:19.059Z"
   },
   {
    "duration": 8,
    "start_time": "2024-07-13T13:17:19.991Z"
   },
   {
    "duration": 8,
    "start_time": "2024-07-13T13:17:20.001Z"
   },
   {
    "duration": 810,
    "start_time": "2024-07-13T13:17:20.011Z"
   },
   {
    "duration": 9,
    "start_time": "2024-07-13T13:17:20.822Z"
   },
   {
    "duration": 28,
    "start_time": "2024-07-13T13:17:20.833Z"
   },
   {
    "duration": 28,
    "start_time": "2024-07-13T13:17:20.863Z"
   },
   {
    "duration": 14,
    "start_time": "2024-07-13T13:17:20.892Z"
   },
   {
    "duration": 41,
    "start_time": "2024-07-13T13:17:20.907Z"
   },
   {
    "duration": 4,
    "start_time": "2024-07-13T13:18:37.627Z"
   },
   {
    "duration": 6,
    "start_time": "2024-07-13T13:18:42.111Z"
   },
   {
    "duration": 21,
    "start_time": "2024-07-13T13:18:53.140Z"
   },
   {
    "duration": 6,
    "start_time": "2024-07-13T13:19:58.975Z"
   },
   {
    "duration": 22,
    "start_time": "2024-07-13T13:19:59.817Z"
   },
   {
    "duration": 22,
    "start_time": "2024-07-13T13:20:36.553Z"
   },
   {
    "duration": 3,
    "start_time": "2024-07-13T13:20:41.512Z"
   },
   {
    "duration": 90,
    "start_time": "2024-07-13T13:20:41.517Z"
   },
   {
    "duration": 8,
    "start_time": "2024-07-13T13:20:41.609Z"
   },
   {
    "duration": 21,
    "start_time": "2024-07-13T13:20:41.619Z"
   },
   {
    "duration": 8,
    "start_time": "2024-07-13T13:20:41.642Z"
   },
   {
    "duration": 13,
    "start_time": "2024-07-13T13:20:41.652Z"
   },
   {
    "duration": 7,
    "start_time": "2024-07-13T13:20:41.666Z"
   },
   {
    "duration": 15,
    "start_time": "2024-07-13T13:20:41.674Z"
   },
   {
    "duration": 7,
    "start_time": "2024-07-13T13:20:41.691Z"
   },
   {
    "duration": 11,
    "start_time": "2024-07-13T13:20:41.700Z"
   },
   {
    "duration": 41,
    "start_time": "2024-07-13T13:20:41.712Z"
   },
   {
    "duration": 5,
    "start_time": "2024-07-13T13:20:41.755Z"
   },
   {
    "duration": 7,
    "start_time": "2024-07-13T13:20:41.762Z"
   },
   {
    "duration": 5,
    "start_time": "2024-07-13T13:20:41.770Z"
   },
   {
    "duration": 24,
    "start_time": "2024-07-13T13:20:41.777Z"
   },
   {
    "duration": 8,
    "start_time": "2024-07-13T13:20:41.803Z"
   },
   {
    "duration": 7,
    "start_time": "2024-07-13T13:20:41.812Z"
   },
   {
    "duration": 28,
    "start_time": "2024-07-13T13:20:41.821Z"
   },
   {
    "duration": 5,
    "start_time": "2024-07-13T13:20:41.850Z"
   },
   {
    "duration": 218,
    "start_time": "2024-07-13T13:20:41.856Z"
   },
   {
    "duration": 144,
    "start_time": "2024-07-13T13:20:42.075Z"
   },
   {
    "duration": 224,
    "start_time": "2024-07-13T13:20:42.221Z"
   },
   {
    "duration": 531,
    "start_time": "2024-07-13T13:20:42.447Z"
   },
   {
    "duration": 9,
    "start_time": "2024-07-13T13:20:42.979Z"
   },
   {
    "duration": 404,
    "start_time": "2024-07-13T13:20:42.989Z"
   },
   {
    "duration": 8,
    "start_time": "2024-07-13T13:20:43.395Z"
   },
   {
    "duration": 23,
    "start_time": "2024-07-13T13:20:43.404Z"
   },
   {
    "duration": 14,
    "start_time": "2024-07-13T13:20:43.445Z"
   },
   {
    "duration": 6,
    "start_time": "2024-07-13T13:20:43.461Z"
   },
   {
    "duration": 14,
    "start_time": "2024-07-13T13:20:43.469Z"
   },
   {
    "duration": 8,
    "start_time": "2024-07-13T13:20:43.485Z"
   },
   {
    "duration": 855,
    "start_time": "2024-07-13T13:20:43.495Z"
   },
   {
    "duration": 8,
    "start_time": "2024-07-13T13:20:44.352Z"
   },
   {
    "duration": 8,
    "start_time": "2024-07-13T13:20:44.362Z"
   },
   {
    "duration": 935,
    "start_time": "2024-07-13T13:20:44.372Z"
   },
   {
    "duration": 8,
    "start_time": "2024-07-13T13:20:45.309Z"
   },
   {
    "duration": 19,
    "start_time": "2024-07-13T13:20:45.319Z"
   },
   {
    "duration": 43,
    "start_time": "2024-07-13T13:20:45.346Z"
   },
   {
    "duration": 20,
    "start_time": "2024-07-13T13:20:45.391Z"
   },
   {
    "duration": 7,
    "start_time": "2024-07-13T13:20:45.412Z"
   },
   {
    "duration": 27,
    "start_time": "2024-07-13T13:20:45.420Z"
   },
   {
    "duration": 17,
    "start_time": "2024-07-13T13:21:08.418Z"
   },
   {
    "duration": 14,
    "start_time": "2024-07-13T13:21:23.193Z"
   },
   {
    "duration": 3,
    "start_time": "2024-07-13T13:21:35.041Z"
   },
   {
    "duration": 124,
    "start_time": "2024-07-13T13:21:35.047Z"
   },
   {
    "duration": 8,
    "start_time": "2024-07-13T13:21:35.173Z"
   },
   {
    "duration": 32,
    "start_time": "2024-07-13T13:21:35.183Z"
   },
   {
    "duration": 20,
    "start_time": "2024-07-13T13:21:35.217Z"
   },
   {
    "duration": 24,
    "start_time": "2024-07-13T13:21:35.239Z"
   },
   {
    "duration": 7,
    "start_time": "2024-07-13T13:21:35.265Z"
   },
   {
    "duration": 12,
    "start_time": "2024-07-13T13:21:35.274Z"
   },
   {
    "duration": 12,
    "start_time": "2024-07-13T13:21:35.288Z"
   },
   {
    "duration": 15,
    "start_time": "2024-07-13T13:21:35.303Z"
   },
   {
    "duration": 27,
    "start_time": "2024-07-13T13:21:35.320Z"
   },
   {
    "duration": 7,
    "start_time": "2024-07-13T13:21:35.349Z"
   },
   {
    "duration": 15,
    "start_time": "2024-07-13T13:21:35.358Z"
   },
   {
    "duration": 5,
    "start_time": "2024-07-13T13:21:35.375Z"
   },
   {
    "duration": 11,
    "start_time": "2024-07-13T13:21:35.382Z"
   },
   {
    "duration": 25,
    "start_time": "2024-07-13T13:21:35.395Z"
   },
   {
    "duration": 25,
    "start_time": "2024-07-13T13:21:35.422Z"
   },
   {
    "duration": 6,
    "start_time": "2024-07-13T13:21:35.449Z"
   },
   {
    "duration": 6,
    "start_time": "2024-07-13T13:21:35.457Z"
   },
   {
    "duration": 219,
    "start_time": "2024-07-13T13:21:35.464Z"
   },
   {
    "duration": 146,
    "start_time": "2024-07-13T13:21:35.685Z"
   },
   {
    "duration": 203,
    "start_time": "2024-07-13T13:21:35.833Z"
   },
   {
    "duration": 504,
    "start_time": "2024-07-13T13:21:36.038Z"
   },
   {
    "duration": 12,
    "start_time": "2024-07-13T13:21:36.546Z"
   },
   {
    "duration": 404,
    "start_time": "2024-07-13T13:21:36.560Z"
   },
   {
    "duration": 9,
    "start_time": "2024-07-13T13:21:36.965Z"
   },
   {
    "duration": 22,
    "start_time": "2024-07-13T13:21:36.975Z"
   },
   {
    "duration": 13,
    "start_time": "2024-07-13T13:21:37.001Z"
   },
   {
    "duration": 31,
    "start_time": "2024-07-13T13:21:37.016Z"
   },
   {
    "duration": 11,
    "start_time": "2024-07-13T13:21:37.048Z"
   },
   {
    "duration": 7,
    "start_time": "2024-07-13T13:21:37.061Z"
   },
   {
    "duration": 839,
    "start_time": "2024-07-13T13:21:37.070Z"
   },
   {
    "duration": 9,
    "start_time": "2024-07-13T13:21:37.910Z"
   },
   {
    "duration": 8,
    "start_time": "2024-07-13T13:21:37.920Z"
   },
   {
    "duration": 960,
    "start_time": "2024-07-13T13:21:37.930Z"
   },
   {
    "duration": 9,
    "start_time": "2024-07-13T13:21:38.892Z"
   },
   {
    "duration": 15,
    "start_time": "2024-07-13T13:21:38.902Z"
   },
   {
    "duration": 42,
    "start_time": "2024-07-13T13:21:38.919Z"
   },
   {
    "duration": 14,
    "start_time": "2024-07-13T13:21:38.963Z"
   },
   {
    "duration": 7,
    "start_time": "2024-07-13T13:21:38.979Z"
   },
   {
    "duration": 22,
    "start_time": "2024-07-13T13:21:38.987Z"
   },
   {
    "duration": 4,
    "start_time": "2024-07-13T13:25:56.686Z"
   },
   {
    "duration": 100,
    "start_time": "2024-07-13T13:25:56.692Z"
   },
   {
    "duration": 8,
    "start_time": "2024-07-13T13:25:56.794Z"
   },
   {
    "duration": 46,
    "start_time": "2024-07-13T13:25:56.804Z"
   },
   {
    "duration": 17,
    "start_time": "2024-07-13T13:25:56.851Z"
   },
   {
    "duration": 22,
    "start_time": "2024-07-13T13:25:56.869Z"
   },
   {
    "duration": 7,
    "start_time": "2024-07-13T13:25:56.893Z"
   },
   {
    "duration": 16,
    "start_time": "2024-07-13T13:25:56.902Z"
   },
   {
    "duration": 12,
    "start_time": "2024-07-13T13:25:56.920Z"
   },
   {
    "duration": 24,
    "start_time": "2024-07-13T13:25:56.934Z"
   },
   {
    "duration": 17,
    "start_time": "2024-07-13T13:25:56.959Z"
   },
   {
    "duration": 6,
    "start_time": "2024-07-13T13:25:56.978Z"
   },
   {
    "duration": 9,
    "start_time": "2024-07-13T13:25:56.985Z"
   },
   {
    "duration": 18,
    "start_time": "2024-07-13T13:25:56.995Z"
   },
   {
    "duration": 11,
    "start_time": "2024-07-13T13:25:57.015Z"
   },
   {
    "duration": 8,
    "start_time": "2024-07-13T13:25:57.028Z"
   },
   {
    "duration": 15,
    "start_time": "2024-07-13T13:25:57.046Z"
   },
   {
    "duration": 65,
    "start_time": "2024-07-13T13:25:57.063Z"
   },
   {
    "duration": 23,
    "start_time": "2024-07-13T13:25:57.130Z"
   },
   {
    "duration": 226,
    "start_time": "2024-07-13T13:25:57.155Z"
   },
   {
    "duration": 159,
    "start_time": "2024-07-13T13:25:57.384Z"
   },
   {
    "duration": 210,
    "start_time": "2024-07-13T13:25:57.546Z"
   },
   {
    "duration": 447,
    "start_time": "2024-07-13T13:25:57.758Z"
   },
   {
    "duration": 9,
    "start_time": "2024-07-13T13:25:58.207Z"
   },
   {
    "duration": 545,
    "start_time": "2024-07-13T13:25:58.217Z"
   },
   {
    "duration": 9,
    "start_time": "2024-07-13T13:25:58.764Z"
   },
   {
    "duration": 36,
    "start_time": "2024-07-13T13:25:58.775Z"
   },
   {
    "duration": 14,
    "start_time": "2024-07-13T13:25:58.814Z"
   },
   {
    "duration": 66,
    "start_time": "2024-07-13T13:25:58.830Z"
   },
   {
    "duration": 57,
    "start_time": "2024-07-13T13:25:58.898Z"
   },
   {
    "duration": 9,
    "start_time": "2024-07-13T13:25:58.957Z"
   },
   {
    "duration": 833,
    "start_time": "2024-07-13T13:25:58.967Z"
   },
   {
    "duration": 9,
    "start_time": "2024-07-13T13:25:59.801Z"
   },
   {
    "duration": 7,
    "start_time": "2024-07-13T13:25:59.812Z"
   },
   {
    "duration": 948,
    "start_time": "2024-07-13T13:25:59.820Z"
   },
   {
    "duration": 9,
    "start_time": "2024-07-13T13:26:00.770Z"
   },
   {
    "duration": 173,
    "start_time": "2024-07-13T13:26:00.781Z"
   },
   {
    "duration": 92,
    "start_time": "2024-07-13T13:26:00.956Z"
   },
   {
    "duration": 41,
    "start_time": "2024-07-13T13:26:01.050Z"
   },
   {
    "duration": 244,
    "start_time": "2024-07-13T13:26:01.093Z"
   },
   {
    "duration": 0,
    "start_time": "2024-07-13T13:26:01.339Z"
   },
   {
    "duration": 1139,
    "start_time": "2024-07-13T13:26:29.362Z"
   },
   {
    "duration": 20,
    "start_time": "2024-07-13T13:26:31.230Z"
   },
   {
    "duration": 3,
    "start_time": "2024-07-13T13:26:39.234Z"
   },
   {
    "duration": 68,
    "start_time": "2024-07-13T13:26:39.238Z"
   },
   {
    "duration": 8,
    "start_time": "2024-07-13T13:26:39.308Z"
   },
   {
    "duration": 13,
    "start_time": "2024-07-13T13:26:39.318Z"
   },
   {
    "duration": 9,
    "start_time": "2024-07-13T13:26:39.333Z"
   },
   {
    "duration": 12,
    "start_time": "2024-07-13T13:26:39.343Z"
   },
   {
    "duration": 7,
    "start_time": "2024-07-13T13:26:39.357Z"
   },
   {
    "duration": 15,
    "start_time": "2024-07-13T13:26:39.365Z"
   },
   {
    "duration": 7,
    "start_time": "2024-07-13T13:26:39.382Z"
   },
   {
    "duration": 13,
    "start_time": "2024-07-13T13:26:39.392Z"
   },
   {
    "duration": 11,
    "start_time": "2024-07-13T13:26:39.406Z"
   },
   {
    "duration": 7,
    "start_time": "2024-07-13T13:26:39.446Z"
   },
   {
    "duration": 11,
    "start_time": "2024-07-13T13:26:39.455Z"
   },
   {
    "duration": 5,
    "start_time": "2024-07-13T13:26:39.468Z"
   },
   {
    "duration": 15,
    "start_time": "2024-07-13T13:26:39.475Z"
   },
   {
    "duration": 10,
    "start_time": "2024-07-13T13:26:39.491Z"
   },
   {
    "duration": 9,
    "start_time": "2024-07-13T13:26:39.502Z"
   },
   {
    "duration": 33,
    "start_time": "2024-07-13T13:26:39.513Z"
   },
   {
    "duration": 5,
    "start_time": "2024-07-13T13:26:39.548Z"
   },
   {
    "duration": 207,
    "start_time": "2024-07-13T13:26:39.554Z"
   },
   {
    "duration": 147,
    "start_time": "2024-07-13T13:26:39.763Z"
   },
   {
    "duration": 237,
    "start_time": "2024-07-13T13:26:39.912Z"
   },
   {
    "duration": 408,
    "start_time": "2024-07-13T13:26:40.151Z"
   },
   {
    "duration": 9,
    "start_time": "2024-07-13T13:26:40.561Z"
   },
   {
    "duration": 523,
    "start_time": "2024-07-13T13:26:40.572Z"
   },
   {
    "duration": 8,
    "start_time": "2024-07-13T13:26:41.097Z"
   },
   {
    "duration": 29,
    "start_time": "2024-07-13T13:26:41.107Z"
   },
   {
    "duration": 14,
    "start_time": "2024-07-13T13:26:41.148Z"
   },
   {
    "duration": 3,
    "start_time": "2024-07-13T13:26:41.164Z"
   },
   {
    "duration": 19,
    "start_time": "2024-07-13T13:26:41.169Z"
   },
   {
    "duration": 9,
    "start_time": "2024-07-13T13:26:41.190Z"
   },
   {
    "duration": 822,
    "start_time": "2024-07-13T13:26:41.201Z"
   },
   {
    "duration": 10,
    "start_time": "2024-07-13T13:26:42.025Z"
   },
   {
    "duration": 8,
    "start_time": "2024-07-13T13:26:42.046Z"
   },
   {
    "duration": 885,
    "start_time": "2024-07-13T13:26:42.056Z"
   },
   {
    "duration": 9,
    "start_time": "2024-07-13T13:26:42.942Z"
   },
   {
    "duration": 8,
    "start_time": "2024-07-13T13:26:42.953Z"
   },
   {
    "duration": 21,
    "start_time": "2024-07-13T13:26:42.962Z"
   },
   {
    "duration": 16,
    "start_time": "2024-07-13T13:26:42.985Z"
   },
   {
    "duration": 1027,
    "start_time": "2024-07-13T13:26:43.003Z"
   },
   {
    "duration": 0,
    "start_time": "2024-07-13T13:26:44.031Z"
   },
   {
    "duration": 1059,
    "start_time": "2024-07-13T13:27:05.234Z"
   },
   {
    "duration": 5,
    "start_time": "2024-07-13T13:27:15.224Z"
   },
   {
    "duration": 21,
    "start_time": "2024-07-13T13:27:18.091Z"
   },
   {
    "duration": 8,
    "start_time": "2024-07-13T13:27:35.149Z"
   },
   {
    "duration": 20,
    "start_time": "2024-07-13T13:27:36.124Z"
   },
   {
    "duration": 8,
    "start_time": "2024-07-13T13:27:43.950Z"
   },
   {
    "duration": 22,
    "start_time": "2024-07-13T13:27:44.971Z"
   },
   {
    "duration": 5,
    "start_time": "2024-07-13T13:27:55.205Z"
   },
   {
    "duration": 21,
    "start_time": "2024-07-13T13:27:55.841Z"
   },
   {
    "duration": 3,
    "start_time": "2024-07-13T13:27:59.716Z"
   },
   {
    "duration": 72,
    "start_time": "2024-07-13T13:27:59.721Z"
   },
   {
    "duration": 9,
    "start_time": "2024-07-13T13:27:59.795Z"
   },
   {
    "duration": 12,
    "start_time": "2024-07-13T13:27:59.806Z"
   },
   {
    "duration": 9,
    "start_time": "2024-07-13T13:27:59.819Z"
   },
   {
    "duration": 16,
    "start_time": "2024-07-13T13:27:59.830Z"
   },
   {
    "duration": 7,
    "start_time": "2024-07-13T13:27:59.848Z"
   },
   {
    "duration": 10,
    "start_time": "2024-07-13T13:27:59.857Z"
   },
   {
    "duration": 7,
    "start_time": "2024-07-13T13:27:59.870Z"
   },
   {
    "duration": 15,
    "start_time": "2024-07-13T13:27:59.879Z"
   },
   {
    "duration": 20,
    "start_time": "2024-07-13T13:27:59.896Z"
   },
   {
    "duration": 30,
    "start_time": "2024-07-13T13:27:59.917Z"
   },
   {
    "duration": 9,
    "start_time": "2024-07-13T13:27:59.949Z"
   },
   {
    "duration": 5,
    "start_time": "2024-07-13T13:27:59.960Z"
   },
   {
    "duration": 13,
    "start_time": "2024-07-13T13:27:59.967Z"
   },
   {
    "duration": 12,
    "start_time": "2024-07-13T13:27:59.981Z"
   },
   {
    "duration": 9,
    "start_time": "2024-07-13T13:27:59.994Z"
   },
   {
    "duration": 20,
    "start_time": "2024-07-13T13:28:00.005Z"
   },
   {
    "duration": 39,
    "start_time": "2024-07-13T13:28:00.027Z"
   },
   {
    "duration": 262,
    "start_time": "2024-07-13T13:28:00.068Z"
   },
   {
    "duration": 159,
    "start_time": "2024-07-13T13:28:00.331Z"
   },
   {
    "duration": 235,
    "start_time": "2024-07-13T13:28:00.492Z"
   },
   {
    "duration": 429,
    "start_time": "2024-07-13T13:28:00.729Z"
   },
   {
    "duration": 9,
    "start_time": "2024-07-13T13:28:01.161Z"
   },
   {
    "duration": 748,
    "start_time": "2024-07-13T13:28:01.171Z"
   },
   {
    "duration": 12,
    "start_time": "2024-07-13T13:28:01.922Z"
   },
   {
    "duration": 412,
    "start_time": "2024-07-13T13:28:01.946Z"
   },
   {
    "duration": 255,
    "start_time": "2024-07-13T13:28:02.359Z"
   },
   {
    "duration": 75,
    "start_time": "2024-07-13T13:28:02.616Z"
   },
   {
    "duration": 30,
    "start_time": "2024-07-13T13:28:02.693Z"
   },
   {
    "duration": 49,
    "start_time": "2024-07-13T13:28:02.725Z"
   },
   {
    "duration": 838,
    "start_time": "2024-07-13T13:28:02.776Z"
   },
   {
    "duration": 9,
    "start_time": "2024-07-13T13:28:03.615Z"
   },
   {
    "duration": 22,
    "start_time": "2024-07-13T13:28:03.625Z"
   },
   {
    "duration": 950,
    "start_time": "2024-07-13T13:28:03.649Z"
   },
   {
    "duration": 8,
    "start_time": "2024-07-13T13:28:04.601Z"
   },
   {
    "duration": 21,
    "start_time": "2024-07-13T13:28:04.610Z"
   },
   {
    "duration": 29,
    "start_time": "2024-07-13T13:28:04.632Z"
   },
   {
    "duration": 15,
    "start_time": "2024-07-13T13:28:04.662Z"
   },
   {
    "duration": 23,
    "start_time": "2024-07-13T13:28:04.678Z"
   },
   {
    "duration": 27,
    "start_time": "2024-07-13T13:28:04.703Z"
   },
   {
    "duration": 3,
    "start_time": "2024-07-13T13:28:24.783Z"
   },
   {
    "duration": 69,
    "start_time": "2024-07-13T13:28:24.789Z"
   },
   {
    "duration": 8,
    "start_time": "2024-07-13T13:28:24.860Z"
   },
   {
    "duration": 12,
    "start_time": "2024-07-13T13:28:24.870Z"
   },
   {
    "duration": 10,
    "start_time": "2024-07-13T13:28:24.883Z"
   },
   {
    "duration": 12,
    "start_time": "2024-07-13T13:28:24.895Z"
   },
   {
    "duration": 7,
    "start_time": "2024-07-13T13:28:24.908Z"
   },
   {
    "duration": 29,
    "start_time": "2024-07-13T13:28:24.917Z"
   },
   {
    "duration": 7,
    "start_time": "2024-07-13T13:28:24.947Z"
   },
   {
    "duration": 12,
    "start_time": "2024-07-13T13:28:24.957Z"
   },
   {
    "duration": 11,
    "start_time": "2024-07-13T13:28:24.971Z"
   },
   {
    "duration": 5,
    "start_time": "2024-07-13T13:28:24.984Z"
   },
   {
    "duration": 7,
    "start_time": "2024-07-13T13:28:24.991Z"
   },
   {
    "duration": 5,
    "start_time": "2024-07-13T13:28:24.999Z"
   },
   {
    "duration": 40,
    "start_time": "2024-07-13T13:28:25.006Z"
   },
   {
    "duration": 7,
    "start_time": "2024-07-13T13:28:25.048Z"
   },
   {
    "duration": 11,
    "start_time": "2024-07-13T13:28:25.057Z"
   },
   {
    "duration": 6,
    "start_time": "2024-07-13T13:28:25.070Z"
   },
   {
    "duration": 5,
    "start_time": "2024-07-13T13:28:25.077Z"
   },
   {
    "duration": 248,
    "start_time": "2024-07-13T13:28:25.083Z"
   },
   {
    "duration": 153,
    "start_time": "2024-07-13T13:28:25.333Z"
   },
   {
    "duration": 219,
    "start_time": "2024-07-13T13:28:25.488Z"
   },
   {
    "duration": 430,
    "start_time": "2024-07-13T13:28:25.710Z"
   },
   {
    "duration": 11,
    "start_time": "2024-07-13T13:28:26.142Z"
   },
   {
    "duration": 397,
    "start_time": "2024-07-13T13:28:26.154Z"
   },
   {
    "duration": 10,
    "start_time": "2024-07-13T13:28:26.553Z"
   },
   {
    "duration": 29,
    "start_time": "2024-07-13T13:28:26.564Z"
   },
   {
    "duration": 16,
    "start_time": "2024-07-13T13:28:26.596Z"
   },
   {
    "duration": 34,
    "start_time": "2024-07-13T13:28:26.614Z"
   },
   {
    "duration": 13,
    "start_time": "2024-07-13T13:28:26.649Z"
   },
   {
    "duration": 13,
    "start_time": "2024-07-13T13:28:26.664Z"
   },
   {
    "duration": 955,
    "start_time": "2024-07-13T13:28:26.679Z"
   },
   {
    "duration": 11,
    "start_time": "2024-07-13T13:28:27.636Z"
   },
   {
    "duration": 9,
    "start_time": "2024-07-13T13:28:27.648Z"
   },
   {
    "duration": 901,
    "start_time": "2024-07-13T13:28:27.658Z"
   },
   {
    "duration": 11,
    "start_time": "2024-07-13T13:28:28.561Z"
   },
   {
    "duration": 10,
    "start_time": "2024-07-13T13:28:28.574Z"
   },
   {
    "duration": 25,
    "start_time": "2024-07-13T13:28:28.586Z"
   },
   {
    "duration": 47,
    "start_time": "2024-07-13T13:28:28.612Z"
   },
   {
    "duration": 10,
    "start_time": "2024-07-13T13:28:28.661Z"
   },
   {
    "duration": 24,
    "start_time": "2024-07-13T13:28:28.673Z"
   },
   {
    "duration": 3,
    "start_time": "2024-07-13T13:28:57.651Z"
   },
   {
    "duration": 70,
    "start_time": "2024-07-13T13:28:57.657Z"
   },
   {
    "duration": 8,
    "start_time": "2024-07-13T13:28:57.729Z"
   },
   {
    "duration": 12,
    "start_time": "2024-07-13T13:28:57.738Z"
   },
   {
    "duration": 11,
    "start_time": "2024-07-13T13:28:57.752Z"
   },
   {
    "duration": 14,
    "start_time": "2024-07-13T13:28:57.764Z"
   },
   {
    "duration": 7,
    "start_time": "2024-07-13T13:28:57.779Z"
   },
   {
    "duration": 12,
    "start_time": "2024-07-13T13:28:57.788Z"
   },
   {
    "duration": 14,
    "start_time": "2024-07-13T13:28:57.802Z"
   },
   {
    "duration": 30,
    "start_time": "2024-07-13T13:28:57.818Z"
   },
   {
    "duration": 12,
    "start_time": "2024-07-13T13:28:57.849Z"
   },
   {
    "duration": 7,
    "start_time": "2024-07-13T13:28:57.862Z"
   },
   {
    "duration": 5,
    "start_time": "2024-07-13T13:28:57.871Z"
   },
   {
    "duration": 5,
    "start_time": "2024-07-13T13:28:57.879Z"
   },
   {
    "duration": 17,
    "start_time": "2024-07-13T13:28:57.885Z"
   },
   {
    "duration": 43,
    "start_time": "2024-07-13T13:28:57.904Z"
   },
   {
    "duration": 8,
    "start_time": "2024-07-13T13:28:57.948Z"
   },
   {
    "duration": 6,
    "start_time": "2024-07-13T13:28:57.958Z"
   },
   {
    "duration": 7,
    "start_time": "2024-07-13T13:28:57.965Z"
   },
   {
    "duration": 215,
    "start_time": "2024-07-13T13:28:57.973Z"
   },
   {
    "duration": 150,
    "start_time": "2024-07-13T13:28:58.190Z"
   },
   {
    "duration": 208,
    "start_time": "2024-07-13T13:28:58.341Z"
   },
   {
    "duration": 430,
    "start_time": "2024-07-13T13:28:58.551Z"
   },
   {
    "duration": 9,
    "start_time": "2024-07-13T13:28:58.983Z"
   },
   {
    "duration": 421,
    "start_time": "2024-07-13T13:28:58.994Z"
   },
   {
    "duration": 9,
    "start_time": "2024-07-13T13:28:59.417Z"
   },
   {
    "duration": 35,
    "start_time": "2024-07-13T13:28:59.428Z"
   },
   {
    "duration": 15,
    "start_time": "2024-07-13T13:28:59.465Z"
   },
   {
    "duration": 4,
    "start_time": "2024-07-13T13:28:59.481Z"
   },
   {
    "duration": 9,
    "start_time": "2024-07-13T13:28:59.487Z"
   },
   {
    "duration": 8,
    "start_time": "2024-07-13T13:28:59.498Z"
   },
   {
    "duration": 960,
    "start_time": "2024-07-13T13:28:59.508Z"
   },
   {
    "duration": 9,
    "start_time": "2024-07-13T13:29:00.470Z"
   },
   {
    "duration": 66,
    "start_time": "2024-07-13T13:29:00.481Z"
   },
   {
    "duration": 866,
    "start_time": "2024-07-13T13:29:00.549Z"
   },
   {
    "duration": 9,
    "start_time": "2024-07-13T13:29:01.417Z"
   },
   {
    "duration": 38,
    "start_time": "2024-07-13T13:29:01.427Z"
   },
   {
    "duration": 73,
    "start_time": "2024-07-13T13:29:01.467Z"
   },
   {
    "duration": 34,
    "start_time": "2024-07-13T13:29:01.541Z"
   },
   {
    "duration": 1073,
    "start_time": "2024-07-13T13:29:01.577Z"
   },
   {
    "duration": 0,
    "start_time": "2024-07-13T13:29:02.653Z"
   },
   {
    "duration": 967,
    "start_time": "2024-07-13T13:29:31.489Z"
   },
   {
    "duration": 4,
    "start_time": "2024-07-13T13:29:42.697Z"
   },
   {
    "duration": 79,
    "start_time": "2024-07-13T13:29:42.702Z"
   },
   {
    "duration": 10,
    "start_time": "2024-07-13T13:29:42.784Z"
   },
   {
    "duration": 25,
    "start_time": "2024-07-13T13:29:42.796Z"
   },
   {
    "duration": 9,
    "start_time": "2024-07-13T13:29:42.822Z"
   },
   {
    "duration": 28,
    "start_time": "2024-07-13T13:29:42.833Z"
   },
   {
    "duration": 11,
    "start_time": "2024-07-13T13:29:42.863Z"
   },
   {
    "duration": 13,
    "start_time": "2024-07-13T13:29:42.876Z"
   },
   {
    "duration": 11,
    "start_time": "2024-07-13T13:29:42.890Z"
   },
   {
    "duration": 21,
    "start_time": "2024-07-13T13:29:43.025Z"
   },
   {
    "duration": 11,
    "start_time": "2024-07-13T13:29:43.048Z"
   },
   {
    "duration": 6,
    "start_time": "2024-07-13T13:29:43.061Z"
   },
   {
    "duration": 29,
    "start_time": "2024-07-13T13:29:43.069Z"
   },
   {
    "duration": 15,
    "start_time": "2024-07-13T13:29:43.100Z"
   },
   {
    "duration": 24,
    "start_time": "2024-07-13T13:29:43.116Z"
   },
   {
    "duration": 14,
    "start_time": "2024-07-13T13:29:43.142Z"
   },
   {
    "duration": 25,
    "start_time": "2024-07-13T13:29:43.158Z"
   },
   {
    "duration": 8,
    "start_time": "2024-07-13T13:29:43.184Z"
   },
   {
    "duration": 11,
    "start_time": "2024-07-13T13:29:43.194Z"
   },
   {
    "duration": 207,
    "start_time": "2024-07-13T13:29:43.206Z"
   },
   {
    "duration": 149,
    "start_time": "2024-07-13T13:29:43.415Z"
   },
   {
    "duration": 199,
    "start_time": "2024-07-13T13:29:43.566Z"
   },
   {
    "duration": 425,
    "start_time": "2024-07-13T13:29:43.766Z"
   },
   {
    "duration": 9,
    "start_time": "2024-07-13T13:29:44.192Z"
   },
   {
    "duration": 444,
    "start_time": "2024-07-13T13:29:44.202Z"
   },
   {
    "duration": 9,
    "start_time": "2024-07-13T13:29:44.647Z"
   },
   {
    "duration": 47,
    "start_time": "2024-07-13T13:29:44.657Z"
   },
   {
    "duration": 32,
    "start_time": "2024-07-13T13:29:44.708Z"
   },
   {
    "duration": 33,
    "start_time": "2024-07-13T13:29:44.742Z"
   },
   {
    "duration": 52,
    "start_time": "2024-07-13T13:29:44.777Z"
   },
   {
    "duration": 32,
    "start_time": "2024-07-13T13:29:44.830Z"
   },
   {
    "duration": 900,
    "start_time": "2024-07-13T13:29:44.864Z"
   },
   {
    "duration": 9,
    "start_time": "2024-07-13T13:29:45.765Z"
   },
   {
    "duration": 72,
    "start_time": "2024-07-13T13:29:45.775Z"
   },
   {
    "duration": 888,
    "start_time": "2024-07-13T13:29:45.848Z"
   },
   {
    "duration": 14,
    "start_time": "2024-07-13T13:29:46.738Z"
   },
   {
    "duration": 62,
    "start_time": "2024-07-13T13:29:46.753Z"
   },
   {
    "duration": 70,
    "start_time": "2024-07-13T13:29:46.817Z"
   },
   {
    "duration": 36,
    "start_time": "2024-07-13T13:29:46.889Z"
   },
   {
    "duration": 956,
    "start_time": "2024-07-13T13:29:46.927Z"
   },
   {
    "duration": 0,
    "start_time": "2024-07-13T13:29:47.885Z"
   },
   {
    "duration": 17,
    "start_time": "2024-07-13T13:30:12.559Z"
   },
   {
    "duration": 15,
    "start_time": "2024-07-13T13:30:27.105Z"
   },
   {
    "duration": 14,
    "start_time": "2024-07-13T13:30:56.265Z"
   },
   {
    "duration": 6,
    "start_time": "2024-07-13T13:31:13.654Z"
   },
   {
    "duration": 20,
    "start_time": "2024-07-13T13:31:14.456Z"
   },
   {
    "duration": 3,
    "start_time": "2024-07-13T13:31:23.287Z"
   },
   {
    "duration": 86,
    "start_time": "2024-07-13T13:31:23.291Z"
   },
   {
    "duration": 8,
    "start_time": "2024-07-13T13:31:23.379Z"
   },
   {
    "duration": 50,
    "start_time": "2024-07-13T13:31:23.388Z"
   },
   {
    "duration": 24,
    "start_time": "2024-07-13T13:31:23.440Z"
   },
   {
    "duration": 20,
    "start_time": "2024-07-13T13:31:23.465Z"
   },
   {
    "duration": 8,
    "start_time": "2024-07-13T13:31:23.487Z"
   },
   {
    "duration": 22,
    "start_time": "2024-07-13T13:31:23.496Z"
   },
   {
    "duration": 28,
    "start_time": "2024-07-13T13:31:23.520Z"
   },
   {
    "duration": 10,
    "start_time": "2024-07-13T13:31:23.550Z"
   },
   {
    "duration": 10,
    "start_time": "2024-07-13T13:31:23.562Z"
   },
   {
    "duration": 5,
    "start_time": "2024-07-13T13:31:23.574Z"
   },
   {
    "duration": 7,
    "start_time": "2024-07-13T13:31:23.581Z"
   },
   {
    "duration": 5,
    "start_time": "2024-07-13T13:31:23.591Z"
   },
   {
    "duration": 12,
    "start_time": "2024-07-13T13:31:23.598Z"
   },
   {
    "duration": 35,
    "start_time": "2024-07-13T13:31:23.611Z"
   },
   {
    "duration": 8,
    "start_time": "2024-07-13T13:31:23.648Z"
   },
   {
    "duration": 5,
    "start_time": "2024-07-13T13:31:23.657Z"
   },
   {
    "duration": 4,
    "start_time": "2024-07-13T13:31:23.664Z"
   },
   {
    "duration": 213,
    "start_time": "2024-07-13T13:31:23.670Z"
   },
   {
    "duration": 262,
    "start_time": "2024-07-13T13:31:23.885Z"
   },
   {
    "duration": 206,
    "start_time": "2024-07-13T13:31:24.149Z"
   },
   {
    "duration": 430,
    "start_time": "2024-07-13T13:31:24.357Z"
   },
   {
    "duration": 11,
    "start_time": "2024-07-13T13:31:24.788Z"
   },
   {
    "duration": 417,
    "start_time": "2024-07-13T13:31:24.802Z"
   },
   {
    "duration": 11,
    "start_time": "2024-07-13T13:31:25.221Z"
   },
   {
    "duration": 36,
    "start_time": "2024-07-13T13:31:25.233Z"
   },
   {
    "duration": 17,
    "start_time": "2024-07-13T13:31:25.270Z"
   },
   {
    "duration": 3,
    "start_time": "2024-07-13T13:31:25.289Z"
   },
   {
    "duration": 10,
    "start_time": "2024-07-13T13:31:25.294Z"
   },
   {
    "duration": 9,
    "start_time": "2024-07-13T13:31:25.305Z"
   },
   {
    "duration": 932,
    "start_time": "2024-07-13T13:31:25.315Z"
   },
   {
    "duration": 9,
    "start_time": "2024-07-13T13:31:26.249Z"
   },
   {
    "duration": 8,
    "start_time": "2024-07-13T13:31:26.259Z"
   },
   {
    "duration": 828,
    "start_time": "2024-07-13T13:31:26.269Z"
   },
   {
    "duration": 8,
    "start_time": "2024-07-13T13:31:27.098Z"
   },
   {
    "duration": 92,
    "start_time": "2024-07-13T13:31:27.108Z"
   },
   {
    "duration": 22,
    "start_time": "2024-07-13T13:31:27.202Z"
   },
   {
    "duration": 109,
    "start_time": "2024-07-13T13:31:27.226Z"
   },
   {
    "duration": 6,
    "start_time": "2024-07-13T13:31:27.337Z"
   },
   {
    "duration": 34,
    "start_time": "2024-07-13T13:31:27.347Z"
   },
   {
    "duration": 12,
    "start_time": "2024-07-13T13:31:34.407Z"
   },
   {
    "duration": 25,
    "start_time": "2024-07-13T13:31:45.456Z"
   },
   {
    "duration": 3,
    "start_time": "2024-07-13T13:31:55.180Z"
   },
   {
    "duration": 98,
    "start_time": "2024-07-13T13:31:55.185Z"
   },
   {
    "duration": 8,
    "start_time": "2024-07-13T13:31:55.285Z"
   },
   {
    "duration": 21,
    "start_time": "2024-07-13T13:31:55.295Z"
   },
   {
    "duration": 9,
    "start_time": "2024-07-13T13:31:55.318Z"
   },
   {
    "duration": 12,
    "start_time": "2024-07-13T13:31:55.329Z"
   },
   {
    "duration": 7,
    "start_time": "2024-07-13T13:31:55.343Z"
   },
   {
    "duration": 22,
    "start_time": "2024-07-13T13:31:55.353Z"
   },
   {
    "duration": 15,
    "start_time": "2024-07-13T13:31:55.377Z"
   },
   {
    "duration": 10,
    "start_time": "2024-07-13T13:31:55.394Z"
   },
   {
    "duration": 11,
    "start_time": "2024-07-13T13:31:55.406Z"
   },
   {
    "duration": 6,
    "start_time": "2024-07-13T13:31:55.418Z"
   },
   {
    "duration": 22,
    "start_time": "2024-07-13T13:31:55.426Z"
   },
   {
    "duration": 9,
    "start_time": "2024-07-13T13:31:55.450Z"
   },
   {
    "duration": 16,
    "start_time": "2024-07-13T13:31:55.461Z"
   },
   {
    "duration": 14,
    "start_time": "2024-07-13T13:31:55.479Z"
   },
   {
    "duration": 8,
    "start_time": "2024-07-13T13:31:55.495Z"
   },
   {
    "duration": 42,
    "start_time": "2024-07-13T13:31:55.505Z"
   },
   {
    "duration": 11,
    "start_time": "2024-07-13T13:31:55.549Z"
   },
   {
    "duration": 223,
    "start_time": "2024-07-13T13:31:55.562Z"
   },
   {
    "duration": 154,
    "start_time": "2024-07-13T13:31:55.787Z"
   },
   {
    "duration": 359,
    "start_time": "2024-07-13T13:31:55.945Z"
   },
   {
    "duration": 483,
    "start_time": "2024-07-13T13:31:56.305Z"
   },
   {
    "duration": 9,
    "start_time": "2024-07-13T13:31:56.789Z"
   },
   {
    "duration": 461,
    "start_time": "2024-07-13T13:31:56.799Z"
   },
   {
    "duration": 11,
    "start_time": "2024-07-13T13:31:57.263Z"
   },
   {
    "duration": 38,
    "start_time": "2024-07-13T13:31:57.276Z"
   },
   {
    "duration": 15,
    "start_time": "2024-07-13T13:31:57.319Z"
   },
   {
    "duration": 5,
    "start_time": "2024-07-13T13:31:57.346Z"
   },
   {
    "duration": 22,
    "start_time": "2024-07-13T13:31:57.353Z"
   },
   {
    "duration": 10,
    "start_time": "2024-07-13T13:31:57.377Z"
   },
   {
    "duration": 961,
    "start_time": "2024-07-13T13:31:57.389Z"
   },
   {
    "duration": 14,
    "start_time": "2024-07-13T13:31:58.352Z"
   },
   {
    "duration": 11,
    "start_time": "2024-07-13T13:31:58.369Z"
   },
   {
    "duration": 893,
    "start_time": "2024-07-13T13:31:58.382Z"
   },
   {
    "duration": 9,
    "start_time": "2024-07-13T13:31:59.276Z"
   },
   {
    "duration": 8,
    "start_time": "2024-07-13T13:31:59.286Z"
   },
   {
    "duration": 23,
    "start_time": "2024-07-13T13:31:59.295Z"
   },
   {
    "duration": 42,
    "start_time": "2024-07-13T13:31:59.320Z"
   },
   {
    "duration": 8,
    "start_time": "2024-07-13T13:31:59.363Z"
   },
   {
    "duration": 48,
    "start_time": "2024-07-13T13:31:59.373Z"
   },
   {
    "duration": 9,
    "start_time": "2024-07-13T13:32:39.832Z"
   },
   {
    "duration": 21,
    "start_time": "2024-07-13T13:32:41.108Z"
   },
   {
    "duration": 4,
    "start_time": "2024-07-13T13:34:09.370Z"
   },
   {
    "duration": 87,
    "start_time": "2024-07-13T13:34:09.376Z"
   },
   {
    "duration": 13,
    "start_time": "2024-07-13T13:34:09.465Z"
   },
   {
    "duration": 30,
    "start_time": "2024-07-13T13:34:09.481Z"
   },
   {
    "duration": 11,
    "start_time": "2024-07-13T13:34:09.514Z"
   },
   {
    "duration": 30,
    "start_time": "2024-07-13T13:34:09.526Z"
   },
   {
    "duration": 15,
    "start_time": "2024-07-13T13:34:09.558Z"
   },
   {
    "duration": 13,
    "start_time": "2024-07-13T13:34:09.575Z"
   },
   {
    "duration": 9,
    "start_time": "2024-07-13T13:34:09.589Z"
   },
   {
    "duration": 11,
    "start_time": "2024-07-13T13:34:09.600Z"
   },
   {
    "duration": 35,
    "start_time": "2024-07-13T13:34:09.612Z"
   },
   {
    "duration": 6,
    "start_time": "2024-07-13T13:34:09.648Z"
   },
   {
    "duration": 8,
    "start_time": "2024-07-13T13:34:09.656Z"
   },
   {
    "duration": 15,
    "start_time": "2024-07-13T13:34:09.667Z"
   },
   {
    "duration": 11,
    "start_time": "2024-07-13T13:34:09.684Z"
   },
   {
    "duration": 7,
    "start_time": "2024-07-13T13:34:09.696Z"
   },
   {
    "duration": 8,
    "start_time": "2024-07-13T13:34:09.705Z"
   },
   {
    "duration": 33,
    "start_time": "2024-07-13T13:34:09.715Z"
   },
   {
    "duration": 5,
    "start_time": "2024-07-13T13:34:09.750Z"
   },
   {
    "duration": 241,
    "start_time": "2024-07-13T13:34:09.757Z"
   },
   {
    "duration": 153,
    "start_time": "2024-07-13T13:34:09.999Z"
   },
   {
    "duration": 202,
    "start_time": "2024-07-13T13:34:10.154Z"
   },
   {
    "duration": 530,
    "start_time": "2024-07-13T13:34:10.358Z"
   },
   {
    "duration": 9,
    "start_time": "2024-07-13T13:34:10.890Z"
   },
   {
    "duration": 427,
    "start_time": "2024-07-13T13:34:10.901Z"
   },
   {
    "duration": 20,
    "start_time": "2024-07-13T13:34:11.330Z"
   },
   {
    "duration": 26,
    "start_time": "2024-07-13T13:34:11.352Z"
   },
   {
    "duration": 15,
    "start_time": "2024-07-13T13:34:11.380Z"
   },
   {
    "duration": 4,
    "start_time": "2024-07-13T13:34:11.397Z"
   },
   {
    "duration": 10,
    "start_time": "2024-07-13T13:34:11.403Z"
   },
   {
    "duration": 10,
    "start_time": "2024-07-13T13:34:11.447Z"
   },
   {
    "duration": 917,
    "start_time": "2024-07-13T13:34:11.459Z"
   },
   {
    "duration": 8,
    "start_time": "2024-07-13T13:34:12.378Z"
   },
   {
    "duration": 7,
    "start_time": "2024-07-13T13:34:12.388Z"
   },
   {
    "duration": 844,
    "start_time": "2024-07-13T13:34:12.397Z"
   },
   {
    "duration": 11,
    "start_time": "2024-07-13T13:34:13.245Z"
   },
   {
    "duration": 105,
    "start_time": "2024-07-13T13:34:13.258Z"
   },
   {
    "duration": 25,
    "start_time": "2024-07-13T13:34:13.364Z"
   },
   {
    "duration": 21,
    "start_time": "2024-07-13T13:34:13.391Z"
   },
   {
    "duration": 12,
    "start_time": "2024-07-13T13:34:13.414Z"
   },
   {
    "duration": 1020,
    "start_time": "2024-07-13T13:34:13.430Z"
   },
   {
    "duration": 0,
    "start_time": "2024-07-13T13:34:14.452Z"
   },
   {
    "duration": 9,
    "start_time": "2024-07-13T13:39:05.248Z"
   },
   {
    "duration": 6,
    "start_time": "2024-07-13T13:40:06.349Z"
   },
   {
    "duration": 15,
    "start_time": "2024-07-13T13:40:08.566Z"
   },
   {
    "duration": 12,
    "start_time": "2024-07-13T13:40:20.847Z"
   },
   {
    "duration": 13,
    "start_time": "2024-07-13T13:41:52.589Z"
   },
   {
    "duration": 17,
    "start_time": "2024-07-13T13:41:53.398Z"
   },
   {
    "duration": 7,
    "start_time": "2024-07-13T13:49:07.721Z"
   },
   {
    "duration": 19,
    "start_time": "2024-07-13T13:49:09.434Z"
   },
   {
    "duration": 3,
    "start_time": "2024-07-13T13:49:12.707Z"
   },
   {
    "duration": 78,
    "start_time": "2024-07-13T13:49:12.712Z"
   },
   {
    "duration": 8,
    "start_time": "2024-07-13T13:49:12.792Z"
   },
   {
    "duration": 16,
    "start_time": "2024-07-13T13:49:12.802Z"
   },
   {
    "duration": 21,
    "start_time": "2024-07-13T13:49:12.820Z"
   },
   {
    "duration": 13,
    "start_time": "2024-07-13T13:49:12.844Z"
   },
   {
    "duration": 8,
    "start_time": "2024-07-13T13:49:12.859Z"
   },
   {
    "duration": 11,
    "start_time": "2024-07-13T13:49:12.869Z"
   },
   {
    "duration": 7,
    "start_time": "2024-07-13T13:49:12.882Z"
   },
   {
    "duration": 10,
    "start_time": "2024-07-13T13:49:12.892Z"
   },
   {
    "duration": 43,
    "start_time": "2024-07-13T13:49:12.903Z"
   },
   {
    "duration": 6,
    "start_time": "2024-07-13T13:49:12.948Z"
   },
   {
    "duration": 12,
    "start_time": "2024-07-13T13:49:12.955Z"
   },
   {
    "duration": 5,
    "start_time": "2024-07-13T13:49:12.969Z"
   },
   {
    "duration": 10,
    "start_time": "2024-07-13T13:49:12.975Z"
   },
   {
    "duration": 13,
    "start_time": "2024-07-13T13:49:12.987Z"
   },
   {
    "duration": 11,
    "start_time": "2024-07-13T13:49:13.002Z"
   },
   {
    "duration": 5,
    "start_time": "2024-07-13T13:49:13.015Z"
   },
   {
    "duration": 6,
    "start_time": "2024-07-13T13:49:13.045Z"
   },
   {
    "duration": 216,
    "start_time": "2024-07-13T13:49:13.053Z"
   },
   {
    "duration": 152,
    "start_time": "2024-07-13T13:49:13.271Z"
   },
   {
    "duration": 205,
    "start_time": "2024-07-13T13:49:13.425Z"
   },
   {
    "duration": 538,
    "start_time": "2024-07-13T13:49:13.631Z"
   },
   {
    "duration": 10,
    "start_time": "2024-07-13T13:49:14.171Z"
   },
   {
    "duration": 459,
    "start_time": "2024-07-13T13:49:14.183Z"
   },
   {
    "duration": 10,
    "start_time": "2024-07-13T13:49:14.646Z"
   },
   {
    "duration": 30,
    "start_time": "2024-07-13T13:49:14.658Z"
   },
   {
    "duration": 13,
    "start_time": "2024-07-13T13:49:14.691Z"
   },
   {
    "duration": 3,
    "start_time": "2024-07-13T13:49:14.706Z"
   },
   {
    "duration": 39,
    "start_time": "2024-07-13T13:49:14.710Z"
   },
   {
    "duration": 8,
    "start_time": "2024-07-13T13:49:14.750Z"
   },
   {
    "duration": 785,
    "start_time": "2024-07-13T13:49:14.760Z"
   },
   {
    "duration": 9,
    "start_time": "2024-07-13T13:49:15.547Z"
   },
   {
    "duration": 44,
    "start_time": "2024-07-13T13:49:15.558Z"
   },
   {
    "duration": 960,
    "start_time": "2024-07-13T13:49:15.603Z"
   },
   {
    "duration": 9,
    "start_time": "2024-07-13T13:49:16.565Z"
   },
   {
    "duration": 9,
    "start_time": "2024-07-13T13:49:16.576Z"
   },
   {
    "duration": 24,
    "start_time": "2024-07-13T13:49:16.586Z"
   },
   {
    "duration": 46,
    "start_time": "2024-07-13T13:49:16.612Z"
   },
   {
    "duration": 6,
    "start_time": "2024-07-13T13:49:16.660Z"
   },
   {
    "duration": 24,
    "start_time": "2024-07-13T13:49:16.667Z"
   },
   {
    "duration": 7,
    "start_time": "2024-07-13T13:49:35.710Z"
   },
   {
    "duration": 18,
    "start_time": "2024-07-13T13:49:38.663Z"
   },
   {
    "duration": 8,
    "start_time": "2024-07-13T13:49:41.025Z"
   },
   {
    "duration": 17,
    "start_time": "2024-07-13T13:49:41.919Z"
   },
   {
    "duration": 3,
    "start_time": "2024-07-13T13:49:53.519Z"
   },
   {
    "duration": 84,
    "start_time": "2024-07-13T13:49:53.524Z"
   },
   {
    "duration": 8,
    "start_time": "2024-07-13T13:49:53.610Z"
   },
   {
    "duration": 16,
    "start_time": "2024-07-13T13:49:53.620Z"
   },
   {
    "duration": 20,
    "start_time": "2024-07-13T13:49:53.638Z"
   },
   {
    "duration": 36,
    "start_time": "2024-07-13T13:49:53.660Z"
   },
   {
    "duration": 6,
    "start_time": "2024-07-13T13:49:53.698Z"
   },
   {
    "duration": 37,
    "start_time": "2024-07-13T13:49:53.705Z"
   },
   {
    "duration": 39,
    "start_time": "2024-07-13T13:49:53.743Z"
   },
   {
    "duration": 28,
    "start_time": "2024-07-13T13:49:53.785Z"
   },
   {
    "duration": 10,
    "start_time": "2024-07-13T13:49:53.814Z"
   },
   {
    "duration": 5,
    "start_time": "2024-07-13T13:49:53.826Z"
   },
   {
    "duration": 17,
    "start_time": "2024-07-13T13:49:53.832Z"
   },
   {
    "duration": 12,
    "start_time": "2024-07-13T13:49:53.851Z"
   },
   {
    "duration": 17,
    "start_time": "2024-07-13T13:49:53.864Z"
   },
   {
    "duration": 19,
    "start_time": "2024-07-13T13:49:53.883Z"
   },
   {
    "duration": 8,
    "start_time": "2024-07-13T13:49:53.904Z"
   },
   {
    "duration": 5,
    "start_time": "2024-07-13T13:49:53.914Z"
   },
   {
    "duration": 4,
    "start_time": "2024-07-13T13:49:53.921Z"
   },
   {
    "duration": 208,
    "start_time": "2024-07-13T13:49:53.927Z"
   },
   {
    "duration": 174,
    "start_time": "2024-07-13T13:49:54.137Z"
   },
   {
    "duration": 201,
    "start_time": "2024-07-13T13:49:54.313Z"
   },
   {
    "duration": 567,
    "start_time": "2024-07-13T13:49:54.516Z"
   },
   {
    "duration": 10,
    "start_time": "2024-07-13T13:49:55.085Z"
   },
   {
    "duration": 437,
    "start_time": "2024-07-13T13:49:55.097Z"
   },
   {
    "duration": 16,
    "start_time": "2024-07-13T13:49:55.535Z"
   },
   {
    "duration": 25,
    "start_time": "2024-07-13T13:49:55.552Z"
   },
   {
    "duration": 15,
    "start_time": "2024-07-13T13:49:55.581Z"
   },
   {
    "duration": 4,
    "start_time": "2024-07-13T13:49:55.598Z"
   },
   {
    "duration": 14,
    "start_time": "2024-07-13T13:49:55.603Z"
   },
   {
    "duration": 34,
    "start_time": "2024-07-13T13:49:55.618Z"
   },
   {
    "duration": 852,
    "start_time": "2024-07-13T13:49:55.654Z"
   },
   {
    "duration": 11,
    "start_time": "2024-07-13T13:49:56.508Z"
   },
   {
    "duration": 27,
    "start_time": "2024-07-13T13:49:56.521Z"
   },
   {
    "duration": 913,
    "start_time": "2024-07-13T13:49:56.550Z"
   },
   {
    "duration": 9,
    "start_time": "2024-07-13T13:49:57.464Z"
   },
   {
    "duration": 9,
    "start_time": "2024-07-13T13:49:57.474Z"
   },
   {
    "duration": 28,
    "start_time": "2024-07-13T13:49:57.484Z"
   },
   {
    "duration": 43,
    "start_time": "2024-07-13T13:49:57.514Z"
   },
   {
    "duration": 7,
    "start_time": "2024-07-13T13:49:57.559Z"
   },
   {
    "duration": 33,
    "start_time": "2024-07-13T13:49:57.567Z"
   },
   {
    "duration": 13,
    "start_time": "2024-07-13T13:51:29.412Z"
   },
   {
    "duration": 18,
    "start_time": "2024-07-13T13:51:30.467Z"
   },
   {
    "duration": 3,
    "start_time": "2024-07-13T13:51:36.415Z"
   },
   {
    "duration": 84,
    "start_time": "2024-07-13T13:51:36.420Z"
   },
   {
    "duration": 10,
    "start_time": "2024-07-13T13:51:36.506Z"
   },
   {
    "duration": 27,
    "start_time": "2024-07-13T13:51:36.518Z"
   },
   {
    "duration": 11,
    "start_time": "2024-07-13T13:51:36.547Z"
   },
   {
    "duration": 15,
    "start_time": "2024-07-13T13:51:36.560Z"
   },
   {
    "duration": 8,
    "start_time": "2024-07-13T13:51:36.577Z"
   },
   {
    "duration": 15,
    "start_time": "2024-07-13T13:51:36.587Z"
   },
   {
    "duration": 14,
    "start_time": "2024-07-13T13:51:36.603Z"
   },
   {
    "duration": 34,
    "start_time": "2024-07-13T13:51:36.619Z"
   },
   {
    "duration": 12,
    "start_time": "2024-07-13T13:51:36.654Z"
   },
   {
    "duration": 6,
    "start_time": "2024-07-13T13:51:36.668Z"
   },
   {
    "duration": 11,
    "start_time": "2024-07-13T13:51:36.676Z"
   },
   {
    "duration": 12,
    "start_time": "2024-07-13T13:51:36.690Z"
   },
   {
    "duration": 11,
    "start_time": "2024-07-13T13:51:36.704Z"
   },
   {
    "duration": 8,
    "start_time": "2024-07-13T13:51:36.745Z"
   },
   {
    "duration": 9,
    "start_time": "2024-07-13T13:51:36.754Z"
   },
   {
    "duration": 7,
    "start_time": "2024-07-13T13:51:36.764Z"
   },
   {
    "duration": 22,
    "start_time": "2024-07-13T13:51:36.772Z"
   },
   {
    "duration": 225,
    "start_time": "2024-07-13T13:51:36.796Z"
   },
   {
    "duration": 147,
    "start_time": "2024-07-13T13:51:37.023Z"
   },
   {
    "duration": 229,
    "start_time": "2024-07-13T13:51:37.172Z"
   },
   {
    "duration": 428,
    "start_time": "2024-07-13T13:51:37.403Z"
   },
   {
    "duration": 16,
    "start_time": "2024-07-13T13:51:37.833Z"
   },
   {
    "duration": 498,
    "start_time": "2024-07-13T13:51:37.851Z"
   },
   {
    "duration": 9,
    "start_time": "2024-07-13T13:51:38.351Z"
   },
   {
    "duration": 25,
    "start_time": "2024-07-13T13:51:38.362Z"
   },
   {
    "duration": 14,
    "start_time": "2024-07-13T13:51:38.389Z"
   },
   {
    "duration": 4,
    "start_time": "2024-07-13T13:51:38.405Z"
   },
   {
    "duration": 40,
    "start_time": "2024-07-13T13:51:38.411Z"
   },
   {
    "duration": 8,
    "start_time": "2024-07-13T13:51:38.453Z"
   },
   {
    "duration": 900,
    "start_time": "2024-07-13T13:51:38.463Z"
   },
   {
    "duration": 8,
    "start_time": "2024-07-13T13:51:39.365Z"
   },
   {
    "duration": 73,
    "start_time": "2024-07-13T13:51:39.375Z"
   },
   {
    "duration": 905,
    "start_time": "2024-07-13T13:51:39.450Z"
   },
   {
    "duration": 8,
    "start_time": "2024-07-13T13:51:40.357Z"
   },
   {
    "duration": 8,
    "start_time": "2024-07-13T13:51:40.367Z"
   },
   {
    "duration": 24,
    "start_time": "2024-07-13T13:51:40.376Z"
   },
   {
    "duration": 52,
    "start_time": "2024-07-13T13:51:40.402Z"
   },
   {
    "duration": 963,
    "start_time": "2024-07-13T13:51:40.455Z"
   },
   {
    "duration": 0,
    "start_time": "2024-07-13T13:51:41.420Z"
   },
   {
    "duration": 5,
    "start_time": "2024-07-13T13:52:28.247Z"
   },
   {
    "duration": 992,
    "start_time": "2024-07-13T13:52:48.991Z"
   },
   {
    "duration": 1034,
    "start_time": "2024-07-13T13:53:51.108Z"
   },
   {
    "duration": 4,
    "start_time": "2024-07-13T13:55:00.014Z"
   },
   {
    "duration": 118,
    "start_time": "2024-07-13T13:55:00.019Z"
   },
   {
    "duration": 10,
    "start_time": "2024-07-13T13:55:00.139Z"
   },
   {
    "duration": 88,
    "start_time": "2024-07-13T13:55:00.152Z"
   },
   {
    "duration": 131,
    "start_time": "2024-07-13T13:55:00.242Z"
   },
   {
    "duration": 79,
    "start_time": "2024-07-13T13:55:00.375Z"
   },
   {
    "duration": 85,
    "start_time": "2024-07-13T13:55:00.456Z"
   },
   {
    "duration": 51,
    "start_time": "2024-07-13T13:55:00.544Z"
   },
   {
    "duration": 61,
    "start_time": "2024-07-13T13:55:00.597Z"
   },
   {
    "duration": 43,
    "start_time": "2024-07-13T13:55:00.661Z"
   },
   {
    "duration": 101,
    "start_time": "2024-07-13T13:55:00.706Z"
   },
   {
    "duration": 44,
    "start_time": "2024-07-13T13:55:00.809Z"
   },
   {
    "duration": 52,
    "start_time": "2024-07-13T13:55:00.855Z"
   },
   {
    "duration": 61,
    "start_time": "2024-07-13T13:55:00.910Z"
   },
   {
    "duration": 36,
    "start_time": "2024-07-13T13:55:00.973Z"
   },
   {
    "duration": 91,
    "start_time": "2024-07-13T13:55:01.010Z"
   },
   {
    "duration": 106,
    "start_time": "2024-07-13T13:55:01.103Z"
   },
   {
    "duration": 36,
    "start_time": "2024-07-13T13:55:01.211Z"
   },
   {
    "duration": 31,
    "start_time": "2024-07-13T13:55:01.248Z"
   },
   {
    "duration": 249,
    "start_time": "2024-07-13T13:55:01.280Z"
   },
   {
    "duration": 146,
    "start_time": "2024-07-13T13:55:01.531Z"
   },
   {
    "duration": 277,
    "start_time": "2024-07-13T13:55:01.680Z"
   },
   {
    "duration": 419,
    "start_time": "2024-07-13T13:55:01.959Z"
   },
   {
    "duration": 10,
    "start_time": "2024-07-13T13:55:02.380Z"
   },
   {
    "duration": 755,
    "start_time": "2024-07-13T13:55:02.391Z"
   },
   {
    "duration": 9,
    "start_time": "2024-07-13T13:55:03.148Z"
   },
   {
    "duration": 28,
    "start_time": "2024-07-13T13:55:03.159Z"
   },
   {
    "duration": 14,
    "start_time": "2024-07-13T13:55:03.191Z"
   },
   {
    "duration": 4,
    "start_time": "2024-07-13T13:55:03.207Z"
   },
   {
    "duration": 39,
    "start_time": "2024-07-13T13:55:03.212Z"
   },
   {
    "duration": 8,
    "start_time": "2024-07-13T13:55:03.253Z"
   },
   {
    "duration": 835,
    "start_time": "2024-07-13T13:55:03.262Z"
   },
   {
    "duration": 11,
    "start_time": "2024-07-13T13:55:04.098Z"
   },
   {
    "duration": 83,
    "start_time": "2024-07-13T13:55:04.111Z"
   },
   {
    "duration": 955,
    "start_time": "2024-07-13T13:55:04.196Z"
   },
   {
    "duration": 9,
    "start_time": "2024-07-13T13:55:05.153Z"
   },
   {
    "duration": 16,
    "start_time": "2024-07-13T13:55:05.164Z"
   },
   {
    "duration": 32,
    "start_time": "2024-07-13T13:55:05.182Z"
   },
   {
    "duration": 10,
    "start_time": "2024-07-13T13:55:05.216Z"
   },
   {
    "duration": 945,
    "start_time": "2024-07-13T13:55:05.228Z"
   },
   {
    "duration": 0,
    "start_time": "2024-07-13T13:55:06.175Z"
   },
   {
    "duration": 31,
    "start_time": "2024-07-13T13:55:12.479Z"
   },
   {
    "duration": 13,
    "start_time": "2024-07-13T13:56:32.308Z"
   },
   {
    "duration": 46,
    "start_time": "2024-07-13T13:57:08.115Z"
   },
   {
    "duration": 10,
    "start_time": "2024-07-13T13:58:45.706Z"
   },
   {
    "duration": 12,
    "start_time": "2024-07-13T13:59:08.496Z"
   },
   {
    "duration": 11,
    "start_time": "2024-07-13T13:59:13.256Z"
   },
   {
    "duration": 19,
    "start_time": "2024-07-13T13:59:54.513Z"
   },
   {
    "duration": 45,
    "start_time": "2024-07-13T14:00:31.727Z"
   },
   {
    "duration": 1007,
    "start_time": "2024-07-13T14:03:23.710Z"
   },
   {
    "duration": 107,
    "start_time": "2024-07-13T14:05:59.632Z"
   },
   {
    "duration": 45,
    "start_time": "2024-07-13T14:06:29.822Z"
   },
   {
    "duration": 45,
    "start_time": "2024-07-13T14:06:38.201Z"
   },
   {
    "duration": 27,
    "start_time": "2024-07-13T14:07:23.354Z"
   },
   {
    "duration": 38,
    "start_time": "2024-07-13T14:07:44.659Z"
   },
   {
    "duration": 28,
    "start_time": "2024-07-13T14:07:57.187Z"
   },
   {
    "duration": 28,
    "start_time": "2024-07-13T14:08:07.157Z"
   },
   {
    "duration": 3,
    "start_time": "2024-07-13T14:08:19.886Z"
   },
   {
    "duration": 73,
    "start_time": "2024-07-13T14:08:19.891Z"
   },
   {
    "duration": 8,
    "start_time": "2024-07-13T14:08:19.965Z"
   },
   {
    "duration": 9,
    "start_time": "2024-07-13T14:08:19.975Z"
   },
   {
    "duration": 9,
    "start_time": "2024-07-13T14:08:19.986Z"
   },
   {
    "duration": 12,
    "start_time": "2024-07-13T14:08:19.999Z"
   },
   {
    "duration": 9,
    "start_time": "2024-07-13T14:08:20.013Z"
   },
   {
    "duration": 35,
    "start_time": "2024-07-13T14:08:20.023Z"
   },
   {
    "duration": 9,
    "start_time": "2024-07-13T14:08:20.061Z"
   },
   {
    "duration": 12,
    "start_time": "2024-07-13T14:08:20.072Z"
   },
   {
    "duration": 11,
    "start_time": "2024-07-13T14:08:20.086Z"
   },
   {
    "duration": 6,
    "start_time": "2024-07-13T14:08:20.099Z"
   },
   {
    "duration": 7,
    "start_time": "2024-07-13T14:08:20.107Z"
   },
   {
    "duration": 6,
    "start_time": "2024-07-13T14:08:20.146Z"
   },
   {
    "duration": 22,
    "start_time": "2024-07-13T14:08:20.153Z"
   },
   {
    "duration": 10,
    "start_time": "2024-07-13T14:08:20.177Z"
   },
   {
    "duration": 8,
    "start_time": "2024-07-13T14:08:20.188Z"
   },
   {
    "duration": 6,
    "start_time": "2024-07-13T14:08:20.198Z"
   },
   {
    "duration": 6,
    "start_time": "2024-07-13T14:08:20.205Z"
   },
   {
    "duration": 224,
    "start_time": "2024-07-13T14:08:20.212Z"
   },
   {
    "duration": 162,
    "start_time": "2024-07-13T14:08:20.438Z"
   },
   {
    "duration": 198,
    "start_time": "2024-07-13T14:08:20.602Z"
   },
   {
    "duration": 430,
    "start_time": "2024-07-13T14:08:20.802Z"
   },
   {
    "duration": 15,
    "start_time": "2024-07-13T14:08:21.236Z"
   },
   {
    "duration": 516,
    "start_time": "2024-07-13T14:08:21.252Z"
   },
   {
    "duration": 10,
    "start_time": "2024-07-13T14:08:21.770Z"
   },
   {
    "duration": 23,
    "start_time": "2024-07-13T14:08:21.781Z"
   },
   {
    "duration": 14,
    "start_time": "2024-07-13T14:08:21.806Z"
   },
   {
    "duration": 26,
    "start_time": "2024-07-13T14:08:21.821Z"
   },
   {
    "duration": 17,
    "start_time": "2024-07-13T14:08:21.848Z"
   },
   {
    "duration": 8,
    "start_time": "2024-07-13T14:08:21.867Z"
   },
   {
    "duration": 832,
    "start_time": "2024-07-13T14:08:21.877Z"
   },
   {
    "duration": 9,
    "start_time": "2024-07-13T14:08:22.711Z"
   },
   {
    "duration": 29,
    "start_time": "2024-07-13T14:08:22.722Z"
   },
   {
    "duration": 929,
    "start_time": "2024-07-13T14:08:22.753Z"
   },
   {
    "duration": 8,
    "start_time": "2024-07-13T14:08:23.684Z"
   },
   {
    "duration": 7,
    "start_time": "2024-07-13T14:08:23.694Z"
   },
   {
    "duration": 45,
    "start_time": "2024-07-13T14:08:23.702Z"
   },
   {
    "duration": 25,
    "start_time": "2024-07-13T14:08:23.748Z"
   },
   {
    "duration": 19,
    "start_time": "2024-07-13T14:08:23.775Z"
   },
   {
    "duration": 62,
    "start_time": "2024-07-13T14:08:23.795Z"
   },
   {
    "duration": 29,
    "start_time": "2024-07-13T14:09:20.998Z"
   },
   {
    "duration": 47,
    "start_time": "2024-07-13T14:09:41.460Z"
   },
   {
    "duration": 3,
    "start_time": "2024-07-13T14:10:10.088Z"
   },
   {
    "duration": 77,
    "start_time": "2024-07-13T14:10:10.094Z"
   },
   {
    "duration": 10,
    "start_time": "2024-07-13T14:10:10.173Z"
   },
   {
    "duration": 20,
    "start_time": "2024-07-13T14:10:10.185Z"
   },
   {
    "duration": 14,
    "start_time": "2024-07-13T14:10:10.208Z"
   },
   {
    "duration": 22,
    "start_time": "2024-07-13T14:10:10.225Z"
   },
   {
    "duration": 11,
    "start_time": "2024-07-13T14:10:10.250Z"
   },
   {
    "duration": 17,
    "start_time": "2024-07-13T14:10:10.263Z"
   },
   {
    "duration": 9,
    "start_time": "2024-07-13T14:10:10.282Z"
   },
   {
    "duration": 13,
    "start_time": "2024-07-13T14:10:10.293Z"
   },
   {
    "duration": 44,
    "start_time": "2024-07-13T14:10:10.307Z"
   },
   {
    "duration": 8,
    "start_time": "2024-07-13T14:10:10.354Z"
   },
   {
    "duration": 10,
    "start_time": "2024-07-13T14:10:10.364Z"
   },
   {
    "duration": 5,
    "start_time": "2024-07-13T14:10:10.379Z"
   },
   {
    "duration": 20,
    "start_time": "2024-07-13T14:10:10.385Z"
   },
   {
    "duration": 39,
    "start_time": "2024-07-13T14:10:10.406Z"
   },
   {
    "duration": 8,
    "start_time": "2024-07-13T14:10:10.448Z"
   },
   {
    "duration": 8,
    "start_time": "2024-07-13T14:10:10.458Z"
   },
   {
    "duration": 7,
    "start_time": "2024-07-13T14:10:10.468Z"
   },
   {
    "duration": 260,
    "start_time": "2024-07-13T14:10:10.477Z"
   },
   {
    "duration": 171,
    "start_time": "2024-07-13T14:10:10.739Z"
   },
   {
    "duration": 208,
    "start_time": "2024-07-13T14:10:10.911Z"
   },
   {
    "duration": 452,
    "start_time": "2024-07-13T14:10:11.121Z"
   },
   {
    "duration": 9,
    "start_time": "2024-07-13T14:10:11.575Z"
   },
   {
    "duration": 423,
    "start_time": "2024-07-13T14:10:11.586Z"
   },
   {
    "duration": 8,
    "start_time": "2024-07-13T14:10:12.011Z"
   },
   {
    "duration": 38,
    "start_time": "2024-07-13T14:10:12.021Z"
   },
   {
    "duration": 17,
    "start_time": "2024-07-13T14:10:12.061Z"
   },
   {
    "duration": 4,
    "start_time": "2024-07-13T14:10:12.079Z"
   },
   {
    "duration": 17,
    "start_time": "2024-07-13T14:10:12.084Z"
   },
   {
    "duration": 19,
    "start_time": "2024-07-13T14:10:12.103Z"
   },
   {
    "duration": 1020,
    "start_time": "2024-07-13T14:10:12.124Z"
   },
   {
    "duration": 10,
    "start_time": "2024-07-13T14:10:13.145Z"
   },
   {
    "duration": 17,
    "start_time": "2024-07-13T14:10:13.157Z"
   },
   {
    "duration": 957,
    "start_time": "2024-07-13T14:10:13.175Z"
   },
   {
    "duration": 17,
    "start_time": "2024-07-13T14:10:14.134Z"
   },
   {
    "duration": 10,
    "start_time": "2024-07-13T14:10:14.156Z"
   },
   {
    "duration": 46,
    "start_time": "2024-07-13T14:10:14.168Z"
   },
   {
    "duration": 45,
    "start_time": "2024-07-13T14:10:23.568Z"
   },
   {
    "duration": 64,
    "start_time": "2024-07-13T14:10:54.507Z"
   },
   {
    "duration": 290,
    "start_time": "2024-07-13T14:11:44.099Z"
   },
   {
    "duration": 316,
    "start_time": "2024-07-13T14:12:04.809Z"
   },
   {
    "duration": 86,
    "start_time": "2024-07-13T14:12:40.991Z"
   },
   {
    "duration": 43,
    "start_time": "2024-07-13T14:13:49.624Z"
   },
   {
    "duration": 48,
    "start_time": "2024-07-13T14:14:13.383Z"
   },
   {
    "duration": 45,
    "start_time": "2024-07-13T14:14:32.736Z"
   },
   {
    "duration": 44,
    "start_time": "2024-07-13T14:14:41.485Z"
   },
   {
    "duration": 11,
    "start_time": "2024-07-13T14:15:10.517Z"
   },
   {
    "duration": 4,
    "start_time": "2024-07-13T14:15:18.354Z"
   },
   {
    "duration": 89,
    "start_time": "2024-07-13T14:15:18.361Z"
   },
   {
    "duration": 10,
    "start_time": "2024-07-13T14:15:18.453Z"
   },
   {
    "duration": 20,
    "start_time": "2024-07-13T14:15:18.465Z"
   },
   {
    "duration": 15,
    "start_time": "2024-07-13T14:15:18.488Z"
   },
   {
    "duration": 22,
    "start_time": "2024-07-13T14:15:18.504Z"
   },
   {
    "duration": 20,
    "start_time": "2024-07-13T14:15:18.528Z"
   },
   {
    "duration": 19,
    "start_time": "2024-07-13T14:15:18.550Z"
   },
   {
    "duration": 12,
    "start_time": "2024-07-13T14:15:18.571Z"
   },
   {
    "duration": 14,
    "start_time": "2024-07-13T14:15:18.586Z"
   },
   {
    "duration": 16,
    "start_time": "2024-07-13T14:15:18.602Z"
   },
   {
    "duration": 10,
    "start_time": "2024-07-13T14:15:18.646Z"
   },
   {
    "duration": 8,
    "start_time": "2024-07-13T14:15:18.658Z"
   },
   {
    "duration": 16,
    "start_time": "2024-07-13T14:15:18.669Z"
   },
   {
    "duration": 14,
    "start_time": "2024-07-13T14:15:18.689Z"
   },
   {
    "duration": 8,
    "start_time": "2024-07-13T14:15:18.705Z"
   },
   {
    "duration": 31,
    "start_time": "2024-07-13T14:15:18.715Z"
   },
   {
    "duration": 7,
    "start_time": "2024-07-13T14:15:18.747Z"
   },
   {
    "duration": 17,
    "start_time": "2024-07-13T14:15:18.755Z"
   },
   {
    "duration": 196,
    "start_time": "2024-07-13T14:15:18.774Z"
   },
   {
    "duration": 145,
    "start_time": "2024-07-13T14:15:18.972Z"
   },
   {
    "duration": 194,
    "start_time": "2024-07-13T14:15:19.119Z"
   },
   {
    "duration": 419,
    "start_time": "2024-07-13T14:15:19.315Z"
   },
   {
    "duration": 11,
    "start_time": "2024-07-13T14:15:19.736Z"
   },
   {
    "duration": 419,
    "start_time": "2024-07-13T14:15:19.749Z"
   },
   {
    "duration": 9,
    "start_time": "2024-07-13T14:15:20.169Z"
   },
   {
    "duration": 40,
    "start_time": "2024-07-13T14:15:20.180Z"
   },
   {
    "duration": 14,
    "start_time": "2024-07-13T14:15:20.224Z"
   },
   {
    "duration": 3,
    "start_time": "2024-07-13T14:15:20.245Z"
   },
   {
    "duration": 15,
    "start_time": "2024-07-13T14:15:20.250Z"
   },
   {
    "duration": 17,
    "start_time": "2024-07-13T14:15:20.267Z"
   },
   {
    "duration": 996,
    "start_time": "2024-07-13T14:15:20.286Z"
   },
   {
    "duration": 11,
    "start_time": "2024-07-13T14:15:21.284Z"
   },
   {
    "duration": 10,
    "start_time": "2024-07-13T14:15:21.297Z"
   },
   {
    "duration": 836,
    "start_time": "2024-07-13T14:15:21.309Z"
   },
   {
    "duration": 8,
    "start_time": "2024-07-13T14:15:22.147Z"
   },
   {
    "duration": 8,
    "start_time": "2024-07-13T14:15:22.157Z"
   },
   {
    "duration": 37,
    "start_time": "2024-07-13T14:15:22.166Z"
   },
   {
    "duration": 10,
    "start_time": "2024-07-13T14:15:22.204Z"
   },
   {
    "duration": 937,
    "start_time": "2024-07-13T14:17:24.455Z"
   },
   {
    "duration": 5,
    "start_time": "2024-07-13T14:17:40.154Z"
   },
   {
    "duration": 11,
    "start_time": "2024-07-13T14:18:01.230Z"
   },
   {
    "duration": 5,
    "start_time": "2024-07-13T14:18:25.304Z"
   },
   {
    "duration": 12,
    "start_time": "2024-07-13T14:21:36.012Z"
   },
   {
    "duration": 3,
    "start_time": "2024-07-13T14:21:40.513Z"
   },
   {
    "duration": 70,
    "start_time": "2024-07-13T14:21:40.517Z"
   },
   {
    "duration": 8,
    "start_time": "2024-07-13T14:21:40.589Z"
   },
   {
    "duration": 18,
    "start_time": "2024-07-13T14:21:40.599Z"
   },
   {
    "duration": 28,
    "start_time": "2024-07-13T14:21:40.619Z"
   },
   {
    "duration": 27,
    "start_time": "2024-07-13T14:21:40.649Z"
   },
   {
    "duration": 7,
    "start_time": "2024-07-13T14:21:40.678Z"
   },
   {
    "duration": 123,
    "start_time": "2024-07-13T14:21:40.687Z"
   },
   {
    "duration": 10,
    "start_time": "2024-07-13T14:21:40.812Z"
   },
   {
    "duration": 21,
    "start_time": "2024-07-13T14:21:40.825Z"
   },
   {
    "duration": 11,
    "start_time": "2024-07-13T14:21:40.848Z"
   },
   {
    "duration": 5,
    "start_time": "2024-07-13T14:21:40.861Z"
   },
   {
    "duration": 6,
    "start_time": "2024-07-13T14:21:40.868Z"
   },
   {
    "duration": 5,
    "start_time": "2024-07-13T14:21:40.876Z"
   },
   {
    "duration": 11,
    "start_time": "2024-07-13T14:21:40.882Z"
   },
   {
    "duration": 53,
    "start_time": "2024-07-13T14:21:40.894Z"
   },
   {
    "duration": 8,
    "start_time": "2024-07-13T14:21:40.949Z"
   },
   {
    "duration": 5,
    "start_time": "2024-07-13T14:21:40.959Z"
   },
   {
    "duration": 5,
    "start_time": "2024-07-13T14:21:40.966Z"
   },
   {
    "duration": 255,
    "start_time": "2024-07-13T14:21:40.972Z"
   },
   {
    "duration": 153,
    "start_time": "2024-07-13T14:21:41.229Z"
   },
   {
    "duration": 213,
    "start_time": "2024-07-13T14:21:41.384Z"
   },
   {
    "duration": 399,
    "start_time": "2024-07-13T14:21:41.599Z"
   },
   {
    "duration": 9,
    "start_time": "2024-07-13T14:21:42.000Z"
   },
   {
    "duration": 417,
    "start_time": "2024-07-13T14:21:42.011Z"
   },
   {
    "duration": 9,
    "start_time": "2024-07-13T14:21:42.429Z"
   },
   {
    "duration": 30,
    "start_time": "2024-07-13T14:21:42.446Z"
   },
   {
    "duration": 14,
    "start_time": "2024-07-13T14:21:42.480Z"
   },
   {
    "duration": 3,
    "start_time": "2024-07-13T14:21:42.496Z"
   },
   {
    "duration": 10,
    "start_time": "2024-07-13T14:21:42.501Z"
   },
   {
    "duration": 36,
    "start_time": "2024-07-13T14:21:42.512Z"
   },
   {
    "duration": 937,
    "start_time": "2024-07-13T14:21:42.550Z"
   },
   {
    "duration": 9,
    "start_time": "2024-07-13T14:21:43.488Z"
   },
   {
    "duration": 8,
    "start_time": "2024-07-13T14:21:43.499Z"
   },
   {
    "duration": 804,
    "start_time": "2024-07-13T14:21:43.508Z"
   },
   {
    "duration": 9,
    "start_time": "2024-07-13T14:21:44.314Z"
   },
   {
    "duration": 23,
    "start_time": "2024-07-13T14:21:44.325Z"
   },
   {
    "duration": 38,
    "start_time": "2024-07-13T14:21:44.350Z"
   },
   {
    "duration": 3,
    "start_time": "2024-07-13T14:21:44.390Z"
   },
   {
    "duration": 25,
    "start_time": "2024-07-13T14:21:44.395Z"
   },
   {
    "duration": 991,
    "start_time": "2024-07-13T14:21:44.422Z"
   },
   {
    "duration": 0,
    "start_time": "2024-07-13T14:21:45.415Z"
   },
   {
    "duration": 3,
    "start_time": "2024-07-13T14:22:19.487Z"
   },
   {
    "duration": 79,
    "start_time": "2024-07-13T14:22:19.492Z"
   },
   {
    "duration": 9,
    "start_time": "2024-07-13T14:22:19.573Z"
   },
   {
    "duration": 16,
    "start_time": "2024-07-13T14:22:19.584Z"
   },
   {
    "duration": 22,
    "start_time": "2024-07-13T14:22:19.602Z"
   },
   {
    "duration": 21,
    "start_time": "2024-07-13T14:22:19.626Z"
   },
   {
    "duration": 34,
    "start_time": "2024-07-13T14:22:19.648Z"
   },
   {
    "duration": 14,
    "start_time": "2024-07-13T14:22:19.684Z"
   },
   {
    "duration": 13,
    "start_time": "2024-07-13T14:22:19.699Z"
   },
   {
    "duration": 12,
    "start_time": "2024-07-13T14:22:19.714Z"
   },
   {
    "duration": 27,
    "start_time": "2024-07-13T14:22:19.727Z"
   },
   {
    "duration": 7,
    "start_time": "2024-07-13T14:22:19.756Z"
   },
   {
    "duration": 7,
    "start_time": "2024-07-13T14:22:19.765Z"
   },
   {
    "duration": 6,
    "start_time": "2024-07-13T14:22:19.774Z"
   },
   {
    "duration": 12,
    "start_time": "2024-07-13T14:22:19.782Z"
   },
   {
    "duration": 6,
    "start_time": "2024-07-13T14:22:19.796Z"
   },
   {
    "duration": 9,
    "start_time": "2024-07-13T14:22:19.846Z"
   },
   {
    "duration": 24,
    "start_time": "2024-07-13T14:22:19.857Z"
   },
   {
    "duration": 8,
    "start_time": "2024-07-13T14:22:19.883Z"
   },
   {
    "duration": 255,
    "start_time": "2024-07-13T14:22:19.893Z"
   },
   {
    "duration": 282,
    "start_time": "2024-07-13T14:22:20.150Z"
   },
   {
    "duration": 212,
    "start_time": "2024-07-13T14:22:20.434Z"
   },
   {
    "duration": 416,
    "start_time": "2024-07-13T14:22:20.648Z"
   },
   {
    "duration": 9,
    "start_time": "2024-07-13T14:22:21.066Z"
   },
   {
    "duration": 420,
    "start_time": "2024-07-13T14:22:21.077Z"
   },
   {
    "duration": 9,
    "start_time": "2024-07-13T14:22:21.499Z"
   },
   {
    "duration": 73,
    "start_time": "2024-07-13T14:22:21.510Z"
   },
   {
    "duration": 16,
    "start_time": "2024-07-13T14:22:21.588Z"
   },
   {
    "duration": 4,
    "start_time": "2024-07-13T14:22:21.607Z"
   },
   {
    "duration": 12,
    "start_time": "2024-07-13T14:22:21.613Z"
   },
   {
    "duration": 20,
    "start_time": "2024-07-13T14:22:21.627Z"
   },
   {
    "duration": 950,
    "start_time": "2024-07-13T14:22:21.649Z"
   },
   {
    "duration": 11,
    "start_time": "2024-07-13T14:22:22.601Z"
   },
   {
    "duration": 18,
    "start_time": "2024-07-13T14:22:22.614Z"
   },
   {
    "duration": 833,
    "start_time": "2024-07-13T14:22:22.635Z"
   },
   {
    "duration": 10,
    "start_time": "2024-07-13T14:22:23.470Z"
   },
   {
    "duration": 53,
    "start_time": "2024-07-13T14:22:23.481Z"
   },
   {
    "duration": 43,
    "start_time": "2024-07-13T14:22:23.536Z"
   },
   {
    "duration": 10,
    "start_time": "2024-07-13T14:22:23.581Z"
   },
   {
    "duration": 14,
    "start_time": "2024-07-13T14:22:23.593Z"
   },
   {
    "duration": 8,
    "start_time": "2024-07-13T14:22:23.609Z"
   },
   {
    "duration": 609,
    "start_time": "2024-07-13T14:30:17.764Z"
   },
   {
    "duration": 335,
    "start_time": "2024-07-13T14:30:31.299Z"
   },
   {
    "duration": 3,
    "start_time": "2024-07-13T14:30:40.232Z"
   },
   {
    "duration": 69,
    "start_time": "2024-07-13T14:30:40.238Z"
   },
   {
    "duration": 9,
    "start_time": "2024-07-13T14:30:40.309Z"
   },
   {
    "duration": 12,
    "start_time": "2024-07-13T14:30:40.320Z"
   },
   {
    "duration": 9,
    "start_time": "2024-07-13T14:30:40.334Z"
   },
   {
    "duration": 11,
    "start_time": "2024-07-13T14:30:40.345Z"
   },
   {
    "duration": 12,
    "start_time": "2024-07-13T14:30:40.358Z"
   },
   {
    "duration": 20,
    "start_time": "2024-07-13T14:30:40.372Z"
   },
   {
    "duration": 9,
    "start_time": "2024-07-13T14:30:40.394Z"
   },
   {
    "duration": 11,
    "start_time": "2024-07-13T14:30:40.405Z"
   },
   {
    "duration": 11,
    "start_time": "2024-07-13T14:30:40.418Z"
   },
   {
    "duration": 6,
    "start_time": "2024-07-13T14:30:40.445Z"
   },
   {
    "duration": 8,
    "start_time": "2024-07-13T14:30:40.453Z"
   },
   {
    "duration": 6,
    "start_time": "2024-07-13T14:30:40.464Z"
   },
   {
    "duration": 17,
    "start_time": "2024-07-13T14:30:40.472Z"
   },
   {
    "duration": 8,
    "start_time": "2024-07-13T14:30:40.490Z"
   },
   {
    "duration": 9,
    "start_time": "2024-07-13T14:30:40.500Z"
   },
   {
    "duration": 41,
    "start_time": "2024-07-13T14:30:40.510Z"
   },
   {
    "duration": 12,
    "start_time": "2024-07-13T14:30:40.553Z"
   },
   {
    "duration": 244,
    "start_time": "2024-07-13T14:30:40.567Z"
   },
   {
    "duration": 155,
    "start_time": "2024-07-13T14:30:40.813Z"
   },
   {
    "duration": 223,
    "start_time": "2024-07-13T14:30:40.971Z"
   },
   {
    "duration": 409,
    "start_time": "2024-07-13T14:30:41.196Z"
   },
   {
    "duration": 9,
    "start_time": "2024-07-13T14:30:41.607Z"
   },
   {
    "duration": 503,
    "start_time": "2024-07-13T14:30:41.618Z"
   },
   {
    "duration": 8,
    "start_time": "2024-07-13T14:30:42.123Z"
   },
   {
    "duration": 30,
    "start_time": "2024-07-13T14:30:42.133Z"
   },
   {
    "duration": 14,
    "start_time": "2024-07-13T14:30:42.165Z"
   },
   {
    "duration": 3,
    "start_time": "2024-07-13T14:30:42.180Z"
   },
   {
    "duration": 9,
    "start_time": "2024-07-13T14:30:42.185Z"
   },
   {
    "duration": 7,
    "start_time": "2024-07-13T14:30:42.196Z"
   },
   {
    "duration": 874,
    "start_time": "2024-07-13T14:30:42.205Z"
   },
   {
    "duration": 9,
    "start_time": "2024-07-13T14:30:43.080Z"
   },
   {
    "duration": 7,
    "start_time": "2024-07-13T14:30:43.091Z"
   },
   {
    "duration": 342,
    "start_time": "2024-07-13T14:30:43.099Z"
   },
   {
    "duration": 11,
    "start_time": "2024-07-13T14:30:43.442Z"
   },
   {
    "duration": 37,
    "start_time": "2024-07-13T14:30:43.454Z"
   },
   {
    "duration": 38,
    "start_time": "2024-07-13T14:30:43.492Z"
   },
   {
    "duration": 11,
    "start_time": "2024-07-13T14:30:43.531Z"
   },
   {
    "duration": 6,
    "start_time": "2024-07-13T14:30:43.543Z"
   },
   {
    "duration": 5,
    "start_time": "2024-07-13T14:30:43.553Z"
   },
   {
    "duration": 5,
    "start_time": "2024-07-13T14:43:54.076Z"
   },
   {
    "duration": 74,
    "start_time": "2024-07-13T14:43:54.084Z"
   },
   {
    "duration": 8,
    "start_time": "2024-07-13T14:43:54.160Z"
   },
   {
    "duration": 18,
    "start_time": "2024-07-13T14:43:54.170Z"
   },
   {
    "duration": 11,
    "start_time": "2024-07-13T14:43:54.190Z"
   },
   {
    "duration": 13,
    "start_time": "2024-07-13T14:43:54.202Z"
   },
   {
    "duration": 7,
    "start_time": "2024-07-13T14:43:54.216Z"
   },
   {
    "duration": 26,
    "start_time": "2024-07-13T14:43:54.224Z"
   },
   {
    "duration": 12,
    "start_time": "2024-07-13T14:43:54.252Z"
   },
   {
    "duration": 10,
    "start_time": "2024-07-13T14:43:54.266Z"
   },
   {
    "duration": 11,
    "start_time": "2024-07-13T14:43:54.278Z"
   },
   {
    "duration": 6,
    "start_time": "2024-07-13T14:43:54.291Z"
   },
   {
    "duration": 10,
    "start_time": "2024-07-13T14:43:54.299Z"
   },
   {
    "duration": 36,
    "start_time": "2024-07-13T14:43:54.312Z"
   },
   {
    "duration": 12,
    "start_time": "2024-07-13T14:43:54.350Z"
   },
   {
    "duration": 15,
    "start_time": "2024-07-13T14:43:54.364Z"
   },
   {
    "duration": 24,
    "start_time": "2024-07-13T14:43:54.380Z"
   },
   {
    "duration": 8,
    "start_time": "2024-07-13T14:43:54.406Z"
   },
   {
    "duration": 9,
    "start_time": "2024-07-13T14:43:54.415Z"
   },
   {
    "duration": 229,
    "start_time": "2024-07-13T14:43:54.426Z"
   },
   {
    "duration": 146,
    "start_time": "2024-07-13T14:43:54.657Z"
   },
   {
    "duration": 316,
    "start_time": "2024-07-13T14:43:54.805Z"
   },
   {
    "duration": 415,
    "start_time": "2024-07-13T14:43:55.122Z"
   },
   {
    "duration": 13,
    "start_time": "2024-07-13T14:43:55.539Z"
   },
   {
    "duration": 440,
    "start_time": "2024-07-13T14:43:55.554Z"
   },
   {
    "duration": 9,
    "start_time": "2024-07-13T14:43:55.996Z"
   },
   {
    "duration": 63,
    "start_time": "2024-07-13T14:43:56.006Z"
   },
   {
    "duration": 47,
    "start_time": "2024-07-13T14:43:56.071Z"
   },
   {
    "duration": 11,
    "start_time": "2024-07-13T14:43:56.120Z"
   },
   {
    "duration": 25,
    "start_time": "2024-07-13T14:43:56.132Z"
   },
   {
    "duration": 18,
    "start_time": "2024-07-13T14:43:56.159Z"
   },
   {
    "duration": 936,
    "start_time": "2024-07-13T14:43:56.179Z"
   },
   {
    "duration": 9,
    "start_time": "2024-07-13T14:43:57.116Z"
   },
   {
    "duration": 30,
    "start_time": "2024-07-13T14:43:57.126Z"
   },
   {
    "duration": 379,
    "start_time": "2024-07-13T14:43:57.157Z"
   },
   {
    "duration": 17,
    "start_time": "2024-07-13T14:43:57.538Z"
   },
   {
    "duration": 9,
    "start_time": "2024-07-13T14:43:57.557Z"
   },
   {
    "duration": 70,
    "start_time": "2024-07-13T14:43:57.568Z"
   },
   {
    "duration": 9,
    "start_time": "2024-07-13T14:43:57.640Z"
   },
   {
    "duration": 16,
    "start_time": "2024-07-13T14:43:57.651Z"
   },
   {
    "duration": 35,
    "start_time": "2024-07-13T14:43:57.671Z"
   },
   {
    "duration": 28,
    "start_time": "2024-07-13T14:43:57.708Z"
   },
   {
    "duration": 424,
    "start_time": "2024-07-13T14:45:12.950Z"
   },
   {
    "duration": 68,
    "start_time": "2024-07-13T14:45:13.376Z"
   },
   {
    "duration": 8,
    "start_time": "2024-07-13T14:45:13.446Z"
   },
   {
    "duration": 16,
    "start_time": "2024-07-13T14:45:13.455Z"
   },
   {
    "duration": 16,
    "start_time": "2024-07-13T14:45:13.473Z"
   },
   {
    "duration": 13,
    "start_time": "2024-07-13T14:45:13.492Z"
   },
   {
    "duration": 6,
    "start_time": "2024-07-13T14:45:13.507Z"
   },
   {
    "duration": 32,
    "start_time": "2024-07-13T14:45:13.514Z"
   },
   {
    "duration": 44,
    "start_time": "2024-07-13T14:45:13.548Z"
   },
   {
    "duration": 13,
    "start_time": "2024-07-13T14:45:13.594Z"
   },
   {
    "duration": 10,
    "start_time": "2024-07-13T14:45:13.609Z"
   },
   {
    "duration": 5,
    "start_time": "2024-07-13T14:45:13.621Z"
   },
   {
    "duration": 7,
    "start_time": "2024-07-13T14:45:13.628Z"
   },
   {
    "duration": 11,
    "start_time": "2024-07-13T14:45:13.637Z"
   },
   {
    "duration": 27,
    "start_time": "2024-07-13T14:45:13.650Z"
   },
   {
    "duration": 8,
    "start_time": "2024-07-13T14:45:13.679Z"
   },
   {
    "duration": 8,
    "start_time": "2024-07-13T14:45:13.689Z"
   },
   {
    "duration": 6,
    "start_time": "2024-07-13T14:45:13.698Z"
   },
   {
    "duration": 5,
    "start_time": "2024-07-13T14:45:13.705Z"
   },
   {
    "duration": 214,
    "start_time": "2024-07-13T14:45:13.712Z"
   },
   {
    "duration": 287,
    "start_time": "2024-07-13T14:45:13.928Z"
   },
   {
    "duration": 201,
    "start_time": "2024-07-13T14:45:14.217Z"
   },
   {
    "duration": 414,
    "start_time": "2024-07-13T14:45:14.420Z"
   },
   {
    "duration": 15,
    "start_time": "2024-07-13T14:45:14.836Z"
   },
   {
    "duration": 393,
    "start_time": "2024-07-13T14:45:14.852Z"
   },
   {
    "duration": 9,
    "start_time": "2024-07-13T14:45:15.248Z"
   },
   {
    "duration": 44,
    "start_time": "2024-07-13T14:45:15.258Z"
   },
   {
    "duration": 58,
    "start_time": "2024-07-13T14:45:15.304Z"
   },
   {
    "duration": 58,
    "start_time": "2024-07-13T14:45:15.364Z"
   },
   {
    "duration": 20,
    "start_time": "2024-07-13T14:45:15.424Z"
   },
   {
    "duration": 9,
    "start_time": "2024-07-13T14:45:15.446Z"
   },
   {
    "duration": 969,
    "start_time": "2024-07-13T14:45:15.457Z"
   },
   {
    "duration": 18,
    "start_time": "2024-07-13T14:45:16.428Z"
   },
   {
    "duration": 9,
    "start_time": "2024-07-13T14:45:16.447Z"
   },
   {
    "duration": 340,
    "start_time": "2024-07-13T14:45:16.457Z"
   },
   {
    "duration": 9,
    "start_time": "2024-07-13T14:45:16.799Z"
   },
   {
    "duration": 8,
    "start_time": "2024-07-13T14:45:16.809Z"
   },
   {
    "duration": 56,
    "start_time": "2024-07-13T14:45:16.818Z"
   },
   {
    "duration": 11,
    "start_time": "2024-07-13T14:45:16.876Z"
   },
   {
    "duration": 8,
    "start_time": "2024-07-13T14:45:16.889Z"
   },
   {
    "duration": 6,
    "start_time": "2024-07-13T14:45:16.901Z"
   },
   {
    "duration": 6,
    "start_time": "2024-07-13T14:45:16.908Z"
   },
   {
    "duration": 5,
    "start_time": "2024-07-13T18:18:56.656Z"
   },
   {
    "duration": 72,
    "start_time": "2024-07-13T18:18:56.664Z"
   },
   {
    "duration": 10,
    "start_time": "2024-07-13T18:18:56.738Z"
   },
   {
    "duration": 16,
    "start_time": "2024-07-13T18:18:56.750Z"
   },
   {
    "duration": 12,
    "start_time": "2024-07-13T18:18:56.769Z"
   },
   {
    "duration": 13,
    "start_time": "2024-07-13T18:18:56.783Z"
   },
   {
    "duration": 8,
    "start_time": "2024-07-13T18:18:56.797Z"
   },
   {
    "duration": 50,
    "start_time": "2024-07-13T18:18:56.806Z"
   },
   {
    "duration": 8,
    "start_time": "2024-07-13T18:18:56.857Z"
   },
   {
    "duration": 48,
    "start_time": "2024-07-13T18:18:56.866Z"
   },
   {
    "duration": 26,
    "start_time": "2024-07-13T18:18:56.916Z"
   },
   {
    "duration": 6,
    "start_time": "2024-07-13T18:18:56.943Z"
   },
   {
    "duration": 6,
    "start_time": "2024-07-13T18:18:56.951Z"
   },
   {
    "duration": 5,
    "start_time": "2024-07-13T18:18:56.960Z"
   },
   {
    "duration": 20,
    "start_time": "2024-07-13T18:18:56.967Z"
   },
   {
    "duration": 7,
    "start_time": "2024-07-13T18:18:56.989Z"
   },
   {
    "duration": 15,
    "start_time": "2024-07-13T18:18:56.998Z"
   },
   {
    "duration": 6,
    "start_time": "2024-07-13T18:18:57.014Z"
   },
   {
    "duration": 25,
    "start_time": "2024-07-13T18:18:57.022Z"
   },
   {
    "duration": 220,
    "start_time": "2024-07-13T18:18:57.048Z"
   },
   {
    "duration": 144,
    "start_time": "2024-07-13T18:18:57.270Z"
   },
   {
    "duration": 207,
    "start_time": "2024-07-13T18:18:57.415Z"
   },
   {
    "duration": 408,
    "start_time": "2024-07-13T18:18:57.624Z"
   },
   {
    "duration": 15,
    "start_time": "2024-07-13T18:18:58.034Z"
   },
   {
    "duration": 625,
    "start_time": "2024-07-13T18:18:58.051Z"
   },
   {
    "duration": 10,
    "start_time": "2024-07-13T18:18:58.679Z"
   },
   {
    "duration": 30,
    "start_time": "2024-07-13T18:18:58.691Z"
   },
   {
    "duration": 34,
    "start_time": "2024-07-13T18:18:58.723Z"
   },
   {
    "duration": 5,
    "start_time": "2024-07-13T18:18:58.759Z"
   },
   {
    "duration": 12,
    "start_time": "2024-07-13T18:18:58.766Z"
   },
   {
    "duration": 12,
    "start_time": "2024-07-13T18:18:58.779Z"
   },
   {
    "duration": 816,
    "start_time": "2024-07-13T18:18:58.793Z"
   },
   {
    "duration": 10,
    "start_time": "2024-07-13T18:18:59.610Z"
   },
   {
    "duration": 25,
    "start_time": "2024-07-13T18:18:59.622Z"
   },
   {
    "duration": 344,
    "start_time": "2024-07-13T18:18:59.649Z"
   },
   {
    "duration": 8,
    "start_time": "2024-07-13T18:18:59.994Z"
   },
   {
    "duration": 62,
    "start_time": "2024-07-13T18:19:00.005Z"
   },
   {
    "duration": 65,
    "start_time": "2024-07-13T18:19:00.070Z"
   },
   {
    "duration": 44,
    "start_time": "2024-07-13T18:19:00.137Z"
   },
   {
    "duration": 92,
    "start_time": "2024-07-13T18:19:00.183Z"
   },
   {
    "duration": 87,
    "start_time": "2024-07-13T18:19:00.279Z"
   },
   {
    "duration": 67,
    "start_time": "2024-07-13T18:19:00.368Z"
   },
   {
    "duration": 52,
    "start_time": "2024-07-13T18:26:13.114Z"
   },
   {
    "duration": 6,
    "start_time": "2024-07-13T18:26:48.185Z"
   },
   {
    "duration": 5,
    "start_time": "2024-07-13T18:26:57.383Z"
   },
   {
    "duration": 5,
    "start_time": "2024-07-13T18:27:44.375Z"
   },
   {
    "duration": 2,
    "start_time": "2024-07-13T18:29:27.614Z"
   },
   {
    "duration": 129,
    "start_time": "2024-07-13T18:29:27.618Z"
   },
   {
    "duration": 8,
    "start_time": "2024-07-13T18:29:27.749Z"
   },
   {
    "duration": 21,
    "start_time": "2024-07-13T18:29:27.758Z"
   },
   {
    "duration": 33,
    "start_time": "2024-07-13T18:29:27.781Z"
   },
   {
    "duration": 18,
    "start_time": "2024-07-13T18:29:27.815Z"
   },
   {
    "duration": 14,
    "start_time": "2024-07-13T18:29:27.835Z"
   },
   {
    "duration": 17,
    "start_time": "2024-07-13T18:29:27.851Z"
   },
   {
    "duration": 12,
    "start_time": "2024-07-13T18:29:27.869Z"
   },
   {
    "duration": 163,
    "start_time": "2024-07-13T18:29:27.882Z"
   },
   {
    "duration": 11,
    "start_time": "2024-07-13T18:29:28.046Z"
   },
   {
    "duration": 14,
    "start_time": "2024-07-13T18:29:28.059Z"
   },
   {
    "duration": 8,
    "start_time": "2024-07-13T18:29:28.075Z"
   },
   {
    "duration": 5,
    "start_time": "2024-07-13T18:29:28.086Z"
   },
   {
    "duration": 12,
    "start_time": "2024-07-13T18:29:28.093Z"
   },
   {
    "duration": 11,
    "start_time": "2024-07-13T18:29:28.107Z"
   },
   {
    "duration": 31,
    "start_time": "2024-07-13T18:29:28.120Z"
   },
   {
    "duration": 6,
    "start_time": "2024-07-13T18:29:28.153Z"
   },
   {
    "duration": 16,
    "start_time": "2024-07-13T18:29:28.160Z"
   },
   {
    "duration": 203,
    "start_time": "2024-07-13T18:29:28.178Z"
   },
   {
    "duration": 154,
    "start_time": "2024-07-13T18:29:28.382Z"
   },
   {
    "duration": 232,
    "start_time": "2024-07-13T18:29:28.538Z"
   },
   {
    "duration": 421,
    "start_time": "2024-07-13T18:29:28.772Z"
   },
   {
    "duration": 9,
    "start_time": "2024-07-13T18:29:29.195Z"
   },
   {
    "duration": 398,
    "start_time": "2024-07-13T18:29:29.206Z"
   },
   {
    "duration": 9,
    "start_time": "2024-07-13T18:29:29.605Z"
   },
   {
    "duration": 35,
    "start_time": "2024-07-13T18:29:29.615Z"
   },
   {
    "duration": 14,
    "start_time": "2024-07-13T18:29:29.651Z"
   },
   {
    "duration": 7,
    "start_time": "2024-07-13T18:29:29.667Z"
   },
   {
    "duration": 9,
    "start_time": "2024-07-13T18:29:29.676Z"
   },
   {
    "duration": 8,
    "start_time": "2024-07-13T18:29:29.687Z"
   },
   {
    "duration": 964,
    "start_time": "2024-07-13T18:29:29.696Z"
   },
   {
    "duration": 9,
    "start_time": "2024-07-13T18:29:30.662Z"
   },
   {
    "duration": 167,
    "start_time": "2024-07-13T18:29:30.673Z"
   },
   {
    "duration": 455,
    "start_time": "2024-07-13T18:29:30.842Z"
   },
   {
    "duration": 8,
    "start_time": "2024-07-13T18:29:31.299Z"
   },
   {
    "duration": 70,
    "start_time": "2024-07-13T18:29:31.309Z"
   },
   {
    "duration": 73,
    "start_time": "2024-07-13T18:29:31.381Z"
   },
   {
    "duration": 29,
    "start_time": "2024-07-13T18:29:31.456Z"
   },
   {
    "duration": 82,
    "start_time": "2024-07-13T18:29:31.486Z"
   },
   {
    "duration": 81,
    "start_time": "2024-07-13T18:29:31.571Z"
   },
   {
    "duration": 62,
    "start_time": "2024-07-13T18:29:31.654Z"
   },
   {
    "duration": 182,
    "start_time": "2024-07-13T18:29:31.718Z"
   },
   {
    "duration": 10,
    "start_time": "2024-07-13T18:49:36.409Z"
   },
   {
    "duration": 19,
    "start_time": "2024-07-13T18:49:54.335Z"
   },
   {
    "duration": 18,
    "start_time": "2024-07-13T18:50:04.973Z"
   },
   {
    "duration": 6,
    "start_time": "2024-07-13T18:53:48.269Z"
   },
   {
    "duration": 6,
    "start_time": "2024-07-13T18:53:52.078Z"
   },
   {
    "duration": 6,
    "start_time": "2024-07-13T18:54:16.432Z"
   },
   {
    "duration": 6,
    "start_time": "2024-07-13T18:55:10.257Z"
   },
   {
    "duration": 10,
    "start_time": "2024-07-13T19:04:20.171Z"
   },
   {
    "duration": 3,
    "start_time": "2024-07-13T19:13:18.083Z"
   },
   {
    "duration": 71,
    "start_time": "2024-07-13T19:13:18.088Z"
   },
   {
    "duration": 9,
    "start_time": "2024-07-13T19:13:18.161Z"
   },
   {
    "duration": 38,
    "start_time": "2024-07-13T19:13:18.174Z"
   },
   {
    "duration": 23,
    "start_time": "2024-07-13T19:13:18.214Z"
   },
   {
    "duration": 18,
    "start_time": "2024-07-13T19:13:18.239Z"
   },
   {
    "duration": 8,
    "start_time": "2024-07-13T19:13:18.258Z"
   },
   {
    "duration": 12,
    "start_time": "2024-07-13T19:13:18.267Z"
   },
   {
    "duration": 15,
    "start_time": "2024-07-13T19:13:18.280Z"
   },
   {
    "duration": 9,
    "start_time": "2024-07-13T19:13:18.298Z"
   },
   {
    "duration": 10,
    "start_time": "2024-07-13T19:13:18.309Z"
   },
   {
    "duration": 28,
    "start_time": "2024-07-13T19:13:18.321Z"
   },
   {
    "duration": 6,
    "start_time": "2024-07-13T19:13:18.351Z"
   },
   {
    "duration": 5,
    "start_time": "2024-07-13T19:13:18.359Z"
   },
   {
    "duration": 17,
    "start_time": "2024-07-13T19:13:18.365Z"
   },
   {
    "duration": 6,
    "start_time": "2024-07-13T19:13:18.383Z"
   },
   {
    "duration": 7,
    "start_time": "2024-07-13T19:13:18.391Z"
   },
   {
    "duration": 5,
    "start_time": "2024-07-13T19:13:18.400Z"
   },
   {
    "duration": 43,
    "start_time": "2024-07-13T19:13:18.407Z"
   },
   {
    "duration": 248,
    "start_time": "2024-07-13T19:13:18.451Z"
   },
   {
    "duration": 147,
    "start_time": "2024-07-13T19:13:18.700Z"
   },
   {
    "duration": 201,
    "start_time": "2024-07-13T19:13:18.850Z"
   },
   {
    "duration": 550,
    "start_time": "2024-07-13T19:13:19.053Z"
   },
   {
    "duration": 9,
    "start_time": "2024-07-13T19:13:19.605Z"
   },
   {
    "duration": 421,
    "start_time": "2024-07-13T19:13:19.615Z"
   },
   {
    "duration": 15,
    "start_time": "2024-07-13T19:13:20.037Z"
   },
   {
    "duration": 38,
    "start_time": "2024-07-13T19:13:20.054Z"
   },
   {
    "duration": 13,
    "start_time": "2024-07-13T19:13:20.096Z"
   },
   {
    "duration": 4,
    "start_time": "2024-07-13T19:13:20.110Z"
   },
   {
    "duration": 21,
    "start_time": "2024-07-13T19:13:20.116Z"
   },
   {
    "duration": 15,
    "start_time": "2024-07-13T19:13:20.139Z"
   },
   {
    "duration": 809,
    "start_time": "2024-07-13T19:13:20.156Z"
   },
   {
    "duration": 8,
    "start_time": "2024-07-13T19:13:20.967Z"
   },
   {
    "duration": 7,
    "start_time": "2024-07-13T19:13:20.976Z"
   },
   {
    "duration": 485,
    "start_time": "2024-07-13T19:13:20.985Z"
   },
   {
    "duration": 9,
    "start_time": "2024-07-13T19:13:21.472Z"
   },
   {
    "duration": 9,
    "start_time": "2024-07-13T19:13:21.483Z"
   },
   {
    "duration": 61,
    "start_time": "2024-07-13T19:13:21.493Z"
   },
   {
    "duration": 13,
    "start_time": "2024-07-13T19:13:21.557Z"
   },
   {
    "duration": 13,
    "start_time": "2024-07-13T19:13:21.572Z"
   },
   {
    "duration": 38,
    "start_time": "2024-07-13T19:13:21.587Z"
   },
   {
    "duration": 12,
    "start_time": "2024-07-13T19:13:21.627Z"
   },
   {
    "duration": 7,
    "start_time": "2024-07-13T19:13:21.640Z"
   },
   {
    "duration": 9,
    "start_time": "2024-07-13T19:13:21.648Z"
   },
   {
    "duration": 3,
    "start_time": "2024-07-13T19:16:49.169Z"
   },
   {
    "duration": 125,
    "start_time": "2024-07-13T19:16:49.173Z"
   },
   {
    "duration": 9,
    "start_time": "2024-07-13T19:16:49.299Z"
   },
   {
    "duration": 18,
    "start_time": "2024-07-13T19:16:49.310Z"
   },
   {
    "duration": 9,
    "start_time": "2024-07-13T19:16:49.330Z"
   },
   {
    "duration": 16,
    "start_time": "2024-07-13T19:16:49.340Z"
   },
   {
    "duration": 10,
    "start_time": "2024-07-13T19:16:49.357Z"
   },
   {
    "duration": 12,
    "start_time": "2024-07-13T19:16:49.368Z"
   },
   {
    "duration": 20,
    "start_time": "2024-07-13T19:16:49.382Z"
   },
   {
    "duration": 17,
    "start_time": "2024-07-13T19:16:49.405Z"
   },
   {
    "duration": 24,
    "start_time": "2024-07-13T19:16:49.423Z"
   },
   {
    "duration": 7,
    "start_time": "2024-07-13T19:16:49.448Z"
   },
   {
    "duration": 6,
    "start_time": "2024-07-13T19:16:49.457Z"
   },
   {
    "duration": 5,
    "start_time": "2024-07-13T19:16:49.464Z"
   },
   {
    "duration": 10,
    "start_time": "2024-07-13T19:16:49.471Z"
   },
   {
    "duration": 11,
    "start_time": "2024-07-13T19:16:49.482Z"
   },
   {
    "duration": 7,
    "start_time": "2024-07-13T19:16:49.495Z"
   },
   {
    "duration": 43,
    "start_time": "2024-07-13T19:16:49.504Z"
   },
   {
    "duration": 5,
    "start_time": "2024-07-13T19:16:49.549Z"
   },
   {
    "duration": 215,
    "start_time": "2024-07-13T19:16:49.556Z"
   },
   {
    "duration": 147,
    "start_time": "2024-07-13T19:16:49.773Z"
   },
   {
    "duration": 204,
    "start_time": "2024-07-13T19:16:49.922Z"
   },
   {
    "duration": 440,
    "start_time": "2024-07-13T19:16:50.128Z"
   },
   {
    "duration": 8,
    "start_time": "2024-07-13T19:16:50.570Z"
   },
   {
    "duration": 400,
    "start_time": "2024-07-13T19:16:50.580Z"
   },
   {
    "duration": 8,
    "start_time": "2024-07-13T19:16:50.982Z"
   },
   {
    "duration": 25,
    "start_time": "2024-07-13T19:16:50.991Z"
   },
   {
    "duration": 32,
    "start_time": "2024-07-13T19:16:51.019Z"
   },
   {
    "duration": 3,
    "start_time": "2024-07-13T19:16:51.053Z"
   },
   {
    "duration": 9,
    "start_time": "2024-07-13T19:16:51.057Z"
   },
   {
    "duration": 8,
    "start_time": "2024-07-13T19:16:51.068Z"
   },
   {
    "duration": 1021,
    "start_time": "2024-07-13T19:16:51.077Z"
   },
   {
    "duration": 11,
    "start_time": "2024-07-13T19:16:52.100Z"
   },
   {
    "duration": 8,
    "start_time": "2024-07-13T19:16:52.113Z"
   },
   {
    "duration": 351,
    "start_time": "2024-07-13T19:16:52.123Z"
   },
   {
    "duration": 9,
    "start_time": "2024-07-13T19:16:52.475Z"
   },
   {
    "duration": 8,
    "start_time": "2024-07-13T19:16:52.485Z"
   },
   {
    "duration": 59,
    "start_time": "2024-07-13T19:16:52.495Z"
   },
   {
    "duration": 11,
    "start_time": "2024-07-13T19:16:52.556Z"
   },
   {
    "duration": 7,
    "start_time": "2024-07-13T19:16:52.569Z"
   },
   {
    "duration": 5,
    "start_time": "2024-07-13T19:16:52.578Z"
   },
   {
    "duration": 6,
    "start_time": "2024-07-13T19:16:52.584Z"
   },
   {
    "duration": 5,
    "start_time": "2024-07-13T19:16:52.591Z"
   },
   {
    "duration": 48,
    "start_time": "2024-07-13T19:16:52.598Z"
   },
   {
    "duration": 3,
    "start_time": "2024-07-13T19:19:58.303Z"
   },
   {
    "duration": 67,
    "start_time": "2024-07-13T19:19:58.312Z"
   },
   {
    "duration": 8,
    "start_time": "2024-07-13T19:19:58.381Z"
   },
   {
    "duration": 11,
    "start_time": "2024-07-13T19:19:58.391Z"
   },
   {
    "duration": 9,
    "start_time": "2024-07-13T19:19:58.404Z"
   },
   {
    "duration": 11,
    "start_time": "2024-07-13T19:19:58.414Z"
   },
   {
    "duration": 21,
    "start_time": "2024-07-13T19:19:58.427Z"
   },
   {
    "duration": 10,
    "start_time": "2024-07-13T19:19:58.449Z"
   },
   {
    "duration": 21,
    "start_time": "2024-07-13T19:19:58.461Z"
   },
   {
    "duration": 10,
    "start_time": "2024-07-13T19:19:58.484Z"
   },
   {
    "duration": 11,
    "start_time": "2024-07-13T19:19:58.496Z"
   },
   {
    "duration": 6,
    "start_time": "2024-07-13T19:19:58.508Z"
   },
   {
    "duration": 34,
    "start_time": "2024-07-13T19:19:58.516Z"
   },
   {
    "duration": 7,
    "start_time": "2024-07-13T19:19:58.552Z"
   },
   {
    "duration": 11,
    "start_time": "2024-07-13T19:19:58.561Z"
   },
   {
    "duration": 8,
    "start_time": "2024-07-13T19:19:58.573Z"
   },
   {
    "duration": 9,
    "start_time": "2024-07-13T19:19:58.583Z"
   },
   {
    "duration": 8,
    "start_time": "2024-07-13T19:19:58.594Z"
   },
   {
    "duration": 47,
    "start_time": "2024-07-13T19:19:58.605Z"
   },
   {
    "duration": 222,
    "start_time": "2024-07-13T19:19:58.654Z"
   },
   {
    "duration": 148,
    "start_time": "2024-07-13T19:19:58.878Z"
   },
   {
    "duration": 206,
    "start_time": "2024-07-13T19:19:59.028Z"
   },
   {
    "duration": 548,
    "start_time": "2024-07-13T19:19:59.235Z"
   },
   {
    "duration": 10,
    "start_time": "2024-07-13T19:19:59.784Z"
   },
   {
    "duration": 400,
    "start_time": "2024-07-13T19:19:59.796Z"
   },
   {
    "duration": 10,
    "start_time": "2024-07-13T19:20:00.198Z"
   },
   {
    "duration": 89,
    "start_time": "2024-07-13T19:20:00.209Z"
   },
   {
    "duration": 130,
    "start_time": "2024-07-13T19:20:00.300Z"
   },
   {
    "duration": 111,
    "start_time": "2024-07-13T19:20:00.434Z"
   },
   {
    "duration": 55,
    "start_time": "2024-07-13T19:20:00.547Z"
   },
   {
    "duration": 40,
    "start_time": "2024-07-13T19:20:00.604Z"
   },
   {
    "duration": 901,
    "start_time": "2024-07-13T19:20:00.646Z"
   },
   {
    "duration": 9,
    "start_time": "2024-07-13T19:20:01.549Z"
   },
   {
    "duration": 47,
    "start_time": "2024-07-13T19:20:01.560Z"
   },
   {
    "duration": 531,
    "start_time": "2024-07-13T19:20:01.608Z"
   },
   {
    "duration": 8,
    "start_time": "2024-07-13T19:20:02.146Z"
   },
   {
    "duration": 181,
    "start_time": "2024-07-13T19:20:02.156Z"
   },
   {
    "duration": 163,
    "start_time": "2024-07-13T19:20:02.339Z"
   },
   {
    "duration": 16,
    "start_time": "2024-07-13T19:20:02.504Z"
   },
   {
    "duration": 29,
    "start_time": "2024-07-13T19:20:02.522Z"
   },
   {
    "duration": 63,
    "start_time": "2024-07-13T19:20:02.553Z"
   },
   {
    "duration": 15,
    "start_time": "2024-07-13T19:20:02.618Z"
   },
   {
    "duration": 58,
    "start_time": "2024-07-13T19:20:02.635Z"
   },
   {
    "duration": 27,
    "start_time": "2024-07-13T19:20:02.694Z"
   },
   {
    "duration": 5,
    "start_time": "2024-07-13T19:20:49.925Z"
   },
   {
    "duration": 77,
    "start_time": "2024-07-13T19:20:49.932Z"
   },
   {
    "duration": 9,
    "start_time": "2024-07-13T19:20:50.011Z"
   },
   {
    "duration": 27,
    "start_time": "2024-07-13T19:20:50.021Z"
   },
   {
    "duration": 30,
    "start_time": "2024-07-13T19:20:50.050Z"
   },
   {
    "duration": 20,
    "start_time": "2024-07-13T19:20:50.082Z"
   },
   {
    "duration": 10,
    "start_time": "2024-07-13T19:20:50.103Z"
   },
   {
    "duration": 11,
    "start_time": "2024-07-13T19:20:50.115Z"
   },
   {
    "duration": 17,
    "start_time": "2024-07-13T19:20:50.129Z"
   },
   {
    "duration": 10,
    "start_time": "2024-07-13T19:20:50.148Z"
   },
   {
    "duration": 13,
    "start_time": "2024-07-13T19:20:50.160Z"
   },
   {
    "duration": 7,
    "start_time": "2024-07-13T19:20:50.175Z"
   },
   {
    "duration": 10,
    "start_time": "2024-07-13T19:20:50.183Z"
   },
   {
    "duration": 6,
    "start_time": "2024-07-13T19:20:50.196Z"
   },
   {
    "duration": 30,
    "start_time": "2024-07-13T19:20:50.203Z"
   },
   {
    "duration": 7,
    "start_time": "2024-07-13T19:20:50.246Z"
   },
   {
    "duration": 15,
    "start_time": "2024-07-13T19:20:50.255Z"
   },
   {
    "duration": 17,
    "start_time": "2024-07-13T19:20:50.272Z"
   },
   {
    "duration": 23,
    "start_time": "2024-07-13T19:20:50.291Z"
   },
   {
    "duration": 219,
    "start_time": "2024-07-13T19:20:50.316Z"
   },
   {
    "duration": 156,
    "start_time": "2024-07-13T19:20:50.537Z"
   },
   {
    "duration": 215,
    "start_time": "2024-07-13T19:20:50.695Z"
   },
   {
    "duration": 421,
    "start_time": "2024-07-13T19:20:50.912Z"
   },
   {
    "duration": 15,
    "start_time": "2024-07-13T19:20:51.335Z"
   },
   {
    "duration": 429,
    "start_time": "2024-07-13T19:20:51.352Z"
   },
   {
    "duration": 11,
    "start_time": "2024-07-13T19:20:51.783Z"
   },
   {
    "duration": 25,
    "start_time": "2024-07-13T19:20:51.796Z"
   },
   {
    "duration": 39,
    "start_time": "2024-07-13T19:20:51.823Z"
   },
   {
    "duration": 4,
    "start_time": "2024-07-13T19:20:51.864Z"
   },
   {
    "duration": 15,
    "start_time": "2024-07-13T19:20:51.870Z"
   },
   {
    "duration": 9,
    "start_time": "2024-07-13T19:20:51.887Z"
   },
   {
    "duration": 947,
    "start_time": "2024-07-13T19:20:51.897Z"
   },
   {
    "duration": 9,
    "start_time": "2024-07-13T19:20:52.846Z"
   },
   {
    "duration": 8,
    "start_time": "2024-07-13T19:20:52.856Z"
   },
   {
    "duration": 363,
    "start_time": "2024-07-13T19:20:52.866Z"
   },
   {
    "duration": 19,
    "start_time": "2024-07-13T19:20:53.231Z"
   },
   {
    "duration": 9,
    "start_time": "2024-07-13T19:20:53.252Z"
   },
   {
    "duration": 37,
    "start_time": "2024-07-13T19:20:53.263Z"
   },
   {
    "duration": 11,
    "start_time": "2024-07-13T19:20:53.302Z"
   },
   {
    "duration": 32,
    "start_time": "2024-07-13T19:20:53.314Z"
   },
   {
    "duration": 4,
    "start_time": "2024-07-13T19:20:53.350Z"
   },
   {
    "duration": 9,
    "start_time": "2024-07-13T19:20:53.356Z"
   },
   {
    "duration": 9,
    "start_time": "2024-07-13T19:20:53.366Z"
   },
   {
    "duration": 9,
    "start_time": "2024-07-13T19:20:53.376Z"
   },
   {
    "duration": 5,
    "start_time": "2024-07-13T19:22:10.158Z"
   },
   {
    "duration": 85,
    "start_time": "2024-07-13T19:22:10.165Z"
   },
   {
    "duration": 12,
    "start_time": "2024-07-13T19:22:10.252Z"
   },
   {
    "duration": 16,
    "start_time": "2024-07-13T19:22:10.266Z"
   },
   {
    "duration": 10,
    "start_time": "2024-07-13T19:22:10.283Z"
   },
   {
    "duration": 17,
    "start_time": "2024-07-13T19:22:10.294Z"
   },
   {
    "duration": 37,
    "start_time": "2024-07-13T19:22:10.313Z"
   },
   {
    "duration": 11,
    "start_time": "2024-07-13T19:22:10.351Z"
   },
   {
    "duration": 20,
    "start_time": "2024-07-13T19:22:10.364Z"
   },
   {
    "duration": 11,
    "start_time": "2024-07-13T19:22:10.388Z"
   },
   {
    "duration": 12,
    "start_time": "2024-07-13T19:22:10.400Z"
   },
   {
    "duration": 7,
    "start_time": "2024-07-13T19:22:10.414Z"
   },
   {
    "duration": 9,
    "start_time": "2024-07-13T19:22:10.445Z"
   },
   {
    "duration": 7,
    "start_time": "2024-07-13T19:22:10.456Z"
   },
   {
    "duration": 17,
    "start_time": "2024-07-13T19:22:10.464Z"
   },
   {
    "duration": 16,
    "start_time": "2024-07-13T19:22:10.486Z"
   },
   {
    "duration": 30,
    "start_time": "2024-07-13T19:22:10.504Z"
   },
   {
    "duration": 8,
    "start_time": "2024-07-13T19:22:10.545Z"
   },
   {
    "duration": 17,
    "start_time": "2024-07-13T19:22:10.555Z"
   },
   {
    "duration": 256,
    "start_time": "2024-07-13T19:22:10.574Z"
   },
   {
    "duration": 152,
    "start_time": "2024-07-13T19:22:10.831Z"
   },
   {
    "duration": 198,
    "start_time": "2024-07-13T19:22:10.985Z"
   },
   {
    "duration": 516,
    "start_time": "2024-07-13T19:22:11.184Z"
   },
   {
    "duration": 9,
    "start_time": "2024-07-13T19:22:11.701Z"
   },
   {
    "duration": 423,
    "start_time": "2024-07-13T19:22:11.711Z"
   },
   {
    "duration": 16,
    "start_time": "2024-07-13T19:22:12.135Z"
   },
   {
    "duration": 24,
    "start_time": "2024-07-13T19:22:12.152Z"
   },
   {
    "duration": 15,
    "start_time": "2024-07-13T19:22:12.179Z"
   },
   {
    "duration": 4,
    "start_time": "2024-07-13T19:22:12.195Z"
   },
   {
    "duration": 11,
    "start_time": "2024-07-13T19:22:12.200Z"
   },
   {
    "duration": 35,
    "start_time": "2024-07-13T19:22:12.212Z"
   },
   {
    "duration": 949,
    "start_time": "2024-07-13T19:22:12.248Z"
   },
   {
    "duration": 9,
    "start_time": "2024-07-13T19:22:13.199Z"
   },
   {
    "duration": 8,
    "start_time": "2024-07-13T19:22:13.209Z"
   },
   {
    "duration": 363,
    "start_time": "2024-07-13T19:22:13.218Z"
   },
   {
    "duration": 9,
    "start_time": "2024-07-13T19:22:13.582Z"
   },
   {
    "duration": 9,
    "start_time": "2024-07-13T19:22:13.592Z"
   },
   {
    "duration": 57,
    "start_time": "2024-07-13T19:22:13.602Z"
   },
   {
    "duration": 10,
    "start_time": "2024-07-13T19:22:13.661Z"
   },
   {
    "duration": 4,
    "start_time": "2024-07-13T19:22:13.673Z"
   },
   {
    "duration": 5,
    "start_time": "2024-07-13T19:22:13.679Z"
   },
   {
    "duration": 9,
    "start_time": "2024-07-13T19:22:13.685Z"
   },
   {
    "duration": 17,
    "start_time": "2024-07-13T19:22:13.696Z"
   },
   {
    "duration": 31,
    "start_time": "2024-07-13T19:22:13.715Z"
   },
   {
    "duration": 4,
    "start_time": "2024-07-13T19:31:31.670Z"
   },
   {
    "duration": 95,
    "start_time": "2024-07-13T19:31:31.676Z"
   },
   {
    "duration": 9,
    "start_time": "2024-07-13T19:31:31.773Z"
   },
   {
    "duration": 60,
    "start_time": "2024-07-13T19:31:31.783Z"
   },
   {
    "duration": 11,
    "start_time": "2024-07-13T19:31:31.845Z"
   },
   {
    "duration": 38,
    "start_time": "2024-07-13T19:31:31.858Z"
   },
   {
    "duration": 17,
    "start_time": "2024-07-13T19:31:31.898Z"
   },
   {
    "duration": 65,
    "start_time": "2024-07-13T19:31:31.916Z"
   },
   {
    "duration": 49,
    "start_time": "2024-07-13T19:31:31.982Z"
   },
   {
    "duration": 83,
    "start_time": "2024-07-13T19:31:32.033Z"
   },
   {
    "duration": 46,
    "start_time": "2024-07-13T19:31:32.118Z"
   },
   {
    "duration": 65,
    "start_time": "2024-07-13T19:31:32.166Z"
   },
   {
    "duration": 166,
    "start_time": "2024-07-13T19:31:32.233Z"
   },
   {
    "duration": 170,
    "start_time": "2024-07-13T19:31:32.403Z"
   },
   {
    "duration": 27,
    "start_time": "2024-07-13T19:31:32.574Z"
   },
   {
    "duration": 21,
    "start_time": "2024-07-13T19:31:32.603Z"
   },
   {
    "duration": 22,
    "start_time": "2024-07-13T19:31:32.627Z"
   },
   {
    "duration": 15,
    "start_time": "2024-07-13T19:31:32.651Z"
   },
   {
    "duration": 7,
    "start_time": "2024-07-13T19:31:32.668Z"
   },
   {
    "duration": 198,
    "start_time": "2024-07-13T19:31:32.677Z"
   },
   {
    "duration": 144,
    "start_time": "2024-07-13T19:31:32.877Z"
   },
   {
    "duration": 204,
    "start_time": "2024-07-13T19:31:33.023Z"
   },
   {
    "duration": 390,
    "start_time": "2024-07-13T19:31:33.228Z"
   },
   {
    "duration": 8,
    "start_time": "2024-07-13T19:31:33.620Z"
   },
   {
    "duration": 536,
    "start_time": "2024-07-13T19:31:33.630Z"
   },
   {
    "duration": 10,
    "start_time": "2024-07-13T19:31:34.168Z"
   },
   {
    "duration": 31,
    "start_time": "2024-07-13T19:31:34.180Z"
   },
   {
    "duration": 33,
    "start_time": "2024-07-13T19:31:34.213Z"
   },
   {
    "duration": 4,
    "start_time": "2024-07-13T19:31:34.249Z"
   },
   {
    "duration": 15,
    "start_time": "2024-07-13T19:31:34.255Z"
   },
   {
    "duration": 12,
    "start_time": "2024-07-13T19:31:34.272Z"
   },
   {
    "duration": 844,
    "start_time": "2024-07-13T19:31:34.286Z"
   },
   {
    "duration": 15,
    "start_time": "2024-07-13T19:31:35.132Z"
   },
   {
    "duration": 8,
    "start_time": "2024-07-13T19:31:35.148Z"
   },
   {
    "duration": 343,
    "start_time": "2024-07-13T19:31:35.158Z"
   },
   {
    "duration": 9,
    "start_time": "2024-07-13T19:31:35.503Z"
   },
   {
    "duration": 9,
    "start_time": "2024-07-13T19:31:35.514Z"
   },
   {
    "duration": 56,
    "start_time": "2024-07-13T19:31:35.524Z"
   },
   {
    "duration": 12,
    "start_time": "2024-07-13T19:31:35.582Z"
   },
   {
    "duration": 6,
    "start_time": "2024-07-13T19:31:35.595Z"
   },
   {
    "duration": 4,
    "start_time": "2024-07-13T19:31:35.605Z"
   },
   {
    "duration": 5,
    "start_time": "2024-07-13T19:31:35.611Z"
   },
   {
    "duration": 5,
    "start_time": "2024-07-13T19:31:35.646Z"
   },
   {
    "duration": 8,
    "start_time": "2024-07-13T19:31:35.653Z"
   },
   {
    "duration": 974,
    "start_time": "2024-07-13T19:31:49.770Z"
   },
   {
    "duration": 337,
    "start_time": "2024-07-13T19:32:00.047Z"
   },
   {
    "duration": 3,
    "start_time": "2024-07-13T19:32:24.440Z"
   },
   {
    "duration": 111,
    "start_time": "2024-07-13T19:32:24.446Z"
   },
   {
    "duration": 9,
    "start_time": "2024-07-13T19:32:24.559Z"
   },
   {
    "duration": 14,
    "start_time": "2024-07-13T19:32:24.570Z"
   },
   {
    "duration": 29,
    "start_time": "2024-07-13T19:32:24.586Z"
   },
   {
    "duration": 21,
    "start_time": "2024-07-13T19:32:24.616Z"
   },
   {
    "duration": 25,
    "start_time": "2024-07-13T19:32:24.639Z"
   },
   {
    "duration": 16,
    "start_time": "2024-07-13T19:32:24.666Z"
   },
   {
    "duration": 19,
    "start_time": "2024-07-13T19:32:24.684Z"
   },
   {
    "duration": 11,
    "start_time": "2024-07-13T19:32:24.704Z"
   },
   {
    "duration": 14,
    "start_time": "2024-07-13T19:32:24.717Z"
   },
   {
    "duration": 6,
    "start_time": "2024-07-13T19:32:24.732Z"
   },
   {
    "duration": 18,
    "start_time": "2024-07-13T19:32:24.740Z"
   },
   {
    "duration": 5,
    "start_time": "2024-07-13T19:32:24.762Z"
   },
   {
    "duration": 10,
    "start_time": "2024-07-13T19:32:24.769Z"
   },
   {
    "duration": 7,
    "start_time": "2024-07-13T19:32:24.781Z"
   },
   {
    "duration": 8,
    "start_time": "2024-07-13T19:32:24.789Z"
   },
   {
    "duration": 7,
    "start_time": "2024-07-13T19:32:24.798Z"
   },
   {
    "duration": 18,
    "start_time": "2024-07-13T19:32:24.807Z"
   },
   {
    "duration": 205,
    "start_time": "2024-07-13T19:32:24.827Z"
   },
   {
    "duration": 151,
    "start_time": "2024-07-13T19:32:25.034Z"
   },
   {
    "duration": 197,
    "start_time": "2024-07-13T19:32:25.187Z"
   },
   {
    "duration": 526,
    "start_time": "2024-07-13T19:32:25.386Z"
   },
   {
    "duration": 9,
    "start_time": "2024-07-13T19:32:25.914Z"
   },
   {
    "duration": 429,
    "start_time": "2024-07-13T19:32:25.924Z"
   },
   {
    "duration": 9,
    "start_time": "2024-07-13T19:32:26.355Z"
   },
   {
    "duration": 28,
    "start_time": "2024-07-13T19:32:26.365Z"
   },
   {
    "duration": 13,
    "start_time": "2024-07-13T19:32:26.395Z"
   },
   {
    "duration": 36,
    "start_time": "2024-07-13T19:32:26.410Z"
   },
   {
    "duration": 33,
    "start_time": "2024-07-13T19:32:26.448Z"
   },
   {
    "duration": 9,
    "start_time": "2024-07-13T19:32:26.483Z"
   },
   {
    "duration": 777,
    "start_time": "2024-07-13T19:32:26.494Z"
   },
   {
    "duration": 14,
    "start_time": "2024-07-13T19:32:27.273Z"
   },
   {
    "duration": 18,
    "start_time": "2024-07-13T19:32:27.289Z"
   },
   {
    "duration": 517,
    "start_time": "2024-07-13T19:32:27.310Z"
   },
   {
    "duration": 18,
    "start_time": "2024-07-13T19:32:27.828Z"
   },
   {
    "duration": 11,
    "start_time": "2024-07-13T19:32:27.848Z"
   },
   {
    "duration": 56,
    "start_time": "2024-07-13T19:32:27.860Z"
   },
   {
    "duration": 11,
    "start_time": "2024-07-13T19:32:27.918Z"
   },
   {
    "duration": 14,
    "start_time": "2024-07-13T19:32:27.931Z"
   },
   {
    "duration": 9,
    "start_time": "2024-07-13T19:32:27.949Z"
   },
   {
    "duration": 27,
    "start_time": "2024-07-13T19:32:27.959Z"
   },
   {
    "duration": 8,
    "start_time": "2024-07-13T19:32:27.988Z"
   },
   {
    "duration": 14,
    "start_time": "2024-07-13T19:32:27.998Z"
   },
   {
    "duration": 1216,
    "start_time": "2024-07-15T06:20:50.719Z"
   },
   {
    "duration": 335,
    "start_time": "2024-07-15T06:20:51.936Z"
   },
   {
    "duration": 11,
    "start_time": "2024-07-15T06:20:52.273Z"
   },
   {
    "duration": 9,
    "start_time": "2024-07-15T06:20:52.286Z"
   },
   {
    "duration": 9,
    "start_time": "2024-07-15T06:20:52.297Z"
   },
   {
    "duration": 17,
    "start_time": "2024-07-15T06:20:52.307Z"
   },
   {
    "duration": 5,
    "start_time": "2024-07-15T06:20:52.326Z"
   },
   {
    "duration": 23,
    "start_time": "2024-07-15T06:20:52.333Z"
   },
   {
    "duration": 13,
    "start_time": "2024-07-15T06:20:52.357Z"
   },
   {
    "duration": 10,
    "start_time": "2024-07-15T06:20:52.372Z"
   },
   {
    "duration": 10,
    "start_time": "2024-07-15T06:20:52.383Z"
   },
   {
    "duration": 4,
    "start_time": "2024-07-15T06:20:52.394Z"
   },
   {
    "duration": 6,
    "start_time": "2024-07-15T06:20:52.399Z"
   },
   {
    "duration": 4,
    "start_time": "2024-07-15T06:20:52.407Z"
   },
   {
    "duration": 9,
    "start_time": "2024-07-15T06:20:52.412Z"
   },
   {
    "duration": 7,
    "start_time": "2024-07-15T06:20:52.422Z"
   },
   {
    "duration": 7,
    "start_time": "2024-07-15T06:20:52.430Z"
   },
   {
    "duration": 6,
    "start_time": "2024-07-15T06:20:52.438Z"
   },
   {
    "duration": 40,
    "start_time": "2024-07-15T06:20:52.445Z"
   },
   {
    "duration": 238,
    "start_time": "2024-07-15T06:20:52.486Z"
   },
   {
    "duration": 137,
    "start_time": "2024-07-15T06:20:52.726Z"
   },
   {
    "duration": 187,
    "start_time": "2024-07-15T06:20:52.864Z"
   },
   {
    "duration": 380,
    "start_time": "2024-07-15T06:20:53.052Z"
   },
   {
    "duration": 8,
    "start_time": "2024-07-15T06:20:53.433Z"
   },
   {
    "duration": 352,
    "start_time": "2024-07-15T06:20:53.442Z"
   },
   {
    "duration": 7,
    "start_time": "2024-07-15T06:20:53.796Z"
   },
   {
    "duration": 62,
    "start_time": "2024-07-15T06:20:53.804Z"
   },
   {
    "duration": 12,
    "start_time": "2024-07-15T06:20:53.869Z"
   },
   {
    "duration": 2,
    "start_time": "2024-07-15T06:20:53.883Z"
   },
   {
    "duration": 81,
    "start_time": "2024-07-15T06:20:53.887Z"
   },
   {
    "duration": 12,
    "start_time": "2024-07-15T06:20:53.969Z"
   },
   {
    "duration": 753,
    "start_time": "2024-07-15T06:20:53.982Z"
   },
   {
    "duration": 9,
    "start_time": "2024-07-15T06:20:54.737Z"
   },
   {
    "duration": 14,
    "start_time": "2024-07-15T06:20:54.747Z"
   },
   {
    "duration": 292,
    "start_time": "2024-07-15T06:20:54.762Z"
   },
   {
    "duration": 8,
    "start_time": "2024-07-15T06:20:55.055Z"
   },
   {
    "duration": 19,
    "start_time": "2024-07-15T06:20:55.064Z"
   },
   {
    "duration": 34,
    "start_time": "2024-07-15T06:20:55.084Z"
   },
   {
    "duration": 10,
    "start_time": "2024-07-15T06:20:55.119Z"
   },
   {
    "duration": 10,
    "start_time": "2024-07-15T06:20:55.130Z"
   },
   {
    "duration": 10,
    "start_time": "2024-07-15T06:20:55.142Z"
   },
   {
    "duration": 5,
    "start_time": "2024-07-15T06:20:55.153Z"
   },
   {
    "duration": 25,
    "start_time": "2024-07-15T06:20:55.159Z"
   },
   {
    "duration": 8,
    "start_time": "2024-07-15T06:20:55.186Z"
   },
   {
    "duration": 10,
    "start_time": "2024-07-15T06:26:50.814Z"
   },
   {
    "duration": 4,
    "start_time": "2024-07-15T07:27:39.537Z"
   },
   {
    "duration": 3,
    "start_time": "2024-07-15T07:27:52.250Z"
   },
   {
    "duration": 165,
    "start_time": "2024-07-15T07:44:34.317Z"
   },
   {
    "duration": 11,
    "start_time": "2024-07-15T07:44:41.486Z"
   },
   {
    "duration": 1222,
    "start_time": "2024-07-16T07:48:27.613Z"
   },
   {
    "duration": 360,
    "start_time": "2024-07-16T07:48:28.837Z"
   },
   {
    "duration": 20,
    "start_time": "2024-07-16T07:48:29.199Z"
   },
   {
    "duration": 16,
    "start_time": "2024-07-16T07:48:29.222Z"
   },
   {
    "duration": 40,
    "start_time": "2024-07-16T07:48:29.241Z"
   },
   {
    "duration": 29,
    "start_time": "2024-07-16T07:48:29.283Z"
   },
   {
    "duration": 10,
    "start_time": "2024-07-16T07:48:29.314Z"
   },
   {
    "duration": 15,
    "start_time": "2024-07-16T07:48:29.326Z"
   },
   {
    "duration": 11,
    "start_time": "2024-07-16T07:48:29.344Z"
   },
   {
    "duration": 26,
    "start_time": "2024-07-16T07:48:29.359Z"
   },
   {
    "duration": 15,
    "start_time": "2024-07-16T07:48:29.388Z"
   },
   {
    "duration": 37,
    "start_time": "2024-07-16T07:48:29.405Z"
   },
   {
    "duration": 10,
    "start_time": "2024-07-16T07:48:29.444Z"
   },
   {
    "duration": 14,
    "start_time": "2024-07-16T07:48:29.456Z"
   },
   {
    "duration": 16,
    "start_time": "2024-07-16T07:48:29.472Z"
   },
   {
    "duration": 15,
    "start_time": "2024-07-16T07:48:29.490Z"
   },
   {
    "duration": 28,
    "start_time": "2024-07-16T07:48:29.507Z"
   },
   {
    "duration": 28,
    "start_time": "2024-07-16T07:48:29.536Z"
   },
   {
    "duration": 28,
    "start_time": "2024-07-16T07:48:29.566Z"
   },
   {
    "duration": 40,
    "start_time": "2024-07-16T07:48:29.595Z"
   },
   {
    "duration": 201,
    "start_time": "2024-07-16T07:48:29.637Z"
   },
   {
    "duration": 12,
    "start_time": "2024-07-16T07:48:29.839Z"
   },
   {
    "duration": 154,
    "start_time": "2024-07-16T07:48:29.852Z"
   },
   {
    "duration": 152,
    "start_time": "2024-07-16T07:48:30.008Z"
   },
   {
    "duration": 236,
    "start_time": "2024-07-16T07:48:30.162Z"
   },
   {
    "duration": 390,
    "start_time": "2024-07-16T07:48:30.401Z"
   },
   {
    "duration": 10,
    "start_time": "2024-07-16T07:48:30.793Z"
   },
   {
    "duration": 637,
    "start_time": "2024-07-16T07:48:30.807Z"
   },
   {
    "duration": 9,
    "start_time": "2024-07-16T07:48:31.447Z"
   },
   {
    "duration": 99,
    "start_time": "2024-07-16T07:48:31.459Z"
   },
   {
    "duration": 55,
    "start_time": "2024-07-16T07:48:31.560Z"
   },
   {
    "duration": 40,
    "start_time": "2024-07-16T07:48:31.617Z"
   },
   {
    "duration": 81,
    "start_time": "2024-07-16T07:48:31.659Z"
   },
   {
    "duration": 36,
    "start_time": "2024-07-16T07:48:31.742Z"
   },
   {
    "duration": 817,
    "start_time": "2024-07-16T07:48:31.780Z"
   },
   {
    "duration": 10,
    "start_time": "2024-07-16T07:48:32.599Z"
   },
   {
    "duration": 12,
    "start_time": "2024-07-16T07:48:32.611Z"
   },
   {
    "duration": 326,
    "start_time": "2024-07-16T07:48:32.625Z"
   },
   {
    "duration": 9,
    "start_time": "2024-07-16T07:48:32.952Z"
   },
   {
    "duration": 48,
    "start_time": "2024-07-16T07:48:32.962Z"
   },
   {
    "duration": 55,
    "start_time": "2024-07-16T07:48:33.012Z"
   },
   {
    "duration": 14,
    "start_time": "2024-07-16T07:48:33.069Z"
   },
   {
    "duration": 18,
    "start_time": "2024-07-16T07:48:33.085Z"
   },
   {
    "duration": 25,
    "start_time": "2024-07-16T07:48:33.105Z"
   },
   {
    "duration": 18,
    "start_time": "2024-07-16T07:48:33.133Z"
   },
   {
    "duration": 31,
    "start_time": "2024-07-16T07:48:33.153Z"
   },
   {
    "duration": 39,
    "start_time": "2024-07-16T07:48:33.186Z"
   },
   {
    "duration": 101,
    "start_time": "2024-07-16T07:48:59.540Z"
   },
   {
    "duration": 187,
    "start_time": "2024-07-16T07:49:49.474Z"
   },
   {
    "duration": 179,
    "start_time": "2024-07-16T07:50:20.126Z"
   },
   {
    "duration": 278,
    "start_time": "2024-07-16T07:50:46.726Z"
   },
   {
    "duration": 21,
    "start_time": "2024-07-16T07:55:20.694Z"
   },
   {
    "duration": 13,
    "start_time": "2024-07-16T08:01:28.132Z"
   },
   {
    "duration": 189,
    "start_time": "2024-07-16T08:01:35.331Z"
   },
   {
    "duration": 207,
    "start_time": "2024-07-16T08:05:13.093Z"
   },
   {
    "duration": 191,
    "start_time": "2024-07-16T08:07:04.715Z"
   },
   {
    "duration": 177,
    "start_time": "2024-07-16T08:07:53.403Z"
   },
   {
    "duration": 179,
    "start_time": "2024-07-16T08:08:07.659Z"
   },
   {
    "duration": 15,
    "start_time": "2024-07-16T08:08:11.562Z"
   },
   {
    "duration": 18,
    "start_time": "2024-07-16T08:08:21.970Z"
   },
   {
    "duration": 3,
    "start_time": "2024-07-16T08:08:23.864Z"
   },
   {
    "duration": 71,
    "start_time": "2024-07-16T08:08:23.869Z"
   },
   {
    "duration": 8,
    "start_time": "2024-07-16T08:08:23.941Z"
   },
   {
    "duration": 13,
    "start_time": "2024-07-16T08:08:23.950Z"
   },
   {
    "duration": 13,
    "start_time": "2024-07-16T08:08:23.965Z"
   },
   {
    "duration": 30,
    "start_time": "2024-07-16T08:08:23.979Z"
   },
   {
    "duration": 9,
    "start_time": "2024-07-16T08:08:24.011Z"
   },
   {
    "duration": 12,
    "start_time": "2024-07-16T08:08:24.022Z"
   },
   {
    "duration": 10,
    "start_time": "2024-07-16T08:08:24.036Z"
   },
   {
    "duration": 9,
    "start_time": "2024-07-16T08:08:24.047Z"
   },
   {
    "duration": 15,
    "start_time": "2024-07-16T08:08:24.058Z"
   },
   {
    "duration": 16,
    "start_time": "2024-07-16T08:08:24.074Z"
   },
   {
    "duration": 6,
    "start_time": "2024-07-16T08:08:24.099Z"
   },
   {
    "duration": 6,
    "start_time": "2024-07-16T08:08:24.107Z"
   },
   {
    "duration": 31,
    "start_time": "2024-07-16T08:08:24.114Z"
   },
   {
    "duration": 5,
    "start_time": "2024-07-16T08:08:24.146Z"
   },
   {
    "duration": 9,
    "start_time": "2024-07-16T08:08:24.152Z"
   },
   {
    "duration": 6,
    "start_time": "2024-07-16T08:08:24.162Z"
   },
   {
    "duration": 5,
    "start_time": "2024-07-16T08:08:24.169Z"
   },
   {
    "duration": 7,
    "start_time": "2024-07-16T08:08:24.175Z"
   },
   {
    "duration": 193,
    "start_time": "2024-07-16T08:08:24.183Z"
   },
   {
    "duration": 19,
    "start_time": "2024-07-16T08:08:24.381Z"
   },
   {
    "duration": 29,
    "start_time": "2024-07-16T08:08:24.401Z"
   },
   {
    "duration": 0,
    "start_time": "2024-07-16T08:08:24.432Z"
   },
   {
    "duration": 0,
    "start_time": "2024-07-16T08:08:24.433Z"
   },
   {
    "duration": 0,
    "start_time": "2024-07-16T08:08:24.434Z"
   },
   {
    "duration": 0,
    "start_time": "2024-07-16T08:08:24.436Z"
   },
   {
    "duration": 0,
    "start_time": "2024-07-16T08:08:24.437Z"
   },
   {
    "duration": 0,
    "start_time": "2024-07-16T08:08:24.438Z"
   },
   {
    "duration": 0,
    "start_time": "2024-07-16T08:08:24.439Z"
   },
   {
    "duration": 0,
    "start_time": "2024-07-16T08:08:24.440Z"
   },
   {
    "duration": 0,
    "start_time": "2024-07-16T08:08:24.441Z"
   },
   {
    "duration": 0,
    "start_time": "2024-07-16T08:08:24.442Z"
   },
   {
    "duration": 0,
    "start_time": "2024-07-16T08:08:24.443Z"
   },
   {
    "duration": 0,
    "start_time": "2024-07-16T08:08:24.444Z"
   },
   {
    "duration": 0,
    "start_time": "2024-07-16T08:08:24.445Z"
   },
   {
    "duration": 0,
    "start_time": "2024-07-16T08:08:24.446Z"
   },
   {
    "duration": 0,
    "start_time": "2024-07-16T08:08:24.447Z"
   },
   {
    "duration": 0,
    "start_time": "2024-07-16T08:08:24.448Z"
   },
   {
    "duration": 0,
    "start_time": "2024-07-16T08:08:24.449Z"
   },
   {
    "duration": 0,
    "start_time": "2024-07-16T08:08:24.450Z"
   },
   {
    "duration": 0,
    "start_time": "2024-07-16T08:08:24.450Z"
   },
   {
    "duration": 0,
    "start_time": "2024-07-16T08:08:24.452Z"
   },
   {
    "duration": 0,
    "start_time": "2024-07-16T08:08:24.453Z"
   },
   {
    "duration": 0,
    "start_time": "2024-07-16T08:08:24.486Z"
   },
   {
    "duration": 0,
    "start_time": "2024-07-16T08:08:24.487Z"
   },
   {
    "duration": 1,
    "start_time": "2024-07-16T08:08:24.487Z"
   },
   {
    "duration": 143,
    "start_time": "2024-07-16T08:08:54.155Z"
   },
   {
    "duration": 2,
    "start_time": "2024-07-16T08:08:57.196Z"
   },
   {
    "duration": 77,
    "start_time": "2024-07-16T08:08:57.200Z"
   },
   {
    "duration": 17,
    "start_time": "2024-07-16T08:08:57.278Z"
   },
   {
    "duration": 12,
    "start_time": "2024-07-16T08:08:57.298Z"
   },
   {
    "duration": 8,
    "start_time": "2024-07-16T08:08:57.312Z"
   },
   {
    "duration": 10,
    "start_time": "2024-07-16T08:08:57.322Z"
   },
   {
    "duration": 6,
    "start_time": "2024-07-16T08:08:57.334Z"
   },
   {
    "duration": 9,
    "start_time": "2024-07-16T08:08:57.341Z"
   },
   {
    "duration": 7,
    "start_time": "2024-07-16T08:08:57.351Z"
   },
   {
    "duration": 38,
    "start_time": "2024-07-16T08:08:57.359Z"
   },
   {
    "duration": 11,
    "start_time": "2024-07-16T08:08:57.399Z"
   },
   {
    "duration": 7,
    "start_time": "2024-07-16T08:08:57.412Z"
   },
   {
    "duration": 7,
    "start_time": "2024-07-16T08:08:57.420Z"
   },
   {
    "duration": 4,
    "start_time": "2024-07-16T08:08:57.430Z"
   },
   {
    "duration": 9,
    "start_time": "2024-07-16T08:08:57.435Z"
   },
   {
    "duration": 3,
    "start_time": "2024-07-16T08:08:57.446Z"
   },
   {
    "duration": 18,
    "start_time": "2024-07-16T08:08:57.481Z"
   },
   {
    "duration": 7,
    "start_time": "2024-07-16T08:08:57.500Z"
   },
   {
    "duration": 6,
    "start_time": "2024-07-16T08:08:57.508Z"
   },
   {
    "duration": 5,
    "start_time": "2024-07-16T08:08:57.516Z"
   },
   {
    "duration": 218,
    "start_time": "2024-07-16T08:08:57.523Z"
   },
   {
    "duration": 10,
    "start_time": "2024-07-16T08:08:57.743Z"
   },
   {
    "duration": 132,
    "start_time": "2024-07-16T08:08:57.755Z"
   },
   {
    "duration": 0,
    "start_time": "2024-07-16T08:08:57.896Z"
   },
   {
    "duration": 0,
    "start_time": "2024-07-16T08:08:57.896Z"
   },
   {
    "duration": 0,
    "start_time": "2024-07-16T08:08:57.897Z"
   },
   {
    "duration": 0,
    "start_time": "2024-07-16T08:08:57.898Z"
   },
   {
    "duration": 1,
    "start_time": "2024-07-16T08:08:57.899Z"
   },
   {
    "duration": 0,
    "start_time": "2024-07-16T08:08:57.900Z"
   },
   {
    "duration": 0,
    "start_time": "2024-07-16T08:08:57.901Z"
   },
   {
    "duration": 0,
    "start_time": "2024-07-16T08:08:57.902Z"
   },
   {
    "duration": 0,
    "start_time": "2024-07-16T08:08:57.903Z"
   },
   {
    "duration": 0,
    "start_time": "2024-07-16T08:08:57.904Z"
   },
   {
    "duration": 0,
    "start_time": "2024-07-16T08:08:57.905Z"
   },
   {
    "duration": 0,
    "start_time": "2024-07-16T08:08:57.906Z"
   },
   {
    "duration": 0,
    "start_time": "2024-07-16T08:08:57.906Z"
   },
   {
    "duration": 0,
    "start_time": "2024-07-16T08:08:57.907Z"
   },
   {
    "duration": 0,
    "start_time": "2024-07-16T08:08:57.908Z"
   },
   {
    "duration": 0,
    "start_time": "2024-07-16T08:08:57.909Z"
   },
   {
    "duration": 1,
    "start_time": "2024-07-16T08:08:57.909Z"
   },
   {
    "duration": 0,
    "start_time": "2024-07-16T08:08:57.910Z"
   },
   {
    "duration": 0,
    "start_time": "2024-07-16T08:08:57.911Z"
   },
   {
    "duration": 0,
    "start_time": "2024-07-16T08:08:57.912Z"
   },
   {
    "duration": 0,
    "start_time": "2024-07-16T08:08:57.913Z"
   },
   {
    "duration": 0,
    "start_time": "2024-07-16T08:08:57.914Z"
   },
   {
    "duration": 0,
    "start_time": "2024-07-16T08:08:57.915Z"
   },
   {
    "duration": 0,
    "start_time": "2024-07-16T08:08:57.916Z"
   },
   {
    "duration": 180,
    "start_time": "2024-07-16T08:09:36.363Z"
   },
   {
    "duration": 267,
    "start_time": "2024-07-16T08:09:53.946Z"
   },
   {
    "duration": 196,
    "start_time": "2024-07-16T08:12:11.027Z"
   },
   {
    "duration": 200,
    "start_time": "2024-07-16T08:13:09.724Z"
   },
   {
    "duration": 197,
    "start_time": "2024-07-16T08:13:54.787Z"
   },
   {
    "duration": 4,
    "start_time": "2024-07-16T08:14:03.634Z"
   },
   {
    "duration": 11,
    "start_time": "2024-07-16T08:14:45.810Z"
   },
   {
    "duration": 186,
    "start_time": "2024-07-16T08:15:00.522Z"
   },
   {
    "duration": 7,
    "start_time": "2024-07-16T08:15:04.315Z"
   },
   {
    "duration": 191,
    "start_time": "2024-07-16T08:15:49.067Z"
   },
   {
    "duration": 1129,
    "start_time": "2024-07-16T08:16:12.035Z"
   },
   {
    "duration": 7,
    "start_time": "2024-07-16T08:16:35.546Z"
   },
   {
    "duration": 1186,
    "start_time": "2024-07-16T08:16:42.018Z"
   },
   {
    "duration": 1087,
    "start_time": "2024-07-16T08:17:17.721Z"
   },
   {
    "duration": 13,
    "start_time": "2024-07-16T08:20:16.388Z"
   },
   {
    "duration": 2,
    "start_time": "2024-07-16T08:20:58.556Z"
   },
   {
    "duration": 74,
    "start_time": "2024-07-16T08:20:58.559Z"
   },
   {
    "duration": 8,
    "start_time": "2024-07-16T08:20:58.634Z"
   },
   {
    "duration": 16,
    "start_time": "2024-07-16T08:20:58.643Z"
   },
   {
    "duration": 14,
    "start_time": "2024-07-16T08:20:58.661Z"
   },
   {
    "duration": 16,
    "start_time": "2024-07-16T08:20:58.676Z"
   },
   {
    "duration": 8,
    "start_time": "2024-07-16T08:20:58.694Z"
   },
   {
    "duration": 17,
    "start_time": "2024-07-16T08:20:58.703Z"
   },
   {
    "duration": 9,
    "start_time": "2024-07-16T08:20:58.722Z"
   },
   {
    "duration": 9,
    "start_time": "2024-07-16T08:20:58.732Z"
   },
   {
    "duration": 10,
    "start_time": "2024-07-16T08:20:58.743Z"
   },
   {
    "duration": 5,
    "start_time": "2024-07-16T08:20:58.754Z"
   },
   {
    "duration": 9,
    "start_time": "2024-07-16T08:20:58.781Z"
   },
   {
    "duration": 9,
    "start_time": "2024-07-16T08:20:58.797Z"
   },
   {
    "duration": 10,
    "start_time": "2024-07-16T08:20:58.807Z"
   },
   {
    "duration": 5,
    "start_time": "2024-07-16T08:20:58.819Z"
   },
   {
    "duration": 6,
    "start_time": "2024-07-16T08:20:58.826Z"
   },
   {
    "duration": 9,
    "start_time": "2024-07-16T08:20:58.834Z"
   },
   {
    "duration": 5,
    "start_time": "2024-07-16T08:20:58.844Z"
   },
   {
    "duration": 38,
    "start_time": "2024-07-16T08:20:58.850Z"
   },
   {
    "duration": 9,
    "start_time": "2024-07-16T08:20:58.889Z"
   },
   {
    "duration": 201,
    "start_time": "2024-07-16T08:20:58.900Z"
   },
   {
    "duration": 7,
    "start_time": "2024-07-16T08:20:59.102Z"
   },
   {
    "duration": 11,
    "start_time": "2024-07-16T08:20:59.110Z"
   },
   {
    "duration": 1,
    "start_time": "2024-07-16T08:20:59.123Z"
   },
   {
    "duration": 0,
    "start_time": "2024-07-16T08:20:59.125Z"
   },
   {
    "duration": 1,
    "start_time": "2024-07-16T08:20:59.126Z"
   },
   {
    "duration": 0,
    "start_time": "2024-07-16T08:20:59.128Z"
   },
   {
    "duration": 0,
    "start_time": "2024-07-16T08:20:59.129Z"
   },
   {
    "duration": 0,
    "start_time": "2024-07-16T08:20:59.130Z"
   },
   {
    "duration": 0,
    "start_time": "2024-07-16T08:20:59.131Z"
   },
   {
    "duration": 0,
    "start_time": "2024-07-16T08:20:59.133Z"
   },
   {
    "duration": 0,
    "start_time": "2024-07-16T08:20:59.134Z"
   },
   {
    "duration": 0,
    "start_time": "2024-07-16T08:20:59.136Z"
   },
   {
    "duration": 0,
    "start_time": "2024-07-16T08:20:59.137Z"
   },
   {
    "duration": 0,
    "start_time": "2024-07-16T08:20:59.138Z"
   },
   {
    "duration": 1,
    "start_time": "2024-07-16T08:20:59.139Z"
   },
   {
    "duration": 0,
    "start_time": "2024-07-16T08:20:59.140Z"
   },
   {
    "duration": 0,
    "start_time": "2024-07-16T08:20:59.142Z"
   },
   {
    "duration": 0,
    "start_time": "2024-07-16T08:20:59.144Z"
   },
   {
    "duration": 0,
    "start_time": "2024-07-16T08:20:59.184Z"
   },
   {
    "duration": 0,
    "start_time": "2024-07-16T08:20:59.185Z"
   },
   {
    "duration": 0,
    "start_time": "2024-07-16T08:20:59.188Z"
   },
   {
    "duration": 0,
    "start_time": "2024-07-16T08:20:59.189Z"
   },
   {
    "duration": 0,
    "start_time": "2024-07-16T08:20:59.190Z"
   },
   {
    "duration": 0,
    "start_time": "2024-07-16T08:20:59.191Z"
   },
   {
    "duration": 0,
    "start_time": "2024-07-16T08:20:59.192Z"
   },
   {
    "duration": 0,
    "start_time": "2024-07-16T08:20:59.193Z"
   },
   {
    "duration": 3,
    "start_time": "2024-07-16T08:26:05.208Z"
   },
   {
    "duration": 86,
    "start_time": "2024-07-16T08:26:05.213Z"
   },
   {
    "duration": 10,
    "start_time": "2024-07-16T08:26:05.301Z"
   },
   {
    "duration": 13,
    "start_time": "2024-07-16T08:26:05.313Z"
   },
   {
    "duration": 15,
    "start_time": "2024-07-16T08:26:05.328Z"
   },
   {
    "duration": 27,
    "start_time": "2024-07-16T08:26:05.344Z"
   },
   {
    "duration": 6,
    "start_time": "2024-07-16T08:26:05.372Z"
   },
   {
    "duration": 25,
    "start_time": "2024-07-16T08:26:05.379Z"
   },
   {
    "duration": 10,
    "start_time": "2024-07-16T08:26:05.407Z"
   },
   {
    "duration": 9,
    "start_time": "2024-07-16T08:26:05.419Z"
   },
   {
    "duration": 17,
    "start_time": "2024-07-16T08:26:05.430Z"
   },
   {
    "duration": 6,
    "start_time": "2024-07-16T08:26:05.448Z"
   },
   {
    "duration": 19,
    "start_time": "2024-07-16T08:26:05.455Z"
   },
   {
    "duration": 26,
    "start_time": "2024-07-16T08:26:05.475Z"
   },
   {
    "duration": 40,
    "start_time": "2024-07-16T08:26:05.503Z"
   },
   {
    "duration": 17,
    "start_time": "2024-07-16T08:26:05.545Z"
   },
   {
    "duration": 35,
    "start_time": "2024-07-16T08:26:05.563Z"
   },
   {
    "duration": 12,
    "start_time": "2024-07-16T08:26:05.599Z"
   },
   {
    "duration": 8,
    "start_time": "2024-07-16T08:26:05.612Z"
   },
   {
    "duration": 25,
    "start_time": "2024-07-16T08:26:05.622Z"
   },
   {
    "duration": 17,
    "start_time": "2024-07-16T08:26:05.649Z"
   },
   {
    "duration": 179,
    "start_time": "2024-07-16T08:26:05.667Z"
   },
   {
    "duration": 7,
    "start_time": "2024-07-16T08:26:05.848Z"
   },
   {
    "duration": 36,
    "start_time": "2024-07-16T08:26:05.857Z"
   },
   {
    "duration": 0,
    "start_time": "2024-07-16T08:26:05.898Z"
   },
   {
    "duration": 0,
    "start_time": "2024-07-16T08:26:05.899Z"
   },
   {
    "duration": 0,
    "start_time": "2024-07-16T08:26:05.900Z"
   },
   {
    "duration": 0,
    "start_time": "2024-07-16T08:26:05.901Z"
   },
   {
    "duration": 0,
    "start_time": "2024-07-16T08:26:05.902Z"
   },
   {
    "duration": 0,
    "start_time": "2024-07-16T08:26:05.903Z"
   },
   {
    "duration": 0,
    "start_time": "2024-07-16T08:26:05.904Z"
   },
   {
    "duration": 0,
    "start_time": "2024-07-16T08:26:05.905Z"
   },
   {
    "duration": 0,
    "start_time": "2024-07-16T08:26:05.906Z"
   },
   {
    "duration": 0,
    "start_time": "2024-07-16T08:26:05.907Z"
   },
   {
    "duration": 0,
    "start_time": "2024-07-16T08:26:05.908Z"
   },
   {
    "duration": 0,
    "start_time": "2024-07-16T08:26:05.908Z"
   },
   {
    "duration": 0,
    "start_time": "2024-07-16T08:26:05.909Z"
   },
   {
    "duration": 0,
    "start_time": "2024-07-16T08:26:05.910Z"
   },
   {
    "duration": 0,
    "start_time": "2024-07-16T08:26:05.911Z"
   },
   {
    "duration": 0,
    "start_time": "2024-07-16T08:26:05.912Z"
   },
   {
    "duration": 0,
    "start_time": "2024-07-16T08:26:05.913Z"
   },
   {
    "duration": 0,
    "start_time": "2024-07-16T08:26:06.023Z"
   },
   {
    "duration": 0,
    "start_time": "2024-07-16T08:26:06.024Z"
   },
   {
    "duration": 0,
    "start_time": "2024-07-16T08:26:06.025Z"
   },
   {
    "duration": 0,
    "start_time": "2024-07-16T08:26:06.026Z"
   },
   {
    "duration": 0,
    "start_time": "2024-07-16T08:26:06.027Z"
   },
   {
    "duration": 0,
    "start_time": "2024-07-16T08:26:06.028Z"
   },
   {
    "duration": 0,
    "start_time": "2024-07-16T08:26:06.029Z"
   },
   {
    "duration": 18,
    "start_time": "2024-07-16T08:27:01.671Z"
   },
   {
    "duration": 9,
    "start_time": "2024-07-16T08:27:09.223Z"
   },
   {
    "duration": 174,
    "start_time": "2024-07-16T08:27:13.887Z"
   },
   {
    "duration": 206,
    "start_time": "2024-07-16T08:27:59.721Z"
   },
   {
    "duration": 1103,
    "start_time": "2024-07-16T08:28:27.369Z"
   },
   {
    "duration": 200,
    "start_time": "2024-07-16T08:28:56.599Z"
   },
   {
    "duration": 218,
    "start_time": "2024-07-16T08:32:32.919Z"
   },
   {
    "duration": 181,
    "start_time": "2024-07-16T08:35:35.193Z"
   },
   {
    "duration": 194,
    "start_time": "2024-07-16T08:37:34.668Z"
   },
   {
    "duration": 203,
    "start_time": "2024-07-16T08:38:02.053Z"
   },
   {
    "duration": 86,
    "start_time": "2024-07-16T09:06:18.519Z"
   },
   {
    "duration": 68,
    "start_time": "2024-07-16T09:06:42.608Z"
   },
   {
    "duration": 84,
    "start_time": "2024-07-16T09:07:02.678Z"
   },
   {
    "duration": 9,
    "start_time": "2024-07-16T09:11:03.358Z"
   },
   {
    "duration": 10,
    "start_time": "2024-07-16T09:11:08.046Z"
   },
   {
    "duration": 176,
    "start_time": "2024-07-16T09:11:08.797Z"
   },
   {
    "duration": 9,
    "start_time": "2024-07-16T09:11:09.526Z"
   },
   {
    "duration": 282,
    "start_time": "2024-07-16T09:11:12.511Z"
   },
   {
    "duration": 182,
    "start_time": "2024-07-16T09:12:12.302Z"
   },
   {
    "duration": 229,
    "start_time": "2024-07-16T09:12:23.070Z"
   },
   {
    "duration": 189,
    "start_time": "2024-07-16T09:12:43.501Z"
   },
   {
    "duration": 183,
    "start_time": "2024-07-16T09:13:45.164Z"
   },
   {
    "duration": 125,
    "start_time": "2024-07-16T09:14:04.062Z"
   },
   {
    "duration": 85,
    "start_time": "2024-07-16T09:14:53.942Z"
   },
   {
    "duration": 7,
    "start_time": "2024-07-16T09:15:03.908Z"
   },
   {
    "duration": 95,
    "start_time": "2024-07-16T09:15:04.734Z"
   },
   {
    "duration": 185,
    "start_time": "2024-07-16T09:15:34.735Z"
   },
   {
    "duration": 59,
    "start_time": "2024-07-16T09:16:27.965Z"
   },
   {
    "duration": 99,
    "start_time": "2024-07-16T09:16:39.085Z"
   },
   {
    "duration": 7,
    "start_time": "2024-07-16T09:19:52.092Z"
   },
   {
    "duration": 2,
    "start_time": "2024-07-16T09:19:52.645Z"
   },
   {
    "duration": 5,
    "start_time": "2024-07-16T09:19:53.140Z"
   },
   {
    "duration": 2,
    "start_time": "2024-07-16T09:20:22.114Z"
   },
   {
    "duration": 4,
    "start_time": "2024-07-16T09:20:22.941Z"
   },
   {
    "duration": 181,
    "start_time": "2024-07-16T09:20:24.132Z"
   },
   {
    "duration": 2,
    "start_time": "2024-07-16T09:20:39.755Z"
   },
   {
    "duration": 5,
    "start_time": "2024-07-16T09:20:40.564Z"
   },
   {
    "duration": 281,
    "start_time": "2024-07-16T09:20:41.468Z"
   },
   {
    "duration": 181,
    "start_time": "2024-07-16T09:21:13.435Z"
   },
   {
    "duration": 6,
    "start_time": "2024-07-16T09:21:16.814Z"
   },
   {
    "duration": 192,
    "start_time": "2024-07-16T09:21:17.635Z"
   },
   {
    "duration": 183,
    "start_time": "2024-07-16T09:21:39.764Z"
   },
   {
    "duration": 173,
    "start_time": "2024-07-16T09:21:46.901Z"
   },
   {
    "duration": 186,
    "start_time": "2024-07-16T09:21:55.978Z"
   },
   {
    "duration": 183,
    "start_time": "2024-07-16T09:22:36.926Z"
   },
   {
    "duration": 2,
    "start_time": "2024-07-16T09:22:50.606Z"
   },
   {
    "duration": 92,
    "start_time": "2024-07-16T09:22:50.610Z"
   },
   {
    "duration": 9,
    "start_time": "2024-07-16T09:22:50.703Z"
   },
   {
    "duration": 10,
    "start_time": "2024-07-16T09:22:50.714Z"
   },
   {
    "duration": 14,
    "start_time": "2024-07-16T09:22:50.725Z"
   },
   {
    "duration": 12,
    "start_time": "2024-07-16T09:22:50.741Z"
   },
   {
    "duration": 7,
    "start_time": "2024-07-16T09:22:50.754Z"
   },
   {
    "duration": 25,
    "start_time": "2024-07-16T09:22:50.762Z"
   },
   {
    "duration": 9,
    "start_time": "2024-07-16T09:22:50.788Z"
   },
   {
    "duration": 9,
    "start_time": "2024-07-16T09:22:50.800Z"
   },
   {
    "duration": 11,
    "start_time": "2024-07-16T09:22:50.810Z"
   },
   {
    "duration": 6,
    "start_time": "2024-07-16T09:22:50.822Z"
   },
   {
    "duration": 11,
    "start_time": "2024-07-16T09:22:50.830Z"
   },
   {
    "duration": 6,
    "start_time": "2024-07-16T09:22:50.843Z"
   },
   {
    "duration": 43,
    "start_time": "2024-07-16T09:22:50.850Z"
   },
   {
    "duration": 6,
    "start_time": "2024-07-16T09:22:50.894Z"
   },
   {
    "duration": 8,
    "start_time": "2024-07-16T09:22:50.901Z"
   },
   {
    "duration": 7,
    "start_time": "2024-07-16T09:22:50.911Z"
   },
   {
    "duration": 5,
    "start_time": "2024-07-16T09:22:50.919Z"
   },
   {
    "duration": 9,
    "start_time": "2024-07-16T09:22:50.925Z"
   },
   {
    "duration": 8,
    "start_time": "2024-07-16T09:22:50.935Z"
   },
   {
    "duration": 199,
    "start_time": "2024-07-16T09:22:50.944Z"
   },
   {
    "duration": 7,
    "start_time": "2024-07-16T09:22:51.145Z"
   },
   {
    "duration": 187,
    "start_time": "2024-07-16T09:22:51.154Z"
   },
   {
    "duration": 0,
    "start_time": "2024-07-16T09:22:51.343Z"
   },
   {
    "duration": 0,
    "start_time": "2024-07-16T09:22:51.345Z"
   },
   {
    "duration": 0,
    "start_time": "2024-07-16T09:22:51.346Z"
   },
   {
    "duration": 0,
    "start_time": "2024-07-16T09:22:51.348Z"
   },
   {
    "duration": 0,
    "start_time": "2024-07-16T09:22:51.349Z"
   },
   {
    "duration": 0,
    "start_time": "2024-07-16T09:22:51.350Z"
   },
   {
    "duration": 0,
    "start_time": "2024-07-16T09:22:51.351Z"
   },
   {
    "duration": 0,
    "start_time": "2024-07-16T09:22:51.352Z"
   },
   {
    "duration": 0,
    "start_time": "2024-07-16T09:22:51.354Z"
   },
   {
    "duration": 0,
    "start_time": "2024-07-16T09:22:51.355Z"
   },
   {
    "duration": 0,
    "start_time": "2024-07-16T09:22:51.356Z"
   },
   {
    "duration": 0,
    "start_time": "2024-07-16T09:22:51.381Z"
   },
   {
    "duration": 0,
    "start_time": "2024-07-16T09:22:51.383Z"
   },
   {
    "duration": 0,
    "start_time": "2024-07-16T09:22:51.384Z"
   },
   {
    "duration": 0,
    "start_time": "2024-07-16T09:22:51.385Z"
   },
   {
    "duration": 0,
    "start_time": "2024-07-16T09:22:51.387Z"
   },
   {
    "duration": 0,
    "start_time": "2024-07-16T09:22:51.388Z"
   },
   {
    "duration": 0,
    "start_time": "2024-07-16T09:22:51.390Z"
   },
   {
    "duration": 0,
    "start_time": "2024-07-16T09:22:51.391Z"
   },
   {
    "duration": 0,
    "start_time": "2024-07-16T09:22:51.392Z"
   },
   {
    "duration": 0,
    "start_time": "2024-07-16T09:22:51.394Z"
   },
   {
    "duration": 0,
    "start_time": "2024-07-16T09:22:51.395Z"
   },
   {
    "duration": 0,
    "start_time": "2024-07-16T09:22:51.396Z"
   },
   {
    "duration": 0,
    "start_time": "2024-07-16T09:22:51.398Z"
   },
   {
    "duration": 191,
    "start_time": "2024-07-16T09:23:26.979Z"
   },
   {
    "duration": 176,
    "start_time": "2024-07-16T09:23:42.122Z"
   },
   {
    "duration": 297,
    "start_time": "2024-07-16T09:24:50.060Z"
   },
   {
    "duration": 182,
    "start_time": "2024-07-16T09:25:04.452Z"
   },
   {
    "duration": 14,
    "start_time": "2024-07-16T09:25:06.075Z"
   },
   {
    "duration": 186,
    "start_time": "2024-07-16T09:25:07.018Z"
   },
   {
    "duration": 184,
    "start_time": "2024-07-16T09:25:14.444Z"
   },
   {
    "duration": 169,
    "start_time": "2024-07-16T09:25:22.357Z"
   },
   {
    "duration": 3,
    "start_time": "2024-07-16T09:25:43.542Z"
   },
   {
    "duration": 74,
    "start_time": "2024-07-16T09:25:43.547Z"
   },
   {
    "duration": 7,
    "start_time": "2024-07-16T09:25:43.623Z"
   },
   {
    "duration": 12,
    "start_time": "2024-07-16T09:25:43.632Z"
   },
   {
    "duration": 9,
    "start_time": "2024-07-16T09:25:43.646Z"
   },
   {
    "duration": 11,
    "start_time": "2024-07-16T09:25:43.656Z"
   },
   {
    "duration": 6,
    "start_time": "2024-07-16T09:25:43.668Z"
   },
   {
    "duration": 21,
    "start_time": "2024-07-16T09:25:43.676Z"
   },
   {
    "duration": 12,
    "start_time": "2024-07-16T09:25:43.699Z"
   },
   {
    "duration": 9,
    "start_time": "2024-07-16T09:25:43.713Z"
   },
   {
    "duration": 10,
    "start_time": "2024-07-16T09:25:43.723Z"
   },
   {
    "duration": 5,
    "start_time": "2024-07-16T09:25:43.734Z"
   },
   {
    "duration": 13,
    "start_time": "2024-07-16T09:25:43.740Z"
   },
   {
    "duration": 9,
    "start_time": "2024-07-16T09:25:43.754Z"
   },
   {
    "duration": 31,
    "start_time": "2024-07-16T09:25:43.764Z"
   },
   {
    "duration": 3,
    "start_time": "2024-07-16T09:25:43.797Z"
   },
   {
    "duration": 13,
    "start_time": "2024-07-16T09:25:43.802Z"
   },
   {
    "duration": 9,
    "start_time": "2024-07-16T09:25:43.816Z"
   },
   {
    "duration": 5,
    "start_time": "2024-07-16T09:25:43.827Z"
   },
   {
    "duration": 9,
    "start_time": "2024-07-16T09:25:43.833Z"
   },
   {
    "duration": 10,
    "start_time": "2024-07-16T09:25:43.843Z"
   },
   {
    "duration": 199,
    "start_time": "2024-07-16T09:25:43.854Z"
   },
   {
    "duration": 6,
    "start_time": "2024-07-16T09:25:44.054Z"
   },
   {
    "duration": 186,
    "start_time": "2024-07-16T09:25:44.064Z"
   },
   {
    "duration": 144,
    "start_time": "2024-07-16T09:25:44.252Z"
   },
   {
    "duration": 179,
    "start_time": "2024-07-16T09:25:44.398Z"
   },
   {
    "duration": 440,
    "start_time": "2024-07-16T09:25:44.579Z"
   },
   {
    "duration": 8,
    "start_time": "2024-07-16T09:25:45.020Z"
   },
   {
    "duration": 384,
    "start_time": "2024-07-16T09:25:45.029Z"
   },
   {
    "duration": 8,
    "start_time": "2024-07-16T09:25:45.415Z"
   },
   {
    "duration": 22,
    "start_time": "2024-07-16T09:25:45.424Z"
   },
   {
    "duration": 25,
    "start_time": "2024-07-16T09:25:45.447Z"
   },
   {
    "duration": 10,
    "start_time": "2024-07-16T09:25:45.484Z"
   },
   {
    "duration": 8,
    "start_time": "2024-07-16T09:25:45.495Z"
   },
   {
    "duration": 7,
    "start_time": "2024-07-16T09:25:45.504Z"
   },
   {
    "duration": 744,
    "start_time": "2024-07-16T09:25:45.512Z"
   },
   {
    "duration": 8,
    "start_time": "2024-07-16T09:25:46.257Z"
   },
   {
    "duration": 31,
    "start_time": "2024-07-16T09:25:46.266Z"
   },
   {
    "duration": 420,
    "start_time": "2024-07-16T09:25:46.299Z"
   },
   {
    "duration": 8,
    "start_time": "2024-07-16T09:25:46.720Z"
   },
   {
    "duration": 12,
    "start_time": "2024-07-16T09:25:46.730Z"
   },
   {
    "duration": 50,
    "start_time": "2024-07-16T09:25:46.744Z"
   },
   {
    "duration": 9,
    "start_time": "2024-07-16T09:25:46.796Z"
   },
   {
    "duration": 5,
    "start_time": "2024-07-16T09:25:46.807Z"
   },
   {
    "duration": 6,
    "start_time": "2024-07-16T09:25:46.813Z"
   },
   {
    "duration": 6,
    "start_time": "2024-07-16T09:25:46.820Z"
   },
   {
    "duration": 8,
    "start_time": "2024-07-16T09:25:46.827Z"
   },
   {
    "duration": 8,
    "start_time": "2024-07-16T09:25:46.836Z"
   },
   {
    "duration": 9,
    "start_time": "2024-07-16T09:27:00.797Z"
   },
   {
    "duration": 182,
    "start_time": "2024-07-16T09:27:02.147Z"
   },
   {
    "duration": 6,
    "start_time": "2024-07-16T09:27:03.324Z"
   },
   {
    "duration": 179,
    "start_time": "2024-07-16T09:27:05.989Z"
   },
   {
    "duration": 1261,
    "start_time": "2024-07-16T09:27:29.841Z"
   },
   {
    "duration": 1296,
    "start_time": "2024-07-16T09:28:03.036Z"
   },
   {
    "duration": 1187,
    "start_time": "2024-07-16T09:28:34.634Z"
   },
   {
    "duration": 1102,
    "start_time": "2024-07-16T09:32:05.859Z"
   },
   {
    "duration": 195,
    "start_time": "2024-07-16T09:32:40.802Z"
   },
   {
    "duration": 203,
    "start_time": "2024-07-16T09:34:15.224Z"
   },
   {
    "duration": 197,
    "start_time": "2024-07-16T09:34:55.815Z"
   },
   {
    "duration": 7,
    "start_time": "2024-07-16T09:35:16.512Z"
   },
   {
    "duration": 173,
    "start_time": "2024-07-16T09:35:17.265Z"
   },
   {
    "duration": 6,
    "start_time": "2024-07-16T09:35:18.808Z"
   },
   {
    "duration": 286,
    "start_time": "2024-07-16T09:35:20.755Z"
   },
   {
    "duration": 2,
    "start_time": "2024-07-16T09:40:13.581Z"
   },
   {
    "duration": 83,
    "start_time": "2024-07-16T09:40:13.585Z"
   },
   {
    "duration": 7,
    "start_time": "2024-07-16T09:40:13.669Z"
   },
   {
    "duration": 15,
    "start_time": "2024-07-16T09:40:13.678Z"
   },
   {
    "duration": 11,
    "start_time": "2024-07-16T09:40:13.694Z"
   },
   {
    "duration": 16,
    "start_time": "2024-07-16T09:40:13.706Z"
   },
   {
    "duration": 13,
    "start_time": "2024-07-16T09:40:13.723Z"
   },
   {
    "duration": 9,
    "start_time": "2024-07-16T09:40:13.737Z"
   },
   {
    "duration": 8,
    "start_time": "2024-07-16T09:40:13.748Z"
   },
   {
    "duration": 9,
    "start_time": "2024-07-16T09:40:13.757Z"
   },
   {
    "duration": 18,
    "start_time": "2024-07-16T09:40:13.767Z"
   },
   {
    "duration": 6,
    "start_time": "2024-07-16T09:40:13.786Z"
   },
   {
    "duration": 16,
    "start_time": "2024-07-16T09:40:13.793Z"
   },
   {
    "duration": 5,
    "start_time": "2024-07-16T09:40:13.811Z"
   },
   {
    "duration": 15,
    "start_time": "2024-07-16T09:40:13.817Z"
   },
   {
    "duration": 27,
    "start_time": "2024-07-16T09:40:13.833Z"
   },
   {
    "duration": 6,
    "start_time": "2024-07-16T09:40:13.861Z"
   },
   {
    "duration": 7,
    "start_time": "2024-07-16T09:40:13.869Z"
   },
   {
    "duration": 5,
    "start_time": "2024-07-16T09:40:13.882Z"
   },
   {
    "duration": 5,
    "start_time": "2024-07-16T09:40:13.889Z"
   },
   {
    "duration": 12,
    "start_time": "2024-07-16T09:40:13.895Z"
   },
   {
    "duration": 178,
    "start_time": "2024-07-16T09:40:13.909Z"
   },
   {
    "duration": 6,
    "start_time": "2024-07-16T09:40:14.088Z"
   },
   {
    "duration": 203,
    "start_time": "2024-07-16T09:40:14.097Z"
   },
   {
    "duration": 126,
    "start_time": "2024-07-16T09:40:14.301Z"
   },
   {
    "duration": 171,
    "start_time": "2024-07-16T09:40:14.429Z"
   },
   {
    "duration": 338,
    "start_time": "2024-07-16T09:40:14.601Z"
   },
   {
    "duration": 7,
    "start_time": "2024-07-16T09:40:14.941Z"
   },
   {
    "duration": 334,
    "start_time": "2024-07-16T09:40:14.950Z"
   },
   {
    "duration": 7,
    "start_time": "2024-07-16T09:40:15.286Z"
   },
   {
    "duration": 33,
    "start_time": "2024-07-16T09:40:15.295Z"
   },
   {
    "duration": 15,
    "start_time": "2024-07-16T09:40:15.330Z"
   },
   {
    "duration": 33,
    "start_time": "2024-07-16T09:40:15.346Z"
   },
   {
    "duration": 20,
    "start_time": "2024-07-16T09:40:15.380Z"
   },
   {
    "duration": 11,
    "start_time": "2024-07-16T09:40:15.401Z"
   },
   {
    "duration": 743,
    "start_time": "2024-07-16T09:40:15.413Z"
   },
   {
    "duration": 7,
    "start_time": "2024-07-16T09:40:16.157Z"
   },
   {
    "duration": 19,
    "start_time": "2024-07-16T09:40:16.165Z"
   },
   {
    "duration": 282,
    "start_time": "2024-07-16T09:40:16.186Z"
   },
   {
    "duration": 16,
    "start_time": "2024-07-16T09:40:16.469Z"
   },
   {
    "duration": 6,
    "start_time": "2024-07-16T09:40:16.486Z"
   },
   {
    "duration": 41,
    "start_time": "2024-07-16T09:40:16.493Z"
   },
   {
    "duration": 8,
    "start_time": "2024-07-16T09:40:16.536Z"
   },
   {
    "duration": 12,
    "start_time": "2024-07-16T09:40:16.546Z"
   },
   {
    "duration": 3,
    "start_time": "2024-07-16T09:40:16.560Z"
   },
   {
    "duration": 4,
    "start_time": "2024-07-16T09:40:16.565Z"
   },
   {
    "duration": 5,
    "start_time": "2024-07-16T09:40:16.581Z"
   },
   {
    "duration": 7,
    "start_time": "2024-07-16T09:40:16.587Z"
   },
   {
    "duration": 5,
    "start_time": "2024-07-16T09:43:18.779Z"
   },
   {
    "duration": 187,
    "start_time": "2024-07-16T09:43:19.454Z"
   },
   {
    "duration": 174,
    "start_time": "2024-07-16T09:43:35.232Z"
   },
   {
    "duration": 174,
    "start_time": "2024-07-16T09:43:40.375Z"
   },
   {
    "duration": 269,
    "start_time": "2024-07-16T09:44:05.759Z"
   },
   {
    "duration": 183,
    "start_time": "2024-07-16T09:44:14.663Z"
   },
   {
    "duration": 3,
    "start_time": "2024-07-16T09:44:24.188Z"
   },
   {
    "duration": 71,
    "start_time": "2024-07-16T09:44:24.193Z"
   },
   {
    "duration": 7,
    "start_time": "2024-07-16T09:44:24.266Z"
   },
   {
    "duration": 10,
    "start_time": "2024-07-16T09:44:24.274Z"
   },
   {
    "duration": 10,
    "start_time": "2024-07-16T09:44:24.286Z"
   },
   {
    "duration": 15,
    "start_time": "2024-07-16T09:44:24.297Z"
   },
   {
    "duration": 7,
    "start_time": "2024-07-16T09:44:24.314Z"
   },
   {
    "duration": 23,
    "start_time": "2024-07-16T09:44:24.322Z"
   },
   {
    "duration": 11,
    "start_time": "2024-07-16T09:44:24.347Z"
   },
   {
    "duration": 11,
    "start_time": "2024-07-16T09:44:24.359Z"
   },
   {
    "duration": 17,
    "start_time": "2024-07-16T09:44:24.371Z"
   },
   {
    "duration": 6,
    "start_time": "2024-07-16T09:44:24.390Z"
   },
   {
    "duration": 13,
    "start_time": "2024-07-16T09:44:24.397Z"
   },
   {
    "duration": 15,
    "start_time": "2024-07-16T09:44:24.413Z"
   },
   {
    "duration": 20,
    "start_time": "2024-07-16T09:44:24.429Z"
   },
   {
    "duration": 4,
    "start_time": "2024-07-16T09:44:24.451Z"
   },
   {
    "duration": 7,
    "start_time": "2024-07-16T09:44:24.456Z"
   },
   {
    "duration": 19,
    "start_time": "2024-07-16T09:44:24.464Z"
   },
   {
    "duration": 5,
    "start_time": "2024-07-16T09:44:24.484Z"
   },
   {
    "duration": 14,
    "start_time": "2024-07-16T09:44:24.491Z"
   },
   {
    "duration": 34,
    "start_time": "2024-07-16T09:44:24.506Z"
   },
   {
    "duration": 166,
    "start_time": "2024-07-16T09:44:24.541Z"
   },
   {
    "duration": 5,
    "start_time": "2024-07-16T09:44:24.709Z"
   },
   {
    "duration": 214,
    "start_time": "2024-07-16T09:44:24.715Z"
   },
   {
    "duration": 124,
    "start_time": "2024-07-16T09:44:24.931Z"
   },
   {
    "duration": 174,
    "start_time": "2024-07-16T09:44:25.056Z"
   },
   {
    "duration": 346,
    "start_time": "2024-07-16T09:44:25.231Z"
   },
   {
    "duration": 8,
    "start_time": "2024-07-16T09:44:25.581Z"
   },
   {
    "duration": 425,
    "start_time": "2024-07-16T09:44:25.590Z"
   },
   {
    "duration": 7,
    "start_time": "2024-07-16T09:44:26.017Z"
   },
   {
    "duration": 27,
    "start_time": "2024-07-16T09:44:26.025Z"
   },
   {
    "duration": 12,
    "start_time": "2024-07-16T09:44:26.054Z"
   },
   {
    "duration": 14,
    "start_time": "2024-07-16T09:44:26.068Z"
   },
   {
    "duration": 8,
    "start_time": "2024-07-16T09:44:26.084Z"
   },
   {
    "duration": 9,
    "start_time": "2024-07-16T09:44:26.093Z"
   },
   {
    "duration": 689,
    "start_time": "2024-07-16T09:44:26.103Z"
   },
   {
    "duration": 7,
    "start_time": "2024-07-16T09:44:26.794Z"
   },
   {
    "duration": 7,
    "start_time": "2024-07-16T09:44:26.803Z"
   },
   {
    "duration": 292,
    "start_time": "2024-07-16T09:44:26.811Z"
   },
   {
    "duration": 8,
    "start_time": "2024-07-16T09:44:27.104Z"
   },
   {
    "duration": 7,
    "start_time": "2024-07-16T09:44:27.115Z"
   },
   {
    "duration": 59,
    "start_time": "2024-07-16T09:44:27.123Z"
   },
   {
    "duration": 11,
    "start_time": "2024-07-16T09:44:27.184Z"
   },
   {
    "duration": 11,
    "start_time": "2024-07-16T09:44:27.197Z"
   },
   {
    "duration": 11,
    "start_time": "2024-07-16T09:44:27.209Z"
   },
   {
    "duration": 5,
    "start_time": "2024-07-16T09:44:27.222Z"
   },
   {
    "duration": 8,
    "start_time": "2024-07-16T09:44:27.228Z"
   },
   {
    "duration": 7,
    "start_time": "2024-07-16T09:44:27.238Z"
   },
   {
    "duration": 181,
    "start_time": "2024-07-16T09:44:51.670Z"
   },
   {
    "duration": 2,
    "start_time": "2024-07-16T09:45:16.761Z"
   },
   {
    "duration": 181,
    "start_time": "2024-07-16T09:45:24.693Z"
   },
   {
    "duration": 260,
    "start_time": "2024-07-16T09:45:44.557Z"
   },
   {
    "duration": 126,
    "start_time": "2024-07-16T09:50:43.309Z"
   },
   {
    "duration": 130,
    "start_time": "2024-07-16T09:52:23.677Z"
   },
   {
    "duration": 123,
    "start_time": "2024-07-16T09:52:33.830Z"
   },
   {
    "duration": 12,
    "start_time": "2024-07-16T09:53:35.405Z"
   },
   {
    "duration": 7,
    "start_time": "2024-07-16T09:54:17.692Z"
   },
   {
    "duration": 2,
    "start_time": "2024-07-16T09:55:21.433Z"
   },
   {
    "duration": 71,
    "start_time": "2024-07-16T09:55:21.437Z"
   },
   {
    "duration": 7,
    "start_time": "2024-07-16T09:55:21.510Z"
   },
   {
    "duration": 15,
    "start_time": "2024-07-16T09:55:21.520Z"
   },
   {
    "duration": 15,
    "start_time": "2024-07-16T09:55:21.537Z"
   },
   {
    "duration": 18,
    "start_time": "2024-07-16T09:55:21.554Z"
   },
   {
    "duration": 6,
    "start_time": "2024-07-16T09:55:21.573Z"
   },
   {
    "duration": 9,
    "start_time": "2024-07-16T09:55:21.581Z"
   },
   {
    "duration": 6,
    "start_time": "2024-07-16T09:55:21.592Z"
   },
   {
    "duration": 8,
    "start_time": "2024-07-16T09:55:21.599Z"
   },
   {
    "duration": 9,
    "start_time": "2024-07-16T09:55:21.608Z"
   },
   {
    "duration": 4,
    "start_time": "2024-07-16T09:55:21.618Z"
   },
   {
    "duration": 5,
    "start_time": "2024-07-16T09:55:21.623Z"
   },
   {
    "duration": 4,
    "start_time": "2024-07-16T09:55:21.629Z"
   },
   {
    "duration": 48,
    "start_time": "2024-07-16T09:55:21.634Z"
   },
   {
    "duration": 4,
    "start_time": "2024-07-16T09:55:21.683Z"
   },
   {
    "duration": 6,
    "start_time": "2024-07-16T09:55:21.688Z"
   },
   {
    "duration": 7,
    "start_time": "2024-07-16T09:55:21.695Z"
   },
   {
    "duration": 10,
    "start_time": "2024-07-16T09:55:21.703Z"
   },
   {
    "duration": 5,
    "start_time": "2024-07-16T09:55:21.714Z"
   },
   {
    "duration": 10,
    "start_time": "2024-07-16T09:55:21.720Z"
   },
   {
    "duration": 197,
    "start_time": "2024-07-16T09:55:21.732Z"
   },
   {
    "duration": 6,
    "start_time": "2024-07-16T09:55:21.930Z"
   },
   {
    "duration": 186,
    "start_time": "2024-07-16T09:55:21.939Z"
   },
   {
    "duration": 132,
    "start_time": "2024-07-16T09:55:22.126Z"
   },
   {
    "duration": 169,
    "start_time": "2024-07-16T09:55:22.259Z"
   },
   {
    "duration": 7,
    "start_time": "2024-07-16T09:55:22.429Z"
   },
   {
    "duration": 351,
    "start_time": "2024-07-16T09:55:22.438Z"
   },
   {
    "duration": 8,
    "start_time": "2024-07-16T09:55:22.790Z"
   },
   {
    "duration": 443,
    "start_time": "2024-07-16T09:55:22.799Z"
   },
   {
    "duration": 9,
    "start_time": "2024-07-16T09:55:23.243Z"
   },
   {
    "duration": 36,
    "start_time": "2024-07-16T09:55:23.253Z"
   },
   {
    "duration": 12,
    "start_time": "2024-07-16T09:55:23.290Z"
   },
   {
    "duration": 7,
    "start_time": "2024-07-16T09:55:23.303Z"
   },
   {
    "duration": 18,
    "start_time": "2024-07-16T09:55:23.311Z"
   },
   {
    "duration": 20,
    "start_time": "2024-07-16T09:55:23.331Z"
   },
   {
    "duration": 664,
    "start_time": "2024-07-16T09:55:23.353Z"
   },
   {
    "duration": 7,
    "start_time": "2024-07-16T09:55:24.019Z"
   },
   {
    "duration": 14,
    "start_time": "2024-07-16T09:55:24.028Z"
   },
   {
    "duration": 284,
    "start_time": "2024-07-16T09:55:24.044Z"
   },
   {
    "duration": 7,
    "start_time": "2024-07-16T09:55:24.330Z"
   },
   {
    "duration": 7,
    "start_time": "2024-07-16T09:55:24.339Z"
   },
   {
    "duration": 54,
    "start_time": "2024-07-16T09:55:24.347Z"
   },
   {
    "duration": 9,
    "start_time": "2024-07-16T09:55:24.403Z"
   },
   {
    "duration": 21,
    "start_time": "2024-07-16T09:55:24.413Z"
   },
   {
    "duration": 13,
    "start_time": "2024-07-16T09:55:24.435Z"
   },
   {
    "duration": 6,
    "start_time": "2024-07-16T09:55:24.449Z"
   },
   {
    "duration": 4,
    "start_time": "2024-07-16T09:55:24.456Z"
   },
   {
    "duration": 7,
    "start_time": "2024-07-16T09:55:24.462Z"
   },
   {
    "duration": 11,
    "start_time": "2024-07-16T10:15:02.825Z"
   },
   {
    "duration": 3,
    "start_time": "2024-07-16T10:15:19.450Z"
   },
   {
    "duration": 54,
    "start_time": "2024-07-16T10:15:57.703Z"
   },
   {
    "duration": 4,
    "start_time": "2024-07-16T10:16:08.034Z"
   },
   {
    "duration": 3,
    "start_time": "2024-07-16T10:16:12.176Z"
   },
   {
    "duration": 3,
    "start_time": "2024-07-16T10:16:20.779Z"
   },
   {
    "duration": 3,
    "start_time": "2024-07-16T10:16:40.393Z"
   },
   {
    "duration": 3,
    "start_time": "2024-07-16T10:16:48.689Z"
   },
   {
    "duration": 911,
    "start_time": "2024-07-16T10:17:22.018Z"
   },
   {
    "duration": 913,
    "start_time": "2024-07-16T10:17:27.034Z"
   },
   {
    "duration": 4,
    "start_time": "2024-07-16T10:17:41.219Z"
   },
   {
    "duration": 8,
    "start_time": "2024-07-16T10:19:08.698Z"
   },
   {
    "duration": 6,
    "start_time": "2024-07-16T10:21:57.276Z"
   },
   {
    "duration": 11,
    "start_time": "2024-07-16T10:24:44.794Z"
   },
   {
    "duration": 8,
    "start_time": "2024-07-16T10:32:31.007Z"
   },
   {
    "duration": 35,
    "start_time": "2024-07-16T10:32:35.847Z"
   },
   {
    "duration": 13,
    "start_time": "2024-07-16T10:32:36.636Z"
   },
   {
    "duration": 6,
    "start_time": "2024-07-16T10:32:38.030Z"
   },
   {
    "duration": 7,
    "start_time": "2024-07-16T10:33:30.254Z"
   },
   {
    "duration": 11,
    "start_time": "2024-07-16T10:33:36.630Z"
   },
   {
    "duration": 4,
    "start_time": "2024-07-16T10:33:46.854Z"
   },
   {
    "duration": 5,
    "start_time": "2024-07-16T10:33:54.318Z"
   },
   {
    "duration": 3,
    "start_time": "2024-07-16T10:36:27.688Z"
   },
   {
    "duration": 70,
    "start_time": "2024-07-16T10:36:27.692Z"
   },
   {
    "duration": 8,
    "start_time": "2024-07-16T10:36:27.764Z"
   },
   {
    "duration": 99,
    "start_time": "2024-07-16T10:36:27.773Z"
   },
   {
    "duration": 13,
    "start_time": "2024-07-16T10:36:27.874Z"
   },
   {
    "duration": 11,
    "start_time": "2024-07-16T10:36:27.888Z"
   },
   {
    "duration": 6,
    "start_time": "2024-07-16T10:36:27.900Z"
   },
   {
    "duration": 16,
    "start_time": "2024-07-16T10:36:27.908Z"
   },
   {
    "duration": 5,
    "start_time": "2024-07-16T10:36:27.926Z"
   },
   {
    "duration": 9,
    "start_time": "2024-07-16T10:36:27.932Z"
   },
   {
    "duration": 10,
    "start_time": "2024-07-16T10:36:27.943Z"
   },
   {
    "duration": 5,
    "start_time": "2024-07-16T10:36:27.982Z"
   },
   {
    "duration": 8,
    "start_time": "2024-07-16T10:36:27.989Z"
   },
   {
    "duration": 4,
    "start_time": "2024-07-16T10:36:27.999Z"
   },
   {
    "duration": 8,
    "start_time": "2024-07-16T10:36:28.004Z"
   },
   {
    "duration": 3,
    "start_time": "2024-07-16T10:36:28.014Z"
   },
   {
    "duration": 5,
    "start_time": "2024-07-16T10:36:28.018Z"
   },
   {
    "duration": 7,
    "start_time": "2024-07-16T10:36:28.024Z"
   },
   {
    "duration": 4,
    "start_time": "2024-07-16T10:36:28.033Z"
   },
   {
    "duration": 4,
    "start_time": "2024-07-16T10:36:28.038Z"
   },
   {
    "duration": 9,
    "start_time": "2024-07-16T10:36:28.082Z"
   },
   {
    "duration": 184,
    "start_time": "2024-07-16T10:36:28.092Z"
   },
   {
    "duration": 6,
    "start_time": "2024-07-16T10:36:28.282Z"
   },
   {
    "duration": 182,
    "start_time": "2024-07-16T10:36:28.289Z"
   },
   {
    "duration": 130,
    "start_time": "2024-07-16T10:36:28.473Z"
   },
   {
    "duration": 183,
    "start_time": "2024-07-16T10:36:28.605Z"
   },
   {
    "duration": 8,
    "start_time": "2024-07-16T10:36:28.790Z"
   },
   {
    "duration": 362,
    "start_time": "2024-07-16T10:36:28.800Z"
   },
   {
    "duration": 17,
    "start_time": "2024-07-16T10:36:29.166Z"
   },
   {
    "duration": 352,
    "start_time": "2024-07-16T10:36:29.184Z"
   },
   {
    "duration": 9,
    "start_time": "2024-07-16T10:36:29.538Z"
   },
   {
    "duration": 34,
    "start_time": "2024-07-16T10:36:29.549Z"
   },
   {
    "duration": 13,
    "start_time": "2024-07-16T10:36:29.585Z"
   },
   {
    "duration": 4,
    "start_time": "2024-07-16T10:36:29.600Z"
   },
   {
    "duration": 10,
    "start_time": "2024-07-16T10:36:29.605Z"
   },
   {
    "duration": 3,
    "start_time": "2024-07-16T10:36:29.617Z"
   },
   {
    "duration": 8,
    "start_time": "2024-07-16T10:36:29.622Z"
   },
   {
    "duration": 17,
    "start_time": "2024-07-16T10:36:29.631Z"
   },
   {
    "duration": 843,
    "start_time": "2024-07-16T10:36:29.650Z"
   },
   {
    "duration": 9,
    "start_time": "2024-07-16T10:36:30.494Z"
   },
   {
    "duration": 44,
    "start_time": "2024-07-16T10:36:30.505Z"
   },
   {
    "duration": 334,
    "start_time": "2024-07-16T10:36:30.551Z"
   },
   {
    "duration": 9,
    "start_time": "2024-07-16T10:36:30.887Z"
   },
   {
    "duration": 43,
    "start_time": "2024-07-16T10:36:30.897Z"
   },
   {
    "duration": 73,
    "start_time": "2024-07-16T10:36:30.942Z"
   },
   {
    "duration": 27,
    "start_time": "2024-07-16T10:36:31.017Z"
   },
   {
    "duration": 62,
    "start_time": "2024-07-16T10:36:31.046Z"
   },
   {
    "duration": 54,
    "start_time": "2024-07-16T10:36:31.110Z"
   },
   {
    "duration": 87,
    "start_time": "2024-07-16T10:36:31.165Z"
   },
   {
    "duration": 24,
    "start_time": "2024-07-16T10:36:31.254Z"
   },
   {
    "duration": 40,
    "start_time": "2024-07-16T10:36:31.279Z"
   },
   {
    "duration": 39,
    "start_time": "2024-07-16T10:36:31.320Z"
   },
   {
    "duration": 26,
    "start_time": "2024-07-16T10:36:31.361Z"
   },
   {
    "duration": 46,
    "start_time": "2024-07-17T16:52:19.518Z"
   },
   {
    "duration": 1006,
    "start_time": "2024-07-17T16:52:24.821Z"
   },
   {
    "duration": 348,
    "start_time": "2024-07-17T16:52:25.829Z"
   },
   {
    "duration": 12,
    "start_time": "2024-07-17T16:52:26.178Z"
   },
   {
    "duration": 12,
    "start_time": "2024-07-17T16:52:26.191Z"
   },
   {
    "duration": 7,
    "start_time": "2024-07-17T16:52:26.204Z"
   },
   {
    "duration": 13,
    "start_time": "2024-07-17T16:52:26.212Z"
   },
   {
    "duration": 6,
    "start_time": "2024-07-17T16:52:26.226Z"
   },
   {
    "duration": 12,
    "start_time": "2024-07-17T16:52:26.233Z"
   },
   {
    "duration": 7,
    "start_time": "2024-07-17T16:52:26.247Z"
   },
   {
    "duration": 32,
    "start_time": "2024-07-17T16:52:26.256Z"
   },
   {
    "duration": 11,
    "start_time": "2024-07-17T16:52:26.290Z"
   },
   {
    "duration": 4,
    "start_time": "2024-07-17T16:52:26.303Z"
   },
   {
    "duration": 20,
    "start_time": "2024-07-17T16:52:26.309Z"
   },
   {
    "duration": 15,
    "start_time": "2024-07-17T16:52:26.330Z"
   },
   {
    "duration": 13,
    "start_time": "2024-07-17T16:52:26.346Z"
   },
   {
    "duration": 6,
    "start_time": "2024-07-17T16:52:26.360Z"
   },
   {
    "duration": 12,
    "start_time": "2024-07-17T16:52:26.368Z"
   },
   {
    "duration": 8,
    "start_time": "2024-07-17T16:52:26.381Z"
   },
   {
    "duration": 4,
    "start_time": "2024-07-17T16:52:26.390Z"
   },
   {
    "duration": 4,
    "start_time": "2024-07-17T16:52:26.396Z"
   },
   {
    "duration": 11,
    "start_time": "2024-07-17T16:52:26.401Z"
   },
   {
    "duration": 194,
    "start_time": "2024-07-17T16:52:26.413Z"
   },
   {
    "duration": 5,
    "start_time": "2024-07-17T16:52:26.609Z"
   },
   {
    "duration": 238,
    "start_time": "2024-07-17T16:52:26.615Z"
   },
   {
    "duration": 0,
    "start_time": "2024-07-17T16:52:26.855Z"
   },
   {
    "duration": 0,
    "start_time": "2024-07-17T16:52:26.856Z"
   },
   {
    "duration": 0,
    "start_time": "2024-07-17T16:52:26.857Z"
   },
   {
    "duration": 0,
    "start_time": "2024-07-17T16:52:26.858Z"
   },
   {
    "duration": 0,
    "start_time": "2024-07-17T16:52:26.859Z"
   },
   {
    "duration": 0,
    "start_time": "2024-07-17T16:52:26.860Z"
   },
   {
    "duration": 0,
    "start_time": "2024-07-17T16:52:26.861Z"
   },
   {
    "duration": 0,
    "start_time": "2024-07-17T16:52:26.863Z"
   },
   {
    "duration": 0,
    "start_time": "2024-07-17T16:52:26.864Z"
   },
   {
    "duration": 0,
    "start_time": "2024-07-17T16:52:26.865Z"
   },
   {
    "duration": 0,
    "start_time": "2024-07-17T16:52:26.882Z"
   },
   {
    "duration": 0,
    "start_time": "2024-07-17T16:52:26.883Z"
   },
   {
    "duration": 0,
    "start_time": "2024-07-17T16:52:26.884Z"
   },
   {
    "duration": 0,
    "start_time": "2024-07-17T16:52:26.885Z"
   },
   {
    "duration": 0,
    "start_time": "2024-07-17T16:52:26.886Z"
   },
   {
    "duration": 0,
    "start_time": "2024-07-17T16:52:26.887Z"
   },
   {
    "duration": 0,
    "start_time": "2024-07-17T16:52:26.888Z"
   },
   {
    "duration": 0,
    "start_time": "2024-07-17T16:52:26.889Z"
   },
   {
    "duration": 0,
    "start_time": "2024-07-17T16:52:26.889Z"
   },
   {
    "duration": 0,
    "start_time": "2024-07-17T16:52:26.890Z"
   },
   {
    "duration": 0,
    "start_time": "2024-07-17T16:52:26.891Z"
   },
   {
    "duration": 0,
    "start_time": "2024-07-17T16:52:26.892Z"
   },
   {
    "duration": 0,
    "start_time": "2024-07-17T16:52:26.892Z"
   },
   {
    "duration": 0,
    "start_time": "2024-07-17T16:52:26.893Z"
   },
   {
    "duration": 0,
    "start_time": "2024-07-17T16:52:26.894Z"
   },
   {
    "duration": 0,
    "start_time": "2024-07-17T16:52:26.895Z"
   },
   {
    "duration": 0,
    "start_time": "2024-07-17T16:52:26.896Z"
   },
   {
    "duration": 0,
    "start_time": "2024-07-17T16:52:26.897Z"
   },
   {
    "duration": 0,
    "start_time": "2024-07-17T16:52:26.898Z"
   },
   {
    "duration": 3,
    "start_time": "2024-07-17T18:13:47.017Z"
   },
   {
    "duration": 73,
    "start_time": "2024-07-17T18:13:47.022Z"
   },
   {
    "duration": 8,
    "start_time": "2024-07-17T18:13:47.096Z"
   },
   {
    "duration": 12,
    "start_time": "2024-07-17T18:13:47.106Z"
   },
   {
    "duration": 8,
    "start_time": "2024-07-17T18:13:47.119Z"
   },
   {
    "duration": 10,
    "start_time": "2024-07-17T18:13:47.128Z"
   },
   {
    "duration": 6,
    "start_time": "2024-07-17T18:13:47.140Z"
   },
   {
    "duration": 12,
    "start_time": "2024-07-17T18:13:47.147Z"
   },
   {
    "duration": 7,
    "start_time": "2024-07-17T18:13:47.182Z"
   },
   {
    "duration": 9,
    "start_time": "2024-07-17T18:13:47.191Z"
   },
   {
    "duration": 19,
    "start_time": "2024-07-17T18:13:47.201Z"
   },
   {
    "duration": 6,
    "start_time": "2024-07-17T18:13:47.221Z"
   },
   {
    "duration": 6,
    "start_time": "2024-07-17T18:13:47.228Z"
   },
   {
    "duration": 5,
    "start_time": "2024-07-17T18:13:47.235Z"
   },
   {
    "duration": 12,
    "start_time": "2024-07-17T18:13:47.241Z"
   },
   {
    "duration": 32,
    "start_time": "2024-07-17T18:13:47.255Z"
   },
   {
    "duration": 6,
    "start_time": "2024-07-17T18:13:47.288Z"
   },
   {
    "duration": 7,
    "start_time": "2024-07-17T18:13:47.296Z"
   },
   {
    "duration": 5,
    "start_time": "2024-07-17T18:13:47.304Z"
   },
   {
    "duration": 4,
    "start_time": "2024-07-17T18:13:47.310Z"
   },
   {
    "duration": 7,
    "start_time": "2024-07-17T18:13:47.316Z"
   },
   {
    "duration": 207,
    "start_time": "2024-07-17T18:13:47.325Z"
   },
   {
    "duration": 6,
    "start_time": "2024-07-17T18:13:47.533Z"
   },
   {
    "duration": 181,
    "start_time": "2024-07-17T18:13:47.542Z"
   },
   {
    "duration": 0,
    "start_time": "2024-07-17T18:13:47.725Z"
   },
   {
    "duration": 0,
    "start_time": "2024-07-17T18:13:47.726Z"
   },
   {
    "duration": 0,
    "start_time": "2024-07-17T18:13:47.727Z"
   },
   {
    "duration": 0,
    "start_time": "2024-07-17T18:13:47.727Z"
   },
   {
    "duration": 0,
    "start_time": "2024-07-17T18:13:47.728Z"
   },
   {
    "duration": 0,
    "start_time": "2024-07-17T18:13:47.729Z"
   },
   {
    "duration": 0,
    "start_time": "2024-07-17T18:13:47.730Z"
   },
   {
    "duration": 0,
    "start_time": "2024-07-17T18:13:47.731Z"
   },
   {
    "duration": 0,
    "start_time": "2024-07-17T18:13:47.732Z"
   },
   {
    "duration": 1,
    "start_time": "2024-07-17T18:13:47.732Z"
   },
   {
    "duration": 0,
    "start_time": "2024-07-17T18:13:47.734Z"
   },
   {
    "duration": 0,
    "start_time": "2024-07-17T18:13:47.734Z"
   },
   {
    "duration": 0,
    "start_time": "2024-07-17T18:13:47.735Z"
   },
   {
    "duration": 0,
    "start_time": "2024-07-17T18:13:47.737Z"
   },
   {
    "duration": 0,
    "start_time": "2024-07-17T18:13:47.737Z"
   },
   {
    "duration": 0,
    "start_time": "2024-07-17T18:13:47.738Z"
   },
   {
    "duration": 0,
    "start_time": "2024-07-17T18:13:47.739Z"
   },
   {
    "duration": 0,
    "start_time": "2024-07-17T18:13:47.740Z"
   },
   {
    "duration": 0,
    "start_time": "2024-07-17T18:13:47.741Z"
   },
   {
    "duration": 0,
    "start_time": "2024-07-17T18:13:47.742Z"
   },
   {
    "duration": 1,
    "start_time": "2024-07-17T18:13:47.742Z"
   },
   {
    "duration": 0,
    "start_time": "2024-07-17T18:13:47.743Z"
   },
   {
    "duration": 0,
    "start_time": "2024-07-17T18:13:47.744Z"
   },
   {
    "duration": 0,
    "start_time": "2024-07-17T18:13:47.745Z"
   },
   {
    "duration": 0,
    "start_time": "2024-07-17T18:13:47.782Z"
   },
   {
    "duration": 0,
    "start_time": "2024-07-17T18:13:47.783Z"
   },
   {
    "duration": 0,
    "start_time": "2024-07-17T18:13:47.784Z"
   },
   {
    "duration": 0,
    "start_time": "2024-07-17T18:13:47.785Z"
   },
   {
    "duration": 0,
    "start_time": "2024-07-17T18:13:47.785Z"
   },
   {
    "duration": 8,
    "start_time": "2024-07-17T18:14:10.031Z"
   },
   {
    "duration": 3,
    "start_time": "2024-07-17T18:14:21.425Z"
   },
   {
    "duration": 78,
    "start_time": "2024-07-17T18:14:21.429Z"
   },
   {
    "duration": 7,
    "start_time": "2024-07-17T18:14:21.509Z"
   },
   {
    "duration": 11,
    "start_time": "2024-07-17T18:14:21.518Z"
   },
   {
    "duration": 14,
    "start_time": "2024-07-17T18:14:21.531Z"
   },
   {
    "duration": 20,
    "start_time": "2024-07-17T18:14:21.546Z"
   },
   {
    "duration": 6,
    "start_time": "2024-07-17T18:14:21.567Z"
   },
   {
    "duration": 9,
    "start_time": "2024-07-17T18:14:21.581Z"
   },
   {
    "duration": 6,
    "start_time": "2024-07-17T18:14:21.592Z"
   },
   {
    "duration": 15,
    "start_time": "2024-07-17T18:14:21.600Z"
   },
   {
    "duration": 10,
    "start_time": "2024-07-17T18:14:21.618Z"
   },
   {
    "duration": 18,
    "start_time": "2024-07-17T18:14:21.629Z"
   },
   {
    "duration": 10,
    "start_time": "2024-07-17T18:14:21.648Z"
   },
   {
    "duration": 4,
    "start_time": "2024-07-17T18:14:21.660Z"
   },
   {
    "duration": 22,
    "start_time": "2024-07-17T18:14:21.666Z"
   },
   {
    "duration": 3,
    "start_time": "2024-07-17T18:14:21.690Z"
   },
   {
    "duration": 7,
    "start_time": "2024-07-17T18:14:21.694Z"
   },
   {
    "duration": 8,
    "start_time": "2024-07-17T18:14:21.702Z"
   },
   {
    "duration": 5,
    "start_time": "2024-07-17T18:14:21.711Z"
   },
   {
    "duration": 16,
    "start_time": "2024-07-17T18:14:21.717Z"
   },
   {
    "duration": 23,
    "start_time": "2024-07-17T18:14:21.734Z"
   },
   {
    "duration": 187,
    "start_time": "2024-07-17T18:14:21.759Z"
   },
   {
    "duration": 5,
    "start_time": "2024-07-17T18:14:21.948Z"
   },
   {
    "duration": 174,
    "start_time": "2024-07-17T18:14:21.955Z"
   },
   {
    "duration": 0,
    "start_time": "2024-07-17T18:14:22.131Z"
   },
   {
    "duration": 0,
    "start_time": "2024-07-17T18:14:22.132Z"
   },
   {
    "duration": 0,
    "start_time": "2024-07-17T18:14:22.133Z"
   },
   {
    "duration": 0,
    "start_time": "2024-07-17T18:14:22.134Z"
   },
   {
    "duration": 0,
    "start_time": "2024-07-17T18:14:22.135Z"
   },
   {
    "duration": 0,
    "start_time": "2024-07-17T18:14:22.136Z"
   },
   {
    "duration": 0,
    "start_time": "2024-07-17T18:14:22.137Z"
   },
   {
    "duration": 0,
    "start_time": "2024-07-17T18:14:22.138Z"
   },
   {
    "duration": 0,
    "start_time": "2024-07-17T18:14:22.139Z"
   },
   {
    "duration": 0,
    "start_time": "2024-07-17T18:14:22.140Z"
   },
   {
    "duration": 0,
    "start_time": "2024-07-17T18:14:22.141Z"
   },
   {
    "duration": 0,
    "start_time": "2024-07-17T18:14:22.141Z"
   },
   {
    "duration": 0,
    "start_time": "2024-07-17T18:14:22.142Z"
   },
   {
    "duration": 0,
    "start_time": "2024-07-17T18:14:22.143Z"
   },
   {
    "duration": 0,
    "start_time": "2024-07-17T18:14:22.144Z"
   },
   {
    "duration": 0,
    "start_time": "2024-07-17T18:14:22.145Z"
   },
   {
    "duration": 0,
    "start_time": "2024-07-17T18:14:22.145Z"
   },
   {
    "duration": 0,
    "start_time": "2024-07-17T18:14:22.146Z"
   },
   {
    "duration": 0,
    "start_time": "2024-07-17T18:14:22.147Z"
   },
   {
    "duration": 0,
    "start_time": "2024-07-17T18:14:22.148Z"
   },
   {
    "duration": 0,
    "start_time": "2024-07-17T18:14:22.149Z"
   },
   {
    "duration": 0,
    "start_time": "2024-07-17T18:14:22.150Z"
   },
   {
    "duration": 0,
    "start_time": "2024-07-17T18:14:22.182Z"
   },
   {
    "duration": 0,
    "start_time": "2024-07-17T18:14:22.183Z"
   },
   {
    "duration": 0,
    "start_time": "2024-07-17T18:14:22.183Z"
   },
   {
    "duration": 0,
    "start_time": "2024-07-17T18:14:22.184Z"
   },
   {
    "duration": 0,
    "start_time": "2024-07-17T18:14:22.185Z"
   },
   {
    "duration": 0,
    "start_time": "2024-07-17T18:14:22.186Z"
   },
   {
    "duration": 0,
    "start_time": "2024-07-17T18:14:22.187Z"
   },
   {
    "duration": 161,
    "start_time": "2024-07-17T18:19:02.811Z"
   },
   {
    "duration": 3,
    "start_time": "2024-07-17T18:19:05.885Z"
   },
   {
    "duration": 137,
    "start_time": "2024-07-17T18:19:05.889Z"
   },
   {
    "duration": 7,
    "start_time": "2024-07-17T18:19:06.028Z"
   },
   {
    "duration": 18,
    "start_time": "2024-07-17T18:19:06.036Z"
   },
   {
    "duration": 31,
    "start_time": "2024-07-17T18:19:06.055Z"
   },
   {
    "duration": 14,
    "start_time": "2024-07-17T18:19:06.087Z"
   },
   {
    "duration": 7,
    "start_time": "2024-07-17T18:19:06.102Z"
   },
   {
    "duration": 12,
    "start_time": "2024-07-17T18:19:06.110Z"
   },
   {
    "duration": 7,
    "start_time": "2024-07-17T18:19:06.123Z"
   },
   {
    "duration": 9,
    "start_time": "2024-07-17T18:19:06.131Z"
   },
   {
    "duration": 10,
    "start_time": "2024-07-17T18:19:06.142Z"
   },
   {
    "duration": 5,
    "start_time": "2024-07-17T18:19:06.153Z"
   },
   {
    "duration": 5,
    "start_time": "2024-07-17T18:19:06.182Z"
   },
   {
    "duration": 26,
    "start_time": "2024-07-17T18:19:06.188Z"
   },
   {
    "duration": 21,
    "start_time": "2024-07-17T18:19:06.216Z"
   },
   {
    "duration": 8,
    "start_time": "2024-07-17T18:19:06.238Z"
   },
   {
    "duration": 6,
    "start_time": "2024-07-17T18:19:06.247Z"
   },
   {
    "duration": 10,
    "start_time": "2024-07-17T18:19:06.255Z"
   },
   {
    "duration": 5,
    "start_time": "2024-07-17T18:19:06.266Z"
   },
   {
    "duration": 4,
    "start_time": "2024-07-17T18:19:06.272Z"
   },
   {
    "duration": 10,
    "start_time": "2024-07-17T18:19:06.281Z"
   },
   {
    "duration": 197,
    "start_time": "2024-07-17T18:19:06.292Z"
   },
   {
    "duration": 7,
    "start_time": "2024-07-17T18:19:06.490Z"
   },
   {
    "duration": 171,
    "start_time": "2024-07-17T18:19:06.498Z"
   },
   {
    "duration": 213,
    "start_time": "2024-07-17T18:19:06.671Z"
   },
   {
    "duration": 174,
    "start_time": "2024-07-17T18:19:06.885Z"
   },
   {
    "duration": 7,
    "start_time": "2024-07-17T18:19:07.060Z"
   },
   {
    "duration": 361,
    "start_time": "2024-07-17T18:19:07.069Z"
   },
   {
    "duration": 7,
    "start_time": "2024-07-17T18:19:07.433Z"
   },
   {
    "duration": 354,
    "start_time": "2024-07-17T18:19:07.442Z"
   },
   {
    "duration": 7,
    "start_time": "2024-07-17T18:19:07.798Z"
   },
   {
    "duration": 23,
    "start_time": "2024-07-17T18:19:07.807Z"
   },
   {
    "duration": 12,
    "start_time": "2024-07-17T18:19:07.832Z"
   },
   {
    "duration": 4,
    "start_time": "2024-07-17T18:19:07.845Z"
   },
   {
    "duration": 36,
    "start_time": "2024-07-17T18:19:07.850Z"
   },
   {
    "duration": 3,
    "start_time": "2024-07-17T18:19:07.887Z"
   },
   {
    "duration": 7,
    "start_time": "2024-07-17T18:19:07.892Z"
   },
   {
    "duration": 7,
    "start_time": "2024-07-17T18:19:07.901Z"
   },
   {
    "duration": 792,
    "start_time": "2024-07-17T18:19:07.909Z"
   },
   {
    "duration": 7,
    "start_time": "2024-07-17T18:19:08.703Z"
   },
   {
    "duration": 7,
    "start_time": "2024-07-17T18:19:08.712Z"
   },
   {
    "duration": 302,
    "start_time": "2024-07-17T18:19:08.720Z"
   },
   {
    "duration": 7,
    "start_time": "2024-07-17T18:19:09.024Z"
   },
   {
    "duration": 7,
    "start_time": "2024-07-17T18:19:09.032Z"
   },
   {
    "duration": 53,
    "start_time": "2024-07-17T18:19:09.040Z"
   },
   {
    "duration": 9,
    "start_time": "2024-07-17T18:19:09.095Z"
   },
   {
    "duration": 9,
    "start_time": "2024-07-17T18:19:09.105Z"
   },
   {
    "duration": 5,
    "start_time": "2024-07-17T18:19:09.116Z"
   },
   {
    "duration": 11,
    "start_time": "2024-07-17T18:19:09.123Z"
   },
   {
    "duration": 4,
    "start_time": "2024-07-17T18:19:09.136Z"
   },
   {
    "duration": 5,
    "start_time": "2024-07-17T18:19:09.141Z"
   },
   {
    "duration": 35,
    "start_time": "2024-07-17T18:19:09.148Z"
   },
   {
    "duration": 8,
    "start_time": "2024-07-17T18:19:09.185Z"
   },
   {
    "duration": 54,
    "start_time": "2024-10-07T06:40:45.341Z"
   },
   {
    "duration": 1254,
    "start_time": "2024-10-07T06:40:48.421Z"
   },
   {
    "duration": 292,
    "start_time": "2024-10-07T06:40:49.677Z"
   },
   {
    "duration": 14,
    "start_time": "2024-10-07T06:40:49.971Z"
   },
   {
    "duration": 12,
    "start_time": "2024-10-07T06:40:49.987Z"
   },
   {
    "duration": 37,
    "start_time": "2024-10-07T06:40:50.000Z"
   },
   {
    "duration": 28,
    "start_time": "2024-10-07T06:40:50.039Z"
   },
   {
    "duration": 18,
    "start_time": "2024-10-07T06:40:50.069Z"
   },
   {
    "duration": 40,
    "start_time": "2024-10-07T06:40:50.089Z"
   },
   {
    "duration": 22,
    "start_time": "2024-10-07T06:40:50.131Z"
   },
   {
    "duration": 35,
    "start_time": "2024-10-07T06:40:50.156Z"
   },
   {
    "duration": 12,
    "start_time": "2024-10-07T06:40:50.192Z"
   },
   {
    "duration": 6,
    "start_time": "2024-10-07T06:40:50.206Z"
   },
   {
    "duration": 22,
    "start_time": "2024-10-07T06:40:50.214Z"
   },
   {
    "duration": 7,
    "start_time": "2024-10-07T06:40:50.238Z"
   },
   {
    "duration": 31,
    "start_time": "2024-10-07T06:40:50.246Z"
   },
   {
    "duration": 5,
    "start_time": "2024-10-07T06:40:50.279Z"
   },
   {
    "duration": 7,
    "start_time": "2024-10-07T06:40:50.286Z"
   },
   {
    "duration": 12,
    "start_time": "2024-10-07T06:40:50.295Z"
   },
   {
    "duration": 14,
    "start_time": "2024-10-07T06:40:50.309Z"
   },
   {
    "duration": 10,
    "start_time": "2024-10-07T06:40:50.326Z"
   },
   {
    "duration": 12,
    "start_time": "2024-10-07T06:40:50.338Z"
   },
   {
    "duration": 242,
    "start_time": "2024-10-07T06:40:50.351Z"
   },
   {
    "duration": 7,
    "start_time": "2024-10-07T06:40:50.595Z"
   },
   {
    "duration": 280,
    "start_time": "2024-10-07T06:40:50.604Z"
   },
   {
    "duration": 172,
    "start_time": "2024-10-07T06:40:50.885Z"
   },
   {
    "duration": 215,
    "start_time": "2024-10-07T06:40:51.058Z"
   },
   {
    "duration": 7,
    "start_time": "2024-10-07T06:40:51.275Z"
   },
   {
    "duration": 450,
    "start_time": "2024-10-07T06:40:51.286Z"
   },
   {
    "duration": 8,
    "start_time": "2024-10-07T06:40:51.738Z"
   },
   {
    "duration": 613,
    "start_time": "2024-10-07T06:40:51.748Z"
   },
   {
    "duration": 10,
    "start_time": "2024-10-07T06:40:52.363Z"
   },
   {
    "duration": 42,
    "start_time": "2024-10-07T06:40:52.374Z"
   },
   {
    "duration": 21,
    "start_time": "2024-10-07T06:40:52.418Z"
   },
   {
    "duration": 3,
    "start_time": "2024-10-07T06:40:52.441Z"
   },
   {
    "duration": 23,
    "start_time": "2024-10-07T06:40:52.446Z"
   },
   {
    "duration": 9,
    "start_time": "2024-10-07T06:40:52.470Z"
   },
   {
    "duration": 23,
    "start_time": "2024-10-07T06:40:52.480Z"
   },
   {
    "duration": 9,
    "start_time": "2024-10-07T06:40:52.505Z"
   },
   {
    "duration": 853,
    "start_time": "2024-10-07T06:40:52.523Z"
   },
   {
    "duration": 10,
    "start_time": "2024-10-07T06:40:53.378Z"
   },
   {
    "duration": 62,
    "start_time": "2024-10-07T06:40:53.389Z"
   },
   {
    "duration": 388,
    "start_time": "2024-10-07T06:40:53.453Z"
   },
   {
    "duration": 11,
    "start_time": "2024-10-07T06:40:53.843Z"
   },
   {
    "duration": 10,
    "start_time": "2024-10-07T06:40:53.856Z"
   },
   {
    "duration": 99,
    "start_time": "2024-10-07T06:40:53.868Z"
   },
   {
    "duration": 12,
    "start_time": "2024-10-07T06:40:53.969Z"
   },
   {
    "duration": 19,
    "start_time": "2024-10-07T06:40:53.983Z"
   },
   {
    "duration": 34,
    "start_time": "2024-10-07T06:40:54.004Z"
   },
   {
    "duration": 34,
    "start_time": "2024-10-07T06:40:54.040Z"
   },
   {
    "duration": 41,
    "start_time": "2024-10-07T06:40:54.076Z"
   },
   {
    "duration": 30,
    "start_time": "2024-10-07T06:40:54.119Z"
   },
   {
    "duration": 13,
    "start_time": "2024-10-07T06:40:54.151Z"
   },
   {
    "duration": 77,
    "start_time": "2024-10-07T06:40:54.166Z"
   },
   {
    "duration": 1213,
    "start_time": "2025-07-11T10:58:37.700Z"
   },
   {
    "duration": 74,
    "start_time": "2025-07-11T10:58:38.916Z"
   },
   {
    "duration": 11,
    "start_time": "2025-07-11T10:58:38.992Z"
   },
   {
    "duration": 20,
    "start_time": "2025-07-11T10:58:39.005Z"
   },
   {
    "duration": 9,
    "start_time": "2025-07-11T10:58:39.027Z"
   },
   {
    "duration": 48,
    "start_time": "2025-07-11T10:58:39.037Z"
   },
   {
    "duration": 8,
    "start_time": "2025-07-11T10:58:39.087Z"
   },
   {
    "duration": 10,
    "start_time": "2025-07-11T10:58:39.097Z"
   },
   {
    "duration": 111,
    "start_time": "2025-07-11T10:58:39.109Z"
   },
   {
    "duration": 9,
    "start_time": "2025-07-11T10:58:39.222Z"
   },
   {
    "duration": 11,
    "start_time": "2025-07-11T10:58:39.233Z"
   },
   {
    "duration": 6,
    "start_time": "2025-07-11T10:58:39.245Z"
   },
   {
    "duration": 8,
    "start_time": "2025-07-11T10:58:39.253Z"
   },
   {
    "duration": 6,
    "start_time": "2025-07-11T10:58:39.264Z"
   },
   {
    "duration": 20,
    "start_time": "2025-07-11T10:58:39.271Z"
   },
   {
    "duration": 7,
    "start_time": "2025-07-11T10:58:39.293Z"
   },
   {
    "duration": 37,
    "start_time": "2025-07-11T10:58:39.302Z"
   },
   {
    "duration": 13,
    "start_time": "2025-07-11T10:58:39.341Z"
   },
   {
    "duration": 6,
    "start_time": "2025-07-11T10:58:39.356Z"
   },
   {
    "duration": 15,
    "start_time": "2025-07-11T10:58:39.364Z"
   },
   {
    "duration": 16,
    "start_time": "2025-07-11T10:58:39.381Z"
   },
   {
    "duration": 217,
    "start_time": "2025-07-11T10:58:39.400Z"
   },
   {
    "duration": 6,
    "start_time": "2025-07-11T10:58:39.619Z"
   },
   {
    "duration": 199,
    "start_time": "2025-07-11T10:58:39.638Z"
   },
   {
    "duration": 183,
    "start_time": "2025-07-11T10:58:39.839Z"
   },
   {
    "duration": 265,
    "start_time": "2025-07-11T10:58:40.024Z"
   },
   {
    "duration": 10,
    "start_time": "2025-07-11T10:58:40.292Z"
   },
   {
    "duration": 435,
    "start_time": "2025-07-11T10:58:40.303Z"
   },
   {
    "duration": 10,
    "start_time": "2025-07-11T10:58:40.740Z"
   },
   {
    "duration": 609,
    "start_time": "2025-07-11T10:58:40.752Z"
   },
   {
    "duration": 11,
    "start_time": "2025-07-11T10:58:41.362Z"
   },
   {
    "duration": 37,
    "start_time": "2025-07-11T10:58:41.376Z"
   },
   {
    "duration": 28,
    "start_time": "2025-07-11T10:58:41.415Z"
   },
   {
    "duration": 5,
    "start_time": "2025-07-11T10:58:41.446Z"
   },
   {
    "duration": 31,
    "start_time": "2025-07-11T10:58:41.453Z"
   },
   {
    "duration": 4,
    "start_time": "2025-07-11T10:58:41.486Z"
   },
   {
    "duration": 10,
    "start_time": "2025-07-11T10:58:41.492Z"
   },
   {
    "duration": 36,
    "start_time": "2025-07-11T10:58:41.503Z"
   },
   {
    "duration": 902,
    "start_time": "2025-07-11T10:58:41.540Z"
   },
   {
    "duration": 9,
    "start_time": "2025-07-11T10:58:42.447Z"
   },
   {
    "duration": 115,
    "start_time": "2025-07-11T10:58:42.460Z"
   },
   {
    "duration": 363,
    "start_time": "2025-07-11T10:58:42.577Z"
   },
   {
    "duration": 12,
    "start_time": "2025-07-11T10:58:42.941Z"
   },
   {
    "duration": 10,
    "start_time": "2025-07-11T10:58:42.955Z"
   },
   {
    "duration": 81,
    "start_time": "2025-07-11T10:58:42.967Z"
   },
   {
    "duration": 15,
    "start_time": "2025-07-11T10:58:43.051Z"
   },
   {
    "duration": 11,
    "start_time": "2025-07-11T10:58:43.067Z"
   },
   {
    "duration": 14,
    "start_time": "2025-07-11T10:58:43.080Z"
   },
   {
    "duration": 44,
    "start_time": "2025-07-11T10:58:43.095Z"
   },
   {
    "duration": 74,
    "start_time": "2025-07-11T10:58:43.141Z"
   },
   {
    "duration": 7,
    "start_time": "2025-07-11T10:58:43.217Z"
   },
   {
    "duration": 8,
    "start_time": "2025-07-11T10:58:43.226Z"
   },
   {
    "duration": 124,
    "start_time": "2025-07-11T10:58:43.236Z"
   },
   {
    "duration": 1359,
    "start_time": "2025-07-11T11:08:38.100Z"
   },
   {
    "duration": 1364,
    "start_time": "2025-07-11T11:09:08.217Z"
   },
   {
    "duration": 87,
    "start_time": "2025-07-11T11:09:09.583Z"
   },
   {
    "duration": 14,
    "start_time": "2025-07-11T11:09:09.672Z"
   },
   {
    "duration": 13,
    "start_time": "2025-07-11T11:09:09.689Z"
   },
   {
    "duration": 13,
    "start_time": "2025-07-11T11:09:09.704Z"
   },
   {
    "duration": 24,
    "start_time": "2025-07-11T11:09:09.720Z"
   },
   {
    "duration": 10,
    "start_time": "2025-07-11T11:09:09.746Z"
   },
   {
    "duration": 20,
    "start_time": "2025-07-11T11:09:09.758Z"
   },
   {
    "duration": 20,
    "start_time": "2025-07-11T11:09:09.780Z"
   },
   {
    "duration": 33,
    "start_time": "2025-07-11T11:09:09.804Z"
   },
   {
    "duration": 12,
    "start_time": "2025-07-11T11:09:09.839Z"
   },
   {
    "duration": 6,
    "start_time": "2025-07-11T11:09:09.854Z"
   },
   {
    "duration": 11,
    "start_time": "2025-07-11T11:09:09.862Z"
   },
   {
    "duration": 7,
    "start_time": "2025-07-11T11:09:09.878Z"
   },
   {
    "duration": 17,
    "start_time": "2025-07-11T11:09:09.887Z"
   },
   {
    "duration": 33,
    "start_time": "2025-07-11T11:09:09.908Z"
   },
   {
    "duration": 13,
    "start_time": "2025-07-11T11:09:09.943Z"
   },
   {
    "duration": 13,
    "start_time": "2025-07-11T11:09:09.959Z"
   },
   {
    "duration": 7,
    "start_time": "2025-07-11T11:09:09.974Z"
   },
   {
    "duration": 7,
    "start_time": "2025-07-11T11:09:09.983Z"
   },
   {
    "duration": 55,
    "start_time": "2025-07-11T11:09:09.992Z"
   },
   {
    "duration": 262,
    "start_time": "2025-07-11T11:09:10.051Z"
   },
   {
    "duration": 8,
    "start_time": "2025-07-11T11:09:10.315Z"
   },
   {
    "duration": 219,
    "start_time": "2025-07-11T11:09:10.325Z"
   },
   {
    "duration": 198,
    "start_time": "2025-07-11T11:09:10.549Z"
   },
   {
    "duration": 231,
    "start_time": "2025-07-11T11:09:10.749Z"
   },
   {
    "duration": 9,
    "start_time": "2025-07-11T11:09:10.982Z"
   },
   {
    "duration": 456,
    "start_time": "2025-07-11T11:09:10.993Z"
   },
   {
    "duration": 12,
    "start_time": "2025-07-11T11:09:11.451Z"
   },
   {
    "duration": 537,
    "start_time": "2025-07-11T11:09:11.464Z"
   },
   {
    "duration": 9,
    "start_time": "2025-07-11T11:09:12.003Z"
   },
   {
    "duration": 41,
    "start_time": "2025-07-11T11:09:12.013Z"
   },
   {
    "duration": 15,
    "start_time": "2025-07-11T11:09:12.056Z"
   },
   {
    "duration": 13,
    "start_time": "2025-07-11T11:09:12.073Z"
   },
   {
    "duration": 26,
    "start_time": "2025-07-11T11:09:12.088Z"
   },
   {
    "duration": 5,
    "start_time": "2025-07-11T11:09:12.116Z"
   },
   {
    "duration": 25,
    "start_time": "2025-07-11T11:09:12.122Z"
   },
   {
    "duration": 19,
    "start_time": "2025-07-11T11:09:12.149Z"
   },
   {
    "duration": 892,
    "start_time": "2025-07-11T11:09:12.171Z"
   },
   {
    "duration": 11,
    "start_time": "2025-07-11T11:09:13.066Z"
   },
   {
    "duration": 13,
    "start_time": "2025-07-11T11:09:13.082Z"
   },
   {
    "duration": 404,
    "start_time": "2025-07-11T11:09:13.097Z"
   },
   {
    "duration": 9,
    "start_time": "2025-07-11T11:09:13.503Z"
   },
   {
    "duration": 26,
    "start_time": "2025-07-11T11:09:13.514Z"
   },
   {
    "duration": 42,
    "start_time": "2025-07-11T11:09:13.542Z"
   },
   {
    "duration": 13,
    "start_time": "2025-07-11T11:09:13.586Z"
   },
   {
    "duration": 15,
    "start_time": "2025-07-11T11:09:13.601Z"
   },
   {
    "duration": 7,
    "start_time": "2025-07-11T11:09:13.638Z"
   },
   {
    "duration": 22,
    "start_time": "2025-07-11T11:09:13.647Z"
   },
   {
    "duration": 6,
    "start_time": "2025-07-11T11:09:13.672Z"
   },
   {
    "duration": 7,
    "start_time": "2025-07-11T11:09:13.680Z"
   },
   {
    "duration": 10,
    "start_time": "2025-07-11T11:09:13.688Z"
   },
   {
    "duration": 1508,
    "start_time": "2025-07-11T11:09:13.700Z"
   },
   {
    "duration": 10,
    "start_time": "2025-07-11T11:11:18.673Z"
   },
   {
    "duration": 1222,
    "start_time": "2025-07-11T11:11:46.863Z"
   },
   {
    "duration": 59,
    "start_time": "2025-07-11T11:11:48.088Z"
   },
   {
    "duration": 19,
    "start_time": "2025-07-11T11:11:48.149Z"
   },
   {
    "duration": 16,
    "start_time": "2025-07-11T11:11:48.171Z"
   },
   {
    "duration": 18,
    "start_time": "2025-07-11T11:11:48.189Z"
   },
   {
    "duration": 29,
    "start_time": "2025-07-11T11:11:48.209Z"
   },
   {
    "duration": 11,
    "start_time": "2025-07-11T11:11:48.240Z"
   },
   {
    "duration": 10,
    "start_time": "2025-07-11T11:11:48.253Z"
   },
   {
    "duration": 13,
    "start_time": "2025-07-11T11:11:48.265Z"
   },
   {
    "duration": 15,
    "start_time": "2025-07-11T11:11:48.282Z"
   },
   {
    "duration": 49,
    "start_time": "2025-07-11T11:11:48.300Z"
   },
   {
    "duration": 8,
    "start_time": "2025-07-11T11:11:48.352Z"
   },
   {
    "duration": 13,
    "start_time": "2025-07-11T11:11:48.363Z"
   },
   {
    "duration": 10,
    "start_time": "2025-07-11T11:11:48.378Z"
   },
   {
    "duration": 14,
    "start_time": "2025-07-11T11:11:48.390Z"
   },
   {
    "duration": 7,
    "start_time": "2025-07-11T11:11:48.437Z"
   },
   {
    "duration": 9,
    "start_time": "2025-07-11T11:11:48.447Z"
   },
   {
    "duration": 12,
    "start_time": "2025-07-11T11:11:48.458Z"
   },
   {
    "duration": 13,
    "start_time": "2025-07-11T11:11:48.473Z"
   },
   {
    "duration": 15,
    "start_time": "2025-07-11T11:11:48.488Z"
   },
   {
    "duration": 36,
    "start_time": "2025-07-11T11:11:48.505Z"
   },
   {
    "duration": 242,
    "start_time": "2025-07-11T11:11:48.543Z"
   },
   {
    "duration": 8,
    "start_time": "2025-07-11T11:11:48.788Z"
   },
   {
    "duration": 301,
    "start_time": "2025-07-11T11:11:48.798Z"
   },
   {
    "duration": 175,
    "start_time": "2025-07-11T11:11:49.102Z"
   },
   {
    "duration": 227,
    "start_time": "2025-07-11T11:11:49.280Z"
   },
   {
    "duration": 9,
    "start_time": "2025-07-11T11:11:49.509Z"
   },
   {
    "duration": 426,
    "start_time": "2025-07-11T11:11:49.537Z"
   },
   {
    "duration": 9,
    "start_time": "2025-07-11T11:11:49.966Z"
   },
   {
    "duration": 645,
    "start_time": "2025-07-11T11:11:49.977Z"
   },
   {
    "duration": 22,
    "start_time": "2025-07-11T11:11:50.624Z"
   },
   {
    "duration": 79,
    "start_time": "2025-07-11T11:11:50.648Z"
   },
   {
    "duration": 26,
    "start_time": "2025-07-11T11:11:50.729Z"
   },
   {
    "duration": 5,
    "start_time": "2025-07-11T11:11:50.758Z"
   },
   {
    "duration": 26,
    "start_time": "2025-07-11T11:11:50.766Z"
   },
   {
    "duration": 136,
    "start_time": "2025-07-11T11:11:50.794Z"
   },
   {
    "duration": 33,
    "start_time": "2025-07-11T11:11:50.931Z"
   },
   {
    "duration": 41,
    "start_time": "2025-07-11T11:11:50.966Z"
   },
   {
    "duration": 957,
    "start_time": "2025-07-11T11:11:51.009Z"
   },
   {
    "duration": 10,
    "start_time": "2025-07-11T11:11:51.968Z"
   },
   {
    "duration": 89,
    "start_time": "2025-07-11T11:11:51.980Z"
   },
   {
    "duration": 361,
    "start_time": "2025-07-11T11:11:52.071Z"
   },
   {
    "duration": 9,
    "start_time": "2025-07-11T11:11:52.438Z"
   },
   {
    "duration": 11,
    "start_time": "2025-07-11T11:11:52.449Z"
   },
   {
    "duration": 81,
    "start_time": "2025-07-11T11:11:52.462Z"
   },
   {
    "duration": 14,
    "start_time": "2025-07-11T11:11:52.545Z"
   },
   {
    "duration": 33,
    "start_time": "2025-07-11T11:11:52.561Z"
   },
   {
    "duration": 118,
    "start_time": "2025-07-11T11:11:52.596Z"
   },
   {
    "duration": 16,
    "start_time": "2025-07-11T11:11:52.716Z"
   },
   {
    "duration": 9,
    "start_time": "2025-07-11T11:11:52.733Z"
   },
   {
    "duration": 9,
    "start_time": "2025-07-11T11:11:52.744Z"
   },
   {
    "duration": 8,
    "start_time": "2025-07-11T11:11:52.755Z"
   },
   {
    "duration": 10,
    "start_time": "2025-07-11T11:11:52.765Z"
   }
  ],
  "kernelspec": {
   "display_name": "Python 3 (ipykernel)",
   "language": "python",
   "name": "python3"
  },
  "language_info": {
   "codemirror_mode": {
    "name": "ipython",
    "version": 3
   },
   "file_extension": ".py",
   "mimetype": "text/x-python",
   "name": "python",
   "nbconvert_exporter": "python",
   "pygments_lexer": "ipython3",
   "version": "3.12.7"
  },
  "toc": {
   "base_numbering": 1,
   "nav_menu": {},
   "number_sections": true,
   "sideBar": true,
   "skip_h1_title": true,
   "title_cell": "Table of Contents",
   "title_sidebar": "Contents",
   "toc_cell": false,
   "toc_position": {},
   "toc_section_display": true,
   "toc_window_display": false
  }
 },
 "nbformat": 4,
 "nbformat_minor": 5
}
