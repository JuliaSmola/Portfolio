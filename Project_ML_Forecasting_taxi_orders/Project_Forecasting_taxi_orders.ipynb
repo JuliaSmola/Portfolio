{
 "cells": [
  {
   "cell_type": "markdown",
   "metadata": {
    "toc": true
   },
   "source": [
    "<h1>Содержание<span class=\"tocSkip\"></span></h1>\n",
    "<div class=\"toc\"><ul class=\"toc-item\"><li><span><a href=\"#Подготовка\" data-toc-modified-id=\"Подготовка-1\"><span class=\"toc-item-num\">1&nbsp;&nbsp;</span>Подготовка</a></span><ul class=\"toc-item\"><li><span><a href=\"#Импорт-библиотек\" data-toc-modified-id=\"Импорт-библиотек-1.1\"><span class=\"toc-item-num\">1.1&nbsp;&nbsp;</span>Импорт библиотек</a></span></li><li><span><a href=\"#Загрузка-данных\" data-toc-modified-id=\"Загрузка-данных-1.2\"><span class=\"toc-item-num\">1.2&nbsp;&nbsp;</span>Загрузка данных</a></span></li></ul></li><li><span><a href=\"#Анализ\" data-toc-modified-id=\"Анализ-2\"><span class=\"toc-item-num\">2&nbsp;&nbsp;</span>Анализ</a></span><ul class=\"toc-item\"><li><span><a href=\"#Общая-информация-о-данных\" data-toc-modified-id=\"Общая-информация-о-данных-2.1\"><span class=\"toc-item-num\">2.1&nbsp;&nbsp;</span>Общая информация о данных</a></span></li><li><span><a href=\"#Ресемплирование\" data-toc-modified-id=\"Ресемплирование-2.2\"><span class=\"toc-item-num\">2.2&nbsp;&nbsp;</span>Ресемплирование</a></span></li><li><span><a href=\"#Скользящее-среднее\" data-toc-modified-id=\"Скользящее-среднее-2.3\"><span class=\"toc-item-num\">2.3&nbsp;&nbsp;</span>Скользящее среднее</a></span></li><li><span><a href=\"#Тренд-и-сезонная-компонента\" data-toc-modified-id=\"Тренд-и-сезонная-компонента-2.4\"><span class=\"toc-item-num\">2.4&nbsp;&nbsp;</span>Тренд и сезонная компонента</a></span></li><li><span><a href=\"#Стационарность-ряда\" data-toc-modified-id=\"Стационарность-ряда-2.5\"><span class=\"toc-item-num\">2.5&nbsp;&nbsp;</span>Стационарность ряда</a></span></li></ul></li><li><span><a href=\"#Обучение,-подбор-гиперпараметров\" data-toc-modified-id=\"Обучение,-подбор-гиперпараметров-3\"><span class=\"toc-item-num\">3&nbsp;&nbsp;</span>Обучение, подбор гиперпараметров</a></span><ul class=\"toc-item\"><li><span><a href=\"#Модель-LinearRegression\" data-toc-modified-id=\"Модель-LinearRegression-3.1\"><span class=\"toc-item-num\">3.1&nbsp;&nbsp;</span>Модель LinearRegression</a></span></li><li><span><a href=\"#Модель-DecisionTreeRegressor\" data-toc-modified-id=\"Модель-DecisionTreeRegressor-3.2\"><span class=\"toc-item-num\">3.2&nbsp;&nbsp;</span>Модель DecisionTreeRegressor</a></span></li><li><span><a href=\"#Модель-CatBoostRegressor\" data-toc-modified-id=\"Модель-CatBoostRegressor-3.3\"><span class=\"toc-item-num\">3.3&nbsp;&nbsp;</span>Модель CatBoostRegressor</a></span></li><li><span><a href=\"#Выбор-модели\" data-toc-modified-id=\"Выбор-модели-3.4\"><span class=\"toc-item-num\">3.4&nbsp;&nbsp;</span>Выбор модели</a></span></li></ul></li><li><span><a href=\"#Тестирование-лучшей-модели\" data-toc-modified-id=\"Тестирование-лучшей-модели-4\"><span class=\"toc-item-num\">4&nbsp;&nbsp;</span>Тестирование лучшей модели</a></span></li><li><span><a href=\"#Чек-лист-проверки\" data-toc-modified-id=\"Чек-лист-проверки-5\"><span class=\"toc-item-num\">5&nbsp;&nbsp;</span>Чек-лист проверки</a></span></li></ul></div>"
   ]
  },
  {
   "cell_type": "markdown",
   "metadata": {},
   "source": [
    "#  Прогнозирование заказов такси"
   ]
  },
  {
   "cell_type": "markdown",
   "metadata": {},
   "source": [
    "Компания «Чётенькое такси» собрала исторические данные о заказах такси в аэропортах. Чтобы привлекать больше водителей в период пиковой нагрузки, нужно спрогнозировать количество заказов такси на следующий час. Постройте модель для такого предсказания.\n",
    "\n",
    "Значение метрики *RMSE* на тестовой выборке должно быть не больше 48.\n",
    "\n",
    "Вам нужно:\n",
    "\n",
    "1. Загрузить данные и выполнить их ресемплирование по одному часу.\n",
    "2. Проанализировать данные.\n",
    "3. Обучить разные модели с различными гиперпараметрами. Сделать тестовую выборку размером 10% от исходных данных.\n",
    "4. Проверить данные на тестовой выборке и сделать выводы.\n",
    "\n",
    "\n",
    "Данные лежат в файле `taxi.csv`. Количество заказов находится в столбце `num_orders` (от англ. *number of orders*, «число заказов»)."
   ]
  },
  {
   "cell_type": "markdown",
   "metadata": {},
   "source": [
    "## Подготовка"
   ]
  },
  {
   "cell_type": "markdown",
   "metadata": {},
   "source": [
    "### Импорт библиотек"
   ]
  },
  {
   "cell_type": "code",
   "execution_count": 1,
   "metadata": {},
   "outputs": [],
   "source": [
    "import pandas as pd\n",
    "import numpy as np\n",
    "import matplotlib.pyplot as plt\n",
    "import warnings\n",
    "\n",
    "from statsmodels.tsa.seasonal import seasonal_decompose\n",
    "from sklearn.model_selection import train_test_split\n",
    "from sklearn.linear_model import LinearRegression\n",
    "from sklearn.tree import DecisionTreeRegressor\n",
    "from sklearn.metrics import mean_squared_error\n",
    "from sklearn.model_selection import train_test_split, GridSearchCV, TimeSeriesSplit, cross_val_score\n",
    "from catboost import CatBoostRegressor\n",
    "from lightgbm import LGBMRegressor\n",
    "\n",
    "warnings.filterwarnings(\"ignore\")"
   ]
  },
  {
   "cell_type": "code",
   "execution_count": 2,
   "metadata": {},
   "outputs": [],
   "source": [
    "RANDOM_STATE = 42\n",
    "TEST_SIZE = 0.1"
   ]
  },
  {
   "cell_type": "markdown",
   "metadata": {},
   "source": [
    "### Загрузка данных"
   ]
  },
  {
   "cell_type": "code",
   "execution_count": 3,
   "metadata": {},
   "outputs": [],
   "source": [
    "df=pd.read_csv('/datasets/taxi.csv',index_col=[0], parse_dates=[0])"
   ]
  },
  {
   "cell_type": "markdown",
   "metadata": {},
   "source": [
    "## Анализ"
   ]
  },
  {
   "cell_type": "markdown",
   "metadata": {},
   "source": [
    "### Общая информация о данных"
   ]
  },
  {
   "cell_type": "code",
   "execution_count": 4,
   "metadata": {},
   "outputs": [],
   "source": [
    "def general_info_data(df):\n",
    "    display(df.head())\n",
    "    display(df.info())"
   ]
  },
  {
   "cell_type": "code",
   "execution_count": 5,
   "metadata": {},
   "outputs": [
    {
     "data": {
      "text/html": [
       "<div>\n",
       "<style scoped>\n",
       "    .dataframe tbody tr th:only-of-type {\n",
       "        vertical-align: middle;\n",
       "    }\n",
       "\n",
       "    .dataframe tbody tr th {\n",
       "        vertical-align: top;\n",
       "    }\n",
       "\n",
       "    .dataframe thead th {\n",
       "        text-align: right;\n",
       "    }\n",
       "</style>\n",
       "<table border=\"1\" class=\"dataframe\">\n",
       "  <thead>\n",
       "    <tr style=\"text-align: right;\">\n",
       "      <th></th>\n",
       "      <th>num_orders</th>\n",
       "    </tr>\n",
       "    <tr>\n",
       "      <th>datetime</th>\n",
       "      <th></th>\n",
       "    </tr>\n",
       "  </thead>\n",
       "  <tbody>\n",
       "    <tr>\n",
       "      <th>2018-03-01 00:00:00</th>\n",
       "      <td>9</td>\n",
       "    </tr>\n",
       "    <tr>\n",
       "      <th>2018-03-01 00:10:00</th>\n",
       "      <td>14</td>\n",
       "    </tr>\n",
       "    <tr>\n",
       "      <th>2018-03-01 00:20:00</th>\n",
       "      <td>28</td>\n",
       "    </tr>\n",
       "    <tr>\n",
       "      <th>2018-03-01 00:30:00</th>\n",
       "      <td>20</td>\n",
       "    </tr>\n",
       "    <tr>\n",
       "      <th>2018-03-01 00:40:00</th>\n",
       "      <td>32</td>\n",
       "    </tr>\n",
       "  </tbody>\n",
       "</table>\n",
       "</div>"
      ],
      "text/plain": [
       "                     num_orders\n",
       "datetime                       \n",
       "2018-03-01 00:00:00           9\n",
       "2018-03-01 00:10:00          14\n",
       "2018-03-01 00:20:00          28\n",
       "2018-03-01 00:30:00          20\n",
       "2018-03-01 00:40:00          32"
      ]
     },
     "metadata": {},
     "output_type": "display_data"
    },
    {
     "name": "stdout",
     "output_type": "stream",
     "text": [
      "<class 'pandas.core.frame.DataFrame'>\n",
      "DatetimeIndex: 26496 entries, 2018-03-01 00:00:00 to 2018-08-31 23:50:00\n",
      "Data columns (total 1 columns):\n",
      " #   Column      Non-Null Count  Dtype\n",
      "---  ------      --------------  -----\n",
      " 0   num_orders  26496 non-null  int64\n",
      "dtypes: int64(1)\n",
      "memory usage: 414.0 KB\n"
     ]
    },
    {
     "data": {
      "text/plain": [
       "None"
      ]
     },
     "metadata": {},
     "output_type": "display_data"
    }
   ],
   "source": [
    "general_info_data(df)"
   ]
  },
  {
   "cell_type": "code",
   "execution_count": 6,
   "metadata": {},
   "outputs": [
    {
     "name": "stdout",
     "output_type": "stream",
     "text": [
      "True\n"
     ]
    }
   ],
   "source": [
    "df.sort_index(inplace=True)\n",
    "print(df.index.is_monotonic)"
   ]
  },
  {
   "cell_type": "markdown",
   "metadata": {},
   "source": [
    "### Ресемплирование"
   ]
  },
  {
   "cell_type": "markdown",
   "metadata": {},
   "source": [
    "Выполним ресемплирование данных по одному часу:"
   ]
  },
  {
   "cell_type": "code",
   "execution_count": 7,
   "metadata": {
    "scrolled": true
   },
   "outputs": [
    {
     "data": {
      "text/html": [
       "<div>\n",
       "<style scoped>\n",
       "    .dataframe tbody tr th:only-of-type {\n",
       "        vertical-align: middle;\n",
       "    }\n",
       "\n",
       "    .dataframe tbody tr th {\n",
       "        vertical-align: top;\n",
       "    }\n",
       "\n",
       "    .dataframe thead th {\n",
       "        text-align: right;\n",
       "    }\n",
       "</style>\n",
       "<table border=\"1\" class=\"dataframe\">\n",
       "  <thead>\n",
       "    <tr style=\"text-align: right;\">\n",
       "      <th></th>\n",
       "      <th>num_orders</th>\n",
       "    </tr>\n",
       "    <tr>\n",
       "      <th>datetime</th>\n",
       "      <th></th>\n",
       "    </tr>\n",
       "  </thead>\n",
       "  <tbody>\n",
       "    <tr>\n",
       "      <th>2018-03-01 00:00:00</th>\n",
       "      <td>124</td>\n",
       "    </tr>\n",
       "    <tr>\n",
       "      <th>2018-03-01 01:00:00</th>\n",
       "      <td>85</td>\n",
       "    </tr>\n",
       "    <tr>\n",
       "      <th>2018-03-01 02:00:00</th>\n",
       "      <td>71</td>\n",
       "    </tr>\n",
       "    <tr>\n",
       "      <th>2018-03-01 03:00:00</th>\n",
       "      <td>66</td>\n",
       "    </tr>\n",
       "    <tr>\n",
       "      <th>2018-03-01 04:00:00</th>\n",
       "      <td>43</td>\n",
       "    </tr>\n",
       "    <tr>\n",
       "      <th>2018-03-01 05:00:00</th>\n",
       "      <td>6</td>\n",
       "    </tr>\n",
       "    <tr>\n",
       "      <th>2018-03-01 06:00:00</th>\n",
       "      <td>12</td>\n",
       "    </tr>\n",
       "    <tr>\n",
       "      <th>2018-03-01 07:00:00</th>\n",
       "      <td>15</td>\n",
       "    </tr>\n",
       "    <tr>\n",
       "      <th>2018-03-01 08:00:00</th>\n",
       "      <td>34</td>\n",
       "    </tr>\n",
       "    <tr>\n",
       "      <th>2018-03-01 09:00:00</th>\n",
       "      <td>69</td>\n",
       "    </tr>\n",
       "  </tbody>\n",
       "</table>\n",
       "</div>"
      ],
      "text/plain": [
       "                     num_orders\n",
       "datetime                       \n",
       "2018-03-01 00:00:00         124\n",
       "2018-03-01 01:00:00          85\n",
       "2018-03-01 02:00:00          71\n",
       "2018-03-01 03:00:00          66\n",
       "2018-03-01 04:00:00          43\n",
       "2018-03-01 05:00:00           6\n",
       "2018-03-01 06:00:00          12\n",
       "2018-03-01 07:00:00          15\n",
       "2018-03-01 08:00:00          34\n",
       "2018-03-01 09:00:00          69"
      ]
     },
     "execution_count": 7,
     "metadata": {},
     "output_type": "execute_result"
    }
   ],
   "source": [
    "df = df.resample('1H').sum() \n",
    "df.head(10)"
   ]
  },
  {
   "cell_type": "markdown",
   "metadata": {},
   "source": [
    "Построим график суммарного числа заказов по часам."
   ]
  },
  {
   "cell_type": "code",
   "execution_count": 8,
   "metadata": {},
   "outputs": [
    {
     "data": {
      "text/plain": [
       "<AxesSubplot:title={'center':'Количество заказов по часам'}, xlabel='datetime'>"
      ]
     },
     "execution_count": 8,
     "metadata": {},
     "output_type": "execute_result"
    },
    {
     "data": {
      "image/png": "[encoded data removed]",
      "text/plain": [
       "<Figure size 864x504 with 1 Axes>"
      ]
     },
     "metadata": {
      "needs_background": "light"
     },
     "output_type": "display_data"
    }
   ],
   "source": [
    "plt.figure(figsize=(12, 7))\n",
    "plt.title('Количество заказов по часам')\n",
    "df['num_orders'].plot()"
   ]
  },
  {
   "cell_type": "code",
   "execution_count": 9,
   "metadata": {
    "scrolled": true
   },
   "outputs": [
    {
     "name": "stdout",
     "output_type": "stream",
     "text": [
      "<class 'pandas.core.frame.DataFrame'>\n",
      "DatetimeIndex: 4416 entries, 2018-03-01 00:00:00 to 2018-08-31 23:00:00\n",
      "Freq: H\n",
      "Data columns (total 1 columns):\n",
      " #   Column      Non-Null Count  Dtype\n",
      "---  ------      --------------  -----\n",
      " 0   num_orders  4416 non-null   int64\n",
      "dtypes: int64(1)\n",
      "memory usage: 69.0 KB\n"
     ]
    }
   ],
   "source": [
    "df.info()"
   ]
  },
  {
   "cell_type": "markdown",
   "metadata": {},
   "source": [
    "### Скользящее среднее"
   ]
  },
  {
   "cell_type": "markdown",
   "metadata": {},
   "source": [
    "Проведем анализ на копии исходного датафрейма"
   ]
  },
  {
   "cell_type": "code",
   "execution_count": 10,
   "metadata": {},
   "outputs": [],
   "source": [
    "df_test = df.copy()"
   ]
  },
  {
   "cell_type": "code",
   "execution_count": 11,
   "metadata": {},
   "outputs": [],
   "source": [
    "df_test['rolling_mean'] = df_test['num_orders'].rolling(10).mean()\n",
    "df_test=df_test.fillna(0)"
   ]
  },
  {
   "cell_type": "code",
   "execution_count": 12,
   "metadata": {},
   "outputs": [
    {
     "data": {
      "text/plain": [
       "<AxesSubplot:xlabel='datetime'>"
      ]
     },
     "execution_count": 12,
     "metadata": {},
     "output_type": "execute_result"
    },
    {
     "data": {
      "image/png": "[encoded data removed]",
      "text/plain": [
       "<Figure size 432x288 with 1 Axes>"
      ]
     },
     "metadata": {
      "needs_background": "light"
     },
     "output_type": "display_data"
    }
   ],
   "source": [
    "df_test.plot()"
   ]
  },
  {
   "cell_type": "markdown",
   "metadata": {},
   "source": [
    "### Тренд и сезонная компонента"
   ]
  },
  {
   "cell_type": "markdown",
   "metadata": {},
   "source": [
    "Разложим временной ряд на тренд и сезонную компоненту"
   ]
  },
  {
   "cell_type": "code",
   "execution_count": 13,
   "metadata": {},
   "outputs": [],
   "source": [
    "decomposed = seasonal_decompose(df_test['num_orders'])"
   ]
  },
  {
   "cell_type": "code",
   "execution_count": 14,
   "metadata": {},
   "outputs": [
    {
     "data": {
      "image/png": "[encoded data removed]",
      "text/plain": [
       "<Figure size 720x576 with 3 Axes>"
      ]
     },
     "metadata": {
      "needs_background": "light"
     },
     "output_type": "display_data"
    }
   ],
   "source": [
    "plt.figure(figsize=(10, 8))\n",
    "plt.subplot(311)\n",
    "\n",
    "decomposed.trend.plot(ax=plt.gca())\n",
    "plt.title('Trend')\n",
    "plt.subplot(312)\n",
    "\n",
    "decomposed.seasonal.plot(ax = plt.gca())\n",
    "plt.title('Seasonality')\n",
    "plt.subplot(313)\n",
    "\n",
    "decomposed.resid.plot(ax = plt.gca())\n",
    "plt.title('Residuals')\n",
    "plt.tight_layout()"
   ]
  },
  {
   "cell_type": "markdown",
   "metadata": {},
   "source": [
    "**ВЫВОД:**\n",
    "\n",
    "Отмечается тренд на увеличение заказов в течение полугода. Сезонность оценим на меньшем временном отрезке.\n",
    "\n",
    "Также отмечается тренд на увеличение с марта по август, а далее тренд получает ускорение."
   ]
  },
  {
   "cell_type": "markdown",
   "metadata": {},
   "source": [
    "Уменьшим интервал и посмотрим за неделю:"
   ]
  },
  {
   "cell_type": "code",
   "execution_count": 15,
   "metadata": {},
   "outputs": [
    {
     "data": {
      "image/png": "[encoded data removed]",
      "text/plain": [
       "<Figure size 720x576 with 3 Axes>"
      ]
     },
     "metadata": {
      "needs_background": "light"
     },
     "output_type": "display_data"
    }
   ],
   "source": [
    "plt.figure(figsize=(10, 8))\n",
    "plt.subplot(311)\n",
    "\n",
    "decomposed.trend['2018-07-01':'2018-07-07'].plot(ax=plt.gca())\n",
    "plt.title('Trend')\n",
    "plt.subplot(312)\n",
    "\n",
    "decomposed.seasonal['2018-07-01':'2018-07-07'].plot(ax=plt.gca())\n",
    "plt.title('Seasonality')\n",
    "plt.subplot(313)\n",
    "\n",
    "decomposed.resid['2018-07-01':'2018-07-07'].plot(ax=plt.gca())\n",
    "plt.title('Residuals')\n",
    "plt.tight_layout()"
   ]
  },
  {
   "cell_type": "markdown",
   "metadata": {},
   "source": [
    "**ВЫВОД:**\n",
    "\n",
    "Наблюдается сезонность по дням в течение недели."
   ]
  },
  {
   "cell_type": "markdown",
   "metadata": {},
   "source": [
    "Уменьшим интервал до суток:"
   ]
  },
  {
   "cell_type": "code",
   "execution_count": 16,
   "metadata": {},
   "outputs": [
    {
     "data": {
      "image/png": "[encoded data removed]",
      "text/plain": [
       "<Figure size 720x576 with 3 Axes>"
      ]
     },
     "metadata": {
      "needs_background": "light"
     },
     "output_type": "display_data"
    }
   ],
   "source": [
    "plt.figure(figsize=(10, 8))\n",
    "plt.subplot(311)\n",
    "\n",
    "decomposed.trend['2018-07-03'].plot(ax=plt.gca())\n",
    "plt.title('Trend')\n",
    "plt.subplot(312)\n",
    "\n",
    "decomposed.seasonal['2018-07-03'].plot(ax=plt.gca())\n",
    "plt.title('Seasonality')\n",
    "plt.subplot(313)\n",
    "\n",
    "decomposed.resid['2018-07-03'].plot(ax=plt.gca())\n",
    "plt.title('Residuals')\n",
    "plt.tight_layout()"
   ]
  },
  {
   "cell_type": "markdown",
   "metadata": {},
   "source": [
    "**ВЫВОД:**\n",
    "\n",
    "В течение дня наблюдается тренд на увеличение заказов к вечеру."
   ]
  },
  {
   "cell_type": "markdown",
   "metadata": {},
   "source": [
    "### Стационарность ряда"
   ]
  },
  {
   "cell_type": "markdown",
   "metadata": {},
   "source": [
    "Оценим стационарность ряда. Найдём скользящее стандартное отклонение"
   ]
  },
  {
   "cell_type": "code",
   "execution_count": 17,
   "metadata": {},
   "outputs": [
    {
     "data": {
      "text/plain": [
       "<AxesSubplot:xlabel='datetime'>"
      ]
     },
     "execution_count": 17,
     "metadata": {},
     "output_type": "execute_result"
    },
    {
     "data": {
      "image/png": "[encoded data removed]",
      "text/plain": [
       "<Figure size 1440x360 with 1 Axes>"
      ]
     },
     "metadata": {
      "needs_background": "light"
     },
     "output_type": "display_data"
    }
   ],
   "source": [
    "df_test['std'] = df_test['num_orders'].rolling(10).std()\n",
    "df_test.plot(figsize=(20, 5))"
   ]
  },
  {
   "cell_type": "markdown",
   "metadata": {},
   "source": [
    "**ВЫВОД:**\n",
    "\n",
    "Среднее и стандартное отклонение растет со временем. Сделаем ряд стационарным"
   ]
  },
  {
   "cell_type": "code",
   "execution_count": 18,
   "metadata": {},
   "outputs": [
    {
     "data": {
      "text/html": [
       "<div>\n",
       "<style scoped>\n",
       "    .dataframe tbody tr th:only-of-type {\n",
       "        vertical-align: middle;\n",
       "    }\n",
       "\n",
       "    .dataframe tbody tr th {\n",
       "        vertical-align: top;\n",
       "    }\n",
       "\n",
       "    .dataframe thead th {\n",
       "        text-align: right;\n",
       "    }\n",
       "</style>\n",
       "<table border=\"1\" class=\"dataframe\">\n",
       "  <thead>\n",
       "    <tr style=\"text-align: right;\">\n",
       "      <th></th>\n",
       "      <th>num_orders</th>\n",
       "    </tr>\n",
       "    <tr>\n",
       "      <th>datetime</th>\n",
       "      <th></th>\n",
       "    </tr>\n",
       "  </thead>\n",
       "  <tbody>\n",
       "    <tr>\n",
       "      <th>2018-03-01 00:00:00</th>\n",
       "      <td>124</td>\n",
       "    </tr>\n",
       "    <tr>\n",
       "      <th>2018-03-01 01:00:00</th>\n",
       "      <td>85</td>\n",
       "    </tr>\n",
       "    <tr>\n",
       "      <th>2018-03-01 02:00:00</th>\n",
       "      <td>71</td>\n",
       "    </tr>\n",
       "    <tr>\n",
       "      <th>2018-03-01 03:00:00</th>\n",
       "      <td>66</td>\n",
       "    </tr>\n",
       "    <tr>\n",
       "      <th>2018-03-01 04:00:00</th>\n",
       "      <td>43</td>\n",
       "    </tr>\n",
       "  </tbody>\n",
       "</table>\n",
       "</div>"
      ],
      "text/plain": [
       "                     num_orders\n",
       "datetime                       \n",
       "2018-03-01 00:00:00         124\n",
       "2018-03-01 01:00:00          85\n",
       "2018-03-01 02:00:00          71\n",
       "2018-03-01 03:00:00          66\n",
       "2018-03-01 04:00:00          43"
      ]
     },
     "execution_count": 18,
     "metadata": {},
     "output_type": "execute_result"
    }
   ],
   "source": [
    "df.head()"
   ]
  },
  {
   "cell_type": "markdown",
   "metadata": {},
   "source": [
    "Протестуем, приводим ли наш ряд к стационарному. На графике изобразим скользящее среднее и скользящее стандартное отклонение"
   ]
  },
  {
   "cell_type": "code",
   "execution_count": 19,
   "metadata": {},
   "outputs": [
    {
     "data": {
      "text/plain": [
       "<AxesSubplot:xlabel='datetime'>"
      ]
     },
     "execution_count": 19,
     "metadata": {},
     "output_type": "execute_result"
    },
    {
     "data": {
      "image/png": "[encoded data removed]",
      "text/plain": [
       "<Figure size 1296x432 with 1 Axes>"
      ]
     },
     "metadata": {
      "needs_background": "light"
     },
     "output_type": "display_data"
    }
   ],
   "source": [
    "df_sh = df.copy()\n",
    "df_sh = df_sh - df_sh.shift()\n",
    "df_sh['mean'] = df_sh['num_orders'].rolling(10).mean()\n",
    "df_sh['std'] = df_sh['num_orders'].rolling(10).std()\n",
    "df_sh.plot(figsize=(18, 6))"
   ]
  },
  {
   "cell_type": "markdown",
   "metadata": {},
   "source": [
    "**ВЫВОД:**\n",
    "\n",
    "Проведен анализ данных.\n",
    "\n",
    "Выявлена суточная сезонность: самый высокий спрос отмечен в вечерние часы пик, минимальный - в ночные часы.\n",
    "\n",
    "Также отмечается тренд на увеличение с марта по август, а далее тренд получает ускорение."
   ]
  },
  {
   "cell_type": "markdown",
   "metadata": {},
   "source": [
    "## Обучение, подбор гиперпараметров"
   ]
  },
  {
   "cell_type": "markdown",
   "metadata": {},
   "source": [
    "Напишем функцию, чтобы прибавить к таблице четыре новых календарных признака: год, месяц, день и день недели. "
   ]
  },
  {
   "cell_type": "code",
   "execution_count": 20,
   "metadata": {},
   "outputs": [],
   "source": [
    "def make_features(df, max_lag, rolling_mean_size):\n",
    "    data = df.copy()\n",
    "    data['hour'] = data.index.hour\n",
    "        \n",
    "    for lag in range(1, max_lag + 1):\n",
    "        data['lag_{}'.format(lag)] = data['num_orders'].shift(lag)\n",
    "\n",
    "    data['rolling_mean'] = data['num_orders'].shift().rolling(rolling_mean_size).mean()\n",
    "    return data"
   ]
  },
  {
   "cell_type": "code",
   "execution_count": 21,
   "metadata": {},
   "outputs": [
    {
     "data": {
      "text/html": [
       "<div>\n",
       "<style scoped>\n",
       "    .dataframe tbody tr th:only-of-type {\n",
       "        vertical-align: middle;\n",
       "    }\n",
       "\n",
       "    .dataframe tbody tr th {\n",
       "        vertical-align: top;\n",
       "    }\n",
       "\n",
       "    .dataframe thead th {\n",
       "        text-align: right;\n",
       "    }\n",
       "</style>\n",
       "<table border=\"1\" class=\"dataframe\">\n",
       "  <thead>\n",
       "    <tr style=\"text-align: right;\">\n",
       "      <th></th>\n",
       "      <th>num_orders</th>\n",
       "    </tr>\n",
       "    <tr>\n",
       "      <th>datetime</th>\n",
       "      <th></th>\n",
       "    </tr>\n",
       "  </thead>\n",
       "  <tbody>\n",
       "    <tr>\n",
       "      <th>2018-03-01 00:00:00</th>\n",
       "      <td>124</td>\n",
       "    </tr>\n",
       "    <tr>\n",
       "      <th>2018-03-01 01:00:00</th>\n",
       "      <td>85</td>\n",
       "    </tr>\n",
       "    <tr>\n",
       "      <th>2018-03-01 02:00:00</th>\n",
       "      <td>71</td>\n",
       "    </tr>\n",
       "    <tr>\n",
       "      <th>2018-03-01 03:00:00</th>\n",
       "      <td>66</td>\n",
       "    </tr>\n",
       "    <tr>\n",
       "      <th>2018-03-01 04:00:00</th>\n",
       "      <td>43</td>\n",
       "    </tr>\n",
       "  </tbody>\n",
       "</table>\n",
       "</div>"
      ],
      "text/plain": [
       "                     num_orders\n",
       "datetime                       \n",
       "2018-03-01 00:00:00         124\n",
       "2018-03-01 01:00:00          85\n",
       "2018-03-01 02:00:00          71\n",
       "2018-03-01 03:00:00          66\n",
       "2018-03-01 04:00:00          43"
      ]
     },
     "execution_count": 21,
     "metadata": {},
     "output_type": "execute_result"
    }
   ],
   "source": [
    "df.head()"
   ]
  },
  {
   "cell_type": "code",
   "execution_count": 22,
   "metadata": {},
   "outputs": [],
   "source": [
    "df_new = make_features(df, 24, 7)"
   ]
  },
  {
   "cell_type": "code",
   "execution_count": 23,
   "metadata": {
    "scrolled": true
   },
   "outputs": [
    {
     "data": {
      "text/html": [
       "<div>\n",
       "<style scoped>\n",
       "    .dataframe tbody tr th:only-of-type {\n",
       "        vertical-align: middle;\n",
       "    }\n",
       "\n",
       "    .dataframe tbody tr th {\n",
       "        vertical-align: top;\n",
       "    }\n",
       "\n",
       "    .dataframe thead th {\n",
       "        text-align: right;\n",
       "    }\n",
       "</style>\n",
       "<table border=\"1\" class=\"dataframe\">\n",
       "  <thead>\n",
       "    <tr style=\"text-align: right;\">\n",
       "      <th></th>\n",
       "      <th>num_orders</th>\n",
       "      <th>hour</th>\n",
       "      <th>lag_1</th>\n",
       "      <th>lag_2</th>\n",
       "      <th>lag_3</th>\n",
       "      <th>lag_4</th>\n",
       "      <th>lag_5</th>\n",
       "      <th>lag_6</th>\n",
       "      <th>lag_7</th>\n",
       "      <th>lag_8</th>\n",
       "      <th>...</th>\n",
       "      <th>lag_16</th>\n",
       "      <th>lag_17</th>\n",
       "      <th>lag_18</th>\n",
       "      <th>lag_19</th>\n",
       "      <th>lag_20</th>\n",
       "      <th>lag_21</th>\n",
       "      <th>lag_22</th>\n",
       "      <th>lag_23</th>\n",
       "      <th>lag_24</th>\n",
       "      <th>rolling_mean</th>\n",
       "    </tr>\n",
       "    <tr>\n",
       "      <th>datetime</th>\n",
       "      <th></th>\n",
       "      <th></th>\n",
       "      <th></th>\n",
       "      <th></th>\n",
       "      <th></th>\n",
       "      <th></th>\n",
       "      <th></th>\n",
       "      <th></th>\n",
       "      <th></th>\n",
       "      <th></th>\n",
       "      <th></th>\n",
       "      <th></th>\n",
       "      <th></th>\n",
       "      <th></th>\n",
       "      <th></th>\n",
       "      <th></th>\n",
       "      <th></th>\n",
       "      <th></th>\n",
       "      <th></th>\n",
       "      <th></th>\n",
       "      <th></th>\n",
       "    </tr>\n",
       "  </thead>\n",
       "  <tbody>\n",
       "    <tr>\n",
       "      <th>2018-03-01 00:00:00</th>\n",
       "      <td>124</td>\n",
       "      <td>0</td>\n",
       "      <td>NaN</td>\n",
       "      <td>NaN</td>\n",
       "      <td>NaN</td>\n",
       "      <td>NaN</td>\n",
       "      <td>NaN</td>\n",
       "      <td>NaN</td>\n",
       "      <td>NaN</td>\n",
       "      <td>NaN</td>\n",
       "      <td>...</td>\n",
       "      <td>NaN</td>\n",
       "      <td>NaN</td>\n",
       "      <td>NaN</td>\n",
       "      <td>NaN</td>\n",
       "      <td>NaN</td>\n",
       "      <td>NaN</td>\n",
       "      <td>NaN</td>\n",
       "      <td>NaN</td>\n",
       "      <td>NaN</td>\n",
       "      <td>NaN</td>\n",
       "    </tr>\n",
       "    <tr>\n",
       "      <th>2018-03-01 01:00:00</th>\n",
       "      <td>85</td>\n",
       "      <td>1</td>\n",
       "      <td>124.0</td>\n",
       "      <td>NaN</td>\n",
       "      <td>NaN</td>\n",
       "      <td>NaN</td>\n",
       "      <td>NaN</td>\n",
       "      <td>NaN</td>\n",
       "      <td>NaN</td>\n",
       "      <td>NaN</td>\n",
       "      <td>...</td>\n",
       "      <td>NaN</td>\n",
       "      <td>NaN</td>\n",
       "      <td>NaN</td>\n",
       "      <td>NaN</td>\n",
       "      <td>NaN</td>\n",
       "      <td>NaN</td>\n",
       "      <td>NaN</td>\n",
       "      <td>NaN</td>\n",
       "      <td>NaN</td>\n",
       "      <td>NaN</td>\n",
       "    </tr>\n",
       "    <tr>\n",
       "      <th>2018-03-01 02:00:00</th>\n",
       "      <td>71</td>\n",
       "      <td>2</td>\n",
       "      <td>85.0</td>\n",
       "      <td>124.0</td>\n",
       "      <td>NaN</td>\n",
       "      <td>NaN</td>\n",
       "      <td>NaN</td>\n",
       "      <td>NaN</td>\n",
       "      <td>NaN</td>\n",
       "      <td>NaN</td>\n",
       "      <td>...</td>\n",
       "      <td>NaN</td>\n",
       "      <td>NaN</td>\n",
       "      <td>NaN</td>\n",
       "      <td>NaN</td>\n",
       "      <td>NaN</td>\n",
       "      <td>NaN</td>\n",
       "      <td>NaN</td>\n",
       "      <td>NaN</td>\n",
       "      <td>NaN</td>\n",
       "      <td>NaN</td>\n",
       "    </tr>\n",
       "    <tr>\n",
       "      <th>2018-03-01 03:00:00</th>\n",
       "      <td>66</td>\n",
       "      <td>3</td>\n",
       "      <td>71.0</td>\n",
       "      <td>85.0</td>\n",
       "      <td>124.0</td>\n",
       "      <td>NaN</td>\n",
       "      <td>NaN</td>\n",
       "      <td>NaN</td>\n",
       "      <td>NaN</td>\n",
       "      <td>NaN</td>\n",
       "      <td>...</td>\n",
       "      <td>NaN</td>\n",
       "      <td>NaN</td>\n",
       "      <td>NaN</td>\n",
       "      <td>NaN</td>\n",
       "      <td>NaN</td>\n",
       "      <td>NaN</td>\n",
       "      <td>NaN</td>\n",
       "      <td>NaN</td>\n",
       "      <td>NaN</td>\n",
       "      <td>NaN</td>\n",
       "    </tr>\n",
       "    <tr>\n",
       "      <th>2018-03-01 04:00:00</th>\n",
       "      <td>43</td>\n",
       "      <td>4</td>\n",
       "      <td>66.0</td>\n",
       "      <td>71.0</td>\n",
       "      <td>85.0</td>\n",
       "      <td>124.0</td>\n",
       "      <td>NaN</td>\n",
       "      <td>NaN</td>\n",
       "      <td>NaN</td>\n",
       "      <td>NaN</td>\n",
       "      <td>...</td>\n",
       "      <td>NaN</td>\n",
       "      <td>NaN</td>\n",
       "      <td>NaN</td>\n",
       "      <td>NaN</td>\n",
       "      <td>NaN</td>\n",
       "      <td>NaN</td>\n",
       "      <td>NaN</td>\n",
       "      <td>NaN</td>\n",
       "      <td>NaN</td>\n",
       "      <td>NaN</td>\n",
       "    </tr>\n",
       "  </tbody>\n",
       "</table>\n",
       "<p>5 rows × 27 columns</p>\n",
       "</div>"
      ],
      "text/plain": [
       "                     num_orders  hour  lag_1  lag_2  lag_3  lag_4  lag_5  \\\n",
       "datetime                                                                   \n",
       "2018-03-01 00:00:00         124     0    NaN    NaN    NaN    NaN    NaN   \n",
       "2018-03-01 01:00:00          85     1  124.0    NaN    NaN    NaN    NaN   \n",
       "2018-03-01 02:00:00          71     2   85.0  124.0    NaN    NaN    NaN   \n",
       "2018-03-01 03:00:00          66     3   71.0   85.0  124.0    NaN    NaN   \n",
       "2018-03-01 04:00:00          43     4   66.0   71.0   85.0  124.0    NaN   \n",
       "\n",
       "                     lag_6  lag_7  lag_8  ...  lag_16  lag_17  lag_18  lag_19  \\\n",
       "datetime                                  ...                                   \n",
       "2018-03-01 00:00:00    NaN    NaN    NaN  ...     NaN     NaN     NaN     NaN   \n",
       "2018-03-01 01:00:00    NaN    NaN    NaN  ...     NaN     NaN     NaN     NaN   \n",
       "2018-03-01 02:00:00    NaN    NaN    NaN  ...     NaN     NaN     NaN     NaN   \n",
       "2018-03-01 03:00:00    NaN    NaN    NaN  ...     NaN     NaN     NaN     NaN   \n",
       "2018-03-01 04:00:00    NaN    NaN    NaN  ...     NaN     NaN     NaN     NaN   \n",
       "\n",
       "                     lag_20  lag_21  lag_22  lag_23  lag_24  rolling_mean  \n",
       "datetime                                                                   \n",
       "2018-03-01 00:00:00     NaN     NaN     NaN     NaN     NaN           NaN  \n",
       "2018-03-01 01:00:00     NaN     NaN     NaN     NaN     NaN           NaN  \n",
       "2018-03-01 02:00:00     NaN     NaN     NaN     NaN     NaN           NaN  \n",
       "2018-03-01 03:00:00     NaN     NaN     NaN     NaN     NaN           NaN  \n",
       "2018-03-01 04:00:00     NaN     NaN     NaN     NaN     NaN           NaN  \n",
       "\n",
       "[5 rows x 27 columns]"
      ]
     },
     "execution_count": 23,
     "metadata": {},
     "output_type": "execute_result"
    }
   ],
   "source": [
    "df_new.head()"
   ]
  },
  {
   "cell_type": "markdown",
   "metadata": {},
   "source": [
    "Разобьем датафрейм на обучающую и тестовую выборки. Размер тестовой выборки 0.1. Из обучающей выборки удалим строки с пропусками."
   ]
  },
  {
   "cell_type": "code",
   "execution_count": 24,
   "metadata": {},
   "outputs": [],
   "source": [
    "train, test = train_test_split(df_new, shuffle=False, test_size=TEST_SIZE)\n",
    "train = train.dropna()"
   ]
  },
  {
   "cell_type": "code",
   "execution_count": 25,
   "metadata": {},
   "outputs": [],
   "source": [
    "X_train = train.drop(columns='num_orders')\n",
    "y_train = train['num_orders']\n",
    "X_test = test.drop(columns='num_orders')\n",
    "y_test = test['num_orders']"
   ]
  },
  {
   "cell_type": "markdown",
   "metadata": {},
   "source": [
    "Для подбора гиперпараметров моделей применим функцию TimeSeriesSplit(), которая предоставляет индексы для разделения образцов временных рядов данных."
   ]
  },
  {
   "cell_type": "code",
   "execution_count": 26,
   "metadata": {},
   "outputs": [],
   "source": [
    "cv_tss = TimeSeriesSplit(n_splits=5).split(X_train)"
   ]
  },
  {
   "cell_type": "markdown",
   "metadata": {},
   "source": [
    "### Модель LinearRegression"
   ]
  },
  {
   "cell_type": "code",
   "execution_count": 27,
   "metadata": {},
   "outputs": [
    {
     "name": "stdout",
     "output_type": "stream",
     "text": [
      "Средняя оценка качества модели LinearRegression:\n",
      " 27.138764785607503\n"
     ]
    }
   ],
   "source": [
    "model_lr = LinearRegression()\n",
    "model_lr.fit(X_train, y_train)\n",
    "\n",
    "rmse_lr = pd.Series(cross_val_score(model_lr,\n",
    "                                              X_train,\n",
    "                                              y_train,\n",
    "                                              cv=cv_tss,\n",
    "                                              scoring='neg_root_mean_squared_error')).mean()*(-1)\n",
    "\n",
    "print('Средняя оценка качества модели LinearRegression:\\n',rmse_lr)"
   ]
  },
  {
   "cell_type": "markdown",
   "metadata": {},
   "source": [
    "### Модель DecisionTreeRegressor"
   ]
  },
  {
   "cell_type": "code",
   "execution_count": 28,
   "metadata": {},
   "outputs": [
    {
     "name": "stdout",
     "output_type": "stream",
     "text": [
      "Лучшие параметры: {'max_depth': 5, 'random_state': 123456}\n",
      "\n",
      "Средняя оценка качества модели DecisionTreeRegressor:\n",
      " 29.71207792816873\n"
     ]
    }
   ],
   "source": [
    "cv_tss = TimeSeriesSplit(n_splits=5).split(X_train)\n",
    "\n",
    "model_dtr = DecisionTreeRegressor()\n",
    "parameters = [{'max_depth': [1, 5, 15],\n",
    "                'random_state':[123456]}]\n",
    "\n",
    "gs = GridSearchCV(model_dtr,\n",
    "                   parameters,\n",
    "                   cv=cv_tss,\n",
    "                   scoring='neg_mean_squared_error')\n",
    "gs.fit(X_train, y_train)\n",
    "\n",
    "means = gs.cv_results_['mean_test_score']\n",
    "rmse_dtr = (max(means)*-1) ** 0.5\n",
    "\n",
    "print('Лучшие параметры:', gs.best_params_)\n",
    "print()\n",
    "print('Средняя оценка качества модели DecisionTreeRegressor:\\n', rmse_dtr)"
   ]
  },
  {
   "cell_type": "markdown",
   "metadata": {},
   "source": [
    "### Модель CatBoostRegressor"
   ]
  },
  {
   "cell_type": "code",
   "execution_count": 29,
   "metadata": {},
   "outputs": [
    {
     "name": "stdout",
     "output_type": "stream",
     "text": [
      "Лучшие параметры: {'learning_rate': 0.1, 'random_state': 123456, 'verbose': False}\n",
      "\n",
      "Средняя оценка качества модели CatBoostRegressor:\n",
      " 24.655265165168768\n"
     ]
    }
   ],
   "source": [
    "cv_tss = TimeSeriesSplit(n_splits=5).split(X_train)\n",
    "\n",
    "model_cbr = CatBoostRegressor() \n",
    "parameters = [{'learning_rate':[0.1, 0.5, 0.8],\n",
    "               'random_state':[123456],\n",
    "               'verbose':[False]}]\n",
    "\n",
    "gs = GridSearchCV(model_cbr, \n",
    "                  parameters,\n",
    "                  cv = cv_tss,\n",
    "                  scoring='neg_mean_squared_error')\n",
    "\n",
    "gs.fit(X_train, y_train)\n",
    "\n",
    "means = gs.cv_results_['mean_test_score']\n",
    "rmse_cbr = (max(means)*-1) ** 0.5\n",
    "\n",
    "print('Лучшие параметры:', gs.best_params_)\n",
    "print()\n",
    "print('Средняя оценка качества модели CatBoostRegressor:\\n', rmse_cbr)"
   ]
  },
  {
   "cell_type": "markdown",
   "metadata": {},
   "source": [
    "### Выбор модели"
   ]
  },
  {
   "cell_type": "code",
   "execution_count": 30,
   "metadata": {},
   "outputs": [],
   "source": [
    "model_analysis = pd.DataFrame(index = ['LinearRegression',\n",
    "                                       'DecisionTreeRegressor',\n",
    "                                       'CatBoostRegressor'],\n",
    "                              columns = ['RMSE на тренировочной выборке'])"
   ]
  },
  {
   "cell_type": "code",
   "execution_count": 31,
   "metadata": {},
   "outputs": [],
   "source": [
    "model_analysis['RMSE на тренировочной выборке'] = (rmse_lr,\n",
    "                                                   rmse_dtr,\n",
    "                                                   rmse_cbr)"
   ]
  },
  {
   "cell_type": "code",
   "execution_count": 32,
   "metadata": {},
   "outputs": [
    {
     "data": {
      "text/html": [
       "<div>\n",
       "<style scoped>\n",
       "    .dataframe tbody tr th:only-of-type {\n",
       "        vertical-align: middle;\n",
       "    }\n",
       "\n",
       "    .dataframe tbody tr th {\n",
       "        vertical-align: top;\n",
       "    }\n",
       "\n",
       "    .dataframe thead th {\n",
       "        text-align: right;\n",
       "    }\n",
       "</style>\n",
       "<table border=\"1\" class=\"dataframe\">\n",
       "  <thead>\n",
       "    <tr style=\"text-align: right;\">\n",
       "      <th></th>\n",
       "      <th>RMSE на тренировочной выборке</th>\n",
       "    </tr>\n",
       "  </thead>\n",
       "  <tbody>\n",
       "    <tr>\n",
       "      <th>CatBoostRegressor</th>\n",
       "      <td>24.655265</td>\n",
       "    </tr>\n",
       "    <tr>\n",
       "      <th>LinearRegression</th>\n",
       "      <td>27.138765</td>\n",
       "    </tr>\n",
       "    <tr>\n",
       "      <th>DecisionTreeRegressor</th>\n",
       "      <td>29.712078</td>\n",
       "    </tr>\n",
       "  </tbody>\n",
       "</table>\n",
       "</div>"
      ],
      "text/plain": [
       "                       RMSE на тренировочной выборке\n",
       "CatBoostRegressor                          24.655265\n",
       "LinearRegression                           27.138765\n",
       "DecisionTreeRegressor                      29.712078"
      ]
     },
     "execution_count": 32,
     "metadata": {},
     "output_type": "execute_result"
    }
   ],
   "source": [
    "model_analysis.sort_values(by = ['RMSE на тренировочной выборке'])"
   ]
  },
  {
   "cell_type": "markdown",
   "metadata": {},
   "source": [
    "**ВЫВОД:**\n",
    "\n",
    "Лучшая мертика RMSE (24.66) у модели CatBoostRegressor."
   ]
  },
  {
   "cell_type": "markdown",
   "metadata": {},
   "source": [
    "## Тестирование лучшей модели"
   ]
  },
  {
   "cell_type": "code",
   "execution_count": 33,
   "metadata": {},
   "outputs": [
    {
     "name": "stdout",
     "output_type": "stream",
     "text": [
      "Качество лучшей модели на тестовой выборке:\n",
      " RMSE =  41.29\n"
     ]
    }
   ],
   "source": [
    "model_cbr = CatBoostRegressor(learning_rate=0.1, \n",
    "                              random_state=123456, \n",
    "                              verbose=False) \n",
    "model_cbr.fit(X_train, y_train)\n",
    "\n",
    "best_model_pred = model_cbr.predict(X_test)\n",
    "best_model_rmse = mean_squared_error(y_test, best_model_pred, squared=False)\n",
    "print('Качество лучшей модели на тестовой выборке:\\n','RMSE = ', round(best_model_rmse, 2))"
   ]
  },
  {
   "cell_type": "markdown",
   "metadata": {},
   "source": [
    "**ВЫВОД:**\n",
    "\n",
    "На основании исторические данные о заказах такси в аэропортах, собранных компанией «Чётенькое такси» был проведен анализ. \n",
    "Выявлен тренд на увеличение количества заказов такси в течение суток. Самый высокий спрос отмечен в вечерние часы пик, минимальный - в ночные часы.\n",
    "Наблюдается сезонность по суткам в течение недели.\n",
    "\n",
    "Построены 3 модели для предсказания количества заказов такси на следующий час:\n",
    "\n",
    "LinearRegression\n",
    "DecisionTreeRegressor\n",
    "CatBoostRegressor\n",
    "\n",
    "Подобраны оптимальные гиперпараметры для моделей.\n",
    "\n",
    "Требованию значения метрики RMSE на тестовой выборке не больше 48, соответствует модель CatBoostRegressor.\n",
    "\n",
    "Наилучший показатель RMSE в данном случае у CatBoostRegressor = 43,1\n",
    "\n",
    "**РЕКОМЕНДАЦИИ:**\n",
    "Чтобы привлекать больше водителей в период пиковой нагрузки в качестве модели количества заказов такси на следующий час компании «Чётенькое такси» рекомендовано использовать модель CatBoostRegressor."
   ]
  },
  {
   "cell_type": "code",
   "execution_count": null,
   "metadata": {},
   "outputs": [],
   "source": []
  }
 ],
 "metadata": {
  "ExecuteTimeLog": [
   {
    "duration": 1314,
    "start_time": "2025-01-11T08:33:08.874Z"
   },
   {
    "duration": 3,
    "start_time": "2025-01-11T08:33:10.190Z"
   },
   {
    "duration": 170,
    "start_time": "2025-01-11T08:33:10.194Z"
   },
   {
    "duration": 3,
    "start_time": "2025-01-11T08:33:10.365Z"
   },
   {
    "duration": 31,
    "start_time": "2025-01-11T08:33:10.369Z"
   },
   {
    "duration": 9,
    "start_time": "2025-01-11T08:33:10.401Z"
   },
   {
    "duration": 12,
    "start_time": "2025-01-11T08:36:23.658Z"
   },
   {
    "duration": 108,
    "start_time": "2025-01-11T08:38:34.423Z"
   },
   {
    "duration": 1540,
    "start_time": "2025-01-11T08:39:08.774Z"
   },
   {
    "duration": 3,
    "start_time": "2025-01-11T08:39:10.316Z"
   },
   {
    "duration": 55,
    "start_time": "2025-01-11T08:39:10.320Z"
   },
   {
    "duration": 3,
    "start_time": "2025-01-11T08:39:10.376Z"
   },
   {
    "duration": 18,
    "start_time": "2025-01-11T08:39:10.380Z"
   },
   {
    "duration": 3,
    "start_time": "2025-01-11T08:39:10.399Z"
   },
   {
    "duration": 18,
    "start_time": "2025-01-11T08:39:10.404Z"
   },
   {
    "duration": 253,
    "start_time": "2025-01-11T08:39:10.423Z"
   },
   {
    "duration": 300,
    "start_time": "2025-01-11T08:39:18.405Z"
   },
   {
    "duration": 283,
    "start_time": "2025-01-11T08:39:40.470Z"
   },
   {
    "duration": 233,
    "start_time": "2025-01-11T08:39:53.764Z"
   },
   {
    "duration": 234,
    "start_time": "2025-01-11T08:39:59.557Z"
   },
   {
    "duration": 10,
    "start_time": "2025-01-11T08:40:30.339Z"
   },
   {
    "duration": 3,
    "start_time": "2025-01-11T08:42:17.042Z"
   },
   {
    "duration": 6,
    "start_time": "2025-01-11T08:42:26.195Z"
   },
   {
    "duration": 224,
    "start_time": "2025-01-11T08:42:33.376Z"
   },
   {
    "duration": 5,
    "start_time": "2025-01-11T08:43:37.185Z"
   },
   {
    "duration": 711,
    "start_time": "2025-01-11T08:43:47.648Z"
   },
   {
    "duration": 6,
    "start_time": "2025-01-11T08:47:15.709Z"
   },
   {
    "duration": 514,
    "start_time": "2025-01-11T08:47:35.851Z"
   },
   {
    "duration": 87,
    "start_time": "2025-01-11T09:19:25.959Z"
   },
   {
    "duration": 442,
    "start_time": "2025-01-11T09:19:38.121Z"
   },
   {
    "duration": 316,
    "start_time": "2025-01-11T09:22:37.445Z"
   },
   {
    "duration": 3,
    "start_time": "2025-01-11T09:23:20.132Z"
   },
   {
    "duration": 327,
    "start_time": "2025-01-11T09:23:34.611Z"
   },
   {
    "duration": 4,
    "start_time": "2025-01-11T09:25:52.433Z"
   },
   {
    "duration": 1355,
    "start_time": "2025-01-11T09:25:56.958Z"
   },
   {
    "duration": 2,
    "start_time": "2025-01-11T09:25:58.315Z"
   },
   {
    "duration": 51,
    "start_time": "2025-01-11T09:25:58.319Z"
   },
   {
    "duration": 3,
    "start_time": "2025-01-11T09:25:58.371Z"
   },
   {
    "duration": 19,
    "start_time": "2025-01-11T09:25:58.375Z"
   },
   {
    "duration": 4,
    "start_time": "2025-01-11T09:25:58.395Z"
   },
   {
    "duration": 15,
    "start_time": "2025-01-11T09:25:58.400Z"
   },
   {
    "duration": 262,
    "start_time": "2025-01-11T09:25:58.416Z"
   },
   {
    "duration": 13,
    "start_time": "2025-01-11T09:25:58.680Z"
   },
   {
    "duration": 5,
    "start_time": "2025-01-11T09:25:58.695Z"
   },
   {
    "duration": 5,
    "start_time": "2025-01-11T09:25:58.701Z"
   },
   {
    "duration": 237,
    "start_time": "2025-01-11T09:25:58.708Z"
   },
   {
    "duration": 6,
    "start_time": "2025-01-11T09:25:58.947Z"
   },
   {
    "duration": 789,
    "start_time": "2025-01-11T09:25:58.954Z"
   },
   {
    "duration": 437,
    "start_time": "2025-01-11T09:25:59.744Z"
   },
   {
    "duration": 477,
    "start_time": "2025-01-11T09:26:00.186Z"
   },
   {
    "duration": 332,
    "start_time": "2025-01-11T09:26:00.665Z"
   },
   {
    "duration": 3,
    "start_time": "2025-01-11T09:26:00.999Z"
   },
   {
    "duration": 407,
    "start_time": "2025-01-11T09:26:01.004Z"
   },
   {
    "duration": 1332,
    "start_time": "2025-01-11T09:27:01.983Z"
   },
   {
    "duration": 3,
    "start_time": "2025-01-11T09:27:03.317Z"
   },
   {
    "duration": 117,
    "start_time": "2025-01-11T09:27:03.321Z"
   },
   {
    "duration": 2,
    "start_time": "2025-01-11T09:27:03.440Z"
   },
   {
    "duration": 22,
    "start_time": "2025-01-11T09:27:03.444Z"
   },
   {
    "duration": 6,
    "start_time": "2025-01-11T09:27:03.467Z"
   },
   {
    "duration": 24,
    "start_time": "2025-01-11T09:27:03.474Z"
   },
   {
    "duration": 280,
    "start_time": "2025-01-11T09:27:03.499Z"
   },
   {
    "duration": 12,
    "start_time": "2025-01-11T09:27:03.781Z"
   },
   {
    "duration": 16,
    "start_time": "2025-01-11T09:27:03.795Z"
   },
   {
    "duration": 7,
    "start_time": "2025-01-11T09:27:03.813Z"
   },
   {
    "duration": 227,
    "start_time": "2025-01-11T09:27:03.821Z"
   },
   {
    "duration": 6,
    "start_time": "2025-01-11T09:27:04.049Z"
   },
   {
    "duration": 759,
    "start_time": "2025-01-11T09:27:04.056Z"
   },
   {
    "duration": 455,
    "start_time": "2025-01-11T09:27:04.817Z"
   },
   {
    "duration": 499,
    "start_time": "2025-01-11T09:27:05.273Z"
   },
   {
    "duration": 336,
    "start_time": "2025-01-11T09:27:05.773Z"
   },
   {
    "duration": 4,
    "start_time": "2025-01-11T09:27:06.111Z"
   },
   {
    "duration": 415,
    "start_time": "2025-01-11T09:27:06.117Z"
   },
   {
    "duration": 9,
    "start_time": "2025-01-11T09:31:12.414Z"
   },
   {
    "duration": 111,
    "start_time": "2025-01-11T09:34:57.448Z"
   },
   {
    "duration": 1311,
    "start_time": "2025-01-11T09:35:04.405Z"
   },
   {
    "duration": 3,
    "start_time": "2025-01-11T09:35:05.718Z"
   },
   {
    "duration": 121,
    "start_time": "2025-01-11T09:35:05.722Z"
   },
   {
    "duration": 3,
    "start_time": "2025-01-11T09:35:05.845Z"
   },
   {
    "duration": 31,
    "start_time": "2025-01-11T09:35:05.849Z"
   },
   {
    "duration": 11,
    "start_time": "2025-01-11T09:35:05.881Z"
   },
   {
    "duration": 28,
    "start_time": "2025-01-11T09:35:05.893Z"
   },
   {
    "duration": 256,
    "start_time": "2025-01-11T09:35:05.922Z"
   },
   {
    "duration": 14,
    "start_time": "2025-01-11T09:35:06.180Z"
   },
   {
    "duration": 30,
    "start_time": "2025-01-11T09:35:06.196Z"
   },
   {
    "duration": 31,
    "start_time": "2025-01-11T09:35:06.228Z"
   },
   {
    "duration": 246,
    "start_time": "2025-01-11T09:35:06.261Z"
   },
   {
    "duration": 6,
    "start_time": "2025-01-11T09:35:06.509Z"
   },
   {
    "duration": 815,
    "start_time": "2025-01-11T09:35:06.516Z"
   },
   {
    "duration": 453,
    "start_time": "2025-01-11T09:35:07.333Z"
   },
   {
    "duration": 489,
    "start_time": "2025-01-11T09:35:07.788Z"
   },
   {
    "duration": 312,
    "start_time": "2025-01-11T09:35:08.278Z"
   },
   {
    "duration": 3,
    "start_time": "2025-01-11T09:35:08.592Z"
   },
   {
    "duration": 406,
    "start_time": "2025-01-11T09:35:08.596Z"
   },
   {
    "duration": 3,
    "start_time": "2025-01-11T09:35:09.004Z"
   },
   {
    "duration": 11,
    "start_time": "2025-01-11T09:35:09.009Z"
   },
   {
    "duration": 10,
    "start_time": "2025-01-11T09:35:09.022Z"
   },
   {
    "duration": 9,
    "start_time": "2025-01-11T09:35:09.034Z"
   },
   {
    "duration": 5,
    "start_time": "2025-01-11T09:35:22.805Z"
   },
   {
    "duration": 1333,
    "start_time": "2025-01-11T09:37:03.876Z"
   },
   {
    "duration": 2,
    "start_time": "2025-01-11T09:37:05.212Z"
   },
   {
    "duration": 92,
    "start_time": "2025-01-11T09:37:05.216Z"
   },
   {
    "duration": 3,
    "start_time": "2025-01-11T09:37:05.310Z"
   },
   {
    "duration": 35,
    "start_time": "2025-01-11T09:37:05.314Z"
   },
   {
    "duration": 53,
    "start_time": "2025-01-11T09:37:05.350Z"
   },
   {
    "duration": 13,
    "start_time": "2025-01-11T09:37:05.405Z"
   },
   {
    "duration": 280,
    "start_time": "2025-01-11T09:37:05.420Z"
   },
   {
    "duration": 10,
    "start_time": "2025-01-11T09:37:05.702Z"
   },
   {
    "duration": 89,
    "start_time": "2025-01-11T09:37:05.714Z"
   },
   {
    "duration": 63,
    "start_time": "2025-01-11T09:37:05.805Z"
   },
   {
    "duration": 250,
    "start_time": "2025-01-11T09:37:05.870Z"
   },
   {
    "duration": 5,
    "start_time": "2025-01-11T09:37:06.122Z"
   },
   {
    "duration": 783,
    "start_time": "2025-01-11T09:37:06.128Z"
   },
   {
    "duration": 454,
    "start_time": "2025-01-11T09:37:06.913Z"
   },
   {
    "duration": 485,
    "start_time": "2025-01-11T09:37:07.368Z"
   },
   {
    "duration": 324,
    "start_time": "2025-01-11T09:37:07.855Z"
   },
   {
    "duration": 8,
    "start_time": "2025-01-11T09:37:08.180Z"
   },
   {
    "duration": 402,
    "start_time": "2025-01-11T09:37:08.189Z"
   },
   {
    "duration": 4,
    "start_time": "2025-01-11T09:37:08.592Z"
   },
   {
    "duration": 10,
    "start_time": "2025-01-11T09:37:08.597Z"
   },
   {
    "duration": 9,
    "start_time": "2025-01-11T09:37:08.608Z"
   },
   {
    "duration": 10,
    "start_time": "2025-01-11T09:37:08.618Z"
   },
   {
    "duration": 8,
    "start_time": "2025-01-11T09:37:08.629Z"
   },
   {
    "duration": 4,
    "start_time": "2025-01-11T09:37:08.638Z"
   },
   {
    "duration": 1278,
    "start_time": "2025-01-11T09:37:36.241Z"
   },
   {
    "duration": 2,
    "start_time": "2025-01-11T09:37:37.521Z"
   },
   {
    "duration": 63,
    "start_time": "2025-01-11T09:37:37.525Z"
   },
   {
    "duration": 2,
    "start_time": "2025-01-11T09:37:37.590Z"
   },
   {
    "duration": 18,
    "start_time": "2025-01-11T09:37:37.594Z"
   },
   {
    "duration": 3,
    "start_time": "2025-01-11T09:37:37.613Z"
   },
   {
    "duration": 29,
    "start_time": "2025-01-11T09:37:37.617Z"
   },
   {
    "duration": 251,
    "start_time": "2025-01-11T09:37:37.648Z"
   },
   {
    "duration": 9,
    "start_time": "2025-01-11T09:37:37.901Z"
   },
   {
    "duration": 8,
    "start_time": "2025-01-11T09:37:37.911Z"
   },
   {
    "duration": 15,
    "start_time": "2025-01-11T09:37:37.921Z"
   },
   {
    "duration": 224,
    "start_time": "2025-01-11T09:37:37.937Z"
   },
   {
    "duration": 6,
    "start_time": "2025-01-11T09:37:38.163Z"
   },
   {
    "duration": 736,
    "start_time": "2025-01-11T09:37:38.171Z"
   },
   {
    "duration": 461,
    "start_time": "2025-01-11T09:37:38.908Z"
   },
   {
    "duration": 496,
    "start_time": "2025-01-11T09:37:39.371Z"
   },
   {
    "duration": 326,
    "start_time": "2025-01-11T09:37:39.868Z"
   },
   {
    "duration": 4,
    "start_time": "2025-01-11T09:37:40.196Z"
   },
   {
    "duration": 400,
    "start_time": "2025-01-11T09:37:40.202Z"
   },
   {
    "duration": 4,
    "start_time": "2025-01-11T09:37:40.603Z"
   },
   {
    "duration": 14,
    "start_time": "2025-01-11T09:37:40.609Z"
   },
   {
    "duration": 19,
    "start_time": "2025-01-11T09:37:40.624Z"
   },
   {
    "duration": 19,
    "start_time": "2025-01-11T09:37:40.644Z"
   },
   {
    "duration": 26,
    "start_time": "2025-01-11T09:37:40.665Z"
   },
   {
    "duration": 25,
    "start_time": "2025-01-11T09:37:40.692Z"
   },
   {
    "duration": 1411,
    "start_time": "2025-01-11T09:38:33.731Z"
   },
   {
    "duration": 1277,
    "start_time": "2025-01-11T09:38:53.432Z"
   },
   {
    "duration": 2,
    "start_time": "2025-01-11T09:38:54.712Z"
   },
   {
    "duration": 51,
    "start_time": "2025-01-11T09:38:54.716Z"
   },
   {
    "duration": 2,
    "start_time": "2025-01-11T09:38:54.769Z"
   },
   {
    "duration": 19,
    "start_time": "2025-01-11T09:38:54.772Z"
   },
   {
    "duration": 3,
    "start_time": "2025-01-11T09:38:54.792Z"
   },
   {
    "duration": 11,
    "start_time": "2025-01-11T09:38:54.796Z"
   },
   {
    "duration": 264,
    "start_time": "2025-01-11T09:38:54.809Z"
   },
   {
    "duration": 13,
    "start_time": "2025-01-11T09:38:55.075Z"
   },
   {
    "duration": 2,
    "start_time": "2025-01-11T09:38:55.091Z"
   },
   {
    "duration": 9,
    "start_time": "2025-01-11T09:38:55.095Z"
   },
   {
    "duration": 236,
    "start_time": "2025-01-11T09:38:55.105Z"
   },
   {
    "duration": 6,
    "start_time": "2025-01-11T09:38:55.342Z"
   },
   {
    "duration": 842,
    "start_time": "2025-01-11T09:38:55.349Z"
   },
   {
    "duration": 464,
    "start_time": "2025-01-11T09:38:56.192Z"
   },
   {
    "duration": 484,
    "start_time": "2025-01-11T09:38:56.657Z"
   },
   {
    "duration": 329,
    "start_time": "2025-01-11T09:38:57.142Z"
   },
   {
    "duration": 3,
    "start_time": "2025-01-11T09:38:57.472Z"
   },
   {
    "duration": 354,
    "start_time": "2025-01-11T09:38:57.476Z"
   },
   {
    "duration": 3,
    "start_time": "2025-01-11T09:38:57.832Z"
   },
   {
    "duration": 24,
    "start_time": "2025-01-11T09:38:57.837Z"
   },
   {
    "duration": 24,
    "start_time": "2025-01-11T09:38:57.862Z"
   },
   {
    "duration": 19,
    "start_time": "2025-01-11T09:38:57.888Z"
   },
   {
    "duration": 7,
    "start_time": "2025-01-11T09:38:57.908Z"
   },
   {
    "duration": 4,
    "start_time": "2025-01-11T09:38:57.917Z"
   },
   {
    "duration": 1337,
    "start_time": "2025-01-11T09:39:21.766Z"
   },
   {
    "duration": 3,
    "start_time": "2025-01-11T09:39:23.104Z"
   },
   {
    "duration": 55,
    "start_time": "2025-01-11T09:39:23.108Z"
   },
   {
    "duration": 3,
    "start_time": "2025-01-11T09:39:23.164Z"
   },
   {
    "duration": 20,
    "start_time": "2025-01-11T09:39:23.170Z"
   },
   {
    "duration": 10,
    "start_time": "2025-01-11T09:39:23.191Z"
   },
   {
    "duration": 20,
    "start_time": "2025-01-11T09:39:23.203Z"
   },
   {
    "duration": 250,
    "start_time": "2025-01-11T09:39:23.225Z"
   },
   {
    "duration": 12,
    "start_time": "2025-01-11T09:39:23.477Z"
   },
   {
    "duration": 17,
    "start_time": "2025-01-11T09:39:23.490Z"
   },
   {
    "duration": 6,
    "start_time": "2025-01-11T09:39:23.508Z"
   },
   {
    "duration": 231,
    "start_time": "2025-01-11T09:39:23.515Z"
   },
   {
    "duration": 6,
    "start_time": "2025-01-11T09:39:23.747Z"
   },
   {
    "duration": 752,
    "start_time": "2025-01-11T09:39:23.755Z"
   },
   {
    "duration": 451,
    "start_time": "2025-01-11T09:39:24.509Z"
   },
   {
    "duration": 481,
    "start_time": "2025-01-11T09:39:24.962Z"
   },
   {
    "duration": 345,
    "start_time": "2025-01-11T09:39:25.445Z"
   },
   {
    "duration": 3,
    "start_time": "2025-01-11T09:39:25.792Z"
   },
   {
    "duration": 403,
    "start_time": "2025-01-11T09:39:25.797Z"
   },
   {
    "duration": 3,
    "start_time": "2025-01-11T09:39:26.202Z"
   },
   {
    "duration": 15,
    "start_time": "2025-01-11T09:39:26.207Z"
   },
   {
    "duration": 19,
    "start_time": "2025-01-11T09:39:26.223Z"
   },
   {
    "duration": 21,
    "start_time": "2025-01-11T09:39:26.243Z"
   },
   {
    "duration": 27,
    "start_time": "2025-01-11T09:39:26.265Z"
   },
   {
    "duration": 4,
    "start_time": "2025-01-11T09:39:26.294Z"
   },
   {
    "duration": 19,
    "start_time": "2025-01-11T09:39:57.473Z"
   },
   {
    "duration": 1323,
    "start_time": "2025-01-11T09:40:02.490Z"
   },
   {
    "duration": 2,
    "start_time": "2025-01-11T09:40:03.816Z"
   },
   {
    "duration": 69,
    "start_time": "2025-01-11T09:40:03.820Z"
   },
   {
    "duration": 3,
    "start_time": "2025-01-11T09:40:03.892Z"
   },
   {
    "duration": 34,
    "start_time": "2025-01-11T09:40:03.897Z"
   },
   {
    "duration": 3,
    "start_time": "2025-01-11T09:40:03.933Z"
   },
   {
    "duration": 14,
    "start_time": "2025-01-11T09:40:03.937Z"
   },
   {
    "duration": 263,
    "start_time": "2025-01-11T09:40:03.952Z"
   },
   {
    "duration": 9,
    "start_time": "2025-01-11T09:40:04.217Z"
   },
   {
    "duration": 6,
    "start_time": "2025-01-11T09:40:04.228Z"
   },
   {
    "duration": 15,
    "start_time": "2025-01-11T09:40:04.235Z"
   },
   {
    "duration": 236,
    "start_time": "2025-01-11T09:40:04.252Z"
   },
   {
    "duration": 5,
    "start_time": "2025-01-11T09:40:04.490Z"
   },
   {
    "duration": 762,
    "start_time": "2025-01-11T09:40:04.497Z"
   },
   {
    "duration": 483,
    "start_time": "2025-01-11T09:40:05.261Z"
   },
   {
    "duration": 472,
    "start_time": "2025-01-11T09:40:05.746Z"
   },
   {
    "duration": 329,
    "start_time": "2025-01-11T09:40:06.219Z"
   },
   {
    "duration": 7,
    "start_time": "2025-01-11T09:40:06.549Z"
   },
   {
    "duration": 27,
    "start_time": "2025-01-11T09:40:06.557Z"
   },
   {
    "duration": 422,
    "start_time": "2025-01-11T09:40:06.585Z"
   },
   {
    "duration": 4,
    "start_time": "2025-01-11T09:40:07.009Z"
   },
   {
    "duration": 17,
    "start_time": "2025-01-11T09:40:07.015Z"
   },
   {
    "duration": 32,
    "start_time": "2025-01-11T09:40:07.033Z"
   },
   {
    "duration": 24,
    "start_time": "2025-01-11T09:40:07.067Z"
   },
   {
    "duration": 7,
    "start_time": "2025-01-11T09:40:07.092Z"
   },
   {
    "duration": 5,
    "start_time": "2025-01-11T09:40:07.101Z"
   },
   {
    "duration": 106,
    "start_time": "2025-01-11T09:50:40.277Z"
   },
   {
    "duration": 2,
    "start_time": "2025-01-11T09:50:51.509Z"
   },
   {
    "duration": 381,
    "start_time": "2025-01-11T09:51:02.612Z"
   },
   {
    "duration": 274,
    "start_time": "2025-01-11T09:51:47.651Z"
   },
   {
    "duration": 1275,
    "start_time": "2025-01-11T09:51:59.333Z"
   },
   {
    "duration": 3,
    "start_time": "2025-01-11T09:52:00.610Z"
   },
   {
    "duration": 72,
    "start_time": "2025-01-11T09:52:00.614Z"
   },
   {
    "duration": 3,
    "start_time": "2025-01-11T09:52:00.688Z"
   },
   {
    "duration": 35,
    "start_time": "2025-01-11T09:52:00.693Z"
   },
   {
    "duration": 6,
    "start_time": "2025-01-11T09:52:00.730Z"
   },
   {
    "duration": 17,
    "start_time": "2025-01-11T09:52:00.737Z"
   },
   {
    "duration": 250,
    "start_time": "2025-01-11T09:52:00.755Z"
   },
   {
    "duration": 9,
    "start_time": "2025-01-11T09:52:01.007Z"
   },
   {
    "duration": 19,
    "start_time": "2025-01-11T09:52:01.018Z"
   },
   {
    "duration": 7,
    "start_time": "2025-01-11T09:52:01.038Z"
   },
   {
    "duration": 226,
    "start_time": "2025-01-11T09:52:01.046Z"
   },
   {
    "duration": 12,
    "start_time": "2025-01-11T09:52:01.274Z"
   },
   {
    "duration": 738,
    "start_time": "2025-01-11T09:52:01.289Z"
   },
   {
    "duration": 447,
    "start_time": "2025-01-11T09:52:02.029Z"
   },
   {
    "duration": 485,
    "start_time": "2025-01-11T09:52:02.477Z"
   },
   {
    "duration": 330,
    "start_time": "2025-01-11T09:52:02.964Z"
   },
   {
    "duration": 6,
    "start_time": "2025-01-11T09:52:03.295Z"
   },
   {
    "duration": 11,
    "start_time": "2025-01-11T09:52:03.302Z"
   },
   {
    "duration": 403,
    "start_time": "2025-01-11T09:52:03.314Z"
   },
   {
    "duration": 4,
    "start_time": "2025-01-11T09:52:03.719Z"
   },
   {
    "duration": 11,
    "start_time": "2025-01-11T09:52:03.724Z"
   },
   {
    "duration": 19,
    "start_time": "2025-01-11T09:52:03.737Z"
   },
   {
    "duration": 42,
    "start_time": "2025-01-11T09:52:03.757Z"
   },
   {
    "duration": 7,
    "start_time": "2025-01-11T09:52:03.800Z"
   },
   {
    "duration": 27,
    "start_time": "2025-01-11T09:52:03.808Z"
   },
   {
    "duration": 68,
    "start_time": "2025-01-11T09:52:03.837Z"
   },
   {
    "duration": 685,
    "start_time": "2025-01-11T09:52:03.907Z"
   },
   {
    "duration": 101,
    "start_time": "2025-01-11T09:52:24.563Z"
   },
   {
    "duration": 1279,
    "start_time": "2025-01-11T09:52:30.026Z"
   },
   {
    "duration": 3,
    "start_time": "2025-01-11T09:52:31.306Z"
   },
   {
    "duration": 97,
    "start_time": "2025-01-11T09:52:31.311Z"
   },
   {
    "duration": 3,
    "start_time": "2025-01-11T09:52:31.411Z"
   },
   {
    "duration": 23,
    "start_time": "2025-01-11T09:52:31.416Z"
   },
   {
    "duration": 4,
    "start_time": "2025-01-11T09:52:31.440Z"
   },
   {
    "duration": 39,
    "start_time": "2025-01-11T09:52:31.446Z"
   },
   {
    "duration": 265,
    "start_time": "2025-01-11T09:52:31.487Z"
   },
   {
    "duration": 11,
    "start_time": "2025-01-11T09:52:31.754Z"
   },
   {
    "duration": 18,
    "start_time": "2025-01-11T09:52:31.768Z"
   },
   {
    "duration": 6,
    "start_time": "2025-01-11T09:52:31.788Z"
   },
   {
    "duration": 238,
    "start_time": "2025-01-11T09:52:31.796Z"
   },
   {
    "duration": 7,
    "start_time": "2025-01-11T09:52:32.036Z"
   },
   {
    "duration": 773,
    "start_time": "2025-01-11T09:52:32.045Z"
   },
   {
    "duration": 446,
    "start_time": "2025-01-11T09:52:32.820Z"
   },
   {
    "duration": 491,
    "start_time": "2025-01-11T09:52:33.268Z"
   },
   {
    "duration": 333,
    "start_time": "2025-01-11T09:52:33.762Z"
   },
   {
    "duration": 7,
    "start_time": "2025-01-11T09:52:34.097Z"
   },
   {
    "duration": 37,
    "start_time": "2025-01-11T09:52:34.105Z"
   },
   {
    "duration": 496,
    "start_time": "2025-01-11T09:52:34.144Z"
   },
   {
    "duration": 4,
    "start_time": "2025-01-11T09:52:34.641Z"
   },
   {
    "duration": 9,
    "start_time": "2025-01-11T09:52:34.647Z"
   },
   {
    "duration": 35,
    "start_time": "2025-01-11T09:52:34.658Z"
   },
   {
    "duration": 21,
    "start_time": "2025-01-11T09:52:34.695Z"
   },
   {
    "duration": 12,
    "start_time": "2025-01-11T09:52:34.717Z"
   },
   {
    "duration": 4,
    "start_time": "2025-01-11T09:52:34.731Z"
   },
   {
    "duration": 6,
    "start_time": "2025-01-11T09:52:34.737Z"
   },
   {
    "duration": 110,
    "start_time": "2025-01-11T09:52:34.746Z"
   },
   {
    "duration": 470,
    "start_time": "2025-01-11T09:52:44.419Z"
   },
   {
    "duration": 263,
    "start_time": "2025-01-11T09:53:10.530Z"
   },
   {
    "duration": 27,
    "start_time": "2025-01-11T09:53:26.961Z"
   },
   {
    "duration": 1370,
    "start_time": "2025-01-11T09:53:32.813Z"
   },
   {
    "duration": 3,
    "start_time": "2025-01-11T09:53:34.185Z"
   },
   {
    "duration": 165,
    "start_time": "2025-01-11T09:53:34.189Z"
   },
   {
    "duration": 2,
    "start_time": "2025-01-11T09:53:34.356Z"
   },
   {
    "duration": 43,
    "start_time": "2025-01-11T09:53:34.360Z"
   },
   {
    "duration": 4,
    "start_time": "2025-01-11T09:53:34.405Z"
   },
   {
    "duration": 23,
    "start_time": "2025-01-11T09:53:34.410Z"
   },
   {
    "duration": 275,
    "start_time": "2025-01-11T09:53:34.435Z"
   },
   {
    "duration": 10,
    "start_time": "2025-01-11T09:53:34.711Z"
   },
   {
    "duration": 41,
    "start_time": "2025-01-11T09:53:34.722Z"
   },
   {
    "duration": 48,
    "start_time": "2025-01-11T09:53:34.765Z"
   },
   {
    "duration": 231,
    "start_time": "2025-01-11T09:53:34.815Z"
   },
   {
    "duration": 6,
    "start_time": "2025-01-11T09:53:35.047Z"
   },
   {
    "duration": 764,
    "start_time": "2025-01-11T09:53:35.055Z"
   },
   {
    "duration": 444,
    "start_time": "2025-01-11T09:53:35.821Z"
   },
   {
    "duration": 492,
    "start_time": "2025-01-11T09:53:36.266Z"
   },
   {
    "duration": 328,
    "start_time": "2025-01-11T09:53:36.759Z"
   },
   {
    "duration": 6,
    "start_time": "2025-01-11T09:53:37.088Z"
   },
   {
    "duration": 16,
    "start_time": "2025-01-11T09:53:37.096Z"
   },
   {
    "duration": 418,
    "start_time": "2025-01-11T09:53:37.114Z"
   },
   {
    "duration": 4,
    "start_time": "2025-01-11T09:53:37.534Z"
   },
   {
    "duration": 22,
    "start_time": "2025-01-11T09:53:37.539Z"
   },
   {
    "duration": 24,
    "start_time": "2025-01-11T09:53:37.562Z"
   },
   {
    "duration": 20,
    "start_time": "2025-01-11T09:53:37.588Z"
   },
   {
    "duration": 8,
    "start_time": "2025-01-11T09:53:37.610Z"
   },
   {
    "duration": 4,
    "start_time": "2025-01-11T09:53:37.620Z"
   },
   {
    "duration": 6,
    "start_time": "2025-01-11T09:53:37.625Z"
   },
   {
    "duration": 759,
    "start_time": "2025-01-11T09:53:37.633Z"
   },
   {
    "duration": 82,
    "start_time": "2025-01-11T09:53:43.984Z"
   },
   {
    "duration": 295,
    "start_time": "2025-01-11T09:53:49.474Z"
   },
   {
    "duration": 1295,
    "start_time": "2025-01-11T09:53:57.037Z"
   },
   {
    "duration": 3,
    "start_time": "2025-01-11T09:53:58.333Z"
   },
   {
    "duration": 76,
    "start_time": "2025-01-11T09:53:58.337Z"
   },
   {
    "duration": 3,
    "start_time": "2025-01-11T09:53:58.415Z"
   },
   {
    "duration": 18,
    "start_time": "2025-01-11T09:53:58.419Z"
   },
   {
    "duration": 3,
    "start_time": "2025-01-11T09:53:58.438Z"
   },
   {
    "duration": 23,
    "start_time": "2025-01-11T09:53:58.442Z"
   },
   {
    "duration": 279,
    "start_time": "2025-01-11T09:53:58.466Z"
   },
   {
    "duration": 9,
    "start_time": "2025-01-11T09:53:58.747Z"
   },
   {
    "duration": 9,
    "start_time": "2025-01-11T09:53:58.759Z"
   },
   {
    "duration": 18,
    "start_time": "2025-01-11T09:53:58.769Z"
   },
   {
    "duration": 242,
    "start_time": "2025-01-11T09:53:58.788Z"
   },
   {
    "duration": 6,
    "start_time": "2025-01-11T09:53:59.031Z"
   },
   {
    "duration": 769,
    "start_time": "2025-01-11T09:53:59.038Z"
   },
   {
    "duration": 460,
    "start_time": "2025-01-11T09:53:59.808Z"
   },
   {
    "duration": 487,
    "start_time": "2025-01-11T09:54:00.269Z"
   },
   {
    "duration": 324,
    "start_time": "2025-01-11T09:54:00.758Z"
   },
   {
    "duration": 6,
    "start_time": "2025-01-11T09:54:01.086Z"
   },
   {
    "duration": 35,
    "start_time": "2025-01-11T09:54:01.094Z"
   },
   {
    "duration": 402,
    "start_time": "2025-01-11T09:54:01.130Z"
   },
   {
    "duration": 3,
    "start_time": "2025-01-11T09:54:01.534Z"
   },
   {
    "duration": 24,
    "start_time": "2025-01-11T09:54:01.538Z"
   },
   {
    "duration": 37,
    "start_time": "2025-01-11T09:54:01.563Z"
   },
   {
    "duration": 39,
    "start_time": "2025-01-11T09:54:01.602Z"
   },
   {
    "duration": 31,
    "start_time": "2025-01-11T09:54:01.643Z"
   },
   {
    "duration": 15,
    "start_time": "2025-01-11T09:54:01.676Z"
   },
   {
    "duration": 35,
    "start_time": "2025-01-11T09:54:01.693Z"
   },
   {
    "duration": 562,
    "start_time": "2025-01-11T09:54:01.731Z"
   },
   {
    "duration": 313,
    "start_time": "2025-01-11T09:54:12.560Z"
   },
   {
    "duration": 1289,
    "start_time": "2025-01-11T09:54:19.326Z"
   },
   {
    "duration": 3,
    "start_time": "2025-01-11T09:54:20.617Z"
   },
   {
    "duration": 53,
    "start_time": "2025-01-11T09:54:20.621Z"
   },
   {
    "duration": 3,
    "start_time": "2025-01-11T09:54:20.675Z"
   },
   {
    "duration": 17,
    "start_time": "2025-01-11T09:54:20.680Z"
   },
   {
    "duration": 4,
    "start_time": "2025-01-11T09:54:20.698Z"
   },
   {
    "duration": 13,
    "start_time": "2025-01-11T09:54:20.703Z"
   },
   {
    "duration": 276,
    "start_time": "2025-01-11T09:54:20.717Z"
   },
   {
    "duration": 9,
    "start_time": "2025-01-11T09:54:20.995Z"
   },
   {
    "duration": 6,
    "start_time": "2025-01-11T09:54:21.006Z"
   },
   {
    "duration": 7,
    "start_time": "2025-01-11T09:54:21.013Z"
   },
   {
    "duration": 245,
    "start_time": "2025-01-11T09:54:21.021Z"
   },
   {
    "duration": 6,
    "start_time": "2025-01-11T09:54:21.268Z"
   },
   {
    "duration": 753,
    "start_time": "2025-01-11T09:54:21.286Z"
   },
   {
    "duration": 445,
    "start_time": "2025-01-11T09:54:22.040Z"
   },
   {
    "duration": 513,
    "start_time": "2025-01-11T09:54:22.487Z"
   },
   {
    "duration": 328,
    "start_time": "2025-01-11T09:54:23.001Z"
   },
   {
    "duration": 6,
    "start_time": "2025-01-11T09:54:23.331Z"
   },
   {
    "duration": 17,
    "start_time": "2025-01-11T09:54:23.338Z"
   },
   {
    "duration": 398,
    "start_time": "2025-01-11T09:54:23.356Z"
   },
   {
    "duration": 4,
    "start_time": "2025-01-11T09:54:23.755Z"
   },
   {
    "duration": 9,
    "start_time": "2025-01-11T09:54:23.760Z"
   },
   {
    "duration": 34,
    "start_time": "2025-01-11T09:54:23.770Z"
   },
   {
    "duration": 20,
    "start_time": "2025-01-11T09:54:23.805Z"
   },
   {
    "duration": 7,
    "start_time": "2025-01-11T09:54:23.826Z"
   },
   {
    "duration": 50,
    "start_time": "2025-01-11T09:54:23.834Z"
   },
   {
    "duration": 6,
    "start_time": "2025-01-11T09:54:23.886Z"
   },
   {
    "duration": 595,
    "start_time": "2025-01-11T09:54:23.893Z"
   },
   {
    "duration": 1314,
    "start_time": "2025-01-11T09:56:30.991Z"
   },
   {
    "duration": 2,
    "start_time": "2025-01-11T09:56:32.307Z"
   },
   {
    "duration": 71,
    "start_time": "2025-01-11T09:56:32.311Z"
   },
   {
    "duration": 3,
    "start_time": "2025-01-11T09:56:32.384Z"
   },
   {
    "duration": 42,
    "start_time": "2025-01-11T09:56:32.388Z"
   },
   {
    "duration": 3,
    "start_time": "2025-01-11T09:56:32.432Z"
   },
   {
    "duration": 18,
    "start_time": "2025-01-11T09:56:32.436Z"
   },
   {
    "duration": 258,
    "start_time": "2025-01-11T09:56:32.455Z"
   },
   {
    "duration": 9,
    "start_time": "2025-01-11T09:56:32.715Z"
   },
   {
    "duration": 22,
    "start_time": "2025-01-11T09:56:32.727Z"
   },
   {
    "duration": 10,
    "start_time": "2025-01-11T09:56:32.751Z"
   },
   {
    "duration": 231,
    "start_time": "2025-01-11T09:56:32.762Z"
   },
   {
    "duration": 5,
    "start_time": "2025-01-11T09:56:32.995Z"
   },
   {
    "duration": 781,
    "start_time": "2025-01-11T09:56:33.002Z"
   },
   {
    "duration": 476,
    "start_time": "2025-01-11T09:56:33.784Z"
   },
   {
    "duration": 495,
    "start_time": "2025-01-11T09:56:34.262Z"
   },
   {
    "duration": 331,
    "start_time": "2025-01-11T09:56:34.759Z"
   },
   {
    "duration": 7,
    "start_time": "2025-01-11T09:56:35.091Z"
   },
   {
    "duration": 17,
    "start_time": "2025-01-11T09:56:35.099Z"
   },
   {
    "duration": 395,
    "start_time": "2025-01-11T09:56:35.118Z"
   },
   {
    "duration": 4,
    "start_time": "2025-01-11T09:56:35.514Z"
   },
   {
    "duration": 47,
    "start_time": "2025-01-11T09:56:35.520Z"
   },
   {
    "duration": 39,
    "start_time": "2025-01-11T09:56:35.568Z"
   },
   {
    "duration": 27,
    "start_time": "2025-01-11T09:56:35.609Z"
   },
   {
    "duration": 8,
    "start_time": "2025-01-11T09:56:35.637Z"
   },
   {
    "duration": 13,
    "start_time": "2025-01-11T09:56:35.646Z"
   },
   {
    "duration": 3,
    "start_time": "2025-01-11T09:56:35.661Z"
   },
   {
    "duration": 721,
    "start_time": "2025-01-11T09:56:35.667Z"
   },
   {
    "duration": 113,
    "start_time": "2025-01-11T09:57:06.974Z"
   },
   {
    "duration": 1402,
    "start_time": "2025-01-11T09:59:26.445Z"
   },
   {
    "duration": 2,
    "start_time": "2025-01-11T09:59:27.849Z"
   },
   {
    "duration": 52,
    "start_time": "2025-01-11T09:59:27.853Z"
   },
   {
    "duration": 3,
    "start_time": "2025-01-11T09:59:27.907Z"
   },
   {
    "duration": 19,
    "start_time": "2025-01-11T09:59:27.911Z"
   },
   {
    "duration": 3,
    "start_time": "2025-01-11T09:59:27.931Z"
   },
   {
    "duration": 11,
    "start_time": "2025-01-11T09:59:27.935Z"
   },
   {
    "duration": 275,
    "start_time": "2025-01-11T09:59:27.947Z"
   },
   {
    "duration": 10,
    "start_time": "2025-01-11T09:59:28.223Z"
   },
   {
    "duration": 18,
    "start_time": "2025-01-11T09:59:28.235Z"
   },
   {
    "duration": 6,
    "start_time": "2025-01-11T09:59:28.254Z"
   },
   {
    "duration": 223,
    "start_time": "2025-01-11T09:59:28.261Z"
   },
   {
    "duration": 7,
    "start_time": "2025-01-11T09:59:28.486Z"
   },
   {
    "duration": 761,
    "start_time": "2025-01-11T09:59:28.494Z"
   },
   {
    "duration": 463,
    "start_time": "2025-01-11T09:59:29.256Z"
   },
   {
    "duration": 450,
    "start_time": "2025-01-11T09:59:29.721Z"
   },
   {
    "duration": 324,
    "start_time": "2025-01-11T09:59:30.172Z"
   },
   {
    "duration": 6,
    "start_time": "2025-01-11T09:59:30.498Z"
   },
   {
    "duration": 18,
    "start_time": "2025-01-11T09:59:30.506Z"
   },
   {
    "duration": 385,
    "start_time": "2025-01-11T09:59:30.526Z"
   },
   {
    "duration": 3,
    "start_time": "2025-01-11T09:59:30.913Z"
   },
   {
    "duration": 12,
    "start_time": "2025-01-11T09:59:30.917Z"
   },
   {
    "duration": 19,
    "start_time": "2025-01-11T09:59:30.930Z"
   },
   {
    "duration": 40,
    "start_time": "2025-01-11T09:59:30.950Z"
   },
   {
    "duration": 7,
    "start_time": "2025-01-11T09:59:30.992Z"
   },
   {
    "duration": 15,
    "start_time": "2025-01-11T09:59:31.000Z"
   },
   {
    "duration": 7,
    "start_time": "2025-01-11T09:59:31.017Z"
   },
   {
    "duration": 862,
    "start_time": "2025-01-11T09:59:31.027Z"
   },
   {
    "duration": 212,
    "start_time": "2025-01-11T09:59:31.894Z"
   },
   {
    "duration": 1291,
    "start_time": "2025-01-11T10:02:07.731Z"
   },
   {
    "duration": 2,
    "start_time": "2025-01-11T10:02:09.024Z"
   },
   {
    "duration": 54,
    "start_time": "2025-01-11T10:02:09.028Z"
   },
   {
    "duration": 3,
    "start_time": "2025-01-11T10:02:09.084Z"
   },
   {
    "duration": 36,
    "start_time": "2025-01-11T10:02:09.088Z"
   },
   {
    "duration": 3,
    "start_time": "2025-01-11T10:02:09.125Z"
   },
   {
    "duration": 17,
    "start_time": "2025-01-11T10:02:09.130Z"
   },
   {
    "duration": 243,
    "start_time": "2025-01-11T10:02:09.148Z"
   },
   {
    "duration": 10,
    "start_time": "2025-01-11T10:02:09.392Z"
   },
   {
    "duration": 7,
    "start_time": "2025-01-11T10:02:09.403Z"
   },
   {
    "duration": 6,
    "start_time": "2025-01-11T10:02:09.411Z"
   },
   {
    "duration": 255,
    "start_time": "2025-01-11T10:02:09.419Z"
   },
   {
    "duration": 13,
    "start_time": "2025-01-11T10:02:09.676Z"
   },
   {
    "duration": 738,
    "start_time": "2025-01-11T10:02:09.693Z"
   },
   {
    "duration": 442,
    "start_time": "2025-01-11T10:02:10.433Z"
   },
   {
    "duration": 475,
    "start_time": "2025-01-11T10:02:10.877Z"
   },
   {
    "duration": 319,
    "start_time": "2025-01-11T10:02:11.354Z"
   },
   {
    "duration": 15,
    "start_time": "2025-01-11T10:02:11.675Z"
   },
   {
    "duration": 24,
    "start_time": "2025-01-11T10:02:11.691Z"
   },
   {
    "duration": 401,
    "start_time": "2025-01-11T10:02:11.716Z"
   },
   {
    "duration": 4,
    "start_time": "2025-01-11T10:02:12.120Z"
   },
   {
    "duration": 12,
    "start_time": "2025-01-11T10:02:12.126Z"
   },
   {
    "duration": 32,
    "start_time": "2025-01-11T10:02:12.139Z"
   },
   {
    "duration": 23,
    "start_time": "2025-01-11T10:02:12.173Z"
   },
   {
    "duration": 42,
    "start_time": "2025-01-11T10:02:12.197Z"
   },
   {
    "duration": 4,
    "start_time": "2025-01-11T10:02:12.241Z"
   },
   {
    "duration": 14,
    "start_time": "2025-01-11T10:02:12.247Z"
   },
   {
    "duration": 925,
    "start_time": "2025-01-11T10:02:12.263Z"
   },
   {
    "duration": 216,
    "start_time": "2025-01-11T10:02:13.192Z"
   },
   {
    "duration": 0,
    "start_time": "2025-01-11T10:02:13.410Z"
   },
   {
    "duration": 1370,
    "start_time": "2025-01-11T10:04:41.547Z"
   },
   {
    "duration": 3,
    "start_time": "2025-01-11T10:04:42.918Z"
   },
   {
    "duration": 51,
    "start_time": "2025-01-11T10:04:42.922Z"
   },
   {
    "duration": 3,
    "start_time": "2025-01-11T10:04:42.975Z"
   },
   {
    "duration": 24,
    "start_time": "2025-01-11T10:04:42.979Z"
   },
   {
    "duration": 10,
    "start_time": "2025-01-11T10:04:43.005Z"
   },
   {
    "duration": 22,
    "start_time": "2025-01-11T10:04:43.017Z"
   },
   {
    "duration": 253,
    "start_time": "2025-01-11T10:04:43.041Z"
   },
   {
    "duration": 11,
    "start_time": "2025-01-11T10:04:43.296Z"
   },
   {
    "duration": 3,
    "start_time": "2025-01-11T10:04:43.310Z"
   },
   {
    "duration": 6,
    "start_time": "2025-01-11T10:04:43.315Z"
   },
   {
    "duration": 256,
    "start_time": "2025-01-11T10:04:43.323Z"
   },
   {
    "duration": 10,
    "start_time": "2025-01-11T10:04:43.581Z"
   },
   {
    "duration": 774,
    "start_time": "2025-01-11T10:04:43.593Z"
   },
   {
    "duration": 487,
    "start_time": "2025-01-11T10:04:44.369Z"
   },
   {
    "duration": 504,
    "start_time": "2025-01-11T10:04:44.858Z"
   },
   {
    "duration": 352,
    "start_time": "2025-01-11T10:04:45.364Z"
   },
   {
    "duration": 8,
    "start_time": "2025-01-11T10:04:45.718Z"
   },
   {
    "duration": 17,
    "start_time": "2025-01-11T10:04:45.728Z"
   },
   {
    "duration": 411,
    "start_time": "2025-01-11T10:04:45.747Z"
   },
   {
    "duration": 5,
    "start_time": "2025-01-11T10:04:46.160Z"
   },
   {
    "duration": 24,
    "start_time": "2025-01-11T10:04:46.166Z"
   },
   {
    "duration": 88,
    "start_time": "2025-01-11T10:04:46.192Z"
   },
   {
    "duration": 20,
    "start_time": "2025-01-11T10:04:46.282Z"
   },
   {
    "duration": 7,
    "start_time": "2025-01-11T10:04:46.304Z"
   },
   {
    "duration": 17,
    "start_time": "2025-01-11T10:04:46.312Z"
   },
   {
    "duration": 11,
    "start_time": "2025-01-11T10:04:46.331Z"
   },
   {
    "duration": 442,
    "start_time": "2025-01-11T10:04:46.345Z"
   },
   {
    "duration": 210,
    "start_time": "2025-01-11T10:04:46.789Z"
   },
   {
    "duration": 0,
    "start_time": "2025-01-11T10:04:47.001Z"
   },
   {
    "duration": 624,
    "start_time": "2025-01-11T10:04:59.412Z"
   },
   {
    "duration": 624,
    "start_time": "2025-01-11T10:05:15.636Z"
   },
   {
    "duration": 623,
    "start_time": "2025-01-11T10:06:13.204Z"
   },
   {
    "duration": 840,
    "start_time": "2025-01-11T10:07:09.954Z"
   },
   {
    "duration": 596,
    "start_time": "2025-01-11T10:07:25.761Z"
   },
   {
    "duration": 1403,
    "start_time": "2025-01-11T10:19:50.473Z"
   },
   {
    "duration": 3,
    "start_time": "2025-01-11T10:19:51.878Z"
   },
   {
    "duration": 51,
    "start_time": "2025-01-11T10:19:51.886Z"
   },
   {
    "duration": 3,
    "start_time": "2025-01-11T10:19:51.939Z"
   },
   {
    "duration": 82,
    "start_time": "2025-01-11T10:19:51.945Z"
   },
   {
    "duration": 22,
    "start_time": "2025-01-11T10:19:52.029Z"
   },
   {
    "duration": 13,
    "start_time": "2025-01-11T10:19:52.053Z"
   },
   {
    "duration": 248,
    "start_time": "2025-01-11T10:19:52.067Z"
   },
   {
    "duration": 10,
    "start_time": "2025-01-11T10:19:52.317Z"
   },
   {
    "duration": 36,
    "start_time": "2025-01-11T10:19:52.329Z"
   },
   {
    "duration": 19,
    "start_time": "2025-01-11T10:19:52.367Z"
   },
   {
    "duration": 242,
    "start_time": "2025-01-11T10:19:52.387Z"
   },
   {
    "duration": 6,
    "start_time": "2025-01-11T10:19:52.631Z"
   },
   {
    "duration": 770,
    "start_time": "2025-01-11T10:19:52.641Z"
   },
   {
    "duration": 456,
    "start_time": "2025-01-11T10:19:53.412Z"
   },
   {
    "duration": 489,
    "start_time": "2025-01-11T10:19:53.870Z"
   },
   {
    "duration": 330,
    "start_time": "2025-01-11T10:19:54.360Z"
   },
   {
    "duration": 6,
    "start_time": "2025-01-11T10:19:54.692Z"
   },
   {
    "duration": 20,
    "start_time": "2025-01-11T10:19:54.699Z"
   },
   {
    "duration": 392,
    "start_time": "2025-01-11T10:19:54.720Z"
   },
   {
    "duration": 3,
    "start_time": "2025-01-11T10:19:55.114Z"
   },
   {
    "duration": 7,
    "start_time": "2025-01-11T10:19:55.119Z"
   },
   {
    "duration": 25,
    "start_time": "2025-01-11T10:19:55.128Z"
   },
   {
    "duration": 36,
    "start_time": "2025-01-11T10:19:55.154Z"
   },
   {
    "duration": 7,
    "start_time": "2025-01-11T10:19:55.192Z"
   },
   {
    "duration": 17,
    "start_time": "2025-01-11T10:19:55.200Z"
   },
   {
    "duration": 21,
    "start_time": "2025-01-11T10:19:55.218Z"
   },
   {
    "duration": 452,
    "start_time": "2025-01-11T10:19:55.241Z"
   },
   {
    "duration": 786,
    "start_time": "2025-01-11T10:19:55.695Z"
   },
   {
    "duration": 122,
    "start_time": "2025-01-11T10:19:56.486Z"
   },
   {
    "duration": 1440,
    "start_time": "2025-01-11T10:28:58.753Z"
   },
   {
    "duration": 2,
    "start_time": "2025-01-11T10:29:00.195Z"
   },
   {
    "duration": 77,
    "start_time": "2025-01-11T10:29:00.198Z"
   },
   {
    "duration": 2,
    "start_time": "2025-01-11T10:29:00.277Z"
   },
   {
    "duration": 78,
    "start_time": "2025-01-11T10:29:00.281Z"
   },
   {
    "duration": 34,
    "start_time": "2025-01-11T10:29:00.360Z"
   },
   {
    "duration": 39,
    "start_time": "2025-01-11T10:29:00.395Z"
   },
   {
    "duration": 251,
    "start_time": "2025-01-11T10:29:00.436Z"
   },
   {
    "duration": 9,
    "start_time": "2025-01-11T10:29:00.689Z"
   },
   {
    "duration": 49,
    "start_time": "2025-01-11T10:29:00.701Z"
   },
   {
    "duration": 14,
    "start_time": "2025-01-11T10:29:00.751Z"
   },
   {
    "duration": 225,
    "start_time": "2025-01-11T10:29:00.766Z"
   },
   {
    "duration": 6,
    "start_time": "2025-01-11T10:29:00.993Z"
   },
   {
    "duration": 758,
    "start_time": "2025-01-11T10:29:01.001Z"
   },
   {
    "duration": 497,
    "start_time": "2025-01-11T10:29:01.761Z"
   },
   {
    "duration": 483,
    "start_time": "2025-01-11T10:29:02.260Z"
   },
   {
    "duration": 334,
    "start_time": "2025-01-11T10:29:02.744Z"
   },
   {
    "duration": 11,
    "start_time": "2025-01-11T10:29:03.079Z"
   },
   {
    "duration": 4,
    "start_time": "2025-01-11T10:29:03.091Z"
   },
   {
    "duration": 419,
    "start_time": "2025-01-11T10:29:03.097Z"
   },
   {
    "duration": 4,
    "start_time": "2025-01-11T10:29:03.517Z"
   },
   {
    "duration": 20,
    "start_time": "2025-01-11T10:29:03.523Z"
   },
   {
    "duration": 22,
    "start_time": "2025-01-11T10:29:03.544Z"
   },
   {
    "duration": 34,
    "start_time": "2025-01-11T10:29:03.568Z"
   },
   {
    "duration": 56,
    "start_time": "2025-01-11T10:29:03.603Z"
   },
   {
    "duration": 4,
    "start_time": "2025-01-11T10:29:03.661Z"
   },
   {
    "duration": 23,
    "start_time": "2025-01-11T10:29:03.666Z"
   },
   {
    "duration": 795,
    "start_time": "2025-01-11T10:29:03.692Z"
   },
   {
    "duration": 512,
    "start_time": "2025-01-11T10:29:04.490Z"
   },
   {
    "duration": 133,
    "start_time": "2025-01-11T10:29:05.004Z"
   },
   {
    "duration": 1362,
    "start_time": "2025-01-11T10:35:04.812Z"
   },
   {
    "duration": 2,
    "start_time": "2025-01-11T10:35:06.176Z"
   },
   {
    "duration": 86,
    "start_time": "2025-01-11T10:35:06.180Z"
   },
   {
    "duration": 3,
    "start_time": "2025-01-11T10:35:06.268Z"
   },
   {
    "duration": 59,
    "start_time": "2025-01-11T10:35:06.272Z"
   },
   {
    "duration": 2,
    "start_time": "2025-01-11T10:35:06.333Z"
   },
   {
    "duration": 29,
    "start_time": "2025-01-11T10:35:06.336Z"
   },
   {
    "duration": 246,
    "start_time": "2025-01-11T10:35:06.367Z"
   },
   {
    "duration": 9,
    "start_time": "2025-01-11T10:35:06.615Z"
   },
   {
    "duration": 5,
    "start_time": "2025-01-11T10:35:06.627Z"
   },
   {
    "duration": 11,
    "start_time": "2025-01-11T10:35:06.634Z"
   },
   {
    "duration": 242,
    "start_time": "2025-01-11T10:35:06.646Z"
   },
   {
    "duration": 5,
    "start_time": "2025-01-11T10:35:06.890Z"
   },
   {
    "duration": 744,
    "start_time": "2025-01-11T10:35:06.897Z"
   },
   {
    "duration": 476,
    "start_time": "2025-01-11T10:35:07.643Z"
   },
   {
    "duration": 469,
    "start_time": "2025-01-11T10:35:08.121Z"
   },
   {
    "duration": 330,
    "start_time": "2025-01-11T10:35:08.592Z"
   },
   {
    "duration": 8,
    "start_time": "2025-01-11T10:35:08.924Z"
   },
   {
    "duration": 5,
    "start_time": "2025-01-11T10:35:08.934Z"
   },
   {
    "duration": 429,
    "start_time": "2025-01-11T10:35:08.941Z"
   },
   {
    "duration": 15,
    "start_time": "2025-01-11T10:35:09.372Z"
   },
   {
    "duration": 10,
    "start_time": "2025-01-11T10:35:09.389Z"
   },
   {
    "duration": 23,
    "start_time": "2025-01-11T10:35:09.401Z"
   },
   {
    "duration": 80,
    "start_time": "2025-01-11T10:35:09.426Z"
   },
   {
    "duration": 7,
    "start_time": "2025-01-11T10:35:09.507Z"
   },
   {
    "duration": 15,
    "start_time": "2025-01-11T10:35:09.516Z"
   },
   {
    "duration": 24,
    "start_time": "2025-01-11T10:35:09.532Z"
   },
   {
    "duration": 829,
    "start_time": "2025-01-11T10:35:09.559Z"
   },
   {
    "duration": 512,
    "start_time": "2025-01-11T10:35:10.390Z"
   },
   {
    "duration": 127,
    "start_time": "2025-01-11T10:35:10.904Z"
   },
   {
    "duration": 1368,
    "start_time": "2025-01-11T10:35:51.019Z"
   },
   {
    "duration": 2,
    "start_time": "2025-01-11T10:35:52.389Z"
   },
   {
    "duration": 84,
    "start_time": "2025-01-11T10:35:52.393Z"
   },
   {
    "duration": 3,
    "start_time": "2025-01-11T10:35:52.479Z"
   },
   {
    "duration": 30,
    "start_time": "2025-01-11T10:35:52.483Z"
   },
   {
    "duration": 3,
    "start_time": "2025-01-11T10:35:52.515Z"
   },
   {
    "duration": 31,
    "start_time": "2025-01-11T10:35:52.520Z"
   },
   {
    "duration": 245,
    "start_time": "2025-01-11T10:35:52.552Z"
   },
   {
    "duration": 9,
    "start_time": "2025-01-11T10:35:52.799Z"
   },
   {
    "duration": 11,
    "start_time": "2025-01-11T10:35:52.811Z"
   },
   {
    "duration": 6,
    "start_time": "2025-01-11T10:35:52.824Z"
   },
   {
    "duration": 302,
    "start_time": "2025-01-11T10:35:52.831Z"
   },
   {
    "duration": 6,
    "start_time": "2025-01-11T10:35:53.135Z"
   },
   {
    "duration": 693,
    "start_time": "2025-01-11T10:35:53.142Z"
   },
   {
    "duration": 458,
    "start_time": "2025-01-11T10:35:53.837Z"
   },
   {
    "duration": 471,
    "start_time": "2025-01-11T10:35:54.297Z"
   },
   {
    "duration": 396,
    "start_time": "2025-01-11T10:35:54.770Z"
   },
   {
    "duration": 19,
    "start_time": "2025-01-11T10:35:55.167Z"
   },
   {
    "duration": 3,
    "start_time": "2025-01-11T10:35:55.188Z"
   },
   {
    "duration": 340,
    "start_time": "2025-01-11T10:35:55.192Z"
   },
   {
    "duration": 4,
    "start_time": "2025-01-11T10:35:55.534Z"
   },
   {
    "duration": 9,
    "start_time": "2025-01-11T10:35:55.540Z"
   },
   {
    "duration": 51,
    "start_time": "2025-01-11T10:35:55.551Z"
   },
   {
    "duration": 25,
    "start_time": "2025-01-11T10:35:55.604Z"
   },
   {
    "duration": 11,
    "start_time": "2025-01-11T10:35:55.631Z"
   },
   {
    "duration": 59,
    "start_time": "2025-01-11T10:35:55.644Z"
   },
   {
    "duration": 6,
    "start_time": "2025-01-11T10:35:55.704Z"
   },
   {
    "duration": 674,
    "start_time": "2025-01-11T10:35:55.713Z"
   },
   {
    "duration": 509,
    "start_time": "2025-01-11T10:35:56.389Z"
   },
   {
    "duration": 1420,
    "start_time": "2025-01-11T10:39:58.670Z"
   },
   {
    "duration": 3,
    "start_time": "2025-01-11T10:40:00.092Z"
   },
   {
    "duration": 96,
    "start_time": "2025-01-11T10:40:00.096Z"
   },
   {
    "duration": 3,
    "start_time": "2025-01-11T10:40:00.193Z"
   },
   {
    "duration": 72,
    "start_time": "2025-01-11T10:40:00.197Z"
   },
   {
    "duration": 92,
    "start_time": "2025-01-11T10:40:00.271Z"
   },
   {
    "duration": 83,
    "start_time": "2025-01-11T10:40:00.365Z"
   },
   {
    "duration": 270,
    "start_time": "2025-01-11T10:40:00.450Z"
   },
   {
    "duration": 10,
    "start_time": "2025-01-11T10:40:00.722Z"
   },
   {
    "duration": 17,
    "start_time": "2025-01-11T10:40:00.735Z"
   },
   {
    "duration": 8,
    "start_time": "2025-01-11T10:40:00.754Z"
   },
   {
    "duration": 291,
    "start_time": "2025-01-11T10:40:00.763Z"
   },
   {
    "duration": 6,
    "start_time": "2025-01-11T10:40:01.055Z"
   },
   {
    "duration": 699,
    "start_time": "2025-01-11T10:40:01.063Z"
   },
   {
    "duration": 492,
    "start_time": "2025-01-11T10:40:01.764Z"
   },
   {
    "duration": 475,
    "start_time": "2025-01-11T10:40:02.258Z"
   },
   {
    "duration": 414,
    "start_time": "2025-01-11T10:40:02.735Z"
   },
   {
    "duration": 9,
    "start_time": "2025-01-11T10:40:03.151Z"
   },
   {
    "duration": 34,
    "start_time": "2025-01-11T10:40:03.162Z"
   },
   {
    "duration": 341,
    "start_time": "2025-01-11T10:40:03.197Z"
   },
   {
    "duration": 4,
    "start_time": "2025-01-11T10:40:03.540Z"
   },
   {
    "duration": 23,
    "start_time": "2025-01-11T10:40:03.545Z"
   },
   {
    "duration": 56,
    "start_time": "2025-01-11T10:40:03.570Z"
   },
   {
    "duration": 21,
    "start_time": "2025-01-11T10:40:03.627Z"
   },
   {
    "duration": 9,
    "start_time": "2025-01-11T10:40:03.649Z"
   },
   {
    "duration": 74,
    "start_time": "2025-01-11T10:40:03.659Z"
   },
   {
    "duration": 4,
    "start_time": "2025-01-11T10:40:03.735Z"
   },
   {
    "duration": 346,
    "start_time": "2025-01-11T10:40:03.742Z"
   },
   {
    "duration": 508,
    "start_time": "2025-01-11T10:40:04.090Z"
   },
   {
    "duration": 1364,
    "start_time": "2025-01-11T10:47:06.225Z"
   },
   {
    "duration": 3,
    "start_time": "2025-01-11T10:47:07.591Z"
   },
   {
    "duration": 60,
    "start_time": "2025-01-11T10:47:07.595Z"
   },
   {
    "duration": 3,
    "start_time": "2025-01-11T10:47:07.656Z"
   },
   {
    "duration": 28,
    "start_time": "2025-01-11T10:47:07.661Z"
   },
   {
    "duration": 3,
    "start_time": "2025-01-11T10:47:07.690Z"
   },
   {
    "duration": 96,
    "start_time": "2025-01-11T10:47:07.695Z"
   },
   {
    "duration": 267,
    "start_time": "2025-01-11T10:47:07.792Z"
   },
   {
    "duration": 12,
    "start_time": "2025-01-11T10:47:08.061Z"
   },
   {
    "duration": 58,
    "start_time": "2025-01-11T10:47:08.086Z"
   },
   {
    "duration": 7,
    "start_time": "2025-01-11T10:47:08.145Z"
   },
   {
    "duration": 286,
    "start_time": "2025-01-11T10:47:08.153Z"
   },
   {
    "duration": 8,
    "start_time": "2025-01-11T10:47:08.441Z"
   },
   {
    "duration": 722,
    "start_time": "2025-01-11T10:47:08.453Z"
   },
   {
    "duration": 483,
    "start_time": "2025-01-11T10:47:09.177Z"
   },
   {
    "duration": 491,
    "start_time": "2025-01-11T10:47:09.661Z"
   },
   {
    "duration": 407,
    "start_time": "2025-01-11T10:47:10.153Z"
   },
   {
    "duration": 7,
    "start_time": "2025-01-11T10:47:10.562Z"
   },
   {
    "duration": 4,
    "start_time": "2025-01-11T10:47:10.570Z"
   },
   {
    "duration": 330,
    "start_time": "2025-01-11T10:47:10.586Z"
   },
   {
    "duration": 4,
    "start_time": "2025-01-11T10:47:10.918Z"
   },
   {
    "duration": 17,
    "start_time": "2025-01-11T10:47:10.923Z"
   },
   {
    "duration": 30,
    "start_time": "2025-01-11T10:47:10.942Z"
   },
   {
    "duration": 28,
    "start_time": "2025-01-11T10:47:10.973Z"
   },
   {
    "duration": 9,
    "start_time": "2025-01-11T10:47:11.003Z"
   },
   {
    "duration": 5,
    "start_time": "2025-01-11T10:47:11.013Z"
   },
   {
    "duration": 7,
    "start_time": "2025-01-11T10:47:11.019Z"
   },
   {
    "duration": 866,
    "start_time": "2025-01-11T10:47:11.027Z"
   },
   {
    "duration": 577,
    "start_time": "2025-01-11T10:47:11.895Z"
   },
   {
    "duration": 81792,
    "start_time": "2025-01-11T10:47:12.474Z"
   },
   {
    "duration": 1455,
    "start_time": "2025-01-11T11:08:38.209Z"
   },
   {
    "duration": 3,
    "start_time": "2025-01-11T11:08:39.666Z"
   },
   {
    "duration": 65,
    "start_time": "2025-01-11T11:08:39.670Z"
   },
   {
    "duration": 3,
    "start_time": "2025-01-11T11:08:39.737Z"
   },
   {
    "duration": 40,
    "start_time": "2025-01-11T11:08:39.741Z"
   },
   {
    "duration": 32,
    "start_time": "2025-01-11T11:08:39.782Z"
   },
   {
    "duration": 17,
    "start_time": "2025-01-11T11:08:39.816Z"
   },
   {
    "duration": 257,
    "start_time": "2025-01-11T11:08:39.835Z"
   },
   {
    "duration": 9,
    "start_time": "2025-01-11T11:08:40.094Z"
   },
   {
    "duration": 6,
    "start_time": "2025-01-11T11:08:40.106Z"
   },
   {
    "duration": 9,
    "start_time": "2025-01-11T11:08:40.113Z"
   },
   {
    "duration": 297,
    "start_time": "2025-01-11T11:08:40.124Z"
   },
   {
    "duration": 6,
    "start_time": "2025-01-11T11:08:40.423Z"
   },
   {
    "duration": 660,
    "start_time": "2025-01-11T11:08:40.430Z"
   },
   {
    "duration": 467,
    "start_time": "2025-01-11T11:08:41.092Z"
   },
   {
    "duration": 480,
    "start_time": "2025-01-11T11:08:41.560Z"
   },
   {
    "duration": 398,
    "start_time": "2025-01-11T11:08:42.042Z"
   },
   {
    "duration": 6,
    "start_time": "2025-01-11T11:08:42.441Z"
   },
   {
    "duration": 5,
    "start_time": "2025-01-11T11:08:42.449Z"
   },
   {
    "duration": 335,
    "start_time": "2025-01-11T11:08:42.455Z"
   },
   {
    "duration": 4,
    "start_time": "2025-01-11T11:08:42.791Z"
   },
   {
    "duration": 26,
    "start_time": "2025-01-11T11:08:42.797Z"
   },
   {
    "duration": 21,
    "start_time": "2025-01-11T11:08:42.825Z"
   },
   {
    "duration": 22,
    "start_time": "2025-01-11T11:08:42.847Z"
   },
   {
    "duration": 9,
    "start_time": "2025-01-11T11:08:42.886Z"
   },
   {
    "duration": 9,
    "start_time": "2025-01-11T11:08:42.896Z"
   },
   {
    "duration": 4,
    "start_time": "2025-01-11T11:08:42.906Z"
   },
   {
    "duration": 575,
    "start_time": "2025-01-11T11:08:42.912Z"
   },
   {
    "duration": 501,
    "start_time": "2025-01-11T11:08:43.489Z"
   },
   {
    "duration": 83279,
    "start_time": "2025-01-11T11:08:43.991Z"
   },
   {
    "duration": 121,
    "start_time": "2025-01-11T11:10:07.272Z"
   },
   {
    "duration": 39,
    "start_time": "2025-01-11T11:11:46.057Z"
   },
   {
    "duration": 1360,
    "start_time": "2025-01-11T11:12:26.631Z"
   },
   {
    "duration": 2,
    "start_time": "2025-01-11T11:12:27.993Z"
   },
   {
    "duration": 61,
    "start_time": "2025-01-11T11:12:27.997Z"
   },
   {
    "duration": 3,
    "start_time": "2025-01-11T11:12:28.059Z"
   },
   {
    "duration": 23,
    "start_time": "2025-01-11T11:12:28.064Z"
   },
   {
    "duration": 9,
    "start_time": "2025-01-11T11:12:28.088Z"
   },
   {
    "duration": 30,
    "start_time": "2025-01-11T11:12:28.099Z"
   },
   {
    "duration": 262,
    "start_time": "2025-01-11T11:12:28.131Z"
   },
   {
    "duration": 9,
    "start_time": "2025-01-11T11:12:28.395Z"
   },
   {
    "duration": 9,
    "start_time": "2025-01-11T11:12:28.406Z"
   },
   {
    "duration": 5,
    "start_time": "2025-01-11T11:12:28.417Z"
   },
   {
    "duration": 337,
    "start_time": "2025-01-11T11:12:28.424Z"
   },
   {
    "duration": 5,
    "start_time": "2025-01-11T11:12:28.763Z"
   },
   {
    "duration": 718,
    "start_time": "2025-01-11T11:12:28.771Z"
   },
   {
    "duration": 478,
    "start_time": "2025-01-11T11:12:29.490Z"
   },
   {
    "duration": 501,
    "start_time": "2025-01-11T11:12:29.970Z"
   },
   {
    "duration": 443,
    "start_time": "2025-01-11T11:12:30.473Z"
   },
   {
    "duration": 8,
    "start_time": "2025-01-11T11:12:30.918Z"
   },
   {
    "duration": 8,
    "start_time": "2025-01-11T11:12:30.928Z"
   },
   {
    "duration": 363,
    "start_time": "2025-01-11T11:12:30.937Z"
   },
   {
    "duration": 5,
    "start_time": "2025-01-11T11:12:31.302Z"
   },
   {
    "duration": 21,
    "start_time": "2025-01-11T11:12:31.308Z"
   },
   {
    "duration": 31,
    "start_time": "2025-01-11T11:12:31.331Z"
   },
   {
    "duration": 30,
    "start_time": "2025-01-11T11:12:31.364Z"
   },
   {
    "duration": 9,
    "start_time": "2025-01-11T11:12:31.396Z"
   },
   {
    "duration": 11,
    "start_time": "2025-01-11T11:12:31.407Z"
   },
   {
    "duration": 11,
    "start_time": "2025-01-11T11:12:31.420Z"
   },
   {
    "duration": 459,
    "start_time": "2025-01-11T11:12:31.433Z"
   },
   {
    "duration": 613,
    "start_time": "2025-01-11T11:12:31.894Z"
   },
   {
    "duration": 83336,
    "start_time": "2025-01-11T11:12:32.509Z"
   },
   {
    "duration": 85,
    "start_time": "2025-01-11T11:13:55.847Z"
   },
   {
    "duration": 41,
    "start_time": "2025-01-11T11:14:52.981Z"
   },
   {
    "duration": 40,
    "start_time": "2025-01-11T11:15:07.943Z"
   },
   {
    "duration": 40,
    "start_time": "2025-01-11T11:15:12.821Z"
   },
   {
    "duration": 1396,
    "start_time": "2025-01-11T11:18:05.812Z"
   },
   {
    "duration": 2,
    "start_time": "2025-01-11T11:18:07.211Z"
   },
   {
    "duration": 51,
    "start_time": "2025-01-11T11:18:07.215Z"
   },
   {
    "duration": 2,
    "start_time": "2025-01-11T11:18:07.268Z"
   },
   {
    "duration": 19,
    "start_time": "2025-01-11T11:18:07.272Z"
   },
   {
    "duration": 3,
    "start_time": "2025-01-11T11:18:07.293Z"
   },
   {
    "duration": 14,
    "start_time": "2025-01-11T11:18:07.297Z"
   },
   {
    "duration": 268,
    "start_time": "2025-01-11T11:18:07.312Z"
   },
   {
    "duration": 11,
    "start_time": "2025-01-11T11:18:07.582Z"
   },
   {
    "duration": 61,
    "start_time": "2025-01-11T11:18:07.595Z"
   },
   {
    "duration": 9,
    "start_time": "2025-01-11T11:18:07.657Z"
   },
   {
    "duration": 287,
    "start_time": "2025-01-11T11:18:07.667Z"
   },
   {
    "duration": 6,
    "start_time": "2025-01-11T11:18:07.955Z"
   },
   {
    "duration": 711,
    "start_time": "2025-01-11T11:18:07.964Z"
   },
   {
    "duration": 480,
    "start_time": "2025-01-11T11:18:08.677Z"
   },
   {
    "duration": 481,
    "start_time": "2025-01-11T11:18:09.158Z"
   },
   {
    "duration": 402,
    "start_time": "2025-01-11T11:18:09.641Z"
   },
   {
    "duration": 7,
    "start_time": "2025-01-11T11:18:10.044Z"
   },
   {
    "duration": 26,
    "start_time": "2025-01-11T11:18:10.052Z"
   },
   {
    "duration": 334,
    "start_time": "2025-01-11T11:18:10.080Z"
   },
   {
    "duration": 3,
    "start_time": "2025-01-11T11:18:10.416Z"
   },
   {
    "duration": 16,
    "start_time": "2025-01-11T11:18:10.421Z"
   },
   {
    "duration": 36,
    "start_time": "2025-01-11T11:18:10.438Z"
   },
   {
    "duration": 28,
    "start_time": "2025-01-11T11:18:10.476Z"
   },
   {
    "duration": 14,
    "start_time": "2025-01-11T11:18:10.505Z"
   },
   {
    "duration": 5,
    "start_time": "2025-01-11T11:18:10.520Z"
   },
   {
    "duration": 10,
    "start_time": "2025-01-11T11:18:10.526Z"
   },
   {
    "duration": 757,
    "start_time": "2025-01-11T11:18:10.537Z"
   },
   {
    "duration": 580,
    "start_time": "2025-01-11T11:18:11.296Z"
   },
   {
    "duration": 82877,
    "start_time": "2025-01-11T11:18:11.877Z"
   },
   {
    "duration": 8,
    "start_time": "2025-01-11T11:19:34.756Z"
   },
   {
    "duration": 223,
    "start_time": "2025-01-11T11:19:34.765Z"
   },
   {
    "duration": 6523,
    "start_time": "2025-01-11T11:19:34.989Z"
   },
   {
    "duration": 7,
    "start_time": "2025-01-11T11:19:48.226Z"
   },
   {
    "duration": 1378,
    "start_time": "2025-01-11T11:22:31.113Z"
   },
   {
    "duration": 3,
    "start_time": "2025-01-11T11:22:32.493Z"
   },
   {
    "duration": 61,
    "start_time": "2025-01-11T11:22:32.497Z"
   },
   {
    "duration": 3,
    "start_time": "2025-01-11T11:22:32.560Z"
   },
   {
    "duration": 36,
    "start_time": "2025-01-11T11:22:32.565Z"
   },
   {
    "duration": 3,
    "start_time": "2025-01-11T11:22:32.602Z"
   },
   {
    "duration": 19,
    "start_time": "2025-01-11T11:22:32.607Z"
   },
   {
    "duration": 276,
    "start_time": "2025-01-11T11:22:32.627Z"
   },
   {
    "duration": 9,
    "start_time": "2025-01-11T11:22:32.904Z"
   },
   {
    "duration": 13,
    "start_time": "2025-01-11T11:22:32.916Z"
   },
   {
    "duration": 6,
    "start_time": "2025-01-11T11:22:32.930Z"
   },
   {
    "duration": 293,
    "start_time": "2025-01-11T11:22:32.937Z"
   },
   {
    "duration": 5,
    "start_time": "2025-01-11T11:22:33.232Z"
   },
   {
    "duration": 654,
    "start_time": "2025-01-11T11:22:33.239Z"
   },
   {
    "duration": 466,
    "start_time": "2025-01-11T11:22:33.894Z"
   },
   {
    "duration": 488,
    "start_time": "2025-01-11T11:22:34.361Z"
   },
   {
    "duration": 398,
    "start_time": "2025-01-11T11:22:34.850Z"
   },
   {
    "duration": 6,
    "start_time": "2025-01-11T11:22:35.250Z"
   },
   {
    "duration": 10,
    "start_time": "2025-01-11T11:22:35.258Z"
   },
   {
    "duration": 347,
    "start_time": "2025-01-11T11:22:35.269Z"
   },
   {
    "duration": 7,
    "start_time": "2025-01-11T11:22:35.618Z"
   },
   {
    "duration": 38,
    "start_time": "2025-01-11T11:22:35.627Z"
   },
   {
    "duration": 37,
    "start_time": "2025-01-11T11:22:35.666Z"
   },
   {
    "duration": 42,
    "start_time": "2025-01-11T11:22:35.704Z"
   },
   {
    "duration": 9,
    "start_time": "2025-01-11T11:22:35.747Z"
   },
   {
    "duration": 24,
    "start_time": "2025-01-11T11:22:35.757Z"
   },
   {
    "duration": 20,
    "start_time": "2025-01-11T11:22:35.783Z"
   },
   {
    "duration": 388,
    "start_time": "2025-01-11T11:22:35.806Z"
   },
   {
    "duration": 511,
    "start_time": "2025-01-11T11:22:36.287Z"
   },
   {
    "duration": 82948,
    "start_time": "2025-01-11T11:22:36.800Z"
   },
   {
    "duration": 15,
    "start_time": "2025-01-11T11:23:59.750Z"
   },
   {
    "duration": 129,
    "start_time": "2025-01-11T11:23:59.786Z"
   },
   {
    "duration": 7118,
    "start_time": "2025-01-11T11:23:59.916Z"
   },
   {
    "duration": 5,
    "start_time": "2025-01-11T11:24:07.037Z"
   },
   {
    "duration": 11,
    "start_time": "2025-01-11T11:24:07.044Z"
   },
   {
    "duration": 11,
    "start_time": "2025-01-11T11:24:39.482Z"
   },
   {
    "duration": 4,
    "start_time": "2025-01-11T11:26:07.978Z"
   },
   {
    "duration": 4,
    "start_time": "2025-01-11T11:26:09.832Z"
   },
   {
    "duration": 8,
    "start_time": "2025-01-11T11:26:11.928Z"
   },
   {
    "duration": 1361,
    "start_time": "2025-01-11T11:26:50.831Z"
   },
   {
    "duration": 3,
    "start_time": "2025-01-11T11:26:52.194Z"
   },
   {
    "duration": 55,
    "start_time": "2025-01-11T11:26:52.199Z"
   },
   {
    "duration": 2,
    "start_time": "2025-01-11T11:26:52.256Z"
   },
   {
    "duration": 38,
    "start_time": "2025-01-11T11:26:52.260Z"
   },
   {
    "duration": 3,
    "start_time": "2025-01-11T11:26:52.299Z"
   },
   {
    "duration": 21,
    "start_time": "2025-01-11T11:26:52.303Z"
   },
   {
    "duration": 272,
    "start_time": "2025-01-11T11:26:52.326Z"
   },
   {
    "duration": 9,
    "start_time": "2025-01-11T11:26:52.600Z"
   },
   {
    "duration": 4,
    "start_time": "2025-01-11T11:26:52.611Z"
   },
   {
    "duration": 14,
    "start_time": "2025-01-11T11:26:52.616Z"
   },
   {
    "duration": 303,
    "start_time": "2025-01-11T11:26:52.631Z"
   },
   {
    "duration": 6,
    "start_time": "2025-01-11T11:26:52.936Z"
   },
   {
    "duration": 681,
    "start_time": "2025-01-11T11:26:52.944Z"
   },
   {
    "duration": 463,
    "start_time": "2025-01-11T11:26:53.627Z"
   },
   {
    "duration": 474,
    "start_time": "2025-01-11T11:26:54.092Z"
   },
   {
    "duration": 423,
    "start_time": "2025-01-11T11:26:54.568Z"
   },
   {
    "duration": 7,
    "start_time": "2025-01-11T11:26:54.993Z"
   },
   {
    "duration": 4,
    "start_time": "2025-01-11T11:26:55.001Z"
   },
   {
    "duration": 349,
    "start_time": "2025-01-11T11:26:55.006Z"
   },
   {
    "duration": 4,
    "start_time": "2025-01-11T11:26:55.357Z"
   },
   {
    "duration": 25,
    "start_time": "2025-01-11T11:26:55.362Z"
   },
   {
    "duration": 22,
    "start_time": "2025-01-11T11:26:55.389Z"
   },
   {
    "duration": 20,
    "start_time": "2025-01-11T11:26:55.412Z"
   },
   {
    "duration": 9,
    "start_time": "2025-01-11T11:26:55.434Z"
   },
   {
    "duration": 5,
    "start_time": "2025-01-11T11:26:55.444Z"
   },
   {
    "duration": 36,
    "start_time": "2025-01-11T11:26:55.451Z"
   },
   {
    "duration": 801,
    "start_time": "2025-01-11T11:26:55.490Z"
   },
   {
    "duration": 545,
    "start_time": "2025-01-11T11:26:56.293Z"
   },
   {
    "duration": 83375,
    "start_time": "2025-01-11T11:26:56.839Z"
   },
   {
    "duration": 9,
    "start_time": "2025-01-11T11:28:20.216Z"
   },
   {
    "duration": 210,
    "start_time": "2025-01-11T11:28:20.227Z"
   },
   {
    "duration": 6381,
    "start_time": "2025-01-11T11:28:20.438Z"
   },
   {
    "duration": 4,
    "start_time": "2025-01-11T11:28:26.821Z"
   },
   {
    "duration": 5,
    "start_time": "2025-01-11T11:28:26.826Z"
   },
   {
    "duration": 10,
    "start_time": "2025-01-11T11:28:26.832Z"
   },
   {
    "duration": 7403,
    "start_time": "2025-01-11T11:28:30.742Z"
   },
   {
    "duration": 1461,
    "start_time": "2025-01-11T11:28:44.152Z"
   },
   {
    "duration": 3,
    "start_time": "2025-01-11T11:28:45.615Z"
   },
   {
    "duration": 54,
    "start_time": "2025-01-11T11:28:45.620Z"
   },
   {
    "duration": 3,
    "start_time": "2025-01-11T11:28:45.676Z"
   },
   {
    "duration": 22,
    "start_time": "2025-01-11T11:28:45.680Z"
   },
   {
    "duration": 8,
    "start_time": "2025-01-11T11:28:45.703Z"
   },
   {
    "duration": 12,
    "start_time": "2025-01-11T11:28:45.712Z"
   },
   {
    "duration": 261,
    "start_time": "2025-01-11T11:28:45.725Z"
   },
   {
    "duration": 9,
    "start_time": "2025-01-11T11:28:45.988Z"
   },
   {
    "duration": 5,
    "start_time": "2025-01-11T11:28:45.999Z"
   },
   {
    "duration": 7,
    "start_time": "2025-01-11T11:28:46.005Z"
   },
   {
    "duration": 299,
    "start_time": "2025-01-11T11:28:46.014Z"
   },
   {
    "duration": 6,
    "start_time": "2025-01-11T11:28:46.314Z"
   },
   {
    "duration": 673,
    "start_time": "2025-01-11T11:28:46.321Z"
   },
   {
    "duration": 467,
    "start_time": "2025-01-11T11:28:46.995Z"
   },
   {
    "duration": 478,
    "start_time": "2025-01-11T11:28:47.464Z"
   },
   {
    "duration": 410,
    "start_time": "2025-01-11T11:28:47.943Z"
   },
   {
    "duration": 7,
    "start_time": "2025-01-11T11:28:48.355Z"
   },
   {
    "duration": 3,
    "start_time": "2025-01-11T11:28:48.363Z"
   },
   {
    "duration": 315,
    "start_time": "2025-01-11T11:28:48.387Z"
   },
   {
    "duration": 4,
    "start_time": "2025-01-11T11:28:48.704Z"
   },
   {
    "duration": 13,
    "start_time": "2025-01-11T11:28:48.709Z"
   },
   {
    "duration": 55,
    "start_time": "2025-01-11T11:28:48.724Z"
   },
   {
    "duration": 39,
    "start_time": "2025-01-11T11:28:48.780Z"
   },
   {
    "duration": 13,
    "start_time": "2025-01-11T11:28:48.820Z"
   },
   {
    "duration": 4,
    "start_time": "2025-01-11T11:28:48.835Z"
   },
   {
    "duration": 4,
    "start_time": "2025-01-11T11:28:48.840Z"
   },
   {
    "duration": 842,
    "start_time": "2025-01-11T11:28:48.847Z"
   },
   {
    "duration": 516,
    "start_time": "2025-01-11T11:28:49.691Z"
   },
   {
    "duration": 83387,
    "start_time": "2025-01-11T11:28:50.209Z"
   },
   {
    "duration": 7,
    "start_time": "2025-01-11T11:30:13.597Z"
   },
   {
    "duration": 203,
    "start_time": "2025-01-11T11:30:13.606Z"
   },
   {
    "duration": 7033,
    "start_time": "2025-01-11T11:30:13.810Z"
   },
   {
    "duration": 4,
    "start_time": "2025-01-11T11:30:20.845Z"
   },
   {
    "duration": 23,
    "start_time": "2025-01-11T11:30:20.851Z"
   },
   {
    "duration": 33,
    "start_time": "2025-01-11T11:30:20.876Z"
   },
   {
    "duration": 1437,
    "start_time": "2025-01-11T11:42:58.918Z"
   },
   {
    "duration": 2,
    "start_time": "2025-01-11T11:43:00.357Z"
   },
   {
    "duration": 140,
    "start_time": "2025-01-11T11:43:00.361Z"
   },
   {
    "duration": 2,
    "start_time": "2025-01-11T11:43:00.503Z"
   },
   {
    "duration": 23,
    "start_time": "2025-01-11T11:43:00.507Z"
   },
   {
    "duration": 3,
    "start_time": "2025-01-11T11:43:00.531Z"
   },
   {
    "duration": 19,
    "start_time": "2025-01-11T11:43:00.535Z"
   },
   {
    "duration": 271,
    "start_time": "2025-01-11T11:43:00.555Z"
   },
   {
    "duration": 10,
    "start_time": "2025-01-11T11:43:00.827Z"
   },
   {
    "duration": 77,
    "start_time": "2025-01-11T11:43:00.839Z"
   },
   {
    "duration": 20,
    "start_time": "2025-01-11T11:43:00.917Z"
   },
   {
    "duration": 283,
    "start_time": "2025-01-11T11:43:00.939Z"
   },
   {
    "duration": 6,
    "start_time": "2025-01-11T11:43:01.224Z"
   },
   {
    "duration": 665,
    "start_time": "2025-01-11T11:43:01.231Z"
   },
   {
    "duration": 470,
    "start_time": "2025-01-11T11:43:01.897Z"
   },
   {
    "duration": 510,
    "start_time": "2025-01-11T11:43:02.369Z"
   },
   {
    "duration": 395,
    "start_time": "2025-01-11T11:43:02.881Z"
   },
   {
    "duration": 12,
    "start_time": "2025-01-11T11:43:03.278Z"
   },
   {
    "duration": 20,
    "start_time": "2025-01-11T11:43:03.292Z"
   },
   {
    "duration": 329,
    "start_time": "2025-01-11T11:43:03.313Z"
   },
   {
    "duration": 4,
    "start_time": "2025-01-11T11:43:03.643Z"
   },
   {
    "duration": 27,
    "start_time": "2025-01-11T11:43:03.648Z"
   },
   {
    "duration": 124,
    "start_time": "2025-01-11T11:43:03.676Z"
   },
   {
    "duration": 21,
    "start_time": "2025-01-11T11:43:03.801Z"
   },
   {
    "duration": 9,
    "start_time": "2025-01-11T11:43:03.823Z"
   },
   {
    "duration": 4,
    "start_time": "2025-01-11T11:43:03.833Z"
   },
   {
    "duration": 20,
    "start_time": "2025-01-11T11:43:03.839Z"
   },
   {
    "duration": 434,
    "start_time": "2025-01-11T11:43:03.862Z"
   },
   {
    "duration": 512,
    "start_time": "2025-01-11T11:43:04.387Z"
   },
   {
    "duration": 82273,
    "start_time": "2025-01-11T11:43:04.901Z"
   },
   {
    "duration": 20,
    "start_time": "2025-01-11T11:44:27.176Z"
   },
   {
    "duration": 212,
    "start_time": "2025-01-11T11:44:27.198Z"
   },
   {
    "duration": 6526,
    "start_time": "2025-01-11T11:44:27.412Z"
   },
   {
    "duration": 4,
    "start_time": "2025-01-11T11:44:33.940Z"
   },
   {
    "duration": 15,
    "start_time": "2025-01-11T11:44:33.945Z"
   },
   {
    "duration": 8,
    "start_time": "2025-01-11T11:44:33.961Z"
   },
   {
    "duration": 1376,
    "start_time": "2025-01-11T15:50:14.434Z"
   },
   {
    "duration": 2,
    "start_time": "2025-01-11T15:50:15.812Z"
   },
   {
    "duration": 63,
    "start_time": "2025-01-11T15:50:15.816Z"
   },
   {
    "duration": 3,
    "start_time": "2025-01-11T15:50:15.880Z"
   },
   {
    "duration": 19,
    "start_time": "2025-01-11T15:50:15.885Z"
   },
   {
    "duration": 12,
    "start_time": "2025-01-11T15:50:15.905Z"
   },
   {
    "duration": 25,
    "start_time": "2025-01-11T15:50:15.918Z"
   },
   {
    "duration": 253,
    "start_time": "2025-01-11T15:50:15.945Z"
   },
   {
    "duration": 10,
    "start_time": "2025-01-11T15:50:16.200Z"
   },
   {
    "duration": 31,
    "start_time": "2025-01-11T15:50:16.211Z"
   },
   {
    "duration": 9,
    "start_time": "2025-01-11T15:50:16.244Z"
   },
   {
    "duration": 291,
    "start_time": "2025-01-11T15:50:16.254Z"
   },
   {
    "duration": 6,
    "start_time": "2025-01-11T15:50:16.547Z"
   },
   {
    "duration": 698,
    "start_time": "2025-01-11T15:50:16.556Z"
   },
   {
    "duration": 489,
    "start_time": "2025-01-11T15:50:17.256Z"
   },
   {
    "duration": 482,
    "start_time": "2025-01-11T15:50:17.747Z"
   },
   {
    "duration": 402,
    "start_time": "2025-01-11T15:50:18.230Z"
   },
   {
    "duration": 7,
    "start_time": "2025-01-11T15:50:18.634Z"
   },
   {
    "duration": 6,
    "start_time": "2025-01-11T15:50:18.642Z"
   },
   {
    "duration": 337,
    "start_time": "2025-01-11T15:50:18.649Z"
   },
   {
    "duration": 4,
    "start_time": "2025-01-11T15:50:18.988Z"
   },
   {
    "duration": 35,
    "start_time": "2025-01-11T15:50:18.993Z"
   },
   {
    "duration": 29,
    "start_time": "2025-01-11T15:50:19.030Z"
   },
   {
    "duration": 20,
    "start_time": "2025-01-11T15:50:19.060Z"
   },
   {
    "duration": 13,
    "start_time": "2025-01-11T15:50:19.082Z"
   },
   {
    "duration": 17,
    "start_time": "2025-01-11T15:50:19.096Z"
   },
   {
    "duration": 10,
    "start_time": "2025-01-11T15:50:19.115Z"
   },
   {
    "duration": 371,
    "start_time": "2025-01-11T15:50:19.126Z"
   },
   {
    "duration": 500,
    "start_time": "2025-01-11T15:50:19.586Z"
   },
   {
    "duration": 84054,
    "start_time": "2025-01-11T15:50:20.088Z"
   },
   {
    "duration": 15,
    "start_time": "2025-01-11T15:51:44.144Z"
   },
   {
    "duration": 153,
    "start_time": "2025-01-11T15:51:44.161Z"
   },
   {
    "duration": 6713,
    "start_time": "2025-01-11T15:51:44.316Z"
   },
   {
    "duration": 5,
    "start_time": "2025-01-11T15:51:51.030Z"
   },
   {
    "duration": 23,
    "start_time": "2025-01-11T15:51:51.036Z"
   },
   {
    "duration": 14,
    "start_time": "2025-01-11T15:51:51.060Z"
   },
   {
    "duration": 1546,
    "start_time": "2025-01-11T16:26:02.829Z"
   },
   {
    "duration": 1500,
    "start_time": "2025-01-11T16:27:28.802Z"
   },
   {
    "duration": 3,
    "start_time": "2025-01-11T16:27:30.304Z"
   },
   {
    "duration": 89,
    "start_time": "2025-01-11T16:27:30.308Z"
   },
   {
    "duration": 2,
    "start_time": "2025-01-11T16:27:30.399Z"
   },
   {
    "duration": 85,
    "start_time": "2025-01-11T16:27:30.403Z"
   },
   {
    "duration": 113,
    "start_time": "2025-01-11T16:27:30.490Z"
   },
   {
    "duration": 18,
    "start_time": "2025-01-11T16:27:30.604Z"
   },
   {
    "duration": 258,
    "start_time": "2025-01-11T16:27:30.624Z"
   },
   {
    "duration": 9,
    "start_time": "2025-01-11T16:27:30.886Z"
   },
   {
    "duration": 47,
    "start_time": "2025-01-11T16:27:30.896Z"
   },
   {
    "duration": 6,
    "start_time": "2025-01-11T16:27:30.945Z"
   },
   {
    "duration": 294,
    "start_time": "2025-01-11T16:27:30.952Z"
   },
   {
    "duration": 6,
    "start_time": "2025-01-11T16:27:31.247Z"
   },
   {
    "duration": 721,
    "start_time": "2025-01-11T16:27:31.256Z"
   },
   {
    "duration": 482,
    "start_time": "2025-01-11T16:27:31.978Z"
   },
   {
    "duration": 510,
    "start_time": "2025-01-11T16:27:32.462Z"
   },
   {
    "duration": 412,
    "start_time": "2025-01-11T16:27:32.974Z"
   },
   {
    "duration": 9,
    "start_time": "2025-01-11T16:27:33.388Z"
   },
   {
    "duration": 355,
    "start_time": "2025-01-11T16:27:33.399Z"
   },
   {
    "duration": 4,
    "start_time": "2025-01-11T16:27:33.755Z"
   },
   {
    "duration": 28,
    "start_time": "2025-01-11T16:27:33.760Z"
   },
   {
    "duration": 22,
    "start_time": "2025-01-11T16:27:33.790Z"
   },
   {
    "duration": 21,
    "start_time": "2025-01-11T16:27:33.814Z"
   },
   {
    "duration": 14,
    "start_time": "2025-01-11T16:27:33.837Z"
   },
   {
    "duration": 5,
    "start_time": "2025-01-11T16:27:33.852Z"
   },
   {
    "duration": 31,
    "start_time": "2025-01-11T16:27:33.858Z"
   },
   {
    "duration": 697,
    "start_time": "2025-01-11T16:27:33.890Z"
   },
   {
    "duration": 502,
    "start_time": "2025-01-11T16:27:34.589Z"
   },
   {
    "duration": 85165,
    "start_time": "2025-01-11T16:27:35.093Z"
   },
   {
    "duration": 9,
    "start_time": "2025-01-11T16:29:00.260Z"
   },
   {
    "duration": 227,
    "start_time": "2025-01-11T16:29:00.271Z"
   },
   {
    "duration": 6495,
    "start_time": "2025-01-11T16:29:00.500Z"
   },
   {
    "duration": 5,
    "start_time": "2025-01-11T16:29:06.997Z"
   },
   {
    "duration": 18,
    "start_time": "2025-01-11T16:29:07.004Z"
   },
   {
    "duration": 15,
    "start_time": "2025-01-11T16:29:07.024Z"
   },
   {
    "duration": 1435,
    "start_time": "2025-01-11T16:41:18.698Z"
   },
   {
    "duration": 2,
    "start_time": "2025-01-11T16:41:20.135Z"
   },
   {
    "duration": 62,
    "start_time": "2025-01-11T16:41:20.138Z"
   },
   {
    "duration": 3,
    "start_time": "2025-01-11T16:41:20.202Z"
   },
   {
    "duration": 19,
    "start_time": "2025-01-11T16:41:20.206Z"
   },
   {
    "duration": 3,
    "start_time": "2025-01-11T16:41:20.226Z"
   },
   {
    "duration": 19,
    "start_time": "2025-01-11T16:41:20.230Z"
   },
   {
    "duration": 284,
    "start_time": "2025-01-11T16:41:20.251Z"
   },
   {
    "duration": 9,
    "start_time": "2025-01-11T16:41:20.536Z"
   },
   {
    "duration": 52,
    "start_time": "2025-01-11T16:41:20.548Z"
   },
   {
    "duration": 5,
    "start_time": "2025-01-11T16:41:20.602Z"
   },
   {
    "duration": 291,
    "start_time": "2025-01-11T16:41:20.609Z"
   },
   {
    "duration": 8,
    "start_time": "2025-01-11T16:41:20.902Z"
   },
   {
    "duration": 691,
    "start_time": "2025-01-11T16:41:20.912Z"
   },
   {
    "duration": 464,
    "start_time": "2025-01-11T16:41:21.605Z"
   },
   {
    "duration": 497,
    "start_time": "2025-01-11T16:41:22.071Z"
   },
   {
    "duration": 435,
    "start_time": "2025-01-11T16:41:22.570Z"
   },
   {
    "duration": 6,
    "start_time": "2025-01-11T16:41:23.007Z"
   },
   {
    "duration": 350,
    "start_time": "2025-01-11T16:41:23.015Z"
   },
   {
    "duration": 3,
    "start_time": "2025-01-11T16:41:23.367Z"
   },
   {
    "duration": 32,
    "start_time": "2025-01-11T16:41:23.372Z"
   },
   {
    "duration": 21,
    "start_time": "2025-01-11T16:41:23.406Z"
   },
   {
    "duration": 20,
    "start_time": "2025-01-11T16:41:23.428Z"
   },
   {
    "duration": 10,
    "start_time": "2025-01-11T16:41:23.450Z"
   },
   {
    "duration": 7,
    "start_time": "2025-01-11T16:41:23.462Z"
   },
   {
    "duration": 10,
    "start_time": "2025-01-11T16:41:23.489Z"
   },
   {
    "duration": 993,
    "start_time": "2025-01-11T16:41:23.500Z"
   },
   {
    "duration": 405,
    "start_time": "2025-01-11T16:41:24.497Z"
   },
   {
    "duration": 83694,
    "start_time": "2025-01-11T16:41:24.904Z"
   },
   {
    "duration": 8,
    "start_time": "2025-01-11T16:42:48.600Z"
   },
   {
    "duration": 207,
    "start_time": "2025-01-11T16:42:48.612Z"
   },
   {
    "duration": 6393,
    "start_time": "2025-01-11T16:42:48.820Z"
   },
   {
    "duration": 4,
    "start_time": "2025-01-11T16:42:55.215Z"
   },
   {
    "duration": 4,
    "start_time": "2025-01-11T16:42:55.221Z"
   },
   {
    "duration": 8,
    "start_time": "2025-01-11T16:42:55.226Z"
   },
   {
    "duration": 7,
    "start_time": "2025-01-11T16:45:15.047Z"
   },
   {
    "duration": 1418,
    "start_time": "2025-01-11T16:45:21.868Z"
   },
   {
    "duration": 3,
    "start_time": "2025-01-11T16:45:23.288Z"
   },
   {
    "duration": 59,
    "start_time": "2025-01-11T16:45:23.293Z"
   },
   {
    "duration": 2,
    "start_time": "2025-01-11T16:45:23.354Z"
   },
   {
    "duration": 27,
    "start_time": "2025-01-11T16:45:23.358Z"
   },
   {
    "duration": 4,
    "start_time": "2025-01-11T16:45:23.386Z"
   },
   {
    "duration": 14,
    "start_time": "2025-01-11T16:45:23.391Z"
   },
   {
    "duration": 260,
    "start_time": "2025-01-11T16:45:23.407Z"
   },
   {
    "duration": 19,
    "start_time": "2025-01-11T16:45:23.668Z"
   },
   {
    "duration": 42,
    "start_time": "2025-01-11T16:45:23.689Z"
   },
   {
    "duration": 20,
    "start_time": "2025-01-11T16:45:23.733Z"
   },
   {
    "duration": 306,
    "start_time": "2025-01-11T16:45:23.755Z"
   },
   {
    "duration": 7,
    "start_time": "2025-01-11T16:45:24.063Z"
   },
   {
    "duration": 704,
    "start_time": "2025-01-11T16:45:24.071Z"
   },
   {
    "duration": 490,
    "start_time": "2025-01-11T16:45:24.777Z"
   },
   {
    "duration": 509,
    "start_time": "2025-01-11T16:45:25.269Z"
   },
   {
    "duration": 420,
    "start_time": "2025-01-11T16:45:25.780Z"
   },
   {
    "duration": 7,
    "start_time": "2025-01-11T16:45:26.202Z"
   },
   {
    "duration": 351,
    "start_time": "2025-01-11T16:45:26.211Z"
   },
   {
    "duration": 5,
    "start_time": "2025-01-11T16:45:26.564Z"
   },
   {
    "duration": 43,
    "start_time": "2025-01-11T16:45:26.571Z"
   },
   {
    "duration": 50,
    "start_time": "2025-01-11T16:45:26.617Z"
   },
   {
    "duration": 27,
    "start_time": "2025-01-11T16:45:26.669Z"
   },
   {
    "duration": 9,
    "start_time": "2025-01-11T16:45:26.698Z"
   },
   {
    "duration": 4,
    "start_time": "2025-01-11T16:45:26.709Z"
   },
   {
    "duration": 5,
    "start_time": "2025-01-11T16:45:26.715Z"
   },
   {
    "duration": 668,
    "start_time": "2025-01-11T16:45:26.721Z"
   },
   {
    "duration": 495,
    "start_time": "2025-01-11T16:45:27.393Z"
   },
   {
    "duration": 79818,
    "start_time": "2025-01-11T16:45:27.890Z"
   },
   {
    "duration": 7,
    "start_time": "2025-01-11T16:46:47.710Z"
   },
   {
    "duration": 6,
    "start_time": "2025-01-11T16:46:47.719Z"
   },
   {
    "duration": 14,
    "start_time": "2025-01-11T16:46:47.727Z"
   },
   {
    "duration": 44,
    "start_time": "2025-01-11T16:46:47.743Z"
   },
   {
    "duration": 135,
    "start_time": "2025-01-11T16:46:47.789Z"
   },
   {
    "duration": 6191,
    "start_time": "2025-01-11T16:46:47.925Z"
   },
   {
    "duration": 5,
    "start_time": "2025-01-11T16:46:54.118Z"
   },
   {
    "duration": 10,
    "start_time": "2025-01-11T16:46:54.124Z"
   },
   {
    "duration": 9,
    "start_time": "2025-01-11T16:46:54.135Z"
   },
   {
    "duration": 120,
    "start_time": "2025-01-11T16:47:27.667Z"
   },
   {
    "duration": 80,
    "start_time": "2025-01-11T16:47:43.426Z"
   },
   {
    "duration": 8,
    "start_time": "2025-01-11T16:47:50.002Z"
   },
   {
    "duration": 1509,
    "start_time": "2025-01-11T16:48:01.162Z"
   },
   {
    "duration": 3,
    "start_time": "2025-01-11T16:48:02.672Z"
   },
   {
    "duration": 99,
    "start_time": "2025-01-11T16:48:02.676Z"
   },
   {
    "duration": 3,
    "start_time": "2025-01-11T16:48:02.777Z"
   },
   {
    "duration": 72,
    "start_time": "2025-01-11T16:48:02.781Z"
   },
   {
    "duration": 3,
    "start_time": "2025-01-11T16:48:02.855Z"
   },
   {
    "duration": 13,
    "start_time": "2025-01-11T16:48:02.859Z"
   },
   {
    "duration": 308,
    "start_time": "2025-01-11T16:48:02.873Z"
   },
   {
    "duration": 9,
    "start_time": "2025-01-11T16:48:03.186Z"
   },
   {
    "duration": 94,
    "start_time": "2025-01-11T16:48:03.198Z"
   },
   {
    "duration": 32,
    "start_time": "2025-01-11T16:48:03.293Z"
   },
   {
    "duration": 289,
    "start_time": "2025-01-11T16:48:03.327Z"
   },
   {
    "duration": 7,
    "start_time": "2025-01-11T16:48:03.618Z"
   },
   {
    "duration": 763,
    "start_time": "2025-01-11T16:48:03.628Z"
   },
   {
    "duration": 470,
    "start_time": "2025-01-11T16:48:04.393Z"
   },
   {
    "duration": 491,
    "start_time": "2025-01-11T16:48:04.865Z"
   },
   {
    "duration": 432,
    "start_time": "2025-01-11T16:48:05.358Z"
   },
   {
    "duration": 6,
    "start_time": "2025-01-11T16:48:05.791Z"
   },
   {
    "duration": 338,
    "start_time": "2025-01-11T16:48:05.799Z"
   },
   {
    "duration": 4,
    "start_time": "2025-01-11T16:48:06.138Z"
   },
   {
    "duration": 45,
    "start_time": "2025-01-11T16:48:06.143Z"
   },
   {
    "duration": 32,
    "start_time": "2025-01-11T16:48:06.190Z"
   },
   {
    "duration": 26,
    "start_time": "2025-01-11T16:48:06.224Z"
   },
   {
    "duration": 12,
    "start_time": "2025-01-11T16:48:06.252Z"
   },
   {
    "duration": 15,
    "start_time": "2025-01-11T16:48:06.266Z"
   },
   {
    "duration": 19,
    "start_time": "2025-01-11T16:48:06.283Z"
   },
   {
    "duration": 885,
    "start_time": "2025-01-11T16:48:06.304Z"
   },
   {
    "duration": 489,
    "start_time": "2025-01-11T16:48:07.197Z"
   },
   {
    "duration": 1378,
    "start_time": "2025-01-11T16:48:30.738Z"
   },
   {
    "duration": 3,
    "start_time": "2025-01-11T16:48:32.118Z"
   },
   {
    "duration": 54,
    "start_time": "2025-01-11T16:48:32.122Z"
   },
   {
    "duration": 3,
    "start_time": "2025-01-11T16:48:32.178Z"
   },
   {
    "duration": 28,
    "start_time": "2025-01-11T16:48:32.182Z"
   },
   {
    "duration": 9,
    "start_time": "2025-01-11T16:48:32.211Z"
   },
   {
    "duration": 18,
    "start_time": "2025-01-11T16:48:32.222Z"
   },
   {
    "duration": 255,
    "start_time": "2025-01-11T16:48:32.242Z"
   },
   {
    "duration": 9,
    "start_time": "2025-01-11T16:48:32.499Z"
   },
   {
    "duration": 157,
    "start_time": "2025-01-11T16:48:32.511Z"
   },
   {
    "duration": 34,
    "start_time": "2025-01-11T16:48:32.670Z"
   },
   {
    "duration": 286,
    "start_time": "2025-01-11T16:48:32.706Z"
   },
   {
    "duration": 7,
    "start_time": "2025-01-11T16:48:32.993Z"
   },
   {
    "duration": 677,
    "start_time": "2025-01-11T16:48:33.002Z"
   },
   {
    "duration": 478,
    "start_time": "2025-01-11T16:48:33.681Z"
   },
   {
    "duration": 501,
    "start_time": "2025-01-11T16:48:34.160Z"
   },
   {
    "duration": 401,
    "start_time": "2025-01-11T16:48:34.662Z"
   },
   {
    "duration": 6,
    "start_time": "2025-01-11T16:48:35.065Z"
   },
   {
    "duration": 338,
    "start_time": "2025-01-11T16:48:35.073Z"
   },
   {
    "duration": 4,
    "start_time": "2025-01-11T16:48:35.412Z"
   },
   {
    "duration": 45,
    "start_time": "2025-01-11T16:48:35.418Z"
   },
   {
    "duration": 41,
    "start_time": "2025-01-11T16:48:35.464Z"
   },
   {
    "duration": 27,
    "start_time": "2025-01-11T16:48:35.507Z"
   },
   {
    "duration": 44,
    "start_time": "2025-01-11T16:48:35.536Z"
   },
   {
    "duration": 25,
    "start_time": "2025-01-11T16:48:35.582Z"
   },
   {
    "duration": 9,
    "start_time": "2025-01-11T16:48:35.609Z"
   },
   {
    "duration": 369,
    "start_time": "2025-01-11T16:48:35.620Z"
   },
   {
    "duration": 519,
    "start_time": "2025-01-11T16:48:35.994Z"
   },
   {
    "duration": 78728,
    "start_time": "2025-01-11T16:48:36.514Z"
   },
   {
    "duration": 4,
    "start_time": "2025-01-11T16:49:55.244Z"
   },
   {
    "duration": 13,
    "start_time": "2025-01-11T16:49:55.250Z"
   },
   {
    "duration": 10,
    "start_time": "2025-01-11T16:49:55.264Z"
   },
   {
    "duration": 30,
    "start_time": "2025-01-11T16:49:55.275Z"
   },
   {
    "duration": 205,
    "start_time": "2025-01-11T16:49:55.310Z"
   },
   {
    "duration": 6617,
    "start_time": "2025-01-11T16:49:55.517Z"
   },
   {
    "duration": 4,
    "start_time": "2025-01-11T16:50:02.136Z"
   },
   {
    "duration": 69,
    "start_time": "2025-01-11T16:50:02.142Z"
   },
   {
    "duration": 51,
    "start_time": "2025-01-11T16:50:02.212Z"
   },
   {
    "duration": 5,
    "start_time": "2025-01-11T16:55:48.329Z"
   },
   {
    "duration": 1380,
    "start_time": "2025-01-11T17:02:21.606Z"
   },
   {
    "duration": 3,
    "start_time": "2025-01-11T17:02:22.988Z"
   },
   {
    "duration": 62,
    "start_time": "2025-01-11T17:02:22.992Z"
   },
   {
    "duration": 4,
    "start_time": "2025-01-11T17:02:23.056Z"
   },
   {
    "duration": 29,
    "start_time": "2025-01-11T17:02:23.062Z"
   },
   {
    "duration": 3,
    "start_time": "2025-01-11T17:02:23.093Z"
   },
   {
    "duration": 46,
    "start_time": "2025-01-11T17:02:23.097Z"
   },
   {
    "duration": 260,
    "start_time": "2025-01-11T17:02:23.144Z"
   },
   {
    "duration": 10,
    "start_time": "2025-01-11T17:02:23.406Z"
   },
   {
    "duration": 46,
    "start_time": "2025-01-11T17:02:23.417Z"
   },
   {
    "duration": 45,
    "start_time": "2025-01-11T17:02:23.464Z"
   },
   {
    "duration": 284,
    "start_time": "2025-01-11T17:02:23.511Z"
   },
   {
    "duration": 6,
    "start_time": "2025-01-11T17:02:23.797Z"
   },
   {
    "duration": 671,
    "start_time": "2025-01-11T17:02:23.806Z"
   },
   {
    "duration": 470,
    "start_time": "2025-01-11T17:02:24.486Z"
   },
   {
    "duration": 468,
    "start_time": "2025-01-11T17:02:24.958Z"
   },
   {
    "duration": 423,
    "start_time": "2025-01-11T17:02:25.428Z"
   },
   {
    "duration": 7,
    "start_time": "2025-01-11T17:02:25.853Z"
   },
   {
    "duration": 338,
    "start_time": "2025-01-11T17:02:25.861Z"
   },
   {
    "duration": 4,
    "start_time": "2025-01-11T17:02:26.200Z"
   },
   {
    "duration": 31,
    "start_time": "2025-01-11T17:02:26.206Z"
   },
   {
    "duration": 43,
    "start_time": "2025-01-11T17:02:26.239Z"
   },
   {
    "duration": 19,
    "start_time": "2025-01-11T17:02:26.284Z"
   },
   {
    "duration": 12,
    "start_time": "2025-01-11T17:02:26.305Z"
   },
   {
    "duration": 7,
    "start_time": "2025-01-11T17:02:26.318Z"
   },
   {
    "duration": 12,
    "start_time": "2025-01-11T17:02:26.326Z"
   },
   {
    "duration": 754,
    "start_time": "2025-01-11T17:02:26.340Z"
   },
   {
    "duration": 585,
    "start_time": "2025-01-11T17:02:27.096Z"
   },
   {
    "duration": 78328,
    "start_time": "2025-01-11T17:02:27.683Z"
   },
   {
    "duration": 4,
    "start_time": "2025-01-11T17:03:46.013Z"
   },
   {
    "duration": 5,
    "start_time": "2025-01-11T17:03:46.018Z"
   },
   {
    "duration": 36,
    "start_time": "2025-01-11T17:03:46.024Z"
   },
   {
    "duration": 127,
    "start_time": "2025-01-11T17:03:46.061Z"
   },
   {
    "duration": 12,
    "start_time": "2025-01-11T17:04:05.198Z"
   },
   {
    "duration": 6052,
    "start_time": "2025-01-11T17:05:21.118Z"
   },
   {
    "duration": 1394,
    "start_time": "2025-01-11T17:06:06.797Z"
   },
   {
    "duration": 3,
    "start_time": "2025-01-11T17:06:08.193Z"
   },
   {
    "duration": 57,
    "start_time": "2025-01-11T17:06:08.197Z"
   },
   {
    "duration": 3,
    "start_time": "2025-01-11T17:06:08.255Z"
   },
   {
    "duration": 18,
    "start_time": "2025-01-11T17:06:08.260Z"
   },
   {
    "duration": 3,
    "start_time": "2025-01-11T17:06:08.279Z"
   },
   {
    "duration": 13,
    "start_time": "2025-01-11T17:06:08.286Z"
   },
   {
    "duration": 262,
    "start_time": "2025-01-11T17:06:08.300Z"
   },
   {
    "duration": 9,
    "start_time": "2025-01-11T17:06:08.564Z"
   },
   {
    "duration": 48,
    "start_time": "2025-01-11T17:06:08.574Z"
   },
   {
    "duration": 9,
    "start_time": "2025-01-11T17:06:08.623Z"
   },
   {
    "duration": 282,
    "start_time": "2025-01-11T17:06:08.633Z"
   },
   {
    "duration": 6,
    "start_time": "2025-01-11T17:06:08.916Z"
   },
   {
    "duration": 691,
    "start_time": "2025-01-11T17:06:08.925Z"
   },
   {
    "duration": 457,
    "start_time": "2025-01-11T17:06:09.617Z"
   },
   {
    "duration": 484,
    "start_time": "2025-01-11T17:06:10.076Z"
   },
   {
    "duration": 400,
    "start_time": "2025-01-11T17:06:10.561Z"
   },
   {
    "duration": 6,
    "start_time": "2025-01-11T17:06:10.963Z"
   },
   {
    "duration": 339,
    "start_time": "2025-01-11T17:06:10.970Z"
   },
   {
    "duration": 4,
    "start_time": "2025-01-11T17:06:11.310Z"
   },
   {
    "duration": 16,
    "start_time": "2025-01-11T17:06:11.315Z"
   },
   {
    "duration": 33,
    "start_time": "2025-01-11T17:06:11.332Z"
   },
   {
    "duration": 29,
    "start_time": "2025-01-11T17:06:11.367Z"
   },
   {
    "duration": 8,
    "start_time": "2025-01-11T17:06:11.397Z"
   },
   {
    "duration": 4,
    "start_time": "2025-01-11T17:06:11.407Z"
   },
   {
    "duration": 11,
    "start_time": "2025-01-11T17:06:11.412Z"
   },
   {
    "duration": 766,
    "start_time": "2025-01-11T17:06:11.424Z"
   },
   {
    "duration": 575,
    "start_time": "2025-01-11T17:06:12.192Z"
   },
   {
    "duration": 78622,
    "start_time": "2025-01-11T17:06:12.768Z"
   },
   {
    "duration": 6,
    "start_time": "2025-01-11T17:07:31.392Z"
   },
   {
    "duration": 9,
    "start_time": "2025-01-11T17:07:31.400Z"
   },
   {
    "duration": 22,
    "start_time": "2025-01-11T17:07:31.410Z"
   },
   {
    "duration": 6182,
    "start_time": "2025-01-11T17:07:31.433Z"
   }
  ],
  "kernelspec": {
   "display_name": "Python 3 (ipykernel)",
   "language": "python",
   "name": "python3"
  },
  "language_info": {
   "codemirror_mode": {
    "name": "ipython",
    "version": 3
   },
   "file_extension": ".py",
   "mimetype": "text/x-python",
   "name": "python",
   "nbconvert_exporter": "python",
   "pygments_lexer": "ipython3",
   "version": "3.12.7"
  },
  "toc": {
   "base_numbering": 1,
   "nav_menu": {},
   "number_sections": true,
   "sideBar": true,
   "skip_h1_title": true,
   "title_cell": "Содержание",
   "title_sidebar": "Contents",
   "toc_cell": true,
   "toc_position": {},
   "toc_section_display": true,
   "toc_window_display": true
  }
 },
 "nbformat": 4,
 "nbformat_minor": 4
}
