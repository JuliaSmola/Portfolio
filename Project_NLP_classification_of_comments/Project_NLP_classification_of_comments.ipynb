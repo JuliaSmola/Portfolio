{
 "cells": [
  {
   "cell_type": "markdown",
   "metadata": {
    "toc": true
   },
   "source": [
    "<h1>Содержание<span class=\"tocSkip\"></span></h1>\n",
    "<div class=\"toc\"><ul class=\"toc-item\"><li><span><a href=\"#Подготовка\" data-toc-modified-id=\"Подготовка-1\"><span class=\"toc-item-num\">1&nbsp;&nbsp;</span>Подготовка</a></span><ul class=\"toc-item\"><li><span><a href=\"#Импорт-библиотек\" data-toc-modified-id=\"Импорт-библиотек-1.1\"><span class=\"toc-item-num\">1.1&nbsp;&nbsp;</span>Импорт библиотек</a></span></li><li><span><a href=\"#Загрузка-данных\" data-toc-modified-id=\"Загрузка-данных-1.2\"><span class=\"toc-item-num\">1.2&nbsp;&nbsp;</span>Загрузка данных</a></span></li><li><span><a href=\"#Общая-информация-о-данных\" data-toc-modified-id=\"Общая-информация-о-данных-1.3\"><span class=\"toc-item-num\">1.3&nbsp;&nbsp;</span>Общая информация о данных</a></span></li><li><span><a href=\"#Оценка-соотношения-классов\" data-toc-modified-id=\"Оценка-соотношения-классов-1.4\"><span class=\"toc-item-num\">1.4&nbsp;&nbsp;</span>Оценка соотношения классов</a></span></li><li><span><a href=\"#Предобработка-текста\" data-toc-modified-id=\"Предобработка-текста-1.5\"><span class=\"toc-item-num\">1.5&nbsp;&nbsp;</span>Предобработка текста</a></span></li><li><span><a href=\"#Подготовка-выборок\" data-toc-modified-id=\"Подготовка-выборок-1.6\"><span class=\"toc-item-num\">1.6&nbsp;&nbsp;</span>Подготовка выборок</a></span></li><li><span><a href=\"#Векторизация-текста\" data-toc-modified-id=\"Векторизация-текста-1.7\"><span class=\"toc-item-num\">1.7&nbsp;&nbsp;</span>Векторизация текста</a></span></li></ul></li><li><span><a href=\"#Обучение\" data-toc-modified-id=\"Обучение-2\"><span class=\"toc-item-num\">2&nbsp;&nbsp;</span>Обучение</a></span><ul class=\"toc-item\"><li><span><a href=\"#Подбор-модели\" data-toc-modified-id=\"Подбор-модели-2.1\"><span class=\"toc-item-num\">2.1&nbsp;&nbsp;</span>Подбор модели</a></span><ul class=\"toc-item\"><li><span><a href=\"#LogisticRegression\" data-toc-modified-id=\"LogisticRegression-2.1.1\"><span class=\"toc-item-num\">2.1.1&nbsp;&nbsp;</span>LogisticRegression</a></span></li><li><span><a href=\"#DecisionTreeClassifier\" data-toc-modified-id=\"DecisionTreeClassifier-2.1.2\"><span class=\"toc-item-num\">2.1.2&nbsp;&nbsp;</span>DecisionTreeClassifier</a></span></li><li><span><a href=\"#RandomForestClassifier\" data-toc-modified-id=\"RandomForestClassifier-2.1.3\"><span class=\"toc-item-num\">2.1.3&nbsp;&nbsp;</span>RandomForestClassifier</a></span></li></ul></li><li><span><a href=\"#Анализ-моделей\" data-toc-modified-id=\"Анализ-моделей-2.2\"><span class=\"toc-item-num\">2.2&nbsp;&nbsp;</span>Анализ моделей</a></span><ul class=\"toc-item\"><li><span><a href=\"#Анализ-LogisticRegression\" data-toc-modified-id=\"Анализ-LogisticRegression-2.2.1\"><span class=\"toc-item-num\">2.2.1&nbsp;&nbsp;</span>Анализ LogisticRegression</a></span></li><li><span><a href=\"#Анализ-DecisionTreeClassifier\" data-toc-modified-id=\"Анализ-DecisionTreeClassifier-2.2.2\"><span class=\"toc-item-num\">2.2.2&nbsp;&nbsp;</span>Анализ DecisionTreeClassifier</a></span></li><li><span><a href=\"#Анализ-RandomForestClassifier\" data-toc-modified-id=\"Анализ-RandomForestClassifier-2.2.3\"><span class=\"toc-item-num\">2.2.3&nbsp;&nbsp;</span>Анализ RandomForestClassifier</a></span></li></ul></li><li><span><a href=\"#Сравнение-моделей\" data-toc-modified-id=\"Сравнение-моделей-2.3\"><span class=\"toc-item-num\">2.3&nbsp;&nbsp;</span>Сравнение моделей</a></span></li><li><span><a href=\"#Оценка-лучшей-модели-на-тестовой-выборке\" data-toc-modified-id=\"Оценка-лучшей-модели-на-тестовой-выборке-2.4\"><span class=\"toc-item-num\">2.4&nbsp;&nbsp;</span>Оценка лучшей модели на тестовой выборке</a></span></li></ul></li><li><span><a href=\"#Выводы\" data-toc-modified-id=\"Выводы-3\"><span class=\"toc-item-num\">3&nbsp;&nbsp;</span>Выводы</a></span></li><li><span><a href=\"#Чек-лист-проверки\" data-toc-modified-id=\"Чек-лист-проверки-4\"><span class=\"toc-item-num\">4&nbsp;&nbsp;</span>Чек-лист проверки</a></span></li></ul></div>"
   ]
  },
  {
   "cell_type": "markdown",
   "metadata": {},
   "source": [
    "# Проект для «Викишоп»"
   ]
  },
  {
   "cell_type": "markdown",
   "metadata": {},
   "source": [
    "Интернет-магазин «Викишоп» запускает новый сервис. Теперь пользователи могут редактировать и дополнять описания товаров, как в вики-сообществах. То есть клиенты предлагают свои правки и комментируют изменения других. Магазину нужен инструмент, который будет искать токсичные комментарии и отправлять их на модерацию. \n",
    "\n",
    "Обучите модель классифицировать комментарии на позитивные и негативные. В вашем распоряжении набор данных с разметкой о токсичности правок.\n",
    "\n",
    "Постройте модель со значением метрики качества *F1* не меньше 0.75. \n",
    "\n",
    "**Инструкция по выполнению проекта**\n",
    "\n",
    "1. Загрузите и подготовьте данные.\n",
    "2. Обучите разные модели. \n",
    "3. Сделайте выводы.\n",
    "\n",
    "\n",
    "**Описание данных**\n",
    "\n",
    "Данные находятся в файле `toxic_comments.csv`. Столбец *text* в нём содержит текст комментария, а *toxic* — целевой признак."
   ]
  },
  {
   "cell_type": "markdown",
   "metadata": {},
   "source": [
    "## Подготовка"
   ]
  },
  {
   "cell_type": "markdown",
   "metadata": {},
   "source": [
    "### Импорт библиотек"
   ]
  },
  {
   "cell_type": "code",
   "execution_count": 1,
   "metadata": {},
   "outputs": [
    {
     "name": "stdout",
     "output_type": "stream",
     "text": [
      "Requirement already satisfied: imbalanced-learn in /opt/conda/lib/python3.9/site-packages (0.12.4)\n",
      "Requirement already satisfied: threadpoolctl>=2.0.0 in /opt/conda/lib/python3.9/site-packages (from imbalanced-learn) (3.1.0)\n",
      "Requirement already satisfied: scipy>=1.5.0 in /opt/conda/lib/python3.9/site-packages (from imbalanced-learn) (1.9.1)\n",
      "Requirement already satisfied: numpy>=1.17.3 in /opt/conda/lib/python3.9/site-packages (from imbalanced-learn) (1.21.1)\n",
      "Requirement already satisfied: joblib>=1.1.1 in /opt/conda/lib/python3.9/site-packages (from imbalanced-learn) (1.4.2)\n",
      "Requirement already satisfied: scikit-learn>=1.0.2 in /opt/conda/lib/python3.9/site-packages (from imbalanced-learn) (1.6.1)\n",
      "Note: you may need to restart the kernel to use updated packages.\n"
     ]
    }
   ],
   "source": [
    "pip install imbalanced-learn "
   ]
  },
  {
   "cell_type": "code",
   "execution_count": 2,
   "metadata": {},
   "outputs": [],
   "source": [
    "import numpy as np\n",
    "import pandas as pd\n",
    "import matplotlib.pyplot as plt\n",
    "import seaborn as sns\n",
    "import torch\n",
    "import transformers\n",
    "import re\n",
    "import nltk\n",
    "import spacy\n",
    "import time\n",
    "import warnings\n",
    "\n",
    "from spacy.lang.en import English\n",
    "from spacy.lang.en.stop_words import STOP_WORDS\n",
    "from tqdm import tqdm\n",
    "from collections import Counter\n",
    "from imblearn.over_sampling import RandomOverSampler\n",
    "from imblearn.under_sampling import RandomUnderSampler\n",
    "from imblearn.combine import SMOTETomek\n",
    "from imblearn.over_sampling import SMOTE\n",
    "from sklearn.feature_extraction.text import TfidfVectorizer, CountVectorizer \n",
    "from tqdm import notebook\n",
    "from sklearn.utils import shuffle\n",
    "from sklearn.linear_model import LogisticRegression\n",
    "from sklearn.tree import DecisionTreeClassifier\n",
    "from sklearn.ensemble import RandomForestClassifier\n",
    "from sklearn.model_selection import train_test_split, GridSearchCV, cross_val_score\n",
    "from sklearn.metrics import f1_score, make_scorer\n",
    "\n",
    "warnings.filterwarnings(\"ignore\")"
   ]
  },
  {
   "cell_type": "code",
   "execution_count": 3,
   "metadata": {},
   "outputs": [],
   "source": [
    "RANDOM_STATE = 42\n",
    "TEST_SIZE = 0.25"
   ]
  },
  {
   "cell_type": "code",
   "execution_count": 4,
   "metadata": {},
   "outputs": [],
   "source": [
    "nlp = spacy.load(\"en_core_web_sm\")\n",
    "STOPWORDS = spacy.lang.en.stop_words.STOP_WORDS"
   ]
  },
  {
   "cell_type": "markdown",
   "metadata": {},
   "source": [
    "### Загрузка данных"
   ]
  },
  {
   "cell_type": "code",
   "execution_count": 5,
   "metadata": {},
   "outputs": [],
   "source": [
    "data = pd.read_csv('/datasets/toxic_comments.csv')"
   ]
  },
  {
   "cell_type": "markdown",
   "metadata": {},
   "source": [
    "### Общая информация о данных"
   ]
  },
  {
   "cell_type": "code",
   "execution_count": 6,
   "metadata": {},
   "outputs": [],
   "source": [
    "def general_info_data(df):\n",
    "    display(df.head())\n",
    "    display(df.info())"
   ]
  },
  {
   "cell_type": "code",
   "execution_count": 7,
   "metadata": {},
   "outputs": [
    {
     "data": {
      "text/html": [
       "<div>\n",
       "<style scoped>\n",
       "    .dataframe tbody tr th:only-of-type {\n",
       "        vertical-align: middle;\n",
       "    }\n",
       "\n",
       "    .dataframe tbody tr th {\n",
       "        vertical-align: top;\n",
       "    }\n",
       "\n",
       "    .dataframe thead th {\n",
       "        text-align: right;\n",
       "    }\n",
       "</style>\n",
       "<table border=\"1\" class=\"dataframe\">\n",
       "  <thead>\n",
       "    <tr style=\"text-align: right;\">\n",
       "      <th></th>\n",
       "      <th>Unnamed: 0</th>\n",
       "      <th>text</th>\n",
       "      <th>toxic</th>\n",
       "    </tr>\n",
       "  </thead>\n",
       "  <tbody>\n",
       "    <tr>\n",
       "      <th>0</th>\n",
       "      <td>0</td>\n",
       "      <td>Explanation\\nWhy the edits made under my usern...</td>\n",
       "      <td>0</td>\n",
       "    </tr>\n",
       "    <tr>\n",
       "      <th>1</th>\n",
       "      <td>1</td>\n",
       "      <td>D'aww! He matches this background colour I'm s...</td>\n",
       "      <td>0</td>\n",
       "    </tr>\n",
       "    <tr>\n",
       "      <th>2</th>\n",
       "      <td>2</td>\n",
       "      <td>Hey man, I'm really not trying to edit war. It...</td>\n",
       "      <td>0</td>\n",
       "    </tr>\n",
       "    <tr>\n",
       "      <th>3</th>\n",
       "      <td>3</td>\n",
       "      <td>\"\\nMore\\nI can't make any real suggestions on ...</td>\n",
       "      <td>0</td>\n",
       "    </tr>\n",
       "    <tr>\n",
       "      <th>4</th>\n",
       "      <td>4</td>\n",
       "      <td>You, sir, are my hero. Any chance you remember...</td>\n",
       "      <td>0</td>\n",
       "    </tr>\n",
       "  </tbody>\n",
       "</table>\n",
       "</div>"
      ],
      "text/plain": [
       "   Unnamed: 0                                               text  toxic\n",
       "0           0  Explanation\\nWhy the edits made under my usern...      0\n",
       "1           1  D'aww! He matches this background colour I'm s...      0\n",
       "2           2  Hey man, I'm really not trying to edit war. It...      0\n",
       "3           3  \"\\nMore\\nI can't make any real suggestions on ...      0\n",
       "4           4  You, sir, are my hero. Any chance you remember...      0"
      ]
     },
     "metadata": {},
     "output_type": "display_data"
    },
    {
     "name": "stdout",
     "output_type": "stream",
     "text": [
      "<class 'pandas.core.frame.DataFrame'>\n",
      "RangeIndex: 159292 entries, 0 to 159291\n",
      "Data columns (total 3 columns):\n",
      " #   Column      Non-Null Count   Dtype \n",
      "---  ------      --------------   ----- \n",
      " 0   Unnamed: 0  159292 non-null  int64 \n",
      " 1   text        159292 non-null  object\n",
      " 2   toxic       159292 non-null  int64 \n",
      "dtypes: int64(2), object(1)\n",
      "memory usage: 3.6+ MB\n"
     ]
    },
    {
     "data": {
      "text/plain": [
       "None"
      ]
     },
     "metadata": {},
     "output_type": "display_data"
    }
   ],
   "source": [
    "general_info_data(data)"
   ]
  },
  {
   "cell_type": "code",
   "execution_count": 8,
   "metadata": {},
   "outputs": [],
   "source": [
    "data = data.drop('Unnamed: 0', axis=1)"
   ]
  },
  {
   "cell_type": "markdown",
   "metadata": {},
   "source": [
    "**ВЫВОД:**\n",
    "\n",
    "В исходном набое данных 159292 строк. Пропусков нет. Тип данных указан корректно."
   ]
  },
  {
   "cell_type": "markdown",
   "metadata": {},
   "source": [
    "### Оценка соотношения классов"
   ]
  },
  {
   "cell_type": "code",
   "execution_count": 9,
   "metadata": {},
   "outputs": [
    {
     "data": {
      "image/png": "[encoded data removed]",
      "text/plain": [
       "<Figure size 432x288 with 1 Axes>"
      ]
     },
     "metadata": {},
     "output_type": "display_data"
    }
   ],
   "source": [
    "(\n",
    "    data['toxic']\n",
    "    .value_counts()\n",
    "    .plot(kind = 'pie', autopct='%1.1f%%', radius = 2)\n",
    ")\n",
    "plt.title('Соотношение классов комментариев', fontsize=15, pad=80, fontweight = 'bold')\n",
    "plt.legend(bbox_to_anchor=(1.5,1), labels=['0 - позитивные комментарии','1 - негативные комментарии'])\n",
    "plt.ylabel(' ')\n",
    "plt.show()"
   ]
  },
  {
   "cell_type": "markdown",
   "metadata": {},
   "source": [
    "**ВЫВОД:**\n",
    "\n",
    "Распределение классов 0/1 в данных не сбалансировано. Позитивных комментариев 89.8%, негативных - 10.2%. Требуется сбалансировать классы перед обучением модели."
   ]
  },
  {
   "cell_type": "markdown",
   "metadata": {},
   "source": [
    "### Предобработка текста"
   ]
  },
  {
   "cell_type": "markdown",
   "metadata": {},
   "source": [
    "Проведем токенизацию, лемматизируем текст и очистим от лишних символов с помощью регулярных выражений."
   ]
  },
  {
   "cell_type": "code",
   "execution_count": 10,
   "metadata": {},
   "outputs": [],
   "source": [
    "def lemmatize_clean_text(text):\n",
    "    clean_text = nlp(\" \".join(re.sub(r'[^a-zA-z]', ' ', text).split()))\n",
    "    lemm_clean_text = ' '.join([w.lemma_ for w in clean_text])\n",
    "    return lemm_clean_text"
   ]
  },
  {
   "cell_type": "code",
   "execution_count": 11,
   "metadata": {},
   "outputs": [
    {
     "name": "stdout",
     "output_type": "stream",
     "text": [
      "                                             text\n",
      "0  Explanation\\nWhy the edits made under my usern\n",
      "1  You, sir, are my hero. Any chance you remember\n",
      "\n",
      "0    explanation why the edit make under my usern\n",
      "1      you sir be my hero any chance you remember\n",
      "Name: text, dtype: object\n"
     ]
    }
   ],
   "source": [
    "sentence1 = \"Explanation\\nWhy the edits made under my usern\"\n",
    "sentence2 = \"You, sir, are my hero. Any chance you remember\"\n",
    "df_my = pd.DataFrame([sentence1, sentence2], columns = ['text'])\n",
    "print(df_my)\n",
    "print()\n",
    "print(df_my['text'].apply(lemmatize_clean_text))"
   ]
  },
  {
   "cell_type": "code",
   "execution_count": 12,
   "metadata": {},
   "outputs": [
    {
     "name": "stderr",
     "output_type": "stream",
     "text": [
      "100%|██████████| 159292/159292 [38:11<00:00, 69.51it/s] \n"
     ]
    }
   ],
   "source": [
    "tqdm.pandas()\n",
    "data['lemmatize_clean_text'] = data['text'].progress_apply(lemmatize_clean_text)"
   ]
  },
  {
   "cell_type": "code",
   "execution_count": 13,
   "metadata": {},
   "outputs": [
    {
     "data": {
      "text/html": [
       "<div>\n",
       "<style scoped>\n",
       "    .dataframe tbody tr th:only-of-type {\n",
       "        vertical-align: middle;\n",
       "    }\n",
       "\n",
       "    .dataframe tbody tr th {\n",
       "        vertical-align: top;\n",
       "    }\n",
       "\n",
       "    .dataframe thead th {\n",
       "        text-align: right;\n",
       "    }\n",
       "</style>\n",
       "<table border=\"1\" class=\"dataframe\">\n",
       "  <thead>\n",
       "    <tr style=\"text-align: right;\">\n",
       "      <th></th>\n",
       "      <th>text</th>\n",
       "      <th>toxic</th>\n",
       "      <th>lemmatize_clean_text</th>\n",
       "    </tr>\n",
       "  </thead>\n",
       "  <tbody>\n",
       "    <tr>\n",
       "      <th>0</th>\n",
       "      <td>Explanation\\nWhy the edits made under my usern...</td>\n",
       "      <td>0</td>\n",
       "      <td>explanation why the edit make under my usernam...</td>\n",
       "    </tr>\n",
       "    <tr>\n",
       "      <th>1</th>\n",
       "      <td>D'aww! He matches this background colour I'm s...</td>\n",
       "      <td>0</td>\n",
       "      <td>d aww he match this background colour I m seem...</td>\n",
       "    </tr>\n",
       "    <tr>\n",
       "      <th>2</th>\n",
       "      <td>Hey man, I'm really not trying to edit war. It...</td>\n",
       "      <td>0</td>\n",
       "      <td>hey man I m really not try to edit war it s ju...</td>\n",
       "    </tr>\n",
       "    <tr>\n",
       "      <th>3</th>\n",
       "      <td>\"\\nMore\\nI can't make any real suggestions on ...</td>\n",
       "      <td>0</td>\n",
       "      <td>More I can t make any real suggestion on impro...</td>\n",
       "    </tr>\n",
       "    <tr>\n",
       "      <th>4</th>\n",
       "      <td>You, sir, are my hero. Any chance you remember...</td>\n",
       "      <td>0</td>\n",
       "      <td>you sir be my hero any chance you remember wha...</td>\n",
       "    </tr>\n",
       "  </tbody>\n",
       "</table>\n",
       "</div>"
      ],
      "text/plain": [
       "                                                text  toxic  \\\n",
       "0  Explanation\\nWhy the edits made under my usern...      0   \n",
       "1  D'aww! He matches this background colour I'm s...      0   \n",
       "2  Hey man, I'm really not trying to edit war. It...      0   \n",
       "3  \"\\nMore\\nI can't make any real suggestions on ...      0   \n",
       "4  You, sir, are my hero. Any chance you remember...      0   \n",
       "\n",
       "                                lemmatize_clean_text  \n",
       "0  explanation why the edit make under my usernam...  \n",
       "1  d aww he match this background colour I m seem...  \n",
       "2  hey man I m really not try to edit war it s ju...  \n",
       "3  More I can t make any real suggestion on impro...  \n",
       "4  you sir be my hero any chance you remember wha...  "
      ]
     },
     "metadata": {},
     "output_type": "display_data"
    },
    {
     "name": "stdout",
     "output_type": "stream",
     "text": [
      "<class 'pandas.core.frame.DataFrame'>\n",
      "RangeIndex: 159292 entries, 0 to 159291\n",
      "Data columns (total 3 columns):\n",
      " #   Column                Non-Null Count   Dtype \n",
      "---  ------                --------------   ----- \n",
      " 0   text                  159292 non-null  object\n",
      " 1   toxic                 159292 non-null  int64 \n",
      " 2   lemmatize_clean_text  159292 non-null  object\n",
      "dtypes: int64(1), object(2)\n",
      "memory usage: 3.6+ MB\n"
     ]
    },
    {
     "data": {
      "text/plain": [
       "None"
      ]
     },
     "metadata": {},
     "output_type": "display_data"
    }
   ],
   "source": [
    "general_info_data(data)"
   ]
  },
  {
   "cell_type": "markdown",
   "metadata": {},
   "source": [
    "**ВЫВОД:**\n",
    "\n",
    "На этапе предобработки текста проведена токенизация (текст разбит на токены), слова приведены к начальной форме — лемме, с помощью регулярных выражений оставлены англоязычные символы, исключены стоп-слова."
   ]
  },
  {
   "cell_type": "markdown",
   "metadata": {},
   "source": [
    "### Подготовка выборок"
   ]
  },
  {
   "cell_type": "markdown",
   "metadata": {},
   "source": [
    "Разделим датафрейм на выборки:"
   ]
  },
  {
   "cell_type": "code",
   "execution_count": 14,
   "metadata": {},
   "outputs": [],
   "source": [
    "features = data.drop(['toxic','text'], axis = 1)\n",
    "target = data['toxic']"
   ]
  },
  {
   "cell_type": "code",
   "execution_count": 15,
   "metadata": {},
   "outputs": [],
   "source": [
    "features_train, features_test, target_train, target_test = train_test_split(features,\n",
    "                                                                            target,\n",
    "                                                                            test_size=TEST_SIZE,\n",
    "                                                                            random_state=RANDOM_STATE,\n",
    "                                                                            stratify = target) "
   ]
  },
  {
   "cell_type": "markdown",
   "metadata": {},
   "source": [
    "### Векторизация текста"
   ]
  },
  {
   "cell_type": "code",
   "execution_count": 16,
   "metadata": {},
   "outputs": [],
   "source": [
    "vectorizer = TfidfVectorizer(stop_words = list(STOPWORDS))"
   ]
  },
  {
   "cell_type": "code",
   "execution_count": 17,
   "metadata": {},
   "outputs": [],
   "source": [
    "corpus_train = features_train['lemmatize_clean_text']\n",
    "corpus_test = features_test['lemmatize_clean_text']"
   ]
  },
  {
   "cell_type": "code",
   "execution_count": 18,
   "metadata": {},
   "outputs": [],
   "source": [
    "features_train = vectorizer.fit_transform(corpus_train)\n",
    "features_test = vectorizer.transform(corpus_test)"
   ]
  },
  {
   "cell_type": "code",
   "execution_count": 19,
   "metadata": {},
   "outputs": [
    {
     "data": {
      "text/plain": [
       "(119469, 134499)"
      ]
     },
     "metadata": {},
     "output_type": "display_data"
    },
    {
     "data": {
      "text/plain": [
       "(39823, 134499)"
      ]
     },
     "metadata": {},
     "output_type": "display_data"
    }
   ],
   "source": [
    "display(features_train.shape)\n",
    "display(features_test.shape)"
   ]
  },
  {
   "cell_type": "code",
   "execution_count": 20,
   "metadata": {},
   "outputs": [
    {
     "data": {
      "text/plain": [
       "Counter({1: 12140, 0: 107329})"
      ]
     },
     "execution_count": 20,
     "metadata": {},
     "output_type": "execute_result"
    }
   ],
   "source": [
    "Counter(target_train)"
   ]
  },
  {
   "cell_type": "markdown",
   "metadata": {},
   "source": [
    "## Обучение"
   ]
  },
  {
   "cell_type": "markdown",
   "metadata": {},
   "source": [
    "###  Подбор модели"
   ]
  },
  {
   "cell_type": "markdown",
   "metadata": {},
   "source": [
    "####  LogisticRegression"
   ]
  },
  {
   "cell_type": "markdown",
   "metadata": {},
   "source": [
    "Для улучшения работы модели с минорным классом применим параметр class_weight='balanced', что позволит автоматически настроить веса классов на основе их доли в данных."
   ]
  },
  {
   "cell_type": "code",
   "execution_count": 21,
   "metadata": {},
   "outputs": [
    {
     "name": "stdout",
     "output_type": "stream",
     "text": [
      "Лучшие параметры: {'C': 10, 'class_weight': 'balanced', 'penalty': 'l2', 'solver': 'liblinear'}\n",
      "\n",
      "Лучшая оценка качества модели: 0.766\n",
      "\n",
      "CPU times: user 4min 44s, sys: 3min 20s, total: 8min 4s\n",
      "Wall time: 8min 5s\n"
     ]
    }
   ],
   "source": [
    "%%time\n",
    "model_lr = LogisticRegression()\n",
    "\n",
    "hyperparams_lr = [{'penalty':['l1','l2'],\n",
    "                   'solver':['newton-cg', 'lbfgs', 'liblinear'],\n",
    "                   'C':[5, 10, 15],\n",
    "                   'class_weight':['balanced']}]\n",
    "\n",
    "\n",
    "clf = GridSearchCV(model_lr, hyperparams_lr, scoring='f1',cv=3)\n",
    "clf.fit(features_train, target_train)\n",
    "\n",
    "f1_lr = clf.best_score_\n",
    "\n",
    "print('Лучшие параметры:', clf.best_params_)\n",
    "print()\n",
    "print('Лучшая оценка качества модели:', f1_lr.round(3))\n",
    "print()"
   ]
  },
  {
   "cell_type": "markdown",
   "metadata": {},
   "source": [
    "####  DecisionTreeClassifier"
   ]
  },
  {
   "cell_type": "code",
   "execution_count": 22,
   "metadata": {},
   "outputs": [
    {
     "name": "stdout",
     "output_type": "stream",
     "text": [
      "Лучшие параметры: {'max_depth': 100, 'min_samples_leaf': 1, 'min_samples_split': 2, 'random_state': 12345}\n",
      "\n",
      "Лучшая оценка качества модели: 0.729\n",
      "\n",
      "CPU times: user 39min 5s, sys: 6.15 s, total: 39min 11s\n",
      "Wall time: 39min 15s\n"
     ]
    }
   ],
   "source": [
    "%%time\n",
    "\n",
    "model_dtc = DecisionTreeClassifier()\n",
    "hyperparams_dtc = [{'max_depth':[5, 10, 50, 100],\n",
    "                    'min_samples_split': [2, 5, 10],\n",
    "                    'min_samples_leaf': [1, 2, 4],\n",
    "                    'random_state':[12345]}]\n",
    "\n",
    "clf = GridSearchCV(model_dtc, hyperparams_dtc, scoring='f1',cv=3)\n",
    "clf.fit(features_train, target_train)\n",
    "\n",
    "f1_dtc = clf.best_score_\n",
    "\n",
    "print('Лучшие параметры:', clf.best_params_)\n",
    "print()\n",
    "print('Лучшая оценка качества модели:', f1_dtc.round(3))\n",
    "print()"
   ]
  },
  {
   "cell_type": "markdown",
   "metadata": {},
   "source": [
    "####  RandomForestClassifier"
   ]
  },
  {
   "cell_type": "code",
   "execution_count": 23,
   "metadata": {},
   "outputs": [
    {
     "name": "stdout",
     "output_type": "stream",
     "text": [
      "Лучшие параметры: {'max_depth': 100, 'n_estimators': 10, 'random_state': 12345}\n",
      "\n",
      "Лучшая оценка качества модели: 0.325\n",
      "\n",
      "CPU times: user 29min 34s, sys: 5.16 s, total: 29min 39s\n",
      "Wall time: 29min 45s\n"
     ]
    }
   ],
   "source": [
    "%%time\n",
    "\n",
    "model_rfc = RandomForestClassifier()\n",
    "hyperparams_rfc = [{'max_depth': [5, 10, 50, 100],\n",
    "                    'n_estimators': [10, 50, 100],\n",
    "                    'random_state':[12345]}]\n",
    "\n",
    "clf = GridSearchCV(model_rfc, hyperparams_rfc, scoring='f1',cv=3)\n",
    "clf.fit(features_train, target_train)\n",
    "\n",
    "f1_rfc = clf.best_score_\n",
    "\n",
    "print('Лучшие параметры:', clf.best_params_)\n",
    "print()\n",
    "print('Лучшая оценка качества модели:', f1_rfc.round(3))\n",
    "print()"
   ]
  },
  {
   "cell_type": "markdown",
   "metadata": {},
   "source": [
    "### Анализ моделей"
   ]
  },
  {
   "cell_type": "markdown",
   "metadata": {},
   "source": [
    "#### Анализ LogisticRegression"
   ]
  },
  {
   "cell_type": "code",
   "execution_count": 24,
   "metadata": {},
   "outputs": [
    {
     "name": "stdout",
     "output_type": "stream",
     "text": [
      "CPU times: user 12.9 s, sys: 10.6 s, total: 23.5 s\n",
      "Wall time: 23.5 s\n"
     ]
    }
   ],
   "source": [
    "%%time\n",
    "start = time.time()\n",
    "\n",
    "model_lr = LogisticRegression(penalty = 'l2',\n",
    "                              C = 10,\n",
    "                              class_weight = 'balanced',\n",
    "                              solver = 'liblinear')\n",
    "\n",
    "model_lr.fit(features_train, target_train)\n",
    "\n",
    "finish = time.time()\n",
    "time_lr=round(finish-start,2)"
   ]
  },
  {
   "cell_type": "code",
   "execution_count": 25,
   "metadata": {},
   "outputs": [
    {
     "name": "stdout",
     "output_type": "stream",
     "text": [
      "CPU times: user 9.14 ms, sys: 3.78 ms, total: 12.9 ms\n",
      "Wall time: 10.6 ms\n"
     ]
    }
   ],
   "source": [
    "%%time\n",
    "start = time.time()\n",
    "\n",
    "pred_lr = model_lr.predict(features_train)\n",
    "\n",
    "finish = time.time()\n",
    "time_lr_pred=round(finish-start,2)"
   ]
  },
  {
   "cell_type": "markdown",
   "metadata": {},
   "source": [
    "#### Анализ DecisionTreeClassifier"
   ]
  },
  {
   "cell_type": "code",
   "execution_count": 26,
   "metadata": {},
   "outputs": [
    {
     "name": "stdout",
     "output_type": "stream",
     "text": [
      "CPU times: user 56.3 s, sys: 189 ms, total: 56.5 s\n",
      "Wall time: 56.8 s\n"
     ]
    }
   ],
   "source": [
    "%%time\n",
    "start = time.time()\n",
    "\n",
    "model_dtc = DecisionTreeClassifier(max_depth = 100,\n",
    "                                   min_samples_leaf = 1, \n",
    "                                   min_samples_split = 2,\n",
    "                                   random_state = 12345)\n",
    "model_dtc.fit(features_train, target_train)\n",
    "\n",
    "finish = time.time()\n",
    "time_dtc=round(finish-start,2)"
   ]
  },
  {
   "cell_type": "code",
   "execution_count": 27,
   "metadata": {},
   "outputs": [
    {
     "name": "stdout",
     "output_type": "stream",
     "text": [
      "CPU times: user 127 ms, sys: 55 µs, total: 127 ms\n",
      "Wall time: 125 ms\n"
     ]
    }
   ],
   "source": [
    "%%time\n",
    "start = time.time()\n",
    "\n",
    "pred_dtc = model_dtc.predict(features_train)\n",
    "\n",
    "finish = time.time()\n",
    "time_dtc_pred=round(finish-start,2)"
   ]
  },
  {
   "cell_type": "markdown",
   "metadata": {},
   "source": [
    "#### Анализ RandomForestClassifier"
   ]
  },
  {
   "cell_type": "code",
   "execution_count": 28,
   "metadata": {},
   "outputs": [
    {
     "name": "stdout",
     "output_type": "stream",
     "text": [
      "CPU times: user 11.8 s, sys: 48 ms, total: 11.8 s\n",
      "Wall time: 11.8 s\n"
     ]
    }
   ],
   "source": [
    "%%time\n",
    "start = time.time()\n",
    "\n",
    "model_rfc = RandomForestClassifier(max_depth = 100,\n",
    "                                   n_estimators = 10,\n",
    "                                   random_state = 12345)\n",
    "model_rfc.fit(features_train, target_train)\n",
    "\n",
    "finish = time.time()\n",
    "time_rfc=round(finish-start,2)"
   ]
  },
  {
   "cell_type": "code",
   "execution_count": 29,
   "metadata": {},
   "outputs": [
    {
     "name": "stdout",
     "output_type": "stream",
     "text": [
      "CPU times: user 484 ms, sys: 1.7 ms, total: 486 ms\n",
      "Wall time: 493 ms\n"
     ]
    }
   ],
   "source": [
    "%%time\n",
    "start = time.time()\n",
    "\n",
    "pred_rfc = model_rfc.predict(features_train)\n",
    "\n",
    "finish = time.time()\n",
    "time_rfc_pred=round(finish-start,2)"
   ]
  },
  {
   "cell_type": "markdown",
   "metadata": {},
   "source": [
    "### Сравнение моделей"
   ]
  },
  {
   "cell_type": "code",
   "execution_count": 30,
   "metadata": {},
   "outputs": [],
   "source": [
    "model_analysis = pd.DataFrame(index = ['LogisticRegression',\n",
    "                                       'DecisionTreeClassifier',\n",
    "                                       'RandomForestClassifier'],\n",
    "                              columns = ['F1',\n",
    "                                         'Prediction time',\n",
    "                                         'Training time',])"
   ]
  },
  {
   "cell_type": "code",
   "execution_count": 31,
   "metadata": {},
   "outputs": [],
   "source": [
    "model_analysis['F1'] = (f1_lr,\n",
    "                        f1_dtc,\n",
    "                        f1_rfc)\n",
    "model_analysis['Prediction time'] = (time_lr_pred,\n",
    "                                    time_dtc_pred,\n",
    "                                    time_rfc_pred)\n",
    "model_analysis['Training time'] = (time_lr,\n",
    "                                   time_dtc,\n",
    "                                   time_rfc)"
   ]
  },
  {
   "cell_type": "code",
   "execution_count": 32,
   "metadata": {},
   "outputs": [
    {
     "data": {
      "text/html": [
       "<div>\n",
       "<style scoped>\n",
       "    .dataframe tbody tr th:only-of-type {\n",
       "        vertical-align: middle;\n",
       "    }\n",
       "\n",
       "    .dataframe tbody tr th {\n",
       "        vertical-align: top;\n",
       "    }\n",
       "\n",
       "    .dataframe thead th {\n",
       "        text-align: right;\n",
       "    }\n",
       "</style>\n",
       "<table border=\"1\" class=\"dataframe\">\n",
       "  <thead>\n",
       "    <tr style=\"text-align: right;\">\n",
       "      <th></th>\n",
       "      <th>F1</th>\n",
       "      <th>Prediction time</th>\n",
       "      <th>Training time</th>\n",
       "    </tr>\n",
       "  </thead>\n",
       "  <tbody>\n",
       "    <tr>\n",
       "      <th>LogisticRegression</th>\n",
       "      <td>0.765847</td>\n",
       "      <td>0.01</td>\n",
       "      <td>23.54</td>\n",
       "    </tr>\n",
       "    <tr>\n",
       "      <th>DecisionTreeClassifier</th>\n",
       "      <td>0.728526</td>\n",
       "      <td>0.12</td>\n",
       "      <td>56.77</td>\n",
       "    </tr>\n",
       "    <tr>\n",
       "      <th>RandomForestClassifier</th>\n",
       "      <td>0.324653</td>\n",
       "      <td>0.49</td>\n",
       "      <td>11.84</td>\n",
       "    </tr>\n",
       "  </tbody>\n",
       "</table>\n",
       "</div>"
      ],
      "text/plain": [
       "                              F1  Prediction time  Training time\n",
       "LogisticRegression      0.765847             0.01          23.54\n",
       "DecisionTreeClassifier  0.728526             0.12          56.77\n",
       "RandomForestClassifier  0.324653             0.49          11.84"
      ]
     },
     "execution_count": 32,
     "metadata": {},
     "output_type": "execute_result"
    }
   ],
   "source": [
    "model_analysis.sort_values(by = 'F1', ascending=False)"
   ]
  },
  {
   "cell_type": "markdown",
   "metadata": {},
   "source": [
    "### Оценка лучшей модели на тестовой выборке"
   ]
  },
  {
   "cell_type": "code",
   "execution_count": 33,
   "metadata": {},
   "outputs": [
    {
     "name": "stdout",
     "output_type": "stream",
     "text": [
      "Качество лучшей модели на тестовой выборке:\n",
      " F1 =  0.77\n"
     ]
    }
   ],
   "source": [
    "best_model_pred = model_lr.predict(features_test)\n",
    "best_model_f1 = f1_score(target_test, best_model_pred)\n",
    "\n",
    "print('Качество лучшей модели на тестовой выборке:\\n','F1 = ', round(best_model_f1, 2))"
   ]
  },
  {
   "cell_type": "markdown",
   "metadata": {},
   "source": [
    "## Выводы"
   ]
  },
  {
   "cell_type": "markdown",
   "metadata": {},
   "source": [
    "Для запуска нового сервиса интернет-магазина \"Викишоп\" по редактированию и дополнению описания товаров нами создан инструмент, который будет искать токсичные комментарии и отправлять их на модерацию.\n",
    "\n",
    "Обучена модель классифиции комментариев на позитивные и негативные.\n",
    "\n",
    "В предоставленном наборе данных с разметкой о токсичности правок распределение классов 0/1 было не сбалансировано. Позитивных комментариев 89.8%, негативных - 10.2%. Перед обучением модели были сбалансированы классы.\n",
    "На этапе предобработки текста проведена токенизация, слова приведены к начальной форме — лемме, с помощью регулярных выражений оставлены англоязычные символы, исключены стоп-слова.\n",
    "\n",
    "Выбор лучшей модели проведен между:\n",
    "\n",
    "- LogisticRegression\n",
    "- DecisionTreeClassifier\n",
    "- RandomForestClassifier\n",
    "\n",
    "Наибольшее значения метрики F1 показала модель LogisticRegression, так же она показала лучшие показатели по времени предсказания и обучения.\n",
    "\n",
    "Метрика качества F1 построенной модели, согласно поставленной задаче (не меньше 0.75), равна 0.77.\n",
    "\n",
    "**РЕКОМЕНДАЦИИ:**\n",
    "\n",
    "В качестве модели классифиции комментариев на позитивные и негативные для нового сервиса интернет-магазина \"Викишоп\" по редактированию и дополнению описания товаров рекомендовано использовать модель **LogisticRegression**.\n",
    "   - F1 = 0.77\n"
   ]
  }
 ],
 "metadata": {
  "ExecuteTimeLog": [
   {
    "duration": 2754,
    "start_time": "2025-01-21T14:07:49.632Z"
   },
   {
    "duration": 150,
    "start_time": "2025-01-21T14:07:52.388Z"
   },
   {
    "duration": 325,
    "start_time": "2025-01-21T14:07:59.951Z"
   },
   {
    "duration": 17,
    "start_time": "2025-01-21T14:08:17.278Z"
   },
   {
    "duration": 4073,
    "start_time": "2025-01-21T14:09:02.671Z"
   },
   {
    "duration": 2914,
    "start_time": "2025-01-21T14:09:16.059Z"
   },
   {
    "duration": 1012,
    "start_time": "2025-01-21T14:09:18.976Z"
   },
   {
    "duration": 47,
    "start_time": "2025-03-23T08:59:24.438Z"
   },
   {
    "duration": 2068,
    "start_time": "2025-03-23T08:59:27.774Z"
   },
   {
    "duration": 853,
    "start_time": "2025-03-23T08:59:29.844Z"
   },
   {
    "duration": 3,
    "start_time": "2025-03-23T08:59:30.698Z"
   },
   {
    "duration": 43,
    "start_time": "2025-03-23T08:59:30.702Z"
   },
   {
    "duration": 2178,
    "start_time": "2025-03-23T08:59:39.145Z"
   },
   {
    "duration": 824,
    "start_time": "2025-03-23T08:59:41.325Z"
   },
   {
    "duration": 5,
    "start_time": "2025-03-23T08:59:42.151Z"
   },
   {
    "duration": 70,
    "start_time": "2025-03-23T08:59:42.157Z"
   },
   {
    "duration": 4,
    "start_time": "2025-03-23T09:52:33.843Z"
   },
   {
    "duration": 134,
    "start_time": "2025-03-23T10:01:57.273Z"
   },
   {
    "duration": 2120,
    "start_time": "2025-03-23T10:02:06.202Z"
   },
   {
    "duration": 840,
    "start_time": "2025-03-23T10:02:08.324Z"
   },
   {
    "duration": 2,
    "start_time": "2025-03-23T10:02:09.166Z"
   },
   {
    "duration": 54,
    "start_time": "2025-03-23T10:02:09.169Z"
   },
   {
    "duration": 3,
    "start_time": "2025-03-23T10:02:09.224Z"
   },
   {
    "duration": 143,
    "start_time": "2025-03-23T10:02:09.228Z"
   },
   {
    "duration": 2217,
    "start_time": "2025-03-23T10:04:24.539Z"
   },
   {
    "duration": 847,
    "start_time": "2025-03-23T10:04:26.759Z"
   },
   {
    "duration": 3,
    "start_time": "2025-03-23T10:04:27.607Z"
   },
   {
    "duration": 81,
    "start_time": "2025-03-23T10:04:27.611Z"
   },
   {
    "duration": 3,
    "start_time": "2025-03-23T10:04:27.694Z"
   },
   {
    "duration": 3,
    "start_time": "2025-03-23T10:04:27.698Z"
   },
   {
    "duration": 146,
    "start_time": "2025-03-23T10:04:27.703Z"
   },
   {
    "duration": 2119,
    "start_time": "2025-03-23T10:13:56.907Z"
   },
   {
    "duration": 820,
    "start_time": "2025-03-23T10:13:59.027Z"
   },
   {
    "duration": 8,
    "start_time": "2025-03-23T10:13:59.848Z"
   },
   {
    "duration": 48,
    "start_time": "2025-03-23T10:13:59.857Z"
   },
   {
    "duration": 35,
    "start_time": "2025-03-23T10:13:59.907Z"
   },
   {
    "duration": 10,
    "start_time": "2025-03-23T10:13:59.944Z"
   },
   {
    "duration": 8,
    "start_time": "2025-03-23T10:13:59.956Z"
   },
   {
    "duration": 146,
    "start_time": "2025-03-23T10:13:59.965Z"
   },
   {
    "duration": 690,
    "start_time": "2025-03-23T10:14:34.522Z"
   },
   {
    "duration": 3,
    "start_time": "2025-03-23T10:15:33.080Z"
   },
   {
    "duration": 673,
    "start_time": "2025-03-23T10:15:38.376Z"
   },
   {
    "duration": 69,
    "start_time": "2025-03-23T10:15:49.064Z"
   },
   {
    "duration": 2116,
    "start_time": "2025-03-23T10:17:14.729Z"
   },
   {
    "duration": 824,
    "start_time": "2025-03-23T10:17:16.846Z"
   },
   {
    "duration": 3,
    "start_time": "2025-03-23T10:17:17.671Z"
   },
   {
    "duration": 80,
    "start_time": "2025-03-23T10:17:17.675Z"
   },
   {
    "duration": 20,
    "start_time": "2025-03-23T10:17:17.756Z"
   },
   {
    "duration": 17,
    "start_time": "2025-03-23T10:17:17.777Z"
   },
   {
    "duration": 851,
    "start_time": "2025-03-23T10:17:17.795Z"
   },
   {
    "duration": 0,
    "start_time": "2025-03-23T10:17:18.647Z"
   },
   {
    "duration": 4,
    "start_time": "2025-03-23T10:22:11.249Z"
   },
   {
    "duration": 2360,
    "start_time": "2025-03-23T10:24:18.468Z"
   },
   {
    "duration": 877,
    "start_time": "2025-03-23T10:24:20.830Z"
   },
   {
    "duration": 3,
    "start_time": "2025-03-23T10:24:21.709Z"
   },
   {
    "duration": 86,
    "start_time": "2025-03-23T10:24:21.713Z"
   },
   {
    "duration": 25,
    "start_time": "2025-03-23T10:24:21.801Z"
   },
   {
    "duration": 7,
    "start_time": "2025-03-23T10:24:21.827Z"
   },
   {
    "duration": 137,
    "start_time": "2025-03-23T10:24:21.835Z"
   },
   {
    "duration": 0,
    "start_time": "2025-03-23T10:24:21.974Z"
   },
   {
    "duration": 15,
    "start_time": "2025-03-23T10:24:42.877Z"
   },
   {
    "duration": 2034,
    "start_time": "2025-03-23T10:25:44.101Z"
   },
   {
    "duration": 839,
    "start_time": "2025-03-23T10:25:46.137Z"
   },
   {
    "duration": 2,
    "start_time": "2025-03-23T10:25:46.978Z"
   },
   {
    "duration": 30,
    "start_time": "2025-03-23T10:25:46.982Z"
   },
   {
    "duration": 15,
    "start_time": "2025-03-23T10:25:47.013Z"
   },
   {
    "duration": 12,
    "start_time": "2025-03-23T10:25:47.029Z"
   },
   {
    "duration": 2120,
    "start_time": "2025-03-23T11:02:37.822Z"
   },
   {
    "duration": 856,
    "start_time": "2025-03-23T11:02:39.944Z"
   },
   {
    "duration": 3,
    "start_time": "2025-03-23T11:02:40.802Z"
   },
   {
    "duration": 53,
    "start_time": "2025-03-23T11:02:40.806Z"
   },
   {
    "duration": 31,
    "start_time": "2025-03-23T11:02:40.861Z"
   },
   {
    "duration": 77,
    "start_time": "2025-03-23T11:02:40.893Z"
   },
   {
    "duration": 2130,
    "start_time": "2025-03-23T13:46:44.639Z"
   },
   {
    "duration": 843,
    "start_time": "2025-03-23T13:46:46.771Z"
   },
   {
    "duration": 3,
    "start_time": "2025-03-23T13:46:47.615Z"
   },
   {
    "duration": 60,
    "start_time": "2025-03-23T13:46:47.620Z"
   },
   {
    "duration": 3,
    "start_time": "2025-03-23T13:46:47.682Z"
   },
   {
    "duration": 3274,
    "start_time": "2025-03-23T13:46:47.686Z"
   },
   {
    "duration": 2,
    "start_time": "2025-03-23T13:46:50.962Z"
   },
   {
    "duration": 5,
    "start_time": "2025-03-23T13:46:50.965Z"
   },
   {
    "duration": 2,
    "start_time": "2025-03-23T13:46:50.972Z"
   },
   {
    "duration": 3,
    "start_time": "2025-03-23T13:46:50.976Z"
   },
   {
    "duration": 47,
    "start_time": "2025-03-23T13:47:02.142Z"
   },
   {
    "duration": 1944,
    "start_time": "2025-03-23T13:47:39.793Z"
   },
   {
    "duration": 844,
    "start_time": "2025-03-23T13:47:41.739Z"
   },
   {
    "duration": 2,
    "start_time": "2025-03-23T13:47:42.585Z"
   },
   {
    "duration": 38,
    "start_time": "2025-03-23T13:47:42.589Z"
   },
   {
    "duration": 2,
    "start_time": "2025-03-23T13:47:42.628Z"
   },
   {
    "duration": 3156,
    "start_time": "2025-03-23T13:47:42.632Z"
   },
   {
    "duration": 39,
    "start_time": "2025-03-23T13:47:45.789Z"
   },
   {
    "duration": 2,
    "start_time": "2025-03-23T13:47:45.829Z"
   },
   {
    "duration": 2,
    "start_time": "2025-03-23T13:47:45.833Z"
   },
   {
    "duration": 2,
    "start_time": "2025-03-23T13:47:45.856Z"
   },
   {
    "duration": 2,
    "start_time": "2025-03-23T13:47:45.859Z"
   },
   {
    "duration": 3,
    "start_time": "2025-03-23T13:48:26.670Z"
   },
   {
    "duration": 2101,
    "start_time": "2025-03-23T13:49:16.355Z"
   },
   {
    "duration": 878,
    "start_time": "2025-03-23T13:49:18.458Z"
   },
   {
    "duration": 3,
    "start_time": "2025-03-23T13:49:19.338Z"
   },
   {
    "duration": 44,
    "start_time": "2025-03-23T13:49:19.342Z"
   },
   {
    "duration": 26,
    "start_time": "2025-03-23T13:49:19.388Z"
   },
   {
    "duration": 3321,
    "start_time": "2025-03-23T13:49:19.416Z"
   },
   {
    "duration": 2,
    "start_time": "2025-03-23T13:49:22.739Z"
   },
   {
    "duration": 1940,
    "start_time": "2025-03-23T13:49:22.743Z"
   },
   {
    "duration": 49,
    "start_time": "2025-03-23T13:49:24.685Z"
   },
   {
    "duration": 2,
    "start_time": "2025-03-23T13:49:24.736Z"
   },
   {
    "duration": 2,
    "start_time": "2025-03-23T13:49:24.756Z"
   },
   {
    "duration": 2,
    "start_time": "2025-03-23T13:49:24.760Z"
   },
   {
    "duration": 2,
    "start_time": "2025-03-23T13:49:24.764Z"
   },
   {
    "duration": 3,
    "start_time": "2025-03-23T13:51:21.561Z"
   },
   {
    "duration": 2062,
    "start_time": "2025-03-23T13:51:28.147Z"
   },
   {
    "duration": 845,
    "start_time": "2025-03-23T13:51:30.211Z"
   },
   {
    "duration": 2,
    "start_time": "2025-03-23T13:51:31.058Z"
   },
   {
    "duration": 60,
    "start_time": "2025-03-23T13:51:31.062Z"
   },
   {
    "duration": 45,
    "start_time": "2025-03-23T13:51:31.124Z"
   },
   {
    "duration": 3189,
    "start_time": "2025-03-23T13:51:31.170Z"
   },
   {
    "duration": 2,
    "start_time": "2025-03-23T13:51:34.361Z"
   },
   {
    "duration": 1947,
    "start_time": "2025-03-23T13:51:34.364Z"
   },
   {
    "duration": 4,
    "start_time": "2025-03-23T13:51:36.313Z"
   },
   {
    "duration": 112,
    "start_time": "2025-03-23T13:51:36.319Z"
   },
   {
    "duration": 2,
    "start_time": "2025-03-23T13:51:36.433Z"
   },
   {
    "duration": 54,
    "start_time": "2025-03-23T13:51:36.436Z"
   },
   {
    "duration": 111,
    "start_time": "2025-03-23T13:51:36.491Z"
   },
   {
    "duration": 18,
    "start_time": "2025-03-23T13:51:36.605Z"
   },
   {
    "duration": 462,
    "start_time": "2025-03-23T13:52:17.098Z"
   },
   {
    "duration": 4,
    "start_time": "2025-03-23T14:13:42.688Z"
   },
   {
    "duration": 7136,
    "start_time": "2025-03-23T14:13:45.152Z"
   },
   {
    "duration": 3,
    "start_time": "2025-03-23T14:13:57.344Z"
   },
   {
    "duration": 3025,
    "start_time": "2025-03-23T14:13:59.150Z"
   },
   {
    "duration": 3,
    "start_time": "2025-03-23T14:14:03.919Z"
   },
   {
    "duration": 386,
    "start_time": "2025-03-23T14:14:06.270Z"
   },
   {
    "duration": 10,
    "start_time": "2025-03-23T14:14:53.646Z"
   },
   {
    "duration": 40,
    "start_time": "2025-03-23T14:14:56.638Z"
   },
   {
    "duration": 19,
    "start_time": "2025-03-23T14:14:58.685Z"
   },
   {
    "duration": 3,
    "start_time": "2025-03-23T14:20:39.784Z"
   },
   {
    "duration": 2262,
    "start_time": "2025-03-23T14:20:46.783Z"
   },
   {
    "duration": 917,
    "start_time": "2025-03-23T14:20:49.048Z"
   },
   {
    "duration": 3,
    "start_time": "2025-03-23T14:20:49.968Z"
   },
   {
    "duration": 41,
    "start_time": "2025-03-23T14:20:49.973Z"
   },
   {
    "duration": 3,
    "start_time": "2025-03-23T14:20:50.016Z"
   },
   {
    "duration": 815,
    "start_time": "2025-03-23T14:20:50.021Z"
   },
   {
    "duration": 4,
    "start_time": "2025-03-23T14:20:50.837Z"
   },
   {
    "duration": 2035,
    "start_time": "2025-03-23T14:20:50.843Z"
   },
   {
    "duration": 3,
    "start_time": "2025-03-23T14:20:52.880Z"
   },
   {
    "duration": 61,
    "start_time": "2025-03-23T14:20:52.885Z"
   },
   {
    "duration": 144,
    "start_time": "2025-03-23T14:20:52.948Z"
   },
   {
    "duration": 0,
    "start_time": "2025-03-23T14:20:53.094Z"
   },
   {
    "duration": 0,
    "start_time": "2025-03-23T14:20:53.095Z"
   },
   {
    "duration": 0,
    "start_time": "2025-03-23T14:20:53.095Z"
   },
   {
    "duration": 0,
    "start_time": "2025-03-23T14:20:53.096Z"
   },
   {
    "duration": 0,
    "start_time": "2025-03-23T14:20:53.097Z"
   },
   {
    "duration": 64,
    "start_time": "2025-03-23T14:21:09.879Z"
   },
   {
    "duration": 2186,
    "start_time": "2025-03-23T14:21:18.698Z"
   },
   {
    "duration": 964,
    "start_time": "2025-03-23T14:21:20.886Z"
   },
   {
    "duration": 5,
    "start_time": "2025-03-23T14:21:21.852Z"
   },
   {
    "duration": 42,
    "start_time": "2025-03-23T14:21:21.859Z"
   },
   {
    "duration": 3,
    "start_time": "2025-03-23T14:21:21.903Z"
   },
   {
    "duration": 890,
    "start_time": "2025-03-23T14:21:21.907Z"
   },
   {
    "duration": 3,
    "start_time": "2025-03-23T14:21:22.798Z"
   },
   {
    "duration": 2064,
    "start_time": "2025-03-23T14:21:22.802Z"
   },
   {
    "duration": 3,
    "start_time": "2025-03-23T14:21:24.868Z"
   },
   {
    "duration": 3,
    "start_time": "2025-03-23T14:21:24.873Z"
   },
   {
    "duration": 3,
    "start_time": "2025-03-23T14:21:24.878Z"
   },
   {
    "duration": 85,
    "start_time": "2025-03-23T14:21:24.883Z"
   },
   {
    "duration": 3,
    "start_time": "2025-03-23T14:21:24.970Z"
   },
   {
    "duration": 3,
    "start_time": "2025-03-23T14:21:24.974Z"
   },
   {
    "duration": 3,
    "start_time": "2025-03-23T14:21:24.978Z"
   },
   {
    "duration": 6,
    "start_time": "2025-03-23T14:21:24.982Z"
   },
   {
    "duration": 158,
    "start_time": "2025-03-23T14:24:43.447Z"
   },
   {
    "duration": 4,
    "start_time": "2025-03-23T14:25:10.278Z"
   },
   {
    "duration": 3,
    "start_time": "2025-03-23T14:25:12.008Z"
   },
   {
    "duration": 2586,
    "start_time": "2025-03-23T14:25:20.779Z"
   },
   {
    "duration": 830,
    "start_time": "2025-03-23T14:25:23.367Z"
   },
   {
    "duration": 2,
    "start_time": "2025-03-23T14:25:24.199Z"
   },
   {
    "duration": 34,
    "start_time": "2025-03-23T14:25:24.202Z"
   },
   {
    "duration": 19,
    "start_time": "2025-03-23T14:25:24.237Z"
   },
   {
    "duration": 793,
    "start_time": "2025-03-23T14:25:24.257Z"
   },
   {
    "duration": 5,
    "start_time": "2025-03-23T14:25:25.051Z"
   },
   {
    "duration": 1824,
    "start_time": "2025-03-23T14:25:25.057Z"
   },
   {
    "duration": 3,
    "start_time": "2025-03-23T14:25:26.882Z"
   },
   {
    "duration": 15,
    "start_time": "2025-03-23T14:25:26.886Z"
   },
   {
    "duration": 8,
    "start_time": "2025-03-23T14:25:26.902Z"
   },
   {
    "duration": 75,
    "start_time": "2025-03-23T14:25:26.912Z"
   },
   {
    "duration": 2,
    "start_time": "2025-03-23T14:25:26.988Z"
   },
   {
    "duration": 16,
    "start_time": "2025-03-23T14:25:26.992Z"
   },
   {
    "duration": 10,
    "start_time": "2025-03-23T14:25:27.010Z"
   },
   {
    "duration": 8,
    "start_time": "2025-03-23T14:25:27.022Z"
   },
   {
    "duration": 2398,
    "start_time": "2025-03-23T14:32:44.252Z"
   },
   {
    "duration": 819,
    "start_time": "2025-03-23T14:32:46.655Z"
   },
   {
    "duration": 2,
    "start_time": "2025-03-23T14:32:47.476Z"
   },
   {
    "duration": 128,
    "start_time": "2025-03-23T14:32:47.480Z"
   },
   {
    "duration": 2,
    "start_time": "2025-03-23T14:32:47.610Z"
   },
   {
    "duration": 5,
    "start_time": "2025-03-23T14:32:47.613Z"
   },
   {
    "duration": 4,
    "start_time": "2025-03-23T14:32:47.619Z"
   },
   {
    "duration": 809,
    "start_time": "2025-03-23T14:32:47.624Z"
   },
   {
    "duration": 3,
    "start_time": "2025-03-23T14:32:48.434Z"
   },
   {
    "duration": 1771,
    "start_time": "2025-03-23T14:32:48.438Z"
   },
   {
    "duration": 2,
    "start_time": "2025-03-23T14:32:50.211Z"
   },
   {
    "duration": 13,
    "start_time": "2025-03-23T14:32:50.215Z"
   },
   {
    "duration": 5,
    "start_time": "2025-03-23T14:32:50.229Z"
   },
   {
    "duration": 71,
    "start_time": "2025-03-23T14:32:50.236Z"
   },
   {
    "duration": 3,
    "start_time": "2025-03-23T14:32:50.309Z"
   },
   {
    "duration": 34,
    "start_time": "2025-03-23T14:32:50.314Z"
   },
   {
    "duration": 7,
    "start_time": "2025-03-23T14:32:50.350Z"
   },
   {
    "duration": 9,
    "start_time": "2025-03-23T14:32:50.359Z"
   },
   {
    "duration": 2422,
    "start_time": "2025-03-23T14:34:02.755Z"
   },
   {
    "duration": 839,
    "start_time": "2025-03-23T14:34:05.178Z"
   },
   {
    "duration": 3,
    "start_time": "2025-03-23T14:34:06.020Z"
   },
   {
    "duration": 68,
    "start_time": "2025-03-23T14:34:06.025Z"
   },
   {
    "duration": 8,
    "start_time": "2025-03-23T14:34:06.095Z"
   },
   {
    "duration": 17,
    "start_time": "2025-03-23T14:34:06.104Z"
   },
   {
    "duration": 2340,
    "start_time": "2025-03-23T14:35:09.858Z"
   },
   {
    "duration": 789,
    "start_time": "2025-03-23T14:35:12.199Z"
   },
   {
    "duration": 3,
    "start_time": "2025-03-23T14:35:12.989Z"
   },
   {
    "duration": 48,
    "start_time": "2025-03-23T14:35:12.993Z"
   },
   {
    "duration": 2,
    "start_time": "2025-03-23T14:35:13.043Z"
   },
   {
    "duration": 10,
    "start_time": "2025-03-23T14:35:13.046Z"
   },
   {
    "duration": 121848,
    "start_time": "2025-03-23T14:35:13.057Z"
   },
   {
    "duration": 3,
    "start_time": "2025-03-23T14:37:14.906Z"
   },
   {
    "duration": 722,
    "start_time": "2025-03-23T14:37:14.910Z"
   },
   {
    "duration": 3,
    "start_time": "2025-03-23T14:37:15.633Z"
   },
   {
    "duration": 1749,
    "start_time": "2025-03-23T14:37:15.637Z"
   },
   {
    "duration": 3,
    "start_time": "2025-03-23T14:37:17.387Z"
   },
   {
    "duration": 3,
    "start_time": "2025-03-23T14:37:17.392Z"
   },
   {
    "duration": 2,
    "start_time": "2025-03-23T14:37:17.398Z"
   },
   {
    "duration": 104,
    "start_time": "2025-03-23T14:37:17.401Z"
   },
   {
    "duration": 2,
    "start_time": "2025-03-23T14:37:17.507Z"
   },
   {
    "duration": 54,
    "start_time": "2025-03-23T14:37:17.511Z"
   },
   {
    "duration": 3,
    "start_time": "2025-03-23T14:37:17.567Z"
   },
   {
    "duration": 3,
    "start_time": "2025-03-23T14:37:17.572Z"
   },
   {
    "duration": 2348,
    "start_time": "2025-03-23T14:37:37.908Z"
   },
   {
    "duration": 818,
    "start_time": "2025-03-23T14:37:40.257Z"
   },
   {
    "duration": 3,
    "start_time": "2025-03-23T14:37:41.076Z"
   },
   {
    "duration": 36,
    "start_time": "2025-03-23T14:37:41.081Z"
   },
   {
    "duration": 2,
    "start_time": "2025-03-23T14:37:41.119Z"
   },
   {
    "duration": 6,
    "start_time": "2025-03-23T14:37:41.122Z"
   },
   {
    "duration": 122777,
    "start_time": "2025-03-23T14:37:41.129Z"
   },
   {
    "duration": 57,
    "start_time": "2025-03-23T14:39:43.908Z"
   },
   {
    "duration": 3,
    "start_time": "2025-03-23T14:39:43.966Z"
   },
   {
    "duration": 824,
    "start_time": "2025-03-23T14:39:43.971Z"
   },
   {
    "duration": 2,
    "start_time": "2025-03-23T14:39:44.797Z"
   },
   {
    "duration": 1873,
    "start_time": "2025-03-23T14:39:44.801Z"
   },
   {
    "duration": 2,
    "start_time": "2025-03-23T14:39:46.676Z"
   },
   {
    "duration": 3,
    "start_time": "2025-03-23T14:39:46.680Z"
   },
   {
    "duration": 3,
    "start_time": "2025-03-23T14:39:46.684Z"
   },
   {
    "duration": 115,
    "start_time": "2025-03-23T14:39:46.689Z"
   },
   {
    "duration": 2,
    "start_time": "2025-03-23T14:39:46.805Z"
   },
   {
    "duration": 6,
    "start_time": "2025-03-23T14:39:46.808Z"
   },
   {
    "duration": 10,
    "start_time": "2025-03-23T14:39:46.815Z"
   },
   {
    "duration": 4,
    "start_time": "2025-03-23T14:39:46.826Z"
   },
   {
    "duration": 77,
    "start_time": "2025-03-23T14:48:36.982Z"
   },
   {
    "duration": 2237,
    "start_time": "2025-03-23T14:48:56.793Z"
   },
   {
    "duration": 778,
    "start_time": "2025-03-23T14:48:59.031Z"
   },
   {
    "duration": 3,
    "start_time": "2025-03-23T14:48:59.810Z"
   },
   {
    "duration": 120,
    "start_time": "2025-03-23T14:48:59.815Z"
   },
   {
    "duration": 2,
    "start_time": "2025-03-23T14:48:59.938Z"
   },
   {
    "duration": 74,
    "start_time": "2025-03-23T14:48:59.941Z"
   },
   {
    "duration": 0,
    "start_time": "2025-03-23T14:49:00.016Z"
   },
   {
    "duration": 1,
    "start_time": "2025-03-23T14:49:00.017Z"
   },
   {
    "duration": 0,
    "start_time": "2025-03-23T14:49:00.018Z"
   },
   {
    "duration": 0,
    "start_time": "2025-03-23T14:49:00.020Z"
   },
   {
    "duration": 0,
    "start_time": "2025-03-23T14:49:00.020Z"
   },
   {
    "duration": 0,
    "start_time": "2025-03-23T14:49:00.021Z"
   },
   {
    "duration": 0,
    "start_time": "2025-03-23T14:49:00.022Z"
   },
   {
    "duration": 0,
    "start_time": "2025-03-23T14:49:00.023Z"
   },
   {
    "duration": 0,
    "start_time": "2025-03-23T14:49:00.023Z"
   },
   {
    "duration": 0,
    "start_time": "2025-03-23T14:49:00.024Z"
   },
   {
    "duration": 0,
    "start_time": "2025-03-23T14:49:00.025Z"
   },
   {
    "duration": 0,
    "start_time": "2025-03-23T14:49:00.026Z"
   },
   {
    "duration": 0,
    "start_time": "2025-03-23T14:49:00.027Z"
   },
   {
    "duration": 0,
    "start_time": "2025-03-23T14:49:00.028Z"
   },
   {
    "duration": 3,
    "start_time": "2025-03-23T14:49:28.997Z"
   },
   {
    "duration": 118588,
    "start_time": "2025-03-23T14:49:44.100Z"
   },
   {
    "duration": 49,
    "start_time": "2025-03-23T14:52:28.053Z"
   },
   {
    "duration": 2588,
    "start_time": "2025-03-23T14:59:24.630Z"
   },
   {
    "duration": 823,
    "start_time": "2025-03-23T14:59:27.219Z"
   },
   {
    "duration": 3,
    "start_time": "2025-03-23T14:59:28.043Z"
   },
   {
    "duration": 51,
    "start_time": "2025-03-23T14:59:28.047Z"
   },
   {
    "duration": 3,
    "start_time": "2025-03-23T14:59:28.100Z"
   },
   {
    "duration": 3,
    "start_time": "2025-03-23T14:59:28.104Z"
   },
   {
    "duration": 2783,
    "start_time": "2025-03-23T15:00:03.599Z"
   },
   {
    "duration": 856,
    "start_time": "2025-03-23T15:00:06.384Z"
   },
   {
    "duration": 15,
    "start_time": "2025-03-23T15:00:07.241Z"
   },
   {
    "duration": 34,
    "start_time": "2025-03-23T15:00:07.257Z"
   },
   {
    "duration": 2,
    "start_time": "2025-03-23T15:00:07.293Z"
   },
   {
    "duration": 15,
    "start_time": "2025-03-23T15:00:07.296Z"
   },
   {
    "duration": 22,
    "start_time": "2025-03-23T15:00:07.312Z"
   },
   {
    "duration": 118972,
    "start_time": "2025-03-23T15:00:07.336Z"
   },
   {
    "duration": 61,
    "start_time": "2025-03-23T15:02:06.310Z"
   },
   {
    "duration": 3,
    "start_time": "2025-03-23T15:02:06.372Z"
   },
   {
    "duration": 880,
    "start_time": "2025-03-23T15:02:06.376Z"
   },
   {
    "duration": 2,
    "start_time": "2025-03-23T15:02:07.258Z"
   },
   {
    "duration": 1863,
    "start_time": "2025-03-23T15:02:07.261Z"
   },
   {
    "duration": 2,
    "start_time": "2025-03-23T15:02:09.126Z"
   },
   {
    "duration": 6,
    "start_time": "2025-03-23T15:02:09.130Z"
   },
   {
    "duration": 89,
    "start_time": "2025-03-23T15:02:09.137Z"
   },
   {
    "duration": 2,
    "start_time": "2025-03-23T15:02:09.227Z"
   },
   {
    "duration": 2,
    "start_time": "2025-03-23T15:02:09.230Z"
   },
   {
    "duration": 6,
    "start_time": "2025-03-23T15:02:09.234Z"
   },
   {
    "duration": 20,
    "start_time": "2025-03-23T15:02:09.241Z"
   },
   {
    "duration": 2565,
    "start_time": "2025-03-23T15:09:16.349Z"
   },
   {
    "duration": 821,
    "start_time": "2025-03-23T15:09:18.916Z"
   },
   {
    "duration": 3,
    "start_time": "2025-03-23T15:09:19.738Z"
   },
   {
    "duration": 54,
    "start_time": "2025-03-23T15:09:19.742Z"
   },
   {
    "duration": 3,
    "start_time": "2025-03-23T15:09:19.798Z"
   },
   {
    "duration": 27,
    "start_time": "2025-03-23T15:09:19.802Z"
   },
   {
    "duration": 13,
    "start_time": "2025-03-23T15:09:19.830Z"
   },
   {
    "duration": 8,
    "start_time": "2025-03-23T15:09:19.844Z"
   },
   {
    "duration": 121428,
    "start_time": "2025-03-23T15:09:19.854Z"
   },
   {
    "duration": 51,
    "start_time": "2025-03-23T15:11:21.283Z"
   },
   {
    "duration": 2,
    "start_time": "2025-03-23T15:11:21.336Z"
   },
   {
    "duration": 803,
    "start_time": "2025-03-23T15:11:21.339Z"
   },
   {
    "duration": 3,
    "start_time": "2025-03-23T15:11:22.143Z"
   },
   {
    "duration": 1820,
    "start_time": "2025-03-23T15:11:22.156Z"
   },
   {
    "duration": 2,
    "start_time": "2025-03-23T15:11:23.978Z"
   },
   {
    "duration": 3,
    "start_time": "2025-03-23T15:11:23.981Z"
   },
   {
    "duration": 94,
    "start_time": "2025-03-23T15:11:23.985Z"
   },
   {
    "duration": 2,
    "start_time": "2025-03-23T15:11:24.080Z"
   },
   {
    "duration": 4,
    "start_time": "2025-03-23T15:11:24.083Z"
   },
   {
    "duration": 2,
    "start_time": "2025-03-23T15:11:24.088Z"
   },
   {
    "duration": 2,
    "start_time": "2025-03-23T15:11:24.092Z"
   },
   {
    "duration": 2517,
    "start_time": "2025-03-23T15:13:39.791Z"
   },
   {
    "duration": 822,
    "start_time": "2025-03-23T15:13:42.310Z"
   },
   {
    "duration": 3,
    "start_time": "2025-03-23T15:13:43.133Z"
   },
   {
    "duration": 40,
    "start_time": "2025-03-23T15:13:43.137Z"
   },
   {
    "duration": 2,
    "start_time": "2025-03-23T15:13:43.179Z"
   },
   {
    "duration": 7,
    "start_time": "2025-03-23T15:13:43.182Z"
   },
   {
    "duration": 3,
    "start_time": "2025-03-23T15:13:43.190Z"
   },
   {
    "duration": 3,
    "start_time": "2025-03-23T15:13:43.194Z"
   },
   {
    "duration": 617,
    "start_time": "2025-03-23T15:13:43.198Z"
   },
   {
    "duration": 31,
    "start_time": "2025-03-23T15:13:43.816Z"
   },
   {
    "duration": 2,
    "start_time": "2025-03-23T15:13:43.849Z"
   },
   {
    "duration": 797,
    "start_time": "2025-03-23T15:13:43.853Z"
   },
   {
    "duration": 5,
    "start_time": "2025-03-23T15:13:44.651Z"
   },
   {
    "duration": 1741,
    "start_time": "2025-03-23T15:13:44.658Z"
   },
   {
    "duration": 3,
    "start_time": "2025-03-23T15:13:46.400Z"
   },
   {
    "duration": 19,
    "start_time": "2025-03-23T15:13:46.404Z"
   },
   {
    "duration": 71,
    "start_time": "2025-03-23T15:13:46.424Z"
   },
   {
    "duration": 2,
    "start_time": "2025-03-23T15:13:46.496Z"
   },
   {
    "duration": 8,
    "start_time": "2025-03-23T15:13:46.499Z"
   },
   {
    "duration": 15,
    "start_time": "2025-03-23T15:13:46.509Z"
   },
   {
    "duration": 10,
    "start_time": "2025-03-23T15:13:46.525Z"
   },
   {
    "duration": 4,
    "start_time": "2025-03-23T15:14:33.657Z"
   },
   {
    "duration": 2605,
    "start_time": "2025-03-23T15:14:42.642Z"
   },
   {
    "duration": 855,
    "start_time": "2025-03-23T15:14:45.249Z"
   },
   {
    "duration": 3,
    "start_time": "2025-03-23T15:14:46.106Z"
   },
   {
    "duration": 45,
    "start_time": "2025-03-23T15:14:46.111Z"
   },
   {
    "duration": 2,
    "start_time": "2025-03-23T15:14:46.158Z"
   },
   {
    "duration": 18,
    "start_time": "2025-03-23T15:14:46.162Z"
   },
   {
    "duration": 8,
    "start_time": "2025-03-23T15:14:46.181Z"
   },
   {
    "duration": 11,
    "start_time": "2025-03-23T15:14:46.191Z"
   },
   {
    "duration": 127542,
    "start_time": "2025-03-23T15:14:46.204Z"
   },
   {
    "duration": 52,
    "start_time": "2025-03-23T15:16:53.757Z"
   },
   {
    "duration": 3,
    "start_time": "2025-03-23T15:16:53.811Z"
   },
   {
    "duration": 806,
    "start_time": "2025-03-23T15:16:53.816Z"
   },
   {
    "duration": 3,
    "start_time": "2025-03-23T15:16:54.624Z"
   },
   {
    "duration": 1846,
    "start_time": "2025-03-23T15:16:54.629Z"
   },
   {
    "duration": 2,
    "start_time": "2025-03-23T15:16:56.477Z"
   },
   {
    "duration": 26,
    "start_time": "2025-03-23T15:16:56.481Z"
   },
   {
    "duration": 90,
    "start_time": "2025-03-23T15:16:56.508Z"
   },
   {
    "duration": 2,
    "start_time": "2025-03-23T15:16:56.600Z"
   },
   {
    "duration": 4,
    "start_time": "2025-03-23T15:16:56.604Z"
   },
   {
    "duration": 3,
    "start_time": "2025-03-23T15:16:56.610Z"
   },
   {
    "duration": 8,
    "start_time": "2025-03-23T15:16:56.615Z"
   },
   {
    "duration": 2502,
    "start_time": "2025-03-23T15:56:41.556Z"
   },
   {
    "duration": 778,
    "start_time": "2025-03-23T15:56:44.060Z"
   },
   {
    "duration": 15,
    "start_time": "2025-03-23T15:56:44.841Z"
   },
   {
    "duration": 33,
    "start_time": "2025-03-23T15:56:44.857Z"
   },
   {
    "duration": 2,
    "start_time": "2025-03-23T15:56:44.891Z"
   },
   {
    "duration": 3,
    "start_time": "2025-03-23T15:56:44.894Z"
   },
   {
    "duration": 4,
    "start_time": "2025-03-23T15:56:44.898Z"
   },
   {
    "duration": 13,
    "start_time": "2025-03-23T15:56:44.903Z"
   },
   {
    "duration": 116223,
    "start_time": "2025-03-23T15:56:44.917Z"
   },
   {
    "duration": 149,
    "start_time": "2025-03-23T15:58:41.142Z"
   },
   {
    "duration": 0,
    "start_time": "2025-03-23T15:58:41.293Z"
   },
   {
    "duration": 0,
    "start_time": "2025-03-23T15:58:41.294Z"
   },
   {
    "duration": 0,
    "start_time": "2025-03-23T15:58:41.295Z"
   },
   {
    "duration": 0,
    "start_time": "2025-03-23T15:58:41.296Z"
   },
   {
    "duration": 0,
    "start_time": "2025-03-23T15:58:41.296Z"
   },
   {
    "duration": 0,
    "start_time": "2025-03-23T15:58:41.297Z"
   },
   {
    "duration": 0,
    "start_time": "2025-03-23T15:58:41.298Z"
   },
   {
    "duration": 0,
    "start_time": "2025-03-23T15:58:41.299Z"
   },
   {
    "duration": 0,
    "start_time": "2025-03-23T15:58:41.300Z"
   },
   {
    "duration": 0,
    "start_time": "2025-03-23T15:58:41.300Z"
   },
   {
    "duration": 0,
    "start_time": "2025-03-23T15:58:41.301Z"
   },
   {
    "duration": 0,
    "start_time": "2025-03-23T15:58:41.302Z"
   },
   {
    "duration": 2956,
    "start_time": "2025-03-23T16:34:11.803Z"
   },
   {
    "duration": 765,
    "start_time": "2025-03-23T16:34:14.761Z"
   },
   {
    "duration": 2,
    "start_time": "2025-03-23T16:34:15.528Z"
   },
   {
    "duration": 39,
    "start_time": "2025-03-23T16:34:15.532Z"
   },
   {
    "duration": 2,
    "start_time": "2025-03-23T16:34:15.573Z"
   },
   {
    "duration": 34,
    "start_time": "2025-03-23T16:34:15.576Z"
   },
   {
    "duration": 81855,
    "start_time": "2025-03-23T16:34:15.612Z"
   },
   {
    "duration": 2,
    "start_time": "2025-03-23T16:35:37.469Z"
   },
   {
    "duration": 9,
    "start_time": "2025-03-23T16:35:37.473Z"
   },
   {
    "duration": 20,
    "start_time": "2025-03-23T16:35:37.484Z"
   },
   {
    "duration": 118022,
    "start_time": "2025-03-23T16:35:37.505Z"
   },
   {
    "duration": 161,
    "start_time": "2025-03-23T16:37:35.529Z"
   },
   {
    "duration": 0,
    "start_time": "2025-03-23T16:37:35.692Z"
   },
   {
    "duration": 0,
    "start_time": "2025-03-23T16:37:35.693Z"
   },
   {
    "duration": 0,
    "start_time": "2025-03-23T16:37:35.694Z"
   },
   {
    "duration": 1,
    "start_time": "2025-03-23T16:37:35.694Z"
   },
   {
    "duration": 0,
    "start_time": "2025-03-23T16:37:35.695Z"
   },
   {
    "duration": 0,
    "start_time": "2025-03-23T16:37:35.696Z"
   },
   {
    "duration": 0,
    "start_time": "2025-03-23T16:37:35.697Z"
   },
   {
    "duration": 0,
    "start_time": "2025-03-23T16:37:35.698Z"
   },
   {
    "duration": 0,
    "start_time": "2025-03-23T16:37:35.699Z"
   },
   {
    "duration": 0,
    "start_time": "2025-03-23T16:37:35.700Z"
   },
   {
    "duration": 0,
    "start_time": "2025-03-23T16:37:35.701Z"
   },
   {
    "duration": 0,
    "start_time": "2025-03-23T16:37:35.702Z"
   },
   {
    "duration": 48,
    "start_time": "2025-03-23T16:58:46.516Z"
   },
   {
    "duration": 49,
    "start_time": "2025-03-23T16:58:46.899Z"
   },
   {
    "duration": 2461,
    "start_time": "2025-03-23T16:58:55.597Z"
   },
   {
    "duration": 780,
    "start_time": "2025-03-23T16:58:58.060Z"
   },
   {
    "duration": 2,
    "start_time": "2025-03-23T16:58:58.842Z"
   },
   {
    "duration": 59,
    "start_time": "2025-03-23T16:58:58.845Z"
   },
   {
    "duration": 2,
    "start_time": "2025-03-23T16:58:58.906Z"
   },
   {
    "duration": 3,
    "start_time": "2025-03-23T16:58:58.909Z"
   },
   {
    "duration": 81244,
    "start_time": "2025-03-23T16:58:58.913Z"
   },
   {
    "duration": 62,
    "start_time": "2025-03-23T17:00:20.158Z"
   },
   {
    "duration": 7,
    "start_time": "2025-03-23T17:00:20.221Z"
   },
   {
    "duration": 13,
    "start_time": "2025-03-23T17:00:20.229Z"
   },
   {
    "duration": 5,
    "start_time": "2025-03-23T17:00:20.243Z"
   },
   {
    "duration": 2301,
    "start_time": "2025-03-23T17:01:13.465Z"
   },
   {
    "duration": 768,
    "start_time": "2025-03-23T17:01:15.768Z"
   },
   {
    "duration": 2,
    "start_time": "2025-03-23T17:01:16.538Z"
   },
   {
    "duration": 41,
    "start_time": "2025-03-23T17:01:16.541Z"
   },
   {
    "duration": 2,
    "start_time": "2025-03-23T17:01:16.584Z"
   },
   {
    "duration": 3,
    "start_time": "2025-03-23T17:01:16.587Z"
   },
   {
    "duration": 116303,
    "start_time": "2025-03-23T17:01:16.591Z"
   },
   {
    "duration": 50,
    "start_time": "2025-03-23T17:03:12.895Z"
   },
   {
    "duration": 3,
    "start_time": "2025-03-23T17:03:12.955Z"
   },
   {
    "duration": 6,
    "start_time": "2025-03-23T17:03:12.959Z"
   },
   {
    "duration": 7,
    "start_time": "2025-03-23T17:03:12.966Z"
   },
   {
    "duration": 115272,
    "start_time": "2025-03-23T17:03:12.974Z"
   },
   {
    "duration": 171,
    "start_time": "2025-03-23T17:05:08.248Z"
   },
   {
    "duration": 0,
    "start_time": "2025-03-23T17:05:08.421Z"
   },
   {
    "duration": 0,
    "start_time": "2025-03-23T17:05:08.422Z"
   },
   {
    "duration": 0,
    "start_time": "2025-03-23T17:05:08.424Z"
   },
   {
    "duration": 0,
    "start_time": "2025-03-23T17:05:08.425Z"
   },
   {
    "duration": 0,
    "start_time": "2025-03-23T17:05:08.427Z"
   },
   {
    "duration": 0,
    "start_time": "2025-03-23T17:05:08.428Z"
   },
   {
    "duration": 0,
    "start_time": "2025-03-23T17:05:08.429Z"
   },
   {
    "duration": 0,
    "start_time": "2025-03-23T17:05:08.430Z"
   },
   {
    "duration": 0,
    "start_time": "2025-03-23T17:05:08.431Z"
   },
   {
    "duration": 0,
    "start_time": "2025-03-23T17:05:08.455Z"
   },
   {
    "duration": 0,
    "start_time": "2025-03-23T17:05:08.456Z"
   },
   {
    "duration": 0,
    "start_time": "2025-03-23T17:05:08.457Z"
   },
   {
    "duration": 2437,
    "start_time": "2025-03-23T17:11:57.698Z"
   },
   {
    "duration": 782,
    "start_time": "2025-03-23T17:12:00.137Z"
   },
   {
    "duration": 3,
    "start_time": "2025-03-23T17:12:00.920Z"
   },
   {
    "duration": 52,
    "start_time": "2025-03-23T17:12:00.925Z"
   },
   {
    "duration": 3,
    "start_time": "2025-03-23T17:12:00.978Z"
   },
   {
    "duration": 28,
    "start_time": "2025-03-23T17:12:00.982Z"
   },
   {
    "duration": 80378,
    "start_time": "2025-03-23T17:12:01.011Z"
   },
   {
    "duration": 70,
    "start_time": "2025-03-23T17:13:21.391Z"
   },
   {
    "duration": 3,
    "start_time": "2025-03-23T17:13:21.463Z"
   },
   {
    "duration": 3,
    "start_time": "2025-03-23T17:13:21.469Z"
   },
   {
    "duration": 7,
    "start_time": "2025-03-23T17:13:21.473Z"
   },
   {
    "duration": 116261,
    "start_time": "2025-03-23T17:13:21.481Z"
   },
   {
    "duration": 154,
    "start_time": "2025-03-23T17:15:17.743Z"
   },
   {
    "duration": 0,
    "start_time": "2025-03-23T17:15:17.898Z"
   },
   {
    "duration": 0,
    "start_time": "2025-03-23T17:15:17.899Z"
   },
   {
    "duration": 0,
    "start_time": "2025-03-23T17:15:17.900Z"
   },
   {
    "duration": 0,
    "start_time": "2025-03-23T17:15:17.901Z"
   },
   {
    "duration": 0,
    "start_time": "2025-03-23T17:15:17.902Z"
   },
   {
    "duration": 0,
    "start_time": "2025-03-23T17:15:17.903Z"
   },
   {
    "duration": 0,
    "start_time": "2025-03-23T17:15:17.903Z"
   },
   {
    "duration": 0,
    "start_time": "2025-03-23T17:15:17.904Z"
   },
   {
    "duration": 0,
    "start_time": "2025-03-23T17:15:17.905Z"
   },
   {
    "duration": 0,
    "start_time": "2025-03-23T17:15:17.906Z"
   },
   {
    "duration": 1,
    "start_time": "2025-03-23T17:15:17.906Z"
   },
   {
    "duration": 0,
    "start_time": "2025-03-23T17:15:17.907Z"
   },
   {
    "duration": 2700,
    "start_time": "2025-03-23T17:21:56.986Z"
   },
   {
    "duration": 767,
    "start_time": "2025-03-23T17:21:59.689Z"
   },
   {
    "duration": 3,
    "start_time": "2025-03-23T17:22:00.458Z"
   },
   {
    "duration": 124,
    "start_time": "2025-03-23T17:22:00.462Z"
   },
   {
    "duration": 39,
    "start_time": "2025-03-23T17:22:00.588Z"
   },
   {
    "duration": 7,
    "start_time": "2025-03-23T17:22:00.629Z"
   },
   {
    "duration": 2540,
    "start_time": "2025-03-23T17:23:16.143Z"
   },
   {
    "duration": 794,
    "start_time": "2025-03-23T17:23:18.684Z"
   },
   {
    "duration": 3,
    "start_time": "2025-03-23T17:23:19.479Z"
   },
   {
    "duration": 49,
    "start_time": "2025-03-23T17:23:19.483Z"
   },
   {
    "duration": 2,
    "start_time": "2025-03-23T17:23:19.534Z"
   },
   {
    "duration": 5,
    "start_time": "2025-03-23T17:23:19.538Z"
   },
   {
    "duration": 1088019,
    "start_time": "2025-03-23T17:23:19.544Z"
   },
   {
    "duration": 54,
    "start_time": "2025-03-23T17:41:27.564Z"
   },
   {
    "duration": 3,
    "start_time": "2025-03-23T17:41:27.619Z"
   },
   {
    "duration": 5,
    "start_time": "2025-03-23T17:41:27.623Z"
   },
   {
    "duration": 11,
    "start_time": "2025-03-23T17:41:27.629Z"
   },
   {
    "duration": 115972,
    "start_time": "2025-03-23T17:41:27.641Z"
   },
   {
    "duration": 53,
    "start_time": "2025-03-23T17:43:23.615Z"
   },
   {
    "duration": 2,
    "start_time": "2025-03-23T17:43:23.671Z"
   },
   {
    "duration": 702,
    "start_time": "2025-03-23T17:43:23.674Z"
   },
   {
    "duration": 3,
    "start_time": "2025-03-23T17:43:24.377Z"
   },
   {
    "duration": 1437,
    "start_time": "2025-03-23T17:43:24.382Z"
   },
   {
    "duration": 2,
    "start_time": "2025-03-23T17:43:25.821Z"
   },
   {
    "duration": 3,
    "start_time": "2025-03-23T17:43:25.824Z"
   },
   {
    "duration": 90,
    "start_time": "2025-03-23T17:43:25.828Z"
   },
   {
    "duration": 2,
    "start_time": "2025-03-23T17:43:25.919Z"
   },
   {
    "duration": 41,
    "start_time": "2025-03-23T17:43:25.922Z"
   },
   {
    "duration": 2,
    "start_time": "2025-03-23T17:43:25.965Z"
   },
   {
    "duration": 2,
    "start_time": "2025-03-23T17:43:25.968Z"
   },
   {
    "duration": 2615,
    "start_time": "2025-03-23T17:50:17.352Z"
   },
   {
    "duration": 804,
    "start_time": "2025-03-23T17:50:19.969Z"
   },
   {
    "duration": 3,
    "start_time": "2025-03-23T17:50:20.774Z"
   },
   {
    "duration": 45,
    "start_time": "2025-03-23T17:50:20.778Z"
   },
   {
    "duration": 4,
    "start_time": "2025-03-23T17:50:20.824Z"
   },
   {
    "duration": 35,
    "start_time": "2025-03-23T17:50:20.829Z"
   },
   {
    "duration": 1122575,
    "start_time": "2025-03-23T17:50:20.865Z"
   },
   {
    "duration": 52,
    "start_time": "2025-03-23T18:09:03.441Z"
   },
   {
    "duration": 3,
    "start_time": "2025-03-23T18:09:03.495Z"
   },
   {
    "duration": 17,
    "start_time": "2025-03-23T18:09:03.499Z"
   },
   {
    "duration": 93,
    "start_time": "2025-03-23T18:09:03.518Z"
   },
   {
    "duration": 116318,
    "start_time": "2025-03-23T18:09:03.612Z"
   },
   {
    "duration": 43,
    "start_time": "2025-03-23T18:10:59.932Z"
   },
   {
    "duration": 2,
    "start_time": "2025-03-23T18:10:59.978Z"
   },
   {
    "duration": 799,
    "start_time": "2025-03-23T18:10:59.982Z"
   },
   {
    "duration": 2,
    "start_time": "2025-03-23T18:11:00.783Z"
   },
   {
    "duration": 1716,
    "start_time": "2025-03-23T18:11:00.787Z"
   },
   {
    "duration": 3,
    "start_time": "2025-03-23T18:11:02.504Z"
   },
   {
    "duration": 42,
    "start_time": "2025-03-23T18:11:02.508Z"
   },
   {
    "duration": 121,
    "start_time": "2025-03-23T18:11:02.551Z"
   },
   {
    "duration": 2,
    "start_time": "2025-03-23T18:11:02.674Z"
   },
   {
    "duration": 120,
    "start_time": "2025-03-23T18:11:02.677Z"
   },
   {
    "duration": 23,
    "start_time": "2025-03-23T18:11:02.798Z"
   },
   {
    "duration": 9,
    "start_time": "2025-03-23T18:11:02.823Z"
   },
   {
    "duration": 3,
    "start_time": "2025-03-23T18:19:26.084Z"
   },
   {
    "duration": 858,
    "start_time": "2025-03-23T18:19:28.883Z"
   },
   {
    "duration": 65,
    "start_time": "2025-03-23T18:19:32.036Z"
   },
   {
    "duration": 3,
    "start_time": "2025-03-23T18:21:06.242Z"
   },
   {
    "duration": 2999,
    "start_time": "2025-03-23T18:21:09.169Z"
   },
   {
    "duration": 67,
    "start_time": "2025-03-23T18:21:14.899Z"
   },
   {
    "duration": 3,
    "start_time": "2025-03-23T18:22:06.336Z"
   },
   {
    "duration": 4455,
    "start_time": "2025-03-23T18:22:08.447Z"
   },
   {
    "duration": 77,
    "start_time": "2025-03-23T18:22:14.879Z"
   },
   {
    "duration": 2,
    "start_time": "2025-03-23T18:22:36.448Z"
   },
   {
    "duration": 3121,
    "start_time": "2025-03-23T18:22:39.535Z"
   },
   {
    "duration": 65,
    "start_time": "2025-03-23T18:22:44.145Z"
   },
   {
    "duration": 2488,
    "start_time": "2025-03-23T18:23:51.615Z"
   },
   {
    "duration": 796,
    "start_time": "2025-03-23T18:23:54.105Z"
   },
   {
    "duration": 2,
    "start_time": "2025-03-23T18:23:54.903Z"
   },
   {
    "duration": 33,
    "start_time": "2025-03-23T18:23:54.907Z"
   },
   {
    "duration": 2,
    "start_time": "2025-03-23T18:23:54.956Z"
   },
   {
    "duration": 7,
    "start_time": "2025-03-23T18:23:54.960Z"
   },
   {
    "duration": 2917,
    "start_time": "2025-03-24T06:51:59.722Z"
   },
   {
    "duration": 879,
    "start_time": "2025-03-24T06:52:02.641Z"
   },
   {
    "duration": 2,
    "start_time": "2025-03-24T06:52:03.522Z"
   },
   {
    "duration": 59,
    "start_time": "2025-03-24T06:52:03.525Z"
   },
   {
    "duration": 2,
    "start_time": "2025-03-24T06:52:03.586Z"
   },
   {
    "duration": 22,
    "start_time": "2025-03-24T06:52:03.590Z"
   },
   {
    "duration": 1198531,
    "start_time": "2025-03-24T06:52:03.614Z"
   },
   {
    "duration": 70,
    "start_time": "2025-03-24T07:12:02.147Z"
   },
   {
    "duration": 3,
    "start_time": "2025-03-24T07:12:02.218Z"
   },
   {
    "duration": 38,
    "start_time": "2025-03-24T07:12:02.223Z"
   },
   {
    "duration": 2220,
    "start_time": "2025-03-24T07:12:02.262Z"
   },
   {
    "duration": 84,
    "start_time": "2025-03-24T07:12:04.484Z"
   },
   {
    "duration": 2,
    "start_time": "2025-03-24T07:12:04.570Z"
   },
   {
    "duration": 1638,
    "start_time": "2025-03-24T07:12:04.574Z"
   },
   {
    "duration": 2,
    "start_time": "2025-03-24T07:12:06.214Z"
   },
   {
    "duration": 71,
    "start_time": "2025-03-24T07:12:06.217Z"
   },
   {
    "duration": 90,
    "start_time": "2025-03-24T07:12:06.289Z"
   },
   {
    "duration": 3,
    "start_time": "2025-03-24T07:12:06.381Z"
   },
   {
    "duration": 43,
    "start_time": "2025-03-24T07:12:06.386Z"
   },
   {
    "duration": 15,
    "start_time": "2025-03-24T07:12:06.431Z"
   },
   {
    "duration": 6,
    "start_time": "2025-03-24T07:12:06.448Z"
   },
   {
    "duration": 2869,
    "start_time": "2025-03-24T10:08:37.714Z"
   },
   {
    "duration": 885,
    "start_time": "2025-03-24T10:08:40.585Z"
   },
   {
    "duration": 3,
    "start_time": "2025-03-24T10:08:41.472Z"
   },
   {
    "duration": 59,
    "start_time": "2025-03-24T10:08:41.477Z"
   },
   {
    "duration": 3,
    "start_time": "2025-03-24T10:08:41.537Z"
   },
   {
    "duration": 4,
    "start_time": "2025-03-24T10:08:41.541Z"
   },
   {
    "duration": 627,
    "start_time": "2025-03-24T10:08:41.546Z"
   },
   {
    "duration": 38,
    "start_time": "2025-03-24T10:08:42.175Z"
   },
   {
    "duration": 4,
    "start_time": "2025-03-24T10:08:42.215Z"
   },
   {
    "duration": 22,
    "start_time": "2025-03-24T10:08:42.221Z"
   },
   {
    "duration": 1389,
    "start_time": "2025-03-24T10:08:42.245Z"
   },
   {
    "duration": 0,
    "start_time": "2025-03-24T10:08:43.636Z"
   },
   {
    "duration": 0,
    "start_time": "2025-03-24T10:08:43.637Z"
   },
   {
    "duration": 0,
    "start_time": "2025-03-24T10:08:43.638Z"
   },
   {
    "duration": 0,
    "start_time": "2025-03-24T10:08:43.639Z"
   },
   {
    "duration": 0,
    "start_time": "2025-03-24T10:08:43.641Z"
   },
   {
    "duration": 0,
    "start_time": "2025-03-24T10:08:43.642Z"
   },
   {
    "duration": 0,
    "start_time": "2025-03-24T10:08:43.643Z"
   },
   {
    "duration": 0,
    "start_time": "2025-03-24T10:08:43.644Z"
   },
   {
    "duration": 0,
    "start_time": "2025-03-24T10:08:43.645Z"
   },
   {
    "duration": 0,
    "start_time": "2025-03-24T10:08:43.646Z"
   },
   {
    "duration": 3,
    "start_time": "2025-03-24T10:09:34.436Z"
   },
   {
    "duration": 3627,
    "start_time": "2025-03-24T10:09:45.311Z"
   },
   {
    "duration": 840,
    "start_time": "2025-03-24T10:09:48.940Z"
   },
   {
    "duration": 3,
    "start_time": "2025-03-24T10:09:49.782Z"
   },
   {
    "duration": 59,
    "start_time": "2025-03-24T10:09:49.787Z"
   },
   {
    "duration": 2,
    "start_time": "2025-03-24T10:09:49.848Z"
   },
   {
    "duration": 23,
    "start_time": "2025-03-24T10:09:49.852Z"
   },
   {
    "duration": 128644,
    "start_time": "2025-03-24T10:09:49.877Z"
   },
   {
    "duration": 84,
    "start_time": "2025-03-24T10:11:58.524Z"
   },
   {
    "duration": 4,
    "start_time": "2025-03-24T10:11:58.609Z"
   },
   {
    "duration": 6,
    "start_time": "2025-03-24T10:11:58.615Z"
   },
   {
    "duration": 3006,
    "start_time": "2025-03-24T10:11:58.622Z"
   },
   {
    "duration": 93,
    "start_time": "2025-03-24T10:12:01.629Z"
   },
   {
    "duration": 3,
    "start_time": "2025-03-24T10:12:01.724Z"
   },
   {
    "duration": 2293,
    "start_time": "2025-03-24T10:12:01.729Z"
   },
   {
    "duration": 3,
    "start_time": "2025-03-24T10:12:04.023Z"
   },
   {
    "duration": 7,
    "start_time": "2025-03-24T10:12:04.027Z"
   },
   {
    "duration": 112,
    "start_time": "2025-03-24T10:12:04.036Z"
   },
   {
    "duration": 3,
    "start_time": "2025-03-24T10:12:04.149Z"
   },
   {
    "duration": 13,
    "start_time": "2025-03-24T10:12:04.153Z"
   },
   {
    "duration": 12,
    "start_time": "2025-03-24T10:12:04.167Z"
   },
   {
    "duration": 19,
    "start_time": "2025-03-24T10:12:04.180Z"
   },
   {
    "duration": 3,
    "start_time": "2025-03-24T10:13:33.902Z"
   },
   {
    "duration": 2711,
    "start_time": "2025-03-24T10:13:56.498Z"
   },
   {
    "duration": 844,
    "start_time": "2025-03-24T10:13:59.211Z"
   },
   {
    "duration": 3,
    "start_time": "2025-03-24T10:14:00.056Z"
   },
   {
    "duration": 61,
    "start_time": "2025-03-24T10:14:00.061Z"
   },
   {
    "duration": 2,
    "start_time": "2025-03-24T10:14:00.125Z"
   },
   {
    "duration": 32,
    "start_time": "2025-03-24T10:14:00.129Z"
   },
   {
    "duration": 134723,
    "start_time": "2025-03-24T10:14:00.163Z"
   },
   {
    "duration": 69,
    "start_time": "2025-03-24T10:16:14.888Z"
   },
   {
    "duration": 2833,
    "start_time": "2025-03-24T10:17:16.190Z"
   },
   {
    "duration": 927,
    "start_time": "2025-03-24T10:17:19.026Z"
   },
   {
    "duration": 3,
    "start_time": "2025-03-24T10:17:19.955Z"
   },
   {
    "duration": 66,
    "start_time": "2025-03-24T10:17:19.959Z"
   },
   {
    "duration": 2,
    "start_time": "2025-03-24T10:17:20.027Z"
   },
   {
    "duration": 33,
    "start_time": "2025-03-24T10:17:20.031Z"
   },
   {
    "duration": 145995,
    "start_time": "2025-03-24T10:17:20.066Z"
   },
   {
    "duration": 81,
    "start_time": "2025-03-24T10:19:46.063Z"
   },
   {
    "duration": 651,
    "start_time": "2025-03-24T10:25:02.610Z"
   },
   {
    "duration": 14,
    "start_time": "2025-03-24T10:25:10.433Z"
   },
   {
    "duration": 97,
    "start_time": "2025-03-24T10:25:17.666Z"
   },
   {
    "duration": 3028,
    "start_time": "2025-03-24T10:26:08.620Z"
   },
   {
    "duration": 864,
    "start_time": "2025-03-24T10:26:11.651Z"
   },
   {
    "duration": 3,
    "start_time": "2025-03-24T10:26:12.517Z"
   },
   {
    "duration": 46,
    "start_time": "2025-03-24T10:26:12.522Z"
   },
   {
    "duration": 2,
    "start_time": "2025-03-24T10:26:12.570Z"
   },
   {
    "duration": 12,
    "start_time": "2025-03-24T10:26:12.573Z"
   },
   {
    "duration": 131468,
    "start_time": "2025-03-24T10:26:12.586Z"
   },
   {
    "duration": 72,
    "start_time": "2025-03-24T10:28:24.056Z"
   },
   {
    "duration": 250,
    "start_time": "2025-03-24T10:28:24.129Z"
   },
   {
    "duration": 104,
    "start_time": "2025-03-24T10:28:24.381Z"
   },
   {
    "duration": 86,
    "start_time": "2025-03-24T10:29:31.165Z"
   },
   {
    "duration": 77,
    "start_time": "2025-03-24T10:32:25.882Z"
   },
   {
    "duration": 75,
    "start_time": "2025-03-24T10:33:41.817Z"
   },
   {
    "duration": 153,
    "start_time": "2025-03-24T10:35:43.479Z"
   },
   {
    "duration": 150,
    "start_time": "2025-03-24T10:36:13.975Z"
   },
   {
    "duration": 67,
    "start_time": "2025-03-24T10:36:19.733Z"
   },
   {
    "duration": 158,
    "start_time": "2025-03-24T10:36:24.869Z"
   },
   {
    "duration": 161,
    "start_time": "2025-03-24T10:36:29.046Z"
   },
   {
    "duration": 75,
    "start_time": "2025-03-24T10:39:47.618Z"
   },
   {
    "duration": 158,
    "start_time": "2025-03-24T10:39:53.155Z"
   },
   {
    "duration": 171,
    "start_time": "2025-03-24T10:42:30.289Z"
   },
   {
    "duration": 161,
    "start_time": "2025-03-24T10:43:38.302Z"
   },
   {
    "duration": 157,
    "start_time": "2025-03-24T10:44:15.901Z"
   },
   {
    "duration": 102,
    "start_time": "2025-03-24T10:44:19.932Z"
   },
   {
    "duration": 160,
    "start_time": "2025-03-24T10:44:26.380Z"
   },
   {
    "duration": 162,
    "start_time": "2025-03-24T10:44:58.653Z"
   },
   {
    "duration": 157,
    "start_time": "2025-03-24T10:45:12.414Z"
   },
   {
    "duration": 156,
    "start_time": "2025-03-24T10:45:22.780Z"
   },
   {
    "duration": 156,
    "start_time": "2025-03-24T10:46:24.778Z"
   },
   {
    "duration": 158,
    "start_time": "2025-03-24T10:49:16.472Z"
   },
   {
    "duration": 160,
    "start_time": "2025-03-24T10:49:20.712Z"
   },
   {
    "duration": 165,
    "start_time": "2025-03-24T10:49:26.327Z"
   },
   {
    "duration": 162,
    "start_time": "2025-03-24T10:49:31.799Z"
   },
   {
    "duration": 157,
    "start_time": "2025-03-24T10:49:37.048Z"
   },
   {
    "duration": 156,
    "start_time": "2025-03-24T10:49:47.158Z"
   },
   {
    "duration": 31,
    "start_time": "2025-03-24T10:53:40.323Z"
   },
   {
    "duration": 32,
    "start_time": "2025-03-24T10:54:40.546Z"
   },
   {
    "duration": 31,
    "start_time": "2025-03-24T10:54:45.408Z"
   },
   {
    "duration": 157,
    "start_time": "2025-03-24T10:55:27.696Z"
   },
   {
    "duration": 23,
    "start_time": "2025-03-24T10:55:46.563Z"
   },
   {
    "duration": 3038,
    "start_time": "2025-03-24T10:56:00.887Z"
   },
   {
    "duration": 868,
    "start_time": "2025-03-24T10:56:03.927Z"
   },
   {
    "duration": 3,
    "start_time": "2025-03-24T10:56:04.797Z"
   },
   {
    "duration": 113,
    "start_time": "2025-03-24T10:56:04.801Z"
   },
   {
    "duration": 2,
    "start_time": "2025-03-24T10:56:04.917Z"
   },
   {
    "duration": 25,
    "start_time": "2025-03-24T10:56:04.921Z"
   },
   {
    "duration": 128420,
    "start_time": "2025-03-24T10:56:04.947Z"
   },
   {
    "duration": 69,
    "start_time": "2025-03-24T10:58:13.369Z"
   },
   {
    "duration": 345,
    "start_time": "2025-03-24T10:58:13.440Z"
   },
   {
    "duration": 31,
    "start_time": "2025-03-24T10:58:13.787Z"
   },
   {
    "duration": 26,
    "start_time": "2025-03-24T11:05:35.989Z"
   },
   {
    "duration": 3061,
    "start_time": "2025-03-24T11:05:56.102Z"
   },
   {
    "duration": 879,
    "start_time": "2025-03-24T11:05:59.165Z"
   },
   {
    "duration": 3,
    "start_time": "2025-03-24T11:06:00.046Z"
   },
   {
    "duration": 150,
    "start_time": "2025-03-24T11:06:00.051Z"
   },
   {
    "duration": 44,
    "start_time": "2025-03-24T11:06:00.203Z"
   },
   {
    "duration": 28,
    "start_time": "2025-03-24T11:06:00.249Z"
   },
   {
    "duration": 50,
    "start_time": "2025-03-24T11:06:00.279Z"
   },
   {
    "duration": 2981,
    "start_time": "2025-03-24T11:07:11.417Z"
   },
   {
    "duration": 856,
    "start_time": "2025-03-24T11:07:14.400Z"
   },
   {
    "duration": 3,
    "start_time": "2025-03-24T11:07:15.260Z"
   },
   {
    "duration": 56,
    "start_time": "2025-03-24T11:07:15.265Z"
   },
   {
    "duration": 964,
    "start_time": "2025-03-24T11:07:15.322Z"
   },
   {
    "duration": 0,
    "start_time": "2025-03-24T11:07:16.288Z"
   },
   {
    "duration": 0,
    "start_time": "2025-03-24T11:07:16.289Z"
   },
   {
    "duration": 0,
    "start_time": "2025-03-24T11:07:16.290Z"
   },
   {
    "duration": 0,
    "start_time": "2025-03-24T11:07:16.291Z"
   },
   {
    "duration": 0,
    "start_time": "2025-03-24T11:07:16.293Z"
   },
   {
    "duration": 0,
    "start_time": "2025-03-24T11:07:16.293Z"
   },
   {
    "duration": 81,
    "start_time": "2025-03-24T11:07:45.714Z"
   },
   {
    "duration": 12,
    "start_time": "2025-03-24T11:08:26.018Z"
   },
   {
    "duration": 30,
    "start_time": "2025-03-24T11:08:52.865Z"
   },
   {
    "duration": 11,
    "start_time": "2025-03-24T11:09:15.666Z"
   },
   {
    "duration": 12,
    "start_time": "2025-03-24T11:09:21.841Z"
   },
   {
    "duration": 41,
    "start_time": "2025-03-24T11:10:02.416Z"
   },
   {
    "duration": 2938,
    "start_time": "2025-03-24T11:10:20.359Z"
   },
   {
    "duration": 862,
    "start_time": "2025-03-24T11:10:23.300Z"
   },
   {
    "duration": 2,
    "start_time": "2025-03-24T11:10:24.164Z"
   },
   {
    "duration": 55,
    "start_time": "2025-03-24T11:10:24.169Z"
   },
   {
    "duration": 14,
    "start_time": "2025-03-24T11:10:24.225Z"
   },
   {
    "duration": 42,
    "start_time": "2025-03-24T11:10:24.240Z"
   },
   {
    "duration": 2,
    "start_time": "2025-03-24T11:10:24.284Z"
   },
   {
    "duration": 20,
    "start_time": "2025-03-24T11:10:24.288Z"
   },
   {
    "duration": 3004,
    "start_time": "2025-03-24T11:11:11.794Z"
   },
   {
    "duration": 874,
    "start_time": "2025-03-24T11:11:14.800Z"
   },
   {
    "duration": 3,
    "start_time": "2025-03-24T11:11:15.676Z"
   },
   {
    "duration": 47,
    "start_time": "2025-03-24T11:11:15.680Z"
   },
   {
    "duration": 13,
    "start_time": "2025-03-24T11:11:15.729Z"
   },
   {
    "duration": 25,
    "start_time": "2025-03-24T11:11:15.744Z"
   },
   {
    "duration": 4,
    "start_time": "2025-03-24T11:11:15.770Z"
   },
   {
    "duration": 128376,
    "start_time": "2025-03-24T11:11:15.775Z"
   },
   {
    "duration": 68,
    "start_time": "2025-03-24T11:13:24.153Z"
   },
   {
    "duration": 344,
    "start_time": "2025-03-24T11:13:24.222Z"
   },
   {
    "duration": 19,
    "start_time": "2025-03-24T11:13:24.568Z"
   },
   {
    "duration": 3171,
    "start_time": "2025-03-24T11:24:47.401Z"
   },
   {
    "duration": 870,
    "start_time": "2025-03-24T11:24:50.574Z"
   },
   {
    "duration": 8,
    "start_time": "2025-03-24T11:24:51.445Z"
   },
   {
    "duration": 64,
    "start_time": "2025-03-24T11:24:51.455Z"
   },
   {
    "duration": 14,
    "start_time": "2025-03-24T11:24:51.520Z"
   },
   {
    "duration": 195,
    "start_time": "2025-03-24T11:24:51.535Z"
   },
   {
    "duration": 3,
    "start_time": "2025-03-24T11:24:51.732Z"
   },
   {
    "duration": 23,
    "start_time": "2025-03-24T11:24:51.737Z"
   },
   {
    "duration": 131111,
    "start_time": "2025-03-24T11:24:51.762Z"
   },
   {
    "duration": 72,
    "start_time": "2025-03-24T11:27:02.875Z"
   },
   {
    "duration": 3105,
    "start_time": "2025-03-24T11:39:27.794Z"
   },
   {
    "duration": 894,
    "start_time": "2025-03-24T11:39:30.901Z"
   },
   {
    "duration": 3,
    "start_time": "2025-03-24T11:39:31.797Z"
   },
   {
    "duration": 83,
    "start_time": "2025-03-24T11:39:31.808Z"
   },
   {
    "duration": 48,
    "start_time": "2025-03-24T11:39:31.892Z"
   },
   {
    "duration": 201,
    "start_time": "2025-03-24T11:39:31.942Z"
   },
   {
    "duration": 2,
    "start_time": "2025-03-24T11:39:32.145Z"
   },
   {
    "duration": 19,
    "start_time": "2025-03-24T11:39:32.149Z"
   },
   {
    "duration": 136481,
    "start_time": "2025-03-24T11:39:32.170Z"
   },
   {
    "duration": 77,
    "start_time": "2025-03-24T11:41:48.653Z"
   },
   {
    "duration": 3075,
    "start_time": "2025-03-25T09:04:30.710Z"
   },
   {
    "duration": 863,
    "start_time": "2025-03-25T09:04:33.787Z"
   },
   {
    "duration": 6,
    "start_time": "2025-03-25T09:04:34.651Z"
   },
   {
    "duration": 39,
    "start_time": "2025-03-25T09:04:34.658Z"
   },
   {
    "duration": 12,
    "start_time": "2025-03-25T09:04:34.699Z"
   },
   {
    "duration": 201,
    "start_time": "2025-03-25T09:04:34.713Z"
   },
   {
    "duration": 2,
    "start_time": "2025-03-25T09:04:34.916Z"
   },
   {
    "duration": 5,
    "start_time": "2025-03-25T09:04:34.919Z"
   },
   {
    "duration": 127145,
    "start_time": "2025-03-25T09:04:34.925Z"
   },
   {
    "duration": 58,
    "start_time": "2025-03-25T09:06:42.072Z"
   },
   {
    "duration": 3134,
    "start_time": "2025-03-25T14:30:43.614Z"
   },
   {
    "duration": 0,
    "start_time": "2025-03-25T14:30:46.751Z"
   },
   {
    "duration": 0,
    "start_time": "2025-03-25T14:30:46.753Z"
   },
   {
    "duration": 0,
    "start_time": "2025-03-25T14:30:46.754Z"
   },
   {
    "duration": 0,
    "start_time": "2025-03-25T14:30:46.756Z"
   },
   {
    "duration": 0,
    "start_time": "2025-03-25T14:30:46.757Z"
   },
   {
    "duration": 0,
    "start_time": "2025-03-25T14:30:46.759Z"
   },
   {
    "duration": 0,
    "start_time": "2025-03-25T14:30:46.761Z"
   },
   {
    "duration": 0,
    "start_time": "2025-03-25T14:30:46.762Z"
   },
   {
    "duration": 0,
    "start_time": "2025-03-25T14:30:46.763Z"
   },
   {
    "duration": 0,
    "start_time": "2025-03-25T14:30:46.764Z"
   },
   {
    "duration": 0,
    "start_time": "2025-03-25T14:30:46.766Z"
   },
   {
    "duration": 0,
    "start_time": "2025-03-25T14:30:46.767Z"
   },
   {
    "duration": 0,
    "start_time": "2025-03-25T14:30:46.769Z"
   },
   {
    "duration": 7939,
    "start_time": "2025-03-25T14:32:05.431Z"
   },
   {
    "duration": 3522,
    "start_time": "2025-03-25T14:32:13.372Z"
   },
   {
    "duration": 1296,
    "start_time": "2025-03-25T14:32:16.895Z"
   },
   {
    "duration": 4,
    "start_time": "2025-03-25T14:32:18.192Z"
   },
   {
    "duration": 44,
    "start_time": "2025-03-25T14:32:18.198Z"
   },
   {
    "duration": 17,
    "start_time": "2025-03-25T14:32:18.243Z"
   },
   {
    "duration": 198,
    "start_time": "2025-03-25T14:32:18.262Z"
   },
   {
    "duration": 5,
    "start_time": "2025-03-25T14:32:18.463Z"
   },
   {
    "duration": 5,
    "start_time": "2025-03-25T14:32:18.470Z"
   },
   {
    "duration": 134846,
    "start_time": "2025-03-25T14:32:18.477Z"
   },
   {
    "duration": 78,
    "start_time": "2025-03-25T14:34:33.325Z"
   },
   {
    "duration": 38,
    "start_time": "2025-03-25T14:34:33.404Z"
   },
   {
    "duration": 50,
    "start_time": "2025-03-25T14:34:33.456Z"
   },
   {
    "duration": 65,
    "start_time": "2025-03-25T14:34:33.509Z"
   },
   {
    "duration": 187,
    "start_time": "2025-03-25T14:34:33.575Z"
   },
   {
    "duration": 77,
    "start_time": "2025-03-25T14:37:31.813Z"
   },
   {
    "duration": 4,
    "start_time": "2025-03-25T14:37:55.028Z"
   },
   {
    "duration": 13,
    "start_time": "2025-03-25T14:38:11.669Z"
   },
   {
    "duration": 5,
    "start_time": "2025-03-25T14:38:47.572Z"
   },
   {
    "duration": 14,
    "start_time": "2025-03-25T14:39:06.146Z"
   },
   {
    "duration": 18,
    "start_time": "2025-03-25T14:40:42.946Z"
   },
   {
    "duration": 49,
    "start_time": "2025-03-25T14:40:45.474Z"
   },
   {
    "duration": 6,
    "start_time": "2025-03-25T14:40:47.762Z"
   },
   {
    "duration": 12,
    "start_time": "2025-03-25T14:40:49.778Z"
   },
   {
    "duration": 12,
    "start_time": "2025-03-25T14:41:01.442Z"
   },
   {
    "duration": 5,
    "start_time": "2025-03-25T14:42:41.104Z"
   },
   {
    "duration": 7,
    "start_time": "2025-03-25T14:43:03.904Z"
   },
   {
    "duration": 12,
    "start_time": "2025-03-25T14:43:23.201Z"
   },
   {
    "duration": 11,
    "start_time": "2025-03-25T14:43:41.730Z"
   },
   {
    "duration": 6,
    "start_time": "2025-03-25T14:43:48.223Z"
   },
   {
    "duration": 4,
    "start_time": "2025-03-25T14:43:58.896Z"
   },
   {
    "duration": 2385,
    "start_time": "2025-03-25T14:44:13.165Z"
   },
   {
    "duration": 3246,
    "start_time": "2025-03-25T14:44:15.553Z"
   },
   {
    "duration": 889,
    "start_time": "2025-03-25T14:44:18.801Z"
   },
   {
    "duration": 3,
    "start_time": "2025-03-25T14:44:19.692Z"
   },
   {
    "duration": 47,
    "start_time": "2025-03-25T14:44:19.697Z"
   },
   {
    "duration": 34,
    "start_time": "2025-03-25T14:44:19.746Z"
   },
   {
    "duration": 208,
    "start_time": "2025-03-25T14:44:19.782Z"
   },
   {
    "duration": 2,
    "start_time": "2025-03-25T14:44:19.992Z"
   },
   {
    "duration": 5,
    "start_time": "2025-03-25T14:44:19.996Z"
   },
   {
    "duration": 127423,
    "start_time": "2025-03-25T14:44:20.003Z"
   },
   {
    "duration": 65,
    "start_time": "2025-03-25T14:46:27.428Z"
   },
   {
    "duration": 63,
    "start_time": "2025-03-25T14:46:27.495Z"
   },
   {
    "duration": 55,
    "start_time": "2025-03-25T14:46:27.560Z"
   },
   {
    "duration": 4,
    "start_time": "2025-03-25T14:46:27.616Z"
   },
   {
    "duration": 37,
    "start_time": "2025-03-25T14:46:27.621Z"
   },
   {
    "duration": 11,
    "start_time": "2025-03-25T14:46:27.660Z"
   },
   {
    "duration": 4,
    "start_time": "2025-03-25T14:46:27.673Z"
   },
   {
    "duration": 5,
    "start_time": "2025-03-25T14:49:19.752Z"
   },
   {
    "duration": 2426,
    "start_time": "2025-03-25T14:49:28.690Z"
   },
   {
    "duration": 3001,
    "start_time": "2025-03-25T14:49:31.118Z"
   },
   {
    "duration": 839,
    "start_time": "2025-03-25T14:49:34.120Z"
   },
   {
    "duration": 3,
    "start_time": "2025-03-25T14:49:34.961Z"
   },
   {
    "duration": 43,
    "start_time": "2025-03-25T14:49:34.965Z"
   },
   {
    "duration": 15,
    "start_time": "2025-03-25T14:49:35.009Z"
   },
   {
    "duration": 203,
    "start_time": "2025-03-25T14:49:35.025Z"
   },
   {
    "duration": 2,
    "start_time": "2025-03-25T14:49:35.230Z"
   },
   {
    "duration": 5,
    "start_time": "2025-03-25T14:49:35.234Z"
   },
   {
    "duration": 2402,
    "start_time": "2025-03-25T14:50:39.429Z"
   },
   {
    "duration": 2993,
    "start_time": "2025-03-25T14:50:41.833Z"
   },
   {
    "duration": 837,
    "start_time": "2025-03-25T14:50:44.828Z"
   },
   {
    "duration": 3,
    "start_time": "2025-03-25T14:50:45.666Z"
   },
   {
    "duration": 65,
    "start_time": "2025-03-25T14:50:45.671Z"
   },
   {
    "duration": 13,
    "start_time": "2025-03-25T14:50:45.737Z"
   },
   {
    "duration": 203,
    "start_time": "2025-03-25T14:50:45.752Z"
   },
   {
    "duration": 2,
    "start_time": "2025-03-25T14:50:45.957Z"
   },
   {
    "duration": 4,
    "start_time": "2025-03-25T14:50:45.961Z"
   },
   {
    "duration": 128511,
    "start_time": "2025-03-25T14:50:45.966Z"
   },
   {
    "duration": 62,
    "start_time": "2025-03-25T14:52:54.479Z"
   },
   {
    "duration": 51,
    "start_time": "2025-03-25T14:52:54.543Z"
   },
   {
    "duration": 64,
    "start_time": "2025-03-25T14:52:54.596Z"
   },
   {
    "duration": 8,
    "start_time": "2025-03-25T14:52:54.662Z"
   },
   {
    "duration": 4,
    "start_time": "2025-03-25T14:52:54.672Z"
   },
   {
    "duration": 8,
    "start_time": "2025-03-25T14:52:54.678Z"
   },
   {
    "duration": 8,
    "start_time": "2025-03-25T14:52:54.688Z"
   },
   {
    "duration": 44,
    "start_time": "2025-03-25T14:52:54.697Z"
   },
   {
    "duration": 4,
    "start_time": "2025-03-25T15:30:51.880Z"
   },
   {
    "duration": 4,
    "start_time": "2025-03-25T15:32:32.341Z"
   },
   {
    "duration": 91,
    "start_time": "2025-03-25T15:33:38.868Z"
   },
   {
    "duration": 146,
    "start_time": "2025-03-25T15:33:55.797Z"
   },
   {
    "duration": 161,
    "start_time": "2025-03-25T15:34:11.698Z"
   },
   {
    "duration": 2420,
    "start_time": "2025-03-25T15:41:18.932Z"
   },
   {
    "duration": 3489,
    "start_time": "2025-03-25T15:41:21.354Z"
   },
   {
    "duration": 0,
    "start_time": "2025-03-25T15:41:24.845Z"
   },
   {
    "duration": 0,
    "start_time": "2025-03-25T15:41:24.846Z"
   },
   {
    "duration": 0,
    "start_time": "2025-03-25T15:41:24.847Z"
   },
   {
    "duration": 0,
    "start_time": "2025-03-25T15:41:24.857Z"
   },
   {
    "duration": 0,
    "start_time": "2025-03-25T15:41:24.858Z"
   },
   {
    "duration": 0,
    "start_time": "2025-03-25T15:41:24.859Z"
   },
   {
    "duration": 0,
    "start_time": "2025-03-25T15:41:24.861Z"
   },
   {
    "duration": 0,
    "start_time": "2025-03-25T15:41:24.862Z"
   },
   {
    "duration": 0,
    "start_time": "2025-03-25T15:41:24.864Z"
   },
   {
    "duration": 0,
    "start_time": "2025-03-25T15:41:24.865Z"
   },
   {
    "duration": 0,
    "start_time": "2025-03-25T15:41:24.870Z"
   },
   {
    "duration": 0,
    "start_time": "2025-03-25T15:41:24.871Z"
   },
   {
    "duration": 5,
    "start_time": "2025-03-25T15:41:44.507Z"
   },
   {
    "duration": 2544,
    "start_time": "2025-03-25T15:41:51.850Z"
   },
   {
    "duration": 3394,
    "start_time": "2025-03-25T15:41:54.396Z"
   },
   {
    "duration": 939,
    "start_time": "2025-03-25T15:41:57.792Z"
   },
   {
    "duration": 3,
    "start_time": "2025-03-25T15:41:58.733Z"
   },
   {
    "duration": 84,
    "start_time": "2025-03-25T15:41:58.737Z"
   },
   {
    "duration": 19,
    "start_time": "2025-03-25T15:41:58.823Z"
   },
   {
    "duration": 217,
    "start_time": "2025-03-25T15:41:58.860Z"
   },
   {
    "duration": 3,
    "start_time": "2025-03-25T15:41:59.079Z"
   },
   {
    "duration": 11,
    "start_time": "2025-03-25T15:41:59.083Z"
   },
   {
    "duration": 139731,
    "start_time": "2025-03-25T15:41:59.096Z"
   },
   {
    "duration": 84,
    "start_time": "2025-03-25T15:44:18.829Z"
   },
   {
    "duration": 58,
    "start_time": "2025-03-25T15:44:18.915Z"
   },
   {
    "duration": 45,
    "start_time": "2025-03-25T15:44:18.976Z"
   },
   {
    "duration": 7,
    "start_time": "2025-03-25T15:44:19.023Z"
   },
   {
    "duration": 12,
    "start_time": "2025-03-25T16:48:10.990Z"
   },
   {
    "duration": 185,
    "start_time": "2025-03-25T16:48:13.197Z"
   },
   {
    "duration": 2370,
    "start_time": "2025-03-25T16:48:22.240Z"
   },
   {
    "duration": 3004,
    "start_time": "2025-03-25T16:48:24.612Z"
   },
   {
    "duration": 2,
    "start_time": "2025-03-25T16:48:27.618Z"
   },
   {
    "duration": 873,
    "start_time": "2025-03-25T16:48:27.621Z"
   },
   {
    "duration": 3,
    "start_time": "2025-03-25T16:48:28.496Z"
   },
   {
    "duration": 62,
    "start_time": "2025-03-25T16:48:28.501Z"
   },
   {
    "duration": 13,
    "start_time": "2025-03-25T16:48:28.565Z"
   },
   {
    "duration": 198,
    "start_time": "2025-03-25T16:48:28.580Z"
   },
   {
    "duration": 3,
    "start_time": "2025-03-25T16:48:28.779Z"
   },
   {
    "duration": 10,
    "start_time": "2025-03-25T16:48:28.784Z"
   },
   {
    "duration": 128364,
    "start_time": "2025-03-25T16:48:28.796Z"
   },
   {
    "duration": 61,
    "start_time": "2025-03-25T16:50:37.162Z"
   },
   {
    "duration": 58,
    "start_time": "2025-03-25T16:50:37.225Z"
   },
   {
    "duration": 33,
    "start_time": "2025-03-25T16:50:37.285Z"
   },
   {
    "duration": 178,
    "start_time": "2025-03-25T16:50:37.319Z"
   },
   {
    "duration": 0,
    "start_time": "2025-03-25T16:50:37.499Z"
   },
   {
    "duration": 4,
    "start_time": "2025-03-25T16:52:21.642Z"
   },
   {
    "duration": 2361,
    "start_time": "2025-03-25T17:17:48.969Z"
   },
   {
    "duration": 3147,
    "start_time": "2025-03-25T17:17:51.332Z"
   },
   {
    "duration": 2,
    "start_time": "2025-03-25T17:17:54.481Z"
   },
   {
    "duration": 863,
    "start_time": "2025-03-25T17:17:54.484Z"
   },
   {
    "duration": 8,
    "start_time": "2025-03-25T17:17:55.349Z"
   },
   {
    "duration": 47,
    "start_time": "2025-03-25T17:17:55.358Z"
   },
   {
    "duration": 14,
    "start_time": "2025-03-25T17:17:55.407Z"
   },
   {
    "duration": 195,
    "start_time": "2025-03-25T17:17:55.422Z"
   },
   {
    "duration": 2,
    "start_time": "2025-03-25T17:17:55.619Z"
   },
   {
    "duration": 3,
    "start_time": "2025-03-25T17:17:55.623Z"
   },
   {
    "duration": 2339,
    "start_time": "2025-03-25T17:18:26.561Z"
   },
   {
    "duration": 3090,
    "start_time": "2025-03-25T17:18:28.902Z"
   },
   {
    "duration": 3,
    "start_time": "2025-03-25T17:18:31.993Z"
   },
   {
    "duration": 869,
    "start_time": "2025-03-25T17:18:31.998Z"
   },
   {
    "duration": 2,
    "start_time": "2025-03-25T17:18:32.869Z"
   },
   {
    "duration": 58,
    "start_time": "2025-03-25T17:18:32.873Z"
   },
   {
    "duration": 13,
    "start_time": "2025-03-25T17:18:32.933Z"
   },
   {
    "duration": 182,
    "start_time": "2025-03-25T17:18:32.947Z"
   },
   {
    "duration": 2,
    "start_time": "2025-03-25T17:18:33.131Z"
   },
   {
    "duration": 5,
    "start_time": "2025-03-25T17:18:33.134Z"
   },
   {
    "duration": 126296,
    "start_time": "2025-03-25T17:18:33.140Z"
   },
   {
    "duration": 69,
    "start_time": "2025-03-25T17:20:39.438Z"
   },
   {
    "duration": 49,
    "start_time": "2025-03-25T17:20:39.509Z"
   },
   {
    "duration": 35,
    "start_time": "2025-03-25T17:20:39.560Z"
   },
   {
    "duration": 5,
    "start_time": "2025-03-25T17:20:39.597Z"
   },
   {
    "duration": 181,
    "start_time": "2025-03-25T17:20:39.604Z"
   },
   {
    "duration": 0,
    "start_time": "2025-03-25T17:20:39.786Z"
   },
   {
    "duration": 0,
    "start_time": "2025-03-25T17:20:39.787Z"
   },
   {
    "duration": 0,
    "start_time": "2025-03-25T17:20:39.789Z"
   },
   {
    "duration": 0,
    "start_time": "2025-03-25T17:20:39.790Z"
   },
   {
    "duration": 2380,
    "start_time": "2025-03-25T17:26:48.430Z"
   },
   {
    "duration": 3457,
    "start_time": "2025-03-25T17:26:50.812Z"
   },
   {
    "duration": 2,
    "start_time": "2025-03-25T17:26:54.271Z"
   },
   {
    "duration": 895,
    "start_time": "2025-03-25T17:26:54.274Z"
   },
   {
    "duration": 3,
    "start_time": "2025-03-25T17:26:55.171Z"
   },
   {
    "duration": 46,
    "start_time": "2025-03-25T17:26:55.175Z"
   },
   {
    "duration": 13,
    "start_time": "2025-03-25T17:26:55.222Z"
   },
   {
    "duration": 220,
    "start_time": "2025-03-25T17:26:55.237Z"
   },
   {
    "duration": 3,
    "start_time": "2025-03-25T17:26:55.459Z"
   },
   {
    "duration": 22,
    "start_time": "2025-03-25T17:26:55.464Z"
   },
   {
    "duration": 127349,
    "start_time": "2025-03-25T17:26:55.488Z"
   },
   {
    "duration": 70,
    "start_time": "2025-03-25T17:29:02.839Z"
   },
   {
    "duration": 47,
    "start_time": "2025-03-25T17:29:02.911Z"
   },
   {
    "duration": 38,
    "start_time": "2025-03-25T17:29:02.960Z"
   },
   {
    "duration": 5,
    "start_time": "2025-03-25T17:29:03.000Z"
   },
   {
    "duration": 32,
    "start_time": "2025-03-25T17:29:03.006Z"
   },
   {
    "duration": 199,
    "start_time": "2025-03-25T17:29:03.040Z"
   },
   {
    "duration": 0,
    "start_time": "2025-03-25T17:29:03.241Z"
   },
   {
    "duration": 0,
    "start_time": "2025-03-25T17:29:03.243Z"
   },
   {
    "duration": 0,
    "start_time": "2025-03-25T17:29:03.244Z"
   },
   {
    "duration": 5,
    "start_time": "2025-03-25T17:29:49.642Z"
   },
   {
    "duration": 2516,
    "start_time": "2025-03-25T17:30:00.294Z"
   },
   {
    "duration": 3137,
    "start_time": "2025-03-25T17:30:02.813Z"
   },
   {
    "duration": 3,
    "start_time": "2025-03-25T17:30:05.956Z"
   },
   {
    "duration": 911,
    "start_time": "2025-03-25T17:30:05.960Z"
   },
   {
    "duration": 2,
    "start_time": "2025-03-25T17:30:06.873Z"
   },
   {
    "duration": 48,
    "start_time": "2025-03-25T17:30:06.877Z"
   },
   {
    "duration": 14,
    "start_time": "2025-03-25T17:30:06.926Z"
   },
   {
    "duration": 200,
    "start_time": "2025-03-25T17:30:06.942Z"
   },
   {
    "duration": 2,
    "start_time": "2025-03-25T17:30:07.144Z"
   },
   {
    "duration": 28,
    "start_time": "2025-03-25T17:30:07.147Z"
   },
   {
    "duration": 127193,
    "start_time": "2025-03-25T17:30:07.177Z"
   },
   {
    "duration": 59,
    "start_time": "2025-03-25T17:32:14.372Z"
   },
   {
    "duration": 50,
    "start_time": "2025-03-25T17:32:14.433Z"
   },
   {
    "duration": 36,
    "start_time": "2025-03-25T17:32:14.485Z"
   },
   {
    "duration": 5,
    "start_time": "2025-03-25T17:32:14.522Z"
   },
   {
    "duration": 22,
    "start_time": "2025-03-25T17:32:14.529Z"
   },
   {
    "duration": 181,
    "start_time": "2025-03-25T17:32:14.553Z"
   },
   {
    "duration": 0,
    "start_time": "2025-03-25T17:32:14.736Z"
   },
   {
    "duration": 0,
    "start_time": "2025-03-25T17:32:14.737Z"
   },
   {
    "duration": 0,
    "start_time": "2025-03-25T17:32:14.738Z"
   },
   {
    "duration": 12,
    "start_time": "2025-03-25T17:58:58.274Z"
   },
   {
    "duration": 2344,
    "start_time": "2025-03-25T18:01:41.219Z"
   },
   {
    "duration": 3120,
    "start_time": "2025-03-25T18:01:43.565Z"
   },
   {
    "duration": 2,
    "start_time": "2025-03-25T18:01:46.687Z"
   },
   {
    "duration": 200,
    "start_time": "2025-03-25T18:01:46.691Z"
   },
   {
    "duration": 0,
    "start_time": "2025-03-25T18:01:46.893Z"
   },
   {
    "duration": 0,
    "start_time": "2025-03-25T18:01:46.894Z"
   },
   {
    "duration": 0,
    "start_time": "2025-03-25T18:01:46.895Z"
   },
   {
    "duration": 0,
    "start_time": "2025-03-25T18:01:46.896Z"
   },
   {
    "duration": 0,
    "start_time": "2025-03-25T18:01:46.898Z"
   },
   {
    "duration": 0,
    "start_time": "2025-03-25T18:01:46.899Z"
   },
   {
    "duration": 0,
    "start_time": "2025-03-25T18:01:46.900Z"
   },
   {
    "duration": 0,
    "start_time": "2025-03-25T18:01:46.900Z"
   },
   {
    "duration": 0,
    "start_time": "2025-03-25T18:01:46.901Z"
   },
   {
    "duration": 0,
    "start_time": "2025-03-25T18:01:46.902Z"
   },
   {
    "duration": 0,
    "start_time": "2025-03-25T18:01:46.903Z"
   },
   {
    "duration": 0,
    "start_time": "2025-03-25T18:01:46.904Z"
   },
   {
    "duration": 0,
    "start_time": "2025-03-25T18:01:46.906Z"
   },
   {
    "duration": 0,
    "start_time": "2025-03-25T18:01:46.907Z"
   },
   {
    "duration": 0,
    "start_time": "2025-03-25T18:01:46.908Z"
   },
   {
    "duration": 0,
    "start_time": "2025-03-25T18:01:46.909Z"
   },
   {
    "duration": 0,
    "start_time": "2025-03-25T18:01:46.910Z"
   },
   {
    "duration": 2450,
    "start_time": "2025-03-25T18:03:44.073Z"
   },
   {
    "duration": 3049,
    "start_time": "2025-03-25T18:03:46.526Z"
   },
   {
    "duration": 3,
    "start_time": "2025-03-25T18:03:49.576Z"
   },
   {
    "duration": 321,
    "start_time": "2025-03-25T18:03:49.581Z"
   },
   {
    "duration": 843,
    "start_time": "2025-03-25T18:03:49.904Z"
   },
   {
    "duration": 3,
    "start_time": "2025-03-25T18:03:50.748Z"
   },
   {
    "duration": 92,
    "start_time": "2025-03-25T18:03:50.756Z"
   },
   {
    "duration": 12,
    "start_time": "2025-03-25T18:03:50.850Z"
   },
   {
    "duration": 196,
    "start_time": "2025-03-25T18:03:50.863Z"
   },
   {
    "duration": 2,
    "start_time": "2025-03-25T18:03:51.061Z"
   },
   {
    "duration": 23,
    "start_time": "2025-03-25T18:03:51.065Z"
   },
   {
    "duration": 127615,
    "start_time": "2025-03-25T18:03:51.090Z"
   },
   {
    "duration": 70,
    "start_time": "2025-03-25T18:05:58.706Z"
   },
   {
    "duration": 39,
    "start_time": "2025-03-25T18:05:58.779Z"
   },
   {
    "duration": 62,
    "start_time": "2025-03-25T18:05:58.820Z"
   },
   {
    "duration": 5,
    "start_time": "2025-03-25T18:05:58.884Z"
   },
   {
    "duration": 3,
    "start_time": "2025-03-25T18:05:58.891Z"
   },
   {
    "duration": 188,
    "start_time": "2025-03-25T18:05:58.896Z"
   },
   {
    "duration": 0,
    "start_time": "2025-03-25T18:05:59.085Z"
   },
   {
    "duration": 0,
    "start_time": "2025-03-25T18:05:59.086Z"
   },
   {
    "duration": 0,
    "start_time": "2025-03-25T18:05:59.087Z"
   },
   {
    "duration": 4,
    "start_time": "2025-03-25T18:08:47.047Z"
   },
   {
    "duration": 14,
    "start_time": "2025-03-25T18:08:52.663Z"
   },
   {
    "duration": 4,
    "start_time": "2025-03-25T18:09:06.597Z"
   },
   {
    "duration": 2362,
    "start_time": "2025-03-25T18:13:42.806Z"
   },
   {
    "duration": 2903,
    "start_time": "2025-03-25T18:13:45.171Z"
   },
   {
    "duration": 3,
    "start_time": "2025-03-25T18:13:48.075Z"
   },
   {
    "duration": 252,
    "start_time": "2025-03-25T18:13:48.080Z"
   },
   {
    "duration": 844,
    "start_time": "2025-03-25T18:13:48.333Z"
   },
   {
    "duration": 2,
    "start_time": "2025-03-25T18:13:49.179Z"
   },
   {
    "duration": 62,
    "start_time": "2025-03-25T18:13:49.183Z"
   },
   {
    "duration": 13,
    "start_time": "2025-03-25T18:13:49.247Z"
   },
   {
    "duration": 195,
    "start_time": "2025-03-25T18:13:49.262Z"
   },
   {
    "duration": 3,
    "start_time": "2025-03-25T18:13:49.459Z"
   },
   {
    "duration": 17,
    "start_time": "2025-03-25T18:13:49.463Z"
   },
   {
    "duration": 126577,
    "start_time": "2025-03-25T18:13:49.481Z"
   },
   {
    "duration": 67,
    "start_time": "2025-03-25T18:15:56.059Z"
   },
   {
    "duration": 52,
    "start_time": "2025-03-25T18:15:56.128Z"
   },
   {
    "duration": 39,
    "start_time": "2025-03-25T18:15:56.182Z"
   },
   {
    "duration": 15,
    "start_time": "2025-03-25T18:15:56.223Z"
   },
   {
    "duration": 3,
    "start_time": "2025-03-25T18:15:56.240Z"
   },
   {
    "duration": 189,
    "start_time": "2025-03-25T18:15:56.244Z"
   },
   {
    "duration": 0,
    "start_time": "2025-03-25T18:15:56.434Z"
   },
   {
    "duration": 0,
    "start_time": "2025-03-25T18:15:56.435Z"
   },
   {
    "duration": 0,
    "start_time": "2025-03-25T18:15:56.436Z"
   },
   {
    "duration": 3,
    "start_time": "2025-03-25T18:16:19.529Z"
   },
   {
    "duration": 5,
    "start_time": "2025-03-25T18:16:22.936Z"
   },
   {
    "duration": 3,
    "start_time": "2025-03-25T18:16:27.848Z"
   },
   {
    "duration": 3,
    "start_time": "2025-03-25T18:19:31.138Z"
   },
   {
    "duration": 4,
    "start_time": "2025-03-25T18:19:56.897Z"
   },
   {
    "duration": 3,
    "start_time": "2025-03-25T18:22:49.373Z"
   },
   {
    "duration": 46,
    "start_time": "2025-03-25T18:28:01.028Z"
   },
   {
    "duration": 2433,
    "start_time": "2025-03-25T18:28:08.776Z"
   },
   {
    "duration": 4222,
    "start_time": "2025-03-25T18:28:11.212Z"
   },
   {
    "duration": 3,
    "start_time": "2025-03-25T18:28:15.435Z"
   },
   {
    "duration": 248,
    "start_time": "2025-03-25T18:28:15.440Z"
   },
   {
    "duration": 1159,
    "start_time": "2025-03-25T18:28:15.690Z"
   },
   {
    "duration": 3,
    "start_time": "2025-03-25T18:28:16.851Z"
   },
   {
    "duration": 45,
    "start_time": "2025-03-25T18:28:16.855Z"
   },
   {
    "duration": 13,
    "start_time": "2025-03-25T18:28:16.901Z"
   },
   {
    "duration": 181,
    "start_time": "2025-03-25T18:28:16.915Z"
   },
   {
    "duration": 2,
    "start_time": "2025-03-25T18:28:17.099Z"
   },
   {
    "duration": 19,
    "start_time": "2025-03-25T18:28:17.102Z"
   },
   {
    "duration": 125992,
    "start_time": "2025-03-25T18:28:17.122Z"
   },
   {
    "duration": 68,
    "start_time": "2025-03-25T18:30:23.116Z"
   },
   {
    "duration": 46,
    "start_time": "2025-03-25T18:30:23.186Z"
   },
   {
    "duration": 59,
    "start_time": "2025-03-25T18:30:23.234Z"
   },
   {
    "duration": 5,
    "start_time": "2025-03-25T18:30:23.295Z"
   },
   {
    "duration": 5,
    "start_time": "2025-03-25T18:30:23.301Z"
   },
   {
    "duration": 2397,
    "start_time": "2025-03-25T18:31:27.375Z"
   },
   {
    "duration": 4565,
    "start_time": "2025-03-25T18:31:29.774Z"
   },
   {
    "duration": 3,
    "start_time": "2025-03-25T18:31:34.341Z"
   },
   {
    "duration": 242,
    "start_time": "2025-03-25T18:31:34.346Z"
   },
   {
    "duration": 1151,
    "start_time": "2025-03-25T18:31:34.590Z"
   },
   {
    "duration": 3,
    "start_time": "2025-03-25T18:31:35.742Z"
   },
   {
    "duration": 57,
    "start_time": "2025-03-25T18:31:35.747Z"
   },
   {
    "duration": 14,
    "start_time": "2025-03-25T18:31:35.806Z"
   },
   {
    "duration": 190,
    "start_time": "2025-03-25T18:31:35.822Z"
   },
   {
    "duration": 3,
    "start_time": "2025-03-25T18:31:36.015Z"
   },
   {
    "duration": 18,
    "start_time": "2025-03-25T18:31:36.019Z"
   },
   {
    "duration": 125548,
    "start_time": "2025-03-25T18:31:36.039Z"
   },
   {
    "duration": 70,
    "start_time": "2025-03-25T18:33:41.588Z"
   },
   {
    "duration": 37,
    "start_time": "2025-03-25T18:33:41.660Z"
   },
   {
    "duration": 37,
    "start_time": "2025-03-25T18:33:41.699Z"
   },
   {
    "duration": 5,
    "start_time": "2025-03-25T18:33:41.756Z"
   },
   {
    "duration": 2,
    "start_time": "2025-03-25T18:33:41.762Z"
   },
   {
    "duration": 2365,
    "start_time": "2025-03-25T18:34:53.986Z"
   },
   {
    "duration": 3982,
    "start_time": "2025-03-25T18:34:56.353Z"
   },
   {
    "duration": 3,
    "start_time": "2025-03-25T18:35:00.337Z"
   },
   {
    "duration": 189,
    "start_time": "2025-03-25T18:35:00.341Z"
   },
   {
    "duration": 1167,
    "start_time": "2025-03-25T18:35:00.532Z"
   },
   {
    "duration": 2,
    "start_time": "2025-03-25T18:35:01.701Z"
   },
   {
    "duration": 59,
    "start_time": "2025-03-25T18:35:01.705Z"
   },
   {
    "duration": 14,
    "start_time": "2025-03-25T18:35:01.766Z"
   },
   {
    "duration": 195,
    "start_time": "2025-03-25T18:35:01.782Z"
   },
   {
    "duration": 3,
    "start_time": "2025-03-25T18:35:01.979Z"
   },
   {
    "duration": 10,
    "start_time": "2025-03-25T18:35:01.983Z"
   },
   {
    "duration": 125667,
    "start_time": "2025-03-25T18:35:01.995Z"
   },
   {
    "duration": 71,
    "start_time": "2025-03-25T18:37:07.664Z"
   },
   {
    "duration": 38,
    "start_time": "2025-03-25T18:37:07.756Z"
   },
   {
    "duration": 36,
    "start_time": "2025-03-25T18:37:07.796Z"
   },
   {
    "duration": 5,
    "start_time": "2025-03-25T18:37:07.834Z"
   },
   {
    "duration": 1637,
    "start_time": "2025-03-25T18:37:07.859Z"
   },
   {
    "duration": 10,
    "start_time": "2025-03-25T18:37:09.497Z"
   },
   {
    "duration": 2345,
    "start_time": "2025-03-25T18:38:53.128Z"
   },
   {
    "duration": 4227,
    "start_time": "2025-03-25T18:38:55.475Z"
   },
   {
    "duration": 2,
    "start_time": "2025-03-25T18:38:59.704Z"
   },
   {
    "duration": 153,
    "start_time": "2025-03-25T18:38:59.708Z"
   },
   {
    "duration": 1178,
    "start_time": "2025-03-25T18:38:59.863Z"
   },
   {
    "duration": 3,
    "start_time": "2025-03-25T18:39:01.043Z"
   },
   {
    "duration": 62,
    "start_time": "2025-03-25T18:39:01.047Z"
   },
   {
    "duration": 19,
    "start_time": "2025-03-25T18:39:01.110Z"
   },
   {
    "duration": 187,
    "start_time": "2025-03-25T18:39:01.131Z"
   },
   {
    "duration": 3,
    "start_time": "2025-03-25T18:39:01.320Z"
   },
   {
    "duration": 49,
    "start_time": "2025-03-25T18:39:01.324Z"
   },
   {
    "duration": 125419,
    "start_time": "2025-03-25T18:39:01.374Z"
   },
   {
    "duration": 66,
    "start_time": "2025-03-25T18:41:06.794Z"
   },
   {
    "duration": 36,
    "start_time": "2025-03-25T18:41:06.862Z"
   },
   {
    "duration": 34,
    "start_time": "2025-03-25T18:41:06.900Z"
   },
   {
    "duration": 22,
    "start_time": "2025-03-25T18:41:06.935Z"
   },
   {
    "duration": 1632,
    "start_time": "2025-03-25T18:41:06.959Z"
   },
   {
    "duration": 9,
    "start_time": "2025-03-25T18:41:08.592Z"
   },
   {
    "duration": 6724,
    "start_time": "2025-03-25T18:41:08.603Z"
   },
   {
    "duration": 2424,
    "start_time": "2025-03-25T18:45:25.270Z"
   },
   {
    "duration": 4264,
    "start_time": "2025-03-25T18:45:27.696Z"
   },
   {
    "duration": 3,
    "start_time": "2025-03-25T18:45:31.961Z"
   },
   {
    "duration": 162,
    "start_time": "2025-03-25T18:45:31.965Z"
   },
   {
    "duration": 1181,
    "start_time": "2025-03-25T18:45:32.129Z"
   },
   {
    "duration": 2,
    "start_time": "2025-03-25T18:45:33.312Z"
   },
   {
    "duration": 85,
    "start_time": "2025-03-25T18:45:33.316Z"
   },
   {
    "duration": 13,
    "start_time": "2025-03-25T18:45:33.403Z"
   },
   {
    "duration": 182,
    "start_time": "2025-03-25T18:45:33.418Z"
   },
   {
    "duration": 2,
    "start_time": "2025-03-25T18:45:33.602Z"
   },
   {
    "duration": 8,
    "start_time": "2025-03-25T18:45:33.606Z"
   },
   {
    "duration": 125673,
    "start_time": "2025-03-25T18:45:33.616Z"
   },
   {
    "duration": 71,
    "start_time": "2025-03-25T18:47:39.290Z"
   },
   {
    "duration": 39,
    "start_time": "2025-03-25T18:47:39.364Z"
   },
   {
    "duration": 59,
    "start_time": "2025-03-25T18:47:39.405Z"
   },
   {
    "duration": 5,
    "start_time": "2025-03-25T18:47:39.466Z"
   },
   {
    "duration": 177,
    "start_time": "2025-03-25T18:47:39.473Z"
   },
   {
    "duration": 0,
    "start_time": "2025-03-25T18:47:39.652Z"
   },
   {
    "duration": 0,
    "start_time": "2025-03-25T18:47:39.657Z"
   },
   {
    "duration": 0,
    "start_time": "2025-03-25T18:47:39.658Z"
   },
   {
    "duration": 0,
    "start_time": "2025-03-25T18:47:39.660Z"
   },
   {
    "duration": 0,
    "start_time": "2025-03-25T18:47:39.661Z"
   },
   {
    "duration": 0,
    "start_time": "2025-03-25T18:47:39.663Z"
   },
   {
    "duration": 0,
    "start_time": "2025-03-25T18:47:39.664Z"
   },
   {
    "duration": 0,
    "start_time": "2025-03-25T18:47:39.665Z"
   },
   {
    "duration": 0,
    "start_time": "2025-03-25T18:47:39.667Z"
   },
   {
    "duration": 12,
    "start_time": "2025-03-25T18:48:20.909Z"
   },
   {
    "duration": 37,
    "start_time": "2025-03-25T18:48:23.564Z"
   },
   {
    "duration": 340,
    "start_time": "2025-03-25T18:48:26.877Z"
   },
   {
    "duration": 3,
    "start_time": "2025-03-25T18:48:30.780Z"
   },
   {
    "duration": 1337,
    "start_time": "2025-03-25T18:48:33.436Z"
   },
   {
    "duration": 2179,
    "start_time": "2025-03-25T18:48:37.228Z"
   },
   {
    "duration": 647,
    "start_time": "2025-03-25T18:50:54.859Z"
   },
   {
    "duration": 4,
    "start_time": "2025-03-25T18:50:56.844Z"
   },
   {
    "duration": 5,
    "start_time": "2025-03-25T18:51:18.939Z"
   },
   {
    "duration": 5,
    "start_time": "2025-03-25T18:51:57.258Z"
   },
   {
    "duration": 40,
    "start_time": "2025-03-25T18:51:59.130Z"
   },
   {
    "duration": 5,
    "start_time": "2025-03-25T18:52:00.234Z"
   },
   {
    "duration": 2409,
    "start_time": "2025-03-25T18:52:12.084Z"
   },
   {
    "duration": 4120,
    "start_time": "2025-03-25T18:52:14.495Z"
   },
   {
    "duration": 2,
    "start_time": "2025-03-25T18:52:18.617Z"
   },
   {
    "duration": 177,
    "start_time": "2025-03-25T18:52:18.620Z"
   },
   {
    "duration": 1192,
    "start_time": "2025-03-25T18:52:18.801Z"
   },
   {
    "duration": 3,
    "start_time": "2025-03-25T18:52:19.995Z"
   },
   {
    "duration": 69,
    "start_time": "2025-03-25T18:52:20.000Z"
   },
   {
    "duration": 15,
    "start_time": "2025-03-25T18:52:20.070Z"
   },
   {
    "duration": 186,
    "start_time": "2025-03-25T18:52:20.087Z"
   },
   {
    "duration": 3,
    "start_time": "2025-03-25T18:52:20.275Z"
   },
   {
    "duration": 26,
    "start_time": "2025-03-25T18:52:20.280Z"
   },
   {
    "duration": 127538,
    "start_time": "2025-03-25T18:52:20.308Z"
   },
   {
    "duration": 65,
    "start_time": "2025-03-25T18:54:27.848Z"
   },
   {
    "duration": 48,
    "start_time": "2025-03-25T18:54:27.915Z"
   },
   {
    "duration": 34,
    "start_time": "2025-03-25T18:54:27.965Z"
   },
   {
    "duration": 5,
    "start_time": "2025-03-25T18:54:28.001Z"
   },
   {
    "duration": 53,
    "start_time": "2025-03-25T18:54:28.008Z"
   },
   {
    "duration": 5,
    "start_time": "2025-03-25T18:54:28.063Z"
   },
   {
    "duration": 701,
    "start_time": "2025-03-25T18:54:28.070Z"
   },
   {
    "duration": 7,
    "start_time": "2025-03-25T18:54:28.772Z"
   },
   {
    "duration": 4,
    "start_time": "2025-03-25T18:54:28.781Z"
   },
   {
    "duration": 3423,
    "start_time": "2025-03-25T18:54:28.787Z"
   },
   {
    "duration": 2406,
    "start_time": "2025-03-25T18:56:33.409Z"
   },
   {
    "duration": 4456,
    "start_time": "2025-03-25T18:56:35.817Z"
   },
   {
    "duration": 3,
    "start_time": "2025-03-25T18:56:40.277Z"
   },
   {
    "duration": 319,
    "start_time": "2025-03-25T18:56:40.282Z"
   },
   {
    "duration": 1190,
    "start_time": "2025-03-25T18:56:40.603Z"
   },
   {
    "duration": 3,
    "start_time": "2025-03-25T18:56:41.795Z"
   },
   {
    "duration": 50,
    "start_time": "2025-03-25T18:56:41.800Z"
   },
   {
    "duration": 14,
    "start_time": "2025-03-25T18:56:41.856Z"
   },
   {
    "duration": 207,
    "start_time": "2025-03-25T18:56:41.872Z"
   },
   {
    "duration": 2,
    "start_time": "2025-03-25T18:56:42.081Z"
   },
   {
    "duration": 4,
    "start_time": "2025-03-25T18:56:42.085Z"
   },
   {
    "duration": 125927,
    "start_time": "2025-03-25T18:56:42.091Z"
   },
   {
    "duration": 67,
    "start_time": "2025-03-25T18:58:48.021Z"
   },
   {
    "duration": 34,
    "start_time": "2025-03-25T18:58:48.089Z"
   },
   {
    "duration": 51,
    "start_time": "2025-03-25T18:58:48.125Z"
   },
   {
    "duration": 4,
    "start_time": "2025-03-25T18:58:48.178Z"
   },
   {
    "duration": 38,
    "start_time": "2025-03-25T18:58:48.184Z"
   },
   {
    "duration": 4,
    "start_time": "2025-03-25T18:58:48.224Z"
   },
   {
    "duration": 10,
    "start_time": "2025-03-25T18:58:48.229Z"
   },
   {
    "duration": 766,
    "start_time": "2025-03-25T18:58:48.241Z"
   },
   {
    "duration": 4,
    "start_time": "2025-03-25T18:58:49.008Z"
   },
   {
    "duration": 5,
    "start_time": "2025-03-25T18:58:49.013Z"
   },
   {
    "duration": 1262,
    "start_time": "2025-03-25T18:58:49.019Z"
   },
   {
    "duration": 2056,
    "start_time": "2025-03-25T18:58:50.283Z"
   },
   {
    "duration": 1189,
    "start_time": "2025-03-25T18:58:52.341Z"
   },
   {
    "duration": 2383,
    "start_time": "2025-03-25T19:01:22.666Z"
   },
   {
    "duration": 4288,
    "start_time": "2025-03-25T19:01:25.052Z"
   },
   {
    "duration": 3,
    "start_time": "2025-03-25T19:01:29.343Z"
   },
   {
    "duration": 250,
    "start_time": "2025-03-25T19:01:29.347Z"
   },
   {
    "duration": 1172,
    "start_time": "2025-03-25T19:01:29.598Z"
   },
   {
    "duration": 3,
    "start_time": "2025-03-25T19:01:30.772Z"
   },
   {
    "duration": 70,
    "start_time": "2025-03-25T19:01:30.776Z"
   },
   {
    "duration": 13,
    "start_time": "2025-03-25T19:01:30.847Z"
   },
   {
    "duration": 199,
    "start_time": "2025-03-25T19:01:30.862Z"
   },
   {
    "duration": 3,
    "start_time": "2025-03-25T19:01:31.062Z"
   },
   {
    "duration": 16,
    "start_time": "2025-03-25T19:01:31.066Z"
   },
   {
    "duration": 2304,
    "start_time": "2025-03-25T19:01:46.327Z"
   },
   {
    "duration": 2934,
    "start_time": "2025-03-25T19:01:48.633Z"
   },
   {
    "duration": 2,
    "start_time": "2025-03-25T19:01:51.569Z"
   },
   {
    "duration": 139,
    "start_time": "2025-03-25T19:01:51.572Z"
   },
   {
    "duration": 839,
    "start_time": "2025-03-25T19:01:51.714Z"
   },
   {
    "duration": 3,
    "start_time": "2025-03-25T19:01:52.557Z"
   },
   {
    "duration": 67,
    "start_time": "2025-03-25T19:01:52.562Z"
   },
   {
    "duration": 15,
    "start_time": "2025-03-25T19:01:52.631Z"
   },
   {
    "duration": 199,
    "start_time": "2025-03-25T19:01:52.648Z"
   },
   {
    "duration": 2,
    "start_time": "2025-03-25T19:01:52.849Z"
   },
   {
    "duration": 9,
    "start_time": "2025-03-25T19:01:52.853Z"
   },
   {
    "duration": 125734,
    "start_time": "2025-03-25T19:01:52.863Z"
   },
   {
    "duration": 69,
    "start_time": "2025-03-25T19:03:58.599Z"
   },
   {
    "duration": 36,
    "start_time": "2025-03-25T19:03:58.671Z"
   },
   {
    "duration": 57,
    "start_time": "2025-03-25T19:03:58.709Z"
   },
   {
    "duration": 6,
    "start_time": "2025-03-25T19:03:58.768Z"
   },
   {
    "duration": 49,
    "start_time": "2025-03-25T19:03:58.776Z"
   },
   {
    "duration": 30,
    "start_time": "2025-03-25T19:03:58.828Z"
   },
   {
    "duration": 7,
    "start_time": "2025-03-25T19:03:58.860Z"
   },
   {
    "duration": 714,
    "start_time": "2025-03-25T19:03:58.868Z"
   },
   {
    "duration": 19,
    "start_time": "2025-03-25T19:03:59.584Z"
   },
   {
    "duration": 23,
    "start_time": "2025-03-25T19:03:59.604Z"
   },
   {
    "duration": 1335,
    "start_time": "2025-03-25T19:03:59.629Z"
   },
   {
    "duration": 2157,
    "start_time": "2025-03-25T19:04:00.966Z"
   },
   {
    "duration": 1217,
    "start_time": "2025-03-25T19:04:03.125Z"
   },
   {
    "duration": 2354,
    "start_time": "2025-03-25T19:06:42.599Z"
   },
   {
    "duration": 3724,
    "start_time": "2025-03-25T19:06:44.955Z"
   },
   {
    "duration": 3,
    "start_time": "2025-03-25T19:06:48.680Z"
   },
   {
    "duration": 154,
    "start_time": "2025-03-25T19:06:48.684Z"
   },
   {
    "duration": 1143,
    "start_time": "2025-03-25T19:06:48.841Z"
   },
   {
    "duration": 3,
    "start_time": "2025-03-25T19:06:49.986Z"
   },
   {
    "duration": 43,
    "start_time": "2025-03-25T19:06:49.990Z"
   },
   {
    "duration": 13,
    "start_time": "2025-03-25T19:06:50.035Z"
   },
   {
    "duration": 185,
    "start_time": "2025-03-25T19:06:50.049Z"
   },
   {
    "duration": 2,
    "start_time": "2025-03-25T19:06:50.236Z"
   },
   {
    "duration": 18,
    "start_time": "2025-03-25T19:06:50.239Z"
   },
   {
    "duration": 127036,
    "start_time": "2025-03-25T19:06:50.258Z"
   },
   {
    "duration": 68,
    "start_time": "2025-03-25T19:08:57.295Z"
   },
   {
    "duration": 36,
    "start_time": "2025-03-25T19:08:57.366Z"
   },
   {
    "duration": 53,
    "start_time": "2025-03-25T19:08:57.404Z"
   },
   {
    "duration": 7,
    "start_time": "2025-03-25T19:08:57.458Z"
   },
   {
    "duration": 41,
    "start_time": "2025-03-25T19:08:57.466Z"
   },
   {
    "duration": 3,
    "start_time": "2025-03-25T19:08:57.509Z"
   },
   {
    "duration": 22,
    "start_time": "2025-03-25T19:08:57.514Z"
   },
   {
    "duration": 660,
    "start_time": "2025-03-25T19:08:57.538Z"
   },
   {
    "duration": 13,
    "start_time": "2025-03-25T19:08:58.199Z"
   },
   {
    "duration": 4,
    "start_time": "2025-03-25T19:08:58.214Z"
   },
   {
    "duration": 3455,
    "start_time": "2025-03-25T19:08:58.220Z"
   },
   {
    "duration": 2361,
    "start_time": "2025-03-25T19:11:17.708Z"
   },
   {
    "duration": 4317,
    "start_time": "2025-03-25T19:11:20.071Z"
   },
   {
    "duration": 2,
    "start_time": "2025-03-25T19:11:24.389Z"
   },
   {
    "duration": 156,
    "start_time": "2025-03-25T19:11:24.393Z"
   },
   {
    "duration": 1160,
    "start_time": "2025-03-25T19:11:24.551Z"
   },
   {
    "duration": 3,
    "start_time": "2025-03-25T19:11:25.712Z"
   },
   {
    "duration": 79,
    "start_time": "2025-03-25T19:11:25.717Z"
   },
   {
    "duration": 14,
    "start_time": "2025-03-25T19:11:25.797Z"
   },
   {
    "duration": 203,
    "start_time": "2025-03-25T19:11:25.812Z"
   },
   {
    "duration": 3,
    "start_time": "2025-03-25T19:11:26.017Z"
   },
   {
    "duration": 30,
    "start_time": "2025-03-25T19:11:26.022Z"
   },
   {
    "duration": 124146,
    "start_time": "2025-03-25T19:11:26.053Z"
   },
   {
    "duration": 70,
    "start_time": "2025-03-25T19:13:30.201Z"
   },
   {
    "duration": 158,
    "start_time": "2025-03-25T19:13:30.273Z"
   },
   {
    "duration": 34,
    "start_time": "2025-03-25T19:13:30.433Z"
   },
   {
    "duration": 4,
    "start_time": "2025-03-25T19:13:30.469Z"
   },
   {
    "duration": 70,
    "start_time": "2025-03-25T19:13:30.475Z"
   },
   {
    "duration": 5,
    "start_time": "2025-03-25T19:13:30.547Z"
   },
   {
    "duration": 24,
    "start_time": "2025-03-25T19:13:30.553Z"
   },
   {
    "duration": 698,
    "start_time": "2025-03-25T19:13:30.579Z"
   },
   {
    "duration": 4,
    "start_time": "2025-03-25T19:13:31.279Z"
   },
   {
    "duration": 6,
    "start_time": "2025-03-25T19:13:31.284Z"
   },
   {
    "duration": 1266,
    "start_time": "2025-03-25T19:13:31.291Z"
   },
   {
    "duration": 2088,
    "start_time": "2025-03-25T19:13:32.558Z"
   },
   {
    "duration": 1193,
    "start_time": "2025-03-25T19:13:34.648Z"
   },
   {
    "duration": 2421,
    "start_time": "2025-03-25T19:18:12.614Z"
   },
   {
    "duration": 3814,
    "start_time": "2025-03-25T19:18:15.038Z"
   },
   {
    "duration": 3,
    "start_time": "2025-03-25T19:18:18.856Z"
   },
   {
    "duration": 241,
    "start_time": "2025-03-25T19:18:18.861Z"
   },
   {
    "duration": 1163,
    "start_time": "2025-03-25T19:18:19.103Z"
   },
   {
    "duration": 3,
    "start_time": "2025-03-25T19:18:20.267Z"
   },
   {
    "duration": 55,
    "start_time": "2025-03-25T19:18:20.271Z"
   },
   {
    "duration": 47,
    "start_time": "2025-03-25T19:18:20.327Z"
   },
   {
    "duration": 175,
    "start_time": "2025-03-25T19:18:20.376Z"
   },
   {
    "duration": 5,
    "start_time": "2025-03-25T19:18:20.552Z"
   },
   {
    "duration": 6,
    "start_time": "2025-03-25T19:18:20.559Z"
   },
   {
    "duration": 124501,
    "start_time": "2025-03-25T19:18:20.566Z"
   },
   {
    "duration": 60,
    "start_time": "2025-03-25T19:20:25.070Z"
   },
   {
    "duration": 50,
    "start_time": "2025-03-25T19:20:25.131Z"
   },
   {
    "duration": 35,
    "start_time": "2025-03-25T19:20:25.183Z"
   },
   {
    "duration": 4,
    "start_time": "2025-03-25T19:20:25.219Z"
   },
   {
    "duration": 58,
    "start_time": "2025-03-25T19:20:25.224Z"
   },
   {
    "duration": 4,
    "start_time": "2025-03-25T19:20:25.284Z"
   },
   {
    "duration": 40,
    "start_time": "2025-03-25T19:20:25.289Z"
   },
   {
    "duration": 922,
    "start_time": "2025-03-25T19:20:25.330Z"
   },
   {
    "duration": 19,
    "start_time": "2025-03-25T19:20:26.257Z"
   },
   {
    "duration": 5,
    "start_time": "2025-03-25T19:20:26.277Z"
   },
   {
    "duration": 1308,
    "start_time": "2025-03-25T19:20:26.283Z"
   },
   {
    "duration": 2130,
    "start_time": "2025-03-25T19:20:27.593Z"
   },
   {
    "duration": 4,
    "start_time": "2025-03-25T19:20:29.724Z"
   },
   {
    "duration": 2144,
    "start_time": "2025-03-25T19:20:29.729Z"
   },
   {
    "duration": 2485,
    "start_time": "2025-03-25T19:31:24.338Z"
   },
   {
    "duration": 5312,
    "start_time": "2025-03-25T19:31:26.826Z"
   },
   {
    "duration": 2,
    "start_time": "2025-03-25T19:31:32.140Z"
   },
   {
    "duration": 179,
    "start_time": "2025-03-25T19:31:32.143Z"
   },
   {
    "duration": 1239,
    "start_time": "2025-03-25T19:31:32.324Z"
   },
   {
    "duration": 2,
    "start_time": "2025-03-25T19:31:33.565Z"
   },
   {
    "duration": 76,
    "start_time": "2025-03-25T19:31:33.569Z"
   },
   {
    "duration": 14,
    "start_time": "2025-03-25T19:31:33.646Z"
   },
   {
    "duration": 201,
    "start_time": "2025-03-25T19:31:33.661Z"
   },
   {
    "duration": 3,
    "start_time": "2025-03-25T19:31:33.863Z"
   },
   {
    "duration": 24,
    "start_time": "2025-03-25T19:31:33.871Z"
   },
   {
    "duration": 126393,
    "start_time": "2025-03-25T19:31:33.897Z"
   },
   {
    "duration": 72,
    "start_time": "2025-03-25T19:33:40.291Z"
   },
   {
    "duration": 34,
    "start_time": "2025-03-25T19:33:40.367Z"
   },
   {
    "duration": 57,
    "start_time": "2025-03-25T19:33:40.402Z"
   },
   {
    "duration": 5,
    "start_time": "2025-03-25T19:33:40.460Z"
   },
   {
    "duration": 41,
    "start_time": "2025-03-25T19:33:40.466Z"
   },
   {
    "duration": 5,
    "start_time": "2025-03-25T19:33:40.509Z"
   },
   {
    "duration": 7,
    "start_time": "2025-03-25T19:33:40.515Z"
   },
   {
    "duration": 903,
    "start_time": "2025-03-25T19:33:40.523Z"
   },
   {
    "duration": 4,
    "start_time": "2025-03-25T19:33:41.428Z"
   },
   {
    "duration": 11,
    "start_time": "2025-03-25T19:33:41.433Z"
   },
   {
    "duration": 1288,
    "start_time": "2025-03-25T19:33:41.445Z"
   },
   {
    "duration": 2176,
    "start_time": "2025-03-25T19:33:42.734Z"
   },
   {
    "duration": 4,
    "start_time": "2025-03-25T19:33:44.912Z"
   },
   {
    "duration": 3391,
    "start_time": "2025-03-25T19:35:21.145Z"
   },
   {
    "duration": 4,
    "start_time": "2025-03-25T19:35:26.310Z"
   },
   {
    "duration": 2301,
    "start_time": "2025-03-25T19:37:51.298Z"
   },
   {
    "duration": 2833,
    "start_time": "2025-03-25T19:37:53.601Z"
   },
   {
    "duration": 3,
    "start_time": "2025-03-25T19:37:56.435Z"
   },
   {
    "duration": 160,
    "start_time": "2025-03-25T19:37:56.440Z"
   },
   {
    "duration": 834,
    "start_time": "2025-03-25T19:37:56.602Z"
   },
   {
    "duration": 3,
    "start_time": "2025-03-25T19:37:57.437Z"
   },
   {
    "duration": 53,
    "start_time": "2025-03-25T19:37:57.442Z"
   },
   {
    "duration": 13,
    "start_time": "2025-03-25T19:37:57.496Z"
   },
   {
    "duration": 197,
    "start_time": "2025-03-25T19:37:57.511Z"
   },
   {
    "duration": 2,
    "start_time": "2025-03-25T19:37:57.711Z"
   },
   {
    "duration": 5,
    "start_time": "2025-03-25T19:37:57.715Z"
   },
   {
    "duration": 123544,
    "start_time": "2025-03-25T19:37:57.721Z"
   },
   {
    "duration": 60,
    "start_time": "2025-03-25T19:40:01.267Z"
   },
   {
    "duration": 51,
    "start_time": "2025-03-25T19:40:01.329Z"
   },
   {
    "duration": 39,
    "start_time": "2025-03-25T19:40:01.382Z"
   },
   {
    "duration": 32,
    "start_time": "2025-03-25T19:40:01.422Z"
   },
   {
    "duration": 19,
    "start_time": "2025-03-25T19:40:01.456Z"
   },
   {
    "duration": 74,
    "start_time": "2025-03-25T19:40:01.476Z"
   },
   {
    "duration": 84,
    "start_time": "2025-03-25T19:40:01.552Z"
   },
   {
    "duration": 188,
    "start_time": "2025-03-25T19:40:01.637Z"
   },
   {
    "duration": 5,
    "start_time": "2025-03-25T19:40:01.827Z"
   },
   {
    "duration": 190,
    "start_time": "2025-03-25T19:40:01.833Z"
   },
   {
    "duration": 0,
    "start_time": "2025-03-25T19:40:02.024Z"
   },
   {
    "duration": 0,
    "start_time": "2025-03-25T19:40:02.026Z"
   },
   {
    "duration": 0,
    "start_time": "2025-03-25T19:40:02.026Z"
   },
   {
    "duration": 0,
    "start_time": "2025-03-25T19:40:02.027Z"
   },
   {
    "duration": 24,
    "start_time": "2025-03-25T19:40:31.073Z"
   },
   {
    "duration": 2320,
    "start_time": "2025-03-25T19:50:05.686Z"
   },
   {
    "duration": 2812,
    "start_time": "2025-03-25T19:50:08.008Z"
   },
   {
    "duration": 2,
    "start_time": "2025-03-25T19:50:10.822Z"
   },
   {
    "duration": 137,
    "start_time": "2025-03-25T19:50:10.826Z"
   },
   {
    "duration": 840,
    "start_time": "2025-03-25T19:50:10.965Z"
   },
   {
    "duration": 3,
    "start_time": "2025-03-25T19:50:11.806Z"
   },
   {
    "duration": 85,
    "start_time": "2025-03-25T19:50:11.810Z"
   },
   {
    "duration": 13,
    "start_time": "2025-03-25T19:50:11.896Z"
   },
   {
    "duration": 182,
    "start_time": "2025-03-25T19:50:11.910Z"
   },
   {
    "duration": 2,
    "start_time": "2025-03-25T19:50:12.095Z"
   },
   {
    "duration": 6,
    "start_time": "2025-03-25T19:50:12.098Z"
   },
   {
    "duration": 125594,
    "start_time": "2025-03-25T19:50:12.105Z"
   },
   {
    "duration": 72,
    "start_time": "2025-03-25T19:52:17.701Z"
   },
   {
    "duration": 34,
    "start_time": "2025-03-25T19:52:17.775Z"
   },
   {
    "duration": 46,
    "start_time": "2025-03-25T19:52:17.811Z"
   },
   {
    "duration": 5,
    "start_time": "2025-03-25T19:52:17.859Z"
   },
   {
    "duration": 19,
    "start_time": "2025-03-25T19:52:17.865Z"
   },
   {
    "duration": 14,
    "start_time": "2025-03-25T19:52:17.885Z"
   },
   {
    "duration": 9,
    "start_time": "2025-03-25T19:52:17.901Z"
   },
   {
    "duration": 159,
    "start_time": "2025-03-25T19:52:17.912Z"
   },
   {
    "duration": 5,
    "start_time": "2025-03-25T19:52:18.072Z"
   },
   {
    "duration": 27,
    "start_time": "2025-03-25T19:52:18.079Z"
   },
   {
    "duration": 2358,
    "start_time": "2025-03-25T19:56:33.926Z"
   },
   {
    "duration": 3935,
    "start_time": "2025-03-25T19:56:36.286Z"
   },
   {
    "duration": 3,
    "start_time": "2025-03-25T19:56:40.222Z"
   },
   {
    "duration": 147,
    "start_time": "2025-03-25T19:56:40.227Z"
   },
   {
    "duration": 1161,
    "start_time": "2025-03-25T19:56:40.376Z"
   },
   {
    "duration": 3,
    "start_time": "2025-03-25T19:56:41.539Z"
   },
   {
    "duration": 74,
    "start_time": "2025-03-25T19:56:41.544Z"
   },
   {
    "duration": 14,
    "start_time": "2025-03-25T19:56:41.619Z"
   },
   {
    "duration": 193,
    "start_time": "2025-03-25T19:56:41.634Z"
   },
   {
    "duration": 3,
    "start_time": "2025-03-25T19:56:41.828Z"
   },
   {
    "duration": 18,
    "start_time": "2025-03-25T19:56:41.832Z"
   },
   {
    "duration": 125210,
    "start_time": "2025-03-25T19:56:41.851Z"
   },
   {
    "duration": 58,
    "start_time": "2025-03-25T19:58:47.063Z"
   },
   {
    "duration": 52,
    "start_time": "2025-03-25T19:58:47.124Z"
   },
   {
    "duration": 34,
    "start_time": "2025-03-25T19:58:47.178Z"
   },
   {
    "duration": 5,
    "start_time": "2025-03-25T19:58:47.214Z"
   },
   {
    "duration": 11,
    "start_time": "2025-03-25T19:58:47.220Z"
   },
   {
    "duration": 7,
    "start_time": "2025-03-25T19:58:47.232Z"
   },
   {
    "duration": 2,
    "start_time": "2025-03-25T19:58:47.240Z"
   },
   {
    "duration": 161,
    "start_time": "2025-03-25T19:58:47.257Z"
   },
   {
    "duration": 4,
    "start_time": "2025-03-25T19:58:47.420Z"
   },
   {
    "duration": 34,
    "start_time": "2025-03-25T19:58:47.425Z"
   },
   {
    "duration": 7250,
    "start_time": "2025-03-26T06:40:03.977Z"
   },
   {
    "duration": 3228,
    "start_time": "2025-03-26T06:40:11.230Z"
   },
   {
    "duration": 2,
    "start_time": "2025-03-26T06:40:14.460Z"
   },
   {
    "duration": 301,
    "start_time": "2025-03-26T06:40:14.464Z"
   },
   {
    "duration": 819,
    "start_time": "2025-03-26T06:40:14.766Z"
   },
   {
    "duration": 2,
    "start_time": "2025-03-26T06:40:15.587Z"
   },
   {
    "duration": 41,
    "start_time": "2025-03-26T06:40:15.591Z"
   },
   {
    "duration": 11,
    "start_time": "2025-03-26T06:40:15.633Z"
   },
   {
    "duration": 203,
    "start_time": "2025-03-26T06:40:15.646Z"
   },
   {
    "duration": 2,
    "start_time": "2025-03-26T06:40:15.851Z"
   },
   {
    "duration": 6,
    "start_time": "2025-03-26T06:40:15.854Z"
   },
   {
    "duration": 129080,
    "start_time": "2025-03-26T06:40:15.862Z"
   },
   {
    "duration": 65,
    "start_time": "2025-03-26T06:42:24.944Z"
   },
   {
    "duration": 31,
    "start_time": "2025-03-26T06:42:25.011Z"
   },
   {
    "duration": 50,
    "start_time": "2025-03-26T06:42:25.044Z"
   },
   {
    "duration": 6,
    "start_time": "2025-03-26T06:42:25.095Z"
   },
   {
    "duration": 13,
    "start_time": "2025-03-26T06:42:25.102Z"
   },
   {
    "duration": 5,
    "start_time": "2025-03-26T06:42:25.117Z"
   },
   {
    "duration": 4,
    "start_time": "2025-03-26T06:42:25.123Z"
   },
   {
    "duration": 148,
    "start_time": "2025-03-26T06:42:25.128Z"
   },
   {
    "duration": 5,
    "start_time": "2025-03-26T06:42:25.278Z"
   },
   {
    "duration": 25,
    "start_time": "2025-03-26T06:42:25.285Z"
   },
   {
    "duration": 2391,
    "start_time": "2025-03-26T06:43:45.187Z"
   },
   {
    "duration": 3901,
    "start_time": "2025-03-26T06:43:47.581Z"
   },
   {
    "duration": 2,
    "start_time": "2025-03-26T06:43:51.484Z"
   },
   {
    "duration": 177,
    "start_time": "2025-03-26T06:43:51.488Z"
   },
   {
    "duration": 815,
    "start_time": "2025-03-26T06:43:51.667Z"
   },
   {
    "duration": 3,
    "start_time": "2025-03-26T06:43:52.484Z"
   },
   {
    "duration": 77,
    "start_time": "2025-03-26T06:43:52.488Z"
   },
   {
    "duration": 11,
    "start_time": "2025-03-26T06:43:52.566Z"
   },
   {
    "duration": 208,
    "start_time": "2025-03-26T06:43:52.578Z"
   },
   {
    "duration": 2,
    "start_time": "2025-03-26T06:43:52.790Z"
   },
   {
    "duration": 8,
    "start_time": "2025-03-26T06:43:52.794Z"
   },
   {
    "duration": 128108,
    "start_time": "2025-03-26T06:43:52.804Z"
   },
   {
    "duration": 63,
    "start_time": "2025-03-26T06:46:00.914Z"
   },
   {
    "duration": 28,
    "start_time": "2025-03-26T06:46:00.979Z"
   },
   {
    "duration": 31,
    "start_time": "2025-03-26T06:46:01.009Z"
   },
   {
    "duration": 8,
    "start_time": "2025-03-26T06:46:01.042Z"
   },
   {
    "duration": 51,
    "start_time": "2025-03-26T06:46:01.051Z"
   },
   {
    "duration": 4,
    "start_time": "2025-03-26T06:46:01.104Z"
   },
   {
    "duration": 14,
    "start_time": "2025-03-26T06:46:01.110Z"
   },
   {
    "duration": 9,
    "start_time": "2025-03-26T06:46:01.126Z"
   },
   {
    "duration": 6,
    "start_time": "2025-03-26T06:46:01.137Z"
   },
   {
    "duration": 20,
    "start_time": "2025-03-26T06:46:01.144Z"
   },
   {
    "duration": 181,
    "start_time": "2025-03-26T06:46:01.166Z"
   },
   {
    "duration": 0,
    "start_time": "2025-03-26T06:46:01.349Z"
   },
   {
    "duration": 0,
    "start_time": "2025-03-26T06:46:01.350Z"
   },
   {
    "duration": 0,
    "start_time": "2025-03-26T06:46:01.351Z"
   },
   {
    "duration": 0,
    "start_time": "2025-03-26T06:46:01.352Z"
   },
   {
    "duration": 0,
    "start_time": "2025-03-26T06:46:01.354Z"
   },
   {
    "duration": 836,
    "start_time": "2025-03-26T06:47:36.611Z"
   },
   {
    "duration": 3,
    "start_time": "2025-03-26T06:47:42.274Z"
   },
   {
    "duration": 3430,
    "start_time": "2025-03-26T06:47:45.362Z"
   },
   {
    "duration": 6,
    "start_time": "2025-03-26T06:47:51.329Z"
   },
   {
    "duration": 146,
    "start_time": "2025-03-26T06:48:17.698Z"
   },
   {
    "duration": 2499,
    "start_time": "2025-03-26T06:54:42.746Z"
   },
   {
    "duration": 2870,
    "start_time": "2025-03-26T06:54:45.247Z"
   },
   {
    "duration": 2,
    "start_time": "2025-03-26T06:54:48.119Z"
   },
   {
    "duration": 146,
    "start_time": "2025-03-26T06:54:48.123Z"
   },
   {
    "duration": 803,
    "start_time": "2025-03-26T06:54:48.271Z"
   },
   {
    "duration": 3,
    "start_time": "2025-03-26T06:54:49.075Z"
   },
   {
    "duration": 57,
    "start_time": "2025-03-26T06:54:49.079Z"
   },
   {
    "duration": 11,
    "start_time": "2025-03-26T06:54:49.138Z"
   },
   {
    "duration": 176,
    "start_time": "2025-03-26T06:54:49.150Z"
   },
   {
    "duration": 3,
    "start_time": "2025-03-26T06:54:49.327Z"
   },
   {
    "duration": 5,
    "start_time": "2025-03-26T06:54:49.331Z"
   },
   {
    "duration": 127358,
    "start_time": "2025-03-26T06:54:49.337Z"
   },
   {
    "duration": 56,
    "start_time": "2025-03-26T06:56:56.697Z"
   },
   {
    "duration": 43,
    "start_time": "2025-03-26T06:56:56.756Z"
   },
   {
    "duration": 30,
    "start_time": "2025-03-26T06:56:56.801Z"
   },
   {
    "duration": 5,
    "start_time": "2025-03-26T06:56:56.832Z"
   },
   {
    "duration": 59,
    "start_time": "2025-03-26T06:56:56.838Z"
   },
   {
    "duration": 5,
    "start_time": "2025-03-26T06:56:56.899Z"
   },
   {
    "duration": 9,
    "start_time": "2025-03-26T06:56:56.906Z"
   },
   {
    "duration": 2,
    "start_time": "2025-03-26T06:56:56.917Z"
   },
   {
    "duration": 4,
    "start_time": "2025-03-26T06:56:56.921Z"
   },
   {
    "duration": 3,
    "start_time": "2025-03-26T06:56:56.926Z"
   },
   {
    "duration": 862,
    "start_time": "2025-03-26T06:56:56.931Z"
   },
   {
    "duration": 3,
    "start_time": "2025-03-26T06:56:57.795Z"
   },
   {
    "duration": 3493,
    "start_time": "2025-03-26T06:56:57.799Z"
   },
   {
    "duration": 5,
    "start_time": "2025-03-26T06:57:01.294Z"
   },
   {
    "duration": 271,
    "start_time": "2025-03-26T06:57:01.300Z"
   },
   {
    "duration": 103,
    "start_time": "2025-03-26T06:57:01.573Z"
   },
   {
    "duration": 2399,
    "start_time": "2025-03-26T07:21:52.128Z"
   },
   {
    "duration": 3171,
    "start_time": "2025-03-26T07:21:54.530Z"
   },
   {
    "duration": 2,
    "start_time": "2025-03-26T07:21:57.703Z"
   },
   {
    "duration": 143,
    "start_time": "2025-03-26T07:21:57.707Z"
   },
   {
    "duration": 815,
    "start_time": "2025-03-26T07:21:57.852Z"
   },
   {
    "duration": 4,
    "start_time": "2025-03-26T07:21:58.669Z"
   },
   {
    "duration": 59,
    "start_time": "2025-03-26T07:21:58.674Z"
   },
   {
    "duration": 11,
    "start_time": "2025-03-26T07:21:58.735Z"
   },
   {
    "duration": 190,
    "start_time": "2025-03-26T07:21:58.749Z"
   },
   {
    "duration": 2,
    "start_time": "2025-03-26T07:21:58.941Z"
   },
   {
    "duration": 13,
    "start_time": "2025-03-26T07:21:58.944Z"
   },
   {
    "duration": 132853,
    "start_time": "2025-03-26T07:21:58.958Z"
   },
   {
    "duration": 67,
    "start_time": "2025-03-26T07:24:11.812Z"
   },
   {
    "duration": 30,
    "start_time": "2025-03-26T07:24:11.881Z"
   },
   {
    "duration": 33,
    "start_time": "2025-03-26T07:24:11.913Z"
   },
   {
    "duration": 5,
    "start_time": "2025-03-26T07:24:11.947Z"
   },
   {
    "duration": 37,
    "start_time": "2025-03-26T07:24:11.972Z"
   },
   {
    "duration": 4,
    "start_time": "2025-03-26T07:24:12.011Z"
   },
   {
    "duration": 6,
    "start_time": "2025-03-26T07:24:12.017Z"
   },
   {
    "duration": 3,
    "start_time": "2025-03-26T07:24:12.024Z"
   },
   {
    "duration": 3,
    "start_time": "2025-03-26T07:24:12.028Z"
   },
   {
    "duration": 4,
    "start_time": "2025-03-26T07:24:12.032Z"
   },
   {
    "duration": 890,
    "start_time": "2025-03-26T07:24:12.038Z"
   },
   {
    "duration": 3,
    "start_time": "2025-03-26T07:24:12.930Z"
   },
   {
    "duration": 3520,
    "start_time": "2025-03-26T07:24:12.934Z"
   },
   {
    "duration": 5,
    "start_time": "2025-03-26T07:24:16.455Z"
   },
   {
    "duration": 304,
    "start_time": "2025-03-26T07:24:16.462Z"
   },
   {
    "duration": 125,
    "start_time": "2025-03-26T07:24:16.767Z"
   },
   {
    "duration": 122,
    "start_time": "2025-03-26T07:28:31.379Z"
   },
   {
    "duration": 17500,
    "start_time": "2025-03-26T07:31:07.536Z"
   },
   {
    "duration": 16978,
    "start_time": "2025-03-26T07:35:02.044Z"
   },
   {
    "duration": 17273,
    "start_time": "2025-03-26T08:08:42.531Z"
   },
   {
    "duration": 17146,
    "start_time": "2025-03-26T08:13:36.910Z"
   },
   {
    "duration": 17371,
    "start_time": "2025-03-26T08:15:22.188Z"
   },
   {
    "duration": 4917,
    "start_time": "2025-03-26T08:17:03.237Z"
   },
   {
    "duration": 3196,
    "start_time": "2025-03-26T08:17:08.156Z"
   },
   {
    "duration": 2,
    "start_time": "2025-03-26T08:17:11.356Z"
   },
   {
    "duration": 229,
    "start_time": "2025-03-26T08:17:11.360Z"
   },
   {
    "duration": 857,
    "start_time": "2025-03-26T08:17:11.591Z"
   },
   {
    "duration": 3,
    "start_time": "2025-03-26T08:17:12.449Z"
   },
   {
    "duration": 53,
    "start_time": "2025-03-26T08:17:12.454Z"
   },
   {
    "duration": 13,
    "start_time": "2025-03-26T08:17:12.508Z"
   },
   {
    "duration": 190,
    "start_time": "2025-03-26T08:17:12.523Z"
   },
   {
    "duration": 2,
    "start_time": "2025-03-26T08:17:12.715Z"
   },
   {
    "duration": 4,
    "start_time": "2025-03-26T08:17:12.720Z"
   },
   {
    "duration": 129527,
    "start_time": "2025-03-26T08:17:12.726Z"
   },
   {
    "duration": 67,
    "start_time": "2025-03-26T08:19:22.256Z"
   },
   {
    "duration": 48,
    "start_time": "2025-03-26T08:19:22.325Z"
   },
   {
    "duration": 36,
    "start_time": "2025-03-26T08:19:22.375Z"
   },
   {
    "duration": 5,
    "start_time": "2025-03-26T08:19:22.412Z"
   },
   {
    "duration": 54,
    "start_time": "2025-03-26T08:19:22.419Z"
   },
   {
    "duration": 5,
    "start_time": "2025-03-26T08:19:22.475Z"
   },
   {
    "duration": 8,
    "start_time": "2025-03-26T08:19:22.481Z"
   },
   {
    "duration": 9,
    "start_time": "2025-03-26T08:19:22.491Z"
   },
   {
    "duration": 7,
    "start_time": "2025-03-26T08:19:22.501Z"
   },
   {
    "duration": 3,
    "start_time": "2025-03-26T08:19:22.509Z"
   },
   {
    "duration": 950,
    "start_time": "2025-03-26T08:19:22.514Z"
   },
   {
    "duration": 11,
    "start_time": "2025-03-26T08:19:23.466Z"
   },
   {
    "duration": 3501,
    "start_time": "2025-03-26T08:19:23.478Z"
   },
   {
    "duration": 5,
    "start_time": "2025-03-26T08:19:26.980Z"
   },
   {
    "duration": 267,
    "start_time": "2025-03-26T08:19:26.987Z"
   },
   {
    "duration": 17019,
    "start_time": "2025-03-26T08:19:27.256Z"
   },
   {
    "duration": 100,
    "start_time": "2025-03-26T08:19:44.276Z"
   },
   {
    "duration": 2452,
    "start_time": "2025-03-26T08:20:07.959Z"
   },
   {
    "duration": 2973,
    "start_time": "2025-03-26T08:20:10.413Z"
   },
   {
    "duration": 3,
    "start_time": "2025-03-26T08:20:13.388Z"
   },
   {
    "duration": 173,
    "start_time": "2025-03-26T08:20:13.393Z"
   },
   {
    "duration": 871,
    "start_time": "2025-03-26T08:20:13.569Z"
   },
   {
    "duration": 4,
    "start_time": "2025-03-26T08:20:14.441Z"
   },
   {
    "duration": 51,
    "start_time": "2025-03-26T08:20:14.446Z"
   },
   {
    "duration": 15,
    "start_time": "2025-03-26T08:20:14.499Z"
   },
   {
    "duration": 197,
    "start_time": "2025-03-26T08:20:14.515Z"
   },
   {
    "duration": 3,
    "start_time": "2025-03-26T08:20:14.714Z"
   },
   {
    "duration": 4,
    "start_time": "2025-03-26T08:20:14.719Z"
   },
   {
    "duration": 129276,
    "start_time": "2025-03-26T08:20:14.724Z"
   },
   {
    "duration": 56,
    "start_time": "2025-03-26T08:22:24.002Z"
   },
   {
    "duration": 36,
    "start_time": "2025-03-26T08:22:24.073Z"
   },
   {
    "duration": 35,
    "start_time": "2025-03-26T08:22:24.110Z"
   },
   {
    "duration": 4,
    "start_time": "2025-03-26T08:22:24.147Z"
   },
   {
    "duration": 54,
    "start_time": "2025-03-26T08:22:24.153Z"
   },
   {
    "duration": 4,
    "start_time": "2025-03-26T08:22:24.209Z"
   },
   {
    "duration": 6,
    "start_time": "2025-03-26T08:22:24.215Z"
   },
   {
    "duration": 10,
    "start_time": "2025-03-26T08:22:24.222Z"
   },
   {
    "duration": 8,
    "start_time": "2025-03-26T08:22:24.234Z"
   },
   {
    "duration": 8,
    "start_time": "2025-03-26T08:22:24.243Z"
   },
   {
    "duration": 936,
    "start_time": "2025-03-26T08:22:24.252Z"
   },
   {
    "duration": 2,
    "start_time": "2025-03-26T08:22:25.190Z"
   },
   {
    "duration": 3548,
    "start_time": "2025-03-26T08:22:25.194Z"
   },
   {
    "duration": 4,
    "start_time": "2025-03-26T08:22:28.744Z"
   },
   {
    "duration": 158173,
    "start_time": "2025-03-26T08:22:28.749Z"
   },
   {
    "duration": 381,
    "start_time": "2025-03-26T08:25:06.923Z"
   },
   {
    "duration": 97,
    "start_time": "2025-03-26T08:25:07.306Z"
   },
   {
    "duration": 167019,
    "start_time": "2025-03-26T08:33:06.349Z"
   },
   {
    "duration": 166873,
    "start_time": "2025-03-26T08:37:26.771Z"
   },
   {
    "duration": 2479,
    "start_time": "2025-03-26T08:41:11.532Z"
   },
   {
    "duration": 3107,
    "start_time": "2025-03-26T08:41:14.013Z"
   },
   {
    "duration": 2,
    "start_time": "2025-03-26T08:41:17.122Z"
   },
   {
    "duration": 177,
    "start_time": "2025-03-26T08:41:17.125Z"
   },
   {
    "duration": 853,
    "start_time": "2025-03-26T08:41:17.304Z"
   },
   {
    "duration": 3,
    "start_time": "2025-03-26T08:41:18.158Z"
   },
   {
    "duration": 51,
    "start_time": "2025-03-26T08:41:18.162Z"
   },
   {
    "duration": 14,
    "start_time": "2025-03-26T08:41:18.214Z"
   },
   {
    "duration": 200,
    "start_time": "2025-03-26T08:41:18.230Z"
   },
   {
    "duration": 4,
    "start_time": "2025-03-26T08:41:18.431Z"
   },
   {
    "duration": 4,
    "start_time": "2025-03-26T08:41:18.436Z"
   },
   {
    "duration": 128568,
    "start_time": "2025-03-26T08:41:18.442Z"
   },
   {
    "duration": 75,
    "start_time": "2025-03-26T08:43:27.011Z"
   },
   {
    "duration": 37,
    "start_time": "2025-03-26T08:43:27.089Z"
   },
   {
    "duration": 51,
    "start_time": "2025-03-26T08:43:27.127Z"
   },
   {
    "duration": 6,
    "start_time": "2025-03-26T08:43:27.180Z"
   },
   {
    "duration": 41,
    "start_time": "2025-03-26T08:43:27.188Z"
   },
   {
    "duration": 5,
    "start_time": "2025-03-26T08:43:27.230Z"
   },
   {
    "duration": 7,
    "start_time": "2025-03-26T08:43:27.236Z"
   },
   {
    "duration": 28,
    "start_time": "2025-03-26T08:43:27.245Z"
   },
   {
    "duration": 7,
    "start_time": "2025-03-26T08:43:27.274Z"
   },
   {
    "duration": 3,
    "start_time": "2025-03-26T08:43:27.283Z"
   },
   {
    "duration": 938,
    "start_time": "2025-03-26T08:43:27.288Z"
   },
   {
    "duration": 2,
    "start_time": "2025-03-26T08:43:28.228Z"
   },
   {
    "duration": 3695,
    "start_time": "2025-03-26T08:43:28.232Z"
   },
   {
    "duration": 5,
    "start_time": "2025-03-26T08:43:31.929Z"
   },
   {
    "duration": 166206,
    "start_time": "2025-03-26T08:43:31.936Z"
   },
   {
    "duration": 2432,
    "start_time": "2025-03-26T08:58:04.816Z"
   },
   {
    "duration": 3148,
    "start_time": "2025-03-26T08:58:07.250Z"
   },
   {
    "duration": 2,
    "start_time": "2025-03-26T08:58:10.400Z"
   },
   {
    "duration": 236,
    "start_time": "2025-03-26T08:58:10.404Z"
   },
   {
    "duration": 859,
    "start_time": "2025-03-26T08:58:10.641Z"
   },
   {
    "duration": 2,
    "start_time": "2025-03-26T08:58:11.502Z"
   },
   {
    "duration": 76,
    "start_time": "2025-03-26T08:58:11.506Z"
   },
   {
    "duration": 14,
    "start_time": "2025-03-26T08:58:11.583Z"
   },
   {
    "duration": 202,
    "start_time": "2025-03-26T08:58:11.598Z"
   },
   {
    "duration": 2,
    "start_time": "2025-03-26T08:58:11.803Z"
   },
   {
    "duration": 5,
    "start_time": "2025-03-26T08:58:11.807Z"
   },
   {
    "duration": 130412,
    "start_time": "2025-03-26T08:58:11.813Z"
   },
   {
    "duration": 67,
    "start_time": "2025-03-26T09:00:22.227Z"
   },
   {
    "duration": 35,
    "start_time": "2025-03-26T09:00:22.295Z"
   },
   {
    "duration": 51,
    "start_time": "2025-03-26T09:00:22.331Z"
   },
   {
    "duration": 4,
    "start_time": "2025-03-26T09:00:22.384Z"
   },
   {
    "duration": 47,
    "start_time": "2025-03-26T09:00:22.389Z"
   },
   {
    "duration": 5,
    "start_time": "2025-03-26T09:00:22.438Z"
   },
   {
    "duration": 8,
    "start_time": "2025-03-26T09:00:22.444Z"
   },
   {
    "duration": 2,
    "start_time": "2025-03-26T09:00:22.454Z"
   },
   {
    "duration": 10,
    "start_time": "2025-03-26T09:00:22.473Z"
   },
   {
    "duration": 7,
    "start_time": "2025-03-26T09:00:22.485Z"
   },
   {
    "duration": 951,
    "start_time": "2025-03-26T09:00:22.494Z"
   },
   {
    "duration": 3,
    "start_time": "2025-03-26T09:00:23.446Z"
   },
   {
    "duration": 3552,
    "start_time": "2025-03-26T09:00:23.450Z"
   },
   {
    "duration": 6,
    "start_time": "2025-03-26T09:00:27.004Z"
   },
   {
    "duration": 941,
    "start_time": "2025-03-26T09:00:27.012Z"
   },
   {
    "duration": 168116,
    "start_time": "2025-03-26T09:00:27.957Z"
   },
   {
    "duration": 2462,
    "start_time": "2025-03-26T09:08:59.409Z"
   },
   {
    "duration": 3120,
    "start_time": "2025-03-26T09:09:01.874Z"
   },
   {
    "duration": 2,
    "start_time": "2025-03-26T09:09:04.996Z"
   },
   {
    "duration": 248,
    "start_time": "2025-03-26T09:09:05.000Z"
   },
   {
    "duration": 851,
    "start_time": "2025-03-26T09:09:05.251Z"
   },
   {
    "duration": 3,
    "start_time": "2025-03-26T09:09:06.104Z"
   },
   {
    "duration": 69,
    "start_time": "2025-03-26T09:09:06.109Z"
   },
   {
    "duration": 14,
    "start_time": "2025-03-26T09:09:06.179Z"
   },
   {
    "duration": 198,
    "start_time": "2025-03-26T09:09:06.195Z"
   },
   {
    "duration": 3,
    "start_time": "2025-03-26T09:09:06.395Z"
   },
   {
    "duration": 29,
    "start_time": "2025-03-26T09:09:06.399Z"
   },
   {
    "duration": 133170,
    "start_time": "2025-03-26T09:09:06.430Z"
   },
   {
    "duration": 72,
    "start_time": "2025-03-26T09:11:19.602Z"
   },
   {
    "duration": 34,
    "start_time": "2025-03-26T09:11:19.677Z"
   },
   {
    "duration": 33,
    "start_time": "2025-03-26T09:11:19.713Z"
   },
   {
    "duration": 4,
    "start_time": "2025-03-26T09:11:19.748Z"
   },
   {
    "duration": 36,
    "start_time": "2025-03-26T09:11:19.773Z"
   },
   {
    "duration": 4,
    "start_time": "2025-03-26T09:11:19.811Z"
   },
   {
    "duration": 5,
    "start_time": "2025-03-26T09:11:19.817Z"
   },
   {
    "duration": 5,
    "start_time": "2025-03-26T09:11:19.823Z"
   },
   {
    "duration": 3,
    "start_time": "2025-03-26T09:11:19.830Z"
   },
   {
    "duration": 7,
    "start_time": "2025-03-26T09:11:19.834Z"
   },
   {
    "duration": 955,
    "start_time": "2025-03-26T09:11:19.842Z"
   },
   {
    "duration": 15,
    "start_time": "2025-03-26T09:11:20.799Z"
   },
   {
    "duration": 3620,
    "start_time": "2025-03-26T09:11:20.816Z"
   },
   {
    "duration": 4,
    "start_time": "2025-03-26T09:11:24.438Z"
   },
   {
    "duration": 137932,
    "start_time": "2025-03-26T09:11:24.444Z"
   },
   {
    "duration": 166608,
    "start_time": "2025-03-26T09:13:42.382Z"
   },
   {
    "duration": 2417,
    "start_time": "2025-03-26T09:21:47.157Z"
   },
   {
    "duration": 3027,
    "start_time": "2025-03-26T09:21:49.576Z"
   },
   {
    "duration": 3,
    "start_time": "2025-03-26T09:21:52.605Z"
   },
   {
    "duration": 156,
    "start_time": "2025-03-26T09:21:52.610Z"
   },
   {
    "duration": 858,
    "start_time": "2025-03-26T09:21:52.769Z"
   },
   {
    "duration": 3,
    "start_time": "2025-03-26T09:21:53.629Z"
   },
   {
    "duration": 52,
    "start_time": "2025-03-26T09:21:53.634Z"
   },
   {
    "duration": 13,
    "start_time": "2025-03-26T09:21:53.687Z"
   },
   {
    "duration": 206,
    "start_time": "2025-03-26T09:21:53.702Z"
   },
   {
    "duration": 4,
    "start_time": "2025-03-26T09:21:53.910Z"
   },
   {
    "duration": 4,
    "start_time": "2025-03-26T09:21:53.917Z"
   },
   {
    "duration": 128893,
    "start_time": "2025-03-26T09:21:53.923Z"
   },
   {
    "duration": 75,
    "start_time": "2025-03-26T09:24:02.818Z"
   },
   {
    "duration": 39,
    "start_time": "2025-03-26T09:24:02.895Z"
   },
   {
    "duration": 50,
    "start_time": "2025-03-26T09:24:02.935Z"
   },
   {
    "duration": 5,
    "start_time": "2025-03-26T09:24:02.987Z"
   },
   {
    "duration": 50,
    "start_time": "2025-03-26T09:24:02.993Z"
   },
   {
    "duration": 4,
    "start_time": "2025-03-26T09:24:03.045Z"
   },
   {
    "duration": 16,
    "start_time": "2025-03-26T09:24:03.050Z"
   },
   {
    "duration": 10,
    "start_time": "2025-03-26T09:24:03.067Z"
   },
   {
    "duration": 7,
    "start_time": "2025-03-26T09:24:03.078Z"
   },
   {
    "duration": 19,
    "start_time": "2025-03-26T09:24:03.086Z"
   },
   {
    "duration": 926,
    "start_time": "2025-03-26T09:24:03.106Z"
   },
   {
    "duration": 3,
    "start_time": "2025-03-26T09:24:04.033Z"
   },
   {
    "duration": 3627,
    "start_time": "2025-03-26T09:24:04.038Z"
   },
   {
    "duration": 9,
    "start_time": "2025-03-26T09:24:07.667Z"
   },
   {
    "duration": 2395,
    "start_time": "2025-03-26T10:04:55.457Z"
   },
   {
    "duration": 3216,
    "start_time": "2025-03-26T10:04:57.854Z"
   },
   {
    "duration": 0,
    "start_time": "2025-03-26T10:05:01.073Z"
   },
   {
    "duration": 0,
    "start_time": "2025-03-26T10:05:01.074Z"
   },
   {
    "duration": 0,
    "start_time": "2025-03-26T10:05:01.075Z"
   },
   {
    "duration": 0,
    "start_time": "2025-03-26T10:05:01.076Z"
   },
   {
    "duration": 0,
    "start_time": "2025-03-26T10:05:01.077Z"
   },
   {
    "duration": 0,
    "start_time": "2025-03-26T10:05:01.078Z"
   },
   {
    "duration": 0,
    "start_time": "2025-03-26T10:05:01.079Z"
   },
   {
    "duration": 0,
    "start_time": "2025-03-26T10:05:01.080Z"
   },
   {
    "duration": 0,
    "start_time": "2025-03-26T10:05:01.081Z"
   },
   {
    "duration": 0,
    "start_time": "2025-03-26T10:05:01.082Z"
   },
   {
    "duration": 0,
    "start_time": "2025-03-26T10:05:01.083Z"
   },
   {
    "duration": 0,
    "start_time": "2025-03-26T10:05:01.084Z"
   },
   {
    "duration": 0,
    "start_time": "2025-03-26T10:05:01.085Z"
   },
   {
    "duration": 0,
    "start_time": "2025-03-26T10:05:01.086Z"
   },
   {
    "duration": 0,
    "start_time": "2025-03-26T10:05:01.087Z"
   },
   {
    "duration": 0,
    "start_time": "2025-03-26T10:05:01.088Z"
   },
   {
    "duration": 0,
    "start_time": "2025-03-26T10:05:01.089Z"
   },
   {
    "duration": 0,
    "start_time": "2025-03-26T10:05:01.090Z"
   },
   {
    "duration": 0,
    "start_time": "2025-03-26T10:05:01.091Z"
   },
   {
    "duration": 0,
    "start_time": "2025-03-26T10:05:01.092Z"
   },
   {
    "duration": 0,
    "start_time": "2025-03-26T10:05:01.093Z"
   },
   {
    "duration": 0,
    "start_time": "2025-03-26T10:05:01.094Z"
   },
   {
    "duration": 0,
    "start_time": "2025-03-26T10:05:01.095Z"
   },
   {
    "duration": 0,
    "start_time": "2025-03-26T10:05:01.096Z"
   },
   {
    "duration": 0,
    "start_time": "2025-03-26T10:05:01.097Z"
   },
   {
    "duration": 0,
    "start_time": "2025-03-26T10:05:01.098Z"
   },
   {
    "duration": 0,
    "start_time": "2025-03-26T10:05:01.099Z"
   },
   {
    "duration": 0,
    "start_time": "2025-03-26T10:05:01.100Z"
   },
   {
    "duration": 0,
    "start_time": "2025-03-26T10:05:01.101Z"
   },
   {
    "duration": 0,
    "start_time": "2025-03-26T10:05:01.102Z"
   },
   {
    "duration": 0,
    "start_time": "2025-03-26T10:05:01.103Z"
   },
   {
    "duration": 0,
    "start_time": "2025-03-26T10:05:01.105Z"
   },
   {
    "duration": 0,
    "start_time": "2025-03-26T10:05:01.105Z"
   },
   {
    "duration": 0,
    "start_time": "2025-03-26T10:05:01.106Z"
   },
   {
    "duration": 0,
    "start_time": "2025-03-26T10:05:01.107Z"
   },
   {
    "duration": 0,
    "start_time": "2025-03-26T10:05:01.109Z"
   },
   {
    "duration": 0,
    "start_time": "2025-03-26T10:05:01.174Z"
   },
   {
    "duration": 4,
    "start_time": "2025-03-26T10:06:44.893Z"
   },
   {
    "duration": 2440,
    "start_time": "2025-03-26T10:06:53.605Z"
   },
   {
    "duration": 2896,
    "start_time": "2025-03-26T10:06:56.047Z"
   },
   {
    "duration": 3,
    "start_time": "2025-03-26T10:06:58.944Z"
   },
   {
    "duration": 222,
    "start_time": "2025-03-26T10:06:58.948Z"
   },
   {
    "duration": 881,
    "start_time": "2025-03-26T10:06:59.172Z"
   },
   {
    "duration": 3,
    "start_time": "2025-03-26T10:07:00.055Z"
   },
   {
    "duration": 92,
    "start_time": "2025-03-26T10:07:00.059Z"
   },
   {
    "duration": 13,
    "start_time": "2025-03-26T10:07:00.152Z"
   },
   {
    "duration": 223,
    "start_time": "2025-03-26T10:07:00.167Z"
   },
   {
    "duration": 2,
    "start_time": "2025-03-26T10:07:00.392Z"
   },
   {
    "duration": 60,
    "start_time": "2025-03-26T10:07:00.396Z"
   },
   {
    "duration": 129875,
    "start_time": "2025-03-26T10:07:00.457Z"
   },
   {
    "duration": 77,
    "start_time": "2025-03-26T10:09:10.333Z"
   },
   {
    "duration": 40,
    "start_time": "2025-03-26T10:09:10.414Z"
   },
   {
    "duration": 51,
    "start_time": "2025-03-26T10:09:10.456Z"
   },
   {
    "duration": 5,
    "start_time": "2025-03-26T10:09:10.508Z"
   },
   {
    "duration": 44,
    "start_time": "2025-03-26T10:09:10.514Z"
   },
   {
    "duration": 16,
    "start_time": "2025-03-26T10:09:10.559Z"
   },
   {
    "duration": 21,
    "start_time": "2025-03-26T10:09:10.577Z"
   },
   {
    "duration": 5,
    "start_time": "2025-03-26T10:09:10.600Z"
   },
   {
    "duration": 4,
    "start_time": "2025-03-26T10:09:10.606Z"
   },
   {
    "duration": 5,
    "start_time": "2025-03-26T10:09:10.611Z"
   },
   {
    "duration": 988,
    "start_time": "2025-03-26T10:09:10.618Z"
   },
   {
    "duration": 14,
    "start_time": "2025-03-26T10:09:11.607Z"
   },
   {
    "duration": 3623,
    "start_time": "2025-03-26T10:09:11.623Z"
   },
   {
    "duration": 5,
    "start_time": "2025-03-26T10:09:15.247Z"
   },
   {
    "duration": 87,
    "start_time": "2025-03-26T10:09:15.253Z"
   },
   {
    "duration": 0,
    "start_time": "2025-03-26T10:09:15.341Z"
   },
   {
    "duration": 0,
    "start_time": "2025-03-26T10:09:15.343Z"
   },
   {
    "duration": 0,
    "start_time": "2025-03-26T10:09:15.343Z"
   },
   {
    "duration": 0,
    "start_time": "2025-03-26T10:09:15.345Z"
   },
   {
    "duration": 0,
    "start_time": "2025-03-26T10:09:15.346Z"
   },
   {
    "duration": 0,
    "start_time": "2025-03-26T10:09:15.347Z"
   },
   {
    "duration": 0,
    "start_time": "2025-03-26T10:09:15.348Z"
   },
   {
    "duration": 0,
    "start_time": "2025-03-26T10:09:15.349Z"
   },
   {
    "duration": 0,
    "start_time": "2025-03-26T10:09:15.350Z"
   },
   {
    "duration": 0,
    "start_time": "2025-03-26T10:09:15.350Z"
   },
   {
    "duration": 0,
    "start_time": "2025-03-26T10:09:15.351Z"
   },
   {
    "duration": 0,
    "start_time": "2025-03-26T10:09:15.352Z"
   },
   {
    "duration": 341747,
    "start_time": "2025-03-26T10:09:51.528Z"
   },
   {
    "duration": 176431,
    "start_time": "2025-03-26T10:18:56.222Z"
   },
   {
    "duration": 627650,
    "start_time": "2025-03-26T10:22:56.249Z"
   },
   {
    "duration": 165497,
    "start_time": "2025-03-26T10:33:23.902Z"
   },
   {
    "duration": 2451,
    "start_time": "2025-03-26T10:45:39.713Z"
   },
   {
    "duration": 4323,
    "start_time": "2025-03-26T10:45:42.166Z"
   },
   {
    "duration": 2,
    "start_time": "2025-03-26T10:45:46.491Z"
   },
   {
    "duration": 143,
    "start_time": "2025-03-26T10:45:46.495Z"
   },
   {
    "duration": 857,
    "start_time": "2025-03-26T10:45:46.640Z"
   },
   {
    "duration": 3,
    "start_time": "2025-03-26T10:45:47.499Z"
   },
   {
    "duration": 51,
    "start_time": "2025-03-26T10:45:47.503Z"
   },
   {
    "duration": 17,
    "start_time": "2025-03-26T10:45:47.556Z"
   },
   {
    "duration": 183,
    "start_time": "2025-03-26T10:45:47.575Z"
   },
   {
    "duration": 3,
    "start_time": "2025-03-26T10:45:47.761Z"
   },
   {
    "duration": 3,
    "start_time": "2025-03-26T10:45:47.773Z"
   },
   {
    "duration": 132518,
    "start_time": "2025-03-26T10:45:47.778Z"
   },
   {
    "duration": 76,
    "start_time": "2025-03-26T10:48:00.298Z"
   },
   {
    "duration": 36,
    "start_time": "2025-03-26T10:48:00.376Z"
   },
   {
    "duration": 36,
    "start_time": "2025-03-26T10:48:00.414Z"
   },
   {
    "duration": 29,
    "start_time": "2025-03-26T10:48:00.451Z"
   },
   {
    "duration": 92,
    "start_time": "2025-03-26T10:48:00.481Z"
   },
   {
    "duration": 6,
    "start_time": "2025-03-26T10:48:00.574Z"
   },
   {
    "duration": 48,
    "start_time": "2025-03-26T10:48:00.582Z"
   },
   {
    "duration": 30,
    "start_time": "2025-03-26T10:48:00.632Z"
   },
   {
    "duration": 18,
    "start_time": "2025-03-26T10:48:00.664Z"
   },
   {
    "duration": 10,
    "start_time": "2025-03-26T10:48:00.684Z"
   },
   {
    "duration": 953,
    "start_time": "2025-03-26T10:48:00.696Z"
   },
   {
    "duration": 46,
    "start_time": "2025-03-26T10:48:01.650Z"
   },
   {
    "duration": 3741,
    "start_time": "2025-03-26T10:48:01.698Z"
   },
   {
    "duration": 5,
    "start_time": "2025-03-26T10:48:05.441Z"
   },
   {
    "duration": 475370,
    "start_time": "2025-03-26T10:48:05.448Z"
   },
   {
    "duration": 607428,
    "start_time": "2025-03-26T10:56:00.821Z"
   },
   {
    "duration": 531332,
    "start_time": "2025-03-26T11:06:08.250Z"
   },
   {
    "duration": 262,
    "start_time": "2025-03-26T11:14:59.583Z"
   },
   {
    "duration": 97,
    "start_time": "2025-03-26T11:14:59.847Z"
   },
   {
    "duration": 103,
    "start_time": "2025-03-26T11:14:59.946Z"
   },
   {
    "duration": 99,
    "start_time": "2025-03-26T11:15:00.050Z"
   },
   {
    "duration": 131,
    "start_time": "2025-03-26T11:15:00.151Z"
   },
   {
    "duration": 104,
    "start_time": "2025-03-26T11:15:00.283Z"
   },
   {
    "duration": 4,
    "start_time": "2025-03-26T11:15:00.389Z"
   },
   {
    "duration": 25,
    "start_time": "2025-03-26T11:15:00.395Z"
   },
   {
    "duration": 0,
    "start_time": "2025-03-26T11:15:00.422Z"
   },
   {
    "duration": 0,
    "start_time": "2025-03-26T11:15:00.423Z"
   },
   {
    "duration": 4,
    "start_time": "2025-03-26T12:23:28.261Z"
   },
   {
    "duration": 103,
    "start_time": "2025-03-26T12:23:39.172Z"
   },
   {
    "duration": 494,
    "start_time": "2025-03-26T12:24:52.628Z"
   },
   {
    "duration": 6,
    "start_time": "2025-03-26T12:24:55.715Z"
   },
   {
    "duration": 8755,
    "start_time": "2025-03-26T13:45:57.663Z"
   },
   {
    "duration": 29,
    "start_time": "2025-03-26T13:46:15.583Z"
   },
   {
    "duration": 160,
    "start_time": "2025-03-26T13:47:08.623Z"
   },
   {
    "duration": 26343,
    "start_time": "2025-03-26T13:47:41.453Z"
   },
   {
    "duration": 898,
    "start_time": "2025-03-26T13:48:07.798Z"
   },
   {
    "duration": 4,
    "start_time": "2025-03-26T13:48:55.164Z"
   },
   {
    "duration": 4,
    "start_time": "2025-03-26T13:48:57.532Z"
   },
   {
    "duration": 12,
    "start_time": "2025-03-26T13:49:00.379Z"
   },
   {
    "duration": 10,
    "start_time": "2025-03-26T13:51:23.145Z"
   },
   {
    "duration": 9,
    "start_time": "2025-03-26T13:51:42.456Z"
   },
   {
    "duration": 28,
    "start_time": "2025-03-26T13:51:54.936Z"
   },
   {
    "duration": 19,
    "start_time": "2025-03-26T13:54:43.509Z"
   },
   {
    "duration": 19,
    "start_time": "2025-03-26T13:54:47.268Z"
   },
   {
    "duration": 8,
    "start_time": "2025-03-26T13:56:32.594Z"
   },
   {
    "duration": 23,
    "start_time": "2025-03-26T14:01:47.340Z"
   },
   {
    "duration": 21,
    "start_time": "2025-03-26T14:02:05.500Z"
   },
   {
    "duration": 2405,
    "start_time": "2025-03-26T14:08:07.451Z"
   },
   {
    "duration": 3299,
    "start_time": "2025-03-26T14:08:09.859Z"
   },
   {
    "duration": 2,
    "start_time": "2025-03-26T14:08:13.160Z"
   },
   {
    "duration": 263,
    "start_time": "2025-03-26T14:08:13.163Z"
   },
   {
    "duration": 876,
    "start_time": "2025-03-26T14:08:13.429Z"
   },
   {
    "duration": 2,
    "start_time": "2025-03-26T14:08:14.307Z"
   },
   {
    "duration": 58,
    "start_time": "2025-03-26T14:08:14.311Z"
   },
   {
    "duration": 13,
    "start_time": "2025-03-26T14:08:14.371Z"
   },
   {
    "duration": 190,
    "start_time": "2025-03-26T14:08:14.385Z"
   },
   {
    "duration": 2,
    "start_time": "2025-03-26T14:08:14.577Z"
   },
   {
    "duration": 5,
    "start_time": "2025-03-26T14:08:14.581Z"
   },
   {
    "duration": 130906,
    "start_time": "2025-03-26T14:08:14.587Z"
   },
   {
    "duration": 59,
    "start_time": "2025-03-26T14:10:25.495Z"
   },
   {
    "duration": 34,
    "start_time": "2025-03-26T14:10:25.572Z"
   },
   {
    "duration": 34,
    "start_time": "2025-03-26T14:10:25.607Z"
   },
   {
    "duration": 6,
    "start_time": "2025-03-26T14:10:25.643Z"
   },
   {
    "duration": 38,
    "start_time": "2025-03-26T14:10:25.673Z"
   },
   {
    "duration": 6,
    "start_time": "2025-03-26T14:10:25.713Z"
   },
   {
    "duration": 14,
    "start_time": "2025-03-26T14:10:25.721Z"
   },
   {
    "duration": 34,
    "start_time": "2025-03-26T14:10:25.736Z"
   },
   {
    "duration": 9,
    "start_time": "2025-03-26T14:10:25.772Z"
   },
   {
    "duration": 8,
    "start_time": "2025-03-26T14:10:25.782Z"
   },
   {
    "duration": 947,
    "start_time": "2025-03-26T14:10:25.791Z"
   },
   {
    "duration": 3,
    "start_time": "2025-03-26T14:10:26.739Z"
   },
   {
    "duration": 3581,
    "start_time": "2025-03-26T14:10:26.743Z"
   },
   {
    "duration": 5,
    "start_time": "2025-03-26T14:10:30.326Z"
   },
   {
    "duration": 2386,
    "start_time": "2025-03-26T14:14:34.350Z"
   },
   {
    "duration": 2963,
    "start_time": "2025-03-26T14:14:36.738Z"
   },
   {
    "duration": 3,
    "start_time": "2025-03-26T14:14:39.702Z"
   },
   {
    "duration": 224,
    "start_time": "2025-03-26T14:14:39.706Z"
   },
   {
    "duration": 852,
    "start_time": "2025-03-26T14:14:39.931Z"
   },
   {
    "duration": 3,
    "start_time": "2025-03-26T14:14:40.785Z"
   },
   {
    "duration": 42,
    "start_time": "2025-03-26T14:14:40.789Z"
   },
   {
    "duration": 12,
    "start_time": "2025-03-26T14:14:40.833Z"
   },
   {
    "duration": 203,
    "start_time": "2025-03-26T14:14:40.847Z"
   },
   {
    "duration": 2,
    "start_time": "2025-03-26T14:14:41.052Z"
   },
   {
    "duration": 4,
    "start_time": "2025-03-26T14:14:41.055Z"
   },
   {
    "duration": 128617,
    "start_time": "2025-03-26T14:14:41.061Z"
   },
   {
    "duration": 56,
    "start_time": "2025-03-26T14:16:49.680Z"
   },
   {
    "duration": 51,
    "start_time": "2025-03-26T14:16:49.739Z"
   },
   {
    "duration": 33,
    "start_time": "2025-03-26T14:16:49.792Z"
   },
   {
    "duration": 5,
    "start_time": "2025-03-26T14:16:49.826Z"
   },
   {
    "duration": 54,
    "start_time": "2025-03-26T14:16:49.832Z"
   },
   {
    "duration": 4,
    "start_time": "2025-03-26T14:16:49.888Z"
   },
   {
    "duration": 10,
    "start_time": "2025-03-26T14:16:49.893Z"
   },
   {
    "duration": 5,
    "start_time": "2025-03-26T14:16:49.904Z"
   },
   {
    "duration": 11,
    "start_time": "2025-03-26T14:16:49.910Z"
   },
   {
    "duration": 4,
    "start_time": "2025-03-26T14:16:49.922Z"
   },
   {
    "duration": 944,
    "start_time": "2025-03-26T14:16:49.928Z"
   },
   {
    "duration": 16,
    "start_time": "2025-03-26T14:16:50.874Z"
   },
   {
    "duration": 3551,
    "start_time": "2025-03-26T14:16:50.891Z"
   },
   {
    "duration": 6,
    "start_time": "2025-03-26T14:16:54.444Z"
   },
   {
    "duration": 2556,
    "start_time": "2025-03-26T14:19:31.262Z"
   },
   {
    "duration": 3006,
    "start_time": "2025-03-26T14:19:33.820Z"
   },
   {
    "duration": 3,
    "start_time": "2025-03-26T14:19:36.827Z"
   },
   {
    "duration": 278,
    "start_time": "2025-03-26T14:19:36.831Z"
   },
   {
    "duration": 849,
    "start_time": "2025-03-26T14:19:37.111Z"
   },
   {
    "duration": 3,
    "start_time": "2025-03-26T14:19:37.961Z"
   },
   {
    "duration": 42,
    "start_time": "2025-03-26T14:19:37.973Z"
   },
   {
    "duration": 13,
    "start_time": "2025-03-26T14:19:38.016Z"
   },
   {
    "duration": 199,
    "start_time": "2025-03-26T14:19:38.031Z"
   },
   {
    "duration": 3,
    "start_time": "2025-03-26T14:19:38.232Z"
   },
   {
    "duration": 41,
    "start_time": "2025-03-26T14:19:38.236Z"
   },
   {
    "duration": 130275,
    "start_time": "2025-03-26T14:19:38.279Z"
   },
   {
    "duration": 68,
    "start_time": "2025-03-26T14:21:48.555Z"
   },
   {
    "duration": 35,
    "start_time": "2025-03-26T14:21:48.626Z"
   },
   {
    "duration": 35,
    "start_time": "2025-03-26T14:21:48.673Z"
   },
   {
    "duration": 5,
    "start_time": "2025-03-26T14:21:48.709Z"
   },
   {
    "duration": 43,
    "start_time": "2025-03-26T14:21:48.715Z"
   },
   {
    "duration": 16,
    "start_time": "2025-03-26T14:21:48.759Z"
   },
   {
    "duration": 11,
    "start_time": "2025-03-26T14:21:48.777Z"
   },
   {
    "duration": 9,
    "start_time": "2025-03-26T14:21:48.789Z"
   },
   {
    "duration": 2,
    "start_time": "2025-03-26T14:21:48.800Z"
   },
   {
    "duration": 4,
    "start_time": "2025-03-26T14:21:48.804Z"
   },
   {
    "duration": 949,
    "start_time": "2025-03-26T14:21:48.809Z"
   },
   {
    "duration": 11,
    "start_time": "2025-03-26T14:21:49.760Z"
   },
   {
    "duration": 3603,
    "start_time": "2025-03-26T14:21:49.772Z"
   },
   {
    "duration": 4,
    "start_time": "2025-03-26T14:21:53.377Z"
   },
   {
    "duration": 787474,
    "start_time": "2025-03-26T14:21:53.383Z"
   },
   {
    "duration": 607094,
    "start_time": "2025-03-26T14:35:00.859Z"
   },
   {
    "duration": 530434,
    "start_time": "2025-03-26T14:45:07.955Z"
   },
   {
    "duration": 436,
    "start_time": "2025-03-26T14:53:58.390Z"
   },
   {
    "duration": 5,
    "start_time": "2025-03-26T14:53:58.827Z"
   },
   {
    "duration": 8780,
    "start_time": "2025-03-26T14:53:58.834Z"
   },
   {
    "duration": 30,
    "start_time": "2025-03-26T14:54:07.615Z"
   },
   {
    "duration": 26004,
    "start_time": "2025-03-26T14:54:07.646Z"
   },
   {
    "duration": 874,
    "start_time": "2025-03-26T14:54:33.652Z"
   },
   {
    "duration": 4,
    "start_time": "2025-03-26T14:54:34.528Z"
   },
   {
    "duration": 4,
    "start_time": "2025-03-26T14:54:34.534Z"
   },
   {
    "duration": 10,
    "start_time": "2025-03-26T14:54:34.540Z"
   },
   {
    "duration": 32,
    "start_time": "2025-03-26T14:54:34.552Z"
   },
   {
    "duration": 150,
    "start_time": "2025-03-26T15:03:11.763Z"
   },
   {
    "duration": 16,
    "start_time": "2025-03-26T15:03:19.489Z"
   },
   {
    "duration": 147,
    "start_time": "2025-03-26T15:03:39.873Z"
   },
   {
    "duration": 6,
    "start_time": "2025-03-26T15:03:44.352Z"
   },
   {
    "duration": 4537,
    "start_time": "2025-03-26T15:06:44.141Z"
   },
   {
    "duration": 21,
    "start_time": "2025-03-26T15:06:54.221Z"
   },
   {
    "duration": 2391,
    "start_time": "2025-03-26T15:09:24.926Z"
   },
   {
    "duration": 2882,
    "start_time": "2025-03-26T15:09:27.319Z"
   },
   {
    "duration": 3,
    "start_time": "2025-03-26T15:09:30.202Z"
   },
   {
    "duration": 153,
    "start_time": "2025-03-26T15:09:30.207Z"
   },
   {
    "duration": 892,
    "start_time": "2025-03-26T15:09:30.362Z"
   },
   {
    "duration": 3,
    "start_time": "2025-03-26T15:09:31.256Z"
   },
   {
    "duration": 55,
    "start_time": "2025-03-26T15:09:31.260Z"
   },
   {
    "duration": 19,
    "start_time": "2025-03-26T15:09:31.317Z"
   },
   {
    "duration": 194,
    "start_time": "2025-03-26T15:09:31.338Z"
   },
   {
    "duration": 2,
    "start_time": "2025-03-26T15:09:31.534Z"
   },
   {
    "duration": 11,
    "start_time": "2025-03-26T15:09:31.538Z"
   },
   {
    "duration": 129909,
    "start_time": "2025-03-26T15:09:31.550Z"
   },
   {
    "duration": 70,
    "start_time": "2025-03-26T15:11:41.460Z"
   },
   {
    "duration": 44,
    "start_time": "2025-03-26T15:11:41.532Z"
   },
   {
    "duration": 34,
    "start_time": "2025-03-26T15:11:41.577Z"
   },
   {
    "duration": 5,
    "start_time": "2025-03-26T15:11:41.613Z"
   },
   {
    "duration": 57,
    "start_time": "2025-03-26T15:11:41.619Z"
   },
   {
    "duration": 5,
    "start_time": "2025-03-26T15:11:41.678Z"
   },
   {
    "duration": 7,
    "start_time": "2025-03-26T15:11:41.684Z"
   },
   {
    "duration": 5,
    "start_time": "2025-03-26T15:11:41.692Z"
   },
   {
    "duration": 12,
    "start_time": "2025-03-26T15:11:41.698Z"
   },
   {
    "duration": 5,
    "start_time": "2025-03-26T15:11:41.711Z"
   },
   {
    "duration": 963,
    "start_time": "2025-03-26T15:11:41.717Z"
   },
   {
    "duration": 2,
    "start_time": "2025-03-26T15:11:42.682Z"
   },
   {
    "duration": 3592,
    "start_time": "2025-03-26T15:11:42.686Z"
   },
   {
    "duration": 4,
    "start_time": "2025-03-26T15:11:46.280Z"
   },
   {
    "duration": 286517,
    "start_time": "2025-03-26T15:11:46.286Z"
   },
   {
    "duration": 610345,
    "start_time": "2025-03-26T15:16:32.809Z"
   },
   {
    "duration": 532166,
    "start_time": "2025-03-26T15:26:43.156Z"
   },
   {
    "duration": 4354,
    "start_time": "2025-03-26T15:35:35.324Z"
   },
   {
    "duration": 96,
    "start_time": "2025-03-26T15:35:39.680Z"
   },
   {
    "duration": 8705,
    "start_time": "2025-03-26T15:35:39.778Z"
   },
   {
    "duration": 27,
    "start_time": "2025-03-26T15:35:48.484Z"
   },
   {
    "duration": 26211,
    "start_time": "2025-03-26T15:35:48.513Z"
   },
   {
    "duration": 883,
    "start_time": "2025-03-26T15:36:14.726Z"
   },
   {
    "duration": 5,
    "start_time": "2025-03-26T15:36:15.611Z"
   },
   {
    "duration": 8,
    "start_time": "2025-03-26T15:36:15.618Z"
   },
   {
    "duration": 20,
    "start_time": "2025-03-26T15:36:15.628Z"
   },
   {
    "duration": 25,
    "start_time": "2025-03-26T15:36:15.650Z"
   },
   {
    "duration": 2457,
    "start_time": "2025-03-26T15:52:56.082Z"
   },
   {
    "duration": 2920,
    "start_time": "2025-03-26T15:52:58.541Z"
   },
   {
    "duration": 2,
    "start_time": "2025-03-26T15:53:01.463Z"
   },
   {
    "duration": 172,
    "start_time": "2025-03-26T15:53:01.466Z"
   },
   {
    "duration": 872,
    "start_time": "2025-03-26T15:53:01.640Z"
   },
   {
    "duration": 2,
    "start_time": "2025-03-26T15:53:02.514Z"
   },
   {
    "duration": 66,
    "start_time": "2025-03-26T15:53:02.517Z"
   },
   {
    "duration": 13,
    "start_time": "2025-03-26T15:53:02.585Z"
   },
   {
    "duration": 226,
    "start_time": "2025-03-26T15:53:02.599Z"
   },
   {
    "duration": 2,
    "start_time": "2025-03-26T15:53:02.827Z"
   },
   {
    "duration": 21,
    "start_time": "2025-03-26T15:53:02.831Z"
   },
   {
    "duration": 129485,
    "start_time": "2025-03-26T15:53:02.854Z"
   },
   {
    "duration": 68,
    "start_time": "2025-03-26T15:55:12.340Z"
   },
   {
    "duration": 36,
    "start_time": "2025-03-26T15:55:12.411Z"
   },
   {
    "duration": 59,
    "start_time": "2025-03-26T15:55:12.449Z"
   },
   {
    "duration": 5,
    "start_time": "2025-03-26T15:55:12.510Z"
   },
   {
    "duration": 49,
    "start_time": "2025-03-26T15:55:12.517Z"
   },
   {
    "duration": 9,
    "start_time": "2025-03-26T15:55:12.567Z"
   },
   {
    "duration": 7,
    "start_time": "2025-03-26T15:55:12.578Z"
   },
   {
    "duration": 3,
    "start_time": "2025-03-26T15:55:12.587Z"
   },
   {
    "duration": 3,
    "start_time": "2025-03-26T15:55:12.592Z"
   },
   {
    "duration": 4,
    "start_time": "2025-03-26T15:55:12.596Z"
   },
   {
    "duration": 1035,
    "start_time": "2025-03-26T15:55:12.601Z"
   },
   {
    "duration": 34,
    "start_time": "2025-03-26T15:55:13.638Z"
   },
   {
    "duration": 3652,
    "start_time": "2025-03-26T15:55:13.674Z"
   },
   {
    "duration": 4,
    "start_time": "2025-03-26T15:55:17.328Z"
   },
   {
    "duration": 290405,
    "start_time": "2025-03-26T15:55:17.334Z"
   },
   {
    "duration": 607582,
    "start_time": "2025-03-26T16:00:07.741Z"
   },
   {
    "duration": 534025,
    "start_time": "2025-03-26T16:10:15.324Z"
   },
   {
    "duration": 170,
    "start_time": "2025-03-26T16:19:09.351Z"
   },
   {
    "duration": 5,
    "start_time": "2025-03-26T16:19:09.523Z"
   },
   {
    "duration": 8781,
    "start_time": "2025-03-26T16:19:09.530Z"
   },
   {
    "duration": 30,
    "start_time": "2025-03-26T16:19:18.313Z"
   },
   {
    "duration": 25814,
    "start_time": "2025-03-26T16:19:18.344Z"
   },
   {
    "duration": 875,
    "start_time": "2025-03-26T16:19:44.159Z"
   },
   {
    "duration": 5,
    "start_time": "2025-03-26T16:19:45.035Z"
   },
   {
    "duration": 40,
    "start_time": "2025-03-26T16:19:45.042Z"
   },
   {
    "duration": 29,
    "start_time": "2025-03-26T16:19:45.084Z"
   },
   {
    "duration": 22,
    "start_time": "2025-03-26T16:19:45.114Z"
   },
   {
    "duration": 2420,
    "start_time": "2025-03-26T16:23:03.970Z"
   },
   {
    "duration": 2846,
    "start_time": "2025-03-26T16:23:06.392Z"
   },
   {
    "duration": 2,
    "start_time": "2025-03-26T16:23:09.240Z"
   },
   {
    "duration": 140,
    "start_time": "2025-03-26T16:23:09.244Z"
   },
   {
    "duration": 851,
    "start_time": "2025-03-26T16:23:09.386Z"
   },
   {
    "duration": 4,
    "start_time": "2025-03-26T16:23:10.238Z"
   },
   {
    "duration": 53,
    "start_time": "2025-03-26T16:23:10.244Z"
   },
   {
    "duration": 14,
    "start_time": "2025-03-26T16:23:10.299Z"
   },
   {
    "duration": 211,
    "start_time": "2025-03-26T16:23:10.316Z"
   },
   {
    "duration": 2,
    "start_time": "2025-03-26T16:23:10.531Z"
   },
   {
    "duration": 3,
    "start_time": "2025-03-26T16:23:10.535Z"
   },
   {
    "duration": 130843,
    "start_time": "2025-03-26T16:23:10.539Z"
   },
   {
    "duration": 59,
    "start_time": "2025-03-26T16:25:21.384Z"
   },
   {
    "duration": 52,
    "start_time": "2025-03-26T16:25:21.445Z"
   },
   {
    "duration": 33,
    "start_time": "2025-03-26T16:25:21.498Z"
   },
   {
    "duration": 4,
    "start_time": "2025-03-26T16:25:21.533Z"
   },
   {
    "duration": 6,
    "start_time": "2025-03-26T16:25:21.539Z"
   },
   {
    "duration": 11,
    "start_time": "2025-03-26T16:25:21.546Z"
   },
   {
    "duration": 16,
    "start_time": "2025-03-26T16:25:21.559Z"
   },
   {
    "duration": 189,
    "start_time": "2025-03-26T16:25:21.576Z"
   },
   {
    "duration": 4,
    "start_time": "2025-03-26T16:25:21.767Z"
   },
   {
    "duration": 50,
    "start_time": "2025-03-26T16:25:21.772Z"
   },
   {
    "duration": 172,
    "start_time": "2025-03-26T16:25:21.823Z"
   },
   {
    "duration": 0,
    "start_time": "2025-03-26T16:25:21.997Z"
   },
   {
    "duration": 0,
    "start_time": "2025-03-26T16:25:21.998Z"
   },
   {
    "duration": 0,
    "start_time": "2025-03-26T16:25:21.999Z"
   },
   {
    "duration": 0,
    "start_time": "2025-03-26T16:25:22.000Z"
   },
   {
    "duration": 0,
    "start_time": "2025-03-26T16:25:22.001Z"
   },
   {
    "duration": 0,
    "start_time": "2025-03-26T16:25:22.002Z"
   },
   {
    "duration": 0,
    "start_time": "2025-03-26T16:25:22.004Z"
   },
   {
    "duration": 0,
    "start_time": "2025-03-26T16:25:22.004Z"
   },
   {
    "duration": 0,
    "start_time": "2025-03-26T16:25:22.006Z"
   },
   {
    "duration": 0,
    "start_time": "2025-03-26T16:25:22.007Z"
   },
   {
    "duration": 0,
    "start_time": "2025-03-26T16:25:22.007Z"
   },
   {
    "duration": 0,
    "start_time": "2025-03-26T16:25:22.008Z"
   },
   {
    "duration": 0,
    "start_time": "2025-03-26T16:25:22.009Z"
   },
   {
    "duration": 0,
    "start_time": "2025-03-26T16:25:22.010Z"
   },
   {
    "duration": 0,
    "start_time": "2025-03-26T16:25:22.012Z"
   },
   {
    "duration": 0,
    "start_time": "2025-03-26T16:25:22.013Z"
   },
   {
    "duration": 2375,
    "start_time": "2025-03-26T16:27:07.024Z"
   },
   {
    "duration": 3726,
    "start_time": "2025-03-26T16:27:09.401Z"
   },
   {
    "duration": 3,
    "start_time": "2025-03-26T16:27:13.128Z"
   },
   {
    "duration": 187,
    "start_time": "2025-03-26T16:27:13.132Z"
   },
   {
    "duration": 861,
    "start_time": "2025-03-26T16:27:13.321Z"
   },
   {
    "duration": 3,
    "start_time": "2025-03-26T16:27:14.183Z"
   },
   {
    "duration": 42,
    "start_time": "2025-03-26T16:27:14.187Z"
   },
   {
    "duration": 13,
    "start_time": "2025-03-26T16:27:14.231Z"
   },
   {
    "duration": 206,
    "start_time": "2025-03-26T16:27:14.245Z"
   },
   {
    "duration": 3,
    "start_time": "2025-03-26T16:27:14.452Z"
   },
   {
    "duration": 4,
    "start_time": "2025-03-26T16:27:14.456Z"
   },
   {
    "duration": 130633,
    "start_time": "2025-03-26T16:27:14.461Z"
   },
   {
    "duration": 57,
    "start_time": "2025-03-26T16:29:25.096Z"
   },
   {
    "duration": 50,
    "start_time": "2025-03-26T16:29:25.156Z"
   },
   {
    "duration": 34,
    "start_time": "2025-03-26T16:29:25.208Z"
   },
   {
    "duration": 5,
    "start_time": "2025-03-26T16:29:25.243Z"
   },
   {
    "duration": 2,
    "start_time": "2025-03-26T16:29:25.249Z"
   },
   {
    "duration": 25,
    "start_time": "2025-03-26T16:29:25.253Z"
   },
   {
    "duration": 4,
    "start_time": "2025-03-26T16:29:25.279Z"
   },
   {
    "duration": 164,
    "start_time": "2025-03-26T16:29:25.285Z"
   },
   {
    "duration": 5,
    "start_time": "2025-03-26T16:29:25.451Z"
   },
   {
    "duration": 34,
    "start_time": "2025-03-26T16:29:25.458Z"
   },
   {
    "duration": 2425,
    "start_time": "2025-03-26T16:37:06.620Z"
   },
   {
    "duration": 3843,
    "start_time": "2025-03-26T16:37:09.048Z"
   },
   {
    "duration": 3,
    "start_time": "2025-03-26T16:37:12.893Z"
   },
   {
    "duration": 159,
    "start_time": "2025-03-26T16:37:12.897Z"
   },
   {
    "duration": 879,
    "start_time": "2025-03-26T16:37:13.058Z"
   },
   {
    "duration": 3,
    "start_time": "2025-03-26T16:37:13.939Z"
   },
   {
    "duration": 56,
    "start_time": "2025-03-26T16:37:13.943Z"
   },
   {
    "duration": 12,
    "start_time": "2025-03-26T16:37:14.001Z"
   },
   {
    "duration": 201,
    "start_time": "2025-03-26T16:37:14.015Z"
   },
   {
    "duration": 3,
    "start_time": "2025-03-26T16:37:14.217Z"
   },
   {
    "duration": 5,
    "start_time": "2025-03-26T16:37:14.221Z"
   },
   {
    "duration": 129771,
    "start_time": "2025-03-26T16:37:14.227Z"
   },
   {
    "duration": 55,
    "start_time": "2025-03-26T16:39:24.000Z"
   },
   {
    "duration": 35,
    "start_time": "2025-03-26T16:39:24.072Z"
   },
   {
    "duration": 32,
    "start_time": "2025-03-26T16:39:24.108Z"
   },
   {
    "duration": 5,
    "start_time": "2025-03-26T16:39:24.142Z"
   },
   {
    "duration": 11,
    "start_time": "2025-03-26T16:39:24.148Z"
   },
   {
    "duration": 3,
    "start_time": "2025-03-26T16:39:24.173Z"
   },
   {
    "duration": 4,
    "start_time": "2025-03-26T16:39:24.177Z"
   },
   {
    "duration": 11,
    "start_time": "2025-03-26T16:39:24.183Z"
   },
   {
    "duration": 10,
    "start_time": "2025-03-26T16:39:24.196Z"
   },
   {
    "duration": 7,
    "start_time": "2025-03-26T16:39:24.207Z"
   },
   {
    "duration": 212,
    "start_time": "2025-03-26T16:39:24.215Z"
   },
   {
    "duration": 0,
    "start_time": "2025-03-26T16:39:24.428Z"
   },
   {
    "duration": 0,
    "start_time": "2025-03-26T16:39:24.431Z"
   },
   {
    "duration": 0,
    "start_time": "2025-03-26T16:39:24.432Z"
   },
   {
    "duration": 0,
    "start_time": "2025-03-26T16:39:24.433Z"
   },
   {
    "duration": 0,
    "start_time": "2025-03-26T16:39:24.434Z"
   },
   {
    "duration": 0,
    "start_time": "2025-03-26T16:39:24.435Z"
   },
   {
    "duration": 0,
    "start_time": "2025-03-26T16:39:24.436Z"
   },
   {
    "duration": 0,
    "start_time": "2025-03-26T16:39:24.437Z"
   },
   {
    "duration": 0,
    "start_time": "2025-03-26T16:39:24.438Z"
   },
   {
    "duration": 0,
    "start_time": "2025-03-26T16:39:24.440Z"
   },
   {
    "duration": 0,
    "start_time": "2025-03-26T16:39:24.441Z"
   },
   {
    "duration": 0,
    "start_time": "2025-03-26T16:39:24.442Z"
   },
   {
    "duration": 0,
    "start_time": "2025-03-26T16:39:24.443Z"
   },
   {
    "duration": 0,
    "start_time": "2025-03-26T16:39:24.444Z"
   },
   {
    "duration": 0,
    "start_time": "2025-03-26T16:39:24.445Z"
   },
   {
    "duration": 0,
    "start_time": "2025-03-26T16:39:24.446Z"
   },
   {
    "duration": 0,
    "start_time": "2025-03-26T16:39:24.447Z"
   },
   {
    "duration": 0,
    "start_time": "2025-03-26T16:39:24.473Z"
   },
   {
    "duration": 4,
    "start_time": "2025-03-26T16:41:18.137Z"
   },
   {
    "duration": 47,
    "start_time": "2025-03-26T16:41:25.784Z"
   },
   {
    "duration": 12,
    "start_time": "2025-03-26T16:41:31.561Z"
   },
   {
    "duration": 353,
    "start_time": "2025-03-26T16:41:39.800Z"
   },
   {
    "duration": 555,
    "start_time": "2025-03-26T16:41:42.984Z"
   },
   {
    "duration": 3,
    "start_time": "2025-03-26T16:41:45.399Z"
   },
   {
    "duration": 3622,
    "start_time": "2025-03-26T16:41:47.880Z"
   },
   {
    "duration": 5,
    "start_time": "2025-03-26T16:41:53.319Z"
   },
   {
    "duration": 6,
    "start_time": "2025-03-26T16:42:17.767Z"
   },
   {
    "duration": 6,
    "start_time": "2025-03-26T16:42:36.598Z"
   },
   {
    "duration": 2413,
    "start_time": "2025-03-26T16:43:05.757Z"
   },
   {
    "duration": 2923,
    "start_time": "2025-03-26T16:43:08.172Z"
   },
   {
    "duration": 2,
    "start_time": "2025-03-26T16:43:11.097Z"
   },
   {
    "duration": 149,
    "start_time": "2025-03-26T16:43:11.101Z"
   },
   {
    "duration": 859,
    "start_time": "2025-03-26T16:43:11.253Z"
   },
   {
    "duration": 3,
    "start_time": "2025-03-26T16:43:12.113Z"
   },
   {
    "duration": 55,
    "start_time": "2025-03-26T16:43:12.118Z"
   },
   {
    "duration": 14,
    "start_time": "2025-03-26T16:43:12.174Z"
   },
   {
    "duration": 195,
    "start_time": "2025-03-26T16:43:12.190Z"
   },
   {
    "duration": 2,
    "start_time": "2025-03-26T16:43:12.387Z"
   },
   {
    "duration": 5,
    "start_time": "2025-03-26T16:43:12.390Z"
   },
   {
    "duration": 129237,
    "start_time": "2025-03-26T16:43:12.396Z"
   },
   {
    "duration": 66,
    "start_time": "2025-03-26T16:45:21.635Z"
   },
   {
    "duration": 35,
    "start_time": "2025-03-26T16:45:21.703Z"
   },
   {
    "duration": 46,
    "start_time": "2025-03-26T16:45:21.739Z"
   },
   {
    "duration": 4,
    "start_time": "2025-03-26T16:45:21.787Z"
   },
   {
    "duration": 4,
    "start_time": "2025-03-26T16:45:21.792Z"
   },
   {
    "duration": 11,
    "start_time": "2025-03-26T16:45:21.797Z"
   },
   {
    "duration": 16,
    "start_time": "2025-03-26T16:45:21.809Z"
   },
   {
    "duration": 58,
    "start_time": "2025-03-26T16:45:21.827Z"
   },
   {
    "duration": 7,
    "start_time": "2025-03-26T16:45:21.887Z"
   },
   {
    "duration": 7,
    "start_time": "2025-03-26T16:45:21.895Z"
   },
   {
    "duration": 47,
    "start_time": "2025-03-26T16:45:21.903Z"
   },
   {
    "duration": 7,
    "start_time": "2025-03-26T16:45:21.951Z"
   },
   {
    "duration": 357,
    "start_time": "2025-03-26T16:45:21.960Z"
   },
   {
    "duration": 566,
    "start_time": "2025-03-26T16:45:22.319Z"
   },
   {
    "duration": 27,
    "start_time": "2025-03-26T16:45:22.887Z"
   },
   {
    "duration": 3569,
    "start_time": "2025-03-26T16:45:22.915Z"
   },
   {
    "duration": 5,
    "start_time": "2025-03-26T16:45:26.486Z"
   },
   {
    "duration": 309067,
    "start_time": "2025-03-26T16:45:26.492Z"
   },
   {
    "duration": 649707,
    "start_time": "2025-03-26T16:50:35.561Z"
   },
   {
    "duration": 577273,
    "start_time": "2025-03-26T17:01:25.270Z"
   },
   {
    "duration": 188,
    "start_time": "2025-03-26T17:11:02.545Z"
   },
   {
    "duration": 8,
    "start_time": "2025-03-26T17:11:02.736Z"
   },
   {
    "duration": 9177,
    "start_time": "2025-03-26T17:11:02.745Z"
   },
   {
    "duration": 30,
    "start_time": "2025-03-26T17:11:11.923Z"
   },
   {
    "duration": 26876,
    "start_time": "2025-03-26T17:11:11.954Z"
   },
   {
    "duration": 910,
    "start_time": "2025-03-26T17:11:38.831Z"
   },
   {
    "duration": 4,
    "start_time": "2025-03-26T17:11:39.742Z"
   },
   {
    "duration": 10,
    "start_time": "2025-03-26T17:11:39.748Z"
   },
   {
    "duration": 17,
    "start_time": "2025-03-26T17:11:39.761Z"
   },
   {
    "duration": 24,
    "start_time": "2025-03-26T17:11:39.779Z"
   },
   {
    "duration": 605090,
    "start_time": "2025-03-26T17:14:24.944Z"
   },
   {
    "duration": 187,
    "start_time": "2025-03-26T17:27:03.632Z"
   },
   {
    "duration": 209,
    "start_time": "2025-03-26T17:28:26.510Z"
   },
   {
    "duration": 6,
    "start_time": "2025-03-26T17:28:28.990Z"
   },
   {
    "duration": 23,
    "start_time": "2025-03-26T17:28:32.910Z"
   },
   {
    "duration": 51,
    "start_time": "2025-03-26T17:29:22.574Z"
   },
   {
    "duration": 9,
    "start_time": "2025-03-26T17:29:24.941Z"
   },
   {
    "duration": 48,
    "start_time": "2025-03-26T17:29:33.822Z"
   },
   {
    "duration": 7,
    "start_time": "2025-03-26T17:29:36.109Z"
   },
   {
    "duration": 2421,
    "start_time": "2025-03-26T17:29:47.560Z"
   },
   {
    "duration": 2857,
    "start_time": "2025-03-26T17:29:49.983Z"
   },
   {
    "duration": 3,
    "start_time": "2025-03-26T17:29:52.842Z"
   },
   {
    "duration": 166,
    "start_time": "2025-03-26T17:29:52.846Z"
   },
   {
    "duration": 837,
    "start_time": "2025-03-26T17:29:53.014Z"
   },
   {
    "duration": 3,
    "start_time": "2025-03-26T17:29:53.852Z"
   },
   {
    "duration": 63,
    "start_time": "2025-03-26T17:29:53.856Z"
   },
   {
    "duration": 19,
    "start_time": "2025-03-26T17:29:53.921Z"
   },
   {
    "duration": 193,
    "start_time": "2025-03-26T17:29:53.942Z"
   },
   {
    "duration": 2,
    "start_time": "2025-03-26T17:29:54.139Z"
   },
   {
    "duration": 9,
    "start_time": "2025-03-26T17:29:54.143Z"
   },
   {
    "duration": 129444,
    "start_time": "2025-03-26T17:29:54.154Z"
   },
   {
    "duration": 60,
    "start_time": "2025-03-26T17:32:03.599Z"
   },
   {
    "duration": 46,
    "start_time": "2025-03-26T17:32:03.661Z"
   },
   {
    "duration": 36,
    "start_time": "2025-03-26T17:32:03.708Z"
   },
   {
    "duration": 6,
    "start_time": "2025-03-26T17:32:03.745Z"
   },
   {
    "duration": 22,
    "start_time": "2025-03-26T17:32:03.752Z"
   },
   {
    "duration": 12,
    "start_time": "2025-03-26T17:32:03.775Z"
   },
   {
    "duration": 6,
    "start_time": "2025-03-26T17:32:03.788Z"
   },
   {
    "duration": 32,
    "start_time": "2025-03-26T17:32:03.795Z"
   },
   {
    "duration": 9,
    "start_time": "2025-03-26T17:32:03.828Z"
   },
   {
    "duration": 6,
    "start_time": "2025-03-26T17:32:03.838Z"
   },
   {
    "duration": 93,
    "start_time": "2025-03-26T17:32:03.845Z"
   },
   {
    "duration": 8,
    "start_time": "2025-03-26T17:32:03.940Z"
   },
   {
    "duration": 480,
    "start_time": "2025-03-26T17:32:03.949Z"
   },
   {
    "duration": 546,
    "start_time": "2025-03-26T17:32:04.430Z"
   },
   {
    "duration": 10,
    "start_time": "2025-03-26T17:32:04.978Z"
   },
   {
    "duration": 4070,
    "start_time": "2025-03-26T17:32:04.993Z"
   },
   {
    "duration": 10,
    "start_time": "2025-03-26T17:32:09.065Z"
   },
   {
    "duration": 870885,
    "start_time": "2025-03-26T17:32:09.077Z"
   },
   {
    "duration": 1002531,
    "start_time": "2025-03-26T17:46:39.963Z"
   },
   {
    "duration": 832721,
    "start_time": "2025-03-26T18:03:22.496Z"
   },
   {
    "duration": 6,
    "start_time": "2025-03-26T18:17:15.534Z"
   },
   {
    "duration": 14040,
    "start_time": "2025-03-26T18:17:15.542Z"
   },
   {
    "duration": 39,
    "start_time": "2025-03-26T18:17:29.584Z"
   },
   {
    "duration": 36626,
    "start_time": "2025-03-26T18:17:29.624Z"
   },
   {
    "duration": 1300,
    "start_time": "2025-03-26T18:18:06.252Z"
   },
   {
    "duration": 5,
    "start_time": "2025-03-26T18:18:07.553Z"
   },
   {
    "duration": 15,
    "start_time": "2025-03-26T18:18:07.560Z"
   },
   {
    "duration": 10,
    "start_time": "2025-03-26T18:18:07.577Z"
   },
   {
    "duration": 19,
    "start_time": "2025-03-26T18:18:07.589Z"
   },
   {
    "duration": 53,
    "start_time": "2025-03-26T18:18:07.611Z"
   },
   {
    "duration": 21026,
    "start_time": "2025-03-26T18:52:20.775Z"
   },
   {
    "duration": 7,
    "start_time": "2025-03-26T18:52:46.790Z"
   },
   {
    "duration": 16,
    "start_time": "2025-03-26T18:52:50.134Z"
   },
   {
    "duration": 2447,
    "start_time": "2025-03-26T18:55:09.711Z"
   },
   {
    "duration": 3032,
    "start_time": "2025-03-26T18:55:12.160Z"
   },
   {
    "duration": 2,
    "start_time": "2025-03-26T18:55:15.194Z"
   },
   {
    "duration": 239,
    "start_time": "2025-03-26T18:55:15.199Z"
   },
   {
    "duration": 872,
    "start_time": "2025-03-26T18:55:15.439Z"
   },
   {
    "duration": 3,
    "start_time": "2025-03-26T18:55:16.312Z"
   },
   {
    "duration": 62,
    "start_time": "2025-03-26T18:55:16.317Z"
   },
   {
    "duration": 14,
    "start_time": "2025-03-26T18:55:16.381Z"
   },
   {
    "duration": 211,
    "start_time": "2025-03-26T18:55:16.397Z"
   },
   {
    "duration": 3,
    "start_time": "2025-03-26T18:55:16.610Z"
   },
   {
    "duration": 6,
    "start_time": "2025-03-26T18:55:16.614Z"
   },
   {
    "duration": 132553,
    "start_time": "2025-03-26T18:55:16.621Z"
   },
   {
    "duration": 61,
    "start_time": "2025-03-26T18:57:29.176Z"
   },
   {
    "duration": 53,
    "start_time": "2025-03-26T18:57:29.238Z"
   },
   {
    "duration": 35,
    "start_time": "2025-03-26T18:57:29.293Z"
   },
   {
    "duration": 4,
    "start_time": "2025-03-26T18:57:29.330Z"
   },
   {
    "duration": 2,
    "start_time": "2025-03-26T18:57:29.336Z"
   },
   {
    "duration": 3,
    "start_time": "2025-03-26T18:57:29.340Z"
   },
   {
    "duration": 29,
    "start_time": "2025-03-26T18:57:29.344Z"
   },
   {
    "duration": 11,
    "start_time": "2025-03-26T18:57:29.374Z"
   },
   {
    "duration": 4,
    "start_time": "2025-03-26T18:57:29.386Z"
   },
   {
    "duration": 4,
    "start_time": "2025-03-26T18:57:29.391Z"
   },
   {
    "duration": 49,
    "start_time": "2025-03-26T18:57:29.397Z"
   },
   {
    "duration": 7,
    "start_time": "2025-03-26T18:57:29.448Z"
   },
   {
    "duration": 486,
    "start_time": "2025-03-26T18:57:29.457Z"
   },
   {
    "duration": 563,
    "start_time": "2025-03-26T18:57:29.945Z"
   },
   {
    "duration": 58,
    "start_time": "2025-03-26T18:57:30.509Z"
   },
   {
    "duration": 4225,
    "start_time": "2025-03-26T18:57:30.570Z"
   },
   {
    "duration": 5,
    "start_time": "2025-03-26T18:57:34.797Z"
   },
   {
    "duration": 2428,
    "start_time": "2025-03-26T19:01:27.781Z"
   },
   {
    "duration": 2963,
    "start_time": "2025-03-26T19:01:30.211Z"
   },
   {
    "duration": 2,
    "start_time": "2025-03-26T19:01:33.176Z"
   },
   {
    "duration": 247,
    "start_time": "2025-03-26T19:01:33.179Z"
   },
   {
    "duration": 847,
    "start_time": "2025-03-26T19:01:33.428Z"
   },
   {
    "duration": 4,
    "start_time": "2025-03-26T19:01:34.276Z"
   },
   {
    "duration": 57,
    "start_time": "2025-03-26T19:01:34.281Z"
   },
   {
    "duration": 14,
    "start_time": "2025-03-26T19:01:34.339Z"
   },
   {
    "duration": 191,
    "start_time": "2025-03-26T19:01:34.354Z"
   },
   {
    "duration": 3,
    "start_time": "2025-03-26T19:01:34.546Z"
   },
   {
    "duration": 95,
    "start_time": "2025-03-26T19:01:34.550Z"
   },
   {
    "duration": 130486,
    "start_time": "2025-03-26T19:01:34.646Z"
   },
   {
    "duration": 72,
    "start_time": "2025-03-26T19:03:45.133Z"
   },
   {
    "duration": 40,
    "start_time": "2025-03-26T19:03:45.208Z"
   },
   {
    "duration": 58,
    "start_time": "2025-03-26T19:03:45.250Z"
   },
   {
    "duration": 6,
    "start_time": "2025-03-26T19:03:45.309Z"
   },
   {
    "duration": 34,
    "start_time": "2025-03-26T19:03:45.316Z"
   },
   {
    "duration": 28,
    "start_time": "2025-03-26T19:03:45.352Z"
   },
   {
    "duration": 4,
    "start_time": "2025-03-26T19:03:45.382Z"
   },
   {
    "duration": 10,
    "start_time": "2025-03-26T19:03:45.387Z"
   },
   {
    "duration": 21,
    "start_time": "2025-03-26T19:03:45.398Z"
   },
   {
    "duration": 7,
    "start_time": "2025-03-26T19:03:45.421Z"
   },
   {
    "duration": 10,
    "start_time": "2025-03-26T19:03:45.430Z"
   },
   {
    "duration": 8,
    "start_time": "2025-03-26T19:03:45.442Z"
   },
   {
    "duration": 64,
    "start_time": "2025-03-26T19:03:45.452Z"
   },
   {
    "duration": 7,
    "start_time": "2025-03-26T19:03:45.518Z"
   },
   {
    "duration": 504,
    "start_time": "2025-03-26T19:03:45.527Z"
   },
   {
    "duration": 565,
    "start_time": "2025-03-26T19:03:46.033Z"
   },
   {
    "duration": 11,
    "start_time": "2025-03-26T19:03:46.600Z"
   },
   {
    "duration": 4085,
    "start_time": "2025-03-26T19:03:46.613Z"
   },
   {
    "duration": 5,
    "start_time": "2025-03-26T19:03:50.699Z"
   },
   {
    "duration": 1321058,
    "start_time": "2025-03-26T19:03:50.706Z"
   },
   {
    "duration": 998496,
    "start_time": "2025-03-26T19:25:51.766Z"
   },
   {
    "duration": 822167,
    "start_time": "2025-03-26T19:42:30.264Z"
   },
   {
    "duration": 52,
    "start_time": "2025-03-26T19:56:12.433Z"
   },
   {
    "duration": 0,
    "start_time": "2025-03-26T19:56:12.487Z"
   },
   {
    "duration": 0,
    "start_time": "2025-03-26T19:56:12.488Z"
   },
   {
    "duration": 0,
    "start_time": "2025-03-26T19:56:12.489Z"
   },
   {
    "duration": 0,
    "start_time": "2025-03-26T19:56:12.490Z"
   },
   {
    "duration": 0,
    "start_time": "2025-03-26T19:56:12.491Z"
   },
   {
    "duration": 0,
    "start_time": "2025-03-26T19:56:12.492Z"
   },
   {
    "duration": 0,
    "start_time": "2025-03-26T19:56:12.493Z"
   },
   {
    "duration": 0,
    "start_time": "2025-03-26T19:56:12.494Z"
   },
   {
    "duration": 0,
    "start_time": "2025-03-26T19:56:12.495Z"
   },
   {
    "duration": 2452,
    "start_time": "2025-03-26T19:57:30.158Z"
   },
   {
    "duration": 3018,
    "start_time": "2025-03-26T19:57:32.612Z"
   },
   {
    "duration": 2,
    "start_time": "2025-03-26T19:57:35.632Z"
   },
   {
    "duration": 159,
    "start_time": "2025-03-26T19:57:35.636Z"
   },
   {
    "duration": 850,
    "start_time": "2025-03-26T19:57:35.797Z"
   },
   {
    "duration": 3,
    "start_time": "2025-03-26T19:57:36.648Z"
   },
   {
    "duration": 52,
    "start_time": "2025-03-26T19:57:36.653Z"
   },
   {
    "duration": 13,
    "start_time": "2025-03-26T19:57:36.706Z"
   },
   {
    "duration": 184,
    "start_time": "2025-03-26T19:57:36.721Z"
   },
   {
    "duration": 3,
    "start_time": "2025-03-26T19:57:36.907Z"
   },
   {
    "duration": 23,
    "start_time": "2025-03-26T19:57:36.911Z"
   },
   {
    "duration": 130164,
    "start_time": "2025-03-26T19:57:36.936Z"
   },
   {
    "duration": 72,
    "start_time": "2025-03-26T19:59:47.101Z"
   },
   {
    "duration": 39,
    "start_time": "2025-03-26T19:59:47.175Z"
   },
   {
    "duration": 58,
    "start_time": "2025-03-26T19:59:47.216Z"
   },
   {
    "duration": 5,
    "start_time": "2025-03-26T19:59:47.275Z"
   },
   {
    "duration": 14,
    "start_time": "2025-03-26T19:59:47.282Z"
   },
   {
    "duration": 7,
    "start_time": "2025-03-26T19:59:47.297Z"
   },
   {
    "duration": 4,
    "start_time": "2025-03-26T19:59:47.306Z"
   },
   {
    "duration": 3,
    "start_time": "2025-03-26T19:59:47.312Z"
   },
   {
    "duration": 14,
    "start_time": "2025-03-26T19:59:47.316Z"
   },
   {
    "duration": 4,
    "start_time": "2025-03-26T19:59:47.331Z"
   },
   {
    "duration": 8,
    "start_time": "2025-03-26T19:59:47.337Z"
   },
   {
    "duration": 4,
    "start_time": "2025-03-26T19:59:47.346Z"
   },
   {
    "duration": 62,
    "start_time": "2025-03-26T19:59:47.352Z"
   },
   {
    "duration": 9,
    "start_time": "2025-03-26T19:59:47.416Z"
   },
   {
    "duration": 497,
    "start_time": "2025-03-26T19:59:47.427Z"
   },
   {
    "duration": 578,
    "start_time": "2025-03-26T19:59:47.928Z"
   },
   {
    "duration": 5,
    "start_time": "2025-03-26T19:59:48.508Z"
   },
   {
    "duration": 4287,
    "start_time": "2025-03-26T19:59:48.515Z"
   },
   {
    "duration": 8,
    "start_time": "2025-03-26T19:59:52.804Z"
   },
   {
    "duration": 1306312,
    "start_time": "2025-03-26T19:59:52.814Z"
   },
   {
    "duration": 1015465,
    "start_time": "2025-03-26T20:21:39.127Z"
   },
   {
    "duration": 861921,
    "start_time": "2025-03-26T20:38:34.594Z"
   },
   {
    "duration": 284,
    "start_time": "2025-03-26T20:52:56.517Z"
   },
   {
    "duration": 103,
    "start_time": "2025-03-26T20:52:56.803Z"
   },
   {
    "duration": 14972,
    "start_time": "2025-03-26T20:52:56.908Z"
   },
   {
    "duration": 42,
    "start_time": "2025-03-26T20:53:11.882Z"
   },
   {
    "duration": 39317,
    "start_time": "2025-03-26T20:53:11.926Z"
   },
   {
    "duration": 1286,
    "start_time": "2025-03-26T20:53:51.244Z"
   },
   {
    "duration": 5,
    "start_time": "2025-03-26T20:53:52.531Z"
   },
   {
    "duration": 12,
    "start_time": "2025-03-26T20:53:52.537Z"
   },
   {
    "duration": 0,
    "start_time": "2025-03-26T20:53:52.551Z"
   },
   {
    "duration": 0,
    "start_time": "2025-03-26T20:53:52.552Z"
   },
   {
    "duration": 17,
    "start_time": "2025-03-26T21:45:39.041Z"
   },
   {
    "duration": 7198,
    "start_time": "2025-03-27T05:27:23.150Z"
   },
   {
    "duration": 2876,
    "start_time": "2025-03-27T05:27:30.351Z"
   },
   {
    "duration": 3,
    "start_time": "2025-03-27T05:27:33.228Z"
   },
   {
    "duration": 346,
    "start_time": "2025-03-27T05:27:33.232Z"
   },
   {
    "duration": 824,
    "start_time": "2025-03-27T05:27:33.580Z"
   },
   {
    "duration": 3,
    "start_time": "2025-03-27T05:27:34.406Z"
   },
   {
    "duration": 41,
    "start_time": "2025-03-27T05:27:34.410Z"
   },
   {
    "duration": 13,
    "start_time": "2025-03-27T05:27:34.452Z"
   },
   {
    "duration": 187,
    "start_time": "2025-03-27T05:27:34.466Z"
   },
   {
    "duration": 2,
    "start_time": "2025-03-27T05:27:34.655Z"
   },
   {
    "duration": 14,
    "start_time": "2025-03-27T05:27:34.658Z"
   },
   {
    "duration": 121817,
    "start_time": "2025-03-27T05:27:34.673Z"
   },
   {
    "duration": 62,
    "start_time": "2025-03-27T05:29:36.492Z"
   },
   {
    "duration": 79,
    "start_time": "2025-03-27T05:29:36.557Z"
   },
   {
    "duration": 32,
    "start_time": "2025-03-27T05:29:36.637Z"
   },
   {
    "duration": 141,
    "start_time": "2025-03-27T05:29:36.671Z"
   },
   {
    "duration": 48,
    "start_time": "2025-03-27T05:29:36.814Z"
   },
   {
    "duration": 180,
    "start_time": "2025-03-27T05:29:36.863Z"
   },
   {
    "duration": 40,
    "start_time": "2025-03-27T05:29:37.045Z"
   },
   {
    "duration": 21,
    "start_time": "2025-03-27T05:29:37.087Z"
   },
   {
    "duration": 9,
    "start_time": "2025-03-27T05:29:37.110Z"
   },
   {
    "duration": 15,
    "start_time": "2025-03-27T05:29:37.120Z"
   },
   {
    "duration": 12,
    "start_time": "2025-03-27T05:29:37.136Z"
   },
   {
    "duration": 28,
    "start_time": "2025-03-27T05:29:37.149Z"
   },
   {
    "duration": 55,
    "start_time": "2025-03-27T05:29:37.178Z"
   },
   {
    "duration": 8,
    "start_time": "2025-03-27T05:29:37.235Z"
   },
   {
    "duration": 496,
    "start_time": "2025-03-27T05:29:37.244Z"
   },
   {
    "duration": 548,
    "start_time": "2025-03-27T05:29:37.742Z"
   },
   {
    "duration": 15,
    "start_time": "2025-03-27T05:29:38.292Z"
   },
   {
    "duration": 3879,
    "start_time": "2025-03-27T05:29:38.308Z"
   },
   {
    "duration": 5,
    "start_time": "2025-03-27T05:29:42.188Z"
   },
   {
    "duration": 1240129,
    "start_time": "2025-03-27T05:29:42.194Z"
   },
   {
    "duration": 944540,
    "start_time": "2025-03-27T05:50:22.325Z"
   },
   {
    "duration": 772379,
    "start_time": "2025-03-27T06:06:06.867Z"
   },
   {
    "duration": 273,
    "start_time": "2025-03-27T06:18:59.247Z"
   },
   {
    "duration": 84,
    "start_time": "2025-03-27T06:18:59.522Z"
   },
   {
    "duration": 13435,
    "start_time": "2025-03-27T06:18:59.607Z"
   },
   {
    "duration": 38,
    "start_time": "2025-03-27T06:19:13.043Z"
   },
   {
    "duration": 35060,
    "start_time": "2025-03-27T06:19:13.082Z"
   },
   {
    "duration": 1233,
    "start_time": "2025-03-27T06:19:48.144Z"
   },
   {
    "duration": 5,
    "start_time": "2025-03-27T06:19:49.381Z"
   },
   {
    "duration": 23,
    "start_time": "2025-03-27T06:19:49.388Z"
   },
   {
    "duration": 0,
    "start_time": "2025-03-27T06:19:49.412Z"
   },
   {
    "duration": 0,
    "start_time": "2025-03-27T06:19:49.413Z"
   },
   {
    "duration": 19545,
    "start_time": "2025-03-27T07:19:32.550Z"
   },
   {
    "duration": 7,
    "start_time": "2025-03-27T07:19:56.755Z"
   },
   {
    "duration": 13278,
    "start_time": "2025-03-27T07:20:13.491Z"
   },
   {
    "duration": 18,
    "start_time": "2025-03-27T07:20:36.146Z"
   },
   {
    "duration": 35397,
    "start_time": "2025-03-27T07:20:38.498Z"
   },
   {
    "duration": 1233,
    "start_time": "2025-03-27T07:21:30.626Z"
   },
   {
    "duration": 4,
    "start_time": "2025-03-27T07:21:34.081Z"
   },
   {
    "duration": 3,
    "start_time": "2025-03-27T07:21:35.938Z"
   },
   {
    "duration": 8,
    "start_time": "2025-03-27T07:21:38.721Z"
   },
   {
    "duration": 18,
    "start_time": "2025-03-27T07:21:41.953Z"
   },
   {
    "duration": 3,
    "start_time": "2025-03-27T07:25:25.773Z"
   },
   {
    "duration": 25,
    "start_time": "2025-03-27T07:25:28.380Z"
   },
   {
    "duration": 2286,
    "start_time": "2025-03-27T07:26:04.132Z"
   },
   {
    "duration": 2885,
    "start_time": "2025-03-27T07:26:06.420Z"
   },
   {
    "duration": 3,
    "start_time": "2025-03-27T07:26:09.306Z"
   },
   {
    "duration": 223,
    "start_time": "2025-03-27T07:26:09.310Z"
   },
   {
    "duration": 843,
    "start_time": "2025-03-27T07:26:09.534Z"
   },
   {
    "duration": 2,
    "start_time": "2025-03-27T07:26:10.379Z"
   },
   {
    "duration": 50,
    "start_time": "2025-03-27T07:26:10.383Z"
   },
   {
    "duration": 12,
    "start_time": "2025-03-27T07:26:10.434Z"
   },
   {
    "duration": 189,
    "start_time": "2025-03-27T07:26:10.448Z"
   },
   {
    "duration": 3,
    "start_time": "2025-03-27T07:26:10.640Z"
   },
   {
    "duration": 23,
    "start_time": "2025-03-27T07:26:10.644Z"
   },
   {
    "duration": 123313,
    "start_time": "2025-03-27T07:26:10.669Z"
   },
   {
    "duration": 66,
    "start_time": "2025-03-27T07:28:13.984Z"
   },
   {
    "duration": 34,
    "start_time": "2025-03-27T07:28:14.052Z"
   },
   {
    "duration": 48,
    "start_time": "2025-03-27T07:28:14.087Z"
   },
   {
    "duration": 4,
    "start_time": "2025-03-27T07:28:14.137Z"
   },
   {
    "duration": 3,
    "start_time": "2025-03-27T07:28:14.142Z"
   },
   {
    "duration": 15,
    "start_time": "2025-03-27T07:28:14.146Z"
   },
   {
    "duration": 6,
    "start_time": "2025-03-27T07:28:14.162Z"
   },
   {
    "duration": 5,
    "start_time": "2025-03-27T07:28:14.169Z"
   },
   {
    "duration": 9,
    "start_time": "2025-03-27T07:28:14.176Z"
   },
   {
    "duration": 5,
    "start_time": "2025-03-27T07:28:14.187Z"
   },
   {
    "duration": 11,
    "start_time": "2025-03-27T07:28:14.193Z"
   },
   {
    "duration": 189,
    "start_time": "2025-03-27T07:28:14.205Z"
   },
   {
    "duration": 0,
    "start_time": "2025-03-27T07:28:14.396Z"
   },
   {
    "duration": 0,
    "start_time": "2025-03-27T07:28:14.397Z"
   },
   {
    "duration": 0,
    "start_time": "2025-03-27T07:28:14.403Z"
   },
   {
    "duration": 0,
    "start_time": "2025-03-27T07:28:14.404Z"
   },
   {
    "duration": 0,
    "start_time": "2025-03-27T07:28:14.405Z"
   },
   {
    "duration": 0,
    "start_time": "2025-03-27T07:28:14.406Z"
   },
   {
    "duration": 0,
    "start_time": "2025-03-27T07:28:14.406Z"
   },
   {
    "duration": 0,
    "start_time": "2025-03-27T07:28:14.407Z"
   },
   {
    "duration": 0,
    "start_time": "2025-03-27T07:28:14.408Z"
   },
   {
    "duration": 0,
    "start_time": "2025-03-27T07:28:14.409Z"
   },
   {
    "duration": 0,
    "start_time": "2025-03-27T07:28:14.410Z"
   },
   {
    "duration": 0,
    "start_time": "2025-03-27T07:28:14.411Z"
   },
   {
    "duration": 0,
    "start_time": "2025-03-27T07:28:14.411Z"
   },
   {
    "duration": 0,
    "start_time": "2025-03-27T07:28:14.412Z"
   },
   {
    "duration": 0,
    "start_time": "2025-03-27T07:28:14.413Z"
   },
   {
    "duration": 0,
    "start_time": "2025-03-27T07:28:14.414Z"
   },
   {
    "duration": 0,
    "start_time": "2025-03-27T07:28:14.415Z"
   },
   {
    "duration": 0,
    "start_time": "2025-03-27T07:28:14.416Z"
   },
   {
    "duration": 3,
    "start_time": "2025-03-27T07:34:22.801Z"
   },
   {
    "duration": 22,
    "start_time": "2025-03-27T07:34:25.121Z"
   },
   {
    "duration": 3,
    "start_time": "2025-03-27T07:37:44.238Z"
   },
   {
    "duration": 129977,
    "start_time": "2025-03-27T07:37:50.829Z"
   },
   {
    "duration": 64,
    "start_time": "2025-03-27T07:40:25.071Z"
   },
   {
    "duration": 4,
    "start_time": "2025-03-27T07:46:01.619Z"
   },
   {
    "duration": 122711,
    "start_time": "2025-03-27T07:46:05.363Z"
   },
   {
    "duration": 59,
    "start_time": "2025-03-27T07:48:19.600Z"
   },
   {
    "duration": 18,
    "start_time": "2025-03-27T07:48:25.040Z"
   },
   {
    "duration": 38,
    "start_time": "2025-03-27T07:48:28.047Z"
   },
   {
    "duration": 6,
    "start_time": "2025-03-27T07:48:31.664Z"
   },
   {
    "duration": 72,
    "start_time": "2025-03-27T07:49:10.433Z"
   },
   {
    "duration": 5,
    "start_time": "2025-03-27T07:49:13.039Z"
   },
   {
    "duration": 2,
    "start_time": "2025-03-27T07:49:16.847Z"
   },
   {
    "duration": 22,
    "start_time": "2025-03-27T07:49:18.944Z"
   },
   {
    "duration": 10,
    "start_time": "2025-03-27T07:50:06.624Z"
   },
   {
    "duration": 8,
    "start_time": "2025-03-27T07:50:43.071Z"
   },
   {
    "duration": 12,
    "start_time": "2025-03-27T07:53:32.795Z"
   },
   {
    "duration": 5,
    "start_time": "2025-03-27T07:53:37.881Z"
   },
   {
    "duration": 2426,
    "start_time": "2025-03-27T07:53:46.394Z"
   },
   {
    "duration": 2816,
    "start_time": "2025-03-27T07:53:48.822Z"
   },
   {
    "duration": 3,
    "start_time": "2025-03-27T07:53:51.639Z"
   },
   {
    "duration": 296,
    "start_time": "2025-03-27T07:53:51.643Z"
   },
   {
    "duration": 834,
    "start_time": "2025-03-27T07:53:51.941Z"
   },
   {
    "duration": 3,
    "start_time": "2025-03-27T07:53:52.776Z"
   },
   {
    "duration": 74,
    "start_time": "2025-03-27T07:53:52.780Z"
   },
   {
    "duration": 49,
    "start_time": "2025-03-27T07:53:52.855Z"
   },
   {
    "duration": 183,
    "start_time": "2025-03-27T07:53:52.905Z"
   },
   {
    "duration": 2,
    "start_time": "2025-03-27T07:53:53.091Z"
   },
   {
    "duration": 3,
    "start_time": "2025-03-27T07:53:53.103Z"
   },
   {
    "duration": 123052,
    "start_time": "2025-03-27T07:53:53.107Z"
   },
   {
    "duration": 66,
    "start_time": "2025-03-27T07:55:56.160Z"
   },
   {
    "duration": 35,
    "start_time": "2025-03-27T07:55:56.227Z"
   },
   {
    "duration": 77,
    "start_time": "2025-03-27T07:55:56.264Z"
   },
   {
    "duration": 5,
    "start_time": "2025-03-27T07:55:56.343Z"
   },
   {
    "duration": 16,
    "start_time": "2025-03-27T07:55:56.349Z"
   },
   {
    "duration": 21,
    "start_time": "2025-03-27T07:55:56.366Z"
   },
   {
    "duration": 3,
    "start_time": "2025-03-27T07:55:56.388Z"
   },
   {
    "duration": 8,
    "start_time": "2025-03-27T07:55:56.393Z"
   },
   {
    "duration": 7,
    "start_time": "2025-03-27T07:55:56.403Z"
   },
   {
    "duration": 11,
    "start_time": "2025-03-27T07:55:56.412Z"
   },
   {
    "duration": 16,
    "start_time": "2025-03-27T07:55:56.424Z"
   },
   {
    "duration": 179,
    "start_time": "2025-03-27T07:55:56.442Z"
   },
   {
    "duration": 0,
    "start_time": "2025-03-27T07:55:56.623Z"
   },
   {
    "duration": 0,
    "start_time": "2025-03-27T07:55:56.625Z"
   },
   {
    "duration": 0,
    "start_time": "2025-03-27T07:55:56.626Z"
   },
   {
    "duration": 0,
    "start_time": "2025-03-27T07:55:56.627Z"
   },
   {
    "duration": 0,
    "start_time": "2025-03-27T07:55:56.628Z"
   },
   {
    "duration": 0,
    "start_time": "2025-03-27T07:55:56.629Z"
   },
   {
    "duration": 0,
    "start_time": "2025-03-27T07:55:56.630Z"
   },
   {
    "duration": 0,
    "start_time": "2025-03-27T07:55:56.631Z"
   },
   {
    "duration": 0,
    "start_time": "2025-03-27T07:55:56.632Z"
   },
   {
    "duration": 0,
    "start_time": "2025-03-27T07:55:56.633Z"
   },
   {
    "duration": 0,
    "start_time": "2025-03-27T07:55:56.633Z"
   },
   {
    "duration": 0,
    "start_time": "2025-03-27T07:55:56.635Z"
   },
   {
    "duration": 0,
    "start_time": "2025-03-27T07:55:56.636Z"
   },
   {
    "duration": 0,
    "start_time": "2025-03-27T07:55:56.637Z"
   },
   {
    "duration": 0,
    "start_time": "2025-03-27T07:55:56.638Z"
   },
   {
    "duration": 0,
    "start_time": "2025-03-27T07:55:56.639Z"
   },
   {
    "duration": 0,
    "start_time": "2025-03-27T07:55:56.640Z"
   },
   {
    "duration": 0,
    "start_time": "2025-03-27T07:55:56.641Z"
   },
   {
    "duration": 49,
    "start_time": "2025-03-27T07:59:35.764Z"
   },
   {
    "duration": 7,
    "start_time": "2025-03-27T07:59:42.515Z"
   },
   {
    "duration": 37,
    "start_time": "2025-03-27T08:00:32.819Z"
   },
   {
    "duration": 6,
    "start_time": "2025-03-27T08:00:34.498Z"
   },
   {
    "duration": 10,
    "start_time": "2025-03-27T08:00:36.418Z"
   },
   {
    "duration": 2345,
    "start_time": "2025-03-27T08:00:49.675Z"
   },
   {
    "duration": 2778,
    "start_time": "2025-03-27T08:00:52.022Z"
   },
   {
    "duration": 3,
    "start_time": "2025-03-27T08:00:54.801Z"
   },
   {
    "duration": 224,
    "start_time": "2025-03-27T08:00:54.805Z"
   },
   {
    "duration": 850,
    "start_time": "2025-03-27T08:00:55.031Z"
   },
   {
    "duration": 3,
    "start_time": "2025-03-27T08:00:55.882Z"
   },
   {
    "duration": 44,
    "start_time": "2025-03-27T08:00:55.887Z"
   },
   {
    "duration": 12,
    "start_time": "2025-03-27T08:00:55.933Z"
   },
   {
    "duration": 208,
    "start_time": "2025-03-27T08:00:55.947Z"
   },
   {
    "duration": 3,
    "start_time": "2025-03-27T08:00:56.157Z"
   },
   {
    "duration": 9,
    "start_time": "2025-03-27T08:00:56.161Z"
   },
   {
    "duration": 124665,
    "start_time": "2025-03-27T08:00:56.171Z"
   },
   {
    "duration": 56,
    "start_time": "2025-03-27T08:03:00.837Z"
   },
   {
    "duration": 40,
    "start_time": "2025-03-27T08:03:00.906Z"
   },
   {
    "duration": 87,
    "start_time": "2025-03-27T08:03:00.948Z"
   },
   {
    "duration": 5,
    "start_time": "2025-03-27T08:03:01.036Z"
   },
   {
    "duration": 78,
    "start_time": "2025-03-27T08:03:01.042Z"
   },
   {
    "duration": 28,
    "start_time": "2025-03-27T08:03:01.122Z"
   },
   {
    "duration": 33,
    "start_time": "2025-03-27T08:03:01.151Z"
   },
   {
    "duration": 13,
    "start_time": "2025-03-27T08:03:01.186Z"
   },
   {
    "duration": 15,
    "start_time": "2025-03-27T08:03:01.201Z"
   },
   {
    "duration": 3,
    "start_time": "2025-03-27T08:03:01.218Z"
   },
   {
    "duration": 5,
    "start_time": "2025-03-27T08:03:01.223Z"
   },
   {
    "duration": 361,
    "start_time": "2025-03-27T08:03:01.229Z"
   },
   {
    "duration": 566,
    "start_time": "2025-03-27T08:03:01.592Z"
   },
   {
    "duration": 56,
    "start_time": "2025-03-27T08:03:02.160Z"
   },
   {
    "duration": 3637,
    "start_time": "2025-03-27T08:03:02.217Z"
   },
   {
    "duration": 6,
    "start_time": "2025-03-27T08:03:05.855Z"
   },
   {
    "duration": 833886,
    "start_time": "2025-03-27T08:03:05.863Z"
   },
   {
    "duration": 577454,
    "start_time": "2025-03-27T08:16:59.751Z"
   },
   {
    "duration": 496647,
    "start_time": "2025-03-27T08:26:37.207Z"
   },
   {
    "duration": 12371,
    "start_time": "2025-03-27T08:34:53.856Z"
   },
   {
    "duration": 5,
    "start_time": "2025-03-27T08:35:06.229Z"
   },
   {
    "duration": 8216,
    "start_time": "2025-03-27T08:35:06.235Z"
   },
   {
    "duration": 26,
    "start_time": "2025-03-27T08:35:14.453Z"
   },
   {
    "duration": 25284,
    "start_time": "2025-03-27T08:35:14.481Z"
   },
   {
    "duration": 827,
    "start_time": "2025-03-27T08:35:39.767Z"
   },
   {
    "duration": 10,
    "start_time": "2025-03-27T08:35:40.595Z"
   },
   {
    "duration": 11,
    "start_time": "2025-03-27T08:35:40.606Z"
   },
   {
    "duration": 16,
    "start_time": "2025-03-27T08:35:40.618Z"
   },
   {
    "duration": 16,
    "start_time": "2025-03-27T08:35:40.639Z"
   },
   {
    "duration": 3,
    "start_time": "2025-03-27T08:36:28.728Z"
   },
   {
    "duration": 178,
    "start_time": "2025-03-27T08:36:29.542Z"
   },
   {
    "duration": 46,
    "start_time": "2025-03-27T08:36:51.287Z"
   },
   {
    "duration": 8,
    "start_time": "2025-03-27T08:36:55.750Z"
   },
   {
    "duration": 51,
    "start_time": "2025-03-27T08:37:05.702Z"
   },
   {
    "duration": 8,
    "start_time": "2025-03-27T08:37:08.069Z"
   },
   {
    "duration": 2384,
    "start_time": "2025-03-27T08:38:47.029Z"
   },
   {
    "duration": 3648,
    "start_time": "2025-03-27T08:38:49.416Z"
   },
   {
    "duration": 2,
    "start_time": "2025-03-27T08:38:53.066Z"
   },
   {
    "duration": 237,
    "start_time": "2025-03-27T08:38:53.070Z"
   },
   {
    "duration": 837,
    "start_time": "2025-03-27T08:38:53.310Z"
   },
   {
    "duration": 3,
    "start_time": "2025-03-27T08:38:54.148Z"
   },
   {
    "duration": 54,
    "start_time": "2025-03-27T08:38:54.153Z"
   },
   {
    "duration": 13,
    "start_time": "2025-03-27T08:38:54.208Z"
   },
   {
    "duration": 191,
    "start_time": "2025-03-27T08:38:54.222Z"
   },
   {
    "duration": 3,
    "start_time": "2025-03-27T08:38:54.415Z"
   },
   {
    "duration": 29,
    "start_time": "2025-03-27T08:38:54.420Z"
   },
   {
    "duration": 131705,
    "start_time": "2025-03-27T08:38:54.451Z"
   },
   {
    "duration": 76,
    "start_time": "2025-03-27T08:41:06.158Z"
   },
   {
    "duration": 37,
    "start_time": "2025-03-27T08:41:06.237Z"
   },
   {
    "duration": 103,
    "start_time": "2025-03-27T08:41:06.276Z"
   },
   {
    "duration": 5,
    "start_time": "2025-03-27T08:41:06.381Z"
   },
   {
    "duration": 64,
    "start_time": "2025-03-27T08:41:06.387Z"
   },
   {
    "duration": 6,
    "start_time": "2025-03-27T08:41:06.453Z"
   },
   {
    "duration": 21,
    "start_time": "2025-03-27T08:41:06.461Z"
   },
   {
    "duration": 35,
    "start_time": "2025-03-27T08:41:06.484Z"
   },
   {
    "duration": 36,
    "start_time": "2025-03-27T08:41:06.521Z"
   },
   {
    "duration": 36,
    "start_time": "2025-03-27T08:41:06.558Z"
   },
   {
    "duration": 75,
    "start_time": "2025-03-27T08:41:06.595Z"
   },
   {
    "duration": 9,
    "start_time": "2025-03-27T08:41:06.671Z"
   },
   {
    "duration": 649,
    "start_time": "2025-03-27T08:41:06.681Z"
   },
   {
    "duration": 541,
    "start_time": "2025-03-27T08:41:07.332Z"
   },
   {
    "duration": 109,
    "start_time": "2025-03-27T08:41:07.875Z"
   },
   {
    "duration": 4897,
    "start_time": "2025-03-27T08:41:07.985Z"
   },
   {
    "duration": 5,
    "start_time": "2025-03-27T08:41:12.883Z"
   },
   {
    "duration": 1802609,
    "start_time": "2025-03-27T08:41:12.889Z"
   },
   {
    "duration": 1455370,
    "start_time": "2025-03-27T09:11:15.503Z"
   },
   {
    "duration": 1070016,
    "start_time": "2025-03-27T09:35:30.874Z"
   },
   {
    "duration": 28386,
    "start_time": "2025-03-27T09:53:20.892Z"
   },
   {
    "duration": 8,
    "start_time": "2025-03-27T09:53:49.279Z"
   },
   {
    "duration": 19052,
    "start_time": "2025-03-27T09:53:49.288Z"
   },
   {
    "duration": 52,
    "start_time": "2025-03-27T09:54:08.341Z"
   },
   {
    "duration": 48068,
    "start_time": "2025-03-27T09:54:08.404Z"
   },
   {
    "duration": 1819,
    "start_time": "2025-03-27T09:54:56.474Z"
   },
   {
    "duration": 9,
    "start_time": "2025-03-27T09:54:58.295Z"
   },
   {
    "duration": 125,
    "start_time": "2025-03-27T09:54:58.307Z"
   },
   {
    "duration": 15,
    "start_time": "2025-03-27T09:54:58.436Z"
   },
   {
    "duration": 21,
    "start_time": "2025-03-27T09:54:58.452Z"
   },
   {
    "duration": 2442,
    "start_time": "2025-03-27T10:09:57.757Z"
   },
   {
    "duration": 3197,
    "start_time": "2025-03-27T10:10:00.201Z"
   },
   {
    "duration": 4,
    "start_time": "2025-03-27T10:10:03.400Z"
   },
   {
    "duration": 139,
    "start_time": "2025-03-27T10:10:03.406Z"
   },
   {
    "duration": 877,
    "start_time": "2025-03-27T10:10:03.548Z"
   },
   {
    "duration": 3,
    "start_time": "2025-03-27T10:10:04.426Z"
   },
   {
    "duration": 137,
    "start_time": "2025-03-27T10:10:04.430Z"
   },
   {
    "duration": 13,
    "start_time": "2025-03-27T10:10:04.569Z"
   },
   {
    "duration": 180,
    "start_time": "2025-03-27T10:10:04.584Z"
   },
   {
    "duration": 3,
    "start_time": "2025-03-27T10:10:04.765Z"
   },
   {
    "duration": 26,
    "start_time": "2025-03-27T10:10:04.769Z"
   },
   {
    "duration": 123776,
    "start_time": "2025-03-27T10:10:04.796Z"
   },
   {
    "duration": 71,
    "start_time": "2025-03-27T10:12:08.574Z"
   },
   {
    "duration": 35,
    "start_time": "2025-03-27T10:12:08.648Z"
   },
   {
    "duration": 81,
    "start_time": "2025-03-27T10:12:08.684Z"
   },
   {
    "duration": 5,
    "start_time": "2025-03-27T10:12:08.767Z"
   },
   {
    "duration": 5,
    "start_time": "2025-03-27T10:12:08.773Z"
   },
   {
    "duration": 20,
    "start_time": "2025-03-27T10:12:08.779Z"
   },
   {
    "duration": 4,
    "start_time": "2025-03-27T10:12:08.801Z"
   },
   {
    "duration": 4,
    "start_time": "2025-03-27T10:12:08.806Z"
   },
   {
    "duration": 3,
    "start_time": "2025-03-27T10:12:08.811Z"
   },
   {
    "duration": 3,
    "start_time": "2025-03-27T10:12:08.815Z"
   },
   {
    "duration": 63,
    "start_time": "2025-03-27T10:12:08.819Z"
   },
   {
    "duration": 26,
    "start_time": "2025-03-27T10:12:08.883Z"
   },
   {
    "duration": 689,
    "start_time": "2025-03-27T10:12:08.910Z"
   },
   {
    "duration": 540,
    "start_time": "2025-03-27T10:12:09.601Z"
   },
   {
    "duration": 7,
    "start_time": "2025-03-27T10:12:10.142Z"
   },
   {
    "duration": 4680,
    "start_time": "2025-03-27T10:12:10.150Z"
   },
   {
    "duration": 5,
    "start_time": "2025-03-27T10:12:14.831Z"
   },
   {
    "duration": 1402719,
    "start_time": "2025-03-27T10:12:14.837Z"
   },
   {
    "duration": 33283,
    "start_time": "2025-03-27T10:35:37.558Z"
   },
   {
    "duration": 10,
    "start_time": "2025-03-27T10:36:10.843Z"
   },
   {
    "duration": 23,
    "start_time": "2025-03-27T10:36:10.854Z"
   },
   {
    "duration": 19,
    "start_time": "2025-03-27T10:50:48.041Z"
   },
   {
    "duration": 8,
    "start_time": "2025-03-27T10:55:07.604Z"
   },
   {
    "duration": 8980,
    "start_time": "2025-03-27T10:55:10.324Z"
   },
   {
    "duration": 4,
    "start_time": "2025-03-27T10:55:22.053Z"
   },
   {
    "duration": 8,
    "start_time": "2025-03-27T10:55:53.300Z"
   },
   {
    "duration": 2342,
    "start_time": "2025-03-27T10:56:37.265Z"
   },
   {
    "duration": 3078,
    "start_time": "2025-03-27T10:56:39.609Z"
   },
   {
    "duration": 2,
    "start_time": "2025-03-27T10:56:42.688Z"
   },
   {
    "duration": 169,
    "start_time": "2025-03-27T10:56:42.692Z"
   },
   {
    "duration": 823,
    "start_time": "2025-03-27T10:56:42.862Z"
   },
   {
    "duration": 3,
    "start_time": "2025-03-27T10:56:43.686Z"
   },
   {
    "duration": 65,
    "start_time": "2025-03-27T10:56:43.690Z"
   },
   {
    "duration": 14,
    "start_time": "2025-03-27T10:56:43.756Z"
   },
   {
    "duration": 184,
    "start_time": "2025-03-27T10:56:43.772Z"
   },
   {
    "duration": 3,
    "start_time": "2025-03-27T10:56:43.958Z"
   },
   {
    "duration": 86,
    "start_time": "2025-03-27T10:56:43.962Z"
   },
   {
    "duration": 123180,
    "start_time": "2025-03-27T10:56:44.050Z"
   },
   {
    "duration": 59,
    "start_time": "2025-03-27T10:58:47.232Z"
   },
   {
    "duration": 33,
    "start_time": "2025-03-27T10:58:47.304Z"
   },
   {
    "duration": 81,
    "start_time": "2025-03-27T10:58:47.338Z"
   },
   {
    "duration": 4,
    "start_time": "2025-03-27T10:58:47.421Z"
   },
   {
    "duration": 20,
    "start_time": "2025-03-27T10:58:47.427Z"
   },
   {
    "duration": 17,
    "start_time": "2025-03-27T10:58:47.449Z"
   },
   {
    "duration": 40,
    "start_time": "2025-03-27T10:58:47.468Z"
   },
   {
    "duration": 5,
    "start_time": "2025-03-27T10:58:47.510Z"
   },
   {
    "duration": 9,
    "start_time": "2025-03-27T10:58:47.516Z"
   },
   {
    "duration": 9,
    "start_time": "2025-03-27T10:58:47.526Z"
   },
   {
    "duration": 197,
    "start_time": "2025-03-27T10:58:47.536Z"
   },
   {
    "duration": 0,
    "start_time": "2025-03-27T10:58:47.735Z"
   },
   {
    "duration": 0,
    "start_time": "2025-03-27T10:58:47.736Z"
   },
   {
    "duration": 0,
    "start_time": "2025-03-27T10:58:47.737Z"
   },
   {
    "duration": 0,
    "start_time": "2025-03-27T10:58:47.738Z"
   },
   {
    "duration": 0,
    "start_time": "2025-03-27T10:58:47.739Z"
   },
   {
    "duration": 0,
    "start_time": "2025-03-27T10:58:47.740Z"
   },
   {
    "duration": 0,
    "start_time": "2025-03-27T10:58:47.741Z"
   },
   {
    "duration": 0,
    "start_time": "2025-03-27T10:58:47.742Z"
   },
   {
    "duration": 0,
    "start_time": "2025-03-27T10:58:47.743Z"
   },
   {
    "duration": 1586,
    "start_time": "2025-03-27T10:59:22.689Z"
   },
   {
    "duration": 501,
    "start_time": "2025-03-27T10:59:26.096Z"
   },
   {
    "duration": 3,
    "start_time": "2025-03-27T10:59:29.536Z"
   },
   {
    "duration": 2354,
    "start_time": "2025-03-27T11:00:24.296Z"
   },
   {
    "duration": 4411,
    "start_time": "2025-03-27T11:00:26.652Z"
   },
   {
    "duration": 2,
    "start_time": "2025-03-27T11:00:31.065Z"
   },
   {
    "duration": 148,
    "start_time": "2025-03-27T11:00:31.069Z"
   },
   {
    "duration": 880,
    "start_time": "2025-03-27T11:00:31.219Z"
   },
   {
    "duration": 3,
    "start_time": "2025-03-27T11:00:32.100Z"
   },
   {
    "duration": 144,
    "start_time": "2025-03-27T11:00:32.104Z"
   },
   {
    "duration": 13,
    "start_time": "2025-03-27T11:00:32.249Z"
   },
   {
    "duration": 180,
    "start_time": "2025-03-27T11:00:32.264Z"
   },
   {
    "duration": 2,
    "start_time": "2025-03-27T11:00:32.446Z"
   },
   {
    "duration": 21,
    "start_time": "2025-03-27T11:00:32.450Z"
   },
   {
    "duration": 125034,
    "start_time": "2025-03-27T11:00:32.473Z"
   },
   {
    "duration": 68,
    "start_time": "2025-03-27T11:02:37.510Z"
   },
   {
    "duration": 62,
    "start_time": "2025-03-27T11:02:37.582Z"
   },
   {
    "duration": 80,
    "start_time": "2025-03-27T11:02:37.646Z"
   },
   {
    "duration": 5,
    "start_time": "2025-03-27T11:02:37.727Z"
   },
   {
    "duration": 21,
    "start_time": "2025-03-27T11:02:37.733Z"
   },
   {
    "duration": 29,
    "start_time": "2025-03-27T11:02:37.755Z"
   },
   {
    "duration": 31,
    "start_time": "2025-03-27T11:02:37.785Z"
   },
   {
    "duration": 7,
    "start_time": "2025-03-27T11:02:37.818Z"
   },
   {
    "duration": 7,
    "start_time": "2025-03-27T11:02:37.826Z"
   },
   {
    "duration": 5,
    "start_time": "2025-03-27T11:02:37.834Z"
   },
   {
    "duration": 1587,
    "start_time": "2025-03-27T11:02:37.840Z"
   },
   {
    "duration": 526,
    "start_time": "2025-03-27T11:02:39.428Z"
   },
   {
    "duration": 125,
    "start_time": "2025-03-27T11:02:39.956Z"
   },
   {
    "duration": 2446,
    "start_time": "2025-03-27T11:04:14.705Z"
   },
   {
    "duration": 4208,
    "start_time": "2025-03-27T11:04:17.153Z"
   },
   {
    "duration": 3,
    "start_time": "2025-03-27T11:04:21.362Z"
   },
   {
    "duration": 265,
    "start_time": "2025-03-27T11:04:21.367Z"
   },
   {
    "duration": 869,
    "start_time": "2025-03-27T11:04:21.634Z"
   },
   {
    "duration": 3,
    "start_time": "2025-03-27T11:04:22.505Z"
   },
   {
    "duration": 51,
    "start_time": "2025-03-27T11:04:22.509Z"
   },
   {
    "duration": 13,
    "start_time": "2025-03-27T11:04:22.561Z"
   },
   {
    "duration": 182,
    "start_time": "2025-03-27T11:04:22.576Z"
   },
   {
    "duration": 4,
    "start_time": "2025-03-27T11:04:22.761Z"
   },
   {
    "duration": 47,
    "start_time": "2025-03-27T11:04:22.767Z"
   },
   {
    "duration": 122710,
    "start_time": "2025-03-27T11:04:22.815Z"
   },
   {
    "duration": 60,
    "start_time": "2025-03-27T11:06:25.527Z"
   },
   {
    "duration": 34,
    "start_time": "2025-03-27T11:06:25.604Z"
   },
   {
    "duration": 79,
    "start_time": "2025-03-27T11:06:25.640Z"
   },
   {
    "duration": 6,
    "start_time": "2025-03-27T11:06:25.721Z"
   },
   {
    "duration": 4,
    "start_time": "2025-03-27T11:06:25.728Z"
   },
   {
    "duration": 7,
    "start_time": "2025-03-27T11:06:25.734Z"
   },
   {
    "duration": 5,
    "start_time": "2025-03-27T11:06:25.742Z"
   },
   {
    "duration": 10,
    "start_time": "2025-03-27T11:06:25.748Z"
   },
   {
    "duration": 13,
    "start_time": "2025-03-27T11:06:25.759Z"
   },
   {
    "duration": 4,
    "start_time": "2025-03-27T11:06:25.773Z"
   },
   {
    "duration": 1585,
    "start_time": "2025-03-27T11:06:25.778Z"
   },
   {
    "duration": 544,
    "start_time": "2025-03-27T11:06:27.365Z"
   },
   {
    "duration": 72,
    "start_time": "2025-03-27T11:06:27.911Z"
   },
   {
    "duration": 2403,
    "start_time": "2025-03-27T11:09:24.803Z"
   },
   {
    "duration": 4171,
    "start_time": "2025-03-27T11:09:27.209Z"
   },
   {
    "duration": 2,
    "start_time": "2025-03-27T11:09:31.382Z"
   },
   {
    "duration": 149,
    "start_time": "2025-03-27T11:09:31.386Z"
   },
   {
    "duration": 859,
    "start_time": "2025-03-27T11:09:31.536Z"
   },
   {
    "duration": 3,
    "start_time": "2025-03-27T11:09:32.396Z"
   },
   {
    "duration": 50,
    "start_time": "2025-03-27T11:09:32.400Z"
   },
   {
    "duration": 13,
    "start_time": "2025-03-27T11:09:32.451Z"
   },
   {
    "duration": 193,
    "start_time": "2025-03-27T11:09:32.465Z"
   },
   {
    "duration": 2,
    "start_time": "2025-03-27T11:09:32.661Z"
   },
   {
    "duration": 27,
    "start_time": "2025-03-27T11:09:32.664Z"
   },
   {
    "duration": 122825,
    "start_time": "2025-03-27T11:09:32.693Z"
   },
   {
    "duration": 60,
    "start_time": "2025-03-27T11:11:35.520Z"
   },
   {
    "duration": 51,
    "start_time": "2025-03-27T11:11:35.582Z"
   },
   {
    "duration": 77,
    "start_time": "2025-03-27T11:11:35.635Z"
   },
   {
    "duration": 6,
    "start_time": "2025-03-27T11:11:35.713Z"
   },
   {
    "duration": 31,
    "start_time": "2025-03-27T11:11:35.721Z"
   },
   {
    "duration": 30,
    "start_time": "2025-03-27T11:11:35.754Z"
   },
   {
    "duration": 19,
    "start_time": "2025-03-27T11:11:35.785Z"
   },
   {
    "duration": 13,
    "start_time": "2025-03-27T11:11:35.805Z"
   },
   {
    "duration": 3,
    "start_time": "2025-03-27T11:11:35.820Z"
   },
   {
    "duration": 11,
    "start_time": "2025-03-27T11:11:35.825Z"
   },
   {
    "duration": 224,
    "start_time": "2025-03-27T11:11:35.838Z"
   },
   {
    "duration": 0,
    "start_time": "2025-03-27T11:11:36.064Z"
   },
   {
    "duration": 0,
    "start_time": "2025-03-27T11:11:36.066Z"
   },
   {
    "duration": 0,
    "start_time": "2025-03-27T11:11:36.067Z"
   },
   {
    "duration": 0,
    "start_time": "2025-03-27T11:11:36.068Z"
   },
   {
    "duration": 0,
    "start_time": "2025-03-27T11:11:36.070Z"
   },
   {
    "duration": 0,
    "start_time": "2025-03-27T11:11:36.071Z"
   },
   {
    "duration": 0,
    "start_time": "2025-03-27T11:11:36.072Z"
   },
   {
    "duration": 0,
    "start_time": "2025-03-27T11:11:36.074Z"
   },
   {
    "duration": 0,
    "start_time": "2025-03-27T11:11:36.075Z"
   },
   {
    "duration": 0,
    "start_time": "2025-03-27T11:11:36.076Z"
   },
   {
    "duration": 0,
    "start_time": "2025-03-27T11:11:36.077Z"
   },
   {
    "duration": 64,
    "start_time": "2025-03-27T11:13:34.833Z"
   },
   {
    "duration": 71,
    "start_time": "2025-03-27T11:15:55.534Z"
   },
   {
    "duration": 62,
    "start_time": "2025-03-27T11:17:29.116Z"
   },
   {
    "duration": 6,
    "start_time": "2025-03-27T11:17:37.003Z"
   },
   {
    "duration": 336,
    "start_time": "2025-03-27T11:17:47.259Z"
   },
   {
    "duration": 535,
    "start_time": "2025-03-27T11:17:49.387Z"
   },
   {
    "duration": 3,
    "start_time": "2025-03-27T11:17:53.530Z"
   },
   {
    "duration": 5310,
    "start_time": "2025-03-27T11:17:57.130Z"
   },
   {
    "duration": 6,
    "start_time": "2025-03-27T11:18:10.988Z"
   },
   {
    "duration": 6,
    "start_time": "2025-03-27T11:18:13.595Z"
   },
   {
    "duration": 2304,
    "start_time": "2025-03-27T11:19:31.727Z"
   },
   {
    "duration": 3210,
    "start_time": "2025-03-27T11:19:34.033Z"
   },
   {
    "duration": 2,
    "start_time": "2025-03-27T11:19:37.245Z"
   },
   {
    "duration": 142,
    "start_time": "2025-03-27T11:19:37.248Z"
   },
   {
    "duration": 830,
    "start_time": "2025-03-27T11:19:37.392Z"
   },
   {
    "duration": 4,
    "start_time": "2025-03-27T11:19:38.225Z"
   },
   {
    "duration": 77,
    "start_time": "2025-03-27T11:19:38.230Z"
   },
   {
    "duration": 13,
    "start_time": "2025-03-27T11:19:38.308Z"
   },
   {
    "duration": 183,
    "start_time": "2025-03-27T11:19:38.322Z"
   },
   {
    "duration": 3,
    "start_time": "2025-03-27T11:19:38.506Z"
   },
   {
    "duration": 5,
    "start_time": "2025-03-27T11:19:38.510Z"
   },
   {
    "duration": 122018,
    "start_time": "2025-03-27T11:19:38.517Z"
   },
   {
    "duration": 67,
    "start_time": "2025-03-27T11:21:40.537Z"
   },
   {
    "duration": 34,
    "start_time": "2025-03-27T11:21:40.606Z"
   },
   {
    "duration": 79,
    "start_time": "2025-03-27T11:21:40.641Z"
   },
   {
    "duration": 5,
    "start_time": "2025-03-27T11:21:40.721Z"
   },
   {
    "duration": 2,
    "start_time": "2025-03-27T11:21:40.727Z"
   },
   {
    "duration": 5,
    "start_time": "2025-03-27T11:21:40.730Z"
   },
   {
    "duration": 3,
    "start_time": "2025-03-27T11:21:40.736Z"
   },
   {
    "duration": 6,
    "start_time": "2025-03-27T11:21:40.740Z"
   },
   {
    "duration": 4,
    "start_time": "2025-03-27T11:21:40.747Z"
   },
   {
    "duration": 12,
    "start_time": "2025-03-27T11:21:40.752Z"
   },
   {
    "duration": 69,
    "start_time": "2025-03-27T11:21:40.766Z"
   },
   {
    "duration": 6,
    "start_time": "2025-03-27T11:21:40.837Z"
   },
   {
    "duration": 407,
    "start_time": "2025-03-27T11:21:40.844Z"
   },
   {
    "duration": 540,
    "start_time": "2025-03-27T11:21:41.253Z"
   },
   {
    "duration": 4,
    "start_time": "2025-03-27T11:21:41.795Z"
   },
   {
    "duration": 5237,
    "start_time": "2025-03-27T11:21:41.803Z"
   },
   {
    "duration": 4,
    "start_time": "2025-03-27T11:21:47.042Z"
   },
   {
    "duration": 174,
    "start_time": "2025-03-27T11:21:47.047Z"
   },
   {
    "duration": 0,
    "start_time": "2025-03-27T11:21:47.222Z"
   },
   {
    "duration": 0,
    "start_time": "2025-03-27T11:21:47.224Z"
   },
   {
    "duration": 0,
    "start_time": "2025-03-27T11:21:47.225Z"
   },
   {
    "duration": 0,
    "start_time": "2025-03-27T11:21:47.226Z"
   },
   {
    "duration": 6,
    "start_time": "2025-03-27T11:29:28.047Z"
   },
   {
    "duration": 1040865,
    "start_time": "2025-03-27T11:29:31.469Z"
   },
   {
    "duration": 18,
    "start_time": "2025-03-27T12:01:25.524Z"
   },
   {
    "duration": 140,
    "start_time": "2025-03-27T12:02:56.819Z"
   },
   {
    "duration": 6039,
    "start_time": "2025-03-27T12:03:03.874Z"
   },
   {
    "duration": 9,
    "start_time": "2025-03-27T12:03:19.137Z"
   },
   {
    "duration": 16,
    "start_time": "2025-03-27T12:03:22.130Z"
   },
   {
    "duration": 2397,
    "start_time": "2025-03-27T12:04:02.182Z"
   },
   {
    "duration": 3083,
    "start_time": "2025-03-27T12:04:04.581Z"
   },
   {
    "duration": 2,
    "start_time": "2025-03-27T12:04:07.666Z"
   },
   {
    "duration": 291,
    "start_time": "2025-03-27T12:04:07.670Z"
   },
   {
    "duration": 821,
    "start_time": "2025-03-27T12:04:07.963Z"
   },
   {
    "duration": 2,
    "start_time": "2025-03-27T12:04:08.786Z"
   },
   {
    "duration": 49,
    "start_time": "2025-03-27T12:04:08.790Z"
   },
   {
    "duration": 13,
    "start_time": "2025-03-27T12:04:08.840Z"
   },
   {
    "duration": 205,
    "start_time": "2025-03-27T12:04:08.855Z"
   },
   {
    "duration": 3,
    "start_time": "2025-03-27T12:04:09.061Z"
   },
   {
    "duration": 135,
    "start_time": "2025-03-27T12:04:09.065Z"
   },
   {
    "duration": 127280,
    "start_time": "2025-03-27T12:04:09.202Z"
   },
   {
    "duration": 70,
    "start_time": "2025-03-27T12:06:16.484Z"
   },
   {
    "duration": 57,
    "start_time": "2025-03-27T12:06:16.557Z"
   },
   {
    "duration": 69,
    "start_time": "2025-03-27T12:06:16.617Z"
   },
   {
    "duration": 5,
    "start_time": "2025-03-27T12:06:16.687Z"
   },
   {
    "duration": 60,
    "start_time": "2025-03-27T12:06:16.693Z"
   },
   {
    "duration": 16,
    "start_time": "2025-03-27T12:06:16.754Z"
   },
   {
    "duration": 19,
    "start_time": "2025-03-27T12:06:16.771Z"
   },
   {
    "duration": 8,
    "start_time": "2025-03-27T12:06:16.792Z"
   },
   {
    "duration": 9,
    "start_time": "2025-03-27T12:06:16.802Z"
   },
   {
    "duration": 4,
    "start_time": "2025-03-27T12:06:16.813Z"
   },
   {
    "duration": 66,
    "start_time": "2025-03-27T12:06:16.819Z"
   },
   {
    "duration": 7,
    "start_time": "2025-03-27T12:06:16.886Z"
   },
   {
    "duration": 349,
    "start_time": "2025-03-27T12:06:16.895Z"
   },
   {
    "duration": 587,
    "start_time": "2025-03-27T12:06:17.246Z"
   },
   {
    "duration": 4,
    "start_time": "2025-03-27T12:06:17.835Z"
   },
   {
    "duration": 3435,
    "start_time": "2025-03-27T12:06:17.841Z"
   },
   {
    "duration": 5,
    "start_time": "2025-03-27T12:06:21.277Z"
   },
   {
    "duration": 39,
    "start_time": "2025-03-27T12:06:21.284Z"
   },
   {
    "duration": 270879,
    "start_time": "2025-03-27T12:06:21.325Z"
   },
   {
    "duration": 1301,
    "start_time": "2025-03-27T12:10:52.208Z"
   },
   {
    "duration": 94,
    "start_time": "2025-03-27T12:10:53.511Z"
   },
   {
    "duration": 107,
    "start_time": "2025-03-27T12:10:53.607Z"
   },
   {
    "duration": 1648,
    "start_time": "2025-03-27T12:14:09.957Z"
   },
   {
    "duration": 6,
    "start_time": "2025-03-27T12:14:16.900Z"
   },
   {
    "duration": 14,
    "start_time": "2025-03-27T12:14:22.261Z"
   },
   {
    "duration": 55,
    "start_time": "2025-03-27T12:15:30.115Z"
   },
   {
    "duration": 9,
    "start_time": "2025-03-27T12:15:31.731Z"
   },
   {
    "duration": 2331,
    "start_time": "2025-03-27T12:15:50.401Z"
   },
   {
    "duration": 2717,
    "start_time": "2025-03-27T12:15:52.734Z"
   },
   {
    "duration": 3,
    "start_time": "2025-03-27T12:15:55.452Z"
   },
   {
    "duration": 158,
    "start_time": "2025-03-27T12:15:55.456Z"
   },
   {
    "duration": 813,
    "start_time": "2025-03-27T12:15:55.616Z"
   },
   {
    "duration": 2,
    "start_time": "2025-03-27T12:15:56.431Z"
   },
   {
    "duration": 172,
    "start_time": "2025-03-27T12:15:56.435Z"
   },
   {
    "duration": 13,
    "start_time": "2025-03-27T12:15:56.609Z"
   },
   {
    "duration": 171,
    "start_time": "2025-03-27T12:15:56.623Z"
   },
   {
    "duration": 3,
    "start_time": "2025-03-27T12:15:56.804Z"
   },
   {
    "duration": 4,
    "start_time": "2025-03-27T12:15:56.808Z"
   },
   {
    "duration": 121895,
    "start_time": "2025-03-27T12:15:56.813Z"
   },
   {
    "duration": 55,
    "start_time": "2025-03-27T12:17:58.709Z"
   },
   {
    "duration": 51,
    "start_time": "2025-03-27T12:17:58.767Z"
   },
   {
    "duration": 66,
    "start_time": "2025-03-27T12:17:58.820Z"
   },
   {
    "duration": 17,
    "start_time": "2025-03-27T12:17:58.887Z"
   },
   {
    "duration": 2,
    "start_time": "2025-03-27T12:17:58.905Z"
   },
   {
    "duration": 17,
    "start_time": "2025-03-27T12:17:58.909Z"
   },
   {
    "duration": 8,
    "start_time": "2025-03-27T12:17:58.927Z"
   },
   {
    "duration": 12,
    "start_time": "2025-03-27T12:17:58.936Z"
   },
   {
    "duration": 13,
    "start_time": "2025-03-27T12:17:58.949Z"
   },
   {
    "duration": 13,
    "start_time": "2025-03-27T12:17:58.963Z"
   },
   {
    "duration": 69,
    "start_time": "2025-03-27T12:17:58.978Z"
   },
   {
    "duration": 8,
    "start_time": "2025-03-27T12:17:59.048Z"
   },
   {
    "duration": 602,
    "start_time": "2025-03-27T12:17:59.058Z"
   },
   {
    "duration": 545,
    "start_time": "2025-03-27T12:17:59.662Z"
   },
   {
    "duration": 46,
    "start_time": "2025-03-27T12:18:00.209Z"
   },
   {
    "duration": 4387,
    "start_time": "2025-03-27T12:18:00.256Z"
   },
   {
    "duration": 5,
    "start_time": "2025-03-27T12:18:04.645Z"
   },
   {
    "duration": 38,
    "start_time": "2025-03-27T12:18:04.651Z"
   },
   {
    "duration": 563954,
    "start_time": "2025-03-27T12:18:04.691Z"
   },
   {
    "duration": 3662,
    "start_time": "2025-03-27T12:27:28.647Z"
   },
   {
    "duration": 7,
    "start_time": "2025-03-27T12:27:32.311Z"
   },
   {
    "duration": 101,
    "start_time": "2025-03-27T12:27:32.320Z"
   },
   {
    "duration": 25645,
    "start_time": "2025-03-27T12:28:42.547Z"
   },
   {
    "duration": 25489,
    "start_time": "2025-03-27T12:34:39.517Z"
   },
   {
    "duration": 8,
    "start_time": "2025-03-27T12:35:21.356Z"
   },
   {
    "duration": 17,
    "start_time": "2025-03-27T12:35:25.228Z"
   },
   {
    "duration": 59,
    "start_time": "2025-03-27T12:36:03.307Z"
   },
   {
    "duration": 10,
    "start_time": "2025-03-27T12:36:06.091Z"
   },
   {
    "duration": 51,
    "start_time": "2025-03-27T12:36:14.781Z"
   },
   {
    "duration": 9,
    "start_time": "2025-03-27T12:36:17.019Z"
   },
   {
    "duration": 51,
    "start_time": "2025-03-27T12:36:23.546Z"
   },
   {
    "duration": 9,
    "start_time": "2025-03-27T12:36:26.395Z"
   },
   {
    "duration": 52,
    "start_time": "2025-03-27T12:36:43.386Z"
   },
   {
    "duration": 2323,
    "start_time": "2025-03-27T12:38:57.613Z"
   },
   {
    "duration": 2749,
    "start_time": "2025-03-27T12:38:59.938Z"
   },
   {
    "duration": 3,
    "start_time": "2025-03-27T12:39:02.688Z"
   },
   {
    "duration": 129,
    "start_time": "2025-03-27T12:39:02.693Z"
   },
   {
    "duration": 840,
    "start_time": "2025-03-27T12:39:02.825Z"
   },
   {
    "duration": 3,
    "start_time": "2025-03-27T12:39:03.667Z"
   },
   {
    "duration": 49,
    "start_time": "2025-03-27T12:39:03.671Z"
   },
   {
    "duration": 43,
    "start_time": "2025-03-27T12:39:03.721Z"
   },
   {
    "duration": 270,
    "start_time": "2025-03-27T12:39:03.765Z"
   },
   {
    "duration": 3,
    "start_time": "2025-03-27T12:39:04.036Z"
   },
   {
    "duration": 15,
    "start_time": "2025-03-27T12:39:04.040Z"
   },
   {
    "duration": 122822,
    "start_time": "2025-03-27T12:39:04.057Z"
   },
   {
    "duration": 66,
    "start_time": "2025-03-27T12:41:06.880Z"
   },
   {
    "duration": 34,
    "start_time": "2025-03-27T12:41:06.948Z"
   },
   {
    "duration": 78,
    "start_time": "2025-03-27T12:41:06.984Z"
   },
   {
    "duration": 5,
    "start_time": "2025-03-27T12:41:07.063Z"
   },
   {
    "duration": 31,
    "start_time": "2025-03-27T12:41:07.069Z"
   },
   {
    "duration": 17,
    "start_time": "2025-03-27T12:41:07.102Z"
   },
   {
    "duration": 28,
    "start_time": "2025-03-27T12:41:07.121Z"
   },
   {
    "duration": 19,
    "start_time": "2025-03-27T12:41:07.151Z"
   },
   {
    "duration": 23,
    "start_time": "2025-03-27T12:41:07.171Z"
   },
   {
    "duration": 9,
    "start_time": "2025-03-27T12:41:07.195Z"
   },
   {
    "duration": 55,
    "start_time": "2025-03-27T12:41:07.206Z"
   },
   {
    "duration": 9,
    "start_time": "2025-03-27T12:41:07.263Z"
   },
   {
    "duration": 656,
    "start_time": "2025-03-27T12:41:07.273Z"
   },
   {
    "duration": 549,
    "start_time": "2025-03-27T12:41:07.931Z"
   },
   {
    "duration": 47,
    "start_time": "2025-03-27T12:41:08.482Z"
   },
   {
    "duration": 4306,
    "start_time": "2025-03-27T12:41:08.531Z"
   },
   {
    "duration": 6,
    "start_time": "2025-03-27T12:41:12.838Z"
   },
   {
    "duration": 9,
    "start_time": "2025-03-27T12:41:12.846Z"
   },
   {
    "duration": 2408285,
    "start_time": "2025-03-27T12:41:12.856Z"
   },
   {
    "duration": 25343,
    "start_time": "2025-03-27T13:21:21.142Z"
   },
   {
    "duration": 18,
    "start_time": "2025-03-27T13:21:46.487Z"
   },
   {
    "duration": 45,
    "start_time": "2025-03-27T13:21:46.506Z"
   },
   {
    "duration": 200,
    "start_time": "2025-03-27T13:37:58.019Z"
   },
   {
    "duration": 22754,
    "start_time": "2025-03-27T13:38:55.651Z"
   },
   {
    "duration": 11,
    "start_time": "2025-03-27T13:45:37.258Z"
   },
   {
    "duration": 4,
    "start_time": "2025-03-27T13:45:45.035Z"
   },
   {
    "duration": 727969,
    "start_time": "2025-03-27T14:43:12.605Z"
   },
   {
    "duration": 734,
    "start_time": "2025-03-27T15:01:05.441Z"
   },
   {
    "duration": 13,
    "start_time": "2025-03-27T15:01:08.305Z"
   },
   {
    "duration": 32,
    "start_time": "2025-03-27T15:01:11.888Z"
   },
   {
    "duration": 60232,
    "start_time": "2025-03-27T15:01:24.545Z"
   },
   {
    "duration": 12,
    "start_time": "2025-03-27T15:05:42.828Z"
   },
   {
    "duration": 18,
    "start_time": "2025-03-27T15:05:45.918Z"
   },
   {
    "duration": 2672,
    "start_time": "2025-03-27T15:06:58.585Z"
   },
   {
    "duration": 3384,
    "start_time": "2025-03-27T15:07:01.261Z"
   },
   {
    "duration": 3,
    "start_time": "2025-03-27T15:07:04.646Z"
   },
   {
    "duration": 1393,
    "start_time": "2025-03-27T15:07:04.651Z"
   },
   {
    "duration": 1001,
    "start_time": "2025-03-27T15:07:06.047Z"
   },
   {
    "duration": 2,
    "start_time": "2025-03-27T15:07:07.051Z"
   },
   {
    "duration": 276,
    "start_time": "2025-03-27T15:07:07.055Z"
   },
   {
    "duration": 14,
    "start_time": "2025-03-27T15:07:07.333Z"
   },
   {
    "duration": 241,
    "start_time": "2025-03-27T15:07:07.349Z"
   },
   {
    "duration": 3,
    "start_time": "2025-03-27T15:07:07.593Z"
   },
   {
    "duration": 9,
    "start_time": "2025-03-27T15:07:07.610Z"
   },
   {
    "duration": 149866,
    "start_time": "2025-03-27T15:07:07.628Z"
   },
   {
    "duration": 70,
    "start_time": "2025-03-27T15:09:37.504Z"
   },
   {
    "duration": 56,
    "start_time": "2025-03-27T15:09:37.577Z"
   },
   {
    "duration": 93,
    "start_time": "2025-03-27T15:09:37.635Z"
   },
   {
    "duration": 4,
    "start_time": "2025-03-27T15:09:37.730Z"
   },
   {
    "duration": 29,
    "start_time": "2025-03-27T15:09:37.736Z"
   },
   {
    "duration": 13,
    "start_time": "2025-03-27T15:09:37.767Z"
   },
   {
    "duration": 9,
    "start_time": "2025-03-27T15:09:37.782Z"
   },
   {
    "duration": 45,
    "start_time": "2025-03-27T15:09:37.793Z"
   },
   {
    "duration": 14,
    "start_time": "2025-03-27T15:09:37.840Z"
   },
   {
    "duration": 16,
    "start_time": "2025-03-27T15:09:37.856Z"
   },
   {
    "duration": 95,
    "start_time": "2025-03-27T15:09:37.874Z"
   },
   {
    "duration": 9,
    "start_time": "2025-03-27T15:09:37.971Z"
   },
   {
    "duration": 674,
    "start_time": "2025-03-27T15:09:37.981Z"
   },
   {
    "duration": 589,
    "start_time": "2025-03-27T15:09:38.657Z"
   },
   {
    "duration": 4,
    "start_time": "2025-03-27T15:09:39.247Z"
   },
   {
    "duration": 5163,
    "start_time": "2025-03-27T15:09:39.253Z"
   },
   {
    "duration": 5,
    "start_time": "2025-03-27T15:09:44.418Z"
   },
   {
    "duration": 23,
    "start_time": "2025-03-27T15:09:44.424Z"
   },
   {
    "duration": 9,
    "start_time": "2025-03-27T15:09:44.450Z"
   },
   {
    "duration": 7,
    "start_time": "2025-03-27T15:09:44.462Z"
   },
   {
    "duration": 1710275,
    "start_time": "2025-03-27T15:09:44.471Z"
   },
   {
    "duration": 61691,
    "start_time": "2025-03-27T15:38:14.747Z"
   },
   {
    "duration": 9,
    "start_time": "2025-03-27T15:39:16.439Z"
   },
   {
    "duration": 33,
    "start_time": "2025-03-27T15:39:16.449Z"
   },
   {
    "duration": 635,
    "start_time": "2025-03-27T15:51:35.077Z"
   },
   {
    "duration": 10,
    "start_time": "2025-03-27T15:51:37.444Z"
   },
   {
    "duration": 16,
    "start_time": "2025-03-27T15:51:41.252Z"
   },
   {
    "duration": 4,
    "start_time": "2025-03-27T15:55:41.199Z"
   },
   {
    "duration": 4,
    "start_time": "2025-03-27T15:56:34.495Z"
   },
   {
    "duration": 3,
    "start_time": "2025-03-27T15:58:29.998Z"
   },
   {
    "duration": 8,
    "start_time": "2025-03-27T16:01:43.113Z"
   },
   {
    "duration": 9,
    "start_time": "2025-03-27T16:07:40.706Z"
   },
   {
    "duration": 7310,
    "start_time": "2025-03-27T16:07:42.994Z"
   },
   {
    "duration": 5,
    "start_time": "2025-03-27T16:08:00.721Z"
   },
   {
    "duration": 16,
    "start_time": "2025-03-27T16:11:03.311Z"
   },
   {
    "duration": 282,
    "start_time": "2025-03-27T16:11:05.695Z"
   },
   {
    "duration": 7178,
    "start_time": "2025-03-27T16:11:08.478Z"
   },
   {
    "duration": 6,
    "start_time": "2025-03-27T16:11:19.390Z"
   },
   {
    "duration": 181,
    "start_time": "2025-03-27T16:11:28.510Z"
   },
   {
    "duration": 17,
    "start_time": "2025-03-27T16:11:36.254Z"
   },
   {
    "duration": 52,
    "start_time": "2025-03-27T16:12:09.551Z"
   },
   {
    "duration": 11,
    "start_time": "2025-03-27T16:12:12.212Z"
   },
   {
    "duration": 3,
    "start_time": "2025-03-27T16:12:24.877Z"
   },
   {
    "duration": 4,
    "start_time": "2025-03-27T16:12:27.372Z"
   },
   {
    "duration": 2657,
    "start_time": "2025-03-27T16:16:05.622Z"
   },
   {
    "duration": 3357,
    "start_time": "2025-03-27T16:16:08.282Z"
   },
   {
    "duration": 4,
    "start_time": "2025-03-27T16:16:11.642Z"
   },
   {
    "duration": 218,
    "start_time": "2025-03-27T16:16:11.648Z"
   },
   {
    "duration": 970,
    "start_time": "2025-03-27T16:16:11.868Z"
   },
   {
    "duration": 3,
    "start_time": "2025-03-27T16:16:12.840Z"
   },
   {
    "duration": 60,
    "start_time": "2025-03-27T16:16:12.845Z"
   },
   {
    "duration": 14,
    "start_time": "2025-03-27T16:16:12.907Z"
   },
   {
    "duration": 228,
    "start_time": "2025-03-27T16:16:12.923Z"
   },
   {
    "duration": 3,
    "start_time": "2025-03-27T16:16:13.153Z"
   },
   {
    "duration": 63,
    "start_time": "2025-03-27T16:16:13.157Z"
   },
   {
    "duration": 144597,
    "start_time": "2025-03-27T16:16:13.222Z"
   },
   {
    "duration": 64,
    "start_time": "2025-03-27T16:18:37.821Z"
   },
   {
    "duration": 41,
    "start_time": "2025-03-27T16:18:37.903Z"
   },
   {
    "duration": 96,
    "start_time": "2025-03-27T16:18:37.946Z"
   },
   {
    "duration": 8,
    "start_time": "2025-03-27T16:18:38.044Z"
   },
   {
    "duration": 15,
    "start_time": "2025-03-27T16:18:38.053Z"
   },
   {
    "duration": 290,
    "start_time": "2025-03-27T16:18:38.069Z"
   },
   {
    "duration": 7450,
    "start_time": "2025-03-27T16:18:38.361Z"
   },
   {
    "duration": 3,
    "start_time": "2025-03-27T16:18:45.813Z"
   },
   {
    "duration": 11,
    "start_time": "2025-03-27T16:18:45.817Z"
   },
   {
    "duration": 18,
    "start_time": "2025-03-27T16:18:45.830Z"
   },
   {
    "duration": 6,
    "start_time": "2025-03-27T16:18:45.850Z"
   },
   {
    "duration": 18,
    "start_time": "2025-03-27T16:18:45.858Z"
   },
   {
    "duration": 6,
    "start_time": "2025-03-27T16:18:45.877Z"
   },
   {
    "duration": 20,
    "start_time": "2025-03-27T16:18:45.885Z"
   },
   {
    "duration": 3,
    "start_time": "2025-03-27T16:18:45.907Z"
   },
   {
    "duration": 6,
    "start_time": "2025-03-27T16:18:45.912Z"
   },
   {
    "duration": 3,
    "start_time": "2025-03-27T16:18:45.920Z"
   },
   {
    "duration": 9,
    "start_time": "2025-03-27T16:18:45.925Z"
   },
   {
    "duration": 69,
    "start_time": "2025-03-27T16:18:45.935Z"
   },
   {
    "duration": 10,
    "start_time": "2025-03-27T16:18:46.005Z"
   },
   {
    "duration": 14,
    "start_time": "2025-03-27T16:18:46.017Z"
   },
   {
    "duration": 14,
    "start_time": "2025-03-27T16:18:46.033Z"
   },
   {
    "duration": 2535,
    "start_time": "2025-03-27T16:18:46.049Z"
   },
   {
    "duration": 102,
    "start_time": "2025-03-27T16:18:48.586Z"
   },
   {
    "duration": 94,
    "start_time": "2025-03-27T16:18:48.691Z"
   },
   {
    "duration": 17,
    "start_time": "2025-03-27T16:18:48.787Z"
   },
   {
    "duration": 42,
    "start_time": "2025-03-27T16:58:09.642Z"
   },
   {
    "duration": 59,
    "start_time": "2025-03-27T16:58:21.096Z"
   },
   {
    "duration": 49,
    "start_time": "2025-03-27T16:58:38.296Z"
   },
   {
    "duration": 13,
    "start_time": "2025-03-27T17:02:18.565Z"
   },
   {
    "duration": 5,
    "start_time": "2025-03-27T17:02:44.645Z"
   },
   {
    "duration": 14,
    "start_time": "2025-03-27T17:08:27.518Z"
   },
   {
    "duration": 75,
    "start_time": "2025-03-27T17:09:15.710Z"
   },
   {
    "duration": 1097,
    "start_time": "2025-03-27T17:09:36.718Z"
   },
   {
    "duration": 4,
    "start_time": "2025-03-27T17:10:02.820Z"
   },
   {
    "duration": 3,
    "start_time": "2025-03-27T17:10:04.779Z"
   },
   {
    "duration": 1047,
    "start_time": "2025-03-27T17:11:09.083Z"
   },
   {
    "duration": 4,
    "start_time": "2025-03-27T17:11:13.004Z"
   },
   {
    "duration": 4,
    "start_time": "2025-03-27T17:11:13.866Z"
   },
   {
    "duration": 15,
    "start_time": "2025-03-27T17:12:35.465Z"
   },
   {
    "duration": 5,
    "start_time": "2025-03-27T17:12:41.641Z"
   },
   {
    "duration": 12,
    "start_time": "2025-03-27T17:12:49.210Z"
   },
   {
    "duration": 142,
    "start_time": "2025-03-27T17:12:51.675Z"
   },
   {
    "duration": 135,
    "start_time": "2025-03-27T17:13:00.105Z"
   },
   {
    "duration": 8,
    "start_time": "2025-03-27T17:13:44.425Z"
   },
   {
    "duration": 2816,
    "start_time": "2025-03-27T17:45:06.230Z"
   },
   {
    "duration": 3476,
    "start_time": "2025-03-27T17:45:09.049Z"
   },
   {
    "duration": 3,
    "start_time": "2025-03-27T17:45:12.526Z"
   },
   {
    "duration": 217,
    "start_time": "2025-03-27T17:45:12.532Z"
   },
   {
    "duration": 1032,
    "start_time": "2025-03-27T17:45:12.751Z"
   },
   {
    "duration": 2,
    "start_time": "2025-03-27T17:45:13.785Z"
   },
   {
    "duration": 66,
    "start_time": "2025-03-27T17:45:13.789Z"
   },
   {
    "duration": 104,
    "start_time": "2025-03-27T17:45:13.857Z"
   },
   {
    "duration": 222,
    "start_time": "2025-03-27T17:45:13.962Z"
   },
   {
    "duration": 3,
    "start_time": "2025-03-27T17:45:14.186Z"
   },
   {
    "duration": 16,
    "start_time": "2025-03-27T17:45:14.191Z"
   },
   {
    "duration": 156491,
    "start_time": "2025-03-27T17:45:14.209Z"
   },
   {
    "duration": 81,
    "start_time": "2025-03-27T17:47:50.705Z"
   },
   {
    "duration": 50,
    "start_time": "2025-03-27T17:47:50.787Z"
   },
   {
    "duration": 152,
    "start_time": "2025-03-27T17:47:50.839Z"
   },
   {
    "duration": 7,
    "start_time": "2025-03-27T17:47:50.993Z"
   },
   {
    "duration": 11,
    "start_time": "2025-03-27T17:47:51.002Z"
   },
   {
    "duration": 302,
    "start_time": "2025-03-27T17:47:51.016Z"
   },
   {
    "duration": 8949,
    "start_time": "2025-03-27T17:47:51.323Z"
   },
   {
    "duration": 3,
    "start_time": "2025-03-27T17:48:00.274Z"
   },
   {
    "duration": 20,
    "start_time": "2025-03-27T17:48:00.278Z"
   },
   {
    "duration": 26,
    "start_time": "2025-03-27T17:48:00.300Z"
   },
   {
    "duration": 21,
    "start_time": "2025-03-27T17:48:00.329Z"
   },
   {
    "duration": 77,
    "start_time": "2025-03-27T17:48:00.352Z"
   },
   {
    "duration": 5,
    "start_time": "2025-03-27T17:48:00.431Z"
   },
   {
    "duration": 15,
    "start_time": "2025-03-27T17:48:00.437Z"
   },
   {
    "duration": 29,
    "start_time": "2025-03-27T17:48:00.454Z"
   },
   {
    "duration": 30,
    "start_time": "2025-03-27T17:48:00.487Z"
   },
   {
    "duration": 14,
    "start_time": "2025-03-27T17:48:00.519Z"
   },
   {
    "duration": 9,
    "start_time": "2025-03-27T17:48:00.535Z"
   },
   {
    "duration": 1264,
    "start_time": "2025-03-27T17:48:00.546Z"
   },
   {
    "duration": 13,
    "start_time": "2025-03-27T17:48:01.819Z"
   },
   {
    "duration": 155,
    "start_time": "2025-03-27T17:48:01.833Z"
   },
   {
    "duration": 33,
    "start_time": "2025-03-27T17:48:01.990Z"
   },
   {
    "duration": 14,
    "start_time": "2025-03-27T17:48:02.026Z"
   },
   {
    "duration": 37,
    "start_time": "2025-03-27T17:48:02.042Z"
   },
   {
    "duration": 345,
    "start_time": "2025-03-27T17:48:02.081Z"
   },
   {
    "duration": 106,
    "start_time": "2025-03-27T17:48:02.428Z"
   },
   {
    "duration": 101,
    "start_time": "2025-03-27T17:48:02.536Z"
   },
   {
    "duration": 16,
    "start_time": "2025-03-27T17:48:02.639Z"
   },
   {
    "duration": 2696,
    "start_time": "2025-03-27T17:51:11.601Z"
   },
   {
    "duration": 3261,
    "start_time": "2025-03-27T17:51:14.300Z"
   },
   {
    "duration": 3,
    "start_time": "2025-03-27T17:51:17.564Z"
   },
   {
    "duration": 141,
    "start_time": "2025-03-27T17:51:17.568Z"
   },
   {
    "duration": 1001,
    "start_time": "2025-03-27T17:51:17.712Z"
   },
   {
    "duration": 4,
    "start_time": "2025-03-27T17:51:18.715Z"
   },
   {
    "duration": 83,
    "start_time": "2025-03-27T17:51:18.721Z"
   },
   {
    "duration": 15,
    "start_time": "2025-03-27T17:51:18.806Z"
   },
   {
    "duration": 295,
    "start_time": "2025-03-27T17:51:18.824Z"
   },
   {
    "duration": 3,
    "start_time": "2025-03-27T17:51:19.121Z"
   },
   {
    "duration": 4,
    "start_time": "2025-03-27T17:51:19.127Z"
   },
   {
    "duration": 144932,
    "start_time": "2025-03-27T17:51:19.132Z"
   },
   {
    "duration": 79,
    "start_time": "2025-03-27T17:53:44.066Z"
   },
   {
    "duration": 38,
    "start_time": "2025-03-27T17:53:44.148Z"
   },
   {
    "duration": 95,
    "start_time": "2025-03-27T17:53:44.188Z"
   },
   {
    "duration": 19,
    "start_time": "2025-03-27T17:53:44.284Z"
   },
   {
    "duration": 4,
    "start_time": "2025-03-27T17:53:44.306Z"
   },
   {
    "duration": 281,
    "start_time": "2025-03-27T17:53:44.312Z"
   },
   {
    "duration": 7529,
    "start_time": "2025-03-27T17:53:44.595Z"
   },
   {
    "duration": 3,
    "start_time": "2025-03-27T17:53:52.126Z"
   },
   {
    "duration": 19,
    "start_time": "2025-03-27T17:53:52.131Z"
   },
   {
    "duration": 8,
    "start_time": "2025-03-27T17:53:52.151Z"
   },
   {
    "duration": 39,
    "start_time": "2025-03-27T17:53:52.161Z"
   },
   {
    "duration": 21,
    "start_time": "2025-03-27T17:53:52.202Z"
   },
   {
    "duration": 12,
    "start_time": "2025-03-27T17:53:52.225Z"
   },
   {
    "duration": 15,
    "start_time": "2025-03-27T17:53:52.239Z"
   },
   {
    "duration": 7,
    "start_time": "2025-03-27T17:53:52.255Z"
   },
   {
    "duration": 12,
    "start_time": "2025-03-27T17:53:52.264Z"
   },
   {
    "duration": 14,
    "start_time": "2025-03-27T17:53:52.277Z"
   },
   {
    "duration": 39,
    "start_time": "2025-03-27T17:53:52.293Z"
   },
   {
    "duration": 1160,
    "start_time": "2025-03-27T17:53:52.333Z"
   },
   {
    "duration": 9,
    "start_time": "2025-03-27T17:53:53.495Z"
   },
   {
    "duration": 7,
    "start_time": "2025-03-27T17:53:53.506Z"
   },
   {
    "duration": 17,
    "start_time": "2025-03-27T17:53:53.515Z"
   },
   {
    "duration": 13,
    "start_time": "2025-03-27T17:53:53.534Z"
   },
   {
    "duration": 4,
    "start_time": "2025-03-27T17:53:53.549Z"
   },
   {
    "duration": 425572,
    "start_time": "2025-03-27T17:53:53.555Z"
   },
   {
    "duration": 268,
    "start_time": "2025-03-27T18:00:59.129Z"
   },
   {
    "duration": 91,
    "start_time": "2025-03-27T18:00:59.398Z"
   },
   {
    "duration": 15,
    "start_time": "2025-03-27T18:00:59.491Z"
   },
   {
    "duration": 32726,
    "start_time": "2025-03-27T18:26:46.808Z"
   },
   {
    "duration": 18,
    "start_time": "2025-03-27T18:27:21.860Z"
   },
   {
    "duration": 18,
    "start_time": "2025-03-27T18:27:25.636Z"
   },
   {
    "duration": 2426,
    "start_time": "2025-03-28T12:49:13.039Z"
   },
   {
    "duration": 2857,
    "start_time": "2025-03-28T12:49:15.467Z"
   },
   {
    "duration": 2,
    "start_time": "2025-03-28T12:49:18.326Z"
   },
   {
    "duration": 267,
    "start_time": "2025-03-28T12:49:18.329Z"
   },
   {
    "duration": 1173,
    "start_time": "2025-03-28T12:49:18.599Z"
   },
   {
    "duration": 3,
    "start_time": "2025-03-28T12:49:19.773Z"
   },
   {
    "duration": 50,
    "start_time": "2025-03-28T12:49:19.778Z"
   },
   {
    "duration": 15,
    "start_time": "2025-03-28T12:49:19.830Z"
   },
   {
    "duration": 206,
    "start_time": "2025-03-28T12:49:19.846Z"
   },
   {
    "duration": 2,
    "start_time": "2025-03-28T12:49:20.058Z"
   },
   {
    "duration": 43,
    "start_time": "2025-03-28T12:49:20.062Z"
   },
   {
    "duration": 133907,
    "start_time": "2025-03-28T12:49:20.106Z"
   },
   {
    "duration": 74,
    "start_time": "2025-03-28T12:51:34.014Z"
   },
   {
    "duration": 32,
    "start_time": "2025-03-28T12:51:34.090Z"
   },
   {
    "duration": 71,
    "start_time": "2025-03-28T12:51:34.124Z"
   },
   {
    "duration": 7,
    "start_time": "2025-03-28T12:51:34.196Z"
   },
   {
    "duration": 17,
    "start_time": "2025-03-28T12:51:34.204Z"
   },
   {
    "duration": 3,
    "start_time": "2025-03-28T12:51:34.222Z"
   },
   {
    "duration": 6950,
    "start_time": "2025-03-28T12:51:34.226Z"
   },
   {
    "duration": 4,
    "start_time": "2025-03-28T12:51:41.178Z"
   },
   {
    "duration": 27,
    "start_time": "2025-03-28T12:51:41.183Z"
   },
   {
    "duration": 192,
    "start_time": "2025-03-28T12:51:41.212Z"
   },
   {
    "duration": 0,
    "start_time": "2025-03-28T12:51:41.405Z"
   },
   {
    "duration": 0,
    "start_time": "2025-03-28T12:51:41.406Z"
   },
   {
    "duration": 0,
    "start_time": "2025-03-28T12:51:41.408Z"
   },
   {
    "duration": 0,
    "start_time": "2025-03-28T12:51:41.408Z"
   },
   {
    "duration": 0,
    "start_time": "2025-03-28T12:51:41.410Z"
   },
   {
    "duration": 0,
    "start_time": "2025-03-28T12:51:41.411Z"
   },
   {
    "duration": 0,
    "start_time": "2025-03-28T12:51:41.412Z"
   },
   {
    "duration": 0,
    "start_time": "2025-03-28T12:51:41.413Z"
   },
   {
    "duration": 4,
    "start_time": "2025-03-28T12:52:20.432Z"
   },
   {
    "duration": 2438,
    "start_time": "2025-03-28T13:12:34.923Z"
   },
   {
    "duration": 3897,
    "start_time": "2025-03-28T13:12:37.363Z"
   },
   {
    "duration": 2,
    "start_time": "2025-03-28T13:12:41.262Z"
   },
   {
    "duration": 137,
    "start_time": "2025-03-28T13:12:41.266Z"
   },
   {
    "duration": 998,
    "start_time": "2025-03-28T13:12:41.405Z"
   },
   {
    "duration": 3,
    "start_time": "2025-03-28T13:12:42.405Z"
   },
   {
    "duration": 66,
    "start_time": "2025-03-28T13:12:42.410Z"
   },
   {
    "duration": 14,
    "start_time": "2025-03-28T13:12:42.478Z"
   },
   {
    "duration": 199,
    "start_time": "2025-03-28T13:12:42.493Z"
   },
   {
    "duration": 2,
    "start_time": "2025-03-28T13:12:42.694Z"
   },
   {
    "duration": 36,
    "start_time": "2025-03-28T13:12:42.698Z"
   },
   {
    "duration": 133220,
    "start_time": "2025-03-28T13:12:42.735Z"
   },
   {
    "duration": 61,
    "start_time": "2025-03-28T13:14:55.958Z"
   },
   {
    "duration": 50,
    "start_time": "2025-03-28T13:14:56.022Z"
   },
   {
    "duration": 58,
    "start_time": "2025-03-28T13:14:56.074Z"
   },
   {
    "duration": 6,
    "start_time": "2025-03-28T13:14:56.134Z"
   },
   {
    "duration": 2,
    "start_time": "2025-03-28T13:14:56.158Z"
   },
   {
    "duration": 4,
    "start_time": "2025-03-28T13:14:56.161Z"
   },
   {
    "duration": 6899,
    "start_time": "2025-03-28T13:14:56.167Z"
   },
   {
    "duration": 5,
    "start_time": "2025-03-28T13:15:03.067Z"
   },
   {
    "duration": 27,
    "start_time": "2025-03-28T13:15:03.073Z"
   },
   {
    "duration": 542480,
    "start_time": "2025-03-28T13:15:03.101Z"
   },
   {
    "duration": 256,
    "start_time": "2025-03-28T13:24:05.583Z"
   },
   {
    "duration": 87,
    "start_time": "2025-03-28T13:24:05.841Z"
   },
   {
    "duration": 6596,
    "start_time": "2025-03-28T13:24:05.929Z"
   },
   {
    "duration": 17,
    "start_time": "2025-03-28T13:24:12.527Z"
   },
   {
    "duration": 6233,
    "start_time": "2025-03-28T13:24:12.558Z"
   },
   {
    "duration": 129,
    "start_time": "2025-03-28T13:24:18.793Z"
   },
   {
    "duration": 3863,
    "start_time": "2025-03-28T13:24:18.924Z"
   },
   {
    "duration": 1553,
    "start_time": "2025-03-28T13:24:22.788Z"
   },
   {
    "duration": 5,
    "start_time": "2025-03-28T13:24:24.343Z"
   },
   {
    "duration": 13,
    "start_time": "2025-03-28T13:24:24.358Z"
   },
   {
    "duration": 0,
    "start_time": "2025-03-28T13:24:24.372Z"
   },
   {
    "duration": 0,
    "start_time": "2025-03-28T13:24:24.374Z"
   },
   {
    "duration": 2458,
    "start_time": "2025-03-28T14:45:50.917Z"
   },
   {
    "duration": 5546,
    "start_time": "2025-03-28T14:45:53.378Z"
   },
   {
    "duration": 2,
    "start_time": "2025-03-28T14:45:58.926Z"
   },
   {
    "duration": 212,
    "start_time": "2025-03-28T14:45:58.930Z"
   },
   {
    "duration": 862,
    "start_time": "2025-03-28T14:45:59.144Z"
   },
   {
    "duration": 3,
    "start_time": "2025-03-28T14:46:00.008Z"
   },
   {
    "duration": 86,
    "start_time": "2025-03-28T14:46:00.012Z"
   },
   {
    "duration": 12,
    "start_time": "2025-03-28T14:46:00.099Z"
   },
   {
    "duration": 202,
    "start_time": "2025-03-28T14:46:00.113Z"
   },
   {
    "duration": 2,
    "start_time": "2025-03-28T14:46:00.317Z"
   },
   {
    "duration": 34,
    "start_time": "2025-03-28T14:46:00.321Z"
   },
   {
    "duration": 19,
    "start_time": "2025-03-28T14:46:00.357Z"
   },
   {
    "duration": 526,
    "start_time": "2025-03-28T14:46:00.378Z"
   },
   {
    "duration": 35,
    "start_time": "2025-03-28T14:46:00.906Z"
   },
   {
    "duration": 3,
    "start_time": "2025-03-28T14:46:00.943Z"
   },
   {
    "duration": 128,
    "start_time": "2025-03-28T14:46:00.948Z"
   },
   {
    "duration": 3,
    "start_time": "2025-03-28T14:46:01.078Z"
   },
   {
    "duration": 1394,
    "start_time": "2025-03-28T14:46:01.082Z"
   },
   {
    "duration": 0,
    "start_time": "2025-03-28T14:46:02.478Z"
   },
   {
    "duration": 0,
    "start_time": "2025-03-28T14:46:02.479Z"
   },
   {
    "duration": 0,
    "start_time": "2025-03-28T14:46:02.481Z"
   },
   {
    "duration": 0,
    "start_time": "2025-03-28T14:46:02.482Z"
   },
   {
    "duration": 0,
    "start_time": "2025-03-28T14:46:02.483Z"
   },
   {
    "duration": 0,
    "start_time": "2025-03-28T14:46:02.484Z"
   },
   {
    "duration": 0,
    "start_time": "2025-03-28T14:46:02.486Z"
   },
   {
    "duration": 0,
    "start_time": "2025-03-28T14:46:02.487Z"
   },
   {
    "duration": 0,
    "start_time": "2025-03-28T14:46:02.488Z"
   },
   {
    "duration": 0,
    "start_time": "2025-03-28T14:46:02.489Z"
   },
   {
    "duration": 0,
    "start_time": "2025-03-28T14:46:02.490Z"
   },
   {
    "duration": 0,
    "start_time": "2025-03-28T14:46:02.491Z"
   },
   {
    "duration": 0,
    "start_time": "2025-03-28T14:46:02.493Z"
   },
   {
    "duration": 1,
    "start_time": "2025-03-28T14:46:02.493Z"
   },
   {
    "duration": 0,
    "start_time": "2025-03-28T14:46:02.495Z"
   },
   {
    "duration": 0,
    "start_time": "2025-03-28T14:46:02.496Z"
   },
   {
    "duration": 3,
    "start_time": "2025-03-28T14:46:48.064Z"
   },
   {
    "duration": 444,
    "start_time": "2025-03-28T14:46:50.702Z"
   },
   {
    "duration": 2516,
    "start_time": "2025-03-28T14:53:36.320Z"
   },
   {
    "duration": 5303,
    "start_time": "2025-03-28T14:53:38.839Z"
   },
   {
    "duration": 0,
    "start_time": "2025-03-28T14:53:44.147Z"
   },
   {
    "duration": 0,
    "start_time": "2025-03-28T14:53:44.149Z"
   },
   {
    "duration": 0,
    "start_time": "2025-03-28T14:53:44.158Z"
   },
   {
    "duration": 0,
    "start_time": "2025-03-28T14:53:44.159Z"
   },
   {
    "duration": 0,
    "start_time": "2025-03-28T14:53:44.161Z"
   },
   {
    "duration": 0,
    "start_time": "2025-03-28T14:53:44.162Z"
   },
   {
    "duration": 0,
    "start_time": "2025-03-28T14:53:44.164Z"
   },
   {
    "duration": 0,
    "start_time": "2025-03-28T14:53:44.165Z"
   },
   {
    "duration": 0,
    "start_time": "2025-03-28T14:53:44.166Z"
   },
   {
    "duration": 0,
    "start_time": "2025-03-28T14:53:44.168Z"
   },
   {
    "duration": 0,
    "start_time": "2025-03-28T14:53:44.169Z"
   },
   {
    "duration": 0,
    "start_time": "2025-03-28T14:53:44.170Z"
   },
   {
    "duration": 0,
    "start_time": "2025-03-28T14:53:44.172Z"
   },
   {
    "duration": 0,
    "start_time": "2025-03-28T14:53:44.173Z"
   },
   {
    "duration": 0,
    "start_time": "2025-03-28T14:53:44.175Z"
   },
   {
    "duration": 0,
    "start_time": "2025-03-28T14:53:44.176Z"
   },
   {
    "duration": 0,
    "start_time": "2025-03-28T14:53:44.177Z"
   },
   {
    "duration": 0,
    "start_time": "2025-03-28T14:53:44.179Z"
   },
   {
    "duration": 0,
    "start_time": "2025-03-28T14:53:44.180Z"
   },
   {
    "duration": 0,
    "start_time": "2025-03-28T14:53:44.181Z"
   },
   {
    "duration": 1,
    "start_time": "2025-03-28T14:53:44.182Z"
   },
   {
    "duration": 0,
    "start_time": "2025-03-28T14:53:44.184Z"
   },
   {
    "duration": 0,
    "start_time": "2025-03-28T14:53:44.185Z"
   },
   {
    "duration": 0,
    "start_time": "2025-03-28T14:53:44.186Z"
   },
   {
    "duration": 0,
    "start_time": "2025-03-28T14:53:44.187Z"
   },
   {
    "duration": 0,
    "start_time": "2025-03-28T14:53:44.188Z"
   },
   {
    "duration": 0,
    "start_time": "2025-03-28T14:53:44.189Z"
   },
   {
    "duration": 0,
    "start_time": "2025-03-28T14:53:44.190Z"
   },
   {
    "duration": 0,
    "start_time": "2025-03-28T14:53:44.192Z"
   },
   {
    "duration": 0,
    "start_time": "2025-03-28T14:53:44.193Z"
   },
   {
    "duration": 0,
    "start_time": "2025-03-28T14:53:44.194Z"
   },
   {
    "duration": 0,
    "start_time": "2025-03-28T14:53:44.258Z"
   },
   {
    "duration": 99,
    "start_time": "2025-03-28T14:54:41.910Z"
   },
   {
    "duration": 7,
    "start_time": "2025-03-28T14:57:27.843Z"
   },
   {
    "duration": 2,
    "start_time": "2025-03-28T14:57:31.139Z"
   },
   {
    "duration": 97,
    "start_time": "2025-03-28T14:57:33.619Z"
   },
   {
    "duration": 496,
    "start_time": "2025-03-28T14:57:55.283Z"
   },
   {
    "duration": 2486,
    "start_time": "2025-03-28T14:58:05.581Z"
   },
   {
    "duration": 4909,
    "start_time": "2025-03-28T14:58:08.069Z"
   },
   {
    "duration": 2,
    "start_time": "2025-03-28T14:58:12.982Z"
   },
   {
    "duration": 506,
    "start_time": "2025-03-28T14:58:12.987Z"
   },
   {
    "duration": 818,
    "start_time": "2025-03-28T14:58:13.495Z"
   },
   {
    "duration": 3,
    "start_time": "2025-03-28T14:58:14.315Z"
   },
   {
    "duration": 50,
    "start_time": "2025-03-28T14:58:14.319Z"
   },
   {
    "duration": 11,
    "start_time": "2025-03-28T14:58:14.371Z"
   },
   {
    "duration": 387,
    "start_time": "2025-03-28T14:58:14.384Z"
   },
   {
    "duration": 2,
    "start_time": "2025-03-28T14:58:14.773Z"
   },
   {
    "duration": 3,
    "start_time": "2025-03-28T14:58:14.777Z"
   },
   {
    "duration": 5,
    "start_time": "2025-03-28T14:58:14.781Z"
   },
   {
    "duration": 2401,
    "start_time": "2025-03-28T15:00:55.001Z"
   },
   {
    "duration": 5053,
    "start_time": "2025-03-28T15:00:57.405Z"
   },
   {
    "duration": 3,
    "start_time": "2025-03-28T15:01:02.459Z"
   },
   {
    "duration": 626,
    "start_time": "2025-03-28T15:01:02.463Z"
   },
   {
    "duration": 871,
    "start_time": "2025-03-28T15:01:03.091Z"
   },
   {
    "duration": 3,
    "start_time": "2025-03-28T15:01:03.964Z"
   },
   {
    "duration": 75,
    "start_time": "2025-03-28T15:01:03.968Z"
   },
   {
    "duration": 15,
    "start_time": "2025-03-28T15:01:04.044Z"
   },
   {
    "duration": 411,
    "start_time": "2025-03-28T15:01:04.061Z"
   },
   {
    "duration": 2,
    "start_time": "2025-03-28T15:01:04.474Z"
   },
   {
    "duration": 69,
    "start_time": "2025-03-28T15:01:04.478Z"
   },
   {
    "duration": 4,
    "start_time": "2025-03-28T15:01:04.549Z"
   },
   {
    "duration": 355,
    "start_time": "2025-03-28T15:01:04.555Z"
   },
   {
    "duration": 0,
    "start_time": "2025-03-28T15:01:04.912Z"
   },
   {
    "duration": 0,
    "start_time": "2025-03-28T15:01:04.914Z"
   },
   {
    "duration": 0,
    "start_time": "2025-03-28T15:01:04.914Z"
   },
   {
    "duration": 0,
    "start_time": "2025-03-28T15:01:04.915Z"
   },
   {
    "duration": 0,
    "start_time": "2025-03-28T15:01:04.916Z"
   },
   {
    "duration": 0,
    "start_time": "2025-03-28T15:01:04.918Z"
   },
   {
    "duration": 0,
    "start_time": "2025-03-28T15:01:04.919Z"
   },
   {
    "duration": 0,
    "start_time": "2025-03-28T15:01:04.920Z"
   },
   {
    "duration": 0,
    "start_time": "2025-03-28T15:01:04.922Z"
   },
   {
    "duration": 0,
    "start_time": "2025-03-28T15:01:04.922Z"
   },
   {
    "duration": 0,
    "start_time": "2025-03-28T15:01:04.924Z"
   },
   {
    "duration": 0,
    "start_time": "2025-03-28T15:01:04.924Z"
   },
   {
    "duration": 0,
    "start_time": "2025-03-28T15:01:04.926Z"
   },
   {
    "duration": 0,
    "start_time": "2025-03-28T15:01:04.927Z"
   },
   {
    "duration": 0,
    "start_time": "2025-03-28T15:01:04.958Z"
   },
   {
    "duration": 0,
    "start_time": "2025-03-28T15:01:04.959Z"
   },
   {
    "duration": 0,
    "start_time": "2025-03-28T15:01:04.960Z"
   },
   {
    "duration": 0,
    "start_time": "2025-03-28T15:01:04.962Z"
   },
   {
    "duration": 0,
    "start_time": "2025-03-28T15:01:04.963Z"
   },
   {
    "duration": 0,
    "start_time": "2025-03-28T15:01:04.964Z"
   },
   {
    "duration": 0,
    "start_time": "2025-03-28T15:01:04.965Z"
   },
   {
    "duration": 0,
    "start_time": "2025-03-28T15:01:04.966Z"
   },
   {
    "duration": 2686,
    "start_time": "2025-03-28T15:01:25.194Z"
   },
   {
    "duration": 5395,
    "start_time": "2025-03-28T15:01:27.882Z"
   },
   {
    "duration": 3,
    "start_time": "2025-03-28T15:01:33.279Z"
   },
   {
    "duration": 584,
    "start_time": "2025-03-28T15:01:33.284Z"
   },
   {
    "duration": 891,
    "start_time": "2025-03-28T15:01:33.870Z"
   },
   {
    "duration": 3,
    "start_time": "2025-03-28T15:01:34.763Z"
   },
   {
    "duration": 51,
    "start_time": "2025-03-28T15:01:34.767Z"
   },
   {
    "duration": 13,
    "start_time": "2025-03-28T15:01:34.819Z"
   },
   {
    "duration": 436,
    "start_time": "2025-03-28T15:01:34.834Z"
   },
   {
    "duration": 3,
    "start_time": "2025-03-28T15:01:35.273Z"
   },
   {
    "duration": 166,
    "start_time": "2025-03-28T15:01:35.277Z"
   },
   {
    "duration": 34,
    "start_time": "2025-03-28T15:01:35.445Z"
   },
   {
    "duration": 351,
    "start_time": "2025-03-28T15:01:35.480Z"
   },
   {
    "duration": 0,
    "start_time": "2025-03-28T15:01:35.833Z"
   },
   {
    "duration": 0,
    "start_time": "2025-03-28T15:01:35.834Z"
   },
   {
    "duration": 0,
    "start_time": "2025-03-28T15:01:35.835Z"
   },
   {
    "duration": 0,
    "start_time": "2025-03-28T15:01:35.836Z"
   },
   {
    "duration": 0,
    "start_time": "2025-03-28T15:01:35.837Z"
   },
   {
    "duration": 0,
    "start_time": "2025-03-28T15:01:35.839Z"
   },
   {
    "duration": 0,
    "start_time": "2025-03-28T15:01:35.841Z"
   },
   {
    "duration": 0,
    "start_time": "2025-03-28T15:01:35.858Z"
   },
   {
    "duration": 0,
    "start_time": "2025-03-28T15:01:35.860Z"
   },
   {
    "duration": 0,
    "start_time": "2025-03-28T15:01:35.861Z"
   },
   {
    "duration": 0,
    "start_time": "2025-03-28T15:01:35.862Z"
   },
   {
    "duration": 0,
    "start_time": "2025-03-28T15:01:35.863Z"
   },
   {
    "duration": 0,
    "start_time": "2025-03-28T15:01:35.865Z"
   },
   {
    "duration": 0,
    "start_time": "2025-03-28T15:01:35.866Z"
   },
   {
    "duration": 0,
    "start_time": "2025-03-28T15:01:35.868Z"
   },
   {
    "duration": 0,
    "start_time": "2025-03-28T15:01:35.869Z"
   },
   {
    "duration": 0,
    "start_time": "2025-03-28T15:01:35.870Z"
   },
   {
    "duration": 0,
    "start_time": "2025-03-28T15:01:35.872Z"
   },
   {
    "duration": 0,
    "start_time": "2025-03-28T15:01:35.873Z"
   },
   {
    "duration": 0,
    "start_time": "2025-03-28T15:01:35.875Z"
   },
   {
    "duration": 0,
    "start_time": "2025-03-28T15:01:35.876Z"
   },
   {
    "duration": 0,
    "start_time": "2025-03-28T15:01:35.877Z"
   },
   {
    "duration": 6,
    "start_time": "2025-03-28T15:01:55.151Z"
   },
   {
    "duration": 3138,
    "start_time": "2025-03-28T15:02:04.932Z"
   },
   {
    "duration": 4970,
    "start_time": "2025-03-28T15:02:08.072Z"
   },
   {
    "duration": 11,
    "start_time": "2025-03-28T15:02:13.047Z"
   },
   {
    "duration": 515,
    "start_time": "2025-03-28T15:02:13.060Z"
   },
   {
    "duration": 900,
    "start_time": "2025-03-28T15:02:13.577Z"
   },
   {
    "duration": 4,
    "start_time": "2025-03-28T15:02:14.478Z"
   },
   {
    "duration": 78,
    "start_time": "2025-03-28T15:02:14.484Z"
   },
   {
    "duration": 14,
    "start_time": "2025-03-28T15:02:14.564Z"
   },
   {
    "duration": 397,
    "start_time": "2025-03-28T15:02:14.579Z"
   },
   {
    "duration": 3,
    "start_time": "2025-03-28T15:02:14.978Z"
   },
   {
    "duration": 4,
    "start_time": "2025-03-28T15:02:14.982Z"
   },
   {
    "duration": 6,
    "start_time": "2025-03-28T15:02:14.987Z"
   },
   {
    "duration": 395,
    "start_time": "2025-03-28T15:02:14.996Z"
   },
   {
    "duration": 0,
    "start_time": "2025-03-28T15:02:15.393Z"
   },
   {
    "duration": 0,
    "start_time": "2025-03-28T15:02:15.394Z"
   },
   {
    "duration": 0,
    "start_time": "2025-03-28T15:02:15.395Z"
   },
   {
    "duration": 0,
    "start_time": "2025-03-28T15:02:15.396Z"
   },
   {
    "duration": 0,
    "start_time": "2025-03-28T15:02:15.397Z"
   },
   {
    "duration": 0,
    "start_time": "2025-03-28T15:02:15.398Z"
   },
   {
    "duration": 0,
    "start_time": "2025-03-28T15:02:15.399Z"
   },
   {
    "duration": 0,
    "start_time": "2025-03-28T15:02:15.401Z"
   },
   {
    "duration": 0,
    "start_time": "2025-03-28T15:02:15.402Z"
   },
   {
    "duration": 0,
    "start_time": "2025-03-28T15:02:15.403Z"
   },
   {
    "duration": 0,
    "start_time": "2025-03-28T15:02:15.403Z"
   },
   {
    "duration": 1,
    "start_time": "2025-03-28T15:02:15.404Z"
   },
   {
    "duration": 0,
    "start_time": "2025-03-28T15:02:15.406Z"
   },
   {
    "duration": 0,
    "start_time": "2025-03-28T15:02:15.407Z"
   },
   {
    "duration": 0,
    "start_time": "2025-03-28T15:02:15.408Z"
   },
   {
    "duration": 0,
    "start_time": "2025-03-28T15:02:15.409Z"
   },
   {
    "duration": 0,
    "start_time": "2025-03-28T15:02:15.410Z"
   },
   {
    "duration": 0,
    "start_time": "2025-03-28T15:02:15.412Z"
   },
   {
    "duration": 0,
    "start_time": "2025-03-28T15:02:15.413Z"
   },
   {
    "duration": 0,
    "start_time": "2025-03-28T15:02:15.414Z"
   },
   {
    "duration": 0,
    "start_time": "2025-03-28T15:02:15.415Z"
   },
   {
    "duration": 0,
    "start_time": "2025-03-28T15:02:15.416Z"
   },
   {
    "duration": 2452,
    "start_time": "2025-03-28T15:03:48.478Z"
   },
   {
    "duration": 5113,
    "start_time": "2025-03-28T15:03:50.933Z"
   },
   {
    "duration": 11,
    "start_time": "2025-03-28T15:03:56.047Z"
   },
   {
    "duration": 513,
    "start_time": "2025-03-28T15:03:56.060Z"
   },
   {
    "duration": 896,
    "start_time": "2025-03-28T15:03:56.575Z"
   },
   {
    "duration": 3,
    "start_time": "2025-03-28T15:03:57.473Z"
   },
   {
    "duration": 45,
    "start_time": "2025-03-28T15:03:57.478Z"
   },
   {
    "duration": 41,
    "start_time": "2025-03-28T15:03:57.525Z"
   },
   {
    "duration": 404,
    "start_time": "2025-03-28T15:03:57.568Z"
   },
   {
    "duration": 2,
    "start_time": "2025-03-28T15:03:57.975Z"
   },
   {
    "duration": 3,
    "start_time": "2025-03-28T15:03:57.979Z"
   },
   {
    "duration": 3,
    "start_time": "2025-03-28T15:03:57.984Z"
   },
   {
    "duration": 369,
    "start_time": "2025-03-28T15:03:57.989Z"
   },
   {
    "duration": 0,
    "start_time": "2025-03-28T15:03:58.359Z"
   },
   {
    "duration": 0,
    "start_time": "2025-03-28T15:03:58.361Z"
   },
   {
    "duration": 0,
    "start_time": "2025-03-28T15:03:58.362Z"
   },
   {
    "duration": 0,
    "start_time": "2025-03-28T15:03:58.364Z"
   },
   {
    "duration": 0,
    "start_time": "2025-03-28T15:03:58.365Z"
   },
   {
    "duration": 0,
    "start_time": "2025-03-28T15:03:58.366Z"
   },
   {
    "duration": 0,
    "start_time": "2025-03-28T15:03:58.367Z"
   },
   {
    "duration": 0,
    "start_time": "2025-03-28T15:03:58.368Z"
   },
   {
    "duration": 0,
    "start_time": "2025-03-28T15:03:58.369Z"
   },
   {
    "duration": 0,
    "start_time": "2025-03-28T15:03:58.370Z"
   },
   {
    "duration": 0,
    "start_time": "2025-03-28T15:03:58.371Z"
   },
   {
    "duration": 0,
    "start_time": "2025-03-28T15:03:58.373Z"
   },
   {
    "duration": 0,
    "start_time": "2025-03-28T15:03:58.374Z"
   },
   {
    "duration": 0,
    "start_time": "2025-03-28T15:03:58.375Z"
   },
   {
    "duration": 0,
    "start_time": "2025-03-28T15:03:58.376Z"
   },
   {
    "duration": 0,
    "start_time": "2025-03-28T15:03:58.378Z"
   },
   {
    "duration": 0,
    "start_time": "2025-03-28T15:03:58.379Z"
   },
   {
    "duration": 0,
    "start_time": "2025-03-28T15:03:58.380Z"
   },
   {
    "duration": 0,
    "start_time": "2025-03-28T15:03:58.381Z"
   },
   {
    "duration": 0,
    "start_time": "2025-03-28T15:03:58.382Z"
   },
   {
    "duration": 0,
    "start_time": "2025-03-28T15:03:58.384Z"
   },
   {
    "duration": 2490,
    "start_time": "2025-03-28T15:05:08.371Z"
   },
   {
    "duration": 5994,
    "start_time": "2025-03-28T15:05:10.864Z"
   },
   {
    "duration": 2,
    "start_time": "2025-03-28T15:05:16.860Z"
   },
   {
    "duration": 517,
    "start_time": "2025-03-28T15:05:16.864Z"
   },
   {
    "duration": 875,
    "start_time": "2025-03-28T15:05:17.384Z"
   },
   {
    "duration": 4,
    "start_time": "2025-03-28T15:05:18.260Z"
   },
   {
    "duration": 46,
    "start_time": "2025-03-28T15:05:18.265Z"
   },
   {
    "duration": 14,
    "start_time": "2025-03-28T15:05:18.313Z"
   },
   {
    "duration": 401,
    "start_time": "2025-03-28T15:05:18.329Z"
   },
   {
    "duration": 2,
    "start_time": "2025-03-28T15:05:18.733Z"
   },
   {
    "duration": 36,
    "start_time": "2025-03-28T15:05:18.737Z"
   },
   {
    "duration": 17,
    "start_time": "2025-03-28T15:05:18.775Z"
   },
   {
    "duration": 2527,
    "start_time": "2025-03-28T15:09:42.426Z"
   },
   {
    "duration": 6059,
    "start_time": "2025-03-28T15:09:44.956Z"
   },
   {
    "duration": 2,
    "start_time": "2025-03-28T15:09:51.017Z"
   },
   {
    "duration": 518,
    "start_time": "2025-03-28T15:09:51.021Z"
   },
   {
    "duration": 946,
    "start_time": "2025-03-28T15:09:51.541Z"
   },
   {
    "duration": 3,
    "start_time": "2025-03-28T15:09:52.489Z"
   },
   {
    "duration": 96,
    "start_time": "2025-03-28T15:09:52.494Z"
   },
   {
    "duration": 14,
    "start_time": "2025-03-28T15:09:52.592Z"
   },
   {
    "duration": 422,
    "start_time": "2025-03-28T15:09:52.607Z"
   },
   {
    "duration": 2,
    "start_time": "2025-03-28T15:09:53.031Z"
   },
   {
    "duration": 74,
    "start_time": "2025-03-28T15:09:53.034Z"
   },
   {
    "duration": 9,
    "start_time": "2025-03-28T15:09:53.109Z"
   },
   {
    "duration": 25,
    "start_time": "2025-03-28T15:09:53.119Z"
   },
   {
    "duration": 3477,
    "start_time": "2025-03-28T15:14:03.805Z"
   },
   {
    "duration": 5166,
    "start_time": "2025-03-28T15:14:07.285Z"
   },
   {
    "duration": 5,
    "start_time": "2025-03-28T15:14:12.453Z"
   },
   {
    "duration": 626,
    "start_time": "2025-03-28T15:14:12.460Z"
   },
   {
    "duration": 911,
    "start_time": "2025-03-28T15:14:13.088Z"
   },
   {
    "duration": 7,
    "start_time": "2025-03-28T15:14:14.003Z"
   },
   {
    "duration": 58,
    "start_time": "2025-03-28T15:14:14.011Z"
   },
   {
    "duration": 19,
    "start_time": "2025-03-28T15:14:14.071Z"
   },
   {
    "duration": 433,
    "start_time": "2025-03-28T15:14:14.091Z"
   },
   {
    "duration": 2,
    "start_time": "2025-03-28T15:14:14.526Z"
   },
   {
    "duration": 17,
    "start_time": "2025-03-28T15:14:14.530Z"
   },
   {
    "duration": 4,
    "start_time": "2025-03-28T15:14:14.548Z"
   },
   {
    "duration": 24,
    "start_time": "2025-03-28T15:14:14.557Z"
   },
   {
    "duration": 2293310,
    "start_time": "2025-03-28T15:14:14.584Z"
   },
   {
    "duration": 71,
    "start_time": "2025-03-28T15:52:27.896Z"
   },
   {
    "duration": 32,
    "start_time": "2025-03-28T15:52:27.969Z"
   },
   {
    "duration": 75,
    "start_time": "2025-03-28T15:52:28.003Z"
   },
   {
    "duration": 3,
    "start_time": "2025-03-28T15:52:28.080Z"
   },
   {
    "duration": 6,
    "start_time": "2025-03-28T15:52:28.084Z"
   },
   {
    "duration": 6579,
    "start_time": "2025-03-28T15:52:28.091Z"
   },
   {
    "duration": 5,
    "start_time": "2025-03-28T15:52:34.672Z"
   },
   {
    "duration": 34,
    "start_time": "2025-03-28T15:52:34.678Z"
   },
   {
    "duration": 483160,
    "start_time": "2025-03-28T15:52:34.714Z"
   },
   {
    "duration": 2305704,
    "start_time": "2025-03-28T16:00:37.876Z"
   },
   {
    "duration": 1663738,
    "start_time": "2025-03-28T16:39:03.582Z"
   },
   {
    "duration": 5082,
    "start_time": "2025-03-28T17:06:47.322Z"
   },
   {
    "duration": 13,
    "start_time": "2025-03-28T17:06:52.406Z"
   },
   {
    "duration": 5470,
    "start_time": "2025-03-28T17:06:52.420Z"
   },
   {
    "duration": 121,
    "start_time": "2025-03-28T17:06:57.892Z"
   },
   {
    "duration": 3755,
    "start_time": "2025-03-28T17:06:58.015Z"
   },
   {
    "duration": 1315,
    "start_time": "2025-03-28T17:07:01.772Z"
   },
   {
    "duration": 6,
    "start_time": "2025-03-28T17:07:03.089Z"
   },
   {
    "duration": 22,
    "start_time": "2025-03-28T17:07:03.097Z"
   },
   {
    "duration": 13,
    "start_time": "2025-03-28T17:07:03.121Z"
   },
   {
    "duration": 43,
    "start_time": "2025-03-28T17:07:03.136Z"
   },
   {
    "duration": 26270,
    "start_time": "2025-03-28T17:09:03.298Z"
   },
   {
    "duration": 14,
    "start_time": "2025-03-28T17:09:35.392Z"
   },
   {
    "duration": 18,
    "start_time": "2025-03-28T17:09:43.568Z"
   },
   {
    "duration": 2392,
    "start_time": "2025-03-28T17:10:35.639Z"
   },
   {
    "duration": 4991,
    "start_time": "2025-03-28T17:10:38.034Z"
   },
   {
    "duration": 2,
    "start_time": "2025-03-28T17:10:43.027Z"
   },
   {
    "duration": 543,
    "start_time": "2025-03-28T17:10:43.031Z"
   },
   {
    "duration": 887,
    "start_time": "2025-03-28T17:10:43.576Z"
   },
   {
    "duration": 4,
    "start_time": "2025-03-28T17:10:44.464Z"
   },
   {
    "duration": 43,
    "start_time": "2025-03-28T17:10:44.469Z"
   },
   {
    "duration": 13,
    "start_time": "2025-03-28T17:10:44.513Z"
   },
   {
    "duration": 406,
    "start_time": "2025-03-28T17:10:44.528Z"
   },
   {
    "duration": 4,
    "start_time": "2025-03-28T17:10:44.935Z"
   },
   {
    "duration": 36,
    "start_time": "2025-03-28T17:10:44.940Z"
   },
   {
    "duration": 2291755,
    "start_time": "2025-03-28T17:10:44.978Z"
   },
   {
    "duration": 70,
    "start_time": "2025-03-28T17:48:56.735Z"
   },
   {
    "duration": 32,
    "start_time": "2025-03-28T17:48:56.808Z"
   },
   {
    "duration": 72,
    "start_time": "2025-03-28T17:48:56.842Z"
   },
   {
    "duration": 4,
    "start_time": "2025-03-28T17:48:56.915Z"
   },
   {
    "duration": 3,
    "start_time": "2025-03-28T17:48:56.920Z"
   },
   {
    "duration": 6527,
    "start_time": "2025-03-28T17:48:56.925Z"
   },
   {
    "duration": 8,
    "start_time": "2025-03-28T17:49:03.453Z"
   },
   {
    "duration": 23,
    "start_time": "2025-03-28T17:49:03.462Z"
   },
   {
    "duration": 485489,
    "start_time": "2025-03-28T17:49:03.486Z"
   },
   {
    "duration": 2355759,
    "start_time": "2025-03-28T17:57:08.977Z"
   },
   {
    "duration": 1785884,
    "start_time": "2025-03-28T18:36:24.738Z"
   },
   {
    "duration": 23545,
    "start_time": "2025-03-28T19:06:10.624Z"
   },
   {
    "duration": 14,
    "start_time": "2025-03-28T19:06:34.171Z"
   },
   {
    "duration": 56784,
    "start_time": "2025-03-28T19:06:34.186Z"
   },
   {
    "duration": 128,
    "start_time": "2025-03-28T19:07:30.972Z"
   },
   {
    "duration": 11840,
    "start_time": "2025-03-28T19:07:31.102Z"
   },
   {
    "duration": 497,
    "start_time": "2025-03-28T19:07:42.943Z"
   },
   {
    "duration": 27,
    "start_time": "2025-03-28T19:07:43.442Z"
   },
   {
    "duration": 4,
    "start_time": "2025-03-28T19:07:43.471Z"
   },
   {
    "duration": 10,
    "start_time": "2025-03-28T19:07:43.477Z"
   },
   {
    "duration": 16,
    "start_time": "2025-03-28T19:07:43.488Z"
   }
  ],
  "kernelspec": {
   "display_name": "Python 3 (ipykernel)",
   "language": "python",
   "name": "python3"
  },
  "language_info": {
   "codemirror_mode": {
    "name": "ipython",
    "version": 3
   },
   "file_extension": ".py",
   "mimetype": "text/x-python",
   "name": "python",
   "nbconvert_exporter": "python",
   "pygments_lexer": "ipython3",
   "version": "3.12.7"
  },
  "toc": {
   "base_numbering": 1,
   "nav_menu": {},
   "number_sections": true,
   "sideBar": true,
   "skip_h1_title": true,
   "title_cell": "Содержание",
   "title_sidebar": "Contents",
   "toc_cell": true,
   "toc_position": {
    "height": "calc(100% - 180px)",
    "left": "10px",
    "top": "150px",
    "width": "302.391px"
   },
   "toc_section_display": true,
   "toc_window_display": true
  }
 },
 "nbformat": 4,
 "nbformat_minor": 4
}
